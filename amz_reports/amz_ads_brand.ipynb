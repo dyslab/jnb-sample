{
 "cells": [
  {
   "cell_type": "markdown",
   "metadata": {},
   "source": [
    "Doc title: **Amazon Advertising Brands Keyword Placement Report**\n",
    "\n",
    "Article notes: Data came from 'Reports/Advertising Reports/Sponsored Brands/Keyword Placement Report' @Amazon Seller Central.\n",
    "\n",
    "文章备注：亚马逊后台品牌广告报告分析\n",
    "\n",
    "Last modified date: 2019-08-05 04:05:36 "
   ]
  },
  {
   "cell_type": "code",
   "execution_count": 1,
   "metadata": {
    "ExecuteTime": {
     "end_time": "2019-08-04T20:15:30.959836Z",
     "start_time": "2019-08-04T20:15:30.936807Z"
    }
   },
   "outputs": [],
   "source": [
    "# 引入pandas数据分析模块\n",
    "import pandas as pd\n",
    "\n",
    "# 数据范例：美国站，月度数据\n",
    "workdf = pd.read_excel('data/amz_ads_brand_target_us_201907.xlsx', usecols=['广告活动名称', '匹配类型', '投放', '投放类型', '展现量', '点击量', '花费', '14天总订单数(#)', '14天总销售额(￥)', '14天总销售量(#)', '14天内“品牌新买家”订单数量(#)', '14天内“品牌新买家”销售额(￥)', '14天内“品牌新买家”商品数量(#)'])"
   ]
  },
  {
   "cell_type": "markdown",
   "metadata": {
    "ExecuteTime": {
     "end_time": "2019-07-22T07:53:58.056238Z",
     "start_time": "2019-07-22T07:53:58.053564Z"
    }
   },
   "source": [
    "# 品牌广告活动数据排序（以销量为取值标准）"
   ]
  },
  {
   "cell_type": "code",
   "execution_count": 2,
   "metadata": {
    "ExecuteTime": {
     "end_time": "2019-08-04T20:15:31.123286Z",
     "start_time": "2019-08-04T20:15:30.961614Z"
    }
   },
   "outputs": [
    {
     "data": {
      "text/html": [
       "<div>\n",
       "<style scoped>\n",
       "    .dataframe tbody tr th:only-of-type {\n",
       "        vertical-align: middle;\n",
       "    }\n",
       "\n",
       "    .dataframe tbody tr th {\n",
       "        vertical-align: top;\n",
       "    }\n",
       "\n",
       "    .dataframe thead th {\n",
       "        text-align: right;\n",
       "    }\n",
       "</style>\n",
       "<table border=\"1\" class=\"dataframe\">\n",
       "  <thead>\n",
       "    <tr style=\"text-align: right;\">\n",
       "      <th></th>\n",
       "      <th>展现量</th>\n",
       "      <th>点击量</th>\n",
       "      <th>花费</th>\n",
       "      <th>总销售额</th>\n",
       "      <th>总销售量</th>\n",
       "      <th>点击率</th>\n",
       "      <th>卖出1件商品的平均花费</th>\n",
       "    </tr>\n",
       "    <tr>\n",
       "      <th>广告活动名称</th>\n",
       "      <th></th>\n",
       "      <th></th>\n",
       "      <th></th>\n",
       "      <th></th>\n",
       "      <th></th>\n",
       "      <th></th>\n",
       "      <th></th>\n",
       "    </tr>\n",
       "  </thead>\n",
       "  <tbody>\n",
       "    <tr>\n",
       "      <th>The Comfortable Flip Flops For Women2019</th>\n",
       "      <td>191744</td>\n",
       "      <td>2593</td>\n",
       "      <td>926.83</td>\n",
       "      <td>2966.16</td>\n",
       "      <td>184</td>\n",
       "      <td>1.35</td>\n",
       "      <td>5.04</td>\n",
       "    </tr>\n",
       "    <tr>\n",
       "      <th>男款推广男鞋</th>\n",
       "      <td>162464</td>\n",
       "      <td>417</td>\n",
       "      <td>129.46</td>\n",
       "      <td>156.90</td>\n",
       "      <td>10</td>\n",
       "      <td>0.26</td>\n",
       "      <td>12.95</td>\n",
       "    </tr>\n",
       "  </tbody>\n",
       "</table>\n",
       "</div>"
      ],
      "text/plain": [
       "                                             展现量   点击量      花费     总销售额  总销售量  \\\n",
       "广告活动名称                                                                          \n",
       "The Comfortable Flip Flops For Women2019  191744  2593  926.83  2966.16   184   \n",
       "男款推广男鞋                                    162464   417  129.46   156.90    10   \n",
       "\n",
       "                                           点击率  卖出1件商品的平均花费  \n",
       "广告活动名称                                                       \n",
       "The Comfortable Flip Flops For Women2019  1.35         5.04  \n",
       "男款推广男鞋                                    0.26        12.95  "
      ]
     },
     "execution_count": 2,
     "metadata": {},
     "output_type": "execute_result"
    }
   ],
   "source": [
    "# Manipulating data and column names.\n",
    "impr_df = workdf.groupby(['广告活动名称']).sum().sort_values(by=['14天总销售量(#)'], ascending=False).head(20)\n",
    "impr_df['总销售额'] = impr_df['14天总销售额(￥)']\n",
    "impr_df['总销售量'] = impr_df['14天总销售量(#)']\n",
    "impr_df = impr_df[['展现量', '点击量', '花费', '总销售额', '总销售量']]\n",
    "impr_df['点击率'] = round((impr_df['点击量'] / impr_df['展现量'] * 100), 2)\n",
    "impr_df['卖出1件商品的平均花费'] = round(impr_df['花费'] / impr_df['总销售量'], 2)\n",
    "\n",
    "impr_df.sort_values(by=['卖出1件商品的平均花费'])"
   ]
  },
  {
   "cell_type": "markdown",
   "metadata": {},
   "source": [
    "此表解决的问题为：\n",
    "\n",
    "- 找出销量最高的品牌广告活动。\n",
    "\n",
    "- 找出最具性价比的品牌广告活动。（卖出1件商品花费越小，则性价比越高）"
   ]
  },
  {
   "cell_type": "markdown",
   "metadata": {
    "ExecuteTime": {
     "end_time": "2019-07-22T07:53:58.056238Z",
     "start_time": "2019-07-22T07:53:58.053564Z"
    }
   },
   "source": [
    "# 品牌广告活动投放数据排序（以展现量为取值标准）"
   ]
  },
  {
   "cell_type": "code",
   "execution_count": 3,
   "metadata": {
    "ExecuteTime": {
     "end_time": "2019-08-04T20:15:31.244886Z",
     "start_time": "2019-08-04T20:15:31.125746Z"
    }
   },
   "outputs": [
    {
     "data": {
      "text/html": [
       "<div>\n",
       "<style scoped>\n",
       "    .dataframe tbody tr th:only-of-type {\n",
       "        vertical-align: middle;\n",
       "    }\n",
       "\n",
       "    .dataframe tbody tr th {\n",
       "        vertical-align: top;\n",
       "    }\n",
       "\n",
       "    .dataframe thead th {\n",
       "        text-align: right;\n",
       "    }\n",
       "</style>\n",
       "<table border=\"1\" class=\"dataframe\">\n",
       "  <thead>\n",
       "    <tr style=\"text-align: right;\">\n",
       "      <th></th>\n",
       "      <th></th>\n",
       "      <th></th>\n",
       "      <th>展现量</th>\n",
       "      <th>点击量</th>\n",
       "      <th>花费</th>\n",
       "      <th>总销售额</th>\n",
       "      <th>总销售量</th>\n",
       "      <th>性价比(总销售额/花费)</th>\n",
       "    </tr>\n",
       "    <tr>\n",
       "      <th>广告活动名称</th>\n",
       "      <th>匹配类型</th>\n",
       "      <th>投放</th>\n",
       "      <th></th>\n",
       "      <th></th>\n",
       "      <th></th>\n",
       "      <th></th>\n",
       "      <th></th>\n",
       "      <th></th>\n",
       "    </tr>\n",
       "  </thead>\n",
       "  <tbody>\n",
       "    <tr>\n",
       "      <th>The Comfortable Flip Flops For Women2019</th>\n",
       "      <th>EXACT</th>\n",
       "      <th>flip flops for women</th>\n",
       "      <td>191744</td>\n",
       "      <td>2593</td>\n",
       "      <td>926.83</td>\n",
       "      <td>2966.16</td>\n",
       "      <td>184</td>\n",
       "      <td>3.20</td>\n",
       "    </tr>\n",
       "    <tr>\n",
       "      <th rowspan=\"2\" valign=\"top\">男款推广男鞋</th>\n",
       "      <th>BROAD</th>\n",
       "      <th>flip flop for men</th>\n",
       "      <td>94120</td>\n",
       "      <td>235</td>\n",
       "      <td>73.36</td>\n",
       "      <td>108.93</td>\n",
       "      <td>7</td>\n",
       "      <td>1.48</td>\n",
       "    </tr>\n",
       "    <tr>\n",
       "      <th>PHRASE</th>\n",
       "      <th>flip flop men</th>\n",
       "      <td>68344</td>\n",
       "      <td>182</td>\n",
       "      <td>56.10</td>\n",
       "      <td>47.97</td>\n",
       "      <td>3</td>\n",
       "      <td>0.86</td>\n",
       "    </tr>\n",
       "  </tbody>\n",
       "</table>\n",
       "</div>"
      ],
      "text/plain": [
       "                                                                         展现量  \\\n",
       "广告活动名称                                   匹配类型   投放                             \n",
       "The Comfortable Flip Flops For Women2019 EXACT  flip flops for women  191744   \n",
       "男款推广男鞋                                   BROAD  flip flop for men      94120   \n",
       "                                         PHRASE flip flop men          68344   \n",
       "\n",
       "                                                                       点击量  \\\n",
       "广告活动名称                                   匹配类型   投放                           \n",
       "The Comfortable Flip Flops For Women2019 EXACT  flip flops for women  2593   \n",
       "男款推广男鞋                                   BROAD  flip flop for men      235   \n",
       "                                         PHRASE flip flop men          182   \n",
       "\n",
       "                                                                          花费  \\\n",
       "广告活动名称                                   匹配类型   投放                             \n",
       "The Comfortable Flip Flops For Women2019 EXACT  flip flops for women  926.83   \n",
       "男款推广男鞋                                   BROAD  flip flop for men      73.36   \n",
       "                                         PHRASE flip flop men          56.10   \n",
       "\n",
       "                                                                         总销售额  \\\n",
       "广告活动名称                                   匹配类型   投放                              \n",
       "The Comfortable Flip Flops For Women2019 EXACT  flip flops for women  2966.16   \n",
       "男款推广男鞋                                   BROAD  flip flop for men      108.93   \n",
       "                                         PHRASE flip flop men           47.97   \n",
       "\n",
       "                                                                      总销售量  \\\n",
       "广告活动名称                                   匹配类型   投放                           \n",
       "The Comfortable Flip Flops For Women2019 EXACT  flip flops for women   184   \n",
       "男款推广男鞋                                   BROAD  flip flop for men        7   \n",
       "                                         PHRASE flip flop men            3   \n",
       "\n",
       "                                                                      性价比(总销售额/花费)  \n",
       "广告活动名称                                   匹配类型   投放                                  \n",
       "The Comfortable Flip Flops For Women2019 EXACT  flip flops for women          3.20  \n",
       "男款推广男鞋                                   BROAD  flip flop for men             1.48  \n",
       "                                         PHRASE flip flop men                 0.86  "
      ]
     },
     "execution_count": 3,
     "metadata": {},
     "output_type": "execute_result"
    }
   ],
   "source": [
    "# Manipulating data and column names.\n",
    "target_df = workdf.groupby(['广告活动名称', '匹配类型', '投放']).sum().sort_values(by=['展现量'], ascending=False).head(20)\n",
    "target_df['总销售额'] = target_df['14天总销售额(￥)']\n",
    "target_df['总销售量'] = target_df['14天总销售量(#)']\n",
    "target_df = target_df[['展现量', '点击量', '花费', '总销售额', '总销售量']]\n",
    "target_df['性价比(总销售额/花费)'] = round(target_df['总销售额'] / target_df['花费'], 2)\n",
    "\n",
    "target_df.sort_values(by=['性价比(总销售额/花费)'], ascending=False)"
   ]
  },
  {
   "cell_type": "markdown",
   "metadata": {},
   "source": [
    "此表解决的问题为：\n",
    "\n",
    "- 找出最具性价比的品牌广告活动投放项目。"
   ]
  },
  {
   "cell_type": "markdown",
   "metadata": {
    "ExecuteTime": {
     "end_time": "2019-07-22T07:53:58.056238Z",
     "start_time": "2019-07-22T07:53:58.053564Z"
    }
   },
   "source": [
    "# 品牌广告活动投放类型数据排序（以展现量为取值标准）"
   ]
  },
  {
   "cell_type": "code",
   "execution_count": 4,
   "metadata": {
    "ExecuteTime": {
     "end_time": "2019-08-04T20:15:31.391988Z",
     "start_time": "2019-08-04T20:15:31.251218Z"
    }
   },
   "outputs": [
    {
     "data": {
      "text/html": [
       "<div>\n",
       "<style scoped>\n",
       "    .dataframe tbody tr th:only-of-type {\n",
       "        vertical-align: middle;\n",
       "    }\n",
       "\n",
       "    .dataframe tbody tr th {\n",
       "        vertical-align: top;\n",
       "    }\n",
       "\n",
       "    .dataframe thead th {\n",
       "        text-align: right;\n",
       "    }\n",
       "</style>\n",
       "<table border=\"1\" class=\"dataframe\">\n",
       "  <thead>\n",
       "    <tr style=\"text-align: right;\">\n",
       "      <th></th>\n",
       "      <th>展现量</th>\n",
       "      <th>点击量</th>\n",
       "      <th>花费</th>\n",
       "      <th>总销售额</th>\n",
       "      <th>总销售量</th>\n",
       "      <th>性价比(总销售额/花费)</th>\n",
       "    </tr>\n",
       "    <tr>\n",
       "      <th>投放类型</th>\n",
       "      <th></th>\n",
       "      <th></th>\n",
       "      <th></th>\n",
       "      <th></th>\n",
       "      <th></th>\n",
       "      <th></th>\n",
       "    </tr>\n",
       "  </thead>\n",
       "  <tbody>\n",
       "    <tr>\n",
       "      <th>Other Placements</th>\n",
       "      <td>229005</td>\n",
       "      <td>487</td>\n",
       "      <td>131.45</td>\n",
       "      <td>447.72</td>\n",
       "      <td>28</td>\n",
       "      <td>3.41</td>\n",
       "    </tr>\n",
       "    <tr>\n",
       "      <th>Top of Search</th>\n",
       "      <td>125203</td>\n",
       "      <td>2523</td>\n",
       "      <td>924.84</td>\n",
       "      <td>2675.34</td>\n",
       "      <td>166</td>\n",
       "      <td>2.89</td>\n",
       "    </tr>\n",
       "  </tbody>\n",
       "</table>\n",
       "</div>"
      ],
      "text/plain": [
       "                     展现量   点击量      花费     总销售额  总销售量  性价比(总销售额/花费)\n",
       "投放类型                                                               \n",
       "Other Placements  229005   487  131.45   447.72    28          3.41\n",
       "Top of Search     125203  2523  924.84  2675.34   166          2.89"
      ]
     },
     "execution_count": 4,
     "metadata": {},
     "output_type": "execute_result"
    }
   ],
   "source": [
    "# Manipulating data and column names.\n",
    "target_df = workdf.groupby(['投放类型']).sum().sort_values(by=['展现量'], ascending=False).head(20)\n",
    "target_df['总销售额'] = target_df['14天总销售额(￥)']\n",
    "target_df['总销售量'] = target_df['14天总销售量(#)']\n",
    "target_df = target_df[['展现量', '点击量', '花费', '总销售额', '总销售量']]\n",
    "target_df['性价比(总销售额/花费)'] = round(target_df['总销售额'] / target_df['花费'], 2)\n",
    "\n",
    "target_df.sort_values(by=['性价比(总销售额/花费)'], ascending=False)"
   ]
  },
  {
   "cell_type": "markdown",
   "metadata": {},
   "source": [
    "此表解决的问题为：\n",
    "\n",
    "- 比较投放类型的性价比高低。"
   ]
  },
  {
   "cell_type": "markdown",
   "metadata": {
    "ExecuteTime": {
     "end_time": "2019-07-22T07:53:58.056238Z",
     "start_time": "2019-07-22T07:53:58.053564Z"
    }
   },
   "source": [
    "# 品牌广告活动“品牌新买家”（new-to-brand metrics）的数据分析"
   ]
  },
  {
   "cell_type": "markdown",
   "metadata": {},
   "source": [
    "“品牌新买家”（new-to-brand metrics）：指的是第一次购买本品牌的客户，用于衡量品牌影响力、客户忠诚度和制定品牌促销的广告策略。"
   ]
  },
  {
   "cell_type": "code",
   "execution_count": 5,
   "metadata": {
    "ExecuteTime": {
     "end_time": "2019-08-04T20:15:31.482722Z",
     "start_time": "2019-08-04T20:15:31.394145Z"
    }
   },
   "outputs": [
    {
     "name": "stdout",
     "output_type": "stream",
     "text": [
      "品牌广告总销量：194件，“品牌新买家”销量：174件，占比：89.69%\n",
      "品牌广告总销量额：3123.00美元，“品牌新买家”销售额：2801.00美元，占比：89.69%\n"
     ]
    }
   ],
   "source": [
    "b_total = int(workdf[['14天总销售量(#)']].sum())\n",
    "b_newbuyer = int(workdf[['14天内“品牌新买家”商品数量(#)']].sum())\n",
    "bval_total = int(workdf[['14天总销售额(￥)']].sum())\n",
    "bval_newbuyer = int(workdf[['14天内“品牌新买家”销售额(￥)']].sum())\n",
    "\n",
    "print('品牌广告总销量：{0:.0f}件，“品牌新买家”销量：{1:.0f}件，占比：{2:.2f}%'.format(b_total, b_newbuyer, b_newbuyer / b_total * 100))\n",
    "print('品牌广告总销量额：{0:.2f}美元，“品牌新买家”销售额：{1:.2f}美元，占比：{2:.2f}%'.format(bval_total, bval_newbuyer, bval_newbuyer / bval_total * 100))"
   ]
  },
  {
   "cell_type": "code",
   "execution_count": 6,
   "metadata": {
    "ExecuteTime": {
     "end_time": "2019-08-04T20:15:31.561558Z",
     "start_time": "2019-08-04T20:15:31.487652Z"
    }
   },
   "outputs": [
    {
     "data": {
      "text/html": [
       "<div>\n",
       "<style scoped>\n",
       "    .dataframe tbody tr th:only-of-type {\n",
       "        vertical-align: middle;\n",
       "    }\n",
       "\n",
       "    .dataframe tbody tr th {\n",
       "        vertical-align: top;\n",
       "    }\n",
       "\n",
       "    .dataframe thead th {\n",
       "        text-align: right;\n",
       "    }\n",
       "</style>\n",
       "<table border=\"1\" class=\"dataframe\">\n",
       "  <thead>\n",
       "    <tr style=\"text-align: right;\">\n",
       "      <th></th>\n",
       "      <th>展现量</th>\n",
       "      <th>点击量</th>\n",
       "      <th>花费</th>\n",
       "      <th>总销售额</th>\n",
       "      <th>总销售量</th>\n",
       "      <th>“品牌新买家”销售额</th>\n",
       "      <th>“品牌新买家”销售量</th>\n",
       "      <th>“品牌新买家”订单率</th>\n",
       "    </tr>\n",
       "    <tr>\n",
       "      <th>广告活动名称</th>\n",
       "      <th></th>\n",
       "      <th></th>\n",
       "      <th></th>\n",
       "      <th></th>\n",
       "      <th></th>\n",
       "      <th></th>\n",
       "      <th></th>\n",
       "      <th></th>\n",
       "    </tr>\n",
       "  </thead>\n",
       "  <tbody>\n",
       "    <tr>\n",
       "      <th>The Comfortable Flip Flops For Women2019</th>\n",
       "      <td>191744</td>\n",
       "      <td>2593</td>\n",
       "      <td>926.83</td>\n",
       "      <td>2966.16</td>\n",
       "      <td>184</td>\n",
       "      <td>2644.36</td>\n",
       "      <td>164</td>\n",
       "      <td>6.32</td>\n",
       "    </tr>\n",
       "    <tr>\n",
       "      <th>男款推广男鞋</th>\n",
       "      <td>162464</td>\n",
       "      <td>417</td>\n",
       "      <td>129.46</td>\n",
       "      <td>156.90</td>\n",
       "      <td>10</td>\n",
       "      <td>156.90</td>\n",
       "      <td>10</td>\n",
       "      <td>2.40</td>\n",
       "    </tr>\n",
       "  </tbody>\n",
       "</table>\n",
       "</div>"
      ],
      "text/plain": [
       "                                             展现量   点击量      花费     总销售额  总销售量  \\\n",
       "广告活动名称                                                                          \n",
       "The Comfortable Flip Flops For Women2019  191744  2593  926.83  2966.16   184   \n",
       "男款推广男鞋                                    162464   417  129.46   156.90    10   \n",
       "\n",
       "                                          “品牌新买家”销售额  “品牌新买家”销售量  “品牌新买家”订单率  \n",
       "广告活动名称                                                                        \n",
       "The Comfortable Flip Flops For Women2019     2644.36         164        6.32  \n",
       "男款推广男鞋                                        156.90          10        2.40  "
      ]
     },
     "execution_count": 6,
     "metadata": {},
     "output_type": "execute_result"
    }
   ],
   "source": [
    "newb_df = workdf.groupby(['广告活动名称']).sum()\n",
    "newb_df['总销售额'] = newb_df['14天总销售额(￥)']\n",
    "newb_df['总销售量'] = newb_df['14天总销售量(#)']\n",
    "newb_df['“品牌新买家”销售额'] = newb_df['14天内“品牌新买家”销售额(￥)']\n",
    "newb_df['“品牌新买家”销售量'] = newb_df['14天内“品牌新买家”商品数量(#)']\n",
    "newb_df['“品牌新买家”订单量'] = newb_df['14天内“品牌新买家”订单数量(#)']\n",
    "newb_df['“品牌新买家”订单率'] = round(newb_df['“品牌新买家”订单量'] / newb_df['点击量'] * 100, 2)\n",
    "\n",
    "newb_df[['展现量', '点击量', '花费', '总销售额', '总销售量', '“品牌新买家”销售额', '“品牌新买家”销售量', '“品牌新买家”订单率']].sort_values(by=['展现量'], ascending=False)"
   ]
  },
  {
   "cell_type": "markdown",
   "metadata": {},
   "source": [
    "*注：“品牌新买家”订单率 = “品牌新买家”订单量 / 点击量*\n",
    "\n",
    "此表解决的问题为：\n",
    "\n",
    "- 对“品牌新买家”所占品牌广告销量的比例情况有所了解。"
   ]
  },
  {
   "cell_type": "markdown",
   "metadata": {
    "ExecuteTime": {
     "end_time": "2019-07-22T07:53:58.056238Z",
     "start_time": "2019-07-22T07:53:58.053564Z"
    }
   },
   "source": [
    "# 品牌广告活动订单率情况"
   ]
  },
  {
   "cell_type": "code",
   "execution_count": 7,
   "metadata": {
    "ExecuteTime": {
     "end_time": "2019-08-04T20:15:31.633279Z",
     "start_time": "2019-08-04T20:15:31.564104Z"
    }
   },
   "outputs": [
    {
     "data": {
      "text/html": [
       "<div>\n",
       "<style scoped>\n",
       "    .dataframe tbody tr th:only-of-type {\n",
       "        vertical-align: middle;\n",
       "    }\n",
       "\n",
       "    .dataframe tbody tr th {\n",
       "        vertical-align: top;\n",
       "    }\n",
       "\n",
       "    .dataframe thead th {\n",
       "        text-align: right;\n",
       "    }\n",
       "</style>\n",
       "<table border=\"1\" class=\"dataframe\">\n",
       "  <thead>\n",
       "    <tr style=\"text-align: right;\">\n",
       "      <th></th>\n",
       "      <th>点击量</th>\n",
       "      <th>总订单量</th>\n",
       "      <th>订单率</th>\n",
       "    </tr>\n",
       "    <tr>\n",
       "      <th>广告活动名称</th>\n",
       "      <th></th>\n",
       "      <th></th>\n",
       "      <th></th>\n",
       "    </tr>\n",
       "  </thead>\n",
       "  <tbody>\n",
       "    <tr>\n",
       "      <th>The Comfortable Flip Flops For Women2019</th>\n",
       "      <td>2593</td>\n",
       "      <td>184</td>\n",
       "      <td>7.1</td>\n",
       "    </tr>\n",
       "    <tr>\n",
       "      <th>男款推广男鞋</th>\n",
       "      <td>417</td>\n",
       "      <td>10</td>\n",
       "      <td>2.4</td>\n",
       "    </tr>\n",
       "  </tbody>\n",
       "</table>\n",
       "</div>"
      ],
      "text/plain": [
       "                                           点击量  总订单量  订单率\n",
       "广告活动名称                                                   \n",
       "The Comfortable Flip Flops For Women2019  2593   184  7.1\n",
       "男款推广男鞋                                     417    10  2.4"
      ]
     },
     "execution_count": 7,
     "metadata": {},
     "output_type": "execute_result"
    }
   ],
   "source": [
    "newb_df = workdf.groupby(['广告活动名称']).sum()\n",
    "newb_df['总订单量'] = newb_df['14天总订单数(#)']\n",
    "newb_df['订单率'] = round(newb_df['总订单量'] / newb_df['点击量'] * 100, 2)\n",
    "\n",
    "newb_df[['点击量', '总订单量', '订单率']].sort_values(by=['订单率'], ascending=False).fillna(0)"
   ]
  },
  {
   "cell_type": "markdown",
   "metadata": {},
   "source": [
    "*注：订单率 = 订单量 / 点击量*\n",
    "\n",
    "此表解决的问题为：\n",
    "\n",
    "- 了解品牌广告的订单率情况。产品广告的相关情况可见 **[amz_ads_target.ipynb](amz_ads_target.ipynb)** 的相关部分说明。"
   ]
  },
  {
   "cell_type": "markdown",
   "metadata": {},
   "source": [
    "**[返回目录](amz_ads_catalog.ipynb)**"
   ]
  }
 ],
 "metadata": {
  "kernelspec": {
   "display_name": "Python 3",
   "language": "python",
   "name": "python3"
  },
  "language_info": {
   "codemirror_mode": {
    "name": "ipython",
    "version": 3
   },
   "file_extension": ".py",
   "mimetype": "text/x-python",
   "name": "python",
   "nbconvert_exporter": "python",
   "pygments_lexer": "ipython3",
   "version": "3.7.3"
  },
  "latex_envs": {
   "LaTeX_envs_menu_present": true,
   "autoclose": false,
   "autocomplete": true,
   "bibliofile": "biblio.bib",
   "cite_by": "apalike",
   "current_citInitial": 1,
   "eqLabelWithNumbers": true,
   "eqNumInitial": 1,
   "hotkeys": {
    "equation": "Ctrl-E",
    "itemize": "Ctrl-I"
   },
   "labels_anchors": false,
   "latex_user_defs": false,
   "report_style_numbering": false,
   "user_envs_cfg": false
  },
  "toc": {
   "base_numbering": 1,
   "nav_menu": {},
   "number_sections": true,
   "sideBar": true,
   "skip_h1_title": false,
   "title_cell": "Table of Contents",
   "title_sidebar": "Contents",
   "toc_cell": false,
   "toc_position": {},
   "toc_section_display": true,
   "toc_window_display": false
  }
 },
 "nbformat": 4,
 "nbformat_minor": 2
}
