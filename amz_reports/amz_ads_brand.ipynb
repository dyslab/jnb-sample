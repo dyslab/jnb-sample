{
 "cells": [
  {
   "cell_type": "markdown",
   "metadata": {},
   "source": [
    "Doc title: **Amazon Advertising Brands Keyword Placement Report**\n",
    "\n",
    "Article notes: Data came from 'Reports/Advertising Reports/Sponsored Brands/Keyword Placement Report' @Amazon Seller Central.\n",
    "\n",
    "文章备注：亚马逊后台品牌广告报告分析\n",
    "\n",
    "Last modified date: 2019-11-03 20:38:25 "
   ]
  },
  {
   "cell_type": "code",
   "execution_count": 1,
   "metadata": {
    "ExecuteTime": {
     "end_time": "2019-11-11T22:27:35.552807Z",
     "start_time": "2019-11-11T22:27:34.097845Z"
    }
   },
   "outputs": [],
   "source": [
    "# 引入pandas数据分析模块\n",
    "import pandas as pd\n",
    "\n",
    "# 数据范例：美国站，月度数据\n",
    "workdf = pd.read_excel('data/amz_ads_brand_target_us_201910.xlsx', usecols=['广告活动名称', '匹配类型', '投放', '投放类型', '展现量', '点击量', '花费', '14天总订单数(#)', '14天总销售额(￥)', '14天总销售量(#)', '14天内“品牌新买家”订单数量(#)', '14天内“品牌新买家”销售额(￥)', '14天内“品牌新买家”商品数量(#)'])"
   ]
  },
  {
   "cell_type": "markdown",
   "metadata": {
    "ExecuteTime": {
     "end_time": "2019-07-22T07:53:58.056238Z",
     "start_time": "2019-07-22T07:53:58.053564Z"
    }
   },
   "source": [
    "# 品牌广告活动数据排序（以销量为取值标准）"
   ]
  },
  {
   "cell_type": "code",
   "execution_count": 2,
   "metadata": {
    "ExecuteTime": {
     "end_time": "2019-11-11T22:27:35.585831Z",
     "start_time": "2019-11-11T22:27:35.554901Z"
    }
   },
   "outputs": [
    {
     "data": {
      "text/html": [
       "<div>\n",
       "<style scoped>\n",
       "    .dataframe tbody tr th:only-of-type {\n",
       "        vertical-align: middle;\n",
       "    }\n",
       "\n",
       "    .dataframe tbody tr th {\n",
       "        vertical-align: top;\n",
       "    }\n",
       "\n",
       "    .dataframe thead th {\n",
       "        text-align: right;\n",
       "    }\n",
       "</style>\n",
       "<table border=\"1\" class=\"dataframe\">\n",
       "  <thead>\n",
       "    <tr style=\"text-align: right;\">\n",
       "      <th></th>\n",
       "      <th>展现量</th>\n",
       "      <th>点击量</th>\n",
       "      <th>花费</th>\n",
       "      <th>总销售额</th>\n",
       "      <th>总销售量</th>\n",
       "      <th>点击率</th>\n",
       "      <th>卖出1件商品的平均花费</th>\n",
       "    </tr>\n",
       "    <tr>\n",
       "      <th>广告活动名称</th>\n",
       "      <th></th>\n",
       "      <th></th>\n",
       "      <th></th>\n",
       "      <th></th>\n",
       "      <th></th>\n",
       "      <th></th>\n",
       "      <th></th>\n",
       "    </tr>\n",
       "  </thead>\n",
       "  <tbody>\n",
       "    <tr>\n",
       "      <th>The Comfortable Flip Flops For Women2019</th>\n",
       "      <td>112813</td>\n",
       "      <td>1686</td>\n",
       "      <td>596.27</td>\n",
       "      <td>2602.37</td>\n",
       "      <td>163</td>\n",
       "      <td>1.49</td>\n",
       "      <td>3.66</td>\n",
       "    </tr>\n",
       "    <tr>\n",
       "      <th>男款推广男鞋</th>\n",
       "      <td>104459</td>\n",
       "      <td>240</td>\n",
       "      <td>75.58</td>\n",
       "      <td>159.90</td>\n",
       "      <td>10</td>\n",
       "      <td>0.23</td>\n",
       "      <td>7.56</td>\n",
       "    </tr>\n",
       "  </tbody>\n",
       "</table>\n",
       "</div>"
      ],
      "text/plain": [
       "                                             展现量   点击量      花费     总销售额  总销售量  \\\n",
       "广告活动名称                                                                          \n",
       "The Comfortable Flip Flops For Women2019  112813  1686  596.27  2602.37   163   \n",
       "男款推广男鞋                                    104459   240   75.58   159.90    10   \n",
       "\n",
       "                                           点击率  卖出1件商品的平均花费  \n",
       "广告活动名称                                                       \n",
       "The Comfortable Flip Flops For Women2019  1.49         3.66  \n",
       "男款推广男鞋                                    0.23         7.56  "
      ]
     },
     "execution_count": 2,
     "metadata": {},
     "output_type": "execute_result"
    }
   ],
   "source": [
    "# Manipulating data and column names.\n",
    "impr_df = workdf.groupby(['广告活动名称']).sum().sort_values(by=['14天总销售量(#)'], ascending=False).head(20)\n",
    "impr_df['总销售额'] = impr_df['14天总销售额(￥)']\n",
    "impr_df['总销售量'] = impr_df['14天总销售量(#)']\n",
    "impr_df = impr_df[['展现量', '点击量', '花费', '总销售额', '总销售量']]\n",
    "impr_df['点击率'] = round((impr_df['点击量'] / impr_df['展现量'] * 100), 2)\n",
    "impr_df['卖出1件商品的平均花费'] = round(impr_df['花费'] / impr_df['总销售量'], 2)\n",
    "\n",
    "impr_df.sort_values(by=['卖出1件商品的平均花费'])"
   ]
  },
  {
   "cell_type": "markdown",
   "metadata": {},
   "source": [
    "此表解决的问题为：\n",
    "\n",
    "- 找出销量最高的品牌广告活动。\n",
    "\n",
    "- 找出最具性价比的品牌广告活动。（卖出1件商品花费越小，则性价比越高）"
   ]
  },
  {
   "cell_type": "markdown",
   "metadata": {
    "ExecuteTime": {
     "end_time": "2019-07-22T07:53:58.056238Z",
     "start_time": "2019-07-22T07:53:58.053564Z"
    }
   },
   "source": [
    "# 品牌广告活动投放数据排序（以展现量为取值标准）"
   ]
  },
  {
   "cell_type": "code",
   "execution_count": 3,
   "metadata": {
    "ExecuteTime": {
     "end_time": "2019-11-11T22:27:35.675916Z",
     "start_time": "2019-11-11T22:27:35.587950Z"
    }
   },
   "outputs": [
    {
     "data": {
      "text/html": [
       "<div>\n",
       "<style scoped>\n",
       "    .dataframe tbody tr th:only-of-type {\n",
       "        vertical-align: middle;\n",
       "    }\n",
       "\n",
       "    .dataframe tbody tr th {\n",
       "        vertical-align: top;\n",
       "    }\n",
       "\n",
       "    .dataframe thead th {\n",
       "        text-align: right;\n",
       "    }\n",
       "</style>\n",
       "<table border=\"1\" class=\"dataframe\">\n",
       "  <thead>\n",
       "    <tr style=\"text-align: right;\">\n",
       "      <th></th>\n",
       "      <th></th>\n",
       "      <th></th>\n",
       "      <th>展现量</th>\n",
       "      <th>点击量</th>\n",
       "      <th>花费</th>\n",
       "      <th>总销售额</th>\n",
       "      <th>总销售量</th>\n",
       "      <th>性价比(总销售额/花费)</th>\n",
       "    </tr>\n",
       "    <tr>\n",
       "      <th>广告活动名称</th>\n",
       "      <th>匹配类型</th>\n",
       "      <th>投放</th>\n",
       "      <th></th>\n",
       "      <th></th>\n",
       "      <th></th>\n",
       "      <th></th>\n",
       "      <th></th>\n",
       "      <th></th>\n",
       "    </tr>\n",
       "  </thead>\n",
       "  <tbody>\n",
       "    <tr>\n",
       "      <th>The Comfortable Flip Flops For Women2019</th>\n",
       "      <th>EXACT</th>\n",
       "      <th>flip flops for women</th>\n",
       "      <td>112813</td>\n",
       "      <td>1686</td>\n",
       "      <td>596.27</td>\n",
       "      <td>2602.37</td>\n",
       "      <td>163</td>\n",
       "      <td>4.36</td>\n",
       "    </tr>\n",
       "    <tr>\n",
       "      <th>男款推广男鞋</th>\n",
       "      <th>BROAD</th>\n",
       "      <th>flip flop for men</th>\n",
       "      <td>104459</td>\n",
       "      <td>240</td>\n",
       "      <td>75.58</td>\n",
       "      <td>159.90</td>\n",
       "      <td>10</td>\n",
       "      <td>2.12</td>\n",
       "    </tr>\n",
       "  </tbody>\n",
       "</table>\n",
       "</div>"
      ],
      "text/plain": [
       "                                                                        展现量  \\\n",
       "广告活动名称                                   匹配类型  投放                             \n",
       "The Comfortable Flip Flops For Women2019 EXACT flip flops for women  112813   \n",
       "男款推广男鞋                                   BROAD flip flop for men     104459   \n",
       "\n",
       "                                                                      点击量  \\\n",
       "广告活动名称                                   匹配类型  投放                           \n",
       "The Comfortable Flip Flops For Women2019 EXACT flip flops for women  1686   \n",
       "男款推广男鞋                                   BROAD flip flop for men      240   \n",
       "\n",
       "                                                                         花费  \\\n",
       "广告活动名称                                   匹配类型  投放                             \n",
       "The Comfortable Flip Flops For Women2019 EXACT flip flops for women  596.27   \n",
       "男款推广男鞋                                   BROAD flip flop for men      75.58   \n",
       "\n",
       "                                                                        总销售额  \\\n",
       "广告活动名称                                   匹配类型  投放                              \n",
       "The Comfortable Flip Flops For Women2019 EXACT flip flops for women  2602.37   \n",
       "男款推广男鞋                                   BROAD flip flop for men      159.90   \n",
       "\n",
       "                                                                     总销售量  \\\n",
       "广告活动名称                                   匹配类型  投放                           \n",
       "The Comfortable Flip Flops For Women2019 EXACT flip flops for women   163   \n",
       "男款推广男鞋                                   BROAD flip flop for men       10   \n",
       "\n",
       "                                                                     性价比(总销售额/花费)  \n",
       "广告活动名称                                   匹配类型  投放                                  \n",
       "The Comfortable Flip Flops For Women2019 EXACT flip flops for women          4.36  \n",
       "男款推广男鞋                                   BROAD flip flop for men             2.12  "
      ]
     },
     "execution_count": 3,
     "metadata": {},
     "output_type": "execute_result"
    }
   ],
   "source": [
    "# Manipulating data and column names.\n",
    "target_df = workdf.groupby(['广告活动名称', '匹配类型', '投放']).sum().sort_values(by=['展现量'], ascending=False).head(20)\n",
    "target_df['总销售额'] = target_df['14天总销售额(￥)']\n",
    "target_df['总销售量'] = target_df['14天总销售量(#)']\n",
    "target_df = target_df[['展现量', '点击量', '花费', '总销售额', '总销售量']]\n",
    "target_df['性价比(总销售额/花费)'] = round(target_df['总销售额'] / target_df['花费'], 2)\n",
    "\n",
    "target_df.sort_values(by=['性价比(总销售额/花费)'], ascending=False)"
   ]
  },
  {
   "cell_type": "markdown",
   "metadata": {},
   "source": [
    "此表解决的问题为：\n",
    "\n",
    "- 找出最具性价比的品牌广告活动投放项目。"
   ]
  },
  {
   "cell_type": "markdown",
   "metadata": {
    "ExecuteTime": {
     "end_time": "2019-07-22T07:53:58.056238Z",
     "start_time": "2019-07-22T07:53:58.053564Z"
    }
   },
   "source": [
    "# 品牌广告活动投放类型数据排序（以展现量为取值标准）"
   ]
  },
  {
   "cell_type": "code",
   "execution_count": 4,
   "metadata": {
    "ExecuteTime": {
     "end_time": "2019-11-11T22:27:35.754326Z",
     "start_time": "2019-11-11T22:27:35.678448Z"
    }
   },
   "outputs": [
    {
     "data": {
      "text/html": [
       "<div>\n",
       "<style scoped>\n",
       "    .dataframe tbody tr th:only-of-type {\n",
       "        vertical-align: middle;\n",
       "    }\n",
       "\n",
       "    .dataframe tbody tr th {\n",
       "        vertical-align: top;\n",
       "    }\n",
       "\n",
       "    .dataframe thead th {\n",
       "        text-align: right;\n",
       "    }\n",
       "</style>\n",
       "<table border=\"1\" class=\"dataframe\">\n",
       "  <thead>\n",
       "    <tr style=\"text-align: right;\">\n",
       "      <th></th>\n",
       "      <th>展现量</th>\n",
       "      <th>点击量</th>\n",
       "      <th>花费</th>\n",
       "      <th>总销售额</th>\n",
       "      <th>总销售量</th>\n",
       "      <th>性价比(总销售额/花费)</th>\n",
       "    </tr>\n",
       "    <tr>\n",
       "      <th>投放类型</th>\n",
       "      <th></th>\n",
       "      <th></th>\n",
       "      <th></th>\n",
       "      <th></th>\n",
       "      <th></th>\n",
       "      <th></th>\n",
       "    </tr>\n",
       "  </thead>\n",
       "  <tbody>\n",
       "    <tr>\n",
       "      <th>Top of Search</th>\n",
       "      <td>74537</td>\n",
       "      <td>1548</td>\n",
       "      <td>568.17</td>\n",
       "      <td>2357.52</td>\n",
       "      <td>148</td>\n",
       "      <td>4.15</td>\n",
       "    </tr>\n",
       "    <tr>\n",
       "      <th>Other Placements</th>\n",
       "      <td>142735</td>\n",
       "      <td>378</td>\n",
       "      <td>103.68</td>\n",
       "      <td>404.75</td>\n",
       "      <td>25</td>\n",
       "      <td>3.90</td>\n",
       "    </tr>\n",
       "  </tbody>\n",
       "</table>\n",
       "</div>"
      ],
      "text/plain": [
       "                     展现量   点击量      花费     总销售额  总销售量  性价比(总销售额/花费)\n",
       "投放类型                                                               \n",
       "Top of Search      74537  1548  568.17  2357.52   148          4.15\n",
       "Other Placements  142735   378  103.68   404.75    25          3.90"
      ]
     },
     "execution_count": 4,
     "metadata": {},
     "output_type": "execute_result"
    }
   ],
   "source": [
    "# Manipulating data and column names.\n",
    "target_df = workdf.groupby(['投放类型']).sum().sort_values(by=['展现量'], ascending=False).head(20)\n",
    "target_df['总销售额'] = target_df['14天总销售额(￥)']\n",
    "target_df['总销售量'] = target_df['14天总销售量(#)']\n",
    "target_df = target_df[['展现量', '点击量', '花费', '总销售额', '总销售量']]\n",
    "target_df['性价比(总销售额/花费)'] = round(target_df['总销售额'] / target_df['花费'], 2)\n",
    "\n",
    "target_df.sort_values(by=['性价比(总销售额/花费)'], ascending=False)"
   ]
  },
  {
   "cell_type": "markdown",
   "metadata": {},
   "source": [
    "此表解决的问题为：\n",
    "\n",
    "- 比较投放类型的性价比高低。"
   ]
  },
  {
   "cell_type": "markdown",
   "metadata": {
    "ExecuteTime": {
     "end_time": "2019-07-22T07:53:58.056238Z",
     "start_time": "2019-07-22T07:53:58.053564Z"
    }
   },
   "source": [
    "# 品牌广告活动“品牌新买家”（new-to-brand metrics）的数据分析"
   ]
  },
  {
   "cell_type": "markdown",
   "metadata": {},
   "source": [
    "“品牌新买家”（new-to-brand metrics）：指的是第一次购买本品牌的客户，用于衡量品牌影响力、客户忠诚度和制定品牌促销的广告策略。"
   ]
  },
  {
   "cell_type": "code",
   "execution_count": 5,
   "metadata": {
    "ExecuteTime": {
     "end_time": "2019-11-11T22:27:35.903129Z",
     "start_time": "2019-11-11T22:27:35.756320Z"
    }
   },
   "outputs": [
    {
     "name": "stdout",
     "output_type": "stream",
     "text": [
      "品牌广告总销量：173件，“品牌新买家”销量：159件，占比：91.91%\n",
      "品牌广告总销量额：2762.00美元，“品牌新买家”销售额：2540.00美元，占比：91.96%\n"
     ]
    }
   ],
   "source": [
    "b_total = int(workdf[['14天总销售量(#)']].sum())\n",
    "b_newbuyer = int(workdf[['14天内“品牌新买家”商品数量(#)']].sum())\n",
    "bval_total = int(workdf[['14天总销售额(￥)']].sum())\n",
    "bval_newbuyer = int(workdf[['14天内“品牌新买家”销售额(￥)']].sum())\n",
    "\n",
    "print('品牌广告总销量：{0:.0f}件，“品牌新买家”销量：{1:.0f}件，占比：{2:.2f}%'.format(b_total, b_newbuyer, b_newbuyer / b_total * 100))\n",
    "print('品牌广告总销量额：{0:.2f}美元，“品牌新买家”销售额：{1:.2f}美元，占比：{2:.2f}%'.format(bval_total, bval_newbuyer, bval_newbuyer / bval_total * 100))"
   ]
  },
  {
   "cell_type": "code",
   "execution_count": 6,
   "metadata": {
    "ExecuteTime": {
     "end_time": "2019-11-11T22:27:35.997773Z",
     "start_time": "2019-11-11T22:27:35.905784Z"
    }
   },
   "outputs": [
    {
     "data": {
      "text/html": [
       "<div>\n",
       "<style scoped>\n",
       "    .dataframe tbody tr th:only-of-type {\n",
       "        vertical-align: middle;\n",
       "    }\n",
       "\n",
       "    .dataframe tbody tr th {\n",
       "        vertical-align: top;\n",
       "    }\n",
       "\n",
       "    .dataframe thead th {\n",
       "        text-align: right;\n",
       "    }\n",
       "</style>\n",
       "<table border=\"1\" class=\"dataframe\">\n",
       "  <thead>\n",
       "    <tr style=\"text-align: right;\">\n",
       "      <th></th>\n",
       "      <th>展现量</th>\n",
       "      <th>点击量</th>\n",
       "      <th>花费</th>\n",
       "      <th>总销售额</th>\n",
       "      <th>总销售量</th>\n",
       "      <th>“品牌新买家”销售额</th>\n",
       "      <th>“品牌新买家”销售量</th>\n",
       "      <th>“品牌新买家”订单率</th>\n",
       "    </tr>\n",
       "    <tr>\n",
       "      <th>广告活动名称</th>\n",
       "      <th></th>\n",
       "      <th></th>\n",
       "      <th></th>\n",
       "      <th></th>\n",
       "      <th></th>\n",
       "      <th></th>\n",
       "      <th></th>\n",
       "      <th></th>\n",
       "    </tr>\n",
       "  </thead>\n",
       "  <tbody>\n",
       "    <tr>\n",
       "      <th>The Comfortable Flip Flops For Women2019</th>\n",
       "      <td>112813</td>\n",
       "      <td>1686</td>\n",
       "      <td>596.27</td>\n",
       "      <td>2602.37</td>\n",
       "      <td>163</td>\n",
       "      <td>2380.51</td>\n",
       "      <td>149</td>\n",
       "      <td>8.66</td>\n",
       "    </tr>\n",
       "    <tr>\n",
       "      <th>男款推广男鞋</th>\n",
       "      <td>104459</td>\n",
       "      <td>240</td>\n",
       "      <td>75.58</td>\n",
       "      <td>159.90</td>\n",
       "      <td>10</td>\n",
       "      <td>159.90</td>\n",
       "      <td>10</td>\n",
       "      <td>4.17</td>\n",
       "    </tr>\n",
       "  </tbody>\n",
       "</table>\n",
       "</div>"
      ],
      "text/plain": [
       "                                             展现量   点击量      花费     总销售额  总销售量  \\\n",
       "广告活动名称                                                                          \n",
       "The Comfortable Flip Flops For Women2019  112813  1686  596.27  2602.37   163   \n",
       "男款推广男鞋                                    104459   240   75.58   159.90    10   \n",
       "\n",
       "                                          “品牌新买家”销售额  “品牌新买家”销售量  “品牌新买家”订单率  \n",
       "广告活动名称                                                                        \n",
       "The Comfortable Flip Flops For Women2019     2380.51         149        8.66  \n",
       "男款推广男鞋                                        159.90          10        4.17  "
      ]
     },
     "execution_count": 6,
     "metadata": {},
     "output_type": "execute_result"
    }
   ],
   "source": [
    "newb_df = workdf.groupby(['广告活动名称']).sum()\n",
    "newb_df['总销售额'] = newb_df['14天总销售额(￥)']\n",
    "newb_df['总销售量'] = newb_df['14天总销售量(#)']\n",
    "newb_df['“品牌新买家”销售额'] = newb_df['14天内“品牌新买家”销售额(￥)']\n",
    "newb_df['“品牌新买家”销售量'] = newb_df['14天内“品牌新买家”商品数量(#)']\n",
    "newb_df['“品牌新买家”订单量'] = newb_df['14天内“品牌新买家”订单数量(#)']\n",
    "newb_df['“品牌新买家”订单率'] = round(newb_df['“品牌新买家”订单量'] / newb_df['点击量'] * 100, 2)\n",
    "\n",
    "newb_df[['展现量', '点击量', '花费', '总销售额', '总销售量', '“品牌新买家”销售额', '“品牌新买家”销售量', '“品牌新买家”订单率']].sort_values(by=['展现量'], ascending=False)"
   ]
  },
  {
   "cell_type": "markdown",
   "metadata": {},
   "source": [
    "*注：“品牌新买家”订单率 = “品牌新买家”订单量 / 点击量*\n",
    "\n",
    "此表解决的问题为：\n",
    "\n",
    "- 对“品牌新买家”所占品牌广告销量的比例情况有所了解。"
   ]
  },
  {
   "cell_type": "markdown",
   "metadata": {
    "ExecuteTime": {
     "end_time": "2019-07-22T07:53:58.056238Z",
     "start_time": "2019-07-22T07:53:58.053564Z"
    }
   },
   "source": [
    "# 品牌广告活动订单率情况"
   ]
  },
  {
   "cell_type": "code",
   "execution_count": 7,
   "metadata": {
    "ExecuteTime": {
     "end_time": "2019-11-11T22:27:36.067303Z",
     "start_time": "2019-11-11T22:27:35.999898Z"
    }
   },
   "outputs": [
    {
     "data": {
      "text/html": [
       "<div>\n",
       "<style scoped>\n",
       "    .dataframe tbody tr th:only-of-type {\n",
       "        vertical-align: middle;\n",
       "    }\n",
       "\n",
       "    .dataframe tbody tr th {\n",
       "        vertical-align: top;\n",
       "    }\n",
       "\n",
       "    .dataframe thead th {\n",
       "        text-align: right;\n",
       "    }\n",
       "</style>\n",
       "<table border=\"1\" class=\"dataframe\">\n",
       "  <thead>\n",
       "    <tr style=\"text-align: right;\">\n",
       "      <th></th>\n",
       "      <th>点击量</th>\n",
       "      <th>总订单量</th>\n",
       "      <th>订单率</th>\n",
       "    </tr>\n",
       "    <tr>\n",
       "      <th>广告活动名称</th>\n",
       "      <th></th>\n",
       "      <th></th>\n",
       "      <th></th>\n",
       "    </tr>\n",
       "  </thead>\n",
       "  <tbody>\n",
       "    <tr>\n",
       "      <th>The Comfortable Flip Flops For Women2019</th>\n",
       "      <td>1686</td>\n",
       "      <td>160</td>\n",
       "      <td>9.49</td>\n",
       "    </tr>\n",
       "    <tr>\n",
       "      <th>男款推广男鞋</th>\n",
       "      <td>240</td>\n",
       "      <td>10</td>\n",
       "      <td>4.17</td>\n",
       "    </tr>\n",
       "  </tbody>\n",
       "</table>\n",
       "</div>"
      ],
      "text/plain": [
       "                                           点击量  总订单量   订单率\n",
       "广告活动名称                                                    \n",
       "The Comfortable Flip Flops For Women2019  1686   160  9.49\n",
       "男款推广男鞋                                     240    10  4.17"
      ]
     },
     "execution_count": 7,
     "metadata": {},
     "output_type": "execute_result"
    }
   ],
   "source": [
    "newb_df = workdf.groupby(['广告活动名称']).sum()\n",
    "newb_df['总订单量'] = newb_df['14天总订单数(#)']\n",
    "newb_df['订单率'] = round(newb_df['总订单量'] / newb_df['点击量'] * 100, 2)\n",
    "\n",
    "newb_df[['点击量', '总订单量', '订单率']].sort_values(by=['订单率'], ascending=False).fillna(0)"
   ]
  },
  {
   "cell_type": "markdown",
   "metadata": {},
   "source": [
    "*注：订单率 = 订单量 / 点击量*\n",
    "\n",
    "此表解决的问题为：\n",
    "\n",
    "- 了解品牌广告的订单率情况。产品广告的相关情况可见 **[amz_ads_target.ipynb](amz_ads_target.ipynb)** 的相关部分说明。"
   ]
  },
  {
   "cell_type": "markdown",
   "metadata": {},
   "source": [
    "**[返回目录](amz_ads_catalog.ipynb)**"
   ]
  }
 ],
 "metadata": {
  "kernelspec": {
   "display_name": "Python 3",
   "language": "python",
   "name": "python3"
  },
  "language_info": {
   "codemirror_mode": {
    "name": "ipython",
    "version": 3
   },
   "file_extension": ".py",
   "mimetype": "text/x-python",
   "name": "python",
   "nbconvert_exporter": "python",
   "pygments_lexer": "ipython3",
   "version": "3.5.3"
  },
  "latex_envs": {
   "LaTeX_envs_menu_present": true,
   "autoclose": false,
   "autocomplete": true,
   "bibliofile": "biblio.bib",
   "cite_by": "apalike",
   "current_citInitial": 1,
   "eqLabelWithNumbers": true,
   "eqNumInitial": 1,
   "hotkeys": {
    "equation": "Ctrl-E",
    "itemize": "Ctrl-I"
   },
   "labels_anchors": false,
   "latex_user_defs": false,
   "report_style_numbering": false,
   "user_envs_cfg": false
  },
  "toc": {
   "base_numbering": 1,
   "nav_menu": {},
   "number_sections": true,
   "sideBar": true,
   "skip_h1_title": false,
   "title_cell": "Table of Contents",
   "title_sidebar": "Contents",
   "toc_cell": false,
   "toc_position": {},
   "toc_section_display": true,
   "toc_window_display": false
  }
 },
 "nbformat": 4,
 "nbformat_minor": 2
}
