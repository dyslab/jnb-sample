{
 "cells": [
  {
   "cell_type": "markdown",
   "metadata": {},
   "source": [
    "Doc title: **Amazon Advertising Brands Keyword Placement Report**\n",
    "\n",
    "Article notes: Data came from 'Reports/Advertising Reports/Sponsored Brands/Keyword Placement Report' @Amazon Seller Central.\n",
    "\n",
    "文章备注：亚马逊后台品牌广告报告分析\n",
    "\n",
    "Last modified date: 2019-07-25 01:28:06 "
   ]
  },
  {
   "cell_type": "code",
   "execution_count": 1,
   "metadata": {
    "ExecuteTime": {
     "end_time": "2019-07-24T17:28:12.203048Z",
     "start_time": "2019-07-24T17:28:12.175265Z"
    }
   },
   "outputs": [],
   "source": [
    "# 引入pandas数据分析模块\n",
    "import pandas as pd\n",
    "\n",
    "# 数据范例：美国站，2019年6月份数据\n",
    "workdf = pd.read_excel('amz_ads_brand_target_us_201906.xlsx', usecols=['广告活动名称', '匹配类型', '投放', '投放类型', '展现量', '点击量', '花费', '14天总订单数(#)', '14天总销售额(￥)', '14天总销售量(#)', '14天内“品牌新买家”订单数量(#)', '14天内“品牌新买家”销售额(￥)', '14天内“品牌新买家”商品数量(#)'])"
   ]
  },
  {
   "cell_type": "markdown",
   "metadata": {
    "ExecuteTime": {
     "end_time": "2019-07-22T07:53:58.056238Z",
     "start_time": "2019-07-22T07:53:58.053564Z"
    }
   },
   "source": [
    "# 品牌广告活动数据排序（以销量为取值标准）"
   ]
  },
  {
   "cell_type": "code",
   "execution_count": 2,
   "metadata": {
    "ExecuteTime": {
     "end_time": "2019-07-24T17:28:12.352504Z",
     "start_time": "2019-07-24T17:28:12.212246Z"
    }
   },
   "outputs": [
    {
     "data": {
      "text/html": [
       "<div>\n",
       "<style scoped>\n",
       "    .dataframe tbody tr th:only-of-type {\n",
       "        vertical-align: middle;\n",
       "    }\n",
       "\n",
       "    .dataframe tbody tr th {\n",
       "        vertical-align: top;\n",
       "    }\n",
       "\n",
       "    .dataframe thead th {\n",
       "        text-align: right;\n",
       "    }\n",
       "</style>\n",
       "<table border=\"1\" class=\"dataframe\">\n",
       "  <thead>\n",
       "    <tr style=\"text-align: right;\">\n",
       "      <th></th>\n",
       "      <th>展现量</th>\n",
       "      <th>点击量</th>\n",
       "      <th>花费</th>\n",
       "      <th>总销售额</th>\n",
       "      <th>总销售量</th>\n",
       "      <th>点击率</th>\n",
       "      <th>卖出1件商品的平均花费</th>\n",
       "    </tr>\n",
       "    <tr>\n",
       "      <th>广告活动名称</th>\n",
       "      <th></th>\n",
       "      <th></th>\n",
       "      <th></th>\n",
       "      <th></th>\n",
       "      <th></th>\n",
       "      <th></th>\n",
       "      <th></th>\n",
       "    </tr>\n",
       "  </thead>\n",
       "  <tbody>\n",
       "    <tr>\n",
       "      <th>The Comfortable Flip Flops For Women2019</th>\n",
       "      <td>103954</td>\n",
       "      <td>1312</td>\n",
       "      <td>497.07</td>\n",
       "      <td>2814.15</td>\n",
       "      <td>185</td>\n",
       "      <td>1.26</td>\n",
       "      <td>2.69</td>\n",
       "    </tr>\n",
       "    <tr>\n",
       "      <th>The Flip Flops For Women</th>\n",
       "      <td>12190</td>\n",
       "      <td>43</td>\n",
       "      <td>10.48</td>\n",
       "      <td>44.97</td>\n",
       "      <td>3</td>\n",
       "      <td>0.35</td>\n",
       "      <td>3.49</td>\n",
       "    </tr>\n",
       "    <tr>\n",
       "      <th>男款推广男鞋</th>\n",
       "      <td>86578</td>\n",
       "      <td>253</td>\n",
       "      <td>86.01</td>\n",
       "      <td>77.95</td>\n",
       "      <td>5</td>\n",
       "      <td>0.29</td>\n",
       "      <td>17.20</td>\n",
       "    </tr>\n",
       "    <tr>\n",
       "      <th>black flip flops</th>\n",
       "      <td>2471</td>\n",
       "      <td>9</td>\n",
       "      <td>4.78</td>\n",
       "      <td>0.00</td>\n",
       "      <td>0</td>\n",
       "      <td>0.36</td>\n",
       "      <td>inf</td>\n",
       "    </tr>\n",
       "  </tbody>\n",
       "</table>\n",
       "</div>"
      ],
      "text/plain": [
       "                                             展现量   点击量      花费     总销售额  总销售量  \\\n",
       "广告活动名称                                                                          \n",
       "The Comfortable Flip Flops For Women2019  103954  1312  497.07  2814.15   185   \n",
       "The Flip Flops For Women                   12190    43   10.48    44.97     3   \n",
       "男款推广男鞋                                     86578   253   86.01    77.95     5   \n",
       "black flip flops                            2471     9    4.78     0.00     0   \n",
       "\n",
       "                                           点击率  卖出1件商品的平均花费  \n",
       "广告活动名称                                                       \n",
       "The Comfortable Flip Flops For Women2019  1.26         2.69  \n",
       "The Flip Flops For Women                  0.35         3.49  \n",
       "男款推广男鞋                                    0.29        17.20  \n",
       "black flip flops                          0.36          inf  "
      ]
     },
     "execution_count": 2,
     "metadata": {},
     "output_type": "execute_result"
    }
   ],
   "source": [
    "# Manipulating data and column names.\n",
    "impr_df = workdf.groupby(['广告活动名称']).sum().sort_values(by=['14天总销售量(#)'], ascending=False).head(20)\n",
    "impr_df['总销售额'] = impr_df['14天总销售额(￥)']\n",
    "impr_df['总销售量'] = impr_df['14天总销售量(#)']\n",
    "impr_df = impr_df[['展现量', '点击量', '花费', '总销售额', '总销售量']]\n",
    "impr_df['点击率'] = round((impr_df['点击量'] / impr_df['展现量'] * 100), 2)\n",
    "impr_df['卖出1件商品的平均花费'] = round(impr_df['花费'] / impr_df['总销售量'], 2)\n",
    "\n",
    "impr_df.sort_values(by=['卖出1件商品的平均花费'])"
   ]
  },
  {
   "cell_type": "markdown",
   "metadata": {},
   "source": [
    "此表解决的问题为：\n",
    "\n",
    "- 找出销量最高的品牌广告活动。\n",
    "\n",
    "- 找出最具性价比的品牌广告活动。（卖出1件商品花费越小，则性价比越高）"
   ]
  },
  {
   "cell_type": "markdown",
   "metadata": {
    "ExecuteTime": {
     "end_time": "2019-07-22T07:53:58.056238Z",
     "start_time": "2019-07-22T07:53:58.053564Z"
    }
   },
   "source": [
    "# 品牌广告活动投放数据排序（以展现量为取值标准）"
   ]
  },
  {
   "cell_type": "code",
   "execution_count": 3,
   "metadata": {
    "ExecuteTime": {
     "end_time": "2019-07-24T17:28:12.475904Z",
     "start_time": "2019-07-24T17:28:12.354680Z"
    }
   },
   "outputs": [
    {
     "data": {
      "text/html": [
       "<div>\n",
       "<style scoped>\n",
       "    .dataframe tbody tr th:only-of-type {\n",
       "        vertical-align: middle;\n",
       "    }\n",
       "\n",
       "    .dataframe tbody tr th {\n",
       "        vertical-align: top;\n",
       "    }\n",
       "\n",
       "    .dataframe thead th {\n",
       "        text-align: right;\n",
       "    }\n",
       "</style>\n",
       "<table border=\"1\" class=\"dataframe\">\n",
       "  <thead>\n",
       "    <tr style=\"text-align: right;\">\n",
       "      <th></th>\n",
       "      <th></th>\n",
       "      <th></th>\n",
       "      <th>展现量</th>\n",
       "      <th>点击量</th>\n",
       "      <th>花费</th>\n",
       "      <th>总销售额</th>\n",
       "      <th>总销售量</th>\n",
       "      <th>性价比(总销售额/花费)</th>\n",
       "    </tr>\n",
       "    <tr>\n",
       "      <th>广告活动名称</th>\n",
       "      <th>匹配类型</th>\n",
       "      <th>投放</th>\n",
       "      <th></th>\n",
       "      <th></th>\n",
       "      <th></th>\n",
       "      <th></th>\n",
       "      <th></th>\n",
       "      <th></th>\n",
       "    </tr>\n",
       "  </thead>\n",
       "  <tbody>\n",
       "    <tr>\n",
       "      <th>The Comfortable Flip Flops For Women2019</th>\n",
       "      <th>EXACT</th>\n",
       "      <th>flip flops for women</th>\n",
       "      <td>103954</td>\n",
       "      <td>1312</td>\n",
       "      <td>497.07</td>\n",
       "      <td>2814.15</td>\n",
       "      <td>185</td>\n",
       "      <td>5.66</td>\n",
       "    </tr>\n",
       "    <tr>\n",
       "      <th>The Flip Flops For Women</th>\n",
       "      <th>EXACT</th>\n",
       "      <th>flip flops for women</th>\n",
       "      <td>12190</td>\n",
       "      <td>43</td>\n",
       "      <td>10.48</td>\n",
       "      <td>44.97</td>\n",
       "      <td>3</td>\n",
       "      <td>4.29</td>\n",
       "    </tr>\n",
       "    <tr>\n",
       "      <th rowspan=\"3\" valign=\"top\">男款推广男鞋</th>\n",
       "      <th>PHRASE</th>\n",
       "      <th>flip flop men</th>\n",
       "      <td>28793</td>\n",
       "      <td>78</td>\n",
       "      <td>23.77</td>\n",
       "      <td>29.98</td>\n",
       "      <td>2</td>\n",
       "      <td>1.26</td>\n",
       "    </tr>\n",
       "    <tr>\n",
       "      <th>EXACT</th>\n",
       "      <th>flip flops for men</th>\n",
       "      <td>9840</td>\n",
       "      <td>30</td>\n",
       "      <td>15.09</td>\n",
       "      <td>15.99</td>\n",
       "      <td>1</td>\n",
       "      <td>1.06</td>\n",
       "    </tr>\n",
       "    <tr>\n",
       "      <th>BROAD</th>\n",
       "      <th>flip flop for men</th>\n",
       "      <td>47945</td>\n",
       "      <td>145</td>\n",
       "      <td>47.15</td>\n",
       "      <td>31.98</td>\n",
       "      <td>2</td>\n",
       "      <td>0.68</td>\n",
       "    </tr>\n",
       "    <tr>\n",
       "      <th rowspan=\"2\" valign=\"top\">black flip flops</th>\n",
       "      <th rowspan=\"2\" valign=\"top\">EXACT</th>\n",
       "      <th>black flip flops</th>\n",
       "      <td>2179</td>\n",
       "      <td>7</td>\n",
       "      <td>3.88</td>\n",
       "      <td>0.00</td>\n",
       "      <td>0</td>\n",
       "      <td>0.00</td>\n",
       "    </tr>\n",
       "    <tr>\n",
       "      <th>chanclas para mujer</th>\n",
       "      <td>292</td>\n",
       "      <td>2</td>\n",
       "      <td>0.90</td>\n",
       "      <td>0.00</td>\n",
       "      <td>0</td>\n",
       "      <td>0.00</td>\n",
       "    </tr>\n",
       "  </tbody>\n",
       "</table>\n",
       "</div>"
      ],
      "text/plain": [
       "                                                                         展现量  \\\n",
       "广告活动名称                                   匹配类型   投放                             \n",
       "The Comfortable Flip Flops For Women2019 EXACT  flip flops for women  103954   \n",
       "The Flip Flops For Women                 EXACT  flip flops for women   12190   \n",
       "男款推广男鞋                                   PHRASE flip flop men          28793   \n",
       "                                         EXACT  flip flops for men      9840   \n",
       "                                         BROAD  flip flop for men      47945   \n",
       "black flip flops                         EXACT  black flip flops        2179   \n",
       "                                                chanclas para mujer      292   \n",
       "\n",
       "                                                                       点击量  \\\n",
       "广告活动名称                                   匹配类型   投放                           \n",
       "The Comfortable Flip Flops For Women2019 EXACT  flip flops for women  1312   \n",
       "The Flip Flops For Women                 EXACT  flip flops for women    43   \n",
       "男款推广男鞋                                   PHRASE flip flop men           78   \n",
       "                                         EXACT  flip flops for men      30   \n",
       "                                         BROAD  flip flop for men      145   \n",
       "black flip flops                         EXACT  black flip flops         7   \n",
       "                                                chanclas para mujer      2   \n",
       "\n",
       "                                                                          花费  \\\n",
       "广告活动名称                                   匹配类型   投放                             \n",
       "The Comfortable Flip Flops For Women2019 EXACT  flip flops for women  497.07   \n",
       "The Flip Flops For Women                 EXACT  flip flops for women   10.48   \n",
       "男款推广男鞋                                   PHRASE flip flop men          23.77   \n",
       "                                         EXACT  flip flops for men     15.09   \n",
       "                                         BROAD  flip flop for men      47.15   \n",
       "black flip flops                         EXACT  black flip flops        3.88   \n",
       "                                                chanclas para mujer     0.90   \n",
       "\n",
       "                                                                         总销售额  \\\n",
       "广告活动名称                                   匹配类型   投放                              \n",
       "The Comfortable Flip Flops For Women2019 EXACT  flip flops for women  2814.15   \n",
       "The Flip Flops For Women                 EXACT  flip flops for women    44.97   \n",
       "男款推广男鞋                                   PHRASE flip flop men           29.98   \n",
       "                                         EXACT  flip flops for men      15.99   \n",
       "                                         BROAD  flip flop for men       31.98   \n",
       "black flip flops                         EXACT  black flip flops         0.00   \n",
       "                                                chanclas para mujer      0.00   \n",
       "\n",
       "                                                                      总销售量  \\\n",
       "广告活动名称                                   匹配类型   投放                           \n",
       "The Comfortable Flip Flops For Women2019 EXACT  flip flops for women   185   \n",
       "The Flip Flops For Women                 EXACT  flip flops for women     3   \n",
       "男款推广男鞋                                   PHRASE flip flop men            2   \n",
       "                                         EXACT  flip flops for men       1   \n",
       "                                         BROAD  flip flop for men        2   \n",
       "black flip flops                         EXACT  black flip flops         0   \n",
       "                                                chanclas para mujer      0   \n",
       "\n",
       "                                                                      性价比(总销售额/花费)  \n",
       "广告活动名称                                   匹配类型   投放                                  \n",
       "The Comfortable Flip Flops For Women2019 EXACT  flip flops for women          5.66  \n",
       "The Flip Flops For Women                 EXACT  flip flops for women          4.29  \n",
       "男款推广男鞋                                   PHRASE flip flop men                 1.26  \n",
       "                                         EXACT  flip flops for men            1.06  \n",
       "                                         BROAD  flip flop for men             0.68  \n",
       "black flip flops                         EXACT  black flip flops              0.00  \n",
       "                                                chanclas para mujer           0.00  "
      ]
     },
     "execution_count": 3,
     "metadata": {},
     "output_type": "execute_result"
    }
   ],
   "source": [
    "# Manipulating data and column names.\n",
    "target_df = workdf.groupby(['广告活动名称', '匹配类型', '投放']).sum().sort_values(by=['展现量'], ascending=False).head(20)\n",
    "target_df['总销售额'] = target_df['14天总销售额(￥)']\n",
    "target_df['总销售量'] = target_df['14天总销售量(#)']\n",
    "target_df = target_df[['展现量', '点击量', '花费', '总销售额', '总销售量']]\n",
    "target_df['性价比(总销售额/花费)'] = round(target_df['总销售额'] / target_df['花费'], 2)\n",
    "\n",
    "target_df.sort_values(by=['性价比(总销售额/花费)'], ascending=False)"
   ]
  },
  {
   "cell_type": "markdown",
   "metadata": {},
   "source": [
    "此表解决的问题为：\n",
    "\n",
    "- 找出最具性价比的品牌广告活动投放项目。"
   ]
  },
  {
   "cell_type": "markdown",
   "metadata": {
    "ExecuteTime": {
     "end_time": "2019-07-22T07:53:58.056238Z",
     "start_time": "2019-07-22T07:53:58.053564Z"
    }
   },
   "source": [
    "# 品牌广告活动投放类型数据排序（以展现量为取值标准）"
   ]
  },
  {
   "cell_type": "code",
   "execution_count": 4,
   "metadata": {
    "ExecuteTime": {
     "end_time": "2019-07-24T17:28:12.596017Z",
     "start_time": "2019-07-24T17:28:12.478694Z"
    }
   },
   "outputs": [
    {
     "data": {
      "text/html": [
       "<div>\n",
       "<style scoped>\n",
       "    .dataframe tbody tr th:only-of-type {\n",
       "        vertical-align: middle;\n",
       "    }\n",
       "\n",
       "    .dataframe tbody tr th {\n",
       "        vertical-align: top;\n",
       "    }\n",
       "\n",
       "    .dataframe thead th {\n",
       "        text-align: right;\n",
       "    }\n",
       "</style>\n",
       "<table border=\"1\" class=\"dataframe\">\n",
       "  <thead>\n",
       "    <tr style=\"text-align: right;\">\n",
       "      <th></th>\n",
       "      <th>展现量</th>\n",
       "      <th>点击量</th>\n",
       "      <th>花费</th>\n",
       "      <th>总销售额</th>\n",
       "      <th>总销售量</th>\n",
       "      <th>性价比(总销售额/花费)</th>\n",
       "    </tr>\n",
       "    <tr>\n",
       "      <th>投放类型</th>\n",
       "      <th></th>\n",
       "      <th></th>\n",
       "      <th></th>\n",
       "      <th></th>\n",
       "      <th></th>\n",
       "      <th></th>\n",
       "    </tr>\n",
       "  </thead>\n",
       "  <tbody>\n",
       "    <tr>\n",
       "      <th>Top of Search</th>\n",
       "      <td>70302</td>\n",
       "      <td>1319</td>\n",
       "      <td>518.27</td>\n",
       "      <td>2624.27</td>\n",
       "      <td>173</td>\n",
       "      <td>5.06</td>\n",
       "    </tr>\n",
       "    <tr>\n",
       "      <th>Other Placements</th>\n",
       "      <td>134891</td>\n",
       "      <td>298</td>\n",
       "      <td>80.07</td>\n",
       "      <td>312.80</td>\n",
       "      <td>20</td>\n",
       "      <td>3.91</td>\n",
       "    </tr>\n",
       "  </tbody>\n",
       "</table>\n",
       "</div>"
      ],
      "text/plain": [
       "                     展现量   点击量      花费     总销售额  总销售量  性价比(总销售额/花费)\n",
       "投放类型                                                               \n",
       "Top of Search      70302  1319  518.27  2624.27   173          5.06\n",
       "Other Placements  134891   298   80.07   312.80    20          3.91"
      ]
     },
     "execution_count": 4,
     "metadata": {},
     "output_type": "execute_result"
    }
   ],
   "source": [
    "# Manipulating data and column names.\n",
    "target_df = workdf.groupby(['投放类型']).sum().sort_values(by=['展现量'], ascending=False).head(20)\n",
    "target_df['总销售额'] = target_df['14天总销售额(￥)']\n",
    "target_df['总销售量'] = target_df['14天总销售量(#)']\n",
    "target_df = target_df[['展现量', '点击量', '花费', '总销售额', '总销售量']]\n",
    "target_df['性价比(总销售额/花费)'] = round(target_df['总销售额'] / target_df['花费'], 2)\n",
    "\n",
    "target_df.sort_values(by=['性价比(总销售额/花费)'], ascending=False)"
   ]
  },
  {
   "cell_type": "markdown",
   "metadata": {},
   "source": [
    "此表解决的问题为：\n",
    "\n",
    "- 比较投放类型的性价比高低。"
   ]
  },
  {
   "cell_type": "markdown",
   "metadata": {
    "ExecuteTime": {
     "end_time": "2019-07-22T07:53:58.056238Z",
     "start_time": "2019-07-22T07:53:58.053564Z"
    }
   },
   "source": [
    "# 品牌广告活动“品牌新买家”（new-to-brand metrics）的数据分析"
   ]
  },
  {
   "cell_type": "markdown",
   "metadata": {},
   "source": [
    "“品牌新买家”（new-to-brand metrics）：指的是第一次购买本品牌的客户，用于衡量品牌影响力、客户忠诚度和制定品牌促销的广告策略。"
   ]
  },
  {
   "cell_type": "code",
   "execution_count": 5,
   "metadata": {
    "ExecuteTime": {
     "end_time": "2019-07-24T17:28:12.623282Z",
     "start_time": "2019-07-24T17:28:12.601655Z"
    }
   },
   "outputs": [
    {
     "name": "stdout",
     "output_type": "stream",
     "text": [
      "品牌广告总销量：193件，“品牌新买家”销量：171件，占比：88.60%\n",
      "品牌广告总销量额：2937.00美元，“品牌新买家”销售额：2600.00美元，占比：88.53%\n"
     ]
    }
   ],
   "source": [
    "b_total = int(workdf[['14天总销售量(#)']].sum())\n",
    "b_newbuyer = int(workdf[['14天内“品牌新买家”商品数量(#)']].sum())\n",
    "bval_total = int(workdf[['14天总销售额(￥)']].sum())\n",
    "bval_newbuyer = int(workdf[['14天内“品牌新买家”销售额(￥)']].sum())\n",
    "\n",
    "print('品牌广告总销量：{0:.0f}件，“品牌新买家”销量：{1:.0f}件，占比：{2:.2f}%'.format(b_total, b_newbuyer, b_newbuyer / b_total * 100))\n",
    "print('品牌广告总销量额：{0:.2f}美元，“品牌新买家”销售额：{1:.2f}美元，占比：{2:.2f}%'.format(bval_total, bval_newbuyer, bval_newbuyer / bval_total * 100))"
   ]
  },
  {
   "cell_type": "code",
   "execution_count": 6,
   "metadata": {
    "ExecuteTime": {
     "end_time": "2019-07-24T17:28:12.739079Z",
     "start_time": "2019-07-24T17:28:12.625180Z"
    }
   },
   "outputs": [
    {
     "data": {
      "text/html": [
       "<div>\n",
       "<style scoped>\n",
       "    .dataframe tbody tr th:only-of-type {\n",
       "        vertical-align: middle;\n",
       "    }\n",
       "\n",
       "    .dataframe tbody tr th {\n",
       "        vertical-align: top;\n",
       "    }\n",
       "\n",
       "    .dataframe thead th {\n",
       "        text-align: right;\n",
       "    }\n",
       "</style>\n",
       "<table border=\"1\" class=\"dataframe\">\n",
       "  <thead>\n",
       "    <tr style=\"text-align: right;\">\n",
       "      <th></th>\n",
       "      <th>展现量</th>\n",
       "      <th>点击量</th>\n",
       "      <th>花费</th>\n",
       "      <th>总销售额</th>\n",
       "      <th>总销售量</th>\n",
       "      <th>“品牌新买家”销售额</th>\n",
       "      <th>“品牌新买家”销售量</th>\n",
       "      <th>“品牌新买家”订单率</th>\n",
       "    </tr>\n",
       "    <tr>\n",
       "      <th>广告活动名称</th>\n",
       "      <th></th>\n",
       "      <th></th>\n",
       "      <th></th>\n",
       "      <th></th>\n",
       "      <th></th>\n",
       "      <th></th>\n",
       "      <th></th>\n",
       "      <th></th>\n",
       "    </tr>\n",
       "  </thead>\n",
       "  <tbody>\n",
       "    <tr>\n",
       "      <th>The Comfortable Flip Flops For Women2019</th>\n",
       "      <td>103954</td>\n",
       "      <td>1312</td>\n",
       "      <td>497.07</td>\n",
       "      <td>2814.15</td>\n",
       "      <td>185</td>\n",
       "      <td>2522.34</td>\n",
       "      <td>166</td>\n",
       "      <td>8.16</td>\n",
       "    </tr>\n",
       "    <tr>\n",
       "      <th>男款推广男鞋</th>\n",
       "      <td>86578</td>\n",
       "      <td>253</td>\n",
       "      <td>86.01</td>\n",
       "      <td>77.95</td>\n",
       "      <td>5</td>\n",
       "      <td>47.97</td>\n",
       "      <td>3</td>\n",
       "      <td>1.19</td>\n",
       "    </tr>\n",
       "    <tr>\n",
       "      <th>The Flip Flops For Women</th>\n",
       "      <td>12190</td>\n",
       "      <td>43</td>\n",
       "      <td>10.48</td>\n",
       "      <td>44.97</td>\n",
       "      <td>3</td>\n",
       "      <td>29.98</td>\n",
       "      <td>2</td>\n",
       "      <td>4.65</td>\n",
       "    </tr>\n",
       "    <tr>\n",
       "      <th>black flip flops</th>\n",
       "      <td>2471</td>\n",
       "      <td>9</td>\n",
       "      <td>4.78</td>\n",
       "      <td>0.00</td>\n",
       "      <td>0</td>\n",
       "      <td>0.00</td>\n",
       "      <td>0</td>\n",
       "      <td>0.00</td>\n",
       "    </tr>\n",
       "  </tbody>\n",
       "</table>\n",
       "</div>"
      ],
      "text/plain": [
       "                                             展现量   点击量      花费     总销售额  总销售量  \\\n",
       "广告活动名称                                                                          \n",
       "The Comfortable Flip Flops For Women2019  103954  1312  497.07  2814.15   185   \n",
       "男款推广男鞋                                     86578   253   86.01    77.95     5   \n",
       "The Flip Flops For Women                   12190    43   10.48    44.97     3   \n",
       "black flip flops                            2471     9    4.78     0.00     0   \n",
       "\n",
       "                                          “品牌新买家”销售额  “品牌新买家”销售量  “品牌新买家”订单率  \n",
       "广告活动名称                                                                        \n",
       "The Comfortable Flip Flops For Women2019     2522.34         166        8.16  \n",
       "男款推广男鞋                                         47.97           3        1.19  \n",
       "The Flip Flops For Women                       29.98           2        4.65  \n",
       "black flip flops                                0.00           0        0.00  "
      ]
     },
     "execution_count": 6,
     "metadata": {},
     "output_type": "execute_result"
    }
   ],
   "source": [
    "newb_df = workdf.groupby(['广告活动名称']).sum()\n",
    "newb_df['总销售额'] = newb_df['14天总销售额(￥)']\n",
    "newb_df['总销售量'] = newb_df['14天总销售量(#)']\n",
    "newb_df['“品牌新买家”销售额'] = newb_df['14天内“品牌新买家”销售额(￥)']\n",
    "newb_df['“品牌新买家”销售量'] = newb_df['14天内“品牌新买家”商品数量(#)']\n",
    "newb_df['“品牌新买家”订单量'] = newb_df['14天内“品牌新买家”订单数量(#)']\n",
    "newb_df['“品牌新买家”订单率'] = round(newb_df['“品牌新买家”订单量'] / newb_df['点击量'] * 100, 2)\n",
    "\n",
    "newb_df[['展现量', '点击量', '花费', '总销售额', '总销售量', '“品牌新买家”销售额', '“品牌新买家”销售量', '“品牌新买家”订单率']].sort_values(by=['展现量'], ascending=False)"
   ]
  },
  {
   "cell_type": "markdown",
   "metadata": {},
   "source": [
    "*注：“品牌新买家”订单率 = “品牌新买家”订单量 / 点击量*\n",
    "\n",
    "此表解决的问题为：\n",
    "\n",
    "- 对“品牌新买家”所占品牌广告销量的比例情况有所了解。"
   ]
  },
  {
   "cell_type": "markdown",
   "metadata": {
    "ExecuteTime": {
     "end_time": "2019-07-22T07:53:58.056238Z",
     "start_time": "2019-07-22T07:53:58.053564Z"
    }
   },
   "source": [
    "# 品牌广告活动订单率情况"
   ]
  },
  {
   "cell_type": "code",
   "execution_count": 7,
   "metadata": {
    "ExecuteTime": {
     "end_time": "2019-07-24T17:28:12.965714Z",
     "start_time": "2019-07-24T17:28:12.741334Z"
    }
   },
   "outputs": [
    {
     "data": {
      "text/html": [
       "<div>\n",
       "<style scoped>\n",
       "    .dataframe tbody tr th:only-of-type {\n",
       "        vertical-align: middle;\n",
       "    }\n",
       "\n",
       "    .dataframe tbody tr th {\n",
       "        vertical-align: top;\n",
       "    }\n",
       "\n",
       "    .dataframe thead th {\n",
       "        text-align: right;\n",
       "    }\n",
       "</style>\n",
       "<table border=\"1\" class=\"dataframe\">\n",
       "  <thead>\n",
       "    <tr style=\"text-align: right;\">\n",
       "      <th></th>\n",
       "      <th>点击量</th>\n",
       "      <th>总订单量</th>\n",
       "      <th>订单率</th>\n",
       "    </tr>\n",
       "    <tr>\n",
       "      <th>广告活动名称</th>\n",
       "      <th></th>\n",
       "      <th></th>\n",
       "      <th></th>\n",
       "    </tr>\n",
       "  </thead>\n",
       "  <tbody>\n",
       "    <tr>\n",
       "      <th>The Comfortable Flip Flops For Women2019</th>\n",
       "      <td>1312</td>\n",
       "      <td>126</td>\n",
       "      <td>9.60</td>\n",
       "    </tr>\n",
       "    <tr>\n",
       "      <th>The Flip Flops For Women</th>\n",
       "      <td>43</td>\n",
       "      <td>3</td>\n",
       "      <td>6.98</td>\n",
       "    </tr>\n",
       "    <tr>\n",
       "      <th>男款推广男鞋</th>\n",
       "      <td>253</td>\n",
       "      <td>5</td>\n",
       "      <td>1.98</td>\n",
       "    </tr>\n",
       "    <tr>\n",
       "      <th>black flip flops</th>\n",
       "      <td>9</td>\n",
       "      <td>0</td>\n",
       "      <td>0.00</td>\n",
       "    </tr>\n",
       "  </tbody>\n",
       "</table>\n",
       "</div>"
      ],
      "text/plain": [
       "                                           点击量  总订单量   订单率\n",
       "广告活动名称                                                    \n",
       "The Comfortable Flip Flops For Women2019  1312   126  9.60\n",
       "The Flip Flops For Women                    43     3  6.98\n",
       "男款推广男鞋                                     253     5  1.98\n",
       "black flip flops                             9     0  0.00"
      ]
     },
     "execution_count": 7,
     "metadata": {},
     "output_type": "execute_result"
    }
   ],
   "source": [
    "newb_df = workdf.groupby(['广告活动名称']).sum()\n",
    "newb_df['总订单量'] = newb_df['14天总订单数(#)']\n",
    "newb_df['订单率'] = round(newb_df['总订单量'] / newb_df['点击量'] * 100, 2)\n",
    "\n",
    "newb_df[['点击量', '总订单量', '订单率']].sort_values(by=['订单率'], ascending=False).fillna(0)"
   ]
  },
  {
   "cell_type": "markdown",
   "metadata": {},
   "source": [
    "*注：订单率 = 订单量 / 点击量*\n",
    "\n",
    "此表解决的问题为：\n",
    "\n",
    "- 了解品牌广告的订单率情况。产品广告的相关情况可见 **[amz_ads_target.ipynb](amz_ads_target.ipynb)** 的相关部分说明。"
   ]
  },
  {
   "cell_type": "markdown",
   "metadata": {},
   "source": [
    "**[返回目录](amz_ads_catalog.ipynb)**"
   ]
  }
 ],
 "metadata": {
  "kernelspec": {
   "display_name": "Python 3",
   "language": "python",
   "name": "python3"
  },
  "language_info": {
   "codemirror_mode": {
    "name": "ipython",
    "version": 3
   },
   "file_extension": ".py",
   "mimetype": "text/x-python",
   "name": "python",
   "nbconvert_exporter": "python",
   "pygments_lexer": "ipython3",
   "version": "3.7.3"
  },
  "latex_envs": {
   "LaTeX_envs_menu_present": true,
   "autoclose": false,
   "autocomplete": true,
   "bibliofile": "biblio.bib",
   "cite_by": "apalike",
   "current_citInitial": 1,
   "eqLabelWithNumbers": true,
   "eqNumInitial": 1,
   "hotkeys": {
    "equation": "Ctrl-E",
    "itemize": "Ctrl-I"
   },
   "labels_anchors": false,
   "latex_user_defs": false,
   "report_style_numbering": false,
   "user_envs_cfg": false
  },
  "toc": {
   "base_numbering": 1,
   "nav_menu": {},
   "number_sections": true,
   "sideBar": true,
   "skip_h1_title": false,
   "title_cell": "Table of Contents",
   "title_sidebar": "Contents",
   "toc_cell": false,
   "toc_position": {},
   "toc_section_display": true,
   "toc_window_display": false
  }
 },
 "nbformat": 4,
 "nbformat_minor": 2
}
