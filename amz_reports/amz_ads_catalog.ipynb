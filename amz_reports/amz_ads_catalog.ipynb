{
 "cells": [
  {
   "cell_type": "markdown",
   "metadata": {},
   "source": [
    "Doc title: **Amazon Advertising Report Analyzation Catalog**\n",
    "\n",
    "Article notes: The links related to the analyzation of the reports that exported from 'Reports/Advertising Reports' @Amazon Seller Central.\n",
    "\n",
    "文章备注：亚马逊后台广告报告分析链接目录\n",
    "\n",
    "Last modified date: 2019-07-22 22:45:59 "
   ]
  },
  {
   "cell_type": "markdown",
   "metadata": {
    "ExecuteTime": {
     "end_time": "2019-07-22T11:57:11.100738Z",
     "start_time": "2019-07-22T11:57:11.097125Z"
    }
   },
   "source": [
    "# 亚马逊广告分析报表目录："
   ]
  },
  {
   "cell_type": "markdown",
   "metadata": {},
   "source": [
    "## 客户搜索词（Search Term）报告分析，点击：[amz_ads_st.ipynb](amz_ads_st.ipynb)"
   ]
  },
  {
   "cell_type": "markdown",
   "metadata": {},
   "source": [
    "## 广告组投放（Targeting）报告分析，点击：[amz_ads_target.ipynb](amz_ads_target.ipynb)"
   ]
  },
  {
   "cell_type": "markdown",
   "metadata": {},
   "source": [
    "## 广告产品（Advertised Product）报告分析，点击：[amz_ads_ap.ipynb](amz_ads_ap.ipynb)"
   ]
  },
  {
   "cell_type": "markdown",
   "metadata": {},
   "source": [
    "## 广告位置（Placement）报告分析，点击：[amz_ads_placement.ipynb](amz_ads_placement.ipynb)"
   ]
  },
  {
   "cell_type": "markdown",
   "metadata": {},
   "source": [
    "## 已购买产品（Purchased Product）报告分析，点击：[amz_ads_pp.ipynb](amz_ads_pp.ipynb)"
   ]
  },
  {
   "cell_type": "markdown",
   "metadata": {},
   "source": [
    "## 品牌广告 - 投放位置（Keyword Placement）分析，点击：[amz_ads_brand.ipynb](amz_ads_brand.ipynb)"
   ]
  }
 ],
 "metadata": {
  "kernelspec": {
   "display_name": "Python 3",
   "language": "python",
   "name": "python3"
  },
  "language_info": {
   "codemirror_mode": {
    "name": "ipython",
    "version": 3
   },
   "file_extension": ".py",
   "mimetype": "text/x-python",
   "name": "python",
   "nbconvert_exporter": "python",
   "pygments_lexer": "ipython3",
   "version": "3.7.5rc1"
  },
  "latex_envs": {
   "LaTeX_envs_menu_present": true,
   "autoclose": false,
   "autocomplete": true,
   "bibliofile": "biblio.bib",
   "cite_by": "apalike",
   "current_citInitial": 1,
   "eqLabelWithNumbers": true,
   "eqNumInitial": 1,
   "hotkeys": {
    "equation": "Ctrl-E",
    "itemize": "Ctrl-I"
   },
   "labels_anchors": false,
   "latex_user_defs": false,
   "report_style_numbering": false,
   "user_envs_cfg": false
  },
  "toc": {
   "base_numbering": 1,
   "nav_menu": {},
   "number_sections": true,
   "sideBar": true,
   "skip_h1_title": false,
   "title_cell": "Table of Contents",
   "title_sidebar": "Contents",
   "toc_cell": false,
   "toc_position": {},
   "toc_section_display": true,
   "toc_window_display": false
  }
 },
 "nbformat": 4,
 "nbformat_minor": 2
}
