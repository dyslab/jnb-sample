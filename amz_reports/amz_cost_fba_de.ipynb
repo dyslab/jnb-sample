{
 "cells": [
  {
   "cell_type": "markdown",
   "metadata": {},
   "source": [
    "Doc title: **Amazon FBA商品成本分析（德国站） The Costs Analysis @Amazon FBA (Germany)**\n",
    "\n",
    "Article notes: In terms of the complexity and diversity of real statistical data, this thesis is purposing to clarify and estimate the composition of approximate costs and profits on Amazon other than dedicating to the actual costs and profits for running business on Amazon.\n",
    "\n",
    "文章备注：鉴于真实数据的多样性和复杂性，本文不代表实际发生结果，只作为对成本利润的评测和估算。\n",
    "\n",
    "Last modified date: 2019-08-18 15:05:22 "
   ]
  },
  {
   "cell_type": "markdown",
   "metadata": {},
   "source": [
    "\n",
    "\n",
    "# 直接成本构成 The Composition Of Items Costs\n",
    "\n"
   ]
  },
  {
   "cell_type": "markdown",
   "metadata": {},
   "source": [
    "## 第一阶段，由出厂到目的国的固定成本 1st Stage, Fixed Costs Of Items From Factory To Destination FBA Warehouse"
   ]
  },
  {
   "cell_type": "markdown",
   "metadata": {},
   "source": [
    "### 生产成本 Costs Of Production"
   ]
  },
  {
   "cell_type": "markdown",
   "metadata": {
    "ExecuteTime": {
     "end_time": "2019-07-05T20:11:08.386870Z",
     "start_time": "2019-07-05T20:11:08.382301Z"
    }
   },
   "source": [
    "每双鞋的生产出货成本。"
   ]
  },
  {
   "cell_type": "code",
   "execution_count": 1,
   "metadata": {
    "ExecuteTime": {
     "end_time": "2019-08-18T06:59:01.522654Z",
     "start_time": "2019-08-18T06:59:01.520033Z"
    },
    "scrolled": true
   },
   "outputs": [],
   "source": [
    "# 人民币（元）。\n",
    "RMB_COP = 20"
   ]
  },
  {
   "cell_type": "markdown",
   "metadata": {},
   "source": [
    "### 头程运费 Head Freight Rates of Cross-border Cargo Shipping"
   ]
  },
  {
   "cell_type": "markdown",
   "metadata": {},
   "source": [
    "#### 国内运费 Part 1: Domestic Shipping Charges"
   ]
  },
  {
   "cell_type": "markdown",
   "metadata": {},
   "source": [
    "由产地运输到跨境货代集货仓的运费。"
   ]
  },
  {
   "cell_type": "code",
   "execution_count": 2,
   "metadata": {
    "ExecuteTime": {
     "end_time": "2019-08-18T06:59:01.600629Z",
     "start_time": "2019-08-18T06:59:01.593826Z"
    }
   },
   "outputs": [],
   "source": [
    "# 发往德国FBA的货物主要发往深圳（国内物流方式：快递），均摊约为0.5元/双。\n",
    "# 人民币（元）。\n",
    "RMB_DSC_DE = 0.5"
   ]
  },
  {
   "cell_type": "markdown",
   "metadata": {},
   "source": [
    "#### 跨境货运费 Part 2: Cross-border Shipping Charges"
   ]
  },
  {
   "cell_type": "markdown",
   "metadata": {},
   "source": [
    "由跨境货代集货仓运输至目的地FBA仓库的运费。"
   ]
  },
  {
   "cell_type": "code",
   "execution_count": 3,
   "metadata": {
    "ExecuteTime": {
     "end_time": "2019-08-18T06:59:01.679965Z",
     "start_time": "2019-08-18T06:59:01.642864Z"
    }
   },
   "outputs": [],
   "source": [
    "# 德国FBA（物流方式：空运包税，供测算），均摊约为20元/双。\n",
    "# 人民币（元）。\n",
    "RMB_CSC_DE = 20"
   ]
  },
  {
   "cell_type": "markdown",
   "metadata": {},
   "source": [
    "### 附加成本1：德国进口关税和VAT商品增值税 Affix Rates 1. Tariff and Imported VAT @DE"
   ]
  },
  {
   "cell_type": "code",
   "execution_count": 4,
   "metadata": {
    "ExecuteTime": {
     "end_time": "2019-08-18T06:59:01.775198Z",
     "start_time": "2019-08-18T06:59:01.682507Z"
    }
   },
   "outputs": [],
   "source": [
    "# 英国及欧盟经济体进口税包括：\n",
    "#     1. 欧盟经济区外第三国关税税率17%，\n",
    "#     2. 各国VAT（英国：20%，德国：19%，法国：20%，意大利：22%，西班牙：21%）\n",
    "#     3. 进口货物税率计算按申报价值+运杂费为基准数。\n",
    "# 目前发往国外FBA的货物申报价值均为USD$2美元/双。实缴均摊约为6.5元/双。\n",
    "# 人民币（元）。\n",
    "# 注：因测算方式为双清包税，此项费用为0\n",
    "RMB_IMPORTED_TAX_DE = 0"
   ]
  },
  {
   "cell_type": "code",
   "execution_count": 5,
   "metadata": {
    "ExecuteTime": {
     "end_time": "2019-08-18T06:59:01.842239Z",
     "start_time": "2019-08-18T06:59:01.777165Z"
    }
   },
   "outputs": [
    {
     "name": "stdout",
     "output_type": "stream",
     "text": [
      "德国第一阶段合计成本：40.5元。\n"
     ]
    }
   ],
   "source": [
    "# 第一阶段成本合计如下：\n",
    "# 人民币（元）。\n",
    "S1_SUM_DE = RMB_COP + RMB_DSC_DE + RMB_CSC_DE + RMB_IMPORTED_TAX_DE   # 英国\n",
    "\n",
    "print('德国第一阶段合计成本：{0}元。'.format(S1_SUM_DE))"
   ]
  },
  {
   "cell_type": "markdown",
   "metadata": {},
   "source": [
    "## 第二阶段，目的国FBA的固定销售成本 2nd Stage, The Outlay of Sales Costs by FBA @Destination"
   ]
  },
  {
   "cell_type": "markdown",
   "metadata": {},
   "source": [
    "以下部分支出发生在国外，因此均已当地货币计价后换算人民币。"
   ]
  },
  {
   "cell_type": "code",
   "execution_count": 6,
   "metadata": {
    "ExecuteTime": {
     "end_time": "2019-08-18T06:59:01.904618Z",
     "start_time": "2019-08-18T06:59:01.844457Z"
    }
   },
   "outputs": [],
   "source": [
    "# 美元采用汇率为6.5。2019年7月份美元实际汇率为6.8左右。\n",
    "EXCHANGE_RATE_USD = 6.5\n",
    "\n",
    "# 英镑采用汇率为8。2019年7月份英镑实际汇率为8.6左右。\n",
    "EXCHANGE_RATE_GBP = 8\n",
    "\n",
    "# 欧元采用汇率为7.7。2019年7月份欧元实际汇率为7.7左右。\n",
    "EXCHANGE_RATE_EUR = 7.7"
   ]
  },
  {
   "cell_type": "markdown",
   "metadata": {},
   "source": [
    "### FBA入库配置费 Inbound Settlement Charges"
   ]
  },
  {
   "cell_type": "markdown",
   "metadata": {},
   "source": [
    "根据亚马逊所述，入库配置费是针对货物最终发往不同FBA运营中心，为方便卖家统一发货，将同批次货物发到同一收货中心，再由亚马逊自行配送到不同运营中心所收取的服务费用。入库配置费的实际费用是结合体积与重量进行计算。\n",
    "\n",
    "按照亚马逊标准尺寸产品，1-2磅重的货物在美国FBA收费标准为 `0.3-0.4美元/件` 。\n",
    "\n",
    "而英国和欧洲国家面积不大，目前尚未发现有此类收费。"
   ]
  },
  {
   "cell_type": "code",
   "execution_count": 7,
   "metadata": {
    "ExecuteTime": {
     "end_time": "2019-08-18T06:59:01.975188Z",
     "start_time": "2019-08-18T06:59:01.906125Z"
    }
   },
   "outputs": [],
   "source": [
    "# 德国未收取此项费用。\n",
    "ISC_DE = 0"
   ]
  },
  {
   "cell_type": "markdown",
   "metadata": {},
   "source": [
    "### FBA仓储费 Storage Fees"
   ]
  },
  {
   "cell_type": "markdown",
   "metadata": {},
   "source": [
    "FBA仓储费属于一项变动开支，其计算因素包括：库存数量，体积大小，存放时间，存放时期，按月度计算，每月的 7 日到 15 日之间收取上个月的月度库存仓储费。\n",
    "\n",
    "\n",
    "\n",
    "美国收费2019年实施标准如下：（标准尺寸分类）\n",
    "\n",
    "- 1 月 - 9 月： 每立方英尺 `$0.69`\n",
    "\n",
    "- 10 月 - 12 月： 每立方英尺 `$2.40`\n",
    "\n",
    "*（注意:美国2019年标准中，10-12月的仓储费率是1-9月的仓储费率约3.5倍）*\n",
    "\n",
    "\n",
    "\n",
    "英国及欧洲地区收费自2019年4月1日实施标准如下：（服装、鞋靴和箱包分类）\n",
    "\n",
    "英国（按每月的平均每日储存量计算，以立方英尺为单位）\n",
    "\n",
    "- 1 月 - 9 月： `£0.39`\n",
    "\n",
    "- 10 月 - 12 月： `£0.55`\n",
    "\n",
    "德国、法国、意大利、西班牙（按每月的平均每日储存量计算，以立方米为单位）\n",
    "\n",
    "- 1 月 - 9 月： `€15.60`\n",
    "\n",
    "- 10 月 - 12 月： `€21.60`"
   ]
  },
  {
   "cell_type": "code",
   "execution_count": 8,
   "metadata": {
    "ExecuteTime": {
     "end_time": "2019-08-18T06:59:02.070207Z",
     "start_time": "2019-08-18T06:59:01.977262Z"
    }
   },
   "outputs": [
    {
     "name": "stdout",
     "output_type": "stream",
     "text": [
      "德国3个月每对鞋平均仓储费：0.14欧元。\n"
     ]
    }
   ],
   "source": [
    "# 按照亚马逊建议的3个月存储期作为平均仓储成本计算。\n",
    "# 鞋子以每对0.003立方米计算。\n",
    "SF_DE = (15.6 * 0.003) * 3   # 德国\n",
    "\n",
    "print('德国3个月每对鞋平均仓储费：{0:.2f}欧元。'.format(SF_DE))"
   ]
  },
  {
   "cell_type": "markdown",
   "metadata": {},
   "source": [
    "### 长期仓储费LTSF Long Term Storage Fees"
   ]
  },
  {
   "cell_type": "markdown",
   "metadata": {},
   "source": [
    "长期仓储费2019年起按如下要求实施：\n",
    "\n",
    "- 按月评估，按月收费\n",
    "\n",
    "- 每月 15 日进行库存清点计算。\n",
    "\n",
    "\n",
    "美国2019年2月15日起实施的LTSF费用标准：\n",
    "\n",
    "每月 15 日，亚马逊物流 (FBA) 会进行库存清点。我们将按每立方英尺`$6.90`的标准对已在美国运营中心存放超过 365 天的库存收取长期仓储费 (LTSF)，或每件收取`$0.15`的长期仓储费（以较大值为准）。\n",
    "\n",
    "\n",
    "英国2019年LTSF费用标准：对于在亚马逊运营中心存放超过 365 天的库存，亚马逊将按每立方英尺`£4.3`或每件商品最低`£0.10`的标准收取长期仓储费（取二者中的较高者）。\n",
    "\n",
    "\n",
    "欧洲地区2019年LTSF费用标准：对于在亚马逊运营中心存放超过 365 天的库存，亚马逊将按每立方米`€170`或每件商品最低`€0.10`的标准收取长期仓储费（取二者中的较高者）。"
   ]
  },
  {
   "cell_type": "code",
   "execution_count": 9,
   "metadata": {
    "ExecuteTime": {
     "end_time": "2019-08-18T06:59:02.149289Z",
     "start_time": "2019-08-18T06:59:02.072712Z"
    }
   },
   "outputs": [],
   "source": [
    "# 因此项收费难以估算，应列入支出而不作为成本考虑"
   ]
  },
  {
   "cell_type": "markdown",
   "metadata": {},
   "source": [
    "### FBA尾程配送费 Tail Feright Rates by FBA"
   ]
  },
  {
   "cell_type": "markdown",
   "metadata": {},
   "source": [
    "以我司产品的普遍尺寸重量作为分类依据，各国地区费用如下：\n",
    "\n",
    "美国2019年FBA物流配送费为：大号标准尺寸（1 至 2 磅）`$4.76/件`。\n",
    "\n",
    "德国采用EFN（欧洲配送网络）跨境物流服务，从德国FBA仓库发货到欧洲各国，其2019年收费标准（5月29日新版）如下，以目的国货币计价：\n",
    "\n",
    "产品尺寸归为 `标准包裹`，重量涵盖2个类别：\n",
    "\n",
    "- 标准包裹，小于等于0.5kg， 德国 国内派送：€2.65/件，发其他国家：€5.65/件\n",
    "\n",
    "- 标准包裹，小于等于1kg， 德国 国内派送：€3.08/件，发其他国家：€6.78/件"
   ]
  },
  {
   "cell_type": "code",
   "execution_count": 10,
   "metadata": {
    "ExecuteTime": {
     "end_time": "2019-08-18T06:59:02.216565Z",
     "start_time": "2019-08-18T06:59:02.153946Z"
    }
   },
   "outputs": [],
   "source": [
    "FBA_UK = 6.78  # 英国\n",
    "FBA_FR = 6.78  # 法国\n",
    "FBA_DE = 2.65  # 德国\n",
    "FBA_IT = 6.78  # 意大利\n",
    "FBA_ES = 6.78  # 西班牙"
   ]
  },
  {
   "cell_type": "markdown",
   "metadata": {},
   "source": [
    "### 亚马逊佣金 Amazon Commission Rates"
   ]
  },
  {
   "cell_type": "markdown",
   "metadata": {},
   "source": [
    "亚马逊美国站对于鞋靴类产品的销售佣金规定如下：\n",
    "\n",
    "- 对于总销售价格不超过 $75.00 的商品，收取 `15%` 的销售佣金；\n",
    "\n",
    "- 对于总销售价格超过 $75.00 的商品，收取 18% 的销售佣金；\n",
    "\n",
    "- 若每笔销售佣金小于 $0.30，则按 0.30美元/笔 收取。\n",
    "\n",
    "亚马逊欧洲及日本站对于鞋靴类产品的销售佣金统一规定为：`15%` （同样有最低佣金要求，欧洲为€0.30/笔，日本为）"
   ]
  },
  {
   "cell_type": "code",
   "execution_count": 11,
   "metadata": {
    "ExecuteTime": {
     "end_time": "2019-08-18T06:59:02.301824Z",
     "start_time": "2019-08-18T06:59:02.218432Z"
    }
   },
   "outputs": [],
   "source": [
    "# 佣金标准为15%。\n",
    "SHOES_ACR = 0.15"
   ]
  },
  {
   "cell_type": "markdown",
   "metadata": {},
   "source": [
    "### 附加成本２：欧洲销售VAT商品增值税 Affix Rates 2. Sales VAT @EU"
   ]
  },
  {
   "cell_type": "markdown",
   "metadata": {},
   "source": [
    "在VAT销售申报上，英国及欧盟地区均有退税政策。不过须注意，退税只适应于最终销售出去的产品。另外，对于VAT销售申报，由于以亚马逊后台数据为准，以此计税时实行的是销售价申报。目前，对于英国以外地区欧洲各国的进口VAT计算尚未经验，仍需观察。\n",
    "\n",
    "在税率方面，销售VAT与进口VAT采用一致税率。税率标准如下：\n",
    "\n",
    "英国：`20%`，德国：`19%`，法国：`20%`，意大利：`22%`，西班牙：`21%`\n",
    "\n",
    "目前，只有英国注册了VAT税号，按照英国政府规定，目前采用小规模销售纳税。VAT缩减税率（Reduced VAT）标准为 `7.5%`。但不能与进口VAT关税抵扣。\n",
    "\n",
    "关于是否在英国采用标准税率的问题。主要考虑因素如下：\n",
    "\n",
    "- 从长期来说，如果企业销售情况理想，存积货不多的话，采用标准税率可以抵扣是能够降低成本的。\n",
    "\n",
    "- 然而，采用缩减税率尽管不能抵扣VAT，但相对而言每期税务资金压力较小。采用20%计税的话，那每季的税务支出都将成为一个颇为沉重的资金负担。\n",
    "\n",
    "- VAT抵扣每年只进行一次，由于实际销售价和进口申报价值相差较大，仍不清楚当抵扣计算时会出现何种问题，也有可能招致低申报的税务罚款。"
   ]
  },
  {
   "cell_type": "code",
   "execution_count": 12,
   "metadata": {
    "ExecuteTime": {
     "end_time": "2019-08-18T06:59:02.370655Z",
     "start_time": "2019-08-18T06:59:02.303636Z"
    }
   },
   "outputs": [],
   "source": [
    "# 计算公式为：销售价 × VAT税率\n",
    "\n",
    "VAT_RATE_DE = 0.19    # 德国"
   ]
  },
  {
   "cell_type": "code",
   "execution_count": 13,
   "metadata": {
    "ExecuteTime": {
     "end_time": "2019-08-18T06:59:02.449632Z",
     "start_time": "2019-08-18T06:59:02.372102Z"
    },
    "scrolled": false
   },
   "outputs": [
    {
     "name": "stdout",
     "output_type": "stream",
     "text": [
      "英国第二阶段合计成本：11.52英镑。\n",
      "法国第二阶段合计成本：13.38欧元。\n",
      "德国第二阶段合计成本：9.25欧元。\n",
      "意大利第二阶段合计成本：13.38欧元。\n",
      "西班牙第二阶段合计成本：13.38欧元。\n"
     ]
    }
   ],
   "source": [
    "# 第二阶段成本测算如下：\n",
    "# 1. 因税率和佣金率存在，采用各国目前的平均销售价作为测算依据。\n",
    "UK_SALES_PRICE = 13 # 英国，测算英镑售价。\n",
    "EU_SALES_PRICE = 19 # 欧洲各国，欧元售价。\n",
    "\n",
    "# 2. 测算计价采用各国实际使用货币。\n",
    "S2_SUM_DE = SF_DE + FBA_DE + (EU_SALES_PRICE * SHOES_ACR) + (EU_SALES_PRICE * VAT_RATE_DE)  # 德国，欧元计价\n",
    "S2_SUM_FR = SF_DE + FBA_FR + (EU_SALES_PRICE * SHOES_ACR) + (EU_SALES_PRICE * VAT_RATE_DE)  # 法国，欧元计价\n",
    "S2_SUM_IT = SF_DE + FBA_IT + (EU_SALES_PRICE * SHOES_ACR) + (EU_SALES_PRICE * VAT_RATE_DE)  # 意大利，欧元计价\n",
    "S2_SUM_ES = SF_DE + FBA_ES + (EU_SALES_PRICE * SHOES_ACR) + (EU_SALES_PRICE * VAT_RATE_DE)  # 西班牙，欧元计价\n",
    "S2_SUM_UK = ((SF_DE + FBA_UK) * EXCHANGE_RATE_GBP / EXCHANGE_RATE_EUR) + (UK_SALES_PRICE * SHOES_ACR) + (UK_SALES_PRICE * EXCHANGE_RATE_EUR / EXCHANGE_RATE_GBP * VAT_RATE_DE)  # 英国，英镑计价\n",
    "\n",
    "print('英国第二阶段合计成本：{0:.2f}英镑。'.format(S2_SUM_UK))\n",
    "print('法国第二阶段合计成本：{0:.2f}欧元。'.format(S2_SUM_FR))\n",
    "print('德国第二阶段合计成本：{0:.2f}欧元。'.format(S2_SUM_DE))\n",
    "print('意大利第二阶段合计成本：{0:.2f}欧元。'.format(S2_SUM_IT))\n",
    "print('西班牙第二阶段合计成本：{0:.2f}欧元。'.format(S2_SUM_ES))"
   ]
  },
  {
   "cell_type": "markdown",
   "metadata": {},
   "source": [
    "## 第一及第二阶段的直接成本合计 Summary Of Direct Costs"
   ]
  },
  {
   "cell_type": "code",
   "execution_count": 14,
   "metadata": {
    "ExecuteTime": {
     "end_time": "2019-08-18T06:59:02.546677Z",
     "start_time": "2019-08-18T06:59:02.455589Z"
    },
    "scrolled": false
   },
   "outputs": [
    {
     "name": "stdout",
     "output_type": "stream",
     "text": [
      "英国直接成本合计：16.58英镑。\n",
      "法国直接成本合计：18.64欧元。\n",
      "德国直接成本合计：14.51欧元。\n",
      "意大利直接成本合计：18.64欧元。\n",
      "西班牙直接成本合计：18.64欧元。\n"
     ]
    }
   ],
   "source": [
    "# 直接成本合计采用各国实际使用货币。\n",
    "SDC_UK = (S1_SUM_DE / EXCHANGE_RATE_GBP) + S2_SUM_UK  # 英国，英磅计价\n",
    "SDC_FR = (S1_SUM_DE / EXCHANGE_RATE_EUR) + S2_SUM_FR  # 法国，欧元计价（因欧洲各国FBA订单皆为英国EFN发货，因此前期费用与英国相同，下同）\n",
    "SDC_DE = (S1_SUM_DE / EXCHANGE_RATE_EUR) + S2_SUM_DE  # 德国，欧元计价\n",
    "SDC_IT = (S1_SUM_DE / EXCHANGE_RATE_EUR) + S2_SUM_IT  # 意大利，欧元计价\n",
    "SDC_ES = (S1_SUM_DE / EXCHANGE_RATE_EUR) + S2_SUM_ES  # 西班牙，欧元计价\n",
    "\n",
    "print('英国直接成本合计：{0:.2f}英镑。'.format(SDC_UK))\n",
    "print('法国直接成本合计：{0:.2f}欧元。'.format(SDC_FR))\n",
    "print('德国直接成本合计：{0:.2f}欧元。'.format(SDC_DE))\n",
    "print('意大利直接成本合计：{0:.2f}欧元。'.format(SDC_IT))\n",
    "print('西班牙直接成本合计：{0:.2f}欧元。'.format(SDC_ES))"
   ]
  },
  {
   "cell_type": "markdown",
   "metadata": {},
   "source": [
    "## 测算售价毛利 Gross Profit"
   ]
  },
  {
   "cell_type": "code",
   "execution_count": 15,
   "metadata": {
    "ExecuteTime": {
     "end_time": "2019-08-18T06:59:02.665015Z",
     "start_time": "2019-08-18T06:59:02.548743Z"
    },
    "scrolled": false
   },
   "outputs": [
    {
     "name": "stdout",
     "output_type": "stream",
     "text": [
      "德国EFN发货测算情况：\n",
      "\n",
      "英国测算基准售价设置为：13.00英镑。\n",
      "欧洲各国（含德国）测算基准售价设置为：19.00欧元。\n",
      "\n",
      "英国测算售价毛利为：-3.58英镑。\n",
      "法国测算售价毛利为：0.36欧元。\n",
      "德国测算售价毛利为：4.49欧元。\n",
      "意大利测算售价毛利为：0.36欧元。\n",
      "西班牙测算售价毛利为：0.36欧元。\n"
     ]
    }
   ],
   "source": [
    "# 直接成本合计采用各国实际使用货币。\n",
    "GP_UK = UK_SALES_PRICE - SDC_UK  # 英国，英磅计价\n",
    "GP_FR = EU_SALES_PRICE - SDC_FR  # 法国，欧元计价\n",
    "GP_DE = EU_SALES_PRICE - SDC_DE  # 德国，欧元计价\n",
    "GP_IT = EU_SALES_PRICE - SDC_IT  # 意大利，欧元计价\n",
    "GP_ES = EU_SALES_PRICE - SDC_ES  # 西班牙，欧元计价\n",
    "\n",
    "print('德国EFN发货测算情况：\\n')\n",
    "print('英国测算基准售价设置为：{0:.2f}英镑。'.format(UK_SALES_PRICE))\n",
    "print('欧洲各国（含德国）测算基准售价设置为：{0:.2f}欧元。\\n'.format(EU_SALES_PRICE))\n",
    "\n",
    "print('英国测算售价毛利为：{0:.2f}英镑。'.format(GP_UK))\n",
    "print('法国测算售价毛利为：{0:.2f}欧元。'.format(GP_FR))\n",
    "print('德国测算售价毛利为：{0:.2f}欧元。'.format(GP_DE))\n",
    "print('意大利测算售价毛利为：{0:.2f}欧元。'.format(GP_IT))\n",
    "print('西班牙测算售价毛利为：{0:.2f}欧元。'.format(GP_ES))"
   ]
  }
 ],
 "metadata": {
  "kernelspec": {
   "display_name": "Python 3",
   "language": "python",
   "name": "python3"
  },
  "language_info": {
   "codemirror_mode": {
    "name": "ipython",
    "version": 3
   },
   "file_extension": ".py",
   "mimetype": "text/x-python",
   "name": "python",
   "nbconvert_exporter": "python",
   "pygments_lexer": "ipython3",
   "version": "3.7.3"
  },
  "latex_envs": {
   "LaTeX_envs_menu_present": true,
   "autoclose": false,
   "autocomplete": true,
   "bibliofile": "biblio.bib",
   "cite_by": "apalike",
   "current_citInitial": 1,
   "eqLabelWithNumbers": true,
   "eqNumInitial": 1,
   "hotkeys": {
    "equation": "Ctrl-E",
    "itemize": "Ctrl-I"
   },
   "labels_anchors": false,
   "latex_user_defs": false,
   "report_style_numbering": false,
   "user_envs_cfg": false
  },
  "toc": {
   "base_numbering": 1,
   "nav_menu": {},
   "number_sections": true,
   "sideBar": true,
   "skip_h1_title": false,
   "title_cell": "Table of Contents",
   "title_sidebar": "Contents",
   "toc_cell": false,
   "toc_position": {},
   "toc_section_display": true,
   "toc_window_display": false
  }
 },
 "nbformat": 4,
 "nbformat_minor": 2
}
