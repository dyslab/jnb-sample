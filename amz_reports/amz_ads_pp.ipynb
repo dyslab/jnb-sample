{
 "cells": [
  {
   "cell_type": "markdown",
   "metadata": {},
   "source": [
    "Doc title: **Amazon Advertising Purchased Product Report**\n",
    "\n",
    "Article notes: Data came from 'Reports/Advertising Reports/Sponsored Products/Purchased Product Report' @Amazon Seller Central. Certain columns of the file which contained the product ASIN has been removed or replaced by SKU instead.\n",
    "\n",
    "文章备注：亚马逊后台广告产品报告分析。其中包含ASIN数据的一些列已从文件中删除或被替换为SKU。\n",
    "\n",
    "Last modified date: 2019-09-12 17:29:01 "
   ]
  },
  {
   "cell_type": "code",
   "execution_count": 1,
   "metadata": {
    "ExecuteTime": {
     "end_time": "2019-09-12T09:29:11.647493Z",
     "start_time": "2019-09-12T09:29:11.465166Z"
    }
   },
   "outputs": [],
   "source": [
    "# 引入pandas数据分析模块\n",
    "import pandas as pd\n",
    "\n",
    "# 数据范例：美国站，月度数据\n",
    "workdf = pd.read_excel('data/amz_ads_pp_us_201908.xlsx', usecols=['广告活动名称', '广告组名称', '广告SKU', '投放', '匹配类型', '已购买的SKU'])"
   ]
  },
  {
   "cell_type": "code",
   "execution_count": 2,
   "metadata": {
    "ExecuteTime": {
     "end_time": "2019-09-12T09:29:11.654791Z",
     "start_time": "2019-09-12T09:29:11.648885Z"
    }
   },
   "outputs": [],
   "source": [
    "# Manipulating data 'SKU' and 'Hit Rates'\n",
    "workdf['广告款式'] = workdf['广告SKU'].str.slice(0,6)\n",
    "workdf['购买款式'] = workdf['已购买的SKU'].str.slice(0,6)\n",
    "workdf['命中'] = (workdf['广告款式'] == workdf['购买款式'])"
   ]
  },
  {
   "cell_type": "markdown",
   "metadata": {
    "ExecuteTime": {
     "end_time": "2019-07-22T07:53:58.056238Z",
     "start_time": "2019-07-22T07:53:58.053564Z"
    }
   },
   "source": [
    "# 广告购买产品数据分析"
   ]
  },
  {
   "cell_type": "markdown",
   "metadata": {
    "ExecuteTime": {
     "end_time": "2019-07-22T07:53:58.056238Z",
     "start_time": "2019-07-22T07:53:58.053564Z"
    }
   },
   "source": [
    "## 广告产品命中率分析"
   ]
  },
  {
   "cell_type": "code",
   "execution_count": 3,
   "metadata": {
    "ExecuteTime": {
     "end_time": "2019-09-12T09:29:11.734517Z",
     "start_time": "2019-09-12T09:29:11.657506Z"
    }
   },
   "outputs": [
    {
     "name": "stdout",
     "output_type": "stream",
     "text": [
      "广告产品命中率分析\n",
      "\n",
      "- 客户最终购买产品与广告产品为同款的数量（命中）：478件。\n",
      "- 客户最终购买产品与其他款式的数量（不命中）：507件。\n",
      "\n",
      "结论：广告产品销售合计：985件， 命中率：48.53%。\n"
     ]
    }
   ],
   "source": [
    "hit_df = workdf.groupby(['命中']).count()\n",
    "iyes = hit_df.at[False, '购买款式']\n",
    "ino = hit_df.at[True, '购买款式']\n",
    "icount = iyes + ino\n",
    "\n",
    "print('广告产品命中率分析\\n')\n",
    "print('- 客户最终购买产品与广告产品为同款的数量（命中）：{}件。'.format(iyes))\n",
    "print('- 客户最终购买产品与其他款式的数量（不命中）：{}件。'.format(ino))\n",
    "print('\\n结论：广告产品销售合计：{0}件， 命中率：{1:.2f}%。'.format(icount, iyes / icount * 100))"
   ]
  },
  {
   "cell_type": "markdown",
   "metadata": {
    "ExecuteTime": {
     "end_time": "2019-07-22T07:53:58.056238Z",
     "start_time": "2019-07-22T07:53:58.053564Z"
    }
   },
   "source": [
    "## 广告产品命中率分析（按广告产品款式）"
   ]
  },
  {
   "cell_type": "code",
   "execution_count": 4,
   "metadata": {
    "ExecuteTime": {
     "end_time": "2019-09-12T09:29:11.983968Z",
     "start_time": "2019-09-12T09:29:11.736665Z"
    }
   },
   "outputs": [
    {
     "data": {
      "text/html": [
       "<div>\n",
       "<style scoped>\n",
       "    .dataframe tbody tr th:only-of-type {\n",
       "        vertical-align: middle;\n",
       "    }\n",
       "\n",
       "    .dataframe tbody tr th {\n",
       "        vertical-align: top;\n",
       "    }\n",
       "\n",
       "    .dataframe thead th {\n",
       "        text-align: right;\n",
       "    }\n",
       "</style>\n",
       "<table border=\"1\" class=\"dataframe\">\n",
       "  <thead>\n",
       "    <tr style=\"text-align: right;\">\n",
       "      <th></th>\n",
       "      <th>销售总数</th>\n",
       "      <th>命中数</th>\n",
       "      <th>命中率</th>\n",
       "    </tr>\n",
       "    <tr>\n",
       "      <th>广告款式</th>\n",
       "      <th></th>\n",
       "      <th></th>\n",
       "      <th></th>\n",
       "    </tr>\n",
       "  </thead>\n",
       "  <tbody>\n",
       "    <tr>\n",
       "      <th>HM0505</th>\n",
       "      <td>9</td>\n",
       "      <td>9.0</td>\n",
       "      <td>100.00</td>\n",
       "    </tr>\n",
       "    <tr>\n",
       "      <th>HM0806</th>\n",
       "      <td>1</td>\n",
       "      <td>1.0</td>\n",
       "      <td>100.00</td>\n",
       "    </tr>\n",
       "    <tr>\n",
       "      <th>HM0903</th>\n",
       "      <td>22</td>\n",
       "      <td>18.0</td>\n",
       "      <td>81.82</td>\n",
       "    </tr>\n",
       "    <tr>\n",
       "      <th>HM0701</th>\n",
       "      <td>195</td>\n",
       "      <td>153.0</td>\n",
       "      <td>78.46</td>\n",
       "    </tr>\n",
       "    <tr>\n",
       "      <th>HM0709</th>\n",
       "      <td>3</td>\n",
       "      <td>2.0</td>\n",
       "      <td>66.67</td>\n",
       "    </tr>\n",
       "    <tr>\n",
       "      <th>HM0722</th>\n",
       "      <td>162</td>\n",
       "      <td>105.0</td>\n",
       "      <td>64.81</td>\n",
       "    </tr>\n",
       "    <tr>\n",
       "      <th>HM0725</th>\n",
       "      <td>7</td>\n",
       "      <td>4.0</td>\n",
       "      <td>57.14</td>\n",
       "    </tr>\n",
       "    <tr>\n",
       "      <th>HM0801</th>\n",
       "      <td>18</td>\n",
       "      <td>10.0</td>\n",
       "      <td>55.56</td>\n",
       "    </tr>\n",
       "    <tr>\n",
       "      <th>HM0715</th>\n",
       "      <td>2</td>\n",
       "      <td>1.0</td>\n",
       "      <td>50.00</td>\n",
       "    </tr>\n",
       "    <tr>\n",
       "      <th>HM0803</th>\n",
       "      <td>19</td>\n",
       "      <td>9.0</td>\n",
       "      <td>47.37</td>\n",
       "    </tr>\n",
       "  </tbody>\n",
       "</table>\n",
       "</div>"
      ],
      "text/plain": [
       "        销售总数    命中数     命中率\n",
       "广告款式                       \n",
       "HM0505     9    9.0  100.00\n",
       "HM0806     1    1.0  100.00\n",
       "HM0903    22   18.0   81.82\n",
       "HM0701   195  153.0   78.46\n",
       "HM0709     3    2.0   66.67\n",
       "HM0722   162  105.0   64.81\n",
       "HM0725     7    4.0   57.14\n",
       "HM0801    18   10.0   55.56\n",
       "HM0715     2    1.0   50.00\n",
       "HM0803    19    9.0   47.37"
      ]
     },
     "execution_count": 4,
     "metadata": {},
     "output_type": "execute_result"
    }
   ],
   "source": [
    "# Initialize dataframe\n",
    "hit_count_df = workdf.sort_values(by=['广告款式']).groupby(['广告款式']).count()\n",
    "hit_count_df = hit_count_df[['广告SKU']]\n",
    "hit_count_df['销售总数'] = hit_count_df['广告SKU']\n",
    "hit_count_df = hit_count_df[['销售总数']]\n",
    "\n",
    "hit_true_df = workdf.groupby(['广告款式', '命中']).count()\n",
    "hit_true_df = hit_true_df[['广告SKU']].xs(True, level='命中')\n",
    "hit_true_df['命中数'] = hit_true_df['广告SKU']\n",
    "hit_true_df = hit_true_df[['命中数']]\n",
    "\n",
    "# Merge dataframe base on the index of hit_count_df.\n",
    "hit_df = hit_count_df.merge(hit_true_df, how='left', left_on='广告款式', right_on='广告款式').fillna(0)\n",
    "hit_df['命中率'] = round(hit_df['命中数'] / hit_df['销售总数'] * 100, 2)\n",
    "\n",
    "hit_df.sort_values(by=['命中率'], ascending = False).head(10)"
   ]
  },
  {
   "cell_type": "markdown",
   "metadata": {},
   "source": [
    "此表解决的问题为：\n",
    "\n",
    "- 计算各广告产品款式的命中率。（客户最终购买产品与广告产品为相同款式，即为“命中”，命中率由高到低排序）\n",
    "\n",
    "- 从概率上而言，选择命中率越高的产品做广告，客户点击广告产品后购买的可能性也越高。"
   ]
  },
  {
   "cell_type": "markdown",
   "metadata": {
    "ExecuteTime": {
     "end_time": "2019-07-22T07:53:58.056238Z",
     "start_time": "2019-07-22T07:53:58.053564Z"
    }
   },
   "source": [
    "## 广告产品与非同款购买产品闭环销售的关联情况"
   ]
  },
  {
   "cell_type": "code",
   "execution_count": 5,
   "metadata": {
    "ExecuteTime": {
     "end_time": "2019-09-12T09:29:12.095210Z",
     "start_time": "2019-09-12T09:29:11.985951Z"
    },
    "scrolled": false
   },
   "outputs": [
    {
     "data": {
      "text/html": [
       "<div>\n",
       "<style scoped>\n",
       "    .dataframe tbody tr th:only-of-type {\n",
       "        vertical-align: middle;\n",
       "    }\n",
       "\n",
       "    .dataframe tbody tr th {\n",
       "        vertical-align: top;\n",
       "    }\n",
       "\n",
       "    .dataframe thead th {\n",
       "        text-align: right;\n",
       "    }\n",
       "</style>\n",
       "<table border=\"1\" class=\"dataframe\">\n",
       "  <thead>\n",
       "    <tr style=\"text-align: right;\">\n",
       "      <th></th>\n",
       "      <th>广告款式</th>\n",
       "      <th>购买款式</th>\n",
       "      <th>销售数</th>\n",
       "      <th>占比</th>\n",
       "    </tr>\n",
       "  </thead>\n",
       "  <tbody>\n",
       "    <tr>\n",
       "      <th>131</th>\n",
       "      <td>HM0737</td>\n",
       "      <td>HM0722</td>\n",
       "      <td>17</td>\n",
       "      <td>68.00</td>\n",
       "    </tr>\n",
       "    <tr>\n",
       "      <th>88</th>\n",
       "      <td>HM0727</td>\n",
       "      <td>HM0741</td>\n",
       "      <td>1</td>\n",
       "      <td>50.00</td>\n",
       "    </tr>\n",
       "    <tr>\n",
       "      <th>47</th>\n",
       "      <td>HM0715</td>\n",
       "      <td>HM0740</td>\n",
       "      <td>1</td>\n",
       "      <td>50.00</td>\n",
       "    </tr>\n",
       "    <tr>\n",
       "      <th>45</th>\n",
       "      <td>HM0714</td>\n",
       "      <td>HM0737</td>\n",
       "      <td>1</td>\n",
       "      <td>50.00</td>\n",
       "    </tr>\n",
       "    <tr>\n",
       "      <th>44</th>\n",
       "      <td>HM0714</td>\n",
       "      <td>HM0701</td>\n",
       "      <td>1</td>\n",
       "      <td>50.00</td>\n",
       "    </tr>\n",
       "    <tr>\n",
       "      <th>87</th>\n",
       "      <td>HM0727</td>\n",
       "      <td>HM0719</td>\n",
       "      <td>1</td>\n",
       "      <td>50.00</td>\n",
       "    </tr>\n",
       "    <tr>\n",
       "      <th>121</th>\n",
       "      <td>HM0732</td>\n",
       "      <td>HM0731</td>\n",
       "      <td>1</td>\n",
       "      <td>50.00</td>\n",
       "    </tr>\n",
       "    <tr>\n",
       "      <th>122</th>\n",
       "      <td>HM0732</td>\n",
       "      <td>HM0739</td>\n",
       "      <td>1</td>\n",
       "      <td>50.00</td>\n",
       "    </tr>\n",
       "    <tr>\n",
       "      <th>204</th>\n",
       "      <td>HM0801</td>\n",
       "      <td>HM0803</td>\n",
       "      <td>8</td>\n",
       "      <td>44.44</td>\n",
       "    </tr>\n",
       "    <tr>\n",
       "      <th>207</th>\n",
       "      <td>HM0803</td>\n",
       "      <td>HM0801</td>\n",
       "      <td>7</td>\n",
       "      <td>36.84</td>\n",
       "    </tr>\n",
       "  </tbody>\n",
       "</table>\n",
       "</div>"
      ],
      "text/plain": [
       "       广告款式    购买款式  销售数     占比\n",
       "131  HM0737  HM0722   17  68.00\n",
       "88   HM0727  HM0741    1  50.00\n",
       "47   HM0715  HM0740    1  50.00\n",
       "45   HM0714  HM0737    1  50.00\n",
       "44   HM0714  HM0701    1  50.00\n",
       "87   HM0727  HM0719    1  50.00\n",
       "121  HM0732  HM0731    1  50.00\n",
       "122  HM0732  HM0739    1  50.00\n",
       "204  HM0801  HM0803    8  44.44\n",
       "207  HM0803  HM0801    7  36.84"
      ]
     },
     "execution_count": 5,
     "metadata": {},
     "output_type": "execute_result"
    }
   ],
   "source": [
    "# Initialize dataframe\n",
    "hit_count_df = workdf.sort_values(by=['广告款式']).groupby(['广告款式']).count()\n",
    "hit_count_df = hit_count_df[['广告SKU']]\n",
    "hit_count_df['广告款式销售总数'] = hit_count_df['广告SKU']\n",
    "hit_count_df = hit_count_df[['广告款式销售总数']]\n",
    "\n",
    "hit_df = workdf.sort_values(by=['广告款式']).groupby(['广告款式', '购买款式']).count()\n",
    "hit_df = hit_df[['广告SKU']]\n",
    "hit_df['销售数'] = hit_df['广告SKU']\n",
    "hit_df = hit_df[['销售数']]\n",
    "hit_df.reset_index(level='购买款式', inplace=True)\n",
    "\n",
    "# Merge dataframe base on the index of hit10_df.\n",
    "hit_df = hit_df.merge(hit_count_df, how='left', left_on='广告款式', right_on='广告款式').fillna(0)\n",
    "hit_df['占比'] = round(hit_df['销售数'] / hit_df['广告款式销售总数'] * 100, 2)\n",
    "hit_df.reset_index(inplace=True)\n",
    "\n",
    "# Get list of the item which is '广告款式'='购买款式' or '占比'=100.\n",
    "remove_item_list = []\n",
    "for content in hit_df.iterrows():\n",
    "    if (content[1].广告款式 == content[1].购买款式) or (content[1].占比 == 100):\n",
    "        remove_item_list.append(content[1].name)\n",
    "\n",
    "# Remove items based on above conditions.\n",
    "hit_df.drop(remove_item_list, inplace=True)\n",
    "hit_df.drop(columns=['广告款式销售总数'], inplace=True)\n",
    "\n",
    "hit_df.sort_values(by=['占比'], ascending=False).head(10)"
   ]
  },
  {
   "cell_type": "markdown",
   "metadata": {},
   "source": [
    "此表解决的问题为：\n",
    "\n",
    "- 找出没有购买同款广告产品的客户发生了其他哪些关联销售？按其占比进行排序。"
   ]
  },
  {
   "cell_type": "markdown",
   "metadata": {},
   "source": [
    "**[返回目录](amz_ads_catalog.ipynb)**"
   ]
  }
 ],
 "metadata": {
  "kernelspec": {
   "display_name": "Python 3",
   "language": "python",
   "name": "python3"
  },
  "language_info": {
   "codemirror_mode": {
    "name": "ipython",
    "version": 3
   },
   "file_extension": ".py",
   "mimetype": "text/x-python",
   "name": "python",
   "nbconvert_exporter": "python",
   "pygments_lexer": "ipython3",
   "version": "3.7.3"
  },
  "latex_envs": {
   "LaTeX_envs_menu_present": true,
   "autoclose": false,
   "autocomplete": true,
   "bibliofile": "biblio.bib",
   "cite_by": "apalike",
   "current_citInitial": 1,
   "eqLabelWithNumbers": true,
   "eqNumInitial": 1,
   "hotkeys": {
    "equation": "Ctrl-E",
    "itemize": "Ctrl-I"
   },
   "labels_anchors": false,
   "latex_user_defs": false,
   "report_style_numbering": false,
   "user_envs_cfg": false
  },
  "toc": {
   "base_numbering": 1,
   "nav_menu": {},
   "number_sections": true,
   "sideBar": true,
   "skip_h1_title": false,
   "title_cell": "Table of Contents",
   "title_sidebar": "Contents",
   "toc_cell": false,
   "toc_position": {},
   "toc_section_display": true,
   "toc_window_display": false
  }
 },
 "nbformat": 4,
 "nbformat_minor": 2
}
