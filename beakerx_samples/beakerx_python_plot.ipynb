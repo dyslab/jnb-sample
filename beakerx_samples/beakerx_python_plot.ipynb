{
 "cells": [
  {
   "cell_type": "markdown",
   "metadata": {},
   "source": [
    "# Simple Plot"
   ]
  },
  {
   "cell_type": "code",
   "execution_count": 1,
   "metadata": {
    "ExecuteTime": {
     "end_time": "2019-11-06T12:05:40.992238Z",
     "start_time": "2019-11-06T12:05:40.987328Z"
    }
   },
   "outputs": [],
   "source": [
    "# 导入beakerx库及其他所需库文件\n",
    "from beakerx import *\n",
    "from beakerx.object import beakerx\n",
    "from beakerx.plot import Text as BeakerxText\n",
    "\n",
    "import numpy as np\n",
    "import pandas as pd\n",
    "import math, random"
   ]
  },
  {
   "cell_type": "code",
   "execution_count": 2,
   "metadata": {
    "ExecuteTime": {
     "end_time": "2019-11-06T12:05:41.093751Z",
     "start_time": "2019-11-06T12:05:41.002742Z"
    }
   },
   "outputs": [
    {
     "data": {
      "application/vnd.jupyter.widget-view+json": {
       "model_id": "900cf8b6bbad4d95a569caae3f89ffec",
       "version_major": 2,
       "version_minor": 0
      }
     },
     "metadata": {},
     "output_type": "display_data"
    }
   ],
   "source": [
    "p1 = Plot(\n",
    "    title = \"BeakerX/Python Plot Demo 图形演示 #1\",\n",
    "    xLabel = \"X轴\",\n",
    "    yLabel = \"Y轴\",\n",
    "    showLegend = True,\n",
    "    omitCheckboxes = True,\n",
    "    initWidth = 540,\n",
    "    initHeight = 480\n",
    ")\n",
    "\n",
    "xdata = [1,3,5,7,9]\n",
    "ydata = [100,120,190,150,80]\n",
    "\n",
    "# 加入第二坐标轴\n",
    "p1.add(YAxis(label = \"第二坐标Y轴\"))\n",
    "\n",
    "# 加入柱状图\n",
    "p1.add(\n",
    "    Bars(\n",
    "        displayName = \"柱状图演示\", \n",
    "        x = xdata, \n",
    "        y = ydata,\n",
    "        color = Color.pink,\n",
    "        outlineColor= Color.red,\n",
    "        width = 0.7\n",
    "    )\n",
    ")\n",
    "\n",
    "# 加入数据点\n",
    "p1.add(\n",
    "    Points(\n",
    "        x = xdata,\n",
    "        y = ydata,\n",
    "        color = Color(0, 0, 255, 172),\n",
    "        outlineColor= Color.blue,\n",
    "        size = 20,\n",
    "        shape = ShapeType.DIAMOND\n",
    "    )\n",
    ")\n",
    "\n",
    "# 加入随机线段（对应第二坐标Y轴）\n",
    "p1.add(\n",
    "    Line(\n",
    "        displayName = \"第二坐标Y轴线段\",\n",
    "        yAxis = \"第二坐标Y轴\",\n",
    "        x = xdata, \n",
    "        y = [random.randrange(11,20) for x in xdata],\n",
    "        color = Color.darkGreen,\n",
    "        style = StrokeType.DASHDOT,\n",
    "        width = 3\n",
    "    )\n",
    ")\n",
    "\n",
    "# 设置X轴和两条Y轴的显示区域范围\n",
    "p1.setXBound(0,10)\n",
    "p1.getYAxes()[0].setBound(0,200)\n",
    "p1.getYAxes()[1].setBound(10,20)\n",
    "\n",
    "p1"
   ]
  },
  {
   "cell_type": "code",
   "execution_count": 3,
   "metadata": {
    "ExecuteTime": {
     "end_time": "2019-11-06T12:05:41.173847Z",
     "start_time": "2019-11-06T12:05:41.095541Z"
    }
   },
   "outputs": [
    {
     "data": {
      "application/vnd.jupyter.widget-view+json": {
       "model_id": "11c32e00712748faa7d7d043fcdec000",
       "version_major": 2,
       "version_minor": 0
      }
     },
     "metadata": {},
     "output_type": "display_data"
    }
   ],
   "source": [
    "p2 = Plot(\n",
    "    title = \"BeakerX/Python Plot Demo 图形演示 #2\",\n",
    "    xLabel = \"X轴\",\n",
    "    yLabel = \"Y轴\",\n",
    "    initWidth = 520\n",
    ")\n",
    "\n",
    "# 生成随机坐标\n",
    "xdata = [x for x in range(0,6)]\n",
    "ybase = [-2+x for x in xdata]\n",
    "ydata = [y+random.randrange(1,10) for y in ybase]\n",
    "\n",
    "# 随机颜色（等于y个数）\n",
    "cs = [[Color.darkGray, Color.darkGreen, Color.red, Color.blue, Color.pink][random.randrange(0,5)] for y in ybase]\n",
    "# 填充属性（循环使用）\n",
    "ss = [StrokeType.SOLID, StrokeType.DASH, StrokeType.DOT, StrokeType.DASHDOT, StrokeType.LONGDASH]\n",
    "\n",
    "# 加入辅助线\n",
    "p2.add(\n",
    "    ConstantLine(\n",
    "        y = 6.5,\n",
    "        width = 3,\n",
    "        showLabel=True,\n",
    "        style = StrokeType.DASH,\n",
    "        color = Color.LIGHT_GRAY\n",
    "    )\n",
    ")\n",
    "\n",
    "# 加入杆图\n",
    "p2.add(\n",
    "    Stems(\n",
    "        x = xdata,\n",
    "        y = ydata,\n",
    "        base = ybase,\n",
    "        color = cs,\n",
    "        style = ss,\n",
    "        width = 30\n",
    "    )\n",
    ")\n",
    "\n",
    "# 加入线段\n",
    "p2.add(\n",
    "    Line(\n",
    "        x = xdata,\n",
    "        y = ydata,\n",
    "        width = 5,\n",
    "        color = Color.MAGENTA,\n",
    "        style = StrokeType.DOT\n",
    "    )\n",
    ")\n",
    "\n",
    "# 加入随机区域\n",
    "p2.add(\n",
    "    Area(\n",
    "        x = xdata,\n",
    "        y = [random.randrange(-5,5) for x in xdata],\n",
    "        base = 0,\n",
    "        # interpolation= 0,\n",
    "        color = Color(192,192,255,128)\n",
    "    )\n",
    ")"
   ]
  },
  {
   "cell_type": "code",
   "execution_count": 4,
   "metadata": {
    "ExecuteTime": {
     "end_time": "2019-11-06T12:05:41.283890Z",
     "start_time": "2019-11-06T12:05:41.175503Z"
    }
   },
   "outputs": [
    {
     "data": {
      "application/vnd.jupyter.widget-view+json": {
       "model_id": "d4a7e627788040828d423ab487ec38dd",
       "version_major": 2,
       "version_minor": 0
      }
     },
     "metadata": {},
     "output_type": "display_data"
    }
   ],
   "source": [
    "tdata = pd.read_csv(\"sample.csv\").groupby('单价').sum()\n",
    "\n",
    "# 加入十字指示线\n",
    "ch = Crosshair(color=Color.lightGray, width=2, style=StrokeType.DOT)\n",
    "\n",
    "p3 = Plot(\n",
    "    title = \"BeakerX/Python Plot Demo 图形演示 #3 （Pandas数据显示）\",\n",
    "    xLabel = \"单价\",\n",
    "    yLabel = \"合计数量\",\n",
    "    omitCheckboxes = True,\n",
    "    legendLayout= LegendLayout.HORIZONTAL,\n",
    "    legendPosition= LegendPosition(position=LegendPosition.Position.BOTTOM),\n",
    "    crosshair = ch\n",
    ")\n",
    "\n",
    "# 加入柱状图（数据由Pandas获取）\n",
    "p3.add(\n",
    "    Bars(\n",
    "        displayName= \"价格区域数量合计\",\n",
    "        x = tdata['数量'].index.tolist(),\n",
    "        y = tdata['数量'], # y = tdata['数量'].tolist(),\n",
    "        width= 0.6,\n",
    "        color= Color(54, 128, 54, 192)\n",
    "    )\n",
    ")\n",
    "\n",
    "# 加入辅助区域\n",
    "p3.add(\n",
    "    ConstantBand(\n",
    "        y = [5, 'Infinity'], # ['-Infinity', 3]\n",
    "        color = Color(255,128,128,32)\n",
    "    )\n",
    ")\n",
    "\n",
    "# 加入文字说明\n",
    "p3.add(\n",
    "    BeakerxText(\n",
    "        x = tdata.index[-4],\n",
    "        y = int(tdata['数量'][tdata.index[-4]]),\n",
    "        text= '这个数值 = ' + str(tdata['数量'][tdata.index[1]]),\n",
    "        color = Color.blue,\n",
    "        pointerAngle = math.pi * 1.75\n",
    "    )\n",
    ")"
   ]
  },
  {
   "cell_type": "code",
   "execution_count": 5,
   "metadata": {
    "ExecuteTime": {
     "end_time": "2019-11-06T12:05:41.404455Z",
     "start_time": "2019-11-06T12:05:41.285991Z"
    }
   },
   "outputs": [
    {
     "data": {
      "application/vnd.jupyter.widget-view+json": {
       "model_id": "80411b1df92742d1b66808db981f4c14",
       "version_major": 2,
       "version_minor": 0
      }
     },
     "metadata": {},
     "output_type": "display_data"
    }
   ],
   "source": [
    "y1 = [random.randint(1,100) for y in range(10)]\n",
    "y2 = [random.randint(1,100) for y in y1]\n",
    "\n",
    "p4 = Plot(\n",
    "    title = \"BeakerX/Python Plot Demo 图形演示 #4 （堆积图）\",\n",
    "    initHeight=360\n",
    ")\n",
    "\n",
    "a1 = Area(y = y1, displayName = 'y1')\n",
    "a2 = Area(y = y2, displayName = 'y2')\n",
    "\n",
    "p4.add(\n",
    "    XYStacker().stack([a1, a2])\n",
    ")"
   ]
  },
  {
   "cell_type": "code",
   "execution_count": 6,
   "metadata": {
    "ExecuteTime": {
     "end_time": "2019-11-06T12:05:41.506151Z",
     "start_time": "2019-11-06T12:05:41.405634Z"
    },
    "scrolled": false
   },
   "outputs": [
    {
     "data": {
      "application/vnd.jupyter.widget-view+json": {
       "model_id": "6700993b33c348cf94e7cbc1920f9d14",
       "version_major": 2,
       "version_minor": 0
      }
     },
     "metadata": {},
     "output_type": "display_data"
    }
   ],
   "source": [
    "xdata = [(x*2)/180*math.pi for x in range(181)]\n",
    "ydata1 = [math.sin(x) for x in xdata]\n",
    "ydata2 = [math.cos(x) for x in xdata]\n",
    "\n",
    "p5 = Plot(\n",
    "    title = \"BeakerX/Python Plot Demo 图形演示 #5 （正弦/余弦函数图）\",\n",
    "    initWidth=720,\n",
    "    initHeight=360\n",
    ")\n",
    "\n",
    "p5.add(\n",
    "    Line(\n",
    "        x = xdata,\n",
    "        y = ydata1,\n",
    "        displayName= \"f(x) = sin(x)\"\n",
    "    )\n",
    ")\n",
    "\n",
    "p5.add(\n",
    "    Line(\n",
    "        x = xdata,\n",
    "        y = ydata2,\n",
    "        displayName= \"f(x) = cos(x)\"\n",
    "    )\n",
    ")"
   ]
  },
  {
   "cell_type": "markdown",
   "metadata": {
    "ExecuteTime": {
     "end_time": "2019-11-05T16:41:59.042873Z",
     "start_time": "2019-11-05T16:41:59.037879Z"
    }
   },
   "source": [
    "# Time Plot"
   ]
  },
  {
   "cell_type": "code",
   "execution_count": 7,
   "metadata": {
    "ExecuteTime": {
     "end_time": "2019-11-06T12:05:41.600728Z",
     "start_time": "2019-11-06T12:05:41.508344Z"
    },
    "scrolled": false
   },
   "outputs": [
    {
     "data": {
      "application/vnd.jupyter.widget-view+json": {
       "model_id": "d5b8910dd84c40c8b410c9ca0f5038fa",
       "version_major": 2,
       "version_minor": 0
      }
     },
     "metadata": {},
     "output_type": "display_data"
    }
   ],
   "source": [
    "# 以当前时间为起始点，生成24小时随机数据。（1小时间隔）\n",
    "millis = current_milli_time()\n",
    "hour = round(1000 * 60 * 60)\n",
    "xdata = [millis + hour * x for x in range(24)]\n",
    "ydata = [random.random() for x in xdata]\n",
    "\n",
    "tp1 = TimePlot(\n",
    "    title = \"BeakerX/Python Time Plot Demo 时间图形演示 #1\",\n",
    "    xLabel = \"时间\",\n",
    "    yLabel = \"随机值\",\n",
    "    omitCheckboxes = True,\n",
    "    timeZone=\"China/Beijing\"\n",
    ")\n",
    "\n",
    "# list of milliseconds\n",
    "tp1.add(\n",
    "    Points(\n",
    "        x = xdata,\n",
    "        y = ydata,\n",
    "        size = 10,\n",
    "        displayName=\"时间（毫秒）\"\n",
    "    )\n",
    ")"
   ]
  },
  {
   "cell_type": "code",
   "execution_count": 8,
   "metadata": {
    "ExecuteTime": {
     "end_time": "2019-11-06T12:05:41.714073Z",
     "start_time": "2019-11-06T12:05:41.602318Z"
    }
   },
   "outputs": [
    {
     "data": {
      "application/vnd.jupyter.widget-view+json": {
       "model_id": "30720a38f20b4e6a90457b9f5e6f7454",
       "version_major": 2,
       "version_minor": 0
      }
     },
     "metadata": {},
     "output_type": "display_data"
    }
   ],
   "source": [
    "# 生成当年12个月的随机点数据。\n",
    "current_year = datetime.now().year\n",
    "xdata = [datetime(current_year, m+1, 1) for m in range(12)]\n",
    "ydata = [random.random() for x in xdata]\n",
    "\n",
    "tp2 = TimePlot(\n",
    "    title = \"BeakerX/Python Time Plot Demo 时间图形演示 #2\",\n",
    "    xLabel = \"时间\",\n",
    "    yLabel = \"随机值\",\n",
    ")\n",
    "\n",
    "tp2.add(\n",
    "    Line(\n",
    "        x=xdata,\n",
    "        y=ydata\n",
    "    )\n",
    ")"
   ]
  },
  {
   "cell_type": "code",
   "execution_count": 9,
   "metadata": {
    "ExecuteTime": {
     "end_time": "2019-11-06T12:05:41.841090Z",
     "start_time": "2019-11-06T12:05:41.716072Z"
    }
   },
   "outputs": [
    {
     "name": "stderr",
     "output_type": "stream",
     "text": [
      "/home/vincent/anaconda3/lib/python3.7/site-packages/beakerx/plot/chart.py:312: FutureWarning: The 'get_values' method is deprecated and will be removed in a future version. Use '.to_numpy()' or '.array' instead.\n",
      "  xs = tableData.index.get_values()\n"
     ]
    },
    {
     "data": {
      "application/vnd.jupyter.widget-view+json": {
       "model_id": "2804d31e791548399dcf20e02b426e33",
       "version_major": 2,
       "version_minor": 0
      }
     },
     "metadata": {},
     "output_type": "display_data"
    }
   ],
   "source": [
    "# 使用pandas生成未来若干天数时间对象\n",
    "rng = pd.date_range('1/1/%s' % datetime.now().year, periods=15, freq='D')\n",
    "\n",
    "# 使用numpy和pandas生成未来72天的正态分布随机序列\n",
    "ts1 = pd.Series(np.random.randn(len(rng)) * 10, index=rng)\n",
    "ts2 = pd.Series(np.random.randn(len(rng)) * 10, index=rng)\n",
    "\n",
    "# 生产pandas的df对象\n",
    "df = pd.merge(\n",
    "    pd.DataFrame(ts1, columns=['随机值1']),\n",
    "    pd.DataFrame(ts2, columns=['随机值2']),\n",
    "    left_index=True,\n",
    "    right_index=True\n",
    ")\n",
    "\n",
    "SimpleTimePlot(\n",
    "    df,\n",
    "    ['随机值1', '随机值2'],\n",
    "    title = \"BeakerX/Python Simple Time Plot Demo 简单时间图形演示\",\n",
    "    colors = [Color(54, 154, 216), Color(154, 54, 216)],\n",
    "    displayLines = True,\n",
    "    displayPoints = True,\n",
    "    initHeight = 320\n",
    ")"
   ]
  },
  {
   "cell_type": "markdown",
   "metadata": {
    "ExecuteTime": {
     "end_time": "2019-11-05T16:41:59.042873Z",
     "start_time": "2019-11-05T16:41:59.037879Z"
    }
   },
   "source": [
    "# Combined Plot"
   ]
  },
  {
   "cell_type": "code",
   "execution_count": 10,
   "metadata": {
    "ExecuteTime": {
     "end_time": "2019-11-06T12:05:41.957660Z",
     "start_time": "2019-11-06T12:05:41.842471Z"
    }
   },
   "outputs": [
    {
     "data": {
      "application/vnd.jupyter.widget-view+json": {
       "model_id": "8cfd6db459fa43af83633bd0fd4f8565",
       "version_major": 2,
       "version_minor": 0
      }
     },
     "metadata": {},
     "output_type": "display_data"
    }
   ],
   "source": [
    "# 生成随机数据\n",
    "xdata = [x+1 for x in range(12)]\n",
    "ydata1 = [5+random.random()*5 for x in xdata]\n",
    "ydata2 = [random.randint(1000,9999) for x in xdata]\n",
    "\n",
    "# 组合图表\n",
    "cp1 = CombinedPlot(\n",
    "    title = \"Combined Plot Demo 月度单价与销量图表演示\",\n",
    "    xLabel = \"月份\",\n",
    ")\n",
    "\n",
    "# 加入线段图\n",
    "cp1_1 = Plot(\n",
    "    # title = \"单价\",\n",
    "    yLabel = \"元\",\n",
    ").add(\n",
    "    Line(\n",
    "        x = xdata,\n",
    "        y = ydata1,\n",
    "        displayName = \"月平均单价\"\n",
    "    )\n",
    ")\n",
    "cp1.add(cp1_1, 4)\n",
    "\n",
    "# 加入柱状图\n",
    "cp1_2 = Plot(\n",
    "    # title= \"销量\",\n",
    "    yLabel= \"件\",\n",
    ").add(\n",
    "    Bars(\n",
    "        x = xdata,\n",
    "        y = ydata2,\n",
    "        displayName = \"月销量\",\n",
    "        color = Color.pink,\n",
    "        width = 0.6\n",
    "    )\n",
    ")\n",
    "cp1.add(cp1_2, 6)"
   ]
  }
 ],
 "metadata": {
  "kernelspec": {
   "display_name": "Python 3",
   "language": "python",
   "name": "python3"
  },
  "language_info": {
   "codemirror_mode": {
    "name": "ipython",
    "version": 3
   },
   "file_extension": ".py",
   "mimetype": "text/x-python",
   "name": "python",
   "nbconvert_exporter": "python",
   "pygments_lexer": "ipython3",
   "version": "3.7.4"
  },
  "latex_envs": {
   "LaTeX_envs_menu_present": true,
   "autoclose": false,
   "autocomplete": true,
   "bibliofile": "biblio.bib",
   "cite_by": "apalike",
   "current_citInitial": 1,
   "eqLabelWithNumbers": true,
   "eqNumInitial": 1,
   "hotkeys": {
    "equation": "Ctrl-E",
    "itemize": "Ctrl-I"
   },
   "labels_anchors": false,
   "latex_user_defs": false,
   "report_style_numbering": false,
   "user_envs_cfg": false
  },
  "toc": {
   "base_numbering": 1,
   "nav_menu": {},
   "number_sections": true,
   "sideBar": true,
   "skip_h1_title": false,
   "title_cell": "Table of Contents",
   "title_sidebar": "Contents",
   "toc_cell": false,
   "toc_position": {},
   "toc_section_display": true,
   "toc_window_display": false
  }
 },
 "nbformat": 4,
 "nbformat_minor": 2
}
