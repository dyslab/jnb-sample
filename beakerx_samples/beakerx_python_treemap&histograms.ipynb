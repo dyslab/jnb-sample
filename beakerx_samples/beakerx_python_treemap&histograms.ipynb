{
 "cells": [
  {
   "cell_type": "markdown",
   "metadata": {},
   "source": [
    "# Tree Map"
   ]
  },
  {
   "cell_type": "code",
   "execution_count": 1,
   "metadata": {
    "ExecuteTime": {
     "end_time": "2019-11-07T16:08:16.681399Z",
     "start_time": "2019-11-07T16:08:16.671775Z"
    }
   },
   "outputs": [],
   "source": [
    "# 导入beakerx库及其他所需库文件\n",
    "from beakerx import *\n",
    "from beakerx.object import beakerx\n",
    "\n",
    "import numpy as np"
   ]
  },
  {
   "cell_type": "code",
   "execution_count": 2,
   "metadata": {
    "ExecuteTime": {
     "end_time": "2019-11-07T16:08:16.761968Z",
     "start_time": "2019-11-07T16:08:16.683608Z"
    }
   },
   "outputs": [
    {
     "name": "stdout",
     "output_type": "stream",
     "text": [
      "子节点00\n",
      "子节点01\n",
      "子节点02\n",
      "子节点03\n",
      "子节点00-00: 3\n",
      "子节点00-01: 4\n",
      "子节点01-00: 1\n",
      "子节点01-01: 1\n",
      "子节点02-00: 1\n",
      "子节点03-00: 3\n",
      "子节点03-01: 2\n"
     ]
    }
   ],
   "source": [
    "# 生成随机树状结构数据\n",
    "\n",
    "# 构造父节点\n",
    "tmpnode = TreeMapNode(\"父节点\")\n",
    "\n",
    "# 构造子节点\n",
    "for i in range(np.random.randint(3,6)):\n",
    "    slabel = \"子节点%02d\" % i\n",
    "    tmpnode.add(TreeMapNode(slabel))\n",
    "    print(\"{}\".format(slabel))\n",
    "    \n",
    "# 构造孙节点\n",
    "for ci in range(tmpnode.getChildCount()):\n",
    "    vsum = 0\n",
    "    for gi in range(np.random.randint(4)):\n",
    "        v = np.random.randint(1,5)\n",
    "        slabel = \"{:s}-{:02d}\".format(tmpnode.children[ci].label, gi)\n",
    "        tmpnode.children[ci].add(TreeMapNode(slabel, v, DefaultValue(v)))\n",
    "        vsum += v\n",
    "        print(\"{}: {}\".format(slabel, v))\n",
    "    if vsum == 0: # 如果结点下无子结点，须对该结点的doubleValue赋值\n",
    "        v = np.random.randint(1,10)\n",
    "        tmpnode.children[ci].doubleValue = v\n",
    "        tmpnode.children[ci].labelValue = v\n",
    "        print(\"{}: {}\".format(tmpnode.children[ci].label, v))"
   ]
  },
  {
   "cell_type": "code",
   "execution_count": 3,
   "metadata": {
    "ExecuteTime": {
     "end_time": "2019-11-07T16:08:16.834418Z",
     "start_time": "2019-11-07T16:08:16.765781Z"
    }
   },
   "outputs": [],
   "source": [
    "class ToolTipBuilder:\n",
    "    def getToolTip(self,node):\n",
    "        tooltip = \"\"\n",
    "        if node.isLeaf():\n",
    "            tooltip += \"<b>标签:</b> \" + (node.label)\n",
    "            tooltip += \"<br/><b>值:</b> \"+ node.labelValue\n",
    "            # tooltip += \"<br/><b>重量:</b> \" + str(node.weight)\n",
    "\n",
    "        return tooltip\n",
    "\n",
    "\n",
    "toolTipBuilder = ToolTipBuilder()"
   ]
  },
  {
   "cell_type": "code",
   "execution_count": 4,
   "metadata": {
    "ExecuteTime": {
     "end_time": "2019-11-07T16:08:16.905976Z",
     "start_time": "2019-11-07T16:08:16.836348Z"
    }
   },
   "outputs": [
    {
     "data": {
      "application/vnd.jupyter.widget-view+json": {
       "model_id": "01cff1d9986f4573a83d3e5952e1d6f7",
       "version_major": 2,
       "version_minor": 0
      }
     },
     "metadata": {},
     "output_type": "display_data"
    }
   ],
   "source": [
    "tm1 = TreeMap(\n",
    "    title = \"BeakerX/Tree Map Demo 树状结构图演示\",\n",
    "    xLabel = \"X轴\",\n",
    "    yLabel = \"Y轴\",\n",
    "    root =  tmpnode,\n",
    "    mode = Mode.SQUARIFY, # Mode.SQUARIFY / Mode.SLICE_DIC / Mode.SLICE / Mode.DICE\n",
    "    showLegend = True,\n",
    "    toolTipBuilder= toolTipBuilder\n",
    ")\n",
    "\n",
    "# 设置过渡颜色（按数值大小显示）\n",
    "tm1.setColorProvider(GradientColorProvider(tm1, Color(206, 206, 255), Color(6, 6, 255)))\n",
    "\n",
    "tm1"
   ]
  },
  {
   "cell_type": "markdown",
   "metadata": {},
   "source": [
    "# Histograms"
   ]
  },
  {
   "cell_type": "code",
   "execution_count": 5,
   "metadata": {
    "ExecuteTime": {
     "end_time": "2019-11-07T16:08:16.980145Z",
     "start_time": "2019-11-07T16:08:16.907257Z"
    },
    "scrolled": false
   },
   "outputs": [
    {
     "data": {
      "application/vnd.jupyter.widget-view+json": {
       "model_id": "76bf67204fb34e228a819b186df97a9a",
       "version_major": 2,
       "version_minor": 0
      }
     },
     "metadata": {},
     "output_type": "display_data"
    }
   ],
   "source": [
    "data = np.random.randn(1000)\n",
    "\n",
    "# print(data)\n",
    "\n",
    "h1 = Histogram(\n",
    "    title = \"BeakerX/Histograms Demo 直方图演示 #1 （数值分布）\",\n",
    "    xLabel = \"随机值\",\n",
    "    yLabel = \"分布数量\",\n",
    "    data = data,\n",
    "    rangeMin = -3.5,\n",
    "    rangeMax = 3.5,\n",
    "    initWidth = 800,\n",
    "    initHeight = 400,\n",
    "    binCount = 49 # 分布区域数\n",
    ")\n",
    "\n",
    "h1"
   ]
  },
  {
   "cell_type": "code",
   "execution_count": 6,
   "metadata": {
    "ExecuteTime": {
     "end_time": "2019-11-07T16:08:17.087691Z",
     "start_time": "2019-11-07T16:08:16.982077Z"
    }
   },
   "outputs": [
    {
     "data": {
      "application/vnd.jupyter.widget-view+json": {
       "model_id": "98ca0e3fbc9a4ec4a44d7d4d0dd570f0",
       "version_major": 2,
       "version_minor": 0
      }
     },
     "metadata": {},
     "output_type": "display_data"
    }
   ],
   "source": [
    "data = np.random.randn(2,500).tolist()\n",
    "\n",
    "# print(data)\n",
    "\n",
    "h2 = Histogram(\n",
    "    title = \"BeakerX/Histograms Demo 直方图演示 #2 （数值分布）\",\n",
    "    xLabel = \"随机值\",\n",
    "    yLabel = \"分布数量\",\n",
    "    data = data,\n",
    "    names= [\"正态分布随机序列 #%s\" % i for i in range(len(data))],\n",
    "    color = [Color(255,128,144,192), Color(128,144,255,192)],\n",
    "    displayMode = Histogram.DisplayMode.SIDE_BY_SIDE,\n",
    "    # cumulative = True,\n",
    "    normed= True,\n",
    "    binCount = 49 # 分布区域数\n",
    ")\n",
    "\n",
    "h2"
   ]
  }
 ],
 "metadata": {
  "kernelspec": {
   "display_name": "Python 3",
   "language": "python",
   "name": "python3"
  },
  "language_info": {
   "codemirror_mode": {
    "name": "ipython",
    "version": 3
   },
   "file_extension": ".py",
   "mimetype": "text/x-python",
   "name": "python",
   "nbconvert_exporter": "python",
   "pygments_lexer": "ipython3",
   "version": "3.7.4"
  },
  "latex_envs": {
   "LaTeX_envs_menu_present": true,
   "autoclose": false,
   "autocomplete": true,
   "bibliofile": "biblio.bib",
   "cite_by": "apalike",
   "current_citInitial": 1,
   "eqLabelWithNumbers": true,
   "eqNumInitial": 1,
   "hotkeys": {
    "equation": "Ctrl-E",
    "itemize": "Ctrl-I"
   },
   "labels_anchors": false,
   "latex_user_defs": false,
   "report_style_numbering": false,
   "user_envs_cfg": false
  },
  "toc": {
   "base_numbering": 1,
   "nav_menu": {},
   "number_sections": true,
   "sideBar": true,
   "skip_h1_title": false,
   "title_cell": "Table of Contents",
   "title_sidebar": "Contents",
   "toc_cell": false,
   "toc_position": {},
   "toc_section_display": true,
   "toc_window_display": false
  }
 },
 "nbformat": 4,
 "nbformat_minor": 2
}
