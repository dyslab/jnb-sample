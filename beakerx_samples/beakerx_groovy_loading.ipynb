{
 "cells": [
  {
   "cell_type": "markdown",
   "metadata": {},
   "source": [
    "# BeakerX Loading演示"
   ]
  },
  {
   "cell_type": "code",
   "execution_count": 2,
   "metadata": {
    "ExecuteTime": {
     "end_time": "2019-11-09T16:42:26.644000Z",
     "start_time": "2019-11-09T16:42:26.644+0000"
    },
    "init_cell": true,
    "tags": [
     "loading"
    ]
   },
   "outputs": [
    {
     "data": {
      "application/vnd.jupyter.widget-view+json": {
       "model_id": "",
       "version_major": 2,
       "version_minor": 0
      },
      "method": "display_data"
     },
     "metadata": {},
     "output_type": "display_data"
    },
    {
     "data": {
      "text/plain": [
       "演示结束！"
      ]
     },
     "execution_count": 2,
     "metadata": {},
     "output_type": "execute_result"
    }
   ],
   "source": [
    "def messages = [\"启动 🕖\",\n",
    "                \"吃面 🍲\",\n",
    "                \"吃虾 🦐\",\n",
    "                \"咖啡时间 ⭕\",\n",
    "                \"装入动画 🍃\"];\n",
    "\n",
    "(0..4).each {\n",
    "  beakerx.showProgressUpdate(messages[it], it*20)\n",
    "  sleep(1000)\n",
    "}\n",
    "\n",
    "sleep(1000)\n",
    "\n",
    "\"演示结束！\""
   ]
  }
 ],
 "metadata": {
  "celltoolbar": "Initialization Cell",
  "kernelspec": {
   "display_name": "Groovy",
   "language": "groovy",
   "name": "groovy"
  },
  "language_info": {
   "codemirror_mode": "groovy",
   "file_extension": ".groovy",
   "mimetype": "",
   "name": "Groovy",
   "nbconverter_exporter": "",
   "version": "2.5.6"
  },
  "toc": {
   "base_numbering": 1,
   "nav_menu": {},
   "number_sections": false,
   "sideBar": false,
   "skip_h1_title": false,
   "title_cell": "Table of Contents",
   "title_sidebar": "Contents",
   "toc_cell": false,
   "toc_position": {},
   "toc_section_display": false,
   "toc_window_display": false
  }
 },
 "nbformat": 4,
 "nbformat_minor": 2
}
