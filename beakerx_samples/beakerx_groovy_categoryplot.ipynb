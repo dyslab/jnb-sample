{
 "cells": [
  {
   "cell_type": "markdown",
   "metadata": {},
   "source": [
    "# Category Plot"
   ]
  },
  {
   "cell_type": "code",
   "execution_count": 1,
   "metadata": {
    "ExecuteTime": {
     "end_time": "2019-11-04T08:47:58.696000Z",
     "start_time": "2019-11-04T08:47:58.696+0000"
    }
   },
   "outputs": [
    {
     "data": {
      "application/vnd.jupyter.widget-view+json": {
       "model_id": "5b1b7004-616e-43ed-80d7-cb797da660b7",
       "version_major": 2,
       "version_minor": 0
      },
      "method": "display_data"
     },
     "metadata": {},
     "output_type": "display_data"
    }
   ],
   "source": [
    "def bars1 = new CategoryBars(\n",
    "    seriesNames: [\"A店\", \"B店\", \"C店\"],\n",
    "    value: [\n",
    "        [2, 4, 5], \n",
    "        [3, 5, 4], \n",
    "        [4, 6, 3]\n",
    "    ]\n",
    ")\n",
    "\n",
    "cp1 = new CategoryPlot(\n",
    "    title: \"CategoryPlot 分组图形演示 #1\",\n",
    "    xLabel: \"类别\",\n",
    "    yLabel: \"数量\",\n",
    "    categoryNames: [\"鞋子\", \"手表\", \"杯具\"],\n",
    "    omitCheckboxes: true,\n",
    "    orientation: PlotOrientationType.VERTICAL, // PlotOrientationType.HORIZONTAL,\n",
    "    initWidth: 500,\n",
    "    initHeight: 480\n",
    ")\n",
    "cp1 << bars1"
   ]
  },
  {
   "cell_type": "code",
   "execution_count": 2,
   "metadata": {
    "ExecuteTime": {
     "end_time": "2019-11-04T08:47:58.855000Z",
     "start_time": "2019-11-04T08:47:58.855+0000"
    }
   },
   "outputs": [
    {
     "data": {
      "application/vnd.jupyter.widget-view+json": {
       "model_id": "1e94a5f0-d6b9-4d17-8f83-2bf2cf1e5b24",
       "version_major": 2,
       "version_minor": 0
      },
      "method": "display_data"
     },
     "metadata": {},
     "output_type": "display_data"
    }
   ],
   "source": [
    "def bars2 = new CategoryBars(\n",
    "    value: [\n",
    "        [1, 6, 4], \n",
    "        [4, 3, 2], \n",
    "        [7, 0.5, 4]\n",
    "    ],\n",
    "    base: -1, // [-3, -2, -1],\n",
    "    itemLabel: {value, base-> Math.abs(value-base)},\n",
    "    color: [Color.pink,new Color(128,128,240,128)],\n",
    "    fill: [true, true, false],\n",
    "    drawOutline: [false, true, true],\n",
    "    outlineColor: [Color.black, Color.red, Color.blue]\n",
    ")\n",
    "\n",
    "cp2 = new CategoryPlot(\n",
    "    title: \"CategoryPlot 分组图形演示 #2\",\n",
    "    showLegend: true,\n",
    "    yUpperMargin: 0.1,\n",
    "    categoryMargin: 0.5\n",
    ")\n",
    "\n",
    "cp2 << bars2"
   ]
  },
  {
   "cell_type": "code",
   "execution_count": 3,
   "metadata": {
    "ExecuteTime": {
     "end_time": "2019-11-04T08:47:59.063000Z",
     "start_time": "2019-11-04T08:47:59.063+0000"
    }
   },
   "outputs": [
    {
     "data": {
      "application/vnd.jupyter.widget-view+json": {
       "model_id": "3fe4907c-06fb-4669-9646-1c2a8cbe5189",
       "version_major": 2,
       "version_minor": 0
      },
      "method": "display_data"
     },
     "metadata": {},
     "output_type": "display_data"
    }
   ],
   "source": [
    "def dv = [\n",
    "    [1.5, 2.6, 3.1],\n",
    "    [4.3, 5.9, 6.1]\n",
    "]\n",
    "\n",
    "stems = new CategoryStems(\n",
    "    value: dv,\n",
    "    style: [StrokeType.DASHDOT, StrokeType.LONGDASH],\n",
    "    color: [Color.green, Color.cyan],\n",
    "    // showItemLabel: true,\n",
    "    width: 50\n",
    ")\n",
    "\n",
    "cp3 = new CategoryPlot(\n",
    "    title: \"CategoryPlot 分组图形演示 #3\",\n",
    "    yLabel: \"数量\",\n",
    "    categoryNames: [\"鞋子\", \"手表\", \"杯具\"],\n",
    "    xUpperMargin: 0.1,\n",
    "    xLowerMargin: 0.1,\n",
    "    yUpperMargin: 0.1,\n",
    "    initWidth: 720,\n",
    "    initHeight: 360\n",
    ")\n",
    "\n",
    "// 柱状图\n",
    "cp3 << stems\n",
    "\n",
    "// 点\n",
    "cp3 << new CategoryPoints(value: dv, showItemLabel:true)\n",
    "\n",
    "// 线\n",
    "cp3 << new CategoryLines(value: dv, style: [StrokeType.DASH, StrokeType.DOT])"
   ]
  },
  {
   "cell_type": "code",
   "execution_count": 4,
   "metadata": {
    "ExecuteTime": {
     "end_time": "2019-11-04T08:47:59.213000Z",
     "start_time": "2019-11-04T08:47:59.213+0000"
    }
   },
   "outputs": [
    {
     "data": {
      "application/vnd.jupyter.widget-view+json": {
       "model_id": "57cc3096-ad0b-4dec-9b12-222d95c4baad",
       "version_major": 2,
       "version_minor": 0
      },
      "method": "display_data"
     },
     "metadata": {},
     "output_type": "display_data"
    }
   ],
   "source": [
    "def cp4 = new CategoryPlot(\n",
    "    title: \"CategoryPlot 分组图形演示 #4\",\n",
    "    yLabel: \"重量（公斤）\",\n",
    "    categoryNames: [\"包裹1\", \"包裹2\", \"包裹3\", \"包裹4\"],\n",
    "    yAutoRangeIncludesZero: true,\n",
    "    xUpperMargin: 0.1,\n",
    "    xLowerMargin: 0.1,\n",
    "    yUpperMargin: 0.1\n",
    ")\n",
    "\n",
    "wd = [[2.6, 3.1, 2, 3.4]]\n",
    "// 点、线、区域图与y轴第一坐标关联（默认）\n",
    "cp4 << new CategoryLines(\n",
    "    value: wd,\n",
    "    color: Color.GRAY,\n",
    "    style: StrokeType.LONGDASH,\n",
    "    width: 2,\n",
    "    showItemLabel: true\n",
    ")\n",
    "cp4 << new CategoryPoints(\n",
    "    value: wd,\n",
    "    shape: ShapeType.CIRCLE,\n",
    "    color: Color.black\n",
    ")\n",
    "cp4 << new CategoryArea(\n",
    "    value: wd,\n",
    "    base: 2.5,\n",
    "    color: new Color(192,240,192,64)\n",
    ")\n",
    "\n",
    "vd = [[2500, 3200, 1500, 3000]]\n",
    "// y轴第二坐标\n",
    "cp4 << new YAxis(\n",
    "    label: \"体积（立方厘米）\",\n",
    "    upperMargin: 1\n",
    ")\n",
    "// 条形图与y轴第二坐标关联\n",
    "cp4 << new CategoryBars(\n",
    "    value: vd,\n",
    "    width: 0.5,\n",
    "    color: new Color(255, 200, 200, 192),\n",
    "    yAxis: \"体积（立方厘米）\",\n",
    "    showItemLabel: true,\n",
    "    useToolTip: false\n",
    ")"
   ]
  },
  {
   "cell_type": "code",
   "execution_count": 5,
   "metadata": {
    "ExecuteTime": {
     "end_time": "2019-11-04T08:47:59.477000Z",
     "start_time": "2019-11-04T08:47:59.477+0000"
    },
    "scrolled": false
   },
   "outputs": [
    {
     "name": "stdout",
     "output_type": "stream",
     "text": [
      "VALUE_OUTSIDE\tVALUE_INSIDE\tCENTER\tBASE_OUTSIDE\tBASE_INSIDE\t"
     ]
    },
    {
     "data": {
      "application/vnd.jupyter.widget-view+json": {
       "model_id": "b85a984b-b458-4051-9681-f585be05ce5c",
       "version_major": 2,
       "version_minor": 0
      },
      "method": "display_data"
     },
     "metadata": {},
     "output_type": "display_data"
    }
   ],
   "source": [
    "table = [\n",
    "    [三月:1159, 四月:1315, 五月:3922],\n",
    "    [三月:2129, 四月:2358, 五月:4190],\n",
    "    [三月:3005, 四月:2776, 五月:3120],\n",
    "    [三月:1590, 四月:1715, 五月:2192]\n",
    "]\n",
    "def v = table.collect { it.values().toList() }\n",
    "\n",
    "def cp5 = new CategoryPlot(\n",
    "    title: \"CategoryPlot 分组图形演示 #5\",\n",
    "    yLabel: \"销量\",\n",
    "    categoryNames: table[0].keySet().toList(),\n",
    "    omitCheckboxes: false,\n",
    "    useToolTip: false,\n",
    "    yUpperMargin: 0.05,\n",
    "    categoryMargin: 1\n",
    ")\n",
    "\n",
    "// 显示LabelPositionType属性值\n",
    "LabelPositionType.each {\n",
    "    print it\n",
    "    print \"\\t\"\n",
    "}\n",
    "\n",
    "cp5 << new CategoryBars(\n",
    "    value: v,\n",
    "    seriesNames: [\"A店\", \"B店\", \"C店\", \"D店\"],\n",
    "    labelPosition: LabelPositionType.VALUE_OUTSIDE, // LabelPositionType.VALUE_INSIDE, LabelPositionType.BASE_INSIDE,\n",
    "    showItemLabel: true\n",
    ")"
   ]
  },
  {
   "cell_type": "markdown",
   "metadata": {},
   "source": [
    "*注：有关Groovy语言的更多详情，请参阅[Apache Groovy官方文档](http://www.groovy-lang.org/documentation.html)。*"
   ]
  }
 ],
 "metadata": {
  "kernelspec": {
   "display_name": "Groovy",
   "language": "groovy",
   "name": "groovy"
  },
  "language_info": {
   "codemirror_mode": "groovy",
   "file_extension": ".groovy",
   "mimetype": "",
   "name": "Groovy",
   "nbconverter_exporter": "",
   "version": "2.5.6"
  },
  "latex_envs": {
   "LaTeX_envs_menu_present": true,
   "autoclose": false,
   "autocomplete": true,
   "bibliofile": "biblio.bib",
   "cite_by": "apalike",
   "current_citInitial": 1,
   "eqLabelWithNumbers": true,
   "eqNumInitial": 1,
   "hotkeys": {
    "equation": "Ctrl-E",
    "itemize": "Ctrl-I"
   },
   "labels_anchors": false,
   "latex_user_defs": false,
   "report_style_numbering": false,
   "user_envs_cfg": false
  },
  "toc": {
   "base_numbering": 1,
   "nav_menu": {},
   "number_sections": true,
   "sideBar": true,
   "skip_h1_title": false,
   "title_cell": "Table of Contents",
   "title_sidebar": "Contents",
   "toc_cell": false,
   "toc_position": {},
   "toc_section_display": true,
   "toc_window_display": false
  }
 },
 "nbformat": 4,
 "nbformat_minor": 2
}
