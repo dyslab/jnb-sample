{
 "cells": [
  {
   "cell_type": "markdown",
   "metadata": {},
   "source": [
    "# Plot API Update"
   ]
  },
  {
   "cell_type": "code",
   "execution_count": 1,
   "metadata": {
    "ExecuteTime": {
     "end_time": "2019-11-04T10:01:28.961000Z",
     "start_time": "2019-11-04T10:01:28.961+0000"
    },
    "scrolled": false
   },
   "outputs": [
    {
     "data": {
      "application/vnd.jupyter.widget-view+json": {
       "model_id": "4a705c25-94be-47e0-b86e-5afd0a5bde6b",
       "version_major": 2,
       "version_minor": 0
      },
      "method": "display_data"
     },
     "metadata": {},
     "output_type": "display_data"
    }
   ],
   "source": [
    "pu1 = new Plot(\n",
    "    title: \"Plot API Update Sample 图形API演示\",\n",
    "    showLegend: true,\n",
    "    omitCheckboxes: true,\n",
    "    useToolTip: false,\n",
    "    initWidth: 480,\n",
    "    initHeight: 360,\n",
    "    yUpperMargin: 0.1,\n",
    "    yLowerMargin: 0.1\n",
    ")\n",
    "\n",
    "pu1 << new Line(x: [0, 5], y: [7, 8], width: 10, displayName: \"线段1\")"
   ]
  },
  {
   "cell_type": "code",
   "execution_count": 2,
   "metadata": {
    "ExecuteTime": {
     "end_time": "2019-11-04T10:01:35.001000Z",
     "start_time": "2019-11-04T10:01:35.001+0000"
    }
   },
   "outputs": [],
   "source": [
    "pu1 << new Bars(y: [3, 4, 5, 6, 7, 8], width: 0.6, displayName: \"💹 柱状图\")\n",
    "\n",
    "OutputCell.HIDDEN"
   ]
  },
  {
   "cell_type": "code",
   "execution_count": 3,
   "metadata": {
    "ExecuteTime": {
     "end_time": "2019-11-04T10:01:43.227000Z",
     "start_time": "2019-11-04T10:01:43.227+0000"
    }
   },
   "outputs": [],
   "source": [
    "pu1.setInitWidth(720)\n",
    "\n",
    "OutputCell.HIDDEN"
   ]
  },
  {
   "cell_type": "code",
   "execution_count": 4,
   "metadata": {
    "ExecuteTime": {
     "end_time": "2019-11-04T10:01:49.557000Z",
     "start_time": "2019-11-04T10:01:49.557+0000"
    }
   },
   "outputs": [],
   "source": [
    "ch = new Crosshair(color: Color.gray, width: 2, style: StrokeType.DOT)\n",
    "pu1.setCrosshair(ch)\n",
    "\n",
    "OutputCell.HIDDEN"
   ]
  }
 ],
 "metadata": {
  "kernelspec": {
   "display_name": "Groovy",
   "language": "groovy",
   "name": "groovy"
  },
  "language_info": {
   "codemirror_mode": "groovy",
   "file_extension": ".groovy",
   "mimetype": "",
   "name": "Groovy",
   "nbconverter_exporter": "",
   "version": "2.5.6"
  },
  "latex_envs": {
   "LaTeX_envs_menu_present": true,
   "autoclose": false,
   "autocomplete": true,
   "bibliofile": "biblio.bib",
   "cite_by": "apalike",
   "current_citInitial": 1,
   "eqLabelWithNumbers": true,
   "eqNumInitial": 1,
   "hotkeys": {
    "equation": "Ctrl-E",
    "itemize": "Ctrl-I"
   },
   "labels_anchors": false,
   "latex_user_defs": false,
   "report_style_numbering": false,
   "user_envs_cfg": false
  },
  "toc": {
   "base_numbering": 1,
   "nav_menu": {},
   "number_sections": true,
   "sideBar": true,
   "skip_h1_title": false,
   "title_cell": "Table of Contents",
   "title_sidebar": "Contents",
   "toc_cell": false,
   "toc_position": {},
   "toc_section_display": true,
   "toc_window_display": false
  }
 },
 "nbformat": 4,
 "nbformat_minor": 2
}
