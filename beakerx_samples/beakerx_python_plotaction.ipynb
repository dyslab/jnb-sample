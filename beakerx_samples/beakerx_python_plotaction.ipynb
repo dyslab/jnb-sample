{
 "cells": [
  {
   "cell_type": "markdown",
   "metadata": {},
   "source": [
    "# Plot Action"
   ]
  },
  {
   "cell_type": "code",
   "execution_count": 1,
   "metadata": {
    "ExecuteTime": {
     "end_time": "2019-11-06T15:16:12.068040Z",
     "start_time": "2019-11-06T15:16:11.975626Z"
    }
   },
   "outputs": [],
   "source": [
    "# 导入beakerx库及其他所需库文件\n",
    "from beakerx import *\n",
    "from beakerx.object import beakerx\n",
    "\n",
    "import random"
   ]
  },
  {
   "cell_type": "code",
   "execution_count": 2,
   "metadata": {
    "ExecuteTime": {
     "end_time": "2019-11-06T15:16:12.143570Z",
     "start_time": "2019-11-06T15:16:12.078780Z"
    }
   },
   "outputs": [
    {
     "data": {
      "application/vnd.jupyter.widget-view+json": {
       "model_id": "a5e8a428dc3846b7bda776ebec46b314",
       "version_major": 2,
       "version_minor": 0
      }
     },
     "metadata": {},
     "output_type": "display_data"
    },
    {
     "name": "stdout",
     "output_type": "stream",
     "text": [
      "第 1 次点击。\n",
      "第 2 次点击。\n",
      "第 3 次点击。\n"
     ]
    }
   ],
   "source": [
    "pa1 = Plot(\n",
    "    title = \"BeakerX/Python Plot Action Demo 图形操作演示 #1 - 线段点击\",\n",
    "    xLabel = \"X轴\",\n",
    "    yLabel = \"Y轴\",\n",
    "    initWidth = 540,\n",
    "    initHeight = 360,\n",
    "    useToolTip= False\n",
    ")\n",
    "\n",
    "xdata = [x for x in range(10)]\n",
    "ydata1 = [random.randint(11,49) for x in xdata]\n",
    "ydata2 = [random.randint(11,49) for x in xdata]\n",
    "ydata3 = [random.randint(1,9) for x in xdata]\n",
    "\n",
    "# 加入线段及点击事件\n",
    "pa1.add(\n",
    "    Line(\n",
    "        displayName = \"线段1\",\n",
    "        x = xdata,\n",
    "        y = ydata1,\n",
    "        color = Color.pink,\n",
    "        style = StrokeType.DASH,\n",
    "        width = 8\n",
    "    ).onClick(\"这是 Color.pink 线段发出的一条点击提示信息。\")\n",
    ")\n",
    "\n",
    "# 随机改变数据点y轴坐标值函数\n",
    "def randomizePoints(info):\n",
    "    for i in range(0,len(info.graphics.y)):\n",
    "        info.graphics.y[i] = random.randint(11,49)\n",
    "        \n",
    "# 加入线段及点击事件\n",
    "pa1.add(\n",
    "    Line(\n",
    "        displayName = \"线段2\",\n",
    "        x = xdata,\n",
    "        y = ydata2,\n",
    "        color = Color(18, 144, 132, 128),\n",
    "        width = 8\n",
    "    ).onClick(randomizePoints)\n",
    ")\n",
    "\n",
    "# 点击计数及显示函数\n",
    "count = 0\n",
    "def countClicks(info):\n",
    "    global count\n",
    "    count += 1\n",
    "    print(\"第 %s 次点击。\" % count)\n",
    "    beakerx.runByTag(\"第 {} 次点击。\".format(count))\n",
    "        \n",
    "# 加入线段及点击事件\n",
    "pa1.add(\n",
    "    Points(\n",
    "        displayName = \"数据点\",\n",
    "        x = xdata,\n",
    "        y = ydata3,\n",
    "        color = Color.red,\n",
    "        size = 10\n",
    "    ).onClick(countClicks)\n",
    ")"
   ]
  },
  {
   "cell_type": "code",
   "execution_count": 8,
   "metadata": {
    "ExecuteTime": {
     "end_time": "2019-11-06T15:17:03.183289Z",
     "start_time": "2019-11-06T15:17:03.171692Z"
    }
   },
   "outputs": [
    {
     "name": "stdout",
     "output_type": "stream",
     "text": [
      "点击对象为 <beakerx.plot.plotitem.Line object at 0x7f1851de8c90>\n",
      "按键 = None 标记 = 这是 Color.pink 线段发出的一条点击提示信息。 操作 = onclick\n"
     ]
    }
   ],
   "source": [
    "# 在上图操作后，运行本单元格获取操作信息\n",
    "details = pa1.details\n",
    "\n",
    "if details is not None:\n",
    "    item = details.graphics\n",
    "    index = details.index\n",
    "    key = details.key\n",
    "    tag = details.tag\n",
    "    action = details.actionType\n",
    "\n",
    "    print(\"点击对象为 {}\".format(item))\n",
    "    print(\"按键 = {} 标记 = {} 操作 = {}\".format(key, tag, action))\n",
    "else:\n",
    "    print(\"无操作\")"
   ]
  },
  {
   "cell_type": "code",
   "execution_count": 4,
   "metadata": {
    "ExecuteTime": {
     "end_time": "2019-11-06T15:16:12.399681Z",
     "start_time": "2019-11-06T15:16:12.252908Z"
    },
    "scrolled": false
   },
   "outputs": [
    {
     "data": {
      "application/vnd.jupyter.widget-view+json": {
       "model_id": "af54202571a74c53abb29fbd71e67a07",
       "version_major": 2,
       "version_minor": 0
      }
     },
     "metadata": {},
     "output_type": "display_data"
    }
   ],
   "source": [
    "xdata = [x for x in range(5)]\n",
    "ydata = [random.randint(1,10) for x in xdata]\n",
    "cdata = [[Color.pink, Color.green, Color.blue][x%3] for x in xdata]\n",
    "\n",
    "pa2 = Plot(\n",
    "    title = \"BeakerX/Python Plot Action Demo 图形操作演示 #2 - 键盘操作\",\n",
    "    initWidth=600,\n",
    "    initHeight=300\n",
    ")\n",
    "\n",
    "# 加入柱状图，并添加键盘操作（操作键：小键盘+/-/*）\n",
    "def goUp(info):\n",
    "    info.graphics.y[info.index] += 1\n",
    "    \n",
    "def goDown(info):\n",
    "    info.graphics.y[info.index] -= 1\n",
    "\n",
    "pa2.add(\n",
    "    Bars(\n",
    "        displayName= \"柱状图数据\",\n",
    "        x = xdata,\n",
    "        y = ydata,\n",
    "        color = cdata,\n",
    "        width = 0.7\n",
    "    )\n",
    "    .onKey(KeyboardCodes.ADD, goUp)\n",
    "    .onKey(KeyboardCodes.SUBTRACT, goDown)\n",
    "    .onKey(KeyboardCodes.MULTIPLY, \"这是点击小键盘【*】键发出的提示消息。\")\n",
    ")"
   ]
  },
  {
   "cell_type": "code",
   "execution_count": 6,
   "metadata": {
    "ExecuteTime": {
     "end_time": "2019-11-06T15:16:45.925060Z",
     "start_time": "2019-11-06T15:16:45.918166Z"
    }
   },
   "outputs": [
    {
     "name": "stdout",
     "output_type": "stream",
     "text": [
      "点击对象为 <beakerx.plot.plotitem.Bars object at 0x7f1851de8410>\n",
      "按键 = MULTIPLY 标记 = 这是点击小键盘【*】键发出的提示消息。 操作 = onkey\n"
     ]
    }
   ],
   "source": [
    "# 在上图操作后，运行本单元格获取操作信息\n",
    "details = pa2.details\n",
    "\n",
    "if details is not None:\n",
    "    item = details.graphics\n",
    "    index = details.index\n",
    "    key = details.key\n",
    "    tag = details.tag\n",
    "    action = details.actionType\n",
    "\n",
    "    print(\"点击对象为 {}\".format(item))\n",
    "    print(\"按键 = {} 标记 = {} 操作 = {}\".format(key, tag, action))\n",
    "else:\n",
    "    print(\"无操作\")"
   ]
  }
 ],
 "metadata": {
  "kernelspec": {
   "display_name": "Python 3",
   "language": "python",
   "name": "python3"
  },
  "language_info": {
   "codemirror_mode": {
    "name": "ipython",
    "version": 3
   },
   "file_extension": ".py",
   "mimetype": "text/x-python",
   "name": "python",
   "nbconvert_exporter": "python",
   "pygments_lexer": "ipython3",
   "version": "3.7.4"
  },
  "latex_envs": {
   "LaTeX_envs_menu_present": true,
   "autoclose": false,
   "autocomplete": true,
   "bibliofile": "biblio.bib",
   "cite_by": "apalike",
   "current_citInitial": 1,
   "eqLabelWithNumbers": true,
   "eqNumInitial": 1,
   "hotkeys": {
    "equation": "Ctrl-E",
    "itemize": "Ctrl-I"
   },
   "labels_anchors": false,
   "latex_user_defs": false,
   "report_style_numbering": false,
   "user_envs_cfg": false
  },
  "toc": {
   "base_numbering": 1,
   "nav_menu": {},
   "number_sections": true,
   "sideBar": true,
   "skip_h1_title": false,
   "title_cell": "Table of Contents",
   "title_sidebar": "Contents",
   "toc_cell": false,
   "toc_position": {},
   "toc_section_display": true,
   "toc_window_display": false
  }
 },
 "nbformat": 4,
 "nbformat_minor": 2
}
