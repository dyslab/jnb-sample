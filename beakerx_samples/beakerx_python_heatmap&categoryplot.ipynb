{
 "cells": [
  {
   "cell_type": "markdown",
   "metadata": {},
   "source": [
    "# Heat Map"
   ]
  },
  {
   "cell_type": "code",
   "execution_count": 1,
   "metadata": {
    "ExecuteTime": {
     "end_time": "2019-11-06T17:24:52.897116Z",
     "start_time": "2019-11-06T17:24:52.845350Z"
    }
   },
   "outputs": [],
   "source": [
    "# 导入beakerx库及其他所需库文件\n",
    "from beakerx import *\n",
    "from beakerx.object import beakerx\n",
    "\n",
    "import numpy as np\n",
    "import random"
   ]
  },
  {
   "cell_type": "code",
   "execution_count": 2,
   "metadata": {
    "ExecuteTime": {
     "end_time": "2019-11-06T17:24:52.986808Z",
     "start_time": "2019-11-06T17:24:52.900046Z"
    }
   },
   "outputs": [
    {
     "name": "stdout",
     "output_type": "stream",
     "text": [
      "[[3 0 7 1 6]\n",
      " [7 4 8 3 2]\n",
      " [0 3 8 4 9]\n",
      " [0 0 0 2 3]\n",
      " [7 3 6 3 8]\n",
      " [4 1 1 9 9]]\n"
     ]
    },
    {
     "data": {
      "application/vnd.jupyter.widget-view+json": {
       "model_id": "9eec22b4bfe34019ba921164de515348",
       "version_major": 2,
       "version_minor": 0
      }
     },
     "metadata": {},
     "output_type": "display_data"
    }
   ],
   "source": [
    "data = np.random.randint(0,10,30).reshape(6,5)\n",
    "\n",
    "print(data)\n",
    "\n",
    "HeatMap(\n",
    "    title = \"BeakerX/Heat Map Demo 热力图演示 #1\",\n",
    "    xLabel = \"X轴\",\n",
    "    yLabel = \"Y轴\",\n",
    "    data = data,\n",
    "    legendPosition = LegendPosition(position = LegendPosition.Position.BOTTOM),\n",
    "    # color = GradientColor.WHITE_BLUE, # BROWN_RED_YELLOW / GREEN_YELLOW_WHITE / WHITE_BLUE\n",
    "    color = GradientColor([Color(255,255,0), Color(255,32,0)]),\n",
    "    initWidth = 540,\n",
    "    initHeight = 360\n",
    ")"
   ]
  },
  {
   "cell_type": "markdown",
   "metadata": {},
   "source": [
    "# Category Plot"
   ]
  },
  {
   "cell_type": "code",
   "execution_count": 3,
   "metadata": {
    "ExecuteTime": {
     "end_time": "2019-11-06T17:24:53.109310Z",
     "start_time": "2019-11-06T17:24:52.999570Z"
    },
    "scrolled": false
   },
   "outputs": [
    {
     "name": "stdout",
     "output_type": "stream",
     "text": [
      "[[98 20 97 49]\n",
      " [38 90 64 83]\n",
      " [60  5 11 61]]\n"
     ]
    },
    {
     "data": {
      "application/vnd.jupyter.widget-view+json": {
       "model_id": "19638764ef6b4f919bd61f9d9cec85ab",
       "version_major": 2,
       "version_minor": 0
      }
     },
     "metadata": {},
     "output_type": "display_data"
    }
   ],
   "source": [
    "data = np.random.randint(1,99,12).reshape(3, 4)\n",
    "\n",
    "print(data)\n",
    "\n",
    "cp1 = CategoryPlot(\n",
    "    title = \"BeakerX/Category Plot Demo 分类图形演示 #1\",\n",
    "    xLabel = \"X轴\",\n",
    "    yLabel = \"Y轴\",\n",
    "    categoryNames = ['系列%s' % x for x in range(1, len(data[0])+1)],\n",
    "    categoryMargin= 0.5,\n",
    "    orientation= PlotOrientationType.VERTICAL # PlotOrientationType.HORIZONTAL\n",
    ")\n",
    "\n",
    "# 加入分类柱状图\n",
    "cp1.add(\n",
    "    CategoryBars(\n",
    "        value = data,\n",
    "        # base = [(-1+x)*10 for x in range(len(data))],\n",
    "        seriesNames= ['%s号货品' % x for x in range(1, len(data)+1)],\n",
    "        showItemLabel = True,\n",
    "        labelPosition= LabelPositionType.VALUE_OUTSIDE,\n",
    "        outlineColor= [Color.black, Color.red],\n",
    "        # centerSeries= False,\n",
    "        width = 0.5\n",
    "    )\n",
    ")"
   ]
  },
  {
   "cell_type": "code",
   "execution_count": 4,
   "metadata": {
    "ExecuteTime": {
     "end_time": "2019-11-06T17:24:53.214499Z",
     "start_time": "2019-11-06T17:24:53.112873Z"
    }
   },
   "outputs": [
    {
     "name": "stdout",
     "output_type": "stream",
     "text": [
      "[[46 69 83 16]\n",
      " [ 6 93 12 86]]\n",
      "[-10, 0]\n"
     ]
    },
    {
     "data": {
      "application/vnd.jupyter.widget-view+json": {
       "model_id": "dc4e5addc3d244288ae8799187ca791d",
       "version_major": 2,
       "version_minor": 0
      }
     },
     "metadata": {},
     "output_type": "display_data"
    }
   ],
   "source": [
    "data = np.random.randint(1,99,8).reshape(2, 4)\n",
    "base = [(-1+x)*10 for x in range(len(data))]\n",
    "\n",
    "print(data)\n",
    "print(base)\n",
    "\n",
    "cp2 = CategoryPlot(\n",
    "    title = \"BeakerX/Category Plot Demo 分类图形演示 #2\",\n",
    "    xLabel = \"X轴\",\n",
    "    yLabel = \"支出范围\"\n",
    ")\n",
    "\n",
    "cp2.add(YAxis(label= \"第二Y轴\", upperMargin= 1))\n",
    "\n",
    "# 加入杆图\n",
    "cp2.add(\n",
    "    CategoryStems(\n",
    "        value = data,\n",
    "        base = base,\n",
    "        color = [Color(192,192,255), Color(255,192,192)],\n",
    "        seriesNames = ['支出范围%s' % x for x in range(1, len(data)+1)],\n",
    "        showItemLabel = True,\n",
    "        width = 30\n",
    "    )\n",
    ")\n",
    "\n",
    "# 加入线段(对应第二Y轴)\n",
    "cp2.add(\n",
    "    CategoryLines(\n",
    "        value = data,\n",
    "        yAxis = \"第二Y轴\",\n",
    "        style = [StrokeType.DASH, StrokeType.DOT],\n",
    "        seriesNames = ['第二Y轴曲线%s' % x for x in range(1, len(data)+1)],\n",
    "        width = 3\n",
    "    )\n",
    ")\n",
    "\n",
    "# 加入数据点(对应第二Y轴)\n",
    "cp2.add(\n",
    "    CategoryPoints(\n",
    "        value = data,\n",
    "        yAxis = \"第二Y轴\",\n",
    "        seriesNames = ['第二Y轴数据点%s' % x for x in range(1, len(data)+1)],\n",
    "        size = 15\n",
    "    )\n",
    ")"
   ]
  },
  {
   "cell_type": "code",
   "execution_count": 5,
   "metadata": {
    "ExecuteTime": {
     "end_time": "2019-11-06T17:24:53.297391Z",
     "start_time": "2019-11-06T17:24:53.217286Z"
    }
   },
   "outputs": [
    {
     "name": "stdout",
     "output_type": "stream",
     "text": [
      "[[32 67 17 80]\n",
      " [88 41 58 90]\n",
      " [80 28 35 32]]\n",
      "[-20, 0, 20]\n"
     ]
    },
    {
     "data": {
      "application/vnd.jupyter.widget-view+json": {
       "model_id": "3dfbd0f478bc49f1997f01bd50895e74",
       "version_major": 2,
       "version_minor": 0
      }
     },
     "metadata": {},
     "output_type": "display_data"
    }
   ],
   "source": [
    "data = np.random.randint(1,99,12).reshape(3,4)\n",
    "base = [(-1+x)*20 for x in range(len(data))]\n",
    "\n",
    "print(data)\n",
    "print(base)\n",
    "\n",
    "cp3 = CategoryPlot(\n",
    "    title = \"BeakerX/Category Plot Demo 分类图形演示 #2\",\n",
    "    xLabel = \"X轴\",\n",
    "    yLabel = \"支出范围\"\n",
    ")\n",
    "\n",
    "cp3.add(\n",
    "    CategoryArea(\n",
    "        value = data,\n",
    "        base = base,\n",
    "        color = [Color(192,192,0), Color(0,192,192,192), Color(255,128,128,192)]\n",
    "    )\n",
    ")\n",
    "\n",
    "for i in range(len(base)):\n",
    "    cp3.add(\n",
    "        ConstantLine(\n",
    "            y = base[i],\n",
    "            style = [StrokeType.DOT, StrokeType.DASH, StrokeType.DASHDOT][i%3] ,\n",
    "            color = Color.gray,\n",
    "            showLabel = True\n",
    "        )\n",
    "    )\n",
    "    \n",
    "cp3"
   ]
  }
 ],
 "metadata": {
  "kernelspec": {
   "display_name": "Python 3",
   "language": "python",
   "name": "python3"
  },
  "language_info": {
   "codemirror_mode": {
    "name": "ipython",
    "version": 3
   },
   "file_extension": ".py",
   "mimetype": "text/x-python",
   "name": "python",
   "nbconvert_exporter": "python",
   "pygments_lexer": "ipython3",
   "version": "3.7.4"
  },
  "latex_envs": {
   "LaTeX_envs_menu_present": true,
   "autoclose": false,
   "autocomplete": true,
   "bibliofile": "biblio.bib",
   "cite_by": "apalike",
   "current_citInitial": 1,
   "eqLabelWithNumbers": true,
   "eqNumInitial": 1,
   "hotkeys": {
    "equation": "Ctrl-E",
    "itemize": "Ctrl-I"
   },
   "labels_anchors": false,
   "latex_user_defs": false,
   "report_style_numbering": false,
   "user_envs_cfg": false
  },
  "toc": {
   "base_numbering": 1,
   "nav_menu": {},
   "number_sections": true,
   "sideBar": true,
   "skip_h1_title": false,
   "title_cell": "Table of Contents",
   "title_sidebar": "Contents",
   "toc_cell": false,
   "toc_position": {},
   "toc_section_display": true,
   "toc_window_display": false
  }
 },
 "nbformat": 4,
 "nbformat_minor": 2
}
