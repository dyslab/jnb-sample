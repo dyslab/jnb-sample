{
 "cells": [
  {
   "cell_type": "markdown",
   "metadata": {},
   "source": [
    "# Output Container / Layout Manager"
   ]
  },
  {
   "cell_type": "code",
   "execution_count": 12,
   "metadata": {
    "ExecuteTime": {
     "end_time": "2019-11-09T16:35:31.669000Z",
     "start_time": "2019-11-09T16:35:31.669+0000"
    },
    "init_cell": true
   },
   "outputs": [
    {
     "data": {
      "application/vnd.jupyter.widget-view+json": {
       "model_id": "da25020f-883a-4965-a3c5-1c1052807851",
       "version_major": 2,
       "version_minor": 0
      },
      "method": "display_data"
     },
     "metadata": {},
     "output_type": "display_data"
    },
    {
     "data": {
      "application/vnd.jupyter.widget-view+json": {
       "model_id": "2e58afe5-4e7f-4a4e-9f34-5a7a79c828ba",
       "version_major": 2,
       "version_minor": 0
      },
      "method": "display_data"
     },
     "metadata": {},
     "output_type": "display_data"
    },
    {
     "data": {
      "application/vnd.jupyter.widget-view+json": {
       "model_id": "bdcb23d5-f7dc-4dd3-a511-336db00849fd",
       "version_major": 2,
       "version_minor": 0
      },
      "method": "display_data"
     },
     "metadata": {},
     "output_type": "display_data"
    },
    {
     "data": {
      "application/vnd.jupyter.widget-view+json": {
       "model_id": "2eb7ae06-ab23-4c59-a994-83ef2c7aa910",
       "version_major": 2,
       "version_minor": 0
      },
      "method": "display_data"
     },
     "metadata": {},
     "output_type": "display_data"
    }
   ],
   "source": [
    "// 默认输出方式（Stacked）\n",
    "def oc1 = new OutputContainer()\n",
    "\n",
    "oc1.addItem(\"单行测试文本\")\n",
    "\n",
    "oc1 << [\n",
    "    [a:3, b:5, c:6, d:9],\n",
    "    [a:2, b:4, c:5, d:7],\n",
    "    [a:1, b:3, c:7, d:8]\n",
    "]\n",
    "\n",
    "oc1 << HTML(\"<h3 style='color:darkgreen'>HTML格式文本</h3>\")\n",
    "\n",
    " \n",
    "p1 = new Plot(\n",
    "    initWidth: 400,\n",
    "    initHeight: 300\n",
    ")\n",
    "p1 << new Bars(y: [5,7,4,8,6], width: 0.6)\n",
    "oc1 << p1"
   ]
  },
  {
   "cell_type": "code",
   "execution_count": 13,
   "metadata": {
    "ExecuteTime": {
     "end_time": "2019-11-09T16:35:31.718000Z",
     "start_time": "2019-11-09T16:35:31.718+0000"
    },
    "init_cell": true
   },
   "outputs": [
    {
     "data": {
      "application/vnd.jupyter.widget-view+json": {
       "model_id": "b1e0c7d7-06ba-4df4-818c-534473d2f668",
       "version_major": 2,
       "version_minor": 0
      },
      "method": "display_data"
     },
     "metadata": {},
     "output_type": "display_data"
    }
   ],
   "source": [
    "// Tab输出方式\n",
    "def oc2 = new OutputContainer()\n",
    "\n",
    "def tl = new TabbedOutputContainerLayoutManager()\n",
    "tl.setBorderDisplayed(false)\n",
    "oc2.setLayoutManager(tl)\n",
    "\n",
    "// 生成随机数据\n",
    "random = new Random()\n",
    "ydata = (1..10).collect {\n",
    "    random.nextInt(100)\n",
    "}\n",
    "\n",
    "// 加入柱状图\n",
    "p21 = new Plot(\n",
    "    initWidth: 640,\n",
    "    initHeight: 300,\n",
    "    yUpperMargin: 0.1,\n",
    "    yLowerMargin: 0.1\n",
    ")\n",
    "p21 << new Bars(y: ydata, width: 0.6)\n",
    "\n",
    "// 加入线段图\n",
    "p22 = new Plot(\n",
    "    initWidth: 640,\n",
    "    initHeight: 300,\n",
    "    yUpperMargin: 0.1,\n",
    "    yLowerMargin: 0.1\n",
    ")\n",
    "p22 << new Line(y: ydata, width: 3)\n",
    "\n",
    "// 加入点图\n",
    "p23 = new Plot(\n",
    "    initWidth: 640,\n",
    "    initHeight: 300,\n",
    "    yUpperMargin: 0.1,\n",
    "    yLowerMargin: 0.1\n",
    ")\n",
    "p23 << new Points(y: ydata, size: 10)\n",
    "\n",
    "oc2.addItem(p21, \"柱状图\")\n",
    "oc2.addItem(p22, \"线段图\")\n",
    "oc2.addItem(p23, \"点图\")\n",
    "    \n",
    "oc2"
   ]
  },
  {
   "cell_type": "code",
   "execution_count": 14,
   "metadata": {
    "ExecuteTime": {
     "end_time": "2019-11-09T16:35:31.837000Z",
     "start_time": "2019-11-09T16:35:31.837+0000"
    },
    "init_cell": true
   },
   "outputs": [
    {
     "data": {
      "application/vnd.jupyter.widget-view+json": {
       "model_id": "a0951f83-8465-4e05-b6e6-b514d2350220",
       "version_major": 2,
       "version_minor": 0
      },
      "method": "display_data"
     },
     "metadata": {},
     "output_type": "display_data"
    }
   ],
   "source": [
    "// Grid输出方式\n",
    "def oc3 = new OutputContainer()\n",
    "\n",
    "def gl = new GridOutputContainerLayoutManager(2)\n",
    "oc3.setLayoutManager(gl)\n",
    "\n",
    "// 生成随机数据\n",
    "random = new Random()\n",
    "ydata = (1..8).collect { random.nextInt(100) }\n",
    "\n",
    "// 生成map表格\n",
    "tdata = [:]\n",
    "ydata.each {\n",
    "    tdata.put(\"货品\" + ydata.indexOf(it), it)\n",
    "    // as same as...\n",
    "    // tdata[\"货品\" + ydata.indexOf(it)] = it\n",
    "}\n",
    "\n",
    "// 生成分类柱状图\n",
    "cp31 = new CategoryPlot(\n",
    "    categoryNames: tdata.keySet().asList(),\n",
    "    initWidth: 520,\n",
    "    initHeight: 300\n",
    ")\n",
    "cp31 << new CategoryBars(\n",
    "    value: [tdata.values().asList()],\n",
    "    width: 0.3\n",
    ")\n",
    "\n",
    "// 生成分类线段图\n",
    "cp32 = new CategoryPlot(\n",
    "    categoryNames: tdata.keySet().asList(),\n",
    "    initWidth: 520,\n",
    "    initHeight: 300\n",
    ")\n",
    "cp32 << new CategoryLines(\n",
    "    value: [tdata.values().asList()],\n",
    "    width: 2\n",
    ")\n",
    "\n",
    "oc3.addItem(HTML(\"<h1 style='color:magenta'>Grid布局输出示例</h1>\"), \"HTML标题\")\n",
    "oc3.addItem([tdata], \"数据表\")\n",
    "oc3.addItem(cp31, \"分类柱状图\")\n",
    "oc3.addItem(cp32, \"分类线段图\")\n",
    "\n",
    "oc3"
   ]
  },
  {
   "cell_type": "code",
   "execution_count": 15,
   "metadata": {
    "ExecuteTime": {
     "end_time": "2019-11-09T16:35:31.853000Z",
     "start_time": "2019-11-09T16:35:31.853+0000"
    },
    "init_cell": true
   },
   "outputs": [
    {
     "data": {
      "text/html": [
       "<html>\n",
       "<style type=\"text/css\">\n",
       "    .title1 { color: magenta }\n",
       "    .title2 { color:darkred; font-style: italic }\n",
       "    .title3 { color:darkgreen }\n",
       "    .title4 { color:darkcyan; font-style: italic }\n",
       "</style></html>"
      ]
     },
     "execution_count": 15,
     "metadata": {},
     "output_type": "execute_result"
    }
   ],
   "source": [
    "%%html\n",
    "\n",
    "<style type=\"text/css\">\n",
    "    .title1 { color: magenta }\n",
    "    .title2 { color:darkred; font-style: italic }\n",
    "    .title3 { color:darkgreen }\n",
    "    .title4 { color:darkcyan; font-style: italic }\n",
    "</style>"
   ]
  },
  {
   "cell_type": "code",
   "execution_count": 16,
   "metadata": {
    "ExecuteTime": {
     "end_time": "2019-11-09T16:35:31.928000Z",
     "start_time": "2019-11-09T16:35:31.928+0000"
    },
    "init_cell": true
   },
   "outputs": [
    {
     "data": {
      "application/vnd.jupyter.widget-view+json": {
       "model_id": "f44bc084-7322-4a51-b52c-5c28424688e3",
       "version_major": 2,
       "version_minor": 0
      },
      "method": "display_data"
     },
     "metadata": {},
     "output_type": "display_data"
    }
   ],
   "source": [
    "// Cycling输出方式\n",
    "def oc4 = new OutputContainer()\n",
    "\n",
    "cl = new CyclingOutputContainerLayoutManager()\n",
    "cl.setPeriod(2000)\n",
    "cl.setBorderDisplayed(false)\n",
    "oc4.setLayoutManager(cl)\n",
    "\n",
    "oc4.addItem(HTML(\"<h1 class='title1'>Cycling布局输出示例</h1>\"), \"HTML标题\")\n",
    "oc4.addItem(HTML(\"<h2 class='title2'>这是H2号信息</h2>\"), \"这是H2号信息\")\n",
    "oc4.addItem(HTML(\"<h3 class='title3'>这是H3号信息</h3>\"), \"这是H3号信息\")\n",
    "oc4.addItem(HTML(\"<h4 class='title4'>这是H4号信息</h4>\"), \"这是H4号信息\")\n",
    "\n",
    "oc4"
   ]
  }
 ],
 "metadata": {
  "celltoolbar": "Initialization Cell",
  "kernelspec": {
   "display_name": "Groovy",
   "language": "groovy",
   "name": "groovy"
  },
  "language_info": {
   "codemirror_mode": "groovy",
   "file_extension": ".groovy",
   "mimetype": "",
   "name": "Groovy",
   "nbconverter_exporter": "",
   "version": "2.5.6"
  },
  "toc": {
   "base_numbering": 1,
   "nav_menu": {},
   "number_sections": false,
   "sideBar": false,
   "skip_h1_title": false,
   "title_cell": "Table of Contents",
   "title_sidebar": "Contents",
   "toc_cell": false,
   "toc_position": {},
   "toc_section_display": false,
   "toc_window_display": false
  }
 },
 "nbformat": 4,
 "nbformat_minor": 2
}
