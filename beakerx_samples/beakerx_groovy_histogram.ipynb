{
 "cells": [
  {
   "cell_type": "markdown",
   "metadata": {},
   "source": [
    "# Histogram\n",
    "\n",
    "直方图演示数据集按照区间数量（binCount属性）分布的命中率图形。"
   ]
  },
  {
   "cell_type": "code",
   "execution_count": 1,
   "metadata": {
    "ExecuteTime": {
     "end_time": "2019-11-03T15:01:48.408000Z",
     "start_time": "2019-11-03T15:01:48.408+0000"
    }
   },
   "outputs": [
    {
     "data": {
      "application/vnd.jupyter.widget-view+json": {
       "model_id": "4d05e7f2-8a88-4794-a881-c2baddc74656",
       "version_major": 2,
       "version_minor": 0
      },
      "method": "display_data"
     },
     "metadata": {},
     "output_type": "display_data"
    }
   ],
   "source": [
    "Random rand = new Random()\n",
    "\n",
    "d = []\n",
    "for (i in (0..1000)) {\n",
    "    d[i] = rand.nextGaussian()\n",
    "}\n",
    "\n",
    "new Histogram(\n",
    "    title: \"🗼 直方图演示 #1 🗼\",\n",
    "    data: d,\n",
    "    binCount: 50,\n",
    "    color: new Color(240, 128, 128, 144),\n",
    "    initWidth:800,\n",
    "    initHeight:300,\n",
    "    rangeMin: -3, \n",
    "    rangeMax: 3, \n",
    ")"
   ]
  },
  {
   "cell_type": "code",
   "execution_count": 2,
   "metadata": {
    "ExecuteTime": {
     "end_time": "2019-11-03T15:01:48.542000Z",
     "start_time": "2019-11-03T15:01:48.542+0000"
    },
    "scrolled": false
   },
   "outputs": [
    {
     "data": {
      "application/vnd.jupyter.widget-view+json": {
       "model_id": "21362aa3-7e33-44d2-8f99-57e15df1d044",
       "version_major": 2,
       "version_minor": 0
      },
      "method": "display_data"
     },
     "metadata": {},
     "output_type": "display_data"
    }
   ],
   "source": [
    "Random rand = new Random()\n",
    "\n",
    "d1 = []\n",
    "d2 = []\n",
    "for (i in (0..1000)) {\n",
    "    d1[i] = rand.nextInt(90)\n",
    "    d2[i] = rand.nextInt(90) + 100\n",
    "}\n",
    "\n",
    "new Histogram(\n",
    "    title: \"🗼 直方图演示 #2 🗼\",\n",
    "    data: [d1, d2],\n",
    "    binCount: 100,\n",
    "    names: [\n",
    "        \"数据集1\",\n",
    "        \"数据集2\"\n",
    "    ],\n",
    "    color: [\n",
    "        new Color(0, 154, 166),\n",
    "        new Color(230, 50, 50, 144)\n",
    "    ]\n",
    ")"
   ]
  },
  {
   "cell_type": "code",
   "execution_count": 3,
   "metadata": {
    "ExecuteTime": {
     "end_time": "2019-11-03T15:01:48.617000Z",
     "start_time": "2019-11-03T15:01:48.617+0000"
    },
    "scrolled": false
   },
   "outputs": [
    {
     "data": {
      "application/vnd.jupyter.widget-view+json": {
       "model_id": "595fc5d6-ab00-44c0-b748-31b5cf14e394",
       "version_major": 2,
       "version_minor": 0
      },
      "method": "display_data"
     },
     "metadata": {},
     "output_type": "display_data"
    }
   ],
   "source": [
    "Random rand = new Random()\n",
    "\n",
    "d1 = []\n",
    "d2 = []\n",
    "for (i in (0..1000)) {\n",
    "    d1[i] = rand.nextInt(100)\n",
    "    d2[i] = rand.nextInt(100)\n",
    "}\n",
    "\n",
    "new Histogram(\n",
    "    title:\"🗼 直方图演示 #3 （堆叠显示） 🗼\",\n",
    "    showLegend: false,\n",
    "    displayMode: Histogram.DisplayMode.STACK,\n",
    "    data: [d1, d2],\n",
    "    binCount: 50\n",
    ")"
   ]
  },
  {
   "cell_type": "code",
   "execution_count": 4,
   "metadata": {
    "ExecuteTime": {
     "end_time": "2019-11-03T15:01:48.722000Z",
     "start_time": "2019-11-03T15:01:48.722+0000"
    }
   },
   "outputs": [
    {
     "data": {
      "application/vnd.jupyter.widget-view+json": {
       "model_id": "83fb280a-af32-4c13-9fc2-68310075cfcf",
       "version_major": 2,
       "version_minor": 0
      },
      "method": "display_data"
     },
     "metadata": {},
     "output_type": "display_data"
    }
   ],
   "source": [
    "new Histogram(\n",
    "    title:\"🗼 直方图演示 #3 （并排显示） 🗼\",\n",
    "    displayMode: Histogram.DisplayMode.SIDE_BY_SIDE,\n",
    "    data: [d1,d2], \n",
    "    binCount: 50,\n",
    "    color: [\n",
    "        new Color(230, 54, 66, 128),\n",
    "        new Color(54, 66, 230, 128)\n",
    "    ]\n",
    ")"
   ]
  },
  {
   "cell_type": "code",
   "execution_count": 5,
   "metadata": {
    "ExecuteTime": {
     "end_time": "2019-11-03T15:01:48.805000Z",
     "start_time": "2019-11-03T15:01:48.805+0000"
    }
   },
   "outputs": [
    {
     "data": {
      "application/vnd.jupyter.widget-view+json": {
       "model_id": "f9508b90-bdab-42d7-a1cf-6543843f170b",
       "version_major": 2,
       "version_minor": 0
      },
      "method": "display_data"
     },
     "metadata": {},
     "output_type": "display_data"
    }
   ],
   "source": [
    "Random rand = new Random()\n",
    "\n",
    "d = []\n",
    "for (i in (0..1000)) {\n",
    "    d[i] = rand.nextGaussian()\n",
    "}\n",
    "\n",
    "new Histogram(\n",
    "    title: \"🗼 直方图演示 #4 （累积显示） 🗼\",\n",
    "    data: d,\n",
    "    cumulative: true,\n",
    "    binCount: 55,\n",
    "    color: new Color(144, 228, 228, 192),\n",
    "    xUpperMargin: 0.1,\n",
    "    xLowerMargin: 0.1,\n",
    "    yUpperMargin: 0.1,\n",
    "    yLowerMargin: 0.1\n",
    ")"
   ]
  }
 ],
 "metadata": {
  "kernelspec": {
   "display_name": "Groovy",
   "language": "groovy",
   "name": "groovy"
  },
  "language_info": {
   "codemirror_mode": "groovy",
   "file_extension": ".groovy",
   "mimetype": "",
   "name": "Groovy",
   "nbconverter_exporter": "",
   "version": "2.5.6"
  },
  "latex_envs": {
   "LaTeX_envs_menu_present": true,
   "autoclose": false,
   "autocomplete": true,
   "bibliofile": "biblio.bib",
   "cite_by": "apalike",
   "current_citInitial": 1,
   "eqLabelWithNumbers": true,
   "eqNumInitial": 1,
   "hotkeys": {
    "equation": "Ctrl-E",
    "itemize": "Ctrl-I"
   },
   "labels_anchors": false,
   "latex_user_defs": false,
   "report_style_numbering": false,
   "user_envs_cfg": false
  },
  "toc": {
   "base_numbering": 1,
   "nav_menu": {},
   "number_sections": true,
   "sideBar": true,
   "skip_h1_title": false,
   "title_cell": "Table of Contents",
   "title_sidebar": "Contents",
   "toc_cell": false,
   "toc_position": {},
   "toc_section_display": true,
   "toc_window_display": false
  }
 },
 "nbformat": 4,
 "nbformat_minor": 2
}
