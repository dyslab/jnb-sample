{
 "cells": [
  {
   "cell_type": "markdown",
   "metadata": {},
   "source": [
    "# Simple Table"
   ]
  },
  {
   "cell_type": "code",
   "execution_count": 1,
   "metadata": {
    "ExecuteTime": {
     "end_time": "2019-11-06T09:02:52.801922Z",
     "start_time": "2019-11-06T09:02:52.765194Z"
    }
   },
   "outputs": [],
   "source": [
    "# 导入beakerx库及其他所需库文件\n",
    "from beakerx import *\n",
    "from beakerx.object import beakerx\n",
    "\n",
    "import pandas as pd\n",
    "import numpy as np\n",
    "import random"
   ]
  },
  {
   "cell_type": "code",
   "execution_count": 2,
   "metadata": {
    "ExecuteTime": {
     "end_time": "2019-11-06T09:02:52.866018Z",
     "start_time": "2019-11-06T09:02:52.803603Z"
    },
    "scrolled": false
   },
   "outputs": [
    {
     "name": "stdout",
     "output_type": "stream",
     "text": [
      "栏目名称：['栏目1', '栏目2', '栏目3']\n",
      "单元格值：[[1, 2, 3], ['', 5, 6], [7, 8, 9]]\n"
     ]
    },
    {
     "data": {
      "application/vnd.jupyter.widget-view+json": {
       "model_id": "e44eaa32eb2e4aa1a13378de6dfb78c6",
       "version_major": 2,
       "version_minor": 0
      }
     },
     "metadata": {},
     "output_type": "display_data"
    }
   ],
   "source": [
    "t1 = TableDisplay([\n",
    "    {'栏目1':1, '栏目2':2, '栏目3':3},\n",
    "    {'栏目3':6, '栏目2':5} # beakerx自动根据key来赋值\n",
    "])\n",
    "\n",
    "# 添加数据方法\n",
    "t1.values.append([7, 8, 9])\n",
    "t1.sendModel()\n",
    "\n",
    "# 设置固定栏目\n",
    "t1.setColumnFrozen('栏目3', True)\n",
    "# t1.setColumnVisible(\"栏目1\", False)\n",
    " \n",
    "# 输出栏目名称\n",
    "print('栏目名称：{}'.format(t1.model['columnNames']))\n",
    "# 输出单元格的值\n",
    "print('单元格值：{}'.format(t1.values))\n",
    "\n",
    "#dir(t1)\n",
    "t1"
   ]
  },
  {
   "cell_type": "code",
   "execution_count": 3,
   "metadata": {
    "ExecuteTime": {
     "end_time": "2019-11-06T09:02:52.941583Z",
     "start_time": "2019-11-06T09:02:52.867717Z"
    }
   },
   "outputs": [
    {
     "data": {
      "text/html": [
       "<div>\n",
       "<style scoped>\n",
       "    .dataframe tbody tr th:only-of-type {\n",
       "        vertical-align: middle;\n",
       "    }\n",
       "\n",
       "    .dataframe tbody tr th {\n",
       "        vertical-align: top;\n",
       "    }\n",
       "\n",
       "    .dataframe thead th {\n",
       "        text-align: right;\n",
       "    }\n",
       "</style>\n",
       "<table border=\"1\" class=\"dataframe\">\n",
       "  <thead>\n",
       "    <tr style=\"text-align: right;\">\n",
       "      <th></th>\n",
       "      <th>型号</th>\n",
       "      <th>数量</th>\n",
       "      <th>单价</th>\n",
       "    </tr>\n",
       "  </thead>\n",
       "  <tbody>\n",
       "    <tr>\n",
       "      <td>0</td>\n",
       "      <td>HM0722-240</td>\n",
       "      <td>4</td>\n",
       "      <td>17.99</td>\n",
       "    </tr>\n",
       "    <tr>\n",
       "      <td>1</td>\n",
       "      <td>HM0722-3436</td>\n",
       "      <td>1</td>\n",
       "      <td>13.99</td>\n",
       "    </tr>\n",
       "    <tr>\n",
       "      <td>2</td>\n",
       "      <td>HM0722-3437</td>\n",
       "      <td>1</td>\n",
       "      <td>12.99</td>\n",
       "    </tr>\n",
       "    <tr>\n",
       "      <td>3</td>\n",
       "      <td>HM0723-3236</td>\n",
       "      <td>2</td>\n",
       "      <td>17.99</td>\n",
       "    </tr>\n",
       "    <tr>\n",
       "      <td>4</td>\n",
       "      <td>HM0724-1040</td>\n",
       "      <td>1</td>\n",
       "      <td>15.49</td>\n",
       "    </tr>\n",
       "  </tbody>\n",
       "</table>\n",
       "</div>"
      ],
      "text/plain": [
       "            型号  数量     单价\n",
       "0   HM0722-240   4  17.99\n",
       "1  HM0722-3436   1  13.99\n",
       "2  HM0722-3437   1  12.99\n",
       "3  HM0723-3236   2  17.99\n",
       "4  HM0724-1040   1  15.49"
      ]
     },
     "execution_count": 3,
     "metadata": {},
     "output_type": "execute_result"
    }
   ],
   "source": [
    "# Pandas默认显示表格\n",
    "beakerx.pandas_display_default()\n",
    "\n",
    "# Pandas显示beakerx表格\n",
    "# beakerx.pandas_display_table()\n",
    "\n",
    "pd.read_csv(\"sample.csv\").head()"
   ]
  },
  {
   "cell_type": "code",
   "execution_count": 4,
   "metadata": {
    "ExecuteTime": {
     "end_time": "2019-11-06T09:02:53.039418Z",
     "start_time": "2019-11-06T09:02:52.943394Z"
    },
    "scrolled": false
   },
   "outputs": [
    {
     "name": "stderr",
     "output_type": "stream",
     "text": [
      "/home/vincent/anaconda3/lib/python3.7/site-packages/beakerx/tabledisplay/tabledisplay.py:109: FutureWarning: The 'get_values' method is deprecated and will be removed in a future version. Use '.to_numpy()' or '.array' instead.\n",
      "  value = args[0][columnName].get_values()[index]\n"
     ]
    },
    {
     "data": {
      "application/vnd.jupyter.widget-view+json": {
       "model_id": "637b55ce058e4124aedaf77b224c07c3",
       "version_major": 2,
       "version_minor": 0
      }
     },
     "metadata": {},
     "output_type": "display_data"
    }
   ],
   "source": [
    "df = pd.read_csv(\"sample.csv\")\n",
    "# df.index = df[\"型号\"]\n",
    "\n",
    "t2 = TableDisplay(df)\n",
    "\n",
    "# 设置数据类型显示方式\n",
    "t2.setStringFormatForType(ColumnType.Double, TableDisplayStringFormat.getDecimalFormat(2,2))\n",
    "# t2.setStringFormatForColumn(\"单价\", TableDisplayStringFormat.getDecimalFormat(2,2))\n",
    "\n",
    "# 设置单元格渲染器（显示柱状图）\n",
    "t2.setRendererForColumn(\"数量\", TableDisplayCellRenderer.getDataBarsRenderer(True))\n",
    "# t2.setRendererForType(ColumnType.Double, TableDisplayCellRenderer.getDataBarsRenderer(True))\n",
    "\n",
    "# 设置标题栏字体大小\n",
    "t2.setHeaderFontSize(16)\n",
    "\n",
    "# 设置单元格字体大小\n",
    "t2.setDataFontSize(14)\n",
    "\n",
    "'''\n",
    "# 设置气泡提示内容\n",
    "#\n",
    "#   注意：当对pandas的dataframe操作（如排序、索引）后，由于table.values结构改变，\n",
    "#   取得的row, column通过table.values取值会有误。\n",
    "'''\n",
    "def config_tooltip(row, column, table):\n",
    "      return \"单元格[\" + str(row) + \", \" + str(column) + \"]数值为: \" + str(table.values[row][column])\n",
    "    \n",
    "t2.setToolTip(config_tooltip)\n",
    "\n",
    "t2"
   ]
  },
  {
   "cell_type": "code",
   "execution_count": 5,
   "metadata": {
    "ExecuteTime": {
     "end_time": "2019-11-06T09:02:53.129183Z",
     "start_time": "2019-11-06T09:02:53.043736Z"
    },
    "scrolled": true
   },
   "outputs": [
    {
     "data": {
      "application/vnd.jupyter.widget-view+json": {
       "model_id": "efb292d391e644f4bf6d6e9995606401",
       "version_major": 2,
       "version_minor": 0
      }
     },
     "metadata": {},
     "output_type": "display_data"
    }
   ],
   "source": [
    "t3 = TableDisplay({\n",
    "    'w': '$2 \\\\sigma$',\n",
    "    'x': '<em style=\"color:#923a28\">HTML italic 斜体</em>',\n",
    "    'y': '<b style=\"color:red\">HTML bold red 红色粗体</b>',\n",
    "    'z': '字符串ABC<br/>换行测试',\n",
    "    'Two Sigma': 'http://twosigma.com',\n",
    "    'BeakerX': 'http://BeakerX.com'\n",
    "})\n",
    "\n",
    "# 设置列单元格对齐方式\n",
    "t3.setAlignmentProviderForColumn(\"Key\", TableDisplayAlignmentProvider.CENTER_ALIGNMENT)\n",
    "\n",
    "# 设置列单元格HTML显示方式\n",
    "t3.setStringFormatForColumn(\"Value\", TableDisplayStringFormat.getHTMLFormat())\n",
    "\n",
    "# 设置单元格字体颜色\n",
    "colors = [\n",
    "    [Color.DARK_GRAY, Color.DARK_GREEN],\n",
    "    [Color.RED, Color.PINK],\n",
    "    [Color.MAGENTA, Color.BLUE]\n",
    "]\n",
    "\n",
    "def color_provider(row, column, table):\n",
    "    return colors[row % 3][column]\n",
    "    \n",
    "t3.setFontColorProvider(color_provider)\n",
    "\n",
    "t3"
   ]
  },
  {
   "cell_type": "code",
   "execution_count": 6,
   "metadata": {
    "ExecuteTime": {
     "end_time": "2019-11-06T09:02:53.222247Z",
     "start_time": "2019-11-06T09:02:53.131197Z"
    },
    "scrolled": false
   },
   "outputs": [
    {
     "data": {
      "application/vnd.jupyter.widget-view+json": {
       "model_id": "fda0695536e2453889f65931601339ff",
       "version_major": 2,
       "version_minor": 0
      }
     },
     "metadata": {},
     "output_type": "display_data"
    }
   ],
   "source": [
    "mapListFilter = [\n",
    "   {\"a\":1, \"b\":2, \"c\":3},\n",
    "   {\"a\":4, \"b\":5, \"c\":6},\n",
    "   {\"a\":7, \"b\":8, \"c\":9},\n",
    "   {\"a\":1, \"b\":3, \"c\":5},\n",
    "   {\"a\":2, \"b\":4, \"c\":6},\n",
    "   {\"a\":3, \"b\":5, \"c\":7},\n",
    "   {\"a\":4, \"b\":6, \"c\":8},\n",
    "   {\"a\":5, \"b\":7, \"c\":9}\n",
    "]\n",
    "\n",
    "t4 = TableDisplay(mapListFilter)\n",
    "\n",
    "# 设置过滤器\n",
    "def filter_row(row, model):\n",
    "    return model[row][1] > 3\n",
    "\n",
    "t4.setRowFilter(filter_row)\n",
    "\n",
    "# 设置单元格高亮显示（按数值大小显示热力图）\n",
    "t4.addCellHighlighter(\n",
    "    TableDisplayCellHighlighter.getHeatmapHighlighter(\n",
    "        \"b\",\n",
    "        TableDisplayCellHighlighter.SINGLE_COLUMN # TableDisplayCellHighlighter.FULL_ROW\n",
    "    )\n",
    ")\n",
    "\n",
    "t4"
   ]
  },
  {
   "cell_type": "code",
   "execution_count": 7,
   "metadata": {
    "ExecuteTime": {
     "end_time": "2019-11-06T09:02:53.337278Z",
     "start_time": "2019-11-06T09:02:53.224239Z"
    }
   },
   "outputs": [
    {
     "data": {
      "application/vnd.jupyter.widget-view+json": {
       "model_id": "ea787aaabec84f1baeb6e698a30eeb61",
       "version_major": 2,
       "version_minor": 0
      }
     },
     "metadata": {},
     "output_type": "display_data"
    },
    {
     "name": "stdout",
     "output_type": "stream",
     "text": [
      "列[2]合计数为：23。\n",
      "行[3]合计数为：19。\n"
     ]
    }
   ],
   "source": [
    "data = [\n",
    "    {\n",
    "        \"系列1\": random.randint(1, 9),\n",
    "        \"系列2\": random.randint(1, 9),\n",
    "        \"系列3\": random.randint(1, 9)\n",
    "    } for x in range(5)\n",
    "]\n",
    "\n",
    "t5 = TableDisplay(data)\n",
    "\n",
    "# 添加双击事件\n",
    "def dclick(row, column, table):\n",
    "    # table.values[row][column] = sum(map(int,table.values[row]))\n",
    "    print('行[{}]合计数为：{}。'.format(row, sum(map(int,table.values[row]))))\n",
    "\n",
    "t5.setDoubleClickAction(dclick)\n",
    "\n",
    "# 添加右键菜单项\n",
    "def sumColumn(row, column, table):\n",
    "    print('列[{}]合计数为：{}。'.format(column, np.array(t5.values).transpose()[column].sum()))\n",
    "\n",
    "t5.addContextMenuItem(\"列合计\", sumColumn)\n",
    "t5.addContextMenuItem(\n",
    "    \"显示提示信息\",\n",
    "    \"Hello，这是一条提示信息：【1】双击输出行合计数【2】右键菜单项“列合计”可输出列合计数\"\n",
    ")\n",
    "\n",
    "t5"
   ]
  },
  {
   "cell_type": "code",
   "execution_count": 9,
   "metadata": {
    "ExecuteTime": {
     "end_time": "2019-11-06T09:03:35.972976Z",
     "start_time": "2019-11-06T09:03:35.968624Z"
    }
   },
   "outputs": [
    {
     "name": "stdout",
     "output_type": "stream",
     "text": [
      "CONTEXT_MENU_CLICK 1 2 None\n"
     ]
    }
   ],
   "source": [
    "# 在以上表格操作后，可运行本单元格获取操作信息。\n",
    "print(t5.details)\n",
    "\n",
    "# 数据更新操作\n",
    "t5.updateCell(2,\"系列2\",99)\n",
    "t5.sendModel()"
   ]
  }
 ],
 "metadata": {
  "kernelspec": {
   "display_name": "Python 3",
   "language": "python",
   "name": "python3"
  },
  "language_info": {
   "codemirror_mode": {
    "name": "ipython",
    "version": 3
   },
   "file_extension": ".py",
   "mimetype": "text/x-python",
   "name": "python",
   "nbconvert_exporter": "python",
   "pygments_lexer": "ipython3",
   "version": "3.7.4"
  },
  "latex_envs": {
   "LaTeX_envs_menu_present": true,
   "autoclose": false,
   "autocomplete": true,
   "bibliofile": "biblio.bib",
   "cite_by": "apalike",
   "current_citInitial": 1,
   "eqLabelWithNumbers": true,
   "eqNumInitial": 1,
   "hotkeys": {
    "equation": "Ctrl-E",
    "itemize": "Ctrl-I"
   },
   "labels_anchors": false,
   "latex_user_defs": false,
   "report_style_numbering": false,
   "user_envs_cfg": false
  },
  "toc": {
   "base_numbering": 1,
   "nav_menu": {},
   "number_sections": true,
   "sideBar": true,
   "skip_h1_title": false,
   "title_cell": "Table of Contents",
   "title_sidebar": "Contents",
   "toc_cell": false,
   "toc_position": {},
   "toc_section_display": true,
   "toc_window_display": false
  }
 },
 "nbformat": 4,
 "nbformat_minor": 2
}
