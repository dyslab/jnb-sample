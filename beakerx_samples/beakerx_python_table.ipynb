{
 "cells": [
  {
   "cell_type": "markdown",
   "metadata": {},
   "source": [
    "# Simple Table"
   ]
  },
  {
   "cell_type": "code",
   "execution_count": 1,
   "metadata": {
    "ExecuteTime": {
     "end_time": "2019-11-05T19:19:51.656705Z",
     "start_time": "2019-11-05T19:19:51.651317Z"
    }
   },
   "outputs": [],
   "source": [
    "# 导入beakerx库及其他所需库文件\n",
    "from beakerx import *\n",
    "from beakerx.object import beakerx\n",
    "import pandas as pd"
   ]
  },
  {
   "cell_type": "code",
   "execution_count": 2,
   "metadata": {
    "ExecuteTime": {
     "end_time": "2019-11-05T19:19:51.763415Z",
     "start_time": "2019-11-05T19:19:51.663987Z"
    },
    "scrolled": false
   },
   "outputs": [
    {
     "name": "stdout",
     "output_type": "stream",
     "text": [
      "栏目名称：['栏目1', '栏目2', '栏目3']\n",
      "单元格值：[[1, 2, 3], ['', 5, 6], [7, 8, 9]]\n"
     ]
    },
    {
     "data": {
      "application/vnd.jupyter.widget-view+json": {
       "model_id": "d765e90fbed54aa4bf9242e2f5f8f81d",
       "version_major": 2,
       "version_minor": 0
      }
     },
     "metadata": {},
     "output_type": "display_data"
    }
   ],
   "source": [
    "t1 = TableDisplay([\n",
    "    {'栏目1':1, '栏目2':2, '栏目3':3},\n",
    "    {'栏目3':6, '栏目2':5} # beakerx自动根据key来赋值\n",
    "])\n",
    "\n",
    "# 添加数据方法\n",
    "t1.values.append([7, 8, 9])\n",
    "t1.sendModel()\n",
    "\n",
    "# 设置固定栏目\n",
    "t1.setColumnFrozen('栏目3', True)\n",
    " \n",
    "# 输出栏目名称\n",
    "print('栏目名称：{}'.format(t1.model['columnNames']))\n",
    "# 输出单元格的值\n",
    "print('单元格值：{}'.format(t1.values))\n",
    "\n",
    "#dir(t1)\n",
    "t1"
   ]
  },
  {
   "cell_type": "code",
   "execution_count": 3,
   "metadata": {
    "ExecuteTime": {
     "end_time": "2019-11-05T19:19:51.973067Z",
     "start_time": "2019-11-05T19:19:51.766372Z"
    }
   },
   "outputs": [
    {
     "name": "stderr",
     "output_type": "stream",
     "text": [
      "/home/vincent/anaconda3/lib/python3.7/site-packages/beakerx/tabledisplay/tabledisplay.py:109: FutureWarning: The 'get_values' method is deprecated and will be removed in a future version. Use '.to_numpy()' or '.array' instead.\n",
      "  value = args[0][columnName].get_values()[index]\n",
      "/home/vincent/anaconda3/lib/python3.7/site-packages/beakerx/tabledisplay/tabledisplay.py:114: FutureWarning: The 'get_values' method is deprecated and will be removed in a future version. Use '.to_numpy()' or '.array' instead.\n",
      "  index_values = args[0].index.get_values()[index]\n"
     ]
    },
    {
     "data": {
      "application/vnd.jupyter.widget-view+json": {
       "model_id": "1b5c39e6da39442c9cd2d2c3ce2922ae",
       "version_major": 2,
       "version_minor": 0
      }
     },
     "metadata": {},
     "output_type": "display_data"
    }
   ],
   "source": [
    "t2 = pd.read_csv(\"sample.csv\").sort_values(\"型号\")\n",
    "\n",
    "t2"
   ]
  },
  {
   "cell_type": "code",
   "execution_count": 4,
   "metadata": {
    "ExecuteTime": {
     "end_time": "2019-11-05T19:19:52.114384Z",
     "start_time": "2019-11-05T19:19:51.975083Z"
    },
    "scrolled": true
   },
   "outputs": [
    {
     "data": {
      "application/vnd.jupyter.widget-view+json": {
       "model_id": "dfb7a2ff4c634bea8674c54c382a65e4",
       "version_major": 2,
       "version_minor": 0
      }
     },
     "metadata": {},
     "output_type": "display_data"
    }
   ],
   "source": [
    "table = TableDisplay({\n",
    "    'w': '$2 \\\\sigma$',\n",
    "    'x': '<em style=\"color:red\">italic red</em>',\n",
    "    'y': '<b style=\"color:blue\">bold blue</b>',\n",
    "    'z': 'strings without markup work fine too',\n",
    "    'Two Sigma': 'http://twosigma.com',\n",
    "    'BeakerX': 'http://BeakerX.com'\n",
    "})\n",
    "table.setStringFormatForColumn(\"Value\", TableDisplayStringFormat.getHTMLFormat())\n",
    "table"
   ]
  }
 ],
 "metadata": {
  "kernelspec": {
   "display_name": "Python 3",
   "language": "python",
   "name": "python3"
  },
  "language_info": {
   "codemirror_mode": {
    "name": "ipython",
    "version": 3
   },
   "file_extension": ".py",
   "mimetype": "text/x-python",
   "name": "python",
   "nbconvert_exporter": "python",
   "pygments_lexer": "ipython3",
   "version": "3.7.4"
  },
  "latex_envs": {
   "LaTeX_envs_menu_present": true,
   "autoclose": false,
   "autocomplete": true,
   "bibliofile": "biblio.bib",
   "cite_by": "apalike",
   "current_citInitial": 1,
   "eqLabelWithNumbers": true,
   "eqNumInitial": 1,
   "hotkeys": {
    "equation": "Ctrl-E",
    "itemize": "Ctrl-I"
   },
   "labels_anchors": false,
   "latex_user_defs": false,
   "report_style_numbering": false,
   "user_envs_cfg": false
  },
  "toc": {
   "base_numbering": 1,
   "nav_menu": {},
   "number_sections": true,
   "sideBar": true,
   "skip_h1_title": false,
   "title_cell": "Table of Contents",
   "title_sidebar": "Contents",
   "toc_cell": false,
   "toc_position": {},
   "toc_section_display": true,
   "toc_window_display": false
  }
 },
 "nbformat": 4,
 "nbformat_minor": 2
}
