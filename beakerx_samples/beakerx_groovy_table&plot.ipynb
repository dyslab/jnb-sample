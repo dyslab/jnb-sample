{
 "cells": [
  {
   "cell_type": "markdown",
   "metadata": {},
   "source": [
    "# Simple Table"
   ]
  },
  {
   "cell_type": "code",
   "execution_count": 1,
   "metadata": {},
   "outputs": [
    {
     "name": "stdout",
     "output_type": "stream",
     "text": [
      "Hello，以下是基于Apache Groovy语言的BeakerX图表演示实例...\n"
     ]
    },
    {
     "data": {
      "application/vnd.jupyter.widget-view+json": {
       "model_id": "d04c256f-dc58-476e-a3d7-5df4b85615f9",
       "version_major": 2,
       "version_minor": 0
      },
      "method": "display_data"
     },
     "metadata": {},
     "output_type": "display_data"
    }
   ],
   "source": [
    "def map = [\n",
    "   [a:1, b:5, c:3],\n",
    "   [a:4, b:9, c:6],\n",
    "   [a:7, b:2, c:5]\n",
    "]\n",
    "\n",
    "def display1 = new TableDisplay(map)\n",
    "\n",
    "println \"Hello，以下是基于Apache Groovy语言的BeakerX图表演示实例...\" \n",
    "\n",
    "display1"
   ]
  },
  {
   "cell_type": "code",
   "execution_count": 2,
   "metadata": {
    "ExecuteTime": {
     "end_time": "2019-10-31T22:07:58.140000Z",
     "start_time": "2019-10-31T22:07:58.140+0000"
    }
   },
   "outputs": [
    {
     "data": {
      "application/vnd.jupyter.widget-view+json": {
       "model_id": "c80590a6-3424-4015-aaa7-f2f425a8932c",
       "version_major": 2,
       "version_minor": 0
      },
      "method": "display_data"
     },
     "metadata": {},
     "output_type": "display_data"
    }
   ],
   "source": [
    "sales = new CSV().read(\"sample.csv\")\n",
    "\n",
    "def display2 = new TableDisplay(sales)\n",
    "\n",
    "display2"
   ]
  },
  {
   "cell_type": "code",
   "execution_count": 3,
   "metadata": {
    "ExecuteTime": {
     "end_time": "2019-10-31T22:07:58.214000Z",
     "start_time": "2019-10-31T22:07:58.214+0000"
    }
   },
   "outputs": [
    {
     "data": {
      "application/vnd.jupyter.widget-view+json": {
       "model_id": "5a5e6edb-c95e-4410-8df8-8e394642f96a",
       "version_major": 2,
       "version_minor": 0
      },
      "method": "display_data"
     },
     "metadata": {},
     "output_type": "display_data"
    }
   ],
   "source": [
    "import com.twosigma.beakerx.table.highlight.*\n",
    "\n",
    "def table = new TableDisplay([[1,2,5], \n",
    "                              [3,4,5], \n",
    "                              [6,2,3], \n",
    "                              [6,2,8], \n",
    "                              [6,2,8], \n",
    "                              [6,4,7], \n",
    "                              [6,2,8], \n",
    "                              [6,2,8], \n",
    "                              [6,5,5]], \n",
    "                             ['栏目1', '栏目2', '栏目3'], \n",
    "                             ['double', 'double', 'double'])\n",
    "    \n",
    "table.addCellHighlighter(TableDisplayCellHighlighter.getUniqueEntriesHighlighter(\"栏目3\", TableDisplayCellHighlighter.FULL_ROW))\n",
    "\n",
    "table"
   ]
  },
  {
   "cell_type": "code",
   "execution_count": 4,
   "metadata": {
    "ExecuteTime": {
     "end_time": "2019-10-31T22:07:58.270000Z",
     "start_time": "2019-10-31T22:07:58.270+0000"
    }
   },
   "outputs": [
    {
     "data": {
      "application/vnd.jupyter.widget-view+json": {
       "model_id": "c0deb3a2-9df4-4589-9e14-8cfe2e637cbc",
       "version_major": 2,
       "version_minor": 0
      },
      "method": "display_data"
     },
     "metadata": {},
     "output_type": "display_data"
    }
   ],
   "source": [
    "def myMap = [:]\n",
    "\n",
    "def myList = []\n",
    "myList << [a:1, b:2, c:3, d:5 , e:9]\n",
    "myList << [2, 3, 4, 10, 5]\n",
    "\n",
    "myMap.put(1, myList)\n",
    "myMap.put(2, myList[0])\n",
    "myMap.put(3, myList[1])\n",
    "\n",
    "myMap"
   ]
  },
  {
   "cell_type": "markdown",
   "metadata": {},
   "source": [
    "# Simple Plot"
   ]
  },
  {
   "cell_type": "code",
   "execution_count": 5,
   "metadata": {
    "ExecuteTime": {
     "end_time": "2019-10-31T22:07:58.390000Z",
     "start_time": "2019-10-31T22:07:58.390+0000"
    },
    "scrolled": false
   },
   "outputs": [
    {
     "data": {
      "application/vnd.jupyter.widget-view+json": {
       "model_id": "a22afe40-d9c0-4a0a-814c-5a473a7cf970",
       "version_major": 2,
       "version_minor": 0
      },
      "method": "display_data"
     },
     "metadata": {},
     "output_type": "display_data"
    }
   ],
   "source": [
    "p1 = new Plot(\n",
    "    title: \"Simple Plot Demo 简单图形演示 #1\",\n",
    "    xLabel: \"X坐标轴\",\n",
    "    yLabel: \"Y坐标轴\"\n",
    ")\n",
    "\n",
    "p1 << new Line(x:[2550, 7450], y:[7000, 7000], width: 8, color: Color.RED)\n",
    "p1 << new Line(x:[1000, 9000], y:[5000, 5000], width: 15, color: Color.GREEN)\n",
    "p1.add(new Line(x:[1000, 5000], y:[5000, 10000], width: 10, color: Color.ORANGE))\n",
    "p1.add(new Line(x:[9000, 5000], y:[5000, 10000], width: 10, color: Color.BLUE))\n",
    "\n",
    "// 填充区域\n",
    "p1 << new Area(x:[1500, 1300, 8700, 8500], y:[3800, 4800, 4800, 3800], color: new Color(255, 220, 180))\n",
    "\n",
    "// 添加文字\n",
    "p1 << new Text(x: 3500, y: 7100, text: \"This is a demo. 这是个演示。\")"
   ]
  },
  {
   "cell_type": "code",
   "execution_count": 6,
   "metadata": {},
   "outputs": [
    {
     "data": {
      "application/vnd.jupyter.widget-view+json": {
       "model_id": "77017ebe-fa9a-4528-8f1c-dbc5defd5667",
       "version_major": 2,
       "version_minor": 0
      },
      "method": "display_data"
     },
     "metadata": {},
     "output_type": "display_data"
    }
   ],
   "source": [
    "p2 = new Plot(\n",
    "    title: \"Simple Plot Demo 简单图形演示 #2\",\n",
    "    xLabel: \"X坐标轴\",\n",
    "    yLabel: \"Y坐标轴\",\n",
    "    initHeight: 320\n",
    ")\n",
    "\n",
    "// 辅助线\n",
    "p2.add(new ConstantLine(y: 6.8, style: StrokeType.DOT, width: 2, color: Color.gray))\n",
    "p2 << new ConstantLine(x: 2.2, style: StrokeType.DASH, width: 2, color: new Color(255, 200, 200))\n",
    "\n",
    "// 辅助区域\n",
    "p2.add(new ConstantBand(x: [3.5, 5.5], color: new Color(128, 128, 128, 50)))\n",
    "\n",
    "// 线条\n",
    "p2.add(new Line(x: [0, 1, 2, 3, 4, 5], y: [0, 1, 6, 5, 3, 8], style: StrokeType.DASH))\n",
    "p2.add(new Line(x: (0..5), y: [0, 3, 2, 6, 7, 8], style: StrokeType.DOT))\n",
    "p2 << new Line(x: (0..5), y: [0, 6, 9, 6.5, 5.5, 8], style: StrokeType.SOLID)"
   ]
  },
  {
   "cell_type": "code",
   "execution_count": 7,
   "metadata": {},
   "outputs": [
    {
     "data": {
      "application/vnd.jupyter.widget-view+json": {
       "model_id": "75a37e6b-73b1-49fb-bd0e-4c25f4e5d40c",
       "version_major": 2,
       "version_minor": 0
      },
      "method": "display_data"
     },
     "metadata": {},
     "output_type": "display_data"
    }
   ],
   "source": [
    "def p3 = new Plot(\n",
    "    title: \"Simple Plot Demo 简单图形演示 #3\",\n",
    "    xLabel: \"X坐标轴\",\n",
    "    yLabel: \"Y坐标轴\",\n",
    "    initWidth: 720,\n",
    "    initHeight: 360\n",
    ")\n",
    "\n",
    "def y1 = [20,50,30,20,60]\n",
    "def y2 = [70,20,40,10,30]\n",
    "def a1 = new Area(y: y1, displayName: '1季度')\n",
    "def a2 = new Area(y: y2, displayName: '2季度')\n",
    "\n",
    "p3 << XYStacker.stack([a1, a2])"
   ]
  },
  {
   "cell_type": "code",
   "execution_count": 8,
   "metadata": {},
   "outputs": [
    {
     "data": {
      "application/vnd.jupyter.widget-view+json": {
       "model_id": "f43b24ed-5216-4a92-ab58-c074b359b19e",
       "version_major": 2,
       "version_minor": 0
      },
      "method": "display_data"
     },
     "metadata": {},
     "output_type": "display_data"
    }
   ],
   "source": [
    "def p4 = new Plot(\n",
    "    title: \"Simple Plot Demo 简单图形演示 #4\",\n",
    "    xLabel: \"X坐标轴\",\n",
    "    yLabel: \"Y坐标轴\"\n",
    ")\n",
    "\n",
    "def count = 7\n",
    "def cs = [new Color(255, 128, 0, 128)] * count // transparent bars\n",
    "cs[3] = Color.blue // set color of a single bar, solid colored bar\n",
    "\n",
    "// 辅助区域\n",
    "p4.add(new ConstantBand(y: [3.5, 6.5], color: new Color(128, 128, 128, 25)))\n",
    "\n",
    "// 柱状图\n",
    "p4 << new Bars(x: (1..count), y: [3, 5, 2, 4, 7, 8, 6], color: cs, outlineColor: Color.black, width: 0.5)"
   ]
  },
  {
   "cell_type": "code",
   "execution_count": 9,
   "metadata": {
    "scrolled": false
   },
   "outputs": [
    {
     "data": {
      "application/vnd.jupyter.widget-view+json": {
       "model_id": "d7a42460-099e-4d00-9560-6533544e74e9",
       "version_major": 2,
       "version_minor": 0
      },
      "method": "display_data"
     },
     "metadata": {},
     "output_type": "display_data"
    }
   ],
   "source": [
    "def p5 = new Plot(\n",
    "    title: \"Simple Plot Demo 简单图形演示 #5\",\n",
    "    xLabel: \"X坐标轴\",\n",
    "    yLabel: \"Y坐标轴\"\n",
    ")\n",
    "def y1 = [2.5, 3.5, 5, 6.5, 3.5, 8]\n",
    "def cs = [Color.cyan, Color.red, Color.gray, Color.green, Color.blue, Color.pink]\n",
    "def ss = [StrokeType.SOLID, StrokeType.SOLID, StrokeType.DASH, StrokeType.DOT, StrokeType.DASHDOT, StrokeType.LONGDASH]\n",
    "\n",
    "p5 << new Stems(y: y1, color: cs, style: ss, width: 50)\n",
    "p5.add(new Points(y: y1, size: 15, color: Color.yellow, shape: ShapeType.DIAMOND, fill: true, outlineColor: Color.blue))"
   ]
  },
  {
   "cell_type": "code",
   "execution_count": 10,
   "metadata": {},
   "outputs": [
    {
     "data": {
      "application/vnd.jupyter.widget-view+json": {
       "model_id": "8c1a3c7e-86f7-44e4-8c3e-33eab224a2be",
       "version_major": 2,
       "version_minor": 0
      },
      "method": "display_data"
     },
     "metadata": {},
     "output_type": "display_data"
    }
   ],
   "source": [
    "def p6 = new Plot(\n",
    "    title: \"Simple Plot Demo 简单图形演示 #6\",\n",
    "    xLabel: \"X坐标轴\",\n",
    "    yLabel: \"Y坐标轴\"\n",
    ")\n",
    "def PI = 3.1416\n",
    "def xs = (1..10)\n",
    "def ys = [8.6, 6.1, 7.4, 2.5, 0.6, 0.0, 0.75, 1.7, 9.4, 1]\n",
    "def angles = [0, 0.3, 0, 3.5, PI*1.5, 4.7, 4.5, 3.9, 2.5, PI]\n",
    "\n",
    "for (i = 0; i < xs.size(); i++) {\n",
    "  p6 << new Text(x: xs[i], y: ys[i], text: \"锚点\" + i,  pointerAngle: angles[i])\n",
    "}\n",
    "\n",
    "p6 << new Line(x: xs, y: ys)\n",
    "p6 << new Points(x: xs, y: ys)"
   ]
  },
  {
   "cell_type": "markdown",
   "metadata": {},
   "source": [
    "*注：有关Groovy语言的更多详情，请参阅[Apache Groovy官方文档](http://www.groovy-lang.org/documentation.html)。*"
   ]
  }
 ],
 "metadata": {
  "kernelspec": {
   "display_name": "Groovy",
   "language": "groovy",
   "name": "groovy"
  },
  "language_info": {
   "codemirror_mode": "groovy",
   "file_extension": ".groovy",
   "mimetype": "",
   "name": "Groovy",
   "nbconverter_exporter": "",
   "version": "2.5.6"
  },
  "latex_envs": {
   "LaTeX_envs_menu_present": true,
   "autoclose": false,
   "autocomplete": true,
   "bibliofile": "biblio.bib",
   "cite_by": "apalike",
   "current_citInitial": 1,
   "eqLabelWithNumbers": true,
   "eqNumInitial": 1,
   "hotkeys": {
    "equation": "Ctrl-E",
    "itemize": "Ctrl-I"
   },
   "labels_anchors": false,
   "latex_user_defs": false,
   "report_style_numbering": false,
   "user_envs_cfg": false
  },
  "toc": {
   "base_numbering": 1,
   "nav_menu": {},
   "number_sections": true,
   "sideBar": true,
   "skip_h1_title": false,
   "title_cell": "Table of Contents",
   "title_sidebar": "Contents",
   "toc_cell": false,
   "toc_position": {},
   "toc_section_display": true,
   "toc_window_display": false
  }
 },
 "nbformat": 4,
 "nbformat_minor": 2
}
