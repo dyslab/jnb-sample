{
 "cells": [
  {
   "cell_type": "markdown",
   "metadata": {},
   "source": [
    "# Simple Table"
   ]
  },
  {
   "cell_type": "code",
   "execution_count": 1,
   "metadata": {
    "ExecuteTime": {
     "end_time": "2019-11-04T16:03:48.746000Z",
     "start_time": "2019-11-04T16:03:48.746+0000"
    }
   },
   "outputs": [
    {
     "name": "stdout",
     "output_type": "stream",
     "text": [
      "Hello，以下是基于Apache Groovy语言的BeakerX图表演示实例...\n"
     ]
    },
    {
     "data": {
      "application/vnd.jupyter.widget-view+json": {
       "model_id": "b49f3cb0-1ff5-407d-a2ee-c157a77f27b1",
       "version_major": 2,
       "version_minor": 0
      },
      "method": "display_data"
     },
     "metadata": {},
     "output_type": "display_data"
    }
   ],
   "source": [
    "def map1 = [\n",
    "   [a:1, b:5, c:8],\n",
    "   [a:4, b:9, c:6],\n",
    "   [a:7, b:2, c:5]\n",
    "]\n",
    "\n",
    "// 多种Table数据赋值方法\n",
    "map1 << [a:1, b:2, c:3]\n",
    "map1.add([a:4, b:5, c:6])\n",
    "map1 += [a:7, b:8, c:9]\n",
    "\n",
    "def t1 = new TableDisplay(map1)\n",
    "\n",
    "println \"Hello，以下是基于Apache Groovy语言的BeakerX图表演示实例...\" \n",
    "\n",
    "t1"
   ]
  },
  {
   "cell_type": "code",
   "execution_count": 2,
   "metadata": {
    "ExecuteTime": {
     "end_time": "2019-11-04T16:03:48.917000Z",
     "start_time": "2019-11-04T16:03:48.918+0000"
    }
   },
   "outputs": [
    {
     "name": "stdout",
     "output_type": "stream",
     "text": [
      "NANOSECONDS\tMICROSECONDS\tMILLISECONDS\tSECONDS\tMINUTES\tHOURS\tDAYS\t"
     ]
    },
    {
     "data": {
      "application/vnd.jupyter.widget-view+json": {
       "model_id": "10cf2eb3-f969-44ac-8f60-d8ceaf102ff1",
       "version_major": 2,
       "version_minor": 0
      },
      "method": "display_data"
     },
     "metadata": {},
     "output_type": "display_data"
    }
   ],
   "source": [
    "sales = new CSV().read(\"sample.csv\")\n",
    "\n",
    "def t2 = new TableDisplay(sales)\n",
    "\n",
    "// 显示TimeUnit属性值\n",
    "TimeUnit.each {\n",
    "    print it\n",
    "    print \"\\t\"\n",
    "}\n",
    "\n",
    "// 设置字段显示格式（固定两位小数）\n",
    "t2.setStringFormatForColumn('单价', TableDisplayStringFormat.getDecimalFormat(2, 2))\n",
    "\n",
    "// 设置字段格内显示柱状图形\n",
    "t2.setRendererForColumn('数量', TableDisplayCellRenderer.getDataBarsRenderer(true))  // 参数为false不显示数值\n",
    "\n",
    "// 设置固定栏目\n",
    "t2.setColumnFrozen('型号', true)\n",
    "\n",
    "// 隐藏栏目\n",
    "// t2.setColumnVisible('单价', false)\n",
    "\n",
    "t2"
   ]
  },
  {
   "cell_type": "code",
   "execution_count": 3,
   "metadata": {
    "ExecuteTime": {
     "end_time": "2019-11-04T16:03:49.129000Z",
     "start_time": "2019-11-04T16:03:49.129+0000"
    }
   },
   "outputs": [
    {
     "data": {
      "application/vnd.jupyter.widget-view+json": {
       "model_id": "070fca64-2c45-44bc-97eb-ab2aeaf59975",
       "version_major": 2,
       "version_minor": 0
      },
      "method": "display_data"
     },
     "metadata": {},
     "output_type": "display_data"
    }
   ],
   "source": [
    "// import com.twosigma.beakerx.table.highlight.*\n",
    "\n",
    "def t3 = new TableDisplay(\n",
    "    [\n",
    "        [1,2,5], \n",
    "        [3,4,5], \n",
    "        [6,2,3], \n",
    "        [6,2,8], \n",
    "        [6,2,8], \n",
    "        [5,4,7], \n",
    "        [6,2,8], \n",
    "        [9,2,8], \n",
    "        [6,5,5]\n",
    "    ], \n",
    "    ['栏目1', '栏目2', '栏目3'], \n",
    "    ['double', 'double', 'double']\n",
    ")\n",
    "\n",
    "// 设置指定行的字体颜色\n",
    "t3.setFontColorProvider {row, col, td ->\n",
    "    if (row % 2) {\n",
    "        Color.red\n",
    "    } else {\n",
    "        Color.black\n",
    "    }\n",
    "}\n",
    "\n",
    "// 设置标题栏竖排\n",
    "// t3.setHeadersVertical(true)\n",
    "\n",
    "// 按栏目设置唯一值（整行）高亮显示\n",
    "t3.addCellHighlighter(TableDisplayCellHighlighter.getUniqueEntriesHighlighter(\"栏目3\", TableDisplayCellHighlighter.FULL_ROW))\n",
    "\n",
    "// 按栏目设置热力图（整行）按数值大小高亮显示\n",
    "// t3.addCellHighlighter(TableDisplayCellHighlighter.getHeatmapHighlighter(\"栏目1\", TableDisplayCellHighlighter.FULL_ROW))\n",
    "\n",
    "// 自定义气泡提示\n",
    "t3.setToolTip { row, col, display ->\n",
    " \"本单元格值=\" + display.values[row][col]\n",
    "}\n",
    "\n",
    "t3"
   ]
  },
  {
   "cell_type": "code",
   "execution_count": 4,
   "metadata": {
    "ExecuteTime": {
     "end_time": "2019-11-04T16:03:49.220000Z",
     "start_time": "2019-11-04T16:03:49.220+0000"
    }
   },
   "outputs": [
    {
     "data": {
      "application/vnd.jupyter.widget-view+json": {
       "model_id": "afd85470-6cfb-4564-b929-83c4382af2e9",
       "version_major": 2,
       "version_minor": 0
      },
      "method": "display_data"
     },
     "metadata": {},
     "output_type": "display_data"
    },
    {
     "name": "stdout",
     "output_type": "stream",
     "text": [
      "第 3 列合计值：49\n",
      "第 1 列合计值：43\n"
     ]
    }
   ],
   "source": [
    "def d4 = [\n",
    "   [2, 5, 8, 11],\n",
    "   [14, 19, 16, 17],\n",
    "   [27, 22, 25, 30]\n",
    "]\n",
    "\n",
    "def t4 = new TableDisplay(\n",
    "    d4,\n",
    "    ['系列1', '系列2', '系列3', '系列4'],\n",
    "    ['integer', 'integer', 'integer', 'integer']\n",
    ")\n",
    "\n",
    "// 添加表格区右键菜单项\n",
    "t4.addContextMenuItem(\"整列合计输出\") { row, col, tableDisplay ->\n",
    "    sum = 0\n",
    "    row_len = tableDisplay.values.size()\n",
    "    for (i in 0..row_len-1) {\n",
    "        sum += tableDisplay.values[i][col]\n",
    "    }\n",
    "    println \"第 \" + (col+1) + \" 列合计值：\" + sum\n",
    "}\n",
    "\n",
    "t4"
   ]
  },
  {
   "cell_type": "code",
   "execution_count": 5,
   "metadata": {
    "ExecuteTime": {
     "end_time": "2019-11-04T16:03:49.296000Z",
     "start_time": "2019-11-04T16:03:49.296+0000"
    }
   },
   "outputs": [
    {
     "data": {
      "application/vnd.jupyter.widget-view+json": {
       "model_id": "cd5e4858-6512-450d-8a9b-6980b13cdf58",
       "version_major": 2,
       "version_minor": 0
      },
      "method": "display_data"
     },
     "metadata": {},
     "output_type": "display_data"
    }
   ],
   "source": [
    "t5 = new TableDisplay([\n",
    "    [\n",
    "        'HTML栏目': '<em style=\"color:red; font-size: 18px\">红色斜体abc</em>',\n",
    "        '图片栏目': '<b style=\"color:blue; font-size: 12px\">蓝色粗体ABC</b>',\n",
    "        '文本栏目': '多行显示<br/>也可以哦🙀<br/>啦啦啦....lalala...'\n",
    "    ],\n",
    "    [\n",
    "        'HTML栏目': '多行显示<br/>也可以哦🙀<br/>啦啦啦....lalala...',\n",
    "        '图片栏目': '<b style=\"color:blue; font-size: 12px\">蓝色粗体ABC</b>',\n",
    "        '文本栏目': '<em style=\"color:red; font-size: 18px\">红色斜体abc</em>'\n",
    "    ],\n",
    "    [\n",
    "        'HTML栏目': '<b style=\"color:blue; font-size: 12px\">蓝色粗体ABC</b>',\n",
    "        '图片栏目': '多行显示<br/>也可以哦🙀<br/>啦啦啦....lalala...',\n",
    "        '文本栏目': '<em style=\"color:red; font-size: 18px\">红色斜体abc</em>'\n",
    "    ]\n",
    "])\n",
    "\n",
    "// 设置标题区、表格区字体大小\n",
    "t5.headerFontSize = 20\n",
    "t5.dataFontSize = 16\n",
    "\n",
    "// 设置指定列单元格为HTML显示格式\n",
    "t5.setStringFormatForColumn(\"HTML栏目\", TableDisplayStringFormat.getHTMLFormat())\n",
    "\n",
    "// 设置指定列单元格为图片显示格式（更新上表）\n",
    "t5.setStringFormatForColumn(\"图片栏目\", TableDisplayStringFormat.getImageFormat())\n",
    "t5.values[0][1] = 'test1.jpg'\n",
    "t5.values[1][1] = 'test2.jpg'\n",
    "t5.values[2][1] = 'test3.jpg'\n",
    "\n",
    "t5"
   ]
  },
  {
   "cell_type": "markdown",
   "metadata": {},
   "source": [
    "# Simple Plot"
   ]
  },
  {
   "cell_type": "code",
   "execution_count": 6,
   "metadata": {
    "ExecuteTime": {
     "end_time": "2019-11-04T16:03:49.555000Z",
     "start_time": "2019-11-04T16:03:49.555+0000"
    },
    "scrolled": false
   },
   "outputs": [
    {
     "data": {
      "application/vnd.jupyter.widget-view+json": {
       "model_id": "ab36fd09-9ed3-472b-9634-bf73408f65f2",
       "version_major": 2,
       "version_minor": 0
      },
      "method": "display_data"
     },
     "metadata": {},
     "output_type": "display_data"
    }
   ],
   "source": [
    "p1 = new Plot(\n",
    "    title: \"Simple Plot Demo 简单图形演示 #1\",\n",
    "    xLabel: \"X坐标轴\",\n",
    "    yLabel: \"Y坐标轴\"\n",
    ")\n",
    "\n",
    "p1 << new Line(x:[2550, 7450], y:[7000, 7000], width: 8, color: Color.RED)\n",
    "p1 << new Line(x:[1000, 9000], y:[5000, 5000], width: 15, color: Color.GREEN)\n",
    "p1.add(new Line(x:[1000, 5000], y:[5000, 10000], width: 10, color: Color.ORANGE))\n",
    "p1.add(new Line(x:[9000, 5000], y:[5000, 10000], width: 10, color: Color.BLUE))\n",
    "\n",
    "// 填充区域\n",
    "p1 << new Area(x:[1500, 1300, 8700, 8500], y:[3800, 4800, 4800, 3800], color: new Color(255, 220, 180))\n",
    "\n",
    "// 添加文字\n",
    "p1 << new Text(x: 3500, y: 7100, text: \"This is a demo. 这是个演示。\")"
   ]
  },
  {
   "cell_type": "code",
   "execution_count": 7,
   "metadata": {
    "ExecuteTime": {
     "end_time": "2019-11-04T16:03:49.711000Z",
     "start_time": "2019-11-04T16:03:49.711+0000"
    }
   },
   "outputs": [
    {
     "data": {
      "application/vnd.jupyter.widget-view+json": {
       "model_id": "d69ac4a4-f7f7-4715-a88c-988a01fddf35",
       "version_major": 2,
       "version_minor": 0
      },
      "method": "display_data"
     },
     "metadata": {},
     "output_type": "display_data"
    }
   ],
   "source": [
    "p2 = new Plot(\n",
    "    title: \"Simple Plot Demo 简单图形演示 #2\",\n",
    "    xLabel: \"X坐标轴\",\n",
    "    yLabel: \"Y坐标轴\",\n",
    "    initHeight: 320\n",
    ")\n",
    "\n",
    "// 辅助线\n",
    "p2.add(new ConstantLine(y: 6.8, style: StrokeType.DOT, width: 2, color: Color.gray))\n",
    "p2 << new ConstantLine(x: 2.2, style: StrokeType.DASH, width: 2, color: new Color(255, 200, 200))\n",
    "\n",
    "// 辅助区域\n",
    "p2.add(new ConstantBand(x: [3.5, 5.5], color: new Color(128, 128, 128, 50)))\n",
    "\n",
    "// 线条\n",
    "p2.add(new Line(x: [0, 1, 2, 3, 4, 5], y: [0, 1, 6, 5, 3, 8], style: StrokeType.DASH))\n",
    "p2.add(new Line(x: (0..5), y: [0, 3, 2, 6, 7, 8], style: StrokeType.DOT))\n",
    "p2 << new Line(x: (0..5), y: [0, 6, 9, 6.5, 5.5, 8], style: StrokeType.SOLID)"
   ]
  },
  {
   "cell_type": "code",
   "execution_count": 8,
   "metadata": {
    "ExecuteTime": {
     "end_time": "2019-11-04T16:03:49.781000Z",
     "start_time": "2019-11-04T16:03:49.781+0000"
    }
   },
   "outputs": [
    {
     "data": {
      "application/vnd.jupyter.widget-view+json": {
       "model_id": "bed31a92-1322-4f94-a8ce-6c5d2966c541",
       "version_major": 2,
       "version_minor": 0
      },
      "method": "display_data"
     },
     "metadata": {},
     "output_type": "display_data"
    }
   ],
   "source": [
    "def p3 = new Plot(\n",
    "    title: \"Simple Plot Demo 简单图形演示 #3\",\n",
    "    xLabel: \"X坐标轴\",\n",
    "    yLabel: \"Y坐标轴\",\n",
    "    initWidth: 720,\n",
    "    initHeight: 360\n",
    ")\n",
    "\n",
    "def y1 = [20,50,30,20,60]\n",
    "def y2 = [70,20,40,10,30]\n",
    "def a1 = new Area(y: y1, displayName: '1季度')\n",
    "def a2 = new Area(y: y2, displayName: '2季度')\n",
    "\n",
    "p3 << XYStacker.stack([a1, a2])"
   ]
  },
  {
   "cell_type": "code",
   "execution_count": 9,
   "metadata": {
    "ExecuteTime": {
     "end_time": "2019-11-04T16:03:49.870000Z",
     "start_time": "2019-11-04T16:03:49.870+0000"
    }
   },
   "outputs": [
    {
     "data": {
      "application/vnd.jupyter.widget-view+json": {
       "model_id": "d40df1c7-c153-4d2c-a170-e027bef1249d",
       "version_major": 2,
       "version_minor": 0
      },
      "method": "display_data"
     },
     "metadata": {},
     "output_type": "display_data"
    }
   ],
   "source": [
    "def p4 = new Plot(\n",
    "    title: \"Simple Plot Demo 简单图形演示 #4\",\n",
    "    xLabel: \"X坐标轴\",\n",
    "    yLabel: \"Y坐标轴\"\n",
    ")\n",
    "\n",
    "def count = 7\n",
    "def cs = [new Color(255, 128, 0, 128)] * count // transparent bars\n",
    "cs[3] = Color.blue // set color of a single bar, solid colored bar\n",
    "\n",
    "// 辅助区域\n",
    "p4.add(new ConstantBand(y: [3.5, 6.5], color: new Color(128, 128, 128, 25)))\n",
    "\n",
    "// 柱状图\n",
    "p4 << new Bars(x: (1..count), y: [3, 5, 2, 4, 7, 8, 6], color: cs, outlineColor: Color.black, width: 0.5)"
   ]
  },
  {
   "cell_type": "code",
   "execution_count": 10,
   "metadata": {
    "ExecuteTime": {
     "end_time": "2019-11-04T16:03:50.018000Z",
     "start_time": "2019-11-04T16:03:50.018+0000"
    },
    "scrolled": false
   },
   "outputs": [
    {
     "data": {
      "application/vnd.jupyter.widget-view+json": {
       "model_id": "3bace70f-22cf-4f3a-a3fe-e0cc66eab787",
       "version_major": 2,
       "version_minor": 0
      },
      "method": "display_data"
     },
     "metadata": {},
     "output_type": "display_data"
    }
   ],
   "source": [
    "def p5 = new Plot(\n",
    "    title: \"Simple Plot Demo 简单图形演示 #5\",\n",
    "    xLabel: \"X坐标轴\",\n",
    "    yLabel: \"Y坐标轴\",\n",
    "    xLowerMargin: 0.1, \n",
    "    xUpperMargin: 0.1, \n",
    "    yLowerMargin: 0, \n",
    "    yUpperMargin: 0.1,\n",
    "    yAutoRangeIncludesZero: true\n",
    ")\n",
    "def y1 = [2.5, 3.5, 5, 6.5, 3.5, 8]\n",
    "def cs = [Color.cyan, Color.red, Color.gray, Color.green, Color.blue, Color.pink]\n",
    "def ss = [StrokeType.SOLID, StrokeType.SOLID, StrokeType.DASH, StrokeType.DOT, StrokeType.DASHDOT, StrokeType.LONGDASH]\n",
    "\n",
    "p5 << new Stems(y: y1, color: cs, style: ss, width: 50)\n",
    "p5.add(new Points(y: y1, size: 15, color: Color.yellow, shape: ShapeType.DIAMOND, fill: true, outlineColor: Color.blue))"
   ]
  },
  {
   "cell_type": "code",
   "execution_count": 11,
   "metadata": {
    "ExecuteTime": {
     "end_time": "2019-11-04T16:03:50.140000Z",
     "start_time": "2019-11-04T16:03:50.141+0000"
    }
   },
   "outputs": [
    {
     "data": {
      "application/vnd.jupyter.widget-view+json": {
       "model_id": "c72b6a04-d9e1-4ce3-be89-15186bd1f233",
       "version_major": 2,
       "version_minor": 0
      },
      "method": "display_data"
     },
     "metadata": {},
     "output_type": "display_data"
    }
   ],
   "source": [
    "def ch = new Crosshair(color: new Color(255, 128, 5), width: 2, style: StrokeType.DOT)\n",
    "def p6 = new Plot(\n",
    "    title: \"Simple Plot Demo 简单图形演示 #6\",\n",
    "    xLabel: \"X坐标轴\",\n",
    "    yLabel: \"Y坐标轴\",\n",
    "    xLowerMargin: 0.02, \n",
    "    xUpperMargin: 0.02, \n",
    "    yLowerMargin: 0.1, \n",
    "    yUpperMargin: 0.1,\n",
    "    crosshair: ch\n",
    ")\n",
    "def xs = (1..10)\n",
    "def ys = [8.6, 6.1, 7.4, 2.5, 0.6, 0.0, 0.75, 1.7, 9.4, 1]\n",
    "def angles = [0, 0.3, 0, 3.5, Math.PI*1.5, 4.7, 4.5, 3.9, 2.5, Math.PI]\n",
    "\n",
    "for (i = 0; i < xs.size(); i++) {\n",
    "  p6 << new Text(x: xs[i], y: ys[i], text: \"锚点\" + i,  pointerAngle: angles[i])\n",
    "}\n",
    "\n",
    "p6 << new Line(x: xs, y: ys)\n",
    "p6 << new Points(x: xs, y: ys)"
   ]
  },
  {
   "cell_type": "code",
   "execution_count": 12,
   "metadata": {
    "ExecuteTime": {
     "end_time": "2019-11-04T16:03:50.253000Z",
     "start_time": "2019-11-04T16:03:50.253+0000"
    },
    "scrolled": false
   },
   "outputs": [
    {
     "data": {
      "application/vnd.jupyter.widget-view+json": {
       "model_id": "468daa68-e5ea-4d7a-8552-19ee7aba85e4",
       "version_major": 2,
       "version_minor": 0
      },
      "method": "display_data"
     },
     "metadata": {},
     "output_type": "display_data"
    }
   ],
   "source": [
    "p7 = new Plot(\n",
    "    title: \"Simple Plot Demo 简单图形演示 #7\",\n",
    "    xLabel: \"X坐标轴\",\n",
    "    yLabel: \"Y坐标轴\",\n",
    "    xLowerMargin: 0.05, \n",
    "    xUpperMargin: 0.05, \n",
    "    yLowerMargin: 0.05, \n",
    "    yUpperMargin: 0.05,\n",
    "    omitCheckboxes: true,\n",
    "    legendLayout: LegendLayout.HORIZONTAL,\n",
    "    legendPosition: LegendPosition.BOTTOM\n",
    ")\n",
    "\n",
    "def x = [1, 4, 6, 8, 10]\n",
    "def y = [3, 6, 4, 5, 8]\n",
    "\n",
    "p7 << new Line(displayName: \"Line\", x: x, y: y, width: 3, color: new Color(255, 128, 240))\n",
    "p7 << new Bars(displayName: \"Bar\", x: (1..10), y: [2, 2, 4, 5.5, 2, 3, 1, 2, 4, 7], width: 0.5, color: new Color(128, 228, 200, 192))\n",
    "p7 << new Points(x: x, y: y, size: 10, toolTip: {xs, ys -> \"x = \" + xs + \", y = \" + ys })\n",
    "\n",
    "// p7.setLegendPosition(LegendPosition.RIGHT)"
   ]
  },
  {
   "cell_type": "code",
   "execution_count": 13,
   "metadata": {
    "ExecuteTime": {
     "end_time": "2019-11-04T16:03:50.385000Z",
     "start_time": "2019-11-04T16:03:50.385+0000"
    }
   },
   "outputs": [
    {
     "data": {
      "application/vnd.jupyter.widget-view+json": {
       "model_id": "c7a5eb79-28db-49fc-8421-e8a892db50ea",
       "version_major": 2,
       "version_minor": 0
      },
      "method": "display_data"
     },
     "metadata": {},
     "output_type": "display_data"
    }
   ],
   "source": [
    "// 简单时间图形演示\n",
    "import java.text.SimpleDateFormat\n",
    "def dateformat = new SimpleDateFormat(\"yyyy/MM/dd\")\n",
    "rates = [\n",
    "    [a: 3.20, b: 5.32, updatetime: dateformat.parse(\"2020/1/1\")],\n",
    "    [a: 4.12, b: 2.34, updatetime: dateformat.parse(\"2020/2/1\")],\n",
    "    [a: 2.11, b: 4.23, updatetime: dateformat.parse(\"2020/3/1\")],\n",
    "    [a: 3.25, b: 3.12, updatetime: dateformat.parse(\"2020/4/1\")],\n",
    "    [a: 4.22, b: 5.29, updatetime: dateformat.parse(\"2020/5/1\")],\n",
    "    [a: 6.32, b: 2.31, updatetime: dateformat.parse(\"2020/6/1\")]\n",
    "]\n",
    "\n",
    "p8 = new SimpleTimePlot(\n",
    "    title: \"Simple Plot Demo 简单图形演示 #8\",\n",
    "    rates, [\"a\", \"b\"], // column names\n",
    "    timeColumn : \"updatetime\", // time is default value for a timeColumn\n",
    "    xLabel: \"时间\",\n",
    "    yLabel: \"费率\", \n",
    "    displayNames: [\"A银行\", \"B银行\"],\n",
    "    colors : [[216, 154, 54], '#aabbcc'],\n",
    "    displayLines: true,\n",
    "    displayPoints: true,\n",
    "    initHeight: 280\n",
    ")\n",
    "\n",
    "// y轴第二坐标\n",
    "p8 << new YAxis(label: \"散布率\", upperMargin: 0, lowerMargin: 0)"
   ]
  },
  {
   "cell_type": "code",
   "execution_count": 14,
   "metadata": {
    "ExecuteTime": {
     "end_time": "2019-11-04T16:03:50.516000Z",
     "start_time": "2019-11-04T16:03:50.516+0000"
    },
    "scrolled": false
   },
   "outputs": [
    {
     "data": {
      "application/vnd.jupyter.widget-view+json": {
       "model_id": "a75f2394-3e1a-41e8-a10b-f8afc044b52e",
       "version_major": 2,
       "version_minor": 0
      },
      "method": "display_data"
     },
     "metadata": {},
     "output_type": "display_data"
    }
   ],
   "source": [
    "p9 = new Plot(\n",
    "    title: \"Simple Plot Demo 简单图形演示 #9\",\n",
    "    labelStyle: \"font-size:32px; font-weight: bold; font-family: courier; fill: green;\",\n",
    "    gridLineStyle:  \"stroke: purple; stroke-width: 2;\",\n",
    "    titleStyle: \"color: green;\",\n",
    "    xTickLabelsVisible: true,\n",
    "    yTickLabelsVisible: true\n",
    ")\n",
    "\n",
    "// 随机点\n",
    "r = new Random()\n",
    "p9 << new Points(\n",
    "    x: (1..500).collect { r.nextGaussian() * 10.0d },\n",
    "    y: (1..500).collect { r.nextGaussian() * 20.0d },\n",
    "    color: new Color(0, 128, 64, 144)\n",
    ")\n",
    "\n",
    "// 填充图片\n",
    "p9 << new Rasters(x: [10], y: [-20], width: [18], height: [18], opacity:[0.65], fileUrl: \"sample.png\");"
   ]
  },
  {
   "cell_type": "markdown",
   "metadata": {},
   "source": [
    "*注：有关Groovy语言的更多详情，请参阅[Apache Groovy官方文档](http://www.groovy-lang.org/documentation.html)。*"
   ]
  }
 ],
 "metadata": {
  "kernelspec": {
   "display_name": "Groovy",
   "language": "groovy",
   "name": "groovy"
  },
  "language_info": {
   "codemirror_mode": "groovy",
   "file_extension": ".groovy",
   "mimetype": "",
   "name": "Groovy",
   "nbconverter_exporter": "",
   "version": "2.5.6"
  },
  "latex_envs": {
   "LaTeX_envs_menu_present": true,
   "autoclose": false,
   "autocomplete": true,
   "bibliofile": "biblio.bib",
   "cite_by": "apalike",
   "current_citInitial": 1,
   "eqLabelWithNumbers": true,
   "eqNumInitial": 1,
   "hotkeys": {
    "equation": "Ctrl-E",
    "itemize": "Ctrl-I"
   },
   "labels_anchors": false,
   "latex_user_defs": false,
   "report_style_numbering": false,
   "user_envs_cfg": false
  },
  "toc": {
   "base_numbering": 1,
   "nav_menu": {},
   "number_sections": true,
   "sideBar": true,
   "skip_h1_title": false,
   "title_cell": "Table of Contents",
   "title_sidebar": "Contents",
   "toc_cell": false,
   "toc_position": {},
   "toc_section_display": true,
   "toc_window_display": false
  }
 },
 "nbformat": 4,
 "nbformat_minor": 2
}
