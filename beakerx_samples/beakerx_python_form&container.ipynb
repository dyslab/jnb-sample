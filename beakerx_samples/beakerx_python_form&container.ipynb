{
 "cells": [
  {
   "cell_type": "markdown",
   "metadata": {},
   "source": [
    "# Easy Form"
   ]
  },
  {
   "cell_type": "code",
   "execution_count": 1,
   "metadata": {
    "ExecuteTime": {
     "end_time": "2019-11-08T19:42:12.445563Z",
     "start_time": "2019-11-08T19:42:12.399562Z"
    }
   },
   "outputs": [],
   "source": [
    "# 导入beakerx库及其他所需库文件\n",
    "from beakerx import *\n",
    "from beakerx.object import beakerx\n",
    "import operator\n",
    "# 引入Jupyter Widgets小部件。相关说明见：https://ipywidgets.readthedocs.io/en/stable/\n",
    "from ipywidgets import * \n",
    "\n",
    "import numpy as np\n",
    "import re"
   ]
  },
  {
   "cell_type": "code",
   "execution_count": 2,
   "metadata": {
    "ExecuteTime": {
     "end_time": "2019-11-08T19:42:12.597513Z",
     "start_time": "2019-11-08T19:42:12.447235Z"
    }
   },
   "outputs": [
    {
     "data": {
      "application/vnd.jupyter.widget-view+json": {
       "model_id": "ac6e75c4141346e494973b803dd3682d",
       "version_major": 2,
       "version_minor": 0
      },
      "method": "display_data"
     },
     "metadata": {},
     "output_type": "display_data"
    }
   ],
   "source": [
    "f1 = EasyForm(\"简单表格 #1（OnInit/OnChange事件）\")\n",
    "\n",
    "f1.addTextField(\"姓\", width=10).onInit(\n",
    "    lambda: operator.setitem(f1, '姓', \"杜\")\n",
    ").onChange(\n",
    "    lambda text: operator.setitem(f1, '全名', text + f1['名'])\n",
    ")\n",
    "\n",
    "f1.addTextField(\"名\", width=10).onInit(\n",
    "    lambda: operator.setitem(f1, '名', \"叔叔\")\n",
    ").onChange(\n",
    "    lambda text: operator.setitem(f1, '全名', f1['姓'] + text)\n",
    ")\n",
    "\n",
    "f1.addTextField(\"全名\", width=20)\n",
    "\n",
    "button = f1.addButton(\"完成\", tag=f1['姓'] + f1['名'])\n",
    "button.actionPerformed = lambda: beakerx.runByTag(\"哈哈哈..... {}，你好。\".format(f1['全名']))\n",
    "\n",
    "f1"
   ]
  },
  {
   "cell_type": "code",
   "execution_count": 3,
   "metadata": {
    "ExecuteTime": {
     "end_time": "2019-11-08T19:42:12.803863Z",
     "start_time": "2019-11-08T19:42:12.600437Z"
    }
   },
   "outputs": [
    {
     "data": {
      "application/vnd.jupyter.widget-view+json": {
       "model_id": "c19d8deaa45f4472975ddaaaf469a9f0",
       "version_major": 2,
       "version_minor": 0
      },
      "method": "display_data"
     },
     "metadata": {},
     "output_type": "display_data"
    }
   ],
   "source": [
    "f2 = EasyForm(\"简单表格 #2（小部件示例）\")\n",
    "\n",
    "f2.addTextArea(\"结果\", 50, 3, value = \"测试文本\\nABC\\n123\")\n",
    "\n",
    "f2.addPasswordField(\"密码\", width=10)\n",
    "\n",
    "f2.addCheckBox(\"单个Checkbox选项\", value = True)\n",
    "\n",
    "options = [\"点\", \"线\", \"柱状图\"]\n",
    "f2.addComboBox(\"下拉组合选项\", options, editable=False)\n",
    "f2.addList(\"列表选项\", options, multi=False)\n",
    "f2.addCheckBoxes(\"组合Checkbox选项\", options, orientation=EasyForm.HORIZONTAL)\n",
    "f2.addRadioButtons(\"组合Radiobox选项\", options, orientation=EasyForm.VERTICAL)\n",
    "\n",
    "f2.addDatePicker(\"日期选择项\", value=datetime.today().strftime('%Y%m%d'))\n",
    "\n",
    "f2"
   ]
  },
  {
   "cell_type": "code",
   "execution_count": 4,
   "metadata": {
    "ExecuteTime": {
     "end_time": "2019-11-08T19:42:12.814332Z",
     "start_time": "2019-11-08T19:42:12.805784Z"
    }
   },
   "outputs": [
    {
     "data": {
      "application/vnd.jupyter.widget-view+json": {
       "model_id": "a50974fdd478410183641b0fcacd8ff5",
       "version_major": 2,
       "version_minor": 0
      }
     },
     "metadata": {},
     "output_type": "display_data"
    }
   ],
   "source": [
    "# 在以上表格操作后，输出结果\n",
    "result = dict()\n",
    "for child in f2:\n",
    "    result[child] = f2[child]\n",
    "\n",
    "TableDisplay(result)"
   ]
  },
  {
   "cell_type": "code",
   "execution_count": 5,
   "metadata": {
    "ExecuteTime": {
     "end_time": "2019-11-08T19:42:12.948652Z",
     "start_time": "2019-11-08T19:42:12.815597Z"
    }
   },
   "outputs": [
    {
     "data": {
      "application/vnd.jupyter.widget-view+json": {
       "model_id": "d8a827c879184d8c906fe4d51d1d2418",
       "version_major": 2,
       "version_minor": 0
      },
      "method": "display_data"
     },
     "metadata": {},
     "output_type": "display_data"
    }
   ],
   "source": [
    "f3 = EasyForm(\"简单表格 #3（使用Jupyter Widgets小部件）\")\n",
    "\n",
    "w = IntSlider(\n",
    "    value=50,\n",
    "    min=0,\n",
    "    max=100,\n",
    "    step=5\n",
    ")\n",
    "f3.addWidget(\"滑动条\", w)\n",
    "\n",
    "button = f3.addButton(\"确定\")\n",
    "button.actionPerformed = lambda: beakerx.runByTag(\"选定值：{},{}。\".format(w.value, f3[\"滑动条\"]))\n",
    "\n",
    "f3"
   ]
  },
  {
   "cell_type": "code",
   "execution_count": 6,
   "metadata": {
    "ExecuteTime": {
     "end_time": "2019-11-08T19:42:13.076660Z",
     "start_time": "2019-11-08T19:42:12.958301Z"
    }
   },
   "outputs": [
    {
     "data": {
      "application/vnd.jupyter.widget-view+json": {
       "model_id": "48ac089cc7b44882ac2aab00d4ba2010",
       "version_major": 2,
       "version_minor": 0
      },
      "method": "display_data"
     },
     "metadata": {},
     "output_type": "display_data"
    }
   ],
   "source": [
    "def compareNum(str_guess_num, result_num):\n",
    "    try:\n",
    "        global gnum\n",
    "        global gwinstr\n",
    "        global gcount\n",
    "\n",
    "        guess_num = int(str_guess_num)\n",
    "        gcount += 1\n",
    "        if guess_num == result_num:\n",
    "            f4[\"荣誉\"] = \"荣誉值：{}🀄\".format(int(re.search(\"荣誉值：(.*)🀄\", f4[\"荣誉\"])[1])+1)\n",
    "            f4[\"结果\"] = \"第%s次：猜对了，Good! 新数字已诞生，可以继续猜哦...\" % gcount\n",
    "            gcount = 0\n",
    "            gnum = np.random.randint(101)\n",
    "        elif guess_num < result_num:\n",
    "            f4[\"结果\"] = [\n",
    "                \"第%s次：小了哦，往大的猜\",\n",
    "                \"第%s次：这么小，大点\",\n",
    "                \"第%s次：猜大点行么\",\n",
    "            ][gcount % 3] % gcount\n",
    "        else:\n",
    "            f4[\"结果\"] = [\n",
    "                \"第%s次：大了哦，往小的猜\",\n",
    "                \"第%s次：太大了，小点\",\n",
    "                \"第%s次：大了，小点啦，please 🤪\",\n",
    "            ][gcount % 3] % gcount\n",
    "    except:\n",
    "        f4[\"结果\"] = \"拜托，请输入0-99的整数 🙏🙏🙏\"\n",
    "        pass\n",
    "    \n",
    "\n",
    "f4 = EasyForm(\"简单表格 #4（0-99猜数游戏）\")\n",
    "\n",
    "gcount = 0\n",
    "gnum = np.random.randint(100)\n",
    "\n",
    "f4.addTextField(\"猜数\", width=3)\n",
    "\n",
    "# 引入Jupyter Widgets小部件\n",
    "lb1 = Label(value=\"可以开始啦...\")\n",
    "lb2 = Label(value=\"荣誉值：0🀄\")\n",
    "lb3 = Label(value=\"💁 提示：输入数字后按回车键即可猜数。\")\n",
    "f4.addWidget(\"结果\", lb1)\n",
    "f4.addWidget(\"荣誉\", lb2)\n",
    "f4.addWidget(\"提示\", lb3)\n",
    "\n",
    "button = f4.addButton(\"我猜！我猜！我猜猜\")\n",
    "button.actionPerformed = lambda: compareNum(f4[\"猜数\"], gnum)\n",
    "\n",
    "f4"
   ]
  },
  {
   "cell_type": "code",
   "execution_count": 7,
   "metadata": {
    "ExecuteTime": {
     "end_time": "2019-11-08T19:42:13.140386Z",
     "start_time": "2019-11-08T19:42:13.080553Z"
    }
   },
   "outputs": [
    {
     "data": {
      "application/vnd.jupyter.widget-view+json": {
       "model_id": "9bbe1aaa501f4d5a9fa7dc994897ea41",
       "version_major": 2,
       "version_minor": 0
      },
      "method": "display_data"
     },
     "metadata": {},
     "output_type": "display_data"
    }
   ],
   "source": [
    "f5 = EasyForm(\"简单表格 #5（选择图形）\")\n",
    "\n",
    "options = [\"点图\", \"线图\", \"柱状图\"]\n",
    "f5.addComboBox(\"图形类型\", options, editable=False)\n",
    "\n",
    "f5"
   ]
  },
  {
   "cell_type": "code",
   "execution_count": 13,
   "metadata": {
    "ExecuteTime": {
     "end_time": "2019-11-08T19:42:58.546670Z",
     "start_time": "2019-11-08T19:42:58.521776Z"
    },
    "scrolled": false
   },
   "outputs": [
    {
     "name": "stdout",
     "output_type": "stream",
     "text": [
      "您选择的图形是：线图\n"
     ]
    },
    {
     "data": {
      "application/vnd.jupyter.widget-view+json": {
       "model_id": "5242f639d9e5493d9caff90ffd6561d3",
       "version_major": 2,
       "version_minor": 0
      }
     },
     "metadata": {},
     "output_type": "display_data"
    }
   ],
   "source": [
    "# 根据上面单元格选择内容画不同随机图形\n",
    "print(\"您选择的图形是：%s\" % f5[\"图形类型\"])\n",
    "\n",
    "p5 = Plot(\n",
    "    title = \"EasyForm图形输出示例\",\n",
    "    initWidth = 600,\n",
    "    initHeight = 400\n",
    ")\n",
    "\n",
    "xdata = [x for x in range(np.random.randint(5,15))]\n",
    "ydata = [np.random.randint(1,100) for x in xdata]\n",
    "\n",
    "if f5[\"图形类型\"] == \"点图\":\n",
    "    p5.add(Points(\n",
    "        x = xdata,\n",
    "        y = ydata,\n",
    "        size = 20\n",
    "    ))\n",
    "elif f5[\"图形类型\"] == \"线图\": \n",
    "    p5.add(Line(\n",
    "        x = xdata,\n",
    "        y = ydata,\n",
    "        width = 5\n",
    "    ))\n",
    "else: # elif f5[\"图形类型\"] == \"柱状图\": \n",
    "    p5.add(Bars(\n",
    "        x = xdata,\n",
    "        y = ydata,\n",
    "        width = 0.5\n",
    "    ))\n",
    "\n",
    "p5"
   ]
  },
  {
   "cell_type": "markdown",
   "metadata": {},
   "source": [
    "# Output Container"
   ]
  },
  {
   "cell_type": "code",
   "execution_count": 9,
   "metadata": {
    "ExecuteTime": {
     "end_time": "2019-11-08T19:42:14.489269Z",
     "start_time": "2019-11-08T19:42:13.981923Z"
    }
   },
   "outputs": [
    {
     "data": {
      "application/vnd.jupyter.widget-view+json": {
       "model_id": "3be6b05a3f10471c8ea2c63e85ef676f",
       "version_major": 2,
       "version_minor": 0
      },
      "text/plain": [
       "BeakerxHTMLPre(value='None')"
      ]
     },
     "metadata": {},
     "output_type": "display_data"
    },
    {
     "data": {
      "application/vnd.jupyter.widget-view+json": {
       "model_id": "89db28e50d8441029b99508d05469b6c",
       "version_major": 2,
       "version_minor": 0
      },
      "text/plain": [
       "BeakerxHTMLPre(value='简单文字 Simple Text')"
      ]
     },
     "metadata": {},
     "output_type": "display_data"
    },
    {
     "data": {
      "application/vnd.jupyter.widget-view+json": {
       "model_id": "cfdd21d6cba144408cff2fd1de2757c0",
       "version_major": 2,
       "version_minor": 0
      },
      "text/plain": [
       "BeakerxHTMLPre(value='[9 8 1 5 4 3 6 2 9 7]')"
      ]
     },
     "metadata": {},
     "output_type": "display_data"
    },
    {
     "data": {
      "application/vnd.jupyter.widget-view+json": {
       "model_id": "518a99b1690241cc9ee830ab4f9260fa",
       "version_major": 2,
       "version_minor": 0
      },
      "text/plain": [
       "HTML(value=\"<h1 style='color: #ff88aa'>HTML文本</h1>\")"
      ]
     },
     "metadata": {},
     "output_type": "display_data"
    },
    {
     "data": {
      "application/vnd.jupyter.widget-view+json": {
       "model_id": "b73100d4fc77413bb165b55a02f0d35a",
       "version_major": 2,
       "version_minor": 0
      }
     },
     "metadata": {},
     "output_type": "display_data"
    },
    {
     "data": {
      "application/vnd.jupyter.widget-view+json": {
       "model_id": "21ae1f2e6bd9465da976bd0f299e0d26",
       "version_major": 2,
       "version_minor": 0
      }
     },
     "metadata": {},
     "output_type": "display_data"
    }
   ],
   "source": [
    "# 输出容器演示\n",
    "oc1 = OutputContainer()\n",
    "\n",
    "# 加入None空值\n",
    "oc1.addItem(None)\n",
    "\n",
    "# 加入文字\n",
    "oc1.addItem(\"简单文字 Simple Text\")\n",
    "\n",
    "# 加入数组\n",
    "oc1.addItem(np.random.randint(0,10,10))\n",
    "\n",
    "# 加入HTML文本\n",
    "oc1.addItem(HTML(\"<h1 style='color: #ff88aa'>HTML文本</h1>\"))\n",
    "\n",
    "# 加入表格\n",
    "oc1.addItem(TableDisplay(\n",
    "        [{\"序列%s\" % i: np.random.randint(10) for i in range(5)} for j in range(3)]\n",
    "    )\n",
    ")\n",
    "\n",
    "# 加入图形\n",
    "oc1.addItem(Histogram(\n",
    "    data = np.random.randn(100),\n",
    "    initHeight = 300,\n",
    "    binCount = 20\n",
    "))\n",
    "\n",
    "oc1"
   ]
  },
  {
   "cell_type": "code",
   "execution_count": 10,
   "metadata": {
    "ExecuteTime": {
     "end_time": "2019-11-08T19:42:14.533297Z",
     "start_time": "2019-11-08T19:42:14.490704Z"
    }
   },
   "outputs": [
    {
     "data": {
      "application/vnd.jupyter.widget-view+json": {
       "model_id": "1b708cdc0e8d4eb581245f1229a6378f",
       "version_major": 2,
       "version_minor": 0
      },
      "method": "display_data"
     },
     "metadata": {},
     "output_type": "display_data"
    }
   ],
   "source": [
    "xdata = [x for x in range(10)]\n",
    "ydata = [np.random.randint(10) for x in xdata]\n",
    "\n",
    "p1 = Plot(\n",
    "    initWidth = 480,\n",
    "    initHeight = 300\n",
    ").add(\n",
    "    Bars(\n",
    "        x = xdata,\n",
    "        y = ydata,\n",
    "        width = 0.75\n",
    "    )\n",
    ")\n",
    "\n",
    "p2 = Plot(\n",
    "    initWidth = 480,\n",
    "    initHeight = 300\n",
    ").add(\n",
    "    Line(\n",
    "        x = xdata,\n",
    "        y = ydata,\n",
    "        width = 10\n",
    "    )\n",
    ")\n",
    "\n",
    "p3 = Plot(\n",
    "    initWidth = 540,\n",
    "    initHeight = 400\n",
    ").add(\n",
    "    Points(\n",
    "        x = xdata,\n",
    "        y = ydata,\n",
    "        size = 20\n",
    "    )\n",
    ")\n",
    "\n",
    "oc2 = OutputContainer()\n",
    "oc2.addItem(p1, \"柱状图\")\n",
    "oc2.addItem(p2, \"线图\")\n",
    "oc2.addItem(p3, \"点图\")\n",
    "\n",
    "# 采用Tab布局方式\n",
    "tl = TabbedOutputContainerLayoutManager()\n",
    "tl.setBorderDisplayed(True)\n",
    "oc2.setLayoutManager(tl)\n",
    "\n",
    "oc2"
   ]
  },
  {
   "cell_type": "code",
   "execution_count": 11,
   "metadata": {
    "ExecuteTime": {
     "end_time": "2019-11-08T19:42:14.601800Z",
     "start_time": "2019-11-08T19:42:14.534502Z"
    }
   },
   "outputs": [
    {
     "data": {
      "application/vnd.jupyter.widget-view+json": {
       "model_id": "1d69720a9dfd4765a389c54a36d2ad7f",
       "version_major": 2,
       "version_minor": 0
      },
      "text/plain": [
       "GridView(children=(BeakerxHBox(children=(Plot(model={'NUMBER_OF_POINTS_TO_DISPLAY': 'numberOfPointsToDisplay',…"
      ]
     },
     "metadata": {},
     "output_type": "display_data"
    }
   ],
   "source": [
    "# 更改以上内容的布局为网格排布方式\n",
    "gl = GridOutputContainerLayoutManager(2)\n",
    "oc2.setLayoutManager(gl)\n",
    "\n",
    "oc2"
   ]
  },
  {
   "cell_type": "code",
   "execution_count": 12,
   "metadata": {
    "ExecuteTime": {
     "end_time": "2019-11-08T19:42:14.714074Z",
     "start_time": "2019-11-08T19:42:14.603106Z"
    }
   },
   "outputs": [
    {
     "data": {
      "application/vnd.jupyter.widget-view+json": {
       "model_id": "82c2e76affaf42b5bb705b09599b445d",
       "version_major": 2,
       "version_minor": 0
      },
      "method": "display_data"
     },
     "metadata": {},
     "output_type": "display_data"
    }
   ],
   "source": [
    "oc3 = OutputContainer()\n",
    "oc3.addItem(\"这是一条普通的文本信息。\")\n",
    "oc3.addItem(\"这是随机数组 {}。\".format(np.random.rand(5)))\n",
    "oc3.addItem(HTML(\"<em style='color: #bb8866'><b>这是HTML格式文本</b></em>\"))\n",
    "\n",
    "# 采用循环显示（跑马灯）方式\n",
    "cl = CyclingOutputContainerLayoutManager()\n",
    "cl.setPeriod(2500) # milliseconds\n",
    "cl.setBorderDisplayed(False)\n",
    "oc3.setLayoutManager(cl)\n",
    "\n",
    "oc3"
   ]
  }
 ],
 "metadata": {
  "kernelspec": {
   "display_name": "Python 3",
   "language": "python",
   "name": "python3"
  },
  "language_info": {
   "codemirror_mode": {
    "name": "ipython",
    "version": 3
   },
   "file_extension": ".py",
   "mimetype": "text/x-python",
   "name": "python",
   "nbconvert_exporter": "python",
   "pygments_lexer": "ipython3",
   "version": "3.7.4"
  },
  "latex_envs": {
   "LaTeX_envs_menu_present": true,
   "autoclose": false,
   "autocomplete": true,
   "bibliofile": "biblio.bib",
   "cite_by": "apalike",
   "current_citInitial": 1,
   "eqLabelWithNumbers": true,
   "eqNumInitial": 1,
   "hotkeys": {
    "equation": "Ctrl-E",
    "itemize": "Ctrl-I"
   },
   "labels_anchors": false,
   "latex_user_defs": false,
   "report_style_numbering": false,
   "user_envs_cfg": false
  },
  "toc": {
   "base_numbering": 1,
   "nav_menu": {},
   "number_sections": true,
   "sideBar": true,
   "skip_h1_title": false,
   "title_cell": "Table of Contents",
   "title_sidebar": "Contents",
   "toc_cell": false,
   "toc_position": {},
   "toc_section_display": true,
   "toc_window_display": false
  }
 },
 "nbformat": 4,
 "nbformat_minor": 2
}
