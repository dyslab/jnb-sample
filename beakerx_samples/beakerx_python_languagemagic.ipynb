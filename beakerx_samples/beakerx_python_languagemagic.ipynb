{
 "cells": [
  {
   "cell_type": "markdown",
   "metadata": {},
   "source": [
    "# Groovy Magic测试"
   ]
  },
  {
   "cell_type": "code",
   "execution_count": 1,
   "metadata": {
    "ExecuteTime": {
     "end_time": "2019-11-09T07:34:57.264311Z",
     "start_time": "2019-11-09T07:34:53.929091Z"
    }
   },
   "outputs": [
    {
     "name": "stdout",
     "output_type": "stream",
     "text": [
      "Groovy started successfully\n",
      "\n"
     ]
    },
    {
     "data": {
      "text/html": [
       "<h1 style='color:#8080DD'>Groovy HTML示例</h1>"
      ]
     },
     "execution_count": 1,
     "metadata": {},
     "output_type": "execute_result"
    }
   ],
   "source": [
    "%%groovy\n",
    "\n",
    "h = HTML(\"<h1 style='color:#8080DD'>Groovy HTML示例</h1>\")"
   ]
  },
  {
   "cell_type": "code",
   "execution_count": 2,
   "metadata": {
    "ExecuteTime": {
     "end_time": "2019-11-09T07:34:58.424156Z",
     "start_time": "2019-11-09T07:34:57.266909Z"
    }
   },
   "outputs": [
    {
     "data": {
      "application/vnd.jupyter.widget-view+json": {
       "model_id": "d2e180eb-8774-41f9-ab67-76ea7a76d222",
       "version_major": 2,
       "version_minor": 0
      },
      "method": "display_data"
     },
     "metadata": {},
     "output_type": "display_data"
    }
   ],
   "source": [
    "%%groovy\n",
    "\n",
    "def p = new Plot(title : 'Groovy Plot示例', xLabel: 'X轴', yLabel: 'Y轴');\n",
    "p << new Bars(x: [0, 1, 2, 3, 4, 5], y: [3, 4, 3, 2, 5, 6], width: 0.6)\n",
    "p << new Line(x: [0, 1, 2, 3, 4, 5], y: [5, 2, 6, 5, 4, 8], width: 3)"
   ]
  },
  {
   "cell_type": "markdown",
   "metadata": {},
   "source": [
    "# Groovy获取数据，通过autotranslate传递至Python中使用"
   ]
  },
  {
   "cell_type": "code",
   "execution_count": 3,
   "metadata": {
    "ExecuteTime": {
     "end_time": "2019-11-09T07:34:58.438464Z",
     "start_time": "2019-11-09T07:34:58.427151Z"
    }
   },
   "outputs": [],
   "source": [
    "from beakerx import *\n",
    "from beakerx.object import beakerx"
   ]
  },
  {
   "cell_type": "code",
   "execution_count": 4,
   "metadata": {
    "ExecuteTime": {
     "end_time": "2019-11-09T07:34:59.801811Z",
     "start_time": "2019-11-09T07:34:58.442855Z"
    },
    "scrolled": false
   },
   "outputs": [
    {
     "data": {
      "application/vnd.jupyter.widget-view+json": {
       "model_id": "9b59ee41-745c-4bc1-8f9a-bbe04897ecfe",
       "version_major": 2,
       "version_minor": 0
      },
      "method": "display_data"
     },
     "metadata": {},
     "output_type": "display_data"
    }
   ],
   "source": [
    "%%groovy\n",
    "\n",
    "// 通过beakerx.xxx进行不同编程语言间的autotranslate。\n",
    "beakerx.gcsv = new CSV().read(\"sample.csv\")"
   ]
  },
  {
   "cell_type": "code",
   "execution_count": 5,
   "metadata": {
    "ExecuteTime": {
     "end_time": "2019-11-09T07:34:59.849669Z",
     "start_time": "2019-11-09T07:34:59.804630Z"
    }
   },
   "outputs": [
    {
     "name": "stdout",
     "output_type": "stream",
     "text": [
      "[{'型号': 'HM0722-240', '数量': 4, '单价': 17.99}, {'型号': 'HM0722-3436', '数量': 1, '单价': 13.99}, {'型号': 'HM0722-3437', '数量': 1, '单价': 12.99}, {'型号': 'HM0723-3236', '数量': 2, '单价': 17.99}, {'型号': 'HM0724-1040', '数量': 1, '单价': 15.49}, {'型号': 'HM0725-2739', '数量': 3, '单价': 16.99}, {'型号': 'HM0727-140', '数量': 5, '单价': 13.99}, {'型号': 'HM0727-241', '数量': 1, '单价': 12.99}, {'型号': 'HM0729-2736', '数量': 5, '单价': 22.99}, {'型号': 'HM0701-2542', '数量': 1, '单价': 17.99}, {'型号': 'HM0701-839', '数量': 1, '单价': 18.99}, {'型号': 'HM0701-841', '数量': 7, '单价': 19.99}, {'型号': 'HM0706-2741', '数量': 2, '单价': 20.99}, {'型号': 'HM0722-136', '数量': 1, '单价': 21.99}, {'型号': 'HM0722-137', '数量': 1, '单价': 17.99}, {'型号': 'HM0722-138', '数量': 2, '单价': 15.49}, {'型号': 'HM0722-139', '数量': 6, '单价': 16.99}, {'型号': 'HM0722-237', '数量': 3, '单价': 13.99}]\n"
     ]
    },
    {
     "data": {
      "application/vnd.jupyter.widget-view+json": {
       "model_id": "9c4f6cac73b64b18a3a99010250428b4",
       "version_major": 2,
       "version_minor": 0
      }
     },
     "metadata": {},
     "output_type": "display_data"
    }
   ],
   "source": [
    "print(beakerx.gcsv)\n",
    "\n",
    "Histogram(\n",
    "    data = [it['单价'] for it in beakerx.gcsv],\n",
    "    ItemMargin = 1,\n",
    "    binCount = 10\n",
    ")"
   ]
  },
  {
   "cell_type": "code",
   "execution_count": 6,
   "metadata": {
    "ExecuteTime": {
     "end_time": "2019-11-09T07:35:00.975891Z",
     "start_time": "2019-11-09T07:34:59.852997Z"
    }
   },
   "outputs": [
    {
     "data": {
      "application/vnd.jupyter.widget-view+json": {
       "model_id": "393b61fa-d073-443b-b166-18a6a403c75d",
       "version_major": 2,
       "version_minor": 0
      },
      "method": "display_data"
     },
     "metadata": {},
     "output_type": "display_data"
    }
   ],
   "source": [
    "%%groovy\n",
    "\n",
    "gdata = [\n",
    "    [ 栏目1: 1, 栏目2: 2],\n",
    "    [ 栏目1: 3, 栏目2: 4],\n",
    "    [ 栏目1: 5, 栏目2: 6],\n",
    "]\n",
    "gdata << [ 栏目1: 7, 栏目2: 8 ]\n",
    "\n",
    "beakerx.gdata = gdata"
   ]
  },
  {
   "cell_type": "code",
   "execution_count": 7,
   "metadata": {
    "ExecuteTime": {
     "end_time": "2019-11-09T07:35:01.009950Z",
     "start_time": "2019-11-09T07:35:00.978408Z"
    }
   },
   "outputs": [
    {
     "data": {
      "application/vnd.jupyter.widget-view+json": {
       "model_id": "e553e70740744b7d9a809ac82b377e51",
       "version_major": 2,
       "version_minor": 0
      }
     },
     "metadata": {},
     "output_type": "display_data"
    }
   ],
   "source": [
    "pdata = beakerx.gdata\n",
    "\n",
    "for it in pdata:\n",
    "    it['栏目3'] = np.random.randint(1,10) \n",
    "\n",
    "TableDisplay(pdata)"
   ]
  }
 ],
 "metadata": {
  "kernelspec": {
   "display_name": "Python 3",
   "language": "python",
   "name": "python3"
  },
  "language_info": {
   "codemirror_mode": {
    "name": "ipython",
    "version": 3
   },
   "file_extension": ".py",
   "mimetype": "text/x-python",
   "name": "python",
   "nbconvert_exporter": "python",
   "pygments_lexer": "ipython3",
   "version": "3.7.4"
  },
  "toc": {
   "base_numbering": 1,
   "nav_menu": {},
   "number_sections": false,
   "sideBar": false,
   "skip_h1_title": false,
   "title_cell": "Table of Contents",
   "title_sidebar": "Contents",
   "toc_cell": false,
   "toc_position": {},
   "toc_section_display": false,
   "toc_window_display": false
  }
 },
 "nbformat": 4,
 "nbformat_minor": 2
}
