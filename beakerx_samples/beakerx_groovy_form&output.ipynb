{
 "cells": [
  {
   "cell_type": "markdown",
   "metadata": {},
   "source": [
    "# Easy Form"
   ]
  },
  {
   "cell_type": "code",
   "execution_count": 1,
   "metadata": {
    "ExecuteTime": {
     "end_time": "2019-11-09T16:03:55.181000Z",
     "start_time": "2019-11-09T16:03:55.181+0000"
    }
   },
   "outputs": [
    {
     "data": {
      "application/vnd.jupyter.widget-view+json": {
       "model_id": "7f8d59e8-71e3-43c6-b43a-aff8094bd5fc",
       "version_major": 2,
       "version_minor": 0
      },
      "method": "display_data"
     },
     "metadata": {},
     "output_type": "display_data"
    }
   ],
   "source": [
    "f1 = new EasyForm(\"Easy Form 示例 #1\")\n",
    "\n",
    "f1.addTextField(\"数值1\")\n",
    "f1['数值1'] = \"10\"\n",
    "\n",
    "f1.addTextField(\"数值2\")\n",
    "f1['数值2'] = \"20\"\n",
    "\n",
    "butt = f1.addButton(\"相加\")\n",
    "butt.actionPerformed = {\n",
    "    try {\n",
    "        sum = Integer.parseInt(f1['数值1']) + Integer.parseInt(f1['数值2'])\n",
    "        display(sum)\n",
    "    }\n",
    "    catch(e) {\n",
    "        display(f1['数值1'] + f1['数值2'])\n",
    "    }\n",
    "}\n",
    "\n",
    "f1"
   ]
  },
  {
   "cell_type": "code",
   "execution_count": 2,
   "metadata": {
    "ExecuteTime": {
     "end_time": "2019-11-09T16:03:55.658000Z",
     "start_time": "2019-11-09T16:03:55.658+0000"
    }
   },
   "outputs": [
    {
     "data": {
      "application/vnd.jupyter.widget-view+json": {
       "model_id": "6b6be2cd-23ff-4476-9af8-f36fb6c92fad",
       "version_major": 2,
       "version_minor": 0
      },
      "method": "display_data"
     },
     "metadata": {},
     "output_type": "display_data"
    }
   ],
   "source": [
    "f2 = new EasyForm(\"Easy Form 示例 #2 （表格域及初始值设置）\")\n",
    "\n",
    "f2.addTextField(\"限定宽度单行文本框\", 10).onInit({\n",
    "    f2[\"限定宽度单行文本框\"] = \"测试123\"\n",
    "})\n",
    "\n",
    "f2.addPasswordField(\"密码\", 10)\n",
    "\n",
    "f2.addTextArea(\"文本区域框\", value=\"默认文本\")\n",
    "\n",
    "f2.addTextArea(\"限定宽高文本区域框\", value=\"多行测试文本\\nMulti-Lines Text Sample\", 20, 3)\n",
    "\n",
    "f2.addCheckBox(\"单个Checkbox\", value=true)\n",
    "\n",
    "options = [\"苹果\", \"雪梨\", \"葡萄\", \"西瓜\"]\n",
    "\n",
    "f2.addComboBox(\"复合选择框\", options).onInit({\n",
    "    f2[\"复合选择框\"] = options[2]\n",
    "})\n",
    "\n",
    "f2.addComboBox(\"可编辑复合选择框\", options, true)\n",
    "\n",
    "f2.addList(\"单选列表框\", options, false).onInit({\n",
    "    f2[\"单选列表框\"] = options[3]\n",
    "})\n",
    "\n",
    "f2.addList(\"多选列表框\", options, 5).onInit({\n",
    "    f2[\"多选列表框\"] = [options[1], options[3]]\n",
    "})\n",
    "\n",
    "f2.addCheckBoxes(\"Checkbox组\", options, EasyForm.HORIZONTAL)\n",
    "f2[\"Checkbox组\"] = [options[0], options[2]]\n",
    "\n",
    "f2.addRadioButtons(\"RadioButtons组\", options, EasyForm.VERTICAL)\n",
    "f2[\"RadioButtons组\"] = options[3]\n",
    "\n",
    "f2.addDatePicker(\"日期选择框\").setDate(\"20191109\")\n",
    "\n",
    "f2.addButton(\"按钮\", \"按钮点击提示标记\")\n",
    "\n",
    "f2"
   ]
  },
  {
   "cell_type": "code",
   "execution_count": 3,
   "metadata": {
    "ExecuteTime": {
     "end_time": "2019-11-09T16:03:55.756000Z",
     "start_time": "2019-11-09T16:03:55.756+0000"
    }
   },
   "outputs": [
    {
     "data": {
      "application/vnd.jupyter.widget-view+json": {
       "model_id": "7e3b50ea-96f4-4f5f-80d5-f574a89cf28b",
       "version_major": 2,
       "version_minor": 0
      },
      "method": "display_data"
     },
     "metadata": {},
     "output_type": "display_data"
    }
   ],
   "source": [
    "// 遍历上面的form获取数据域和值\n",
    "result = [:]\n",
    "\n",
    "f2.keySet().each {\n",
    "    result[it] = f2[it]\n",
    "}\n",
    "\n",
    "result"
   ]
  },
  {
   "cell_type": "code",
   "execution_count": 4,
   "metadata": {
    "ExecuteTime": {
     "end_time": "2019-11-09T16:03:55.927000Z",
     "start_time": "2019-11-09T16:03:55.927+0000"
    }
   },
   "outputs": [
    {
     "data": {
      "text/html": [
       "<em>注：Jupyter Widgets小部件库说明见：<a href=\"https://ipywidgets.readthedocs.io/en/stable/\">Jupyter Widgets官方文档</a></em>"
      ]
     },
     "metadata": {},
     "output_type": "display_data"
    },
    {
     "data": {
      "application/vnd.jupyter.widget-view+json": {
       "model_id": "489badee-ebf6-4438-b7f2-d35dd476f14f",
       "version_major": 2,
       "version_minor": 0
      },
      "method": "display_data"
     },
     "metadata": {},
     "output_type": "display_data"
    }
   ],
   "source": [
    "display(HTML('<em>注：Jupyter Widgets小部件库说明见：<a href=\"https://ipywidgets.readthedocs.io/en/stable/\">Jupyter Widgets官方文档</a></em>'))\n",
    "// 引入Jupyter Widgets小部件库\n",
    "import com.twosigma.beakerx.widget.*\n",
    "\n",
    "widgetForm = new EasyForm(\"Jupyter Widgets 小部件测试\")\n",
    "\n",
    "// 整数滑动条小部件\n",
    "w1 = new IntSlider()\n",
    "w1.value = 20\n",
    "w1.max = 30\n",
    "w1.min = 10\n",
    "widgetForm.addWidget(\"整数滑动条小部件\",w1)\n",
    "\n",
    "// 浮点数区域滑动条小部件\n",
    "w2 = new FloatRangeSlider()\n",
    "w2.value = [15.5,25.5]\n",
    "w2.max = 30\n",
    "w2.min = 10\n",
    "w2.step = 0.5\n",
    "widgetForm.addWidget(\"浮点数区域滑动条小部件\",w2)\n",
    "\n",
    "// 整数进度条小部件\n",
    "w3 = new IntProgress()\n",
    "w3.value = 60\n",
    "w3.max = 100\n",
    "w3.min = 0\n",
    "w3.description='Loading...'\n",
    "widgetForm.addWidget(\"整数进度条小部件\",w3)\n",
    "\n",
    "widgetForm"
   ]
  },
  {
   "cell_type": "markdown",
   "metadata": {},
   "source": [
    "# Output Widget"
   ]
  },
  {
   "cell_type": "code",
   "execution_count": 5,
   "metadata": {
    "ExecuteTime": {
     "end_time": "2019-11-09T16:03:56.004000Z",
     "start_time": "2019-11-09T16:03:56.004+0000"
    }
   },
   "outputs": [
    {
     "data": {
      "application/vnd.jupyter.widget-view+json": {
       "model_id": "205a1fe3-5f51-4889-997e-eaa406373ea7",
       "version_major": 2,
       "version_minor": 0
      },
      "method": "display_data"
     },
     "metadata": {},
     "output_type": "display_data"
    }
   ],
   "source": [
    "import com.twosigma.beakerx.widget.Output\n",
    "\n",
    "// 生成本单元格输出对象\n",
    "out = new Output()"
   ]
  },
  {
   "cell_type": "code",
   "execution_count": 6,
   "metadata": {
    "ExecuteTime": {
     "end_time": "2019-11-09T16:03:56.087000Z",
     "start_time": "2019-11-09T16:03:56.087+0000"
    }
   },
   "outputs": [],
   "source": [
    "// 在以上单元格输出区域动态输出进度条\n",
    "import com.twosigma.beakerx.widget.IntProgress\n",
    "\n",
    "// 整数进度条小部件\n",
    "w = new IntProgress()\n",
    "w.value = 0\n",
    "w.max = 100\n",
    "w.min = 0\n",
    "w.description='Loading...'\n",
    "\n",
    "t = new Thread({\n",
    "    out.clearOutput()\n",
    "    out.display(HTML(\"后台线程启动中...\"))\n",
    "    Thread.sleep(1000)\n",
    "    for (i = 0; i < 5 ; i++) {\n",
    "        Thread.sleep(1000)\n",
    "        w.value += 20\n",
    "        out.clearOutput()\n",
    "        out.display(w)\n",
    "    }\n",
    "});\n",
    "\n",
    "t.start()\n",
    "\n",
    "OutputCell.HIDDEN"
   ]
  },
  {
   "cell_type": "code",
   "execution_count": 7,
   "metadata": {
    "ExecuteTime": {
     "end_time": "2019-11-09T16:03:56.189000Z",
     "start_time": "2019-11-09T16:03:56.189+0000"
    }
   },
   "outputs": [],
   "source": [
    "// 设置上面的out对象单元格为标准输出区域\n",
    "OutputManager.setOutput(out)\n",
    "\n",
    "OutputCell.HIDDEN"
   ]
  },
  {
   "cell_type": "code",
   "execution_count": 8,
   "metadata": {
    "ExecuteTime": {
     "end_time": "2019-11-09T16:03:56.253000Z",
     "start_time": "2019-11-09T16:03:56.253+0000"
    }
   },
   "outputs": [
    {
     "data": {
      "text/plain": [
       "null"
      ]
     },
     "execution_count": 8,
     "metadata": {},
     "output_type": "execute_result"
    }
   ],
   "source": [
    "// 运行上下单元格后，比较本单元格的println输出区域\n",
    "println \"测试文本：hello world.\""
   ]
  },
  {
   "cell_type": "code",
   "execution_count": 9,
   "metadata": {
    "ExecuteTime": {
     "end_time": "2019-11-09T16:03:56.288000Z",
     "start_time": "2019-11-09T16:03:56.288+0000"
    }
   },
   "outputs": [],
   "source": [
    "// 取消out对象单元格为标准输出区域\n",
    "OutputManager.clear()\n",
    "OutputManager.setOutput(null)\n",
    "\n",
    "OutputCell.HIDDEN"
   ]
  }
 ],
 "metadata": {
  "kernelspec": {
   "display_name": "Groovy",
   "language": "groovy",
   "name": "groovy"
  },
  "language_info": {
   "codemirror_mode": "groovy",
   "file_extension": ".groovy",
   "mimetype": "",
   "name": "Groovy",
   "nbconverter_exporter": "",
   "version": "2.5.6"
  },
  "toc": {
   "base_numbering": 1,
   "nav_menu": {},
   "number_sections": false,
   "sideBar": false,
   "skip_h1_title": false,
   "title_cell": "Table of Contents",
   "title_sidebar": "Contents",
   "toc_cell": false,
   "toc_position": {},
   "toc_section_display": false,
   "toc_window_display": false
  }
 },
 "nbformat": 4,
 "nbformat_minor": 2
}
