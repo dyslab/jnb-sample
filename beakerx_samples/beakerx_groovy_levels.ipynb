{
 "cells": [
  {
   "cell_type": "markdown",
   "metadata": {},
   "source": [
    "# Plot Levels\n",
    "\n",
    "这个演示通过设定Plot的lodThreshold属性值（根据放大/缩小的比例）显示不同细节度的图形，有利于减少绘图时的系统CPU和内存资源占用量，优化显示速度。"
   ]
  },
  {
   "cell_type": "code",
   "execution_count": 1,
   "metadata": {},
   "outputs": [
    {
     "data": {
      "application/vnd.jupyter.widget-view+json": {
       "model_id": "6d474c45-5f26-49e4-96e2-9d99c68595cf",
       "version_major": 2,
       "version_minor": 0
      },
      "method": "display_data"
     },
     "metadata": {},
     "output_type": "display_data"
    }
   ],
   "source": [
    "// 生成随机高斯曲线\n",
    "steps = 10000\n",
    "random = new Random()\n",
    "\n",
    "// 生成(x,y)随机高斯数值列表\n",
    "def walk(ssize) {\n",
    "  def cur = 0.0\n",
    "  def x = []\n",
    "  def y = []\n",
    "  for (i in 0..steps) {\n",
    "    x[i] = i\n",
    "    y[i] = cur\n",
    "    cur += random.nextGaussian() * ssize\n",
    "  }\n",
    "  return [x:x, y:y]\n",
    "}\n",
    "\n",
    "// now x is time for the x-axis, and y is the random variable\n",
    "beer = walk(10)\n",
    "whiskey = walk(30)\n",
    "\n",
    "// OutputCell.HIDDEN"
   ]
  },
  {
   "cell_type": "code",
   "execution_count": 2,
   "metadata": {
    "ExecuteTime": {
     "end_time": "2019-10-31T22:07:58.140000Z",
     "start_time": "2019-10-31T22:07:58.140+0000"
    },
    "scrolled": false
   },
   "outputs": [
    {
     "data": {
      "application/vnd.jupyter.widget-view+json": {
       "model_id": "30fec418-4ef0-4426-ab58-9eaa6187726c",
       "version_major": 2,
       "version_minor": 0
      },
      "method": "display_data"
     },
     "metadata": {},
     "output_type": "display_data"
    }
   ],
   "source": [
    "def ch = new Crosshair(color: new Color(192, 192, 255), width: 1, style: StrokeType.DOT)\n",
    "\n",
    "p = new TimePlot(\n",
    "    title: \"Drunken Sailor Walks\",\n",
    "    crosshair: ch,\n",
    "    showLegend: true,\n",
    "    lodThreshold: 2000\n",
    ")\n",
    "\n",
    "p << new Line(x:beer.x, y:beer.y, displayName:\"Beer Walk\")\n",
    "p << new Line(x:whiskey.x, y:whiskey.y, displayName:\"Whiskey Walk\")"
   ]
  },
  {
   "cell_type": "markdown",
   "metadata": {},
   "source": [
    "*注：更多详情请参阅示例源文档：[Levels Of Detail](https://nbviewer.jupyter.org/github/twosigma/beakerx/blob/master/doc/groovy/LevelsOfDetails.ipynb)。*"
   ]
  }
 ],
 "metadata": {
  "kernelspec": {
   "display_name": "Groovy",
   "language": "groovy",
   "name": "groovy"
  },
  "language_info": {
   "codemirror_mode": "groovy",
   "file_extension": ".groovy",
   "mimetype": "",
   "name": "Groovy",
   "nbconverter_exporter": "",
   "version": "2.5.6"
  },
  "latex_envs": {
   "LaTeX_envs_menu_present": true,
   "autoclose": false,
   "autocomplete": true,
   "bibliofile": "biblio.bib",
   "cite_by": "apalike",
   "current_citInitial": 1,
   "eqLabelWithNumbers": true,
   "eqNumInitial": 1,
   "hotkeys": {
    "equation": "Ctrl-E",
    "itemize": "Ctrl-I"
   },
   "labels_anchors": false,
   "latex_user_defs": false,
   "report_style_numbering": false,
   "user_envs_cfg": false
  },
  "toc": {
   "base_numbering": 1,
   "nav_menu": {},
   "number_sections": true,
   "sideBar": true,
   "skip_h1_title": false,
   "title_cell": "Table of Contents",
   "title_sidebar": "Contents",
   "toc_cell": false,
   "toc_position": {},
   "toc_section_display": true,
   "toc_window_display": false
  }
 },
 "nbformat": 4,
 "nbformat_minor": 2
}
