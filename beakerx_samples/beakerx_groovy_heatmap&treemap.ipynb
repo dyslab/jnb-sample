{
 "cells": [
  {
   "cell_type": "markdown",
   "metadata": {},
   "source": [
    "# Heat map\n",
    "\n",
    "热力图演示数据集（以颜色表示从最小值到最大值的变化幅度）的数值情况。"
   ]
  },
  {
   "cell_type": "code",
   "execution_count": 5,
   "metadata": {
    "ExecuteTime": {
     "end_time": "2019-11-04T08:50:41.474000Z",
     "start_time": "2019-11-04T08:50:41.474+0000"
    }
   },
   "outputs": [
    {
     "name": "stdout",
     "output_type": "stream",
     "text": [
      "数据集：[[44, 8, 1, 16, 14, 38], [60, 10, 25, 17, 15, 85], [9, 41, 98, 44, 77, 58], [69, 8, 60, 50, 58, 34], [77, 93, 99, 3, 90, 22], [25, 29, 65, 56, 24, 67]]\n"
     ]
    },
    {
     "data": {
      "application/vnd.jupyter.widget-view+json": {
       "model_id": "44cee5da-69af-4099-8878-0cd2db2d8f6c",
       "version_major": 2,
       "version_minor": 0
      },
      "method": "display_data"
     },
     "metadata": {},
     "output_type": "display_data"
    }
   ],
   "source": [
    "// 随机二维数组生成函数\n",
    "def d2List(int x, int y) {\n",
    "    Random rand = new Random()\n",
    "    re = []\n",
    "    (0..y-1).each {\n",
    "        a = []\n",
    "        (0..x-1).each {\n",
    "           a.push(rand.nextInt(100))\n",
    "        }\n",
    "        re.push(a)\n",
    "    }\n",
    "    return re\n",
    "}\n",
    "\n",
    "d = d2List(6, 6)\n",
    "println \"数据集：\" + d\n",
    "\n",
    "colors= [new Color(228, 255, 228), Color.blue]\n",
    "new HeatMap(\n",
    "    title: \"Heatmap 热力图演示\",\n",
    "    xLabel: \"X坐标\",\n",
    "    yLabel: \"Y坐标\",\n",
    "    data: d,\n",
    "    color: new GradientColor(colors), // GradientColor.WHITE_BLUE, GradientColor.GREEN_YELLOW_WHITE,\n",
    "    showLegend: true,\n",
    "    legendPosition: LegendPosition.BOTTOM\n",
    ")"
   ]
  },
  {
   "cell_type": "code",
   "execution_count": 2,
   "metadata": {
    "ExecuteTime": {
     "end_time": "2019-11-03T14:56:15.548000Z",
     "start_time": "2019-11-03T14:56:15.548+0000"
    },
    "scrolled": false
   },
   "outputs": [
    {
     "data": {
      "application/vnd.jupyter.widget-view+json": {
       "model_id": "1feb8783-ceeb-488a-966c-fd934356d2dd",
       "version_major": 2,
       "version_minor": 0
      },
      "method": "display_data"
     },
     "metadata": {},
     "output_type": "display_data"
    }
   ],
   "source": [
    "node = new TreeMapNode(\"0\");\n",
    "\n",
    "def node00 = new TreeMapNode(\"00\", 20, new DefaultValue(20));\n",
    "\n",
    "def node01 = new TreeMapNode(\"01\");\n",
    "node01.add(new TreeMapNode(\"011\", 15, new DefaultValue(15)))\n",
    "node01.add(new TreeMapNode(\"012\", 20, new DefaultValue(20)))\n",
    "node01.add(new TreeMapNode(\"013\", 30, new DefaultValue(30)))\n",
    "\n",
    "def node02 = new TreeMapNode(\"02\");\n",
    "node02.add(new TreeMapNode(\"020\", 20, new DefaultValue(20)))\n",
    "node02.add(new TreeMapNode(\"021\", 10, new DefaultValue(10)))\n",
    "node02.add(new TreeMapNode(\"022\", 25, new DefaultValue(25)))\n",
    "node02.add(new TreeMapNode(\"023\", 40, new DefaultValue(40)))\n",
    "\n",
    "def node03 = new TreeMapNode(\"03\");\n",
    "node03.add(new TreeMapNode(\"030\", 10, new DefaultValue(10)))\n",
    "node03.add(new TreeMapNode(\"031\", 20, new DefaultValue(20)))\n",
    "node03.add(new TreeMapNode(\"032\", 50, new DefaultValue(50)))\n",
    "\n",
    "def node04 = new TreeMapNode(\"04\", 60, new DefaultValue(60))\n",
    "\n",
    "node.add(node01)\n",
    "node.add(node02)\n",
    "node.add(node03)\n",
    "node.add(node04)\n",
    "\n",
    "new TreeMap(\n",
    "    root: node,\n",
    "    mode: Mode.SQUARIFY,  // Mode.SLICE_DIC, Mode.SLICE, Mode.DICE\n",
    "    sticky: true,\n",
    "    round: true,\n",
    "    ratio: 0.5,\n",
    "    title: \"Treemap 树状图演示\"\n",
    ")"
   ]
  }
 ],
 "metadata": {
  "kernelspec": {
   "display_name": "Groovy",
   "language": "groovy",
   "name": "groovy"
  },
  "language_info": {
   "codemirror_mode": "groovy",
   "file_extension": ".groovy",
   "mimetype": "",
   "name": "Groovy",
   "nbconverter_exporter": "",
   "version": "2.5.6"
  },
  "latex_envs": {
   "LaTeX_envs_menu_present": true,
   "autoclose": false,
   "autocomplete": true,
   "bibliofile": "biblio.bib",
   "cite_by": "apalike",
   "current_citInitial": 1,
   "eqLabelWithNumbers": true,
   "eqNumInitial": 1,
   "hotkeys": {
    "equation": "Ctrl-E",
    "itemize": "Ctrl-I"
   },
   "labels_anchors": false,
   "latex_user_defs": false,
   "report_style_numbering": false,
   "user_envs_cfg": false
  },
  "toc": {
   "base_numbering": 1,
   "nav_menu": {},
   "number_sections": true,
   "sideBar": true,
   "skip_h1_title": false,
   "title_cell": "Table of Contents",
   "title_sidebar": "Contents",
   "toc_cell": false,
   "toc_position": {},
   "toc_section_display": true,
   "toc_window_display": false
  }
 },
 "nbformat": 4,
 "nbformat_minor": 2
}
