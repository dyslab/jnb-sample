{
 "cells": [
  {
   "cell_type": "markdown",
   "metadata": {},
   "source": [
    "# Groovy MIME Output"
   ]
  },
  {
   "cell_type": "code",
   "execution_count": 1,
   "metadata": {
    "ExecuteTime": {
     "end_time": "2019-11-09T08:10:47.642000Z",
     "start_time": "2019-11-09T08:10:47.642+0000"
    }
   },
   "outputs": [
    {
     "data": {
      "text/latex": [
       "$\\alpha^2 + \\eta\\div3\\pi$"
      ]
     },
     "execution_count": 1,
     "metadata": {},
     "output_type": "execute_result"
    }
   ],
   "source": [
    "// LaTeX输出\n",
    "\n",
    "Latex('$\\\\alpha^2 + \\\\eta\\\\div3\\\\pi$')\n",
    "// as same as\n",
    "// new MIMEContainer('text/latex', '$\\\\alpha^3 + \\\\eta\\\\times2\\\\pi$')"
   ]
  },
  {
   "cell_type": "code",
   "execution_count": 2,
   "metadata": {
    "ExecuteTime": {
     "end_time": "2019-11-09T08:10:47.684000Z",
     "start_time": "2019-11-09T08:10:47.684+0000"
    }
   },
   "outputs": [
    {
     "data": {
      "text/latex": [
       "$$F(k) = \\int_{-\\infty}^{\\infty} f(x) e^{2\\pi i k} dx$$"
      ]
     },
     "execution_count": 2,
     "metadata": {},
     "output_type": "execute_result"
    }
   ],
   "source": [
    "// Math输出\n",
    "\n",
    "Math('F(k) = \\\\int_{-\\\\infty}^{\\\\infty} f(x) e^{2\\\\pi i k} dx')"
   ]
  },
  {
   "cell_type": "code",
   "execution_count": 3,
   "metadata": {
    "ExecuteTime": {
     "end_time": "2019-11-09T08:10:47.722000Z",
     "start_time": "2019-11-09T08:10:47.722+0000"
    }
   },
   "outputs": [
    {
     "data": {
      "text/html": [
       "<h1 style=\"color: darkcyan;\">Groovy MIME 示例</h1>"
      ]
     },
     "execution_count": 3,
     "metadata": {},
     "output_type": "execute_result"
    }
   ],
   "source": [
    "// HTML输出\n",
    "\n",
    "HTML('<h1 style=\"color: darkcyan;\">Groovy MIME 示例</h1>')\n",
    "// as same as\n",
    "// new MIMEContainer('text/html', '<h1 style=\"color: darkcyan;\">Groovy MIME 示例</h1>')\n",
    "// or\n",
    "// new MIMEContainer(MIMEContainer.MIME.TEXT_HTML, '<h1 style=\"color: darkcyan;\">Groovy MIME 示例</h1>')"
   ]
  },
  {
   "cell_type": "code",
   "execution_count": 4,
   "metadata": {
    "ExecuteTime": {
     "end_time": "2019-11-09T08:10:47.775000Z",
     "start_time": "2019-11-09T08:10:47.775+0000"
    }
   },
   "outputs": [
    {
     "data": {
      "text/markdown": [
       "这是 **Markdown** 文本输出示例，*点击显示图片[test2.jpg](test2.jpg)*。"
      ]
     },
     "execution_count": 4,
     "metadata": {},
     "output_type": "execute_result"
    }
   ],
   "source": [
    "// Markdown标记文本输出\n",
    "\n",
    "Markdown(\"这是 **Markdown** 文本输出示例，*点击显示图片[test2.jpg](test2.jpg)*。\")"
   ]
  },
  {
   "cell_type": "code",
   "execution_count": 5,
   "metadata": {
    "ExecuteTime": {
     "end_time": "2019-11-09T08:10:47.838000Z",
     "start_time": "2019-11-09T08:10:47.838+0000"
    }
   },
   "outputs": [
    {
     "data": {
      "image/png": "[encoded data removed]"
     },
     "execution_count": 5,
     "metadata": {},
     "output_type": "execute_result"
    }
   ],
   "source": [
    "Image(\"sample.png\")"
   ]
  },
  {
   "cell_type": "code",
   "execution_count": 6,
   "metadata": {
    "ExecuteTime": {
     "end_time": "2019-11-09T08:10:47.920000Z",
     "start_time": "2019-11-09T08:10:47.920+0000"
    }
   },
   "outputs": [
    {
     "data": {
      "text/html": [
       "<a href='./test2.jpg' target='_blank'>./test2.jpg</a><br/><a href='./beakerx_python_languagemagic.ipynb' target='_blank'>./beakerx_python_languagemagic.ipynb</a><br/><a href='./beakerx_python_treemap&histograms.ipynb' target='_blank'>./beakerx_python_treemap&histograms.ipynb</a><br/><a href='./beakerx_groovy_mime.ipynb' target='_blank'>./beakerx_groovy_mime.ipynb</a><br/><a href='./beakerx_groovy_autotranslate.ipynb' target='_blank'>./beakerx_groovy_autotranslate.ipynb</a><br/>.ipynb_checkpoints <br/><a href='./beakerx_groovy_categoryplot.ipynb' target='_blank'>./beakerx_groovy_categoryplot.ipynb</a><br/><a href='./sample.csv' target='_blank'>./sample.csv</a><br/><a href='./test1.jpg' target='_blank'>./test1.jpg</a><br/><a href='./test3.jpg' target='_blank'>./test3.jpg</a><br/><a href='./beakerx_python_heatmap&categoryplot.ipynb' target='_blank'>./beakerx_python_heatmap&categoryplot.ipynb</a><br/><a href='./beakerx_groovy_plotaction.ipynb' target='_blank'>./beakerx_groovy_plotaction.ipynb</a><br/><a href='./beakerx_groovy_levels.ipynb' target='_blank'>./beakerx_groovy_levels.ipynb</a><br/><a href='./beakerx_groovy_histogram.ipynb' target='_blank'>./beakerx_groovy_histogram.ipynb</a><br/><a href='./beakerx_groovy_heatmap&treemap.ipynb' target='_blank'>./beakerx_groovy_heatmap&treemap.ipynb</a><br/><a href='./beakerx_groovy_table&plot.ipynb' target='_blank'>./beakerx_groovy_table&plot.ipynb</a><br/><a href='./sample.png' target='_blank'>./sample.png</a><br/><a href='./beakerx_python_table.ipynb' target='_blank'>./beakerx_python_table.ipynb</a><br/><a href='./beakerx_groovy_plotapi.ipynb' target='_blank'>./beakerx_groovy_plotapi.ipynb</a><br/><a href='./beakerx_python_plotaction.ipynb' target='_blank'>./beakerx_python_plotaction.ipynb</a><br/><a href='./beakerx_python_form&container.ipynb' target='_blank'>./beakerx_python_form&container.ipynb</a><br/><a href='./beakerx_python_plot.ipynb' target='_blank'>./beakerx_python_plot.ipynb</a><br/>"
      ]
     },
     "execution_count": 6,
     "metadata": {},
     "output_type": "execute_result"
    }
   ],
   "source": [
    "// 文件目录链接显示\n",
    "\n",
    "FileLinks(\"./\")\n",
    "// FileLink(\"test1.jpg\")"
   ]
  },
  {
   "cell_type": "code",
   "execution_count": 7,
   "metadata": {
    "ExecuteTime": {
     "end_time": "2019-11-09T08:10:47.961000Z",
     "start_time": "2019-11-09T08:10:47.961+0000"
    },
    "scrolled": false
   },
   "outputs": [
    {
     "data": {
      "text/html": [
       "<iframe width = '100%' height= '400' src = 'http://beakerx.com/' frameborder='0' allowfullscreen> </iframe>"
      ]
     },
     "execution_count": 7,
     "metadata": {},
     "output_type": "execute_result"
    }
   ],
   "source": [
    "IFrame('http://beakerx.com/', '100%', 400)"
   ]
  }
 ],
 "metadata": {
  "kernelspec": {
   "display_name": "Groovy",
   "language": "groovy",
   "name": "groovy"
  },
  "language_info": {
   "codemirror_mode": "groovy",
   "file_extension": ".groovy",
   "mimetype": "",
   "name": "Groovy",
   "nbconverter_exporter": "",
   "version": "2.5.6"
  },
  "toc": {
   "base_numbering": 1,
   "nav_menu": {},
   "number_sections": false,
   "sideBar": false,
   "skip_h1_title": false,
   "title_cell": "Table of Contents",
   "title_sidebar": "Contents",
   "toc_cell": false,
   "toc_position": {},
   "toc_section_display": false,
   "toc_window_display": false
  }
 },
 "nbformat": 4,
 "nbformat_minor": 2
}
