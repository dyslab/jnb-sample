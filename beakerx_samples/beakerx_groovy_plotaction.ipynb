{
 "cells": [
  {
   "cell_type": "markdown",
   "metadata": {},
   "source": [
    "# Plot Action"
   ]
  },
  {
   "cell_type": "code",
   "execution_count": 1,
   "metadata": {
    "ExecuteTime": {
     "end_time": "2019-11-04T09:43:15.139000Z",
     "start_time": "2019-11-04T09:43:15.139+0000"
    },
    "scrolled": false
   },
   "outputs": [
    {
     "data": {
      "application/vnd.jupyter.widget-view+json": {
       "model_id": "079fa65e-ff1f-410e-ad42-5064b6543e09",
       "version_major": 2,
       "version_minor": 0
      },
      "method": "display_data"
     },
     "metadata": {},
     "output_type": "display_data"
    }
   ],
   "source": [
    "pa1 = new Plot(\n",
    "    title: \"Plot Action Sample 图形动作演示 #1（点击线段 👈）\",\n",
    "    showLegend: true,\n",
    "    omitCheckboxes: true,\n",
    "    useToolTip: false,\n",
    "    xUpperMargin: 0.1,\n",
    "    xLowerMargin: 0.1,\n",
    "    yUpperMargin: 0.1,\n",
    "    yLowerMargin: 0.1\n",
    ")\n",
    "\n",
    "def random = new Random()\n",
    "\n",
    "pa1 << new Line(x: [2, 4], y: [3, 3], width: 10, displayName: \"线段1\").onClick({\n",
    "    info -> \n",
    "        x1 = random.nextInt(10) \n",
    "        y1 = random.nextInt(10)\n",
    "        info.graphics.x += [x1]\n",
    "        info.graphics.y += [y1] \n",
    "        info.graphics.displayName = \"线段1增加一个点：[\" + x1 + \", \" + y1 + \"]\"\n",
    "})\n",
    "\n",
    "\n",
    "pa1 << new Line(x: [1, 4, 7], y: [7, 7, 7,], width: 10, displayName: \"线段2\").onClick({\n",
    "    info -> \n",
    "        x1 = random.nextInt(10)\n",
    "        y1 = random.nextInt(10)\n",
    "        info.graphics.x[1] = x1;  info.graphics.y[1] = y1;\n",
    "        info.graphics.displayName = \"线段2中间点坐标：[\" + x1 + \", \" + y1 + \"]\"\n",
    "})"
   ]
  },
  {
   "cell_type": "code",
   "execution_count": 2,
   "metadata": {
    "ExecuteTime": {
     "end_time": "2019-11-04T09:43:15.299000Z",
     "start_time": "2019-11-04T09:43:15.299+0000"
    }
   },
   "outputs": [
    {
     "data": {
      "application/vnd.jupyter.widget-view+json": {
       "model_id": "2d5a7c2c-9bb3-4148-b787-2d4f205b992e",
       "version_major": 2,
       "version_minor": 0
      },
      "method": "display_data"
     },
     "metadata": {},
     "output_type": "display_data"
    },
    {
     "name": "stdout",
     "output_type": "stream",
     "text": [
      "您点击了 1 次。\n",
      "您点击了 2 次。\n",
      "您点击了 3 次。\n"
     ]
    }
   ],
   "source": [
    "pa2 = new Plot(\n",
    "    title: \"Plot Action Sample 图形动作演示 #2（点击柱状图 👈）\",\n",
    "    showLegend: true,\n",
    "    useToolTip: false,\n",
    "    initWidth: 480,\n",
    "    initHeight: 300\n",
    ")\n",
    "\n",
    "// 点击计数器\n",
    "count = 0\n",
    "\n",
    "pa2 << new Bars(\n",
    "    y: [1, 5, 9], \n",
    "    width: 0.5,\n",
    "    base: 0,\n",
    "    displayName: \"柱状图点击测试\"\n",
    ").onClick({\n",
    "    count ++\n",
    "    beakerx.runByTag(\"您点击了 \" + count + \" 次。\")\n",
    "    println \"您点击了 \" + count + \" 次。\"\n",
    "})"
   ]
  },
  {
   "cell_type": "code",
   "execution_count": 12,
   "metadata": {
    "ExecuteTime": {
     "end_time": "2019-11-04T09:46:29.614000Z",
     "start_time": "2019-11-04T09:46:29.614+0000"
    }
   },
   "outputs": [
    {
     "name": "stdout",
     "output_type": "stream",
     "text": [
      "SQUARE\tCIRCLE\tTRIANGLE\tDIAMOND\tDCROSS\tDOWNTRIANGLE\tCROSS\tDEFAULT\tLEVEL\tVLEVEL\tLINECROSS\t"
     ]
    },
    {
     "data": {
      "application/vnd.jupyter.widget-view+json": {
       "model_id": "c3d3b8aa-f79c-4b2d-af10-4d6877e7c533",
       "version_major": 2,
       "version_minor": 0
      },
      "method": "display_data"
     },
     "metadata": {},
     "output_type": "display_data"
    }
   ],
   "source": [
    "pa3 = new Plot(\n",
    "    title: \"Plot Action Sample 图形动作演示 #3（点击数据点 👈）\",\n",
    "    showLegend: false,\n",
    "    useToolTip: false,\n",
    "    xUpperMargin: 0.1,\n",
    "    xLowerMargin: 0.1,\n",
    "    yUpperMargin: 0.1,\n",
    "    yLowerMargin: 0.1\n",
    ")\n",
    "\n",
    "// 显示ShaptType属性值\n",
    "for (it in ShapeType) {\n",
    "    print it\n",
    "    print \"\\t\"\n",
    "}\n",
    "\n",
    "def random = new Random()\n",
    "\n",
    "pa3 << new Points(\n",
    "    x: (1..5),\n",
    "    y: (1..5),\n",
    "    size: 20.0,\n",
    "    shape: ShapeType.TRIANGLE,\n",
    "    color: Color.orange,\n",
    "    outlineColor: Color.black,\n",
    ").onClick({\n",
    "    info -> info.graphics.size = random.nextInt(35) + 15\n",
    "})\n",
    "\n",
    "pa3 << new Points(\n",
    "    x: (1..5),\n",
    "    y: (3..8),\n",
    "    size: 25.0,\n",
    "    shape: ShapeType.DCROSS,\n",
    "    color: Color.green,\n",
    "    outlineColor: Color.black,\n",
    ").onClick({\n",
    "    info -> info.graphics.color = [Color.blue, Color.green, Color.yellow, Color.red, Color.cyan][random.nextInt(5)]\n",
    "})\n",
    "\n",
    "pa3 << new Points(\n",
    "    x: (1..5),\n",
    "    y: (5..11),\n",
    "    size: 30.0,\n",
    "    shape: ShapeType.DOWNTRIANGLE,\n",
    "    color: Color.cyan,\n",
    "    outlineColor: Color.black,\n",
    ").onClick(\"你点击了3号数据点\")"
   ]
  },
  {
   "cell_type": "code",
   "execution_count": 16,
   "metadata": {
    "ExecuteTime": {
     "end_time": "2019-11-04T09:47:08.975000Z",
     "start_time": "2019-11-04T09:47:08.975+0000"
    }
   },
   "outputs": [
    {
     "name": "stdout",
     "output_type": "stream",
     "text": [
      "您点击了 DOWNTRIANGLE 形数据点的 Points (其坐标为 [3,7])\n",
      "按键 = null\t输出标记 = 你点击了3号数据点\t动作 = ONCLICK\n"
     ]
    }
   ],
   "source": [
    "// 获取上面cell中pa3的图形操作信息（在以上图形操作后+，再运行本cell查看结果）\n",
    "def details = pa3.details\n",
    "if (details) {\n",
    "    def item = details.graphics\n",
    "    def index = details.index\n",
    "    def key = details.key\n",
    "    def tag = details.tag\n",
    "    def action = details.actionType\n",
    "\n",
    "    println (\"您点击了 \" + item.shape + \" 形数据点的 \" + item.class.simpleName + \" (其坐标为 [\" + item.x[index] + \",\" + item.y[index] + \"])\")\n",
    "    println \"按键 = \" + key + \"\\t输出标记 = \" + tag  + \"\\t动作 = \" + action\n",
    "}\n",
    "\n",
    "OutputCell.HIDDEN"
   ]
  },
  {
   "cell_type": "code",
   "execution_count": 5,
   "metadata": {
    "ExecuteTime": {
     "end_time": "2019-11-04T09:43:15.780000Z",
     "start_time": "2019-11-04T09:43:15.780+0000"
    }
   },
   "outputs": [
    {
     "name": "stdout",
     "output_type": "stream",
     "text": [
      "BACKSPACE\tTAB\tENTER\tSHIFT\tCTRL\tALT\tPAUSE_BREAK\tCAPS_LOCK\tESCAPE\tSPACE\tPAGE_UP\tPAGE_DOWN\tEND\tHOME\tLEFT_ARROW\tUP_ARROW\tRIGHT_ARROW\tDOWN_ARROW\tINSERT\tDELETE\tMULTIPLY\tADD\tSUBTRACT\tDECIMAL_POINT\tDIVIDE\tF1\tF2\tF3\tF4\tF5\tF6\tF7\tF8\tF9\tF10\tF11\tF12\tNUM_LOCK\tSCROLL_LOCK\tEQUAL_SIGN\tCOMMA\tDASH\tPERIOD\tFORWARD_SLASH\tGRAVE_ACCENT\tOPEN_BRACKET\tBACK_SLASH\tCLOSE_BRAKET\tSINGLE_QUOTE\t"
     ]
    }
   ],
   "source": [
    "// 显示KeyboardCodes属性值\n",
    "KeyboardCodes.each {\n",
    "    print it\n",
    "    print \"\\t\"\n",
    "}\n",
    "\n",
    "OutputCell.HIDDEN"
   ]
  },
  {
   "cell_type": "code",
   "execution_count": 6,
   "metadata": {
    "ExecuteTime": {
     "end_time": "2019-11-04T09:43:15.862000Z",
     "start_time": "2019-11-04T09:43:15.862+0000"
    },
    "scrolled": false
   },
   "outputs": [
    {
     "name": "stdout",
     "output_type": "stream",
     "text": [
      "操作方式：\n",
      "\n",
      "  1. 把鼠标移动到想要操作的柱状图形上（MouseOver模式，鼠标在其他区域操作无效）。\n",
      "  2. 点击操作键。（操作键为：数字小键盘【+】、【-】键，键盘【T】键）\n"
     ]
    },
    {
     "data": {
      "application/vnd.jupyter.widget-view+json": {
       "model_id": "c3010059-86e0-4f89-858c-c6be34bcb182",
       "version_major": 2,
       "version_minor": 0
      },
      "method": "display_data"
     },
     "metadata": {},
     "output_type": "display_data"
    }
   ],
   "source": [
    "pa4 = new Plot(\n",
    "    title: \"Plot Action Sample 图形动作演示 #4（键盘操作 👈）\",\n",
    "    useToolTip: true\n",
    ")\n",
    "\n",
    "println \"操作方式：\\n\\n  1. 把鼠标移动到想要操作的柱状图形上（MouseOver模式，鼠标在其他区域操作无效）。\\n  2. 点击操作键。（操作键为：数字小键盘【+】、【-】键，键盘【T】键）\"\n",
    "\n",
    "pa4 << new Bars(\n",
    "    x: (1..5),\n",
    "    y: [2, 5, 9, 6, 12],\n",
    "    color: new Color(255, 164, 228, 200),\n",
    "    width: 0.5\n",
    ").onKey(\n",
    "    KeyboardCodes.ADD,  // 数字小键盘“+”键\n",
    "    {\n",
    "        info -> info.graphics.y[info.index]++\n",
    "    }\n",
    ").onKey(\n",
    "    KeyboardCodes.SUBTRACT,  // 数字小键盘“-”键\n",
    "    {\n",
    "        info -> info.graphics.y[info.index]--\n",
    "    }\n",
    ").onKey( \n",
    "    \"T\",  // 键盘“T”键\n",
    "    \"按键测试\"\n",
    ")"
   ]
  },
  {
   "cell_type": "code",
   "execution_count": 17,
   "metadata": {
    "ExecuteTime": {
     "end_time": "2019-11-04T09:47:24.556000Z",
     "start_time": "2019-11-04T09:47:24.556+0000"
    }
   },
   "outputs": [
    {
     "name": "stdout",
     "output_type": "stream",
     "text": [
      "您点击了对象 com.twosigma.beakerx.chart.xychart.plotitem.Bars@601e6fdb，坐标为 [4,4]\n",
      "按键 = SUBTRACT\t输出标记 = null\t动作 = null\n"
     ]
    }
   ],
   "source": [
    "// 获取上面cell中pa4的图形操作信息（在以上图形操作后，再运行本cell查看结果）\n",
    "def details = pa4.details\n",
    "if (details) {\n",
    "    def item = details.graphics\n",
    "    def index = details.index\n",
    "    def key = details.key\n",
    "    def tag = details.tag\n",
    "    def action = details.actionType\n",
    "\n",
    "    println (\"您点击了对象 \" + item + \"，坐标为 [\" + item.x[index] + \",\" + item.y[index] + \"]\")\n",
    "    println \"按键 = \" + key + \"\\t输出标记 = \" + tag  + \"\\t动作 = \" + action\n",
    "}\n",
    "\n",
    "OutputCell.HIDDEN"
   ]
  }
 ],
 "metadata": {
  "kernelspec": {
   "display_name": "Groovy",
   "language": "groovy",
   "name": "groovy"
  },
  "language_info": {
   "codemirror_mode": "groovy",
   "file_extension": ".groovy",
   "mimetype": "",
   "name": "Groovy",
   "nbconverter_exporter": "",
   "version": "2.5.6"
  },
  "latex_envs": {
   "LaTeX_envs_menu_present": true,
   "autoclose": false,
   "autocomplete": true,
   "bibliofile": "biblio.bib",
   "cite_by": "apalike",
   "current_citInitial": 1,
   "eqLabelWithNumbers": true,
   "eqNumInitial": 1,
   "hotkeys": {
    "equation": "Ctrl-E",
    "itemize": "Ctrl-I"
   },
   "labels_anchors": false,
   "latex_user_defs": false,
   "report_style_numbering": false,
   "user_envs_cfg": false
  },
  "toc": {
   "base_numbering": 1,
   "nav_menu": {},
   "number_sections": true,
   "sideBar": true,
   "skip_h1_title": false,
   "title_cell": "Table of Contents",
   "title_sidebar": "Contents",
   "toc_cell": false,
   "toc_position": {},
   "toc_section_display": true,
   "toc_window_display": false
  }
 },
 "nbformat": 4,
 "nbformat_minor": 2
}
