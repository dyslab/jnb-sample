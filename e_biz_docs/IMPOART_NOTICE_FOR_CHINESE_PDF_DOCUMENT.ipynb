{
 "cells": [
  {
   "cell_type": "markdown",
   "metadata": {},
   "source": [
    "# jupyter notebook生成PDF文件采用LaTeX编译方式，须先行安装Tex软件。（Linux环境建议使用TeXLive, Windows环境建议使用MiKTeX，Mac环境建议使用MacTeX）"
   ]
  },
  {
   "cell_type": "markdown",
   "metadata": {},
   "source": [
    "- 建议直接前往 [https://tug.org/](https://tug.org/) 下载最新版本TeX软件，TeXLive软件下载与安装链接地址为：[https://tug.org/texlive/](https://tug.org/texlive/)。\n",
    "\n",
    "- Ubuntu下用apt-get获取的TeXLive软件版本较旧，插件不齐，在采用tlmgr包管理升级时会遇到版本不兼容，无法升级的问题。"
   ]
  },
  {
   "cell_type": "markdown",
   "metadata": {},
   "source": [
    "# 由于jupyter notebook自身模板限制，PDF转换模板中默认使用LaTeX的标准T1字体输出（不支持中文）。因此，如要输出包含中文的PDF文件，则需要按以下步骤执行："
   ]
  },
  {
   "cell_type": "markdown",
   "metadata": {},
   "source": [
    "- 在jupyter notebook环境下先把ipynb工作文件输出为LaTeX（.tex）文件。（在此假定输出文件名以*sample.tex*)\n",
    "\n",
    "- 用文本编辑器打开*sample.tex*。\n",
    "\n",
    "- 在**\\documentclass**段落之下新增以下语句，引入xeCJK包，实现中文支持。\n",
    "\n",
    "    ```\n",
    "    \\usepackage{xeCJK}\n",
    "    ```\n",
    "\n",
    "- 保存文件后，使用`xelatex sample.tex`即可编译生成支持中文的 *sample.pdf* 文件。\n",
    "\n",
    "- 在上面的语句后，可添加以下语句设置宋体为生成PDF文件的缺省中文字体，不作设置的话将以系统字体为准。\n",
    "\n",
    "    ```\n",
    "    \\setCJKmainfont{SimSun}\n",
    "    ```"
   ]
  },
  {
   "cell_type": "markdown",
   "metadata": {},
   "source": [
    "*注：*\n",
    "\n",
    "- *测试环境为：Ubuntu 19.04 + TexLive 2019（缺省安装已包含xeCJK, cTex中文宏包）。*\n",
    "\n",
    "- *xeCJK中文支持包具体使用方法参见说明文件 [xeCJK.pdf](xeCJK.pdf)。*\n",
    "\n",
    "- *本文即为按以上方法生成的PDF中文文档。*"
   ]
  }
 ],
 "metadata": {
  "kernelspec": {
   "display_name": "Python 3",
   "language": "python",
   "name": "python3"
  },
  "language_info": {
   "codemirror_mode": {
    "name": "ipython",
    "version": 3
   },
   "file_extension": ".py",
   "mimetype": "text/x-python",
   "name": "python",
   "nbconvert_exporter": "python",
   "pygments_lexer": "ipython3",
   "version": "3.7.3"
  },
  "latex_envs": {
   "LaTeX_envs_menu_present": true,
   "autoclose": false,
   "autocomplete": true,
   "bibliofile": "biblio.bib",
   "cite_by": "apalike",
   "current_citInitial": 1,
   "eqLabelWithNumbers": true,
   "eqNumInitial": 1,
   "hotkeys": {
    "equation": "Ctrl-E",
    "itemize": "Ctrl-I"
   },
   "labels_anchors": false,
   "latex_user_defs": false,
   "report_style_numbering": false,
   "user_envs_cfg": false
  },
  "toc": {
   "base_numbering": 1,
   "nav_menu": {},
   "number_sections": true,
   "sideBar": true,
   "skip_h1_title": false,
   "title_cell": "Table of Contents",
   "title_sidebar": "Contents",
   "toc_cell": false,
   "toc_position": {},
   "toc_section_display": true,
   "toc_window_display": false
  }
 },
 "nbformat": 4,
 "nbformat_minor": 2
}
