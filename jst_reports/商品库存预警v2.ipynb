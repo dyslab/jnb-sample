{
 "cells": [
  {
   "cell_type": "markdown",
   "metadata": {},
   "source": [
    "Doc title: **Inventory Alarming Snippet**\n",
    "\n",
    "Article notes: This snippet is dedicating to automate the alarming procedure of inventory data which came from [Jushuitan SaaS ERP](http://www.erp321.com) as it cannot offer a proper approach to meet the request of daily alarming regarding the shortage of inventory.\n",
    "\n",
    "文章备注：这个小程序用于解决聚水潭ERP无法提供每日库存变化后发生商品数量短缺的预警问题。\n",
    "\n",
    "Last modified date: 2021-03-20"
   ]
  },
  {
   "cell_type": "code",
   "execution_count": 1,
   "metadata": {
    "ExecuteTime": {
     "end_time": "2019-07-26T07:12:10.481226Z",
     "start_time": "2019-07-26T07:12:10.476075Z"
    }
   },
   "outputs": [],
   "source": [
    "# 全局变量定义部分\n",
    "\n",
    "# 库存（起始日期）导出文件名 🔔 \n",
    "START_FILE_NAME = '商品库存_2019-07-25_19-22-18.xlsx'\n",
    "\n",
    "# 库存（终止日期）导出文件名 🔔 \n",
    "END_FILE_NAME = '商品库存_2019-07-26_14-28-07.xlsx'\n",
    "\n",
    "# 预警数量（小于等于）阈值\n",
    "ALARM_QUANTITY = 10\n",
    "\n",
    "# 导出csv文件名（无需后缀名）\n",
    "EXPORT_ALARM_FILE_NAME = '商品库存预警报告'\n",
    "EXPORT_INBOUND_FILE_NAME = '商品库存增加提示'"
   ]
  },
  {
   "cell_type": "markdown",
   "metadata": {},
   "source": [
    "注：\n",
    "\n",
    "1. 以上部分除有 🔔 标志的部分外，其他部分日常均不需改动。\n",
    "\n",
    "\n",
    "2. 各部分改动后，须点击菜单项 **Cell / Run All** 重新运行一次，数据方可得到更新。\n",
    "\n",
    "3. 退出此小程序时，谨记点击菜单项 **File / Save and Checkpoint** 或 工具栏图标 <img src='jupyter_notebook_save.png' style='display: inline; vertical-align: bottom;'> 保存文件。\n",
    "\n",
    "\n",
    "4. 以下程序日常不需改动。"
   ]
  },
  {
   "cell_type": "code",
   "execution_count": 2,
   "metadata": {
    "ExecuteTime": {
     "end_time": "2019-07-26T07:12:10.550444Z",
     "start_time": "2019-07-26T07:12:10.511959Z"
    }
   },
   "outputs": [],
   "source": [
    "# 引入pandas数据分析模块\n",
    "import pandas as pd\n",
    "from datetime import date\n",
    "\n",
    "# 定义CSS列风格函数\n",
    "def color_negative_red(val):\n",
    "    \"\"\"\n",
    "    Takes a scalar and returns a string with\n",
    "    the css property `'background-color: red'` for negative\n",
    "    strings, green otherwise.\n",
    "    \"\"\"\n",
    "    color = 'red' if val < 0 else 'green'\n",
    "    return 'color: %s' % color"
   ]
  },
  {
   "cell_type": "markdown",
   "metadata": {},
   "source": [
    "# 显示预警数据及生成预警报告"
   ]
  },
  {
   "cell_type": "code",
   "execution_count": 3,
   "metadata": {
    "ExecuteTime": {
     "end_time": "2019-07-26T07:12:11.170933Z",
     "start_time": "2019-07-26T07:12:10.552399Z"
    },
    "scrolled": false
   },
   "outputs": [
    {
     "data": {
      "text/html": [
       "<style  type=\"text/css\" >\n",
       "    #T_42eacde2_b694_11ee_8adb_74dfbfbc1e81row0_col0 {\n",
       "            color:  green;\n",
       "        }    #T_42eacde2_b694_11ee_8adb_74dfbfbc1e81row0_col1 {\n",
       "            color:  green;\n",
       "        }    #T_42eacde2_b694_11ee_8adb_74dfbfbc1e81row0_col2 {\n",
       "            color:  red;\n",
       "        }    #T_42eacde2_b694_11ee_8adb_74dfbfbc1e81row1_col0 {\n",
       "            color:  green;\n",
       "        }    #T_42eacde2_b694_11ee_8adb_74dfbfbc1e81row1_col1 {\n",
       "            color:  green;\n",
       "        }    #T_42eacde2_b694_11ee_8adb_74dfbfbc1e81row1_col2 {\n",
       "            color:  red;\n",
       "        }    #T_42eacde2_b694_11ee_8adb_74dfbfbc1e81row2_col0 {\n",
       "            color:  green;\n",
       "        }    #T_42eacde2_b694_11ee_8adb_74dfbfbc1e81row2_col1 {\n",
       "            color:  green;\n",
       "        }    #T_42eacde2_b694_11ee_8adb_74dfbfbc1e81row2_col2 {\n",
       "            color:  red;\n",
       "        }    #T_42eacde2_b694_11ee_8adb_74dfbfbc1e81row3_col0 {\n",
       "            color:  green;\n",
       "        }    #T_42eacde2_b694_11ee_8adb_74dfbfbc1e81row3_col1 {\n",
       "            color:  green;\n",
       "        }    #T_42eacde2_b694_11ee_8adb_74dfbfbc1e81row3_col2 {\n",
       "            color:  red;\n",
       "        }    #T_42eacde2_b694_11ee_8adb_74dfbfbc1e81row4_col0 {\n",
       "            color:  green;\n",
       "        }    #T_42eacde2_b694_11ee_8adb_74dfbfbc1e81row4_col1 {\n",
       "            color:  green;\n",
       "        }    #T_42eacde2_b694_11ee_8adb_74dfbfbc1e81row4_col2 {\n",
       "            color:  red;\n",
       "        }    #T_42eacde2_b694_11ee_8adb_74dfbfbc1e81row5_col0 {\n",
       "            color:  green;\n",
       "        }    #T_42eacde2_b694_11ee_8adb_74dfbfbc1e81row5_col1 {\n",
       "            color:  green;\n",
       "        }    #T_42eacde2_b694_11ee_8adb_74dfbfbc1e81row5_col2 {\n",
       "            color:  red;\n",
       "        }    #T_42eacde2_b694_11ee_8adb_74dfbfbc1e81row6_col0 {\n",
       "            color:  green;\n",
       "        }    #T_42eacde2_b694_11ee_8adb_74dfbfbc1e81row6_col1 {\n",
       "            color:  green;\n",
       "        }    #T_42eacde2_b694_11ee_8adb_74dfbfbc1e81row6_col2 {\n",
       "            color:  red;\n",
       "        }</style><table id=\"T_42eacde2_b694_11ee_8adb_74dfbfbc1e81\" ><thead>    <tr>        <th class=\"blank level0\" ></th>        <th class=\"col_heading level0 col0\" >数量_期初</th>        <th class=\"col_heading level0 col1\" >数量_期末</th>        <th class=\"col_heading level0 col2\" >变化量</th>    </tr>    <tr>        <th class=\"index_name level0\" >商品编码</th>        <th class=\"blank\" ></th>        <th class=\"blank\" ></th>        <th class=\"blank\" ></th>    </tr></thead><tbody>\n",
       "                <tr>\n",
       "                        <th id=\"T_42eacde2_b694_11ee_8adb_74dfbfbc1e81level0_row0\" class=\"row_heading level0 row0\" >HM0720-1038</th>\n",
       "                        <td id=\"T_42eacde2_b694_11ee_8adb_74dfbfbc1e81row0_col0\" class=\"data row0 col0\" >12</td>\n",
       "                        <td id=\"T_42eacde2_b694_11ee_8adb_74dfbfbc1e81row0_col1\" class=\"data row0 col1\" >6</td>\n",
       "                        <td id=\"T_42eacde2_b694_11ee_8adb_74dfbfbc1e81row0_col2\" class=\"data row0 col2\" >-6</td>\n",
       "            </tr>\n",
       "            <tr>\n",
       "                        <th id=\"T_42eacde2_b694_11ee_8adb_74dfbfbc1e81level0_row1\" class=\"row_heading level0 row1\" >HM0752-3140</th>\n",
       "                        <td id=\"T_42eacde2_b694_11ee_8adb_74dfbfbc1e81row1_col0\" class=\"data row1 col0\" >23</td>\n",
       "                        <td id=\"T_42eacde2_b694_11ee_8adb_74dfbfbc1e81row1_col1\" class=\"data row1 col1\" >4</td>\n",
       "                        <td id=\"T_42eacde2_b694_11ee_8adb_74dfbfbc1e81row1_col2\" class=\"data row1 col2\" >-19</td>\n",
       "            </tr>\n",
       "            <tr>\n",
       "                        <th id=\"T_42eacde2_b694_11ee_8adb_74dfbfbc1e81level0_row2\" class=\"row_heading level0 row2\" >HM0807-3543</th>\n",
       "                        <td id=\"T_42eacde2_b694_11ee_8adb_74dfbfbc1e81row2_col0\" class=\"data row2 col0\" >11</td>\n",
       "                        <td id=\"T_42eacde2_b694_11ee_8adb_74dfbfbc1e81row2_col1\" class=\"data row2 col1\" >10</td>\n",
       "                        <td id=\"T_42eacde2_b694_11ee_8adb_74dfbfbc1e81row2_col2\" class=\"data row2 col2\" >-1</td>\n",
       "            </tr>\n",
       "            <tr>\n",
       "                        <th id=\"T_42eacde2_b694_11ee_8adb_74dfbfbc1e81level0_row3\" class=\"row_heading level0 row3\" >HM0814X-3042</th>\n",
       "                        <td id=\"T_42eacde2_b694_11ee_8adb_74dfbfbc1e81row3_col0\" class=\"data row3 col0\" >11</td>\n",
       "                        <td id=\"T_42eacde2_b694_11ee_8adb_74dfbfbc1e81row3_col1\" class=\"data row3 col1\" >9</td>\n",
       "                        <td id=\"T_42eacde2_b694_11ee_8adb_74dfbfbc1e81row3_col2\" class=\"data row3 col2\" >-2</td>\n",
       "            </tr>\n",
       "            <tr>\n",
       "                        <th id=\"T_42eacde2_b694_11ee_8adb_74dfbfbc1e81level0_row4\" class=\"row_heading level0 row4\" >HM0816-1843</th>\n",
       "                        <td id=\"T_42eacde2_b694_11ee_8adb_74dfbfbc1e81row4_col0\" class=\"data row4 col0\" >11</td>\n",
       "                        <td id=\"T_42eacde2_b694_11ee_8adb_74dfbfbc1e81row4_col1\" class=\"data row4 col1\" >2</td>\n",
       "                        <td id=\"T_42eacde2_b694_11ee_8adb_74dfbfbc1e81row4_col2\" class=\"data row4 col2\" >-9</td>\n",
       "            </tr>\n",
       "            <tr>\n",
       "                        <th id=\"T_42eacde2_b694_11ee_8adb_74dfbfbc1e81level0_row5\" class=\"row_heading level0 row5\" >HM0823-2046</th>\n",
       "                        <td id=\"T_42eacde2_b694_11ee_8adb_74dfbfbc1e81row5_col0\" class=\"data row5 col0\" >11</td>\n",
       "                        <td id=\"T_42eacde2_b694_11ee_8adb_74dfbfbc1e81row5_col1\" class=\"data row5 col1\" >10</td>\n",
       "                        <td id=\"T_42eacde2_b694_11ee_8adb_74dfbfbc1e81row5_col2\" class=\"data row5 col2\" >-1</td>\n",
       "            </tr>\n",
       "            <tr>\n",
       "                        <th id=\"T_42eacde2_b694_11ee_8adb_74dfbfbc1e81level0_row6\" class=\"row_heading level0 row6\" >HM0902-1131</th>\n",
       "                        <td id=\"T_42eacde2_b694_11ee_8adb_74dfbfbc1e81row6_col0\" class=\"data row6 col0\" >11</td>\n",
       "                        <td id=\"T_42eacde2_b694_11ee_8adb_74dfbfbc1e81row6_col1\" class=\"data row6 col1\" >9</td>\n",
       "                        <td id=\"T_42eacde2_b694_11ee_8adb_74dfbfbc1e81row6_col2\" class=\"data row6 col2\" >-2</td>\n",
       "            </tr>\n",
       "    </tbody></table>"
      ],
      "text/plain": [
       "<pandas.io.formats.style.Styler at 0x7f891a96e940>"
      ]
     },
     "execution_count": 3,
     "metadata": {},
     "output_type": "execute_result"
    }
   ],
   "source": [
    "# 读取库存（起始日期）导出文件\n",
    "start_df = pd.read_excel(START_FILE_NAME, usecols=['商品编码', '数量']).query('数量 > {}'.format(ALARM_QUANTITY)).groupby('商品编码').sum().sort_index()\n",
    "\n",
    "# 读取库存（终止日期）导出文件\n",
    "end_df = pd.read_excel(END_FILE_NAME, usecols=['商品编码', '数量']).query('数量 <= {}'.format(ALARM_QUANTITY)).groupby('商品编码').sum().sort_index()\n",
    "\n",
    "# 以交集方式合并表格\n",
    "result_df = end_df.merge(start_df, how='inner', left_on='商品编码', right_on='商品编码', suffixes=('_期末', '_期初'))[['数量_期初', '数量_期末']]\n",
    "\n",
    "# 定制列显示风格\n",
    "result_df['变化量'] = result_df['数量_期末'] - result_df['数量_期初']\n",
    "\n",
    "# 导出csv文件\n",
    "# result_df.to_csv('{0}_{1}.csv'.format(EXPORT_ALARM_FILE_NAME, str(date.today())))\n",
    "\n",
    "# 按定制风格显示\n",
    "result_df.style.applymap(color_negative_red).format({'变化量': '{:+.0f}'})"
   ]
  },
  {
   "cell_type": "markdown",
   "metadata": {},
   "source": [
    "# 显示库存增加数据及生成提示报告"
   ]
  },
  {
   "cell_type": "code",
   "execution_count": 4,
   "metadata": {
    "ExecuteTime": {
     "end_time": "2019-07-26T07:12:11.711918Z",
     "start_time": "2019-07-26T07:12:11.172725Z"
    },
    "scrolled": false
   },
   "outputs": [
    {
     "data": {
      "text/html": [
       "<style  type=\"text/css\" >\n",
       "    #T_43ba2df8_b694_11ee_8adb_74dfbfbc1e81row0_col0 {\n",
       "            color:  green;\n",
       "        }    #T_43ba2df8_b694_11ee_8adb_74dfbfbc1e81row0_col1 {\n",
       "            color:  green;\n",
       "        }    #T_43ba2df8_b694_11ee_8adb_74dfbfbc1e81row0_col2 {\n",
       "            color:  green;\n",
       "        }    #T_43ba2df8_b694_11ee_8adb_74dfbfbc1e81row1_col0 {\n",
       "            color:  green;\n",
       "        }    #T_43ba2df8_b694_11ee_8adb_74dfbfbc1e81row1_col1 {\n",
       "            color:  green;\n",
       "        }    #T_43ba2df8_b694_11ee_8adb_74dfbfbc1e81row1_col2 {\n",
       "            color:  green;\n",
       "        }    #T_43ba2df8_b694_11ee_8adb_74dfbfbc1e81row2_col0 {\n",
       "            color:  green;\n",
       "        }    #T_43ba2df8_b694_11ee_8adb_74dfbfbc1e81row2_col1 {\n",
       "            color:  green;\n",
       "        }    #T_43ba2df8_b694_11ee_8adb_74dfbfbc1e81row2_col2 {\n",
       "            color:  green;\n",
       "        }    #T_43ba2df8_b694_11ee_8adb_74dfbfbc1e81row3_col0 {\n",
       "            color:  green;\n",
       "        }    #T_43ba2df8_b694_11ee_8adb_74dfbfbc1e81row3_col1 {\n",
       "            color:  green;\n",
       "        }    #T_43ba2df8_b694_11ee_8adb_74dfbfbc1e81row3_col2 {\n",
       "            color:  green;\n",
       "        }</style><table id=\"T_43ba2df8_b694_11ee_8adb_74dfbfbc1e81\" ><thead>    <tr>        <th class=\"blank level0\" ></th>        <th class=\"col_heading level0 col0\" >数量_期初</th>        <th class=\"col_heading level0 col1\" >数量_期末</th>        <th class=\"col_heading level0 col2\" >变化量</th>    </tr>    <tr>        <th class=\"index_name level0\" >商品编码</th>        <th class=\"blank\" ></th>        <th class=\"blank\" ></th>        <th class=\"blank\" ></th>    </tr></thead><tbody>\n",
       "                <tr>\n",
       "                        <th id=\"T_43ba2df8_b694_11ee_8adb_74dfbfbc1e81level0_row0\" class=\"row_heading level0 row0\" >HM0720-1039</th>\n",
       "                        <td id=\"T_43ba2df8_b694_11ee_8adb_74dfbfbc1e81row0_col0\" class=\"data row0 col0\" >0</td>\n",
       "                        <td id=\"T_43ba2df8_b694_11ee_8adb_74dfbfbc1e81row0_col1\" class=\"data row0 col1\" >20</td>\n",
       "                        <td id=\"T_43ba2df8_b694_11ee_8adb_74dfbfbc1e81row0_col2\" class=\"data row0 col2\" >+20</td>\n",
       "            </tr>\n",
       "            <tr>\n",
       "                        <th id=\"T_43ba2df8_b694_11ee_8adb_74dfbfbc1e81level0_row1\" class=\"row_heading level0 row1\" >HM0720-136</th>\n",
       "                        <td id=\"T_43ba2df8_b694_11ee_8adb_74dfbfbc1e81row1_col0\" class=\"data row1 col0\" >0</td>\n",
       "                        <td id=\"T_43ba2df8_b694_11ee_8adb_74dfbfbc1e81row1_col1\" class=\"data row1 col1\" >34</td>\n",
       "                        <td id=\"T_43ba2df8_b694_11ee_8adb_74dfbfbc1e81row1_col2\" class=\"data row1 col2\" >+34</td>\n",
       "            </tr>\n",
       "            <tr>\n",
       "                        <th id=\"T_43ba2df8_b694_11ee_8adb_74dfbfbc1e81level0_row2\" class=\"row_heading level0 row2\" >HM0741-0238</th>\n",
       "                        <td id=\"T_43ba2df8_b694_11ee_8adb_74dfbfbc1e81row2_col0\" class=\"data row2 col0\" >0</td>\n",
       "                        <td id=\"T_43ba2df8_b694_11ee_8adb_74dfbfbc1e81row2_col1\" class=\"data row2 col1\" >23</td>\n",
       "                        <td id=\"T_43ba2df8_b694_11ee_8adb_74dfbfbc1e81row2_col2\" class=\"data row2 col2\" >+23</td>\n",
       "            </tr>\n",
       "            <tr>\n",
       "                        <th id=\"T_43ba2df8_b694_11ee_8adb_74dfbfbc1e81level0_row3\" class=\"row_heading level0 row3\" >HM0757-237</th>\n",
       "                        <td id=\"T_43ba2df8_b694_11ee_8adb_74dfbfbc1e81row3_col0\" class=\"data row3 col0\" >6</td>\n",
       "                        <td id=\"T_43ba2df8_b694_11ee_8adb_74dfbfbc1e81row3_col1\" class=\"data row3 col1\" >29</td>\n",
       "                        <td id=\"T_43ba2df8_b694_11ee_8adb_74dfbfbc1e81row3_col2\" class=\"data row3 col2\" >+23</td>\n",
       "            </tr>\n",
       "    </tbody></table>"
      ],
      "text/plain": [
       "<pandas.io.formats.style.Styler at 0x7f89179f27f0>"
      ]
     },
     "execution_count": 4,
     "metadata": {},
     "output_type": "execute_result"
    }
   ],
   "source": [
    "# 读取库存（起始日期）导出文件\n",
    "start_df = pd.read_excel(START_FILE_NAME, usecols=['商品编码', '数量']).query('数量 <= {}'.format(ALARM_QUANTITY)).groupby('商品编码').sum().sort_index()\n",
    "\n",
    "# 读取库存（终止日期）导出文件\n",
    "end_df = pd.read_excel(END_FILE_NAME, usecols=['商品编码', '数量']).query('数量 > {}'.format(ALARM_QUANTITY)).groupby('商品编码').sum().sort_index()\n",
    "\n",
    "# 以交集方式合并表格\n",
    "result_df = end_df.merge(start_df, how='inner', left_on='商品编码', right_on='商品编码', suffixes=('_期末', '_期初'))[['数量_期初', '数量_期末']]\n",
    "\n",
    "# 定制列显示风格\n",
    "result_df['变化量'] = result_df['数量_期末'] - result_df['数量_期初']\n",
    "\n",
    "# 导出csv文件\n",
    "# result_df.to_csv('{0}_{1}.csv'.format(EXPORT_INBOUND_FILE_NAME, str(date.today())))\n",
    "\n",
    "# 按定制风格显示\n",
    "result_df.style.applymap(color_negative_red).format({'变化量': '{:+.0f}'})"
   ]
  }
 ],
 "metadata": {
  "kernelspec": {
   "display_name": "Python 3",
   "language": "python",
   "name": "python3"
  },
  "language_info": {
   "codemirror_mode": {
    "name": "ipython",
    "version": 3
   },
   "file_extension": ".py",
   "mimetype": "text/x-python",
   "name": "python",
   "nbconvert_exporter": "python",
   "pygments_lexer": "ipython3",
   "version": "3.7.3"
  },
  "latex_envs": {
   "LaTeX_envs_menu_present": true,
   "autoclose": false,
   "autocomplete": true,
   "bibliofile": "biblio.bib",
   "cite_by": "apalike",
   "current_citInitial": 1,
   "eqLabelWithNumbers": true,
   "eqNumInitial": 1,
   "hotkeys": {
    "equation": "Ctrl-E",
    "itemize": "Ctrl-I"
   },
   "labels_anchors": false,
   "latex_user_defs": false,
   "report_style_numbering": false,
   "user_envs_cfg": false
  },
  "toc": {
   "base_numbering": 1,
   "nav_menu": {},
   "number_sections": true,
   "sideBar": true,
   "skip_h1_title": false,
   "title_cell": "Table of Contents",
   "title_sidebar": "Contents",
   "toc_cell": false,
   "toc_position": {},
   "toc_section_display": true,
   "toc_window_display": false
  }
 },
 "nbformat": 4,
 "nbformat_minor": 2
}
