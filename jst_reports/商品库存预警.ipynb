{
 "cells": [
  {
   "cell_type": "markdown",
   "metadata": {},
   "source": [
    "Doc title: **Inventory Alarming Snippet**\n",
    "\n",
    "Article notes: This snippet is dedicating to automate the alarming procedure of inventory data which came from [Jushuitan SaaS ERP](http://www.erp321.com) as it cannot offer a proper approach to meet the request of daily alarming regarding the shortage of inventory.\n",
    "\n",
    "文章备注：这个小程序用于解决聚水潭ERP无法提供每日库存变化后发生商品数量短缺的预警问题。\n",
    "\n",
    "Last modified date: 2019-07-26 15:19:36 "
   ]
  },
  {
   "cell_type": "code",
   "execution_count": 1,
   "metadata": {
    "ExecuteTime": {
     "end_time": "2019-07-26T07:12:10.481226Z",
     "start_time": "2019-07-26T07:12:10.476075Z"
    }
   },
   "outputs": [],
   "source": [
    "# 全局变量定义部分\n",
    "\n",
    "# 库存（起始日期）导出文件名 🔔 \n",
    "START_FILE_NAME = '商品库存_2019-07-25_19-22-18.xlsx'\n",
    "\n",
    "# 库存（终止日期）导出文件名 🔔 \n",
    "END_FILE_NAME = '商品库存_2019-07-26_14-28-07.xlsx'\n",
    "\n",
    "# 预警数量（小于等于）阈值\n",
    "ALARM_QUANTITY = 10\n",
    "\n",
    "# 导出csv文件名（无需后缀名）\n",
    "EXPORT_ALARM_FILE_NAME = '商品库存预警报告'\n",
    "EXPORT_INBOUND_FILE_NAME = '商品库存增加提示'"
   ]
  },
  {
   "cell_type": "markdown",
   "metadata": {},
   "source": [
    "注：\n",
    "\n",
    "1. 以上部分除有 🔔 标志的部分外，其他部分日常均不需改动。\n",
    "\n",
    "\n",
    "2. 各部分改动后，须点击菜单项 **Cell / Run All** 重新运行一次，数据方可得到更新。\n",
    "\n",
    "3. 退出此小程序时，谨记点击菜单项 **File / Save and Checkpoint** 或 工具栏图标 <img src='jupyter_notebook_save.png' style='display: inline; vertical-align: bottom;'> 保存文件。\n",
    "\n",
    "\n",
    "4. 以下程序日常不需改动。"
   ]
  },
  {
   "cell_type": "code",
   "execution_count": 2,
   "metadata": {
    "ExecuteTime": {
     "end_time": "2019-07-26T07:12:10.550444Z",
     "start_time": "2019-07-26T07:12:10.511959Z"
    }
   },
   "outputs": [],
   "source": [
    "# 引入pandas数据分析模块\n",
    "import pandas as pd\n",
    "from datetime import date"
   ]
  },
  {
   "cell_type": "markdown",
   "metadata": {},
   "source": [
    "# 显示预警数据及生成预警报告"
   ]
  },
  {
   "cell_type": "code",
   "execution_count": 3,
   "metadata": {
    "ExecuteTime": {
     "end_time": "2019-07-26T07:12:11.170933Z",
     "start_time": "2019-07-26T07:12:10.552399Z"
    },
    "scrolled": false
   },
   "outputs": [
    {
     "data": {
      "text/html": [
       "<div>\n",
       "<style scoped>\n",
       "    .dataframe tbody tr th:only-of-type {\n",
       "        vertical-align: middle;\n",
       "    }\n",
       "\n",
       "    .dataframe tbody tr th {\n",
       "        vertical-align: top;\n",
       "    }\n",
       "\n",
       "    .dataframe thead th {\n",
       "        text-align: right;\n",
       "    }\n",
       "</style>\n",
       "<table border=\"1\" class=\"dataframe\">\n",
       "  <thead>\n",
       "    <tr style=\"text-align: right;\">\n",
       "      <th></th>\n",
       "      <th>数量_期初</th>\n",
       "      <th>数量_期末</th>\n",
       "    </tr>\n",
       "    <tr>\n",
       "      <th>商品编码</th>\n",
       "      <th></th>\n",
       "      <th></th>\n",
       "    </tr>\n",
       "  </thead>\n",
       "  <tbody>\n",
       "    <tr>\n",
       "      <th>HM0720-1038</th>\n",
       "      <td>12</td>\n",
       "      <td>6</td>\n",
       "    </tr>\n",
       "    <tr>\n",
       "      <th>HM0752-3140</th>\n",
       "      <td>23</td>\n",
       "      <td>4</td>\n",
       "    </tr>\n",
       "    <tr>\n",
       "      <th>HM0807-3543</th>\n",
       "      <td>11</td>\n",
       "      <td>10</td>\n",
       "    </tr>\n",
       "    <tr>\n",
       "      <th>HM0814X-3042</th>\n",
       "      <td>11</td>\n",
       "      <td>9</td>\n",
       "    </tr>\n",
       "    <tr>\n",
       "      <th>HM0816-1843</th>\n",
       "      <td>11</td>\n",
       "      <td>2</td>\n",
       "    </tr>\n",
       "    <tr>\n",
       "      <th>HM0823-2046</th>\n",
       "      <td>11</td>\n",
       "      <td>10</td>\n",
       "    </tr>\n",
       "    <tr>\n",
       "      <th>HM0902-1131</th>\n",
       "      <td>11</td>\n",
       "      <td>9</td>\n",
       "    </tr>\n",
       "  </tbody>\n",
       "</table>\n",
       "</div>"
      ],
      "text/plain": [
       "              数量_期初  数量_期末\n",
       "商品编码                      \n",
       "HM0720-1038      12      6\n",
       "HM0752-3140      23      4\n",
       "HM0807-3543      11     10\n",
       "HM0814X-3042     11      9\n",
       "HM0816-1843      11      2\n",
       "HM0823-2046      11     10\n",
       "HM0902-1131      11      9"
      ]
     },
     "execution_count": 3,
     "metadata": {},
     "output_type": "execute_result"
    }
   ],
   "source": [
    "# 读取库存（起始日期）导出文件\n",
    "start_df = pd.read_excel(START_FILE_NAME, usecols=['商品编码', '数量']).query('数量 > {}'.format(ALARM_QUANTITY)).groupby('商品编码').sum().sort_index()\n",
    "\n",
    "# 读取库存（终止日期）导出文件\n",
    "end_df = pd.read_excel(END_FILE_NAME, usecols=['商品编码', '数量']).query('数量 <= {}'.format(ALARM_QUANTITY)).groupby('商品编码').sum().sort_index()\n",
    "\n",
    "# 以交集方式合并表格\n",
    "result_df = end_df.merge(start_df, how='inner', left_on='商品编码', right_on='商品编码', suffixes=('_期末', '_期初'))[['数量_期初', '数量_期末']]\n",
    "\n",
    "# 导出csv文件\n",
    "result_df.to_csv('{0}_{1}.csv'.format(EXPORT_ALARM_FILE_NAME, str(date.today())))\n",
    "\n",
    "# 显示结果表格\n",
    "result_df"
   ]
  },
  {
   "cell_type": "markdown",
   "metadata": {},
   "source": [
    "# 显示库存增加数据及生成提示报告"
   ]
  },
  {
   "cell_type": "code",
   "execution_count": 4,
   "metadata": {
    "ExecuteTime": {
     "end_time": "2019-07-26T07:12:11.711918Z",
     "start_time": "2019-07-26T07:12:11.172725Z"
    },
    "scrolled": false
   },
   "outputs": [
    {
     "data": {
      "text/html": [
       "<div>\n",
       "<style scoped>\n",
       "    .dataframe tbody tr th:only-of-type {\n",
       "        vertical-align: middle;\n",
       "    }\n",
       "\n",
       "    .dataframe tbody tr th {\n",
       "        vertical-align: top;\n",
       "    }\n",
       "\n",
       "    .dataframe thead th {\n",
       "        text-align: right;\n",
       "    }\n",
       "</style>\n",
       "<table border=\"1\" class=\"dataframe\">\n",
       "  <thead>\n",
       "    <tr style=\"text-align: right;\">\n",
       "      <th></th>\n",
       "      <th>数量_期初</th>\n",
       "      <th>数量_期末</th>\n",
       "    </tr>\n",
       "    <tr>\n",
       "      <th>商品编码</th>\n",
       "      <th></th>\n",
       "      <th></th>\n",
       "    </tr>\n",
       "  </thead>\n",
       "  <tbody>\n",
       "    <tr>\n",
       "      <th>HM0720-1039</th>\n",
       "      <td>0</td>\n",
       "      <td>20</td>\n",
       "    </tr>\n",
       "    <tr>\n",
       "      <th>HM0720-136</th>\n",
       "      <td>0</td>\n",
       "      <td>34</td>\n",
       "    </tr>\n",
       "    <tr>\n",
       "      <th>HM0741-0238</th>\n",
       "      <td>0</td>\n",
       "      <td>23</td>\n",
       "    </tr>\n",
       "    <tr>\n",
       "      <th>HM0757-237</th>\n",
       "      <td>6</td>\n",
       "      <td>29</td>\n",
       "    </tr>\n",
       "  </tbody>\n",
       "</table>\n",
       "</div>"
      ],
      "text/plain": [
       "             数量_期初  数量_期末\n",
       "商品编码                     \n",
       "HM0720-1039      0     20\n",
       "HM0720-136       0     34\n",
       "HM0741-0238      0     23\n",
       "HM0757-237       6     29"
      ]
     },
     "execution_count": 4,
     "metadata": {},
     "output_type": "execute_result"
    }
   ],
   "source": [
    "# 读取库存（起始日期）导出文件\n",
    "start_df = pd.read_excel(START_FILE_NAME, usecols=['商品编码', '数量']).query('数量 <= {}'.format(ALARM_QUANTITY)).groupby('商品编码').sum().sort_index()\n",
    "\n",
    "# 读取库存（终止日期）导出文件\n",
    "end_df = pd.read_excel(END_FILE_NAME, usecols=['商品编码', '数量']).query('数量 > {}'.format(ALARM_QUANTITY)).groupby('商品编码').sum().sort_index()\n",
    "\n",
    "# 以交集方式合并表格\n",
    "result_df = end_df.merge(start_df, how='inner', left_on='商品编码', right_on='商品编码', suffixes=('_期末', '_期初'))[['数量_期初', '数量_期末']]\n",
    "\n",
    "# 导出csv文件\n",
    "result_df.to_csv('{0}_{1}.csv'.format(EXPORT_INBOUND_FILE_NAME, str(date.today())))\n",
    "\n",
    "# 显示结果表格\n",
    "result_df"
   ]
  }
 ],
 "metadata": {
  "kernelspec": {
   "display_name": "Python 3",
   "language": "python",
   "name": "python3"
  },
  "language_info": {
   "codemirror_mode": {
    "name": "ipython",
    "version": 3
   },
   "file_extension": ".py",
   "mimetype": "text/x-python",
   "name": "python",
   "nbconvert_exporter": "python",
   "pygments_lexer": "ipython3",
   "version": "3.7.3"
  },
  "latex_envs": {
   "LaTeX_envs_menu_present": true,
   "autoclose": false,
   "autocomplete": true,
   "bibliofile": "biblio.bib",
   "cite_by": "apalike",
   "current_citInitial": 1,
   "eqLabelWithNumbers": true,
   "eqNumInitial": 1,
   "hotkeys": {
    "equation": "Ctrl-E",
    "itemize": "Ctrl-I"
   },
   "labels_anchors": false,
   "latex_user_defs": false,
   "report_style_numbering": false,
   "user_envs_cfg": false
  },
  "toc": {
   "base_numbering": 1,
   "nav_menu": {},
   "number_sections": true,
   "sideBar": true,
   "skip_h1_title": false,
   "title_cell": "Table of Contents",
   "title_sidebar": "Contents",
   "toc_cell": false,
   "toc_position": {},
   "toc_section_display": true,
   "toc_window_display": false
  }
 },
 "nbformat": 4,
 "nbformat_minor": 2
}
