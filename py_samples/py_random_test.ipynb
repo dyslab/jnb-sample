{
 "cells": [
  {
   "cell_type": "markdown",
   "metadata": {},
   "source": [
    "# Random Number Functions Test"
   ]
  },
  {
   "cell_type": "markdown",
   "metadata": {},
   "source": [
    "## choice/shuffle/sample"
   ]
  },
  {
   "cell_type": "code",
   "execution_count": 1,
   "metadata": {
    "ExecuteTime": {
     "end_time": "2019-06-13T00:13:27.531370Z",
     "start_time": "2019-06-13T00:13:27.526019Z"
    }
   },
   "outputs": [
    {
     "name": "stdout",
     "output_type": "stream",
     "text": [
      "################# choice #################\n",
      "99\n",
      "99\n",
      "88\n",
      "################# shuffle #################\n",
      "[11, 22, 33, 44, 55, 66, 77, 88, 99]\n",
      "[77, 33, 66, 11, 44, 88, 22, 99, 55]\n",
      "################# sample #################\n",
      "[99, 33, 66, 55, 88]\n"
     ]
    }
   ],
   "source": [
    "import random\n",
    "\n",
    "t = [11, 22, 33, 44, 55, 66, 77, 88, 99]\n",
    "print('################# choice #################')\n",
    "print(random.choice(t))\n",
    "print(random.choice(t))\n",
    "print(random.choice(t))\n",
    "\n",
    "print('################# shuffle #################')\n",
    "print(t)\n",
    "random.shuffle(t)\n",
    "print(t)\n",
    "\n",
    "print('################# sample #################')\n",
    "print(random.sample(t, 5))"
   ]
  },
  {
   "cell_type": "markdown",
   "metadata": {},
   "source": [
    "## random/seed"
   ]
  },
  {
   "cell_type": "code",
   "execution_count": 2,
   "metadata": {
    "ExecuteTime": {
     "end_time": "2019-06-13T00:13:27.592603Z",
     "start_time": "2019-06-13T00:13:27.554482Z"
    }
   },
   "outputs": [
    {
     "name": "stdout",
     "output_type": "stream",
     "text": [
      "################# random #################\n",
      "0.5854644404667566\n",
      "0.45776319515637787\n",
      "0.4796777479608838\n",
      "################# seed #################\n",
      "0.3974888769814575\n",
      "0.3974888769814575\n",
      "0.3974888769814575\n"
     ]
    }
   ],
   "source": [
    "print('################# random #################')\n",
    "print(random.random())\n",
    "print(random.random())\n",
    "print(random.random())\n",
    "\n",
    "print('################# seed #################')\n",
    "random.seed(88)\n",
    "print(random.random())\n",
    "random.seed(88)\n",
    "print(random.random())\n",
    "random.seed(88)\n",
    "print(random.random())"
   ]
  },
  {
   "cell_type": "markdown",
   "metadata": {},
   "source": [
    "## randrange/randint/uniform"
   ]
  },
  {
   "cell_type": "code",
   "execution_count": 3,
   "metadata": {
    "ExecuteTime": {
     "end_time": "2019-06-13T00:13:27.642550Z",
     "start_time": "2019-06-13T00:13:27.594643Z"
    }
   },
   "outputs": [
    {
     "name": "stdout",
     "output_type": "stream",
     "text": [
      "################# randrange #################\n",
      "9\n",
      "10\n",
      "28\n",
      "################# randint #################\n",
      "12\n",
      "20\n",
      "10\n",
      "################# uniform #################\n",
      "15.2667187726826\n",
      "16.967267022119024\n",
      "18.52481218735721\n"
     ]
    }
   ],
   "source": [
    "print('################# randrange #################')\n",
    "print(random.randrange(0, 30, 3))\n",
    "print(random.randrange(0, 30, 2))\n",
    "print(random.randrange(0, 30, 1))\n",
    "\n",
    "print('################# randint #################')\n",
    "print(random.randint(10, 20))\n",
    "print(random.randint(10, 20))\n",
    "print(random.randint(10, 20))\n",
    "\n",
    "print('################# uniform #################')\n",
    "print(random.uniform(10,20))\n",
    "print(random.uniform(10,20))\n",
    "print(random.uniform(10,20))"
   ]
  },
  {
   "cell_type": "markdown",
   "metadata": {},
   "source": [
    "# Random Gadgets"
   ]
  },
  {
   "cell_type": "markdown",
   "metadata": {},
   "source": [
    "## Random Lowercase String"
   ]
  },
  {
   "cell_type": "code",
   "execution_count": 4,
   "metadata": {
    "ExecuteTime": {
     "end_time": "2019-06-13T00:13:27.705732Z",
     "start_time": "2019-06-13T00:13:27.644665Z"
    }
   },
   "outputs": [
    {
     "data": {
      "text/plain": [
       "'voehdw'"
      ]
     },
     "execution_count": 4,
     "metadata": {},
     "output_type": "execute_result"
    }
   ],
   "source": [
    "import random\n",
    "start = ord('a')\n",
    "end = ord('z')\n",
    "result = ''\n",
    "for i in range(6):\n",
    "    result += chr(random.randrange(start, end))\n",
    "result"
   ]
  },
  {
   "cell_type": "markdown",
   "metadata": {},
   "source": [
    "## Random String From Given Characters"
   ]
  },
  {
   "cell_type": "code",
   "execution_count": 5,
   "metadata": {
    "ExecuteTime": {
     "end_time": "2019-06-13T00:13:27.794071Z",
     "start_time": "2019-06-13T00:13:27.707715Z"
    }
   },
   "outputs": [
    {
     "data": {
      "text/plain": [
       "'iMlCAu'"
      ]
     },
     "execution_count": 5,
     "metadata": {},
     "output_type": "execute_result"
    }
   ],
   "source": [
    "import random\n",
    "seed = 'abcdefghijklmnopqrstuvwxyzABCDEFGHIJKLMNOPQRSTUVWXYZ0123456789'\n",
    "result = ''\n",
    "for i in range(6):\n",
    "    result += seed[random.randrange(0, len(seed))]\n",
    "result"
   ]
  },
  {
   "cell_type": "markdown",
   "metadata": {},
   "source": [
    "## Random Token String And Encrypted URL String"
   ]
  },
  {
   "cell_type": "code",
   "execution_count": 6,
   "metadata": {
    "ExecuteTime": {
     "end_time": "2019-06-13T00:13:27.858952Z",
     "start_time": "2019-06-13T00:13:27.796250Z"
    }
   },
   "outputs": [
    {
     "name": "stdout",
     "output_type": "stream",
     "text": [
      "32 bytes random token string: 4caa6727395c8e8513076e73d089c6c9e69e6cfdb5ac9a11d7b7b82f7a9a2772\n",
      "32 bytes random encrypted URL string:  CNljG9IGgzRC6Ms4D0S8GfeGFNi-QmrEFl6Y7alWmI0\n"
     ]
    }
   ],
   "source": [
    "import secrets\n",
    "print('32 bytes random token string: {}'.format(secrets.token_hex(32)))\n",
    "print('32 bytes random encrypted URL string:  {}'.format(secrets.token_urlsafe(32)))"
   ]
  },
  {
   "cell_type": "markdown",
   "metadata": {},
   "source": [
    "## 0-100 Random Number Guessing"
   ]
  },
  {
   "cell_type": "code",
   "execution_count": 7,
   "metadata": {
    "ExecuteTime": {
     "end_time": "2019-06-13T00:13:45.964502Z",
     "start_time": "2019-06-13T00:13:27.861341Z"
    }
   },
   "outputs": [
    {
     "name": "stdin",
     "output_type": "stream",
     "text": [
      "输入一个数（0-99）： 59\n"
     ]
    },
    {
     "name": "stdout",
     "output_type": "stream",
     "text": [
      "太小了😴  \n"
     ]
    },
    {
     "name": "stdin",
     "output_type": "stream",
     "text": [
      "输入一个数（0-99）： 77\n"
     ]
    },
    {
     "name": "stdout",
     "output_type": "stream",
     "text": [
      "太小了😑  \n"
     ]
    },
    {
     "name": "stdin",
     "output_type": "stream",
     "text": [
      "输入一个数（0-99）： 90\n"
     ]
    },
    {
     "name": "stdout",
     "output_type": "stream",
     "text": [
      "太大了🤔  \n"
     ]
    },
    {
     "name": "stdin",
     "output_type": "stream",
     "text": [
      "输入一个数（0-99）： 83\n"
     ]
    },
    {
     "name": "stdout",
     "output_type": "stream",
     "text": [
      "太小了😑  \n"
     ]
    },
    {
     "name": "stdin",
     "output_type": "stream",
     "text": [
      "输入一个数（0-99）： 88\n"
     ]
    },
    {
     "name": "stdout",
     "output_type": "stream",
     "text": [
      "太大了😪  \n"
     ]
    },
    {
     "name": "stdin",
     "output_type": "stream",
     "text": [
      "输入一个数（0-99）： 84\n"
     ]
    },
    {
     "name": "stdout",
     "output_type": "stream",
     "text": [
      "太小了😴  \n"
     ]
    },
    {
     "name": "stdin",
     "output_type": "stream",
     "text": [
      "输入一个数（0-99）： 86\n"
     ]
    },
    {
     "name": "stdout",
     "output_type": "stream",
     "text": [
      "太大了🤔  \n"
     ]
    },
    {
     "name": "stdin",
     "output_type": "stream",
     "text": [
      "输入一个数（0-99）： 85\n"
     ]
    },
    {
     "name": "stdout",
     "output_type": "stream",
     "text": [
      "你赢了！👋 👋 👋 \n"
     ]
    }
   ],
   "source": [
    "import random\n",
    "\n",
    "emojis = ['😪','😑','🤔','😴','😓']\n",
    "random_num = random.randint(0,100)\n",
    "your_num = -1\n",
    "while your_num != random_num:\n",
    "    if your_num != -1:\n",
    "        if your_num > random_num:\n",
    "            print('太大了{:<3}'.format(emojis[random.randint(0,len(emojis)-1)]))\n",
    "        else:\n",
    "            print('太小了{:<3}'.format(emojis[random.randint(0,len(emojis)-1)]))\n",
    "    your_num = int(input('输入一个数（0-99）：'))\n",
    "print('你赢了！👋 👋 👋 ')"
   ]
  }
 ],
 "metadata": {
  "kernelspec": {
   "display_name": "Python 3 (ipykernel)",
   "language": "python",
   "name": "python3"
  },
  "language_info": {
   "codemirror_mode": {
    "name": "ipython",
    "version": 3
   },
   "file_extension": ".py",
   "mimetype": "text/x-python",
   "name": "python",
   "nbconvert_exporter": "python",
   "pygments_lexer": "ipython3",
   "version": "3.11.6"
  },
  "latex_envs": {
   "LaTeX_envs_menu_present": true,
   "autoclose": false,
   "autocomplete": true,
   "bibliofile": "biblio.bib",
   "cite_by": "apalike",
   "current_citInitial": 1,
   "eqLabelWithNumbers": true,
   "eqNumInitial": 1,
   "hotkeys": {
    "equation": "Ctrl-E",
    "itemize": "Ctrl-I"
   },
   "labels_anchors": false,
   "latex_user_defs": false,
   "report_style_numbering": false,
   "user_envs_cfg": false
  },
  "toc": {
   "base_numbering": 1,
   "nav_menu": {},
   "number_sections": true,
   "sideBar": true,
   "skip_h1_title": false,
   "title_cell": "Table of Contents",
   "title_sidebar": "Contents",
   "toc_cell": false,
   "toc_position": {},
   "toc_section_display": true,
   "toc_window_display": false
  }
 },
 "nbformat": 4,
 "nbformat_minor": 4
}
