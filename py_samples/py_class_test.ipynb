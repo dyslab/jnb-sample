{
 "cells": [
  {
   "cell_type": "markdown",
   "metadata": {},
   "source": [
    "# Warehouse Class"
   ]
  },
  {
   "cell_type": "code",
   "execution_count": 1,
   "metadata": {
    "ExecuteTime": {
     "end_time": "2019-06-13T00:11:26.463679Z",
     "start_time": "2019-06-13T00:11:26.457568Z"
    }
   },
   "outputs": [],
   "source": [
    "class Warehouse:\n",
    "    __stock = {}\n",
    "\n",
    "    def __init__(self, product =None, quantity =None):\n",
    "        if (product is not None) and (quantity is not None):\n",
    "            self.inbound(product, quantity)\n",
    "\n",
    "    def inbound(self, product, quantity=0):\n",
    "        self.__stock[product] = quantity\n",
    "\n",
    "    def remove(self, product):\n",
    "        if product in self.__stock.keys():\n",
    "            self.__stock.pop(product)\n",
    "\n",
    "    def update(self, product, quantity):\n",
    "        if product in self.__stock.keys():\n",
    "            self.__stock[product] = quantity\n",
    "\n",
    "    def display(self):\n",
    "        print('product'.upper().ljust(20), 'quantity'.upper().rjust(20))\n",
    "        print(''.ljust(40, '-'))\n",
    "        for key, value in self.__stock.items():\n",
    "            print(str(key).ljust(20), str(value).rjust(20))"
   ]
  },
  {
   "cell_type": "markdown",
   "metadata": {},
   "source": [
    "# Warehouse Instance Application"
   ]
  },
  {
   "cell_type": "code",
   "execution_count": 2,
   "metadata": {
    "ExecuteTime": {
     "end_time": "2019-06-13T00:11:26.522810Z",
     "start_time": "2019-06-13T00:11:26.472613Z"
    }
   },
   "outputs": [
    {
     "name": "stdout",
     "output_type": "stream",
     "text": [
      "PRODUCT                          QUANTITY\n",
      "----------------------------------------\n",
      "hat                                   102\n",
      "冲锋枪                                    26\n",
      "goggles                                29\n",
      "dog                                    11\n",
      "\n",
      "PRODUCT                          QUANTITY\n",
      "----------------------------------------\n",
      "冲锋枪                                    26\n",
      "goggles                                17\n",
      "dog                                    11\n",
      "\n",
      "{'冲锋枪': 26, 'goggles': 17, 'dog': 11}\n"
     ]
    }
   ],
   "source": [
    "w = Warehouse()\n",
    "w.inbound('hat', 102)\n",
    "w.inbound('冲锋枪', 26)\n",
    "w.inbound('goggles', 29)\n",
    "w.inbound('dog', 11)\n",
    "w.display()\n",
    "\n",
    "print()\n",
    "\n",
    "w.remove('hat')\n",
    "w.update('goggles', 17)\n",
    "w.display()\n",
    "\n",
    "print()\n",
    "\n",
    "print(w._Warehouse__stock)"
   ]
  }
 ],
 "metadata": {
  "kernelspec": {
   "display_name": "Python 3 (ipykernel)",
   "language": "python",
   "name": "python3"
  },
  "language_info": {
   "codemirror_mode": {
    "name": "ipython",
    "version": 3
   },
   "file_extension": ".py",
   "mimetype": "text/x-python",
   "name": "python",
   "nbconvert_exporter": "python",
   "pygments_lexer": "ipython3",
   "version": "3.11.6"
  },
  "latex_envs": {
   "LaTeX_envs_menu_present": true,
   "autoclose": false,
   "autocomplete": true,
   "bibliofile": "biblio.bib",
   "cite_by": "apalike",
   "current_citInitial": 1,
   "eqLabelWithNumbers": true,
   "eqNumInitial": 1,
   "hotkeys": {
    "equation": "Ctrl-E",
    "itemize": "Ctrl-I"
   },
   "labels_anchors": false,
   "latex_user_defs": false,
   "report_style_numbering": false,
   "user_envs_cfg": false
  },
  "toc": {
   "base_numbering": 1,
   "nav_menu": {},
   "number_sections": true,
   "sideBar": true,
   "skip_h1_title": false,
   "title_cell": "Table of Contents",
   "title_sidebar": "Contents",
   "toc_cell": false,
   "toc_position": {},
   "toc_section_display": true,
   "toc_window_display": false
  }
 },
 "nbformat": 4,
 "nbformat_minor": 4
}
