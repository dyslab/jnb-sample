{
 "cells": [
  {
   "cell_type": "markdown",
   "metadata": {},
   "source": [
    "# 中国福利彩票双色球 China Union Lotto"
   ]
  },
  {
   "cell_type": "markdown",
   "metadata": {},
   "source": [
    "## 双色球组合公式：${C^{6}_{33}}\\times{C^{1}_{16}}$"
   ]
  },
  {
   "cell_type": "code",
   "execution_count": 1,
   "metadata": {
    "ExecuteTime": {
     "end_time": "2019-10-31T11:26:06.060362Z",
     "start_time": "2019-10-31T11:26:06.056071Z"
    }
   },
   "outputs": [
    {
     "name": "stdout",
     "output_type": "stream",
     "text": [
      "China Union Lotto(双色球)幸运机率为：1/17,721,088\n"
     ]
    }
   ],
   "source": [
    "total = 1\n",
    "\n",
    "for i in range(33-6+1, 34):\n",
    "    total *= i\n",
    "for i in range(1, 7):\n",
    "    total /= i\n",
    "\n",
    "total *= 16\n",
    "\n",
    "print('China Union Lotto(双色球)幸运机率为：1/{:,.0f}'.format(total))"
   ]
  },
  {
   "cell_type": "markdown",
   "metadata": {},
   "source": [
    "## 双色球幸运号码"
   ]
  },
  {
   "cell_type": "code",
   "execution_count": 2,
   "metadata": {
    "ExecuteTime": {
     "end_time": "2019-10-31T11:26:06.132997Z",
     "start_time": "2019-10-31T11:26:06.089088Z"
    }
   },
   "outputs": [
    {
     "name": "stdout",
     "output_type": "stream",
     "text": [
      "China Union Lotto(双色球)幸运号码（5组）🀄🀄🀄 \n",
      "\n",
      "红球：[1, 4, 6, 7, 10, 25]，蓝球：[11]\n",
      "红球：[1, 5, 19, 21, 30, 32]，蓝球：[13]\n",
      "红球：[2, 4, 5, 10, 18, 26]，蓝球：[10]\n",
      "红球：[2, 9, 11, 20, 27, 32]，蓝球：[5]\n",
      "红球：[2, 10, 15, 19, 27, 33]，蓝球：[8]\n",
      "\n"
     ]
    }
   ],
   "source": [
    "import numpy as np\n",
    "\n",
    "\n",
    "def ULuckyNumber():\n",
    "    reds = []\n",
    "    while len(reds) < 6:\n",
    "        red = np.random.randint(1, 34)\n",
    "        if not red in reds:\n",
    "            reds.append(red)\n",
    "    reds.sort()\n",
    "    blue = np.random.randint(1, 17, 1)\n",
    "    return '红球：{}，蓝球：{}'.format(reds, blue)\n",
    "\n",
    "\n",
    "results = ''\n",
    "for i in range(5):\n",
    "    results += ULuckyNumber() + '\\n'\n",
    "print('China Union Lotto(双色球)幸运号码（5组）🀄🀄🀄 \\n\\n{}'.format(results))"
   ]
  },
  {
   "cell_type": "markdown",
   "metadata": {},
   "source": [
    "# 中国体育彩票大乐透 Super Lotto"
   ]
  },
  {
   "cell_type": "markdown",
   "metadata": {},
   "source": [
    "## 大乐透组合公式：${C^{5}_{35}}\\times{C^{2}_{12}}$"
   ]
  },
  {
   "cell_type": "code",
   "execution_count": 3,
   "metadata": {
    "ExecuteTime": {
     "end_time": "2019-10-31T11:26:06.194998Z",
     "start_time": "2019-10-31T11:26:06.135187Z"
    }
   },
   "outputs": [
    {
     "name": "stdout",
     "output_type": "stream",
     "text": [
      "China Super Lotto(大乐透)幸运机率为：1/21,425,712\n"
     ]
    }
   ],
   "source": [
    "total = 1\n",
    "\n",
    "for i in range(35-5+1, 36):\n",
    "    total *= i\n",
    "for i in range(1, 6):\n",
    "    total /= i\n",
    "\n",
    "for i in range(12-2+1, 13):\n",
    "    total *= i\n",
    "for i in range(1, 3):\n",
    "    total /= i\n",
    "\n",
    "print('China Super Lotto(大乐透)幸运机率为：1/{:,.0f}'.format(total))"
   ]
  },
  {
   "cell_type": "markdown",
   "metadata": {},
   "source": [
    "# 大乐透幸运号码"
   ]
  },
  {
   "cell_type": "code",
   "execution_count": 4,
   "metadata": {
    "ExecuteTime": {
     "end_time": "2019-10-31T11:26:06.264574Z",
     "start_time": "2019-10-31T11:26:06.197201Z"
    }
   },
   "outputs": [
    {
     "name": "stdout",
     "output_type": "stream",
     "text": [
      "China Super Lotto(大乐透)幸运号码（5组）🀄🀄🀄 \n",
      "\n",
      "红球：[5, 6, 8, 10, 19]，蓝球：[3, 8]\n",
      "红球：[13, 25, 29, 33, 35]，蓝球：[3, 5]\n",
      "红球：[4, 8, 17, 19, 24]，蓝球：[3, 7]\n",
      "红球：[10, 18, 22, 26, 31]，蓝球：[2, 6]\n",
      "红球：[8, 18, 25, 27, 34]，蓝球：[2, 5]\n",
      "\n"
     ]
    }
   ],
   "source": [
    "import numpy as np\n",
    "\n",
    "\n",
    "def SLuckyNumber():\n",
    "    reds = []\n",
    "    while len(reds) < 5:\n",
    "        red = np.random.randint(1, 36)\n",
    "        if not red in reds:\n",
    "            reds.append(red)\n",
    "    reds.sort()\n",
    "\n",
    "    blues =[]\n",
    "    while len(blues) < 2:\n",
    "        blue = np.random.randint(1, 12)\n",
    "        if not blue in blues:\n",
    "            blues.append(blue)\n",
    "    blues.sort()\n",
    "    \n",
    "    return '红球：{}，蓝球：{}'.format(reds, blues)\n",
    "\n",
    "\n",
    "results = ''\n",
    "for i in range(5):\n",
    "    results += SLuckyNumber() + '\\n'\n",
    "print('China Super Lotto(大乐透)幸运号码（5组）🀄🀄🀄 \\n\\n{}'.format(results))"
   ]
  },
  {
   "cell_type": "markdown",
   "metadata": {},
   "source": [
    "# 香港六合彩 Mark Six Lottery"
   ]
  },
  {
   "cell_type": "markdown",
   "metadata": {},
   "source": [
    "## 六合彩组合公式：$C^{6}_{49}$"
   ]
  },
  {
   "cell_type": "code",
   "execution_count": 5,
   "metadata": {
    "ExecuteTime": {
     "end_time": "2019-10-31T11:26:06.351410Z",
     "start_time": "2019-10-31T11:26:06.269092Z"
    }
   },
   "outputs": [
    {
     "name": "stdout",
     "output_type": "stream",
     "text": [
      "Mark Six Lottery(六合彩)幸运机率为：1/83,902,896\n"
     ]
    }
   ],
   "source": [
    "total = 1\n",
    "\n",
    "for i in range(49-6+1, 50):\n",
    "    total *= i\n",
    "for i in range(1, 6):\n",
    "    total /= i\n",
    "\n",
    "print('Mark Six Lottery(六合彩)幸运机率为：1/{:,.0f}'.format(total))"
   ]
  }
 ],
 "metadata": {
  "kernelspec": {
   "display_name": "Python 3 (ipykernel)",
   "language": "python",
   "name": "python3"
  },
  "language_info": {
   "codemirror_mode": {
    "name": "ipython",
    "version": 3
   },
   "file_extension": ".py",
   "mimetype": "text/x-python",
   "name": "python",
   "nbconvert_exporter": "python",
   "pygments_lexer": "ipython3",
   "version": "3.11.6"
  },
  "latex_envs": {
   "LaTeX_envs_menu_present": true,
   "autoclose": false,
   "autocomplete": true,
   "bibliofile": "biblio.bib",
   "cite_by": "apalike",
   "current_citInitial": 1,
   "eqLabelWithNumbers": true,
   "eqNumInitial": 1,
   "hotkeys": {
    "equation": "Ctrl-E",
    "itemize": "Ctrl-I"
   },
   "labels_anchors": false,
   "latex_user_defs": false,
   "report_style_numbering": false,
   "user_envs_cfg": false
  },
  "toc": {
   "base_numbering": 1,
   "nav_menu": {},
   "number_sections": true,
   "sideBar": true,
   "skip_h1_title": false,
   "title_cell": "Table of Contents",
   "title_sidebar": "Contents",
   "toc_cell": false,
   "toc_position": {},
   "toc_section_display": true,
   "toc_window_display": false
  }
 },
 "nbformat": 4,
 "nbformat_minor": 4
}
