{
 "cells": [
  {
   "cell_type": "markdown",
   "metadata": {},
   "source": [
    "# Create a range list"
   ]
  },
  {
   "cell_type": "code",
   "execution_count": 1,
   "metadata": {
    "ExecuteTime": {
     "end_time": "2019-06-13T00:13:07.268654Z",
     "start_time": "2019-06-13T00:13:07.260912Z"
    }
   },
   "outputs": [
    {
     "data": {
      "text/plain": [
       "[11, 12, 13, 14, 15, 16, 17, 18, 19]"
      ]
     },
     "execution_count": 1,
     "metadata": {},
     "output_type": "execute_result"
    }
   ],
   "source": [
    "source = list(range(11, 20))\n",
    "source"
   ]
  },
  {
   "cell_type": "markdown",
   "metadata": {},
   "source": [
    "# Slice/Update list"
   ]
  },
  {
   "cell_type": "code",
   "execution_count": 2,
   "metadata": {
    "ExecuteTime": {
     "end_time": "2019-06-13T00:13:07.329526Z",
     "start_time": "2019-06-13T00:13:07.280196Z"
    }
   },
   "outputs": [
    {
     "name": "stdout",
     "output_type": "stream",
     "text": [
      "[56, 78]\n",
      "[12, 'ABC', 34, 56, 78, 90, 'abc', 77, 88, 99]\n",
      "[12, 'ABC', 78, 90, 'abc', 77, 88, 99]\n",
      "[12, 'ABC', 78, 90, 'abc', 77, 88]\n"
     ]
    }
   ],
   "source": [
    "source = [12, 34, 56, 78, 90]\n",
    "print(source[2:4])\n",
    "\n",
    "source.append('abc')\n",
    "source.insert(1, 'ABC')\n",
    "source.extend((77, 88, 99))\n",
    "print(source)\n",
    "\n",
    "del source[2:4]\n",
    "print(source)\n",
    "\n",
    "source.pop()\n",
    "print(source)"
   ]
  },
  {
   "cell_type": "markdown",
   "metadata": {},
   "source": [
    "# Sort list"
   ]
  },
  {
   "cell_type": "code",
   "execution_count": 3,
   "metadata": {
    "ExecuteTime": {
     "end_time": "2019-06-13T00:13:07.378721Z",
     "start_time": "2019-06-13T00:13:07.331684Z"
    }
   },
   "outputs": [
    {
     "name": "stdout",
     "output_type": "stream",
     "text": [
      "[5, 12, 14, 33, 33, 45, 83, 95, 123]\n"
     ]
    }
   ],
   "source": [
    "source = [12, 33, 45, 123, 14, 5, 33, 95, 83]\n",
    "print(sorted(source))"
   ]
  },
  {
   "cell_type": "markdown",
   "metadata": {},
   "source": [
    "# Enumerate list"
   ]
  },
  {
   "cell_type": "code",
   "execution_count": 4,
   "metadata": {
    "ExecuteTime": {
     "end_time": "2019-06-13T00:13:07.438263Z",
     "start_time": "2019-06-13T00:13:07.381532Z"
    }
   },
   "outputs": [
    {
     "name": "stdout",
     "output_type": "stream",
     "text": [
      "0. lab   |||   1. 老杜   |||   2. Willson   |||   "
     ]
    }
   ],
   "source": [
    "source = ['lab', '老杜', 'Willson']\n",
    "\n",
    "for index, item in enumerate(source):\n",
    "    print('{}. {}'.format(index, item), end='   |||   ')"
   ]
  },
  {
   "cell_type": "markdown",
   "metadata": {},
   "source": [
    "# Zip lists"
   ]
  },
  {
   "cell_type": "code",
   "execution_count": 5,
   "metadata": {
    "ExecuteTime": {
     "end_time": "2019-06-13T00:13:07.523780Z",
     "start_time": "2019-06-13T00:13:07.444567Z"
    }
   },
   "outputs": [
    {
     "name": "stdout",
     "output_type": "stream",
     "text": [
      "        老张： 70分\n",
      "        老杜： 80分\n",
      "        老李： 66分\n",
      "       老王头： 99分\n"
     ]
    }
   ],
   "source": [
    "names = ['老张', '老杜', '老李', '老王头']\n",
    "marks = [70, 80, 66, 99]\n",
    "\n",
    "for name, mark in zip(names, marks):\n",
    "    print('{}：{:>3}分'.format(name.rjust(10), mark))"
   ]
  }
 ],
 "metadata": {
  "kernelspec": {
   "display_name": "Python 3 (ipykernel)",
   "language": "python",
   "name": "python3"
  },
  "language_info": {
   "codemirror_mode": {
    "name": "ipython",
    "version": 3
   },
   "file_extension": ".py",
   "mimetype": "text/x-python",
   "name": "python",
   "nbconvert_exporter": "python",
   "pygments_lexer": "ipython3",
   "version": "3.11.6"
  },
  "latex_envs": {
   "LaTeX_envs_menu_present": true,
   "autoclose": false,
   "autocomplete": true,
   "bibliofile": "biblio.bib",
   "cite_by": "apalike",
   "current_citInitial": 1,
   "eqLabelWithNumbers": true,
   "eqNumInitial": 1,
   "hotkeys": {
    "equation": "Ctrl-E",
    "itemize": "Ctrl-I"
   },
   "labels_anchors": false,
   "latex_user_defs": false,
   "report_style_numbering": false,
   "user_envs_cfg": false
  },
  "toc": {
   "base_numbering": 1,
   "nav_menu": {},
   "number_sections": true,
   "sideBar": true,
   "skip_h1_title": false,
   "title_cell": "Table of Contents",
   "title_sidebar": "Contents",
   "toc_cell": false,
   "toc_position": {},
   "toc_section_display": true,
   "toc_window_display": false
  }
 },
 "nbformat": 4,
 "nbformat_minor": 4
}
