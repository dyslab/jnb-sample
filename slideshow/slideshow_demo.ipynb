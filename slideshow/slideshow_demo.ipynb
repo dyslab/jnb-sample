{
 "cells": [
  {
   "cell_type": "markdown",
   "metadata": {
    "ExecuteTime": {
     "end_time": "2019-05-29T08:23:04.344652Z",
     "start_time": "2019-05-29T08:23:04.335070Z"
    },
    "slideshow": {
     "slide_type": "slide"
    }
   },
   "source": [
    "# Slideshow Started. 幻灯片演示开始。"
   ]
  },
  {
   "cell_type": "markdown",
   "metadata": {
    "ExecuteTime": {
     "end_time": "2019-05-29T08:23:04.344652Z",
     "start_time": "2019-05-29T08:23:04.335070Z"
    },
    "slideshow": {
     "slide_type": "slide"
    }
   },
   "source": [
    "# NumPy的使用"
   ]
  },
  {
   "cell_type": "markdown",
   "metadata": {
    "slideshow": {
     "slide_type": "subslide"
    }
   },
   "source": [
    "## NumPy的使用（1）"
   ]
  },
  {
   "cell_type": "code",
   "execution_count": 1,
   "metadata": {
    "ExecuteTime": {
     "end_time": "2019-05-31T13:06:45.555984Z",
     "start_time": "2019-05-31T13:06:45.469202Z"
    },
    "slideshow": {
     "slide_type": "-"
    }
   },
   "outputs": [],
   "source": [
    "import numpy as np\n",
    "a = np.arange(18).reshape(3, 6)"
   ]
  },
  {
   "cell_type": "code",
   "execution_count": 2,
   "metadata": {
    "ExecuteTime": {
     "end_time": "2019-05-31T13:06:45.564392Z",
     "start_time": "2019-05-31T13:06:45.558711Z"
    },
    "slideshow": {
     "slide_type": "fragment"
    }
   },
   "outputs": [
    {
     "name": "stdout",
     "output_type": "stream",
     "text": [
      "a: [[ 0  1  2  3  4  5]\n",
      " [ 6  7  8  9 10 11]\n",
      " [12 13 14 15 16 17]]\n",
      "a.shape: (3, 6)\n",
      "a.ndim: 2\n",
      "a.dtype.name: int64\n"
     ]
    }
   ],
   "source": [
    "print(\"a: {0}\\na.shape: {1}\\na.ndim: {2}\\na.dtype.name: {3}\".format(\n",
    "    a, a.shape, a.ndim, a.dtype.name))"
   ]
  },
  {
   "cell_type": "code",
   "execution_count": 3,
   "metadata": {
    "ExecuteTime": {
     "end_time": "2019-05-31T13:06:45.617375Z",
     "start_time": "2019-05-31T13:06:45.566502Z"
    },
    "slideshow": {
     "slide_type": "fragment"
    }
   },
   "outputs": [
    {
     "name": "stdout",
     "output_type": "stream",
     "text": [
      "a.itemsize: 8\n",
      "a.size: 2\n",
      "type(a): <class 'numpy.ndarray'>\n"
     ]
    }
   ],
   "source": [
    "print(\"a.itemsize: {0}\\na.size: {1}\\ntype(a): {2}\".format(\n",
    "    a.itemsize, a.ndim, type(a)))"
   ]
  },
  {
   "cell_type": "code",
   "execution_count": 4,
   "metadata": {
    "ExecuteTime": {
     "end_time": "2019-05-31T13:06:45.673291Z",
     "start_time": "2019-05-31T13:06:45.619292Z"
    },
    "slideshow": {
     "slide_type": "fragment"
    }
   },
   "outputs": [
    {
     "name": "stdout",
     "output_type": "stream",
     "text": [
      "789\n"
     ]
    }
   ],
   "source": [
    "c = np.array([[234, 345], [678, 789]], dtype=np.int32)\n",
    "print(c[1][1])"
   ]
  },
  {
   "cell_type": "markdown",
   "metadata": {
    "slideshow": {
     "slide_type": "subslide"
    }
   },
   "source": [
    "## NumPy的使用（2）"
   ]
  },
  {
   "cell_type": "code",
   "execution_count": 5,
   "metadata": {
    "ExecuteTime": {
     "end_time": "2019-05-31T13:06:45.717523Z",
     "start_time": "2019-05-31T13:06:45.674713Z"
    },
    "slideshow": {
     "slide_type": "-"
    }
   },
   "outputs": [
    {
     "name": "stdout",
     "output_type": "stream",
     "text": [
      "[[7.58709883 6.13098369 9.71839353 2.44534459]\n",
      " [5.80304472 1.18632069 9.54735654 8.30985918]]\n"
     ]
    }
   ],
   "source": [
    "e = np.random.random([2, 4])\n",
    "e *= 10\n",
    "print(e)"
   ]
  },
  {
   "cell_type": "code",
   "execution_count": 6,
   "metadata": {
    "ExecuteTime": {
     "end_time": "2019-05-31T13:06:45.758435Z",
     "start_time": "2019-05-31T13:06:45.719649Z"
    },
    "slideshow": {
     "slide_type": "fragment"
    }
   },
   "outputs": [
    {
     "name": "stdout",
     "output_type": "stream",
     "text": [
      "e.min(): 1.1863206896094913\n",
      "e.max(): 9.71839353367671\n",
      "e.sum(): 50.7284017880836\n"
     ]
    }
   ],
   "source": [
    "print(\"e.min(): {0}\\ne.max(): {1}\\ne.sum(): {2}\".format(\n",
    "    e.min(), e.max(), e.sum()))"
   ]
  },
  {
   "cell_type": "code",
   "execution_count": 7,
   "metadata": {
    "ExecuteTime": {
     "end_time": "2019-05-31T13:06:45.817971Z",
     "start_time": "2019-05-31T13:06:45.760209Z"
    },
    "slideshow": {
     "slide_type": "fragment"
    }
   },
   "outputs": [
    {
     "name": "stdout",
     "output_type": "stream",
     "text": [
      "[[ 2  5  8]\n",
      " [ 3  9 11]]\n"
     ]
    }
   ],
   "source": [
    "m1 = np.arange(2, 11, 3)\n",
    "m2 = np.array([3, 9, 11])\n",
    "print(np.vstack([m1, m2]))"
   ]
  },
  {
   "cell_type": "code",
   "execution_count": 8,
   "metadata": {
    "ExecuteTime": {
     "end_time": "2019-05-31T13:06:45.864324Z",
     "start_time": "2019-05-31T13:06:45.820268Z"
    },
    "slideshow": {
     "slide_type": "fragment"
    }
   },
   "outputs": [
    {
     "name": "stdout",
     "output_type": "stream",
     "text": [
      "[ 2  5  8  3  9 11]\n"
     ]
    }
   ],
   "source": [
    "print(np.hstack([m1, m2]))"
   ]
  },
  {
   "cell_type": "markdown",
   "metadata": {
    "ExecuteTime": {
     "end_time": "2019-05-29T08:23:04.344652Z",
     "start_time": "2019-05-29T08:23:04.335070Z"
    },
    "slideshow": {
     "slide_type": "slide"
    }
   },
   "source": [
    "# Matplotlib的使用"
   ]
  },
  {
   "cell_type": "markdown",
   "metadata": {
    "slideshow": {
     "slide_type": "subslide"
    }
   },
   "source": [
    "## Matplotlib的使用（1）"
   ]
  },
  {
   "cell_type": "markdown",
   "metadata": {
    "ExecuteTime": {
     "end_time": "2019-05-31T11:40:18.380943Z",
     "start_time": "2019-05-31T11:40:18.372864Z"
    }
   },
   "source": [
    "引用包。注：官方推荐引用matplotlib.pyplot。原matplotlib.pylab因包含了NumPy包，容易导致包管理命名空间产生混乱，已被弃用。"
   ]
  },
  {
   "cell_type": "code",
   "execution_count": 9,
   "metadata": {
    "ExecuteTime": {
     "end_time": "2019-05-31T13:06:46.031085Z",
     "start_time": "2019-05-31T13:06:45.865713Z"
    },
    "slideshow": {
     "slide_type": "-"
    }
   },
   "outputs": [],
   "source": [
    "import matplotlib.pyplot as plt"
   ]
  },
  {
   "cell_type": "markdown",
   "metadata": {
    "slideshow": {
     "slide_type": "subslide"
    }
   },
   "source": [
    "## Matplotlib的使用（2）"
   ]
  },
  {
   "cell_type": "markdown",
   "metadata": {
    "ExecuteTime": {
     "end_time": "2019-05-31T11:40:18.380943Z",
     "start_time": "2019-05-31T11:40:18.372864Z"
    }
   },
   "source": [
    "此例为中文（含图例）的线性输出演示。"
   ]
  },
  {
   "cell_type": "code",
   "execution_count": 10,
   "metadata": {
    "ExecuteTime": {
     "end_time": "2019-05-31T13:06:46.359217Z",
     "start_time": "2019-05-31T13:06:46.032326Z"
    },
    "slideshow": {
     "slide_type": "-"
    }
   },
   "outputs": [
    {
     "data": {
      "image/png": "[encoded data removed]",
      "text/plain": [
       "<Figure size 432x288 with 1 Axes>"
      ]
     },
     "metadata": {
      "needs_background": "light"
     },
     "output_type": "display_data"
    }
   ],
   "source": [
    "x = np.linspace(0, 1, 100)\n",
    "plt.plot(x, x, label='$Y=X$')\n",
    "plt.plot(x, x**2, label='$Y=X^2$')\n",
    "plt.xlabel('X')\n",
    "plt.ylabel('Y')\n",
    "plt.title('中文Demo', fontproperties=\"Microsoft Yahei\")\n",
    "plt.legend()\n",
    "plt.show()"
   ]
  },
  {
   "cell_type": "markdown",
   "metadata": {
    "slideshow": {
     "slide_type": "subslide"
    }
   },
   "source": [
    "## Matplotlib的使用（3）"
   ]
  },
  {
   "cell_type": "markdown",
   "metadata": {
    "ExecuteTime": {
     "end_time": "2019-05-31T11:40:18.380943Z",
     "start_time": "2019-05-31T11:40:18.372864Z"
    }
   },
   "source": [
    "此例为正弦sin波型输出演示。"
   ]
  },
  {
   "cell_type": "code",
   "execution_count": 11,
   "metadata": {
    "ExecuteTime": {
     "end_time": "2019-05-31T13:06:46.509718Z",
     "start_time": "2019-05-31T13:06:46.360705Z"
    },
    "slideshow": {
     "slide_type": "-"
    }
   },
   "outputs": [
    {
     "data": {
      "image/png": "[encoded data removed]",
      "text/plain": [
       "<Figure size 432x288 with 1 Axes>"
      ]
     },
     "metadata": {
      "needs_background": "light"
     },
     "output_type": "display_data"
    }
   ],
   "source": [
    "x = np.linspace(0, np.pi * 2, 360)\n",
    "plt.plot(x, np.sin(x))\n",
    "plt.xlabel('Angel [rad]')\n",
    "plt.ylabel('sin(x)')\n",
    "plt.show()"
   ]
  },
  {
   "cell_type": "markdown",
   "metadata": {
    "slideshow": {
     "slide_type": "subslide"
    }
   },
   "source": [
    "## Matplotlib的使用（4）"
   ]
  },
  {
   "cell_type": "markdown",
   "metadata": {
    "ExecuteTime": {
     "end_time": "2019-05-31T12:39:09.066723Z",
     "start_time": "2019-05-31T12:39:09.062276Z"
    }
   },
   "source": [
    "此例为余弦cos波型（含网格线）输出演示。"
   ]
  },
  {
   "cell_type": "code",
   "execution_count": 12,
   "metadata": {
    "ExecuteTime": {
     "end_time": "2019-05-31T13:06:46.668680Z",
     "start_time": "2019-05-31T13:06:46.511210Z"
    },
    "slideshow": {
     "slide_type": "-"
    }
   },
   "outputs": [
    {
     "data": {
      "image/png": "[encoded data removed]",
      "text/plain": [
       "<Figure size 432x288 with 1 Axes>"
      ]
     },
     "metadata": {
      "needs_background": "light"
     },
     "output_type": "display_data"
    }
   ],
   "source": [
    "x = np.linspace(0, np.pi * 2, 360)\n",
    "plt.plot(x, np.cos(x))\n",
    "plt.xlabel('Angel [rad]')\n",
    "plt.ylabel('cos(x)')\n",
    "plt.grid(True)\n",
    "plt.show()"
   ]
  },
  {
   "cell_type": "markdown",
   "metadata": {
    "slideshow": {
     "slide_type": "subslide"
    }
   },
   "source": [
    "## Matplotlib的使用（5）"
   ]
  },
  {
   "cell_type": "markdown",
   "metadata": {
    "ExecuteTime": {
     "end_time": "2019-05-31T12:39:09.074376Z",
     "start_time": "2019-05-31T12:39:08.273Z"
    }
   },
   "source": [
    "此例为随机概率密度柱状图输出演示。"
   ]
  },
  {
   "cell_type": "code",
   "execution_count": 13,
   "metadata": {
    "ExecuteTime": {
     "end_time": "2019-05-31T13:06:46.944902Z",
     "start_time": "2019-05-31T13:06:46.670753Z"
    },
    "slideshow": {
     "slide_type": "-"
    }
   },
   "outputs": [
    {
     "data": {
      "image/png": "[encoded data removed]",
      "text/plain": [
       "<Figure size 432x288 with 1 Axes>"
      ]
     },
     "metadata": {
      "needs_background": "light"
     },
     "output_type": "display_data"
    }
   ],
   "source": [
    "mu, sigma = 1, 0.1\n",
    "v = np.random.normal(mu, sigma, 500)\n",
    "plt.hist(v, bins=100, density=1)\n",
    "plt.show()"
   ]
  },
  {
   "cell_type": "markdown",
   "metadata": {
    "slideshow": {
     "slide_type": "subslide"
    }
   },
   "source": [
    "## Matplotlib的使用（6）"
   ]
  },
  {
   "cell_type": "markdown",
   "metadata": {
    "ExecuteTime": {
     "end_time": "2019-05-31T12:39:09.074376Z",
     "start_time": "2019-05-31T12:39:08.273Z"
    }
   },
   "source": [
    "此例为随机概率密度线性输出演示。"
   ]
  },
  {
   "cell_type": "code",
   "execution_count": 14,
   "metadata": {
    "ExecuteTime": {
     "end_time": "2019-05-31T13:06:47.089911Z",
     "start_time": "2019-05-31T13:06:46.946459Z"
    },
    "slideshow": {
     "slide_type": "-"
    }
   },
   "outputs": [
    {
     "data": {
      "image/png": "[encoded data removed]",
      "text/plain": [
       "<Figure size 432x288 with 1 Axes>"
      ]
     },
     "metadata": {
      "needs_background": "light"
     },
     "output_type": "display_data"
    }
   ],
   "source": [
    "mu, sigma = 1, 0.1\n",
    "v = np.random.normal(mu, sigma, 500)\n",
    "(n, bins) = np.histogram(v, bins=100, density=True)\n",
    "plt.plot(0.5*(bins[1:]+bins[:-1]), n)\n",
    "plt.show()"
   ]
  },
  {
   "cell_type": "markdown",
   "metadata": {
    "slideshow": {
     "slide_type": "subslide"
    }
   },
   "source": [
    "## Matplotlib的使用（7）"
   ]
  },
  {
   "cell_type": "markdown",
   "metadata": {
    "ExecuteTime": {
     "end_time": "2019-05-31T12:39:09.077235Z",
     "start_time": "2019-05-31T12:39:08.299Z"
    }
   },
   "source": [
    "此例为散点图概率输出演示。"
   ]
  },
  {
   "cell_type": "code",
   "execution_count": 15,
   "metadata": {
    "ExecuteTime": {
     "end_time": "2019-05-31T13:06:47.247855Z",
     "start_time": "2019-05-31T13:06:47.092022Z"
    },
    "slideshow": {
     "slide_type": "-"
    }
   },
   "outputs": [
    {
     "data": {
      "image/png": "[encoded data removed]",
      "text/plain": [
       "<Figure size 432x288 with 1 Axes>"
      ]
     },
     "metadata": {
      "needs_background": "light"
     },
     "output_type": "display_data"
    }
   ],
   "source": [
    "x = np.random.normal(0, 1, 300)\n",
    "y = np.random.normal(0, 1, 300)\n",
    "plt.subplots(1, 1, sharey=True)\n",
    "plt.scatter(x, y)\n",
    "plt.grid(True)\n",
    "plt.show()"
   ]
  },
  {
   "cell_type": "markdown",
   "metadata": {
    "slideshow": {
     "slide_type": "slide"
    }
   },
   "source": [
    "# End of Slideshow Demo. 幻灯片演示结束。\n",
    "**Thank you! 谢谢！**"
   ]
  },
  {
   "cell_type": "markdown",
   "metadata": {},
   "source": [
    "<img src=\"../imgs/python_logo.svg\">"
   ]
  }
 ],
 "metadata": {
  "celltoolbar": "幻灯片",
  "kernelspec": {
   "display_name": "Python 3",
   "language": "python",
   "name": "python3"
  },
  "language_info": {
   "codemirror_mode": {
    "name": "ipython",
    "version": 3
   },
   "file_extension": ".py",
   "mimetype": "text/x-python",
   "name": "python",
   "nbconvert_exporter": "python",
   "pygments_lexer": "ipython3",
   "version": "3.6.8"
  },
  "toc": {
   "base_numbering": 1,
   "nav_menu": {},
   "number_sections": true,
   "sideBar": true,
   "skip_h1_title": false,
   "title_cell": "Table of Contents",
   "title_sidebar": "Contents",
   "toc_cell": false,
   "toc_position": {},
   "toc_section_display": true,
   "toc_window_display": false
  }
 },
 "nbformat": 4,
 "nbformat_minor": 2
}
