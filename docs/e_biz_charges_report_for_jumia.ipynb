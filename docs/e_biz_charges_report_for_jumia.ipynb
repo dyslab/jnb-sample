{
 "cells": [
  {
   "cell_type": "markdown",
   "metadata": {},
   "source": [
    "Doc title: **Cross-Border E-Business Platform Charges Report Series (Jumia)**\n",
    "\n",
    "Article notes: This is a series of document files for introducing the charges of various cross-border e-business platform. It is targeting on going to be a proper preparation for running business on these e-platforms and fits for newbies.\n",
    "\n",
    "文章备注：介绍目前主要跨境电商平台的运营收费。本篇介绍Jumia平台。\n",
    "\n",
    "Last modified date: 2019-08-09 16:35:25 "
   ]
  },
  {
   "cell_type": "markdown",
   "metadata": {},
   "source": [
    "# 平台简介 Brief Intro\n",
    "\n",
    "Jumia平台是一家专注于非洲市场的电商平台，其在非洲电商平台业务中目前几无对手。尽管相比起亚马逊、沃尔玛、阿里巴巴此类平台它还显得弱小，不过这两年，其一直被外媒评为具备发展潜力和创新性的互联网公司。其在2019年4月份登陆了纽约证券交易所，并有了“非洲亚马逊”的称号。\n",
    "\n",
    "据其官网介绍，Jumia电商生态业务目前覆盖23个国家，2015年进入中国开启国际业务。已开设9个国际站点：尼日利亚，肯尼亚，埃及，科特迪瓦，摩洛哥，加纳，喀麦隆，乌干达和南非。2018年一月，Jumia各平台月访问量总和首次超过1亿。\n",
    "\n",
    "在站点方面，Jumia采用的是与亚马逊相似的国家站点模式。对于中国卖家而言，目前开通了国际业务的站点为：尼日利亚、肯尼亚、埃及、摩洛哥、科特迪瓦。大部分中国卖家主要参与的是Jumia的尼日利亚站。"
   ]
  },
  {
   "cell_type": "markdown",
   "metadata": {},
   "source": [
    "# 费用介绍 Charges"
   ]
  },
  {
   "cell_type": "markdown",
   "metadata": {},
   "source": [
    "## 入驻费用\n",
    "\n",
    "Jumia平台目前入驻免费。需要注意的是，入驻过程中，在提交企业资料通过评审后，须先行参加卖家培训，培训结束后方可取得开店权限。"
   ]
  },
  {
   "cell_type": "markdown",
   "metadata": {},
   "source": [
    "## 佣金 Commission Fees\n",
    "\n",
    "Jumia的平台佣金分为电子产品和非电子产品两类，详细可见下表：\n",
    "\n",
    "![jumia_commission_rates.png](jumia_commission_rates.png)"
   ]
  },
  {
   "cell_type": "markdown",
   "metadata": {},
   "source": [
    "## 运费 Shipping Fees\n",
    "\n",
    "Jumia寄送货物给买家采用两种方式，分别为 **国际小包直邮** 和 **FBJ（Fulfillment By Jumia，海外仓模式）**  两种。"
   ]
  },
  {
   "cell_type": "markdown",
   "metadata": {},
   "source": [
    "### 国际小包直邮 Dropshipping Jumia/Postal Shipping （Wish平台国际物流小包唯一许可方式）\n",
    "\n",
    "国际小包直邮中，目前Jumia开通了两种方式，一种为Jumia通过自有物流渠道进行跨境运输和配送，称为 “Jumia专线直邮”（Dropshipping Jumia）。\n",
    "\n",
    "另一种方式为Jumia与其他邮政服务商合作，相比 “Jumia专线直邮” 价格更低的 “邮政小包”（Postal Shipping），其采用时效更长（30-60天）的运输方式，取消挂号和跟踪服务，价格更低的同时，丢件率也比较高（25%-35%）。只适合于一些成本较低的低值产品。另外，Jumia目前只开通尼日利亚和摩洛哥两个站点的邮政小包服务。\n",
    "\n",
    "因此，以 “Jumia直邮” 方式为例进行分析，其运费价格费率（及关税）如下：\n",
    "\n",
    "![jumia_country_duties.png](jumia_country_duties.png)\n",
    "\n",
    "另外，Jumia平台向卖家提供了一份定价参考公式，如下所示（最后一个数值为当地货币兑美元的固定费率）：\n",
    "\n",
    "![jumia_pricing_formula.png](jumia_pricing_formula.png)"
   ]
  },
  {
   "cell_type": "markdown",
   "metadata": {},
   "source": [
    "### FBJ仓储配送服务 Fulfillment by Jumia\n",
    "\n",
    "FBJ 简介： Fulfillment by Jumia 的简称，“由 Jumia 完成”， 即由 Jumia 当地仓库提供的代发货业务。目前 FBJ 只针对尼日利亚与科特迪瓦站点开放。 \n",
    "\n",
    "FBJ仓库无免费保管期，入仓后即开始收费，其仓储费用如下图所示：\n",
    "\n",
    "![jumia_fbj_storage_rates.png](jumia_fbj_storage_rates.png)\n",
    "\n",
    "FBJ发货要求需要注意以下几点：\n",
    "\n",
    "\n",
    "- 跨境物流由卖家自行负责，Jumia不负责FBJ的跨境运输服务。\n",
    "\n",
    "- 发货时，一个箱子内只能装1个SKU的产品。 \n",
    "\n",
    "- 货物到达目的国后，送仓前必须提前48-96个小时进行预约。\n",
    "\n",
    "- 货物存放有时限要求，不畅销的物品存放超过一定期限后将会要求卖家进行 RTV（Return To Vendor）退货 或 Jumia代表处理（折价销售 或 销毁）。\n",
    "\n",
    "\n",
    "在订单尾程配送方面，其价格与 “Jumia专线直邮”（Dropshipping Jumia） 相同，而相对与其成本较高的缺点来说，其好处在于配送到买家手里的时间能够有效缩短，这样有利于卖家店铺销量增长。"
   ]
  },
  {
   "cell_type": "markdown",
   "metadata": {},
   "source": [
    "# 推广费用 Promotion Fees\n",
    "\n",
    "Jumia推广商品主要模式包括如下几种：\n",
    "\n",
    "- Seller Coach商品优化推广\n",
    "\n",
    "- Mabaya付费广告推广\n",
    "\n",
    "- Vas-BI付费增值服务\n",
    "\n",
    "- 参加平台促销活动 Jumia Promotions\n",
    "\n",
    "- 社交媒体站外引流\n",
    "\n",
    "其中， Mabaya付费广告 推广类似于速卖通的直通车广告，需要在单独账户里充值使用，采用关键字竞拍的模式进行。\n",
    "\n",
    "Vas-BI付费增值服务 对Jumia的选品有所帮助，透过购买一段时间内Jumia平台内的最高销量产品来帮助选品。"
   ]
  },
  {
   "cell_type": "markdown",
   "metadata": {},
   "source": [
    "# 定价测算 Pricing Estimation\n",
    "\n",
    "Jumia的成本费用与其他电商平台相似，包括：出厂成本，运费，佣金，广告费（如有设置的话）\n",
    "\n",
    "为方便比较，以下测算基于目前Jumia平台最为主要的 **尼日利亚** 为测算目标，采用 **“Jumia专线直邮”（Dropshipping Jumia）** 模式发货，不考虑广告、退货及其他杂项费用："
   ]
  },
  {
   "cell_type": "code",
   "execution_count": 1,
   "metadata": {
    "ExecuteTime": {
     "end_time": "2019-08-09T08:35:37.849655Z",
     "start_time": "2019-08-09T08:35:37.846516Z"
    }
   },
   "outputs": [],
   "source": [
    "# 费用设置说明\n",
    "\n",
    "# 生产成本（人民币）\n",
    "RMB_COP = 20\n",
    "\n",
    "# 国内运费（人民币）\n",
    "RMB_DLC = 3\n",
    "\n",
    "# 跨境运费（以一对鞋平均约0.5kg计算）\n",
    "NG_CBS_SHIPPING = 7.8 * 0.5 * 370\n",
    "\n",
    "# 货币汇率（当地货币（固定费率） -> 美元 -> 人民币）\n",
    "NG_EXCHANGE_RATE = 6.5 / 370\n",
    "\n",
    "# 佣金费率\n",
    "CF_RATE = 0.1\n",
    "\n",
    "# 广告费均摊（不应用，以0计算）\n",
    "PBF_AVG = 0"
   ]
  },
  {
   "cell_type": "code",
   "execution_count": 2,
   "metadata": {
    "ExecuteTime": {
     "end_time": "2019-08-09T08:35:37.946596Z",
     "start_time": "2019-08-09T08:35:37.855583Z"
    },
    "scrolled": false
   },
   "outputs": [
    {
     "name": "stdout",
     "output_type": "stream",
     "text": [
      "Jumia计算结果如下：\n",
      "\n",
      "尼日利亚测算成本基础价：NGN$3058.03，约合人民币￥53.72。\n",
      "\n"
     ]
    }
   ],
   "source": [
    "# 成本价（零利润）计算\n",
    "# 公式： 成本基础价 = 生产成本 + 国内运费 + 跨境运费 + listing费用均摊 + 销售费 + 广告费\n",
    "\n",
    "print('Jumia计算结果如下：\\n')\n",
    "COST_NG = round(((RMB_COP + RMB_DLC) / NG_EXCHANGE_RATE + NG_CBS_SHIPPING + PBF_AVG) / (1 - CF_RATE), 2)\n",
    "print('尼日利亚测算成本基础价：NGN${:.2f}，约合人民币￥{:.2f}。\\n'.format(COST_NG, COST_NG * NG_EXCHANGE_RATE))"
   ]
  },
  {
   "cell_type": "markdown",
   "metadata": {},
   "source": [
    "<hr>"
   ]
  },
  {
   "cell_type": "markdown",
   "metadata": {},
   "source": [
    "# 几点想法 Thoughts Of Start"
   ]
  },
  {
   "cell_type": "markdown",
   "metadata": {},
   "source": [
    "（1）由于Jumia目前接入的ERP软件较少，因此管理订单一般通过在其后台管理中心中进行，这点较为不便。\n",
    "\n",
    "\n",
    "（2）对于产品上架要求，Jumia也推荐卖家对产品详情页面进行专门设计，这样有利于提高销售机会。\n",
    "\n",
    "\n",
    "（3）物流方面，FBJ仓储配送服务对于一般中小卖家而言，性价比较低，因此一般卖家均采用“Jumia专线直邮”（Dropshipping Jumia）方式进行发货。只有达到一定销量的卖家，才需要考虑是否需要 FBJ仓储配送服务 。 \n",
    "\n",
    "\n",
    "（4）客服方面，Jumia配有国外客服负责确认订单等一般客服工作，Jumia上的卖家正常来说只需关注订单的发货和订单履行事宜即可。"
   ]
  },
  {
   "cell_type": "markdown",
   "metadata": {},
   "source": [
    "# 附录：参考链接 References Links\n",
    "\n",
    "\n",
    "\n",
    "- [Jumia中国官方网站](https://www.jumiaasia.com.cn/)\n",
    "\n",
    "\n",
    "- [Jumia中国卖家入驻官方通道](https://www.jumiaasia.com.cn/?page_id=14252)\n",
    "\n",
    "\n",
    "- [Jumia中国卖家入驻流程说明](https://www.jumiaasia.com.cn/?page_id=15663)\n",
    "\n",
    "\n",
    "- [Jumia尼日利亚站前台首页](https://www.jumia.com.ng/)"
   ]
  },
  {
   "cell_type": "markdown",
   "metadata": {},
   "source": [
    "[返回目录](e_biz_charges_report_catalog.ipynb)"
   ]
  }
 ],
 "metadata": {
  "kernelspec": {
   "display_name": "Python 3",
   "language": "python",
   "name": "python3"
  },
  "language_info": {
   "codemirror_mode": {
    "name": "ipython",
    "version": 3
   },
   "file_extension": ".py",
   "mimetype": "text/x-python",
   "name": "python",
   "nbconvert_exporter": "python",
   "pygments_lexer": "ipython3",
   "version": "3.7.3"
  },
  "latex_envs": {
   "LaTeX_envs_menu_present": true,
   "autoclose": false,
   "autocomplete": true,
   "bibliofile": "biblio.bib",
   "cite_by": "apalike",
   "current_citInitial": 1,
   "eqLabelWithNumbers": true,
   "eqNumInitial": 1,
   "hotkeys": {
    "equation": "Ctrl-E",
    "itemize": "Ctrl-I"
   },
   "labels_anchors": false,
   "latex_user_defs": false,
   "report_style_numbering": false,
   "user_envs_cfg": false
  },
  "toc": {
   "base_numbering": 1,
   "nav_menu": {},
   "number_sections": true,
   "sideBar": true,
   "skip_h1_title": false,
   "title_cell": "Table of Contents",
   "title_sidebar": "Contents",
   "toc_cell": false,
   "toc_position": {},
   "toc_section_display": true,
   "toc_window_display": false
  }
 },
 "nbformat": 4,
 "nbformat_minor": 2
}
