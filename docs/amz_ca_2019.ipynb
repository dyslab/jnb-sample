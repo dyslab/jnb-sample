{
 "cells": [
  {
   "cell_type": "markdown",
   "metadata": {},
   "source": [
    "doc title: Amazon FBA商品成本分析 The Costs Analysis @FBA"
   ]
  },
  {
   "cell_type": "markdown",
   "metadata": {},
   "source": [
    "last modified date: 2019-07-06 00:48:44 "
   ]
  },
  {
   "cell_type": "markdown",
   "metadata": {},
   "source": [
    "# 直接成本构成 The Composition Of Items Costs"
   ]
  },
  {
   "cell_type": "markdown",
   "metadata": {
    "ExecuteTime": {
     "end_time": "2019-07-05T20:11:34.118482Z",
     "start_time": "2019-07-05T20:11:34.115580Z"
    }
   },
   "source": [
    "以下计算主要以美国FBA为例。"
   ]
  },
  {
   "cell_type": "markdown",
   "metadata": {},
   "source": [
    "## 第一阶段，由出厂到目的国的固定成本 1st Stage, Fixed Costs Of Items From Factory To Destination FBA Warehouse"
   ]
  },
  {
   "cell_type": "markdown",
   "metadata": {},
   "source": [
    "### 生产成本 Costs Of Production"
   ]
  },
  {
   "cell_type": "markdown",
   "metadata": {
    "ExecuteTime": {
     "end_time": "2019-07-05T20:11:08.386870Z",
     "start_time": "2019-07-05T20:11:08.382301Z"
    }
   },
   "source": [
    "每双鞋的生产出货成本。"
   ]
  },
  {
   "cell_type": "code",
   "execution_count": 18,
   "metadata": {
    "ExecuteTime": {
     "end_time": "2019-07-05T20:12:49.918935Z",
     "start_time": "2019-07-05T20:12:49.916907Z"
    },
    "scrolled": true
   },
   "outputs": [],
   "source": [
    "# 人民币（元）。\n",
    "RMB_COP = 20"
   ]
  },
  {
   "cell_type": "markdown",
   "metadata": {},
   "source": [
    "### 头程运费 Head Freight Rates of Cross-border Cargo Shipping"
   ]
  },
  {
   "cell_type": "markdown",
   "metadata": {},
   "source": [
    "#### 国内运费 Part 1: Domestic Shipping Charges"
   ]
  },
  {
   "cell_type": "markdown",
   "metadata": {},
   "source": [
    "由产地运输到跨境货代集货仓的运费。"
   ]
  },
  {
   "cell_type": "code",
   "execution_count": 19,
   "metadata": {
    "ExecuteTime": {
     "end_time": "2019-07-05T20:12:50.084916Z",
     "start_time": "2019-07-05T20:12:50.082095Z"
    }
   },
   "outputs": [],
   "source": [
    "# 目前发往美国FBA的货物主要发往广州（国内物流方式：零担），均摊约为0.2元/双，\n",
    "# 发往英国FBA的货物主要发往深圳（国内物流方式：快递），均摊约为0.5元/双。\n",
    "# 人民币（元）。\n",
    "RMB_DSC = 0.2"
   ]
  },
  {
   "cell_type": "markdown",
   "metadata": {},
   "source": [
    "#### 跨境货运费 Part 2: Cross-border Shipping Charges"
   ]
  },
  {
   "cell_type": "markdown",
   "metadata": {},
   "source": [
    "由跨境货代集货仓运输至目的地FBA仓库的运费。"
   ]
  },
  {
   "cell_type": "code",
   "execution_count": 20,
   "metadata": {
    "ExecuteTime": {
     "end_time": "2019-07-05T20:12:50.209872Z",
     "start_time": "2019-07-05T20:12:50.203340Z"
    }
   },
   "outputs": [],
   "source": [
    "# 目前发往美国FBA的货物主要发往美东地区（物流方式：海运双清），均摊约为5.8元/双。\n",
    "# 英国FBA（物流方式：海运不含税），均摊约为4.5元/双。\n",
    "# 人民币（元）。\n",
    "RMB_CSC = 5.8"
   ]
  },
  {
   "cell_type": "markdown",
   "metadata": {},
   "source": [
    "### 附加成本1：欧洲及英国的进口关税和VAT商品增值税 Affix Rates 1. Tariff and Imported VAT @EU & Britain"
   ]
  },
  {
   "cell_type": "markdown",
   "metadata": {},
   "source": [
    "目前英国及欧盟地区对VAT税收管理较严，同时因欧盟各国对亚马逊实施偷税及反垄断调查，亚马逊在税务方面要求也愈加严格。通过税号填写，向HMRC UK开放后台报表及IEN号码查询，目前大部分英国货代已不建议采用以往双清到门的包税渠道发货。\n",
    "\n",
    "因货代已申明因包税渠道造成的可能税务罚款和亚马逊责任均由发货人和买家自行负责，因此目前发往英国FBA货物已全部改为以自身VAT号报税的不含税渠道。\n",
    "\n",
    "美国采用双清渠道，目前无此费用。"
   ]
  },
  {
   "cell_type": "code",
   "execution_count": 21,
   "metadata": {
    "ExecuteTime": {
     "end_time": "2019-07-05T20:12:50.332619Z",
     "start_time": "2019-07-05T20:12:50.327342Z"
    }
   },
   "outputs": [],
   "source": [
    "# 英国进口税包括：\n",
    "#     1. 欧盟经济区外第三国关税税率13%，\n",
    "#     2. 进口货物VAT 20%，\n",
    "#     3. 税率计算按申报价值+运杂费为基准数。\n",
    "# 目前发往国外FBA的货物申报价值均为USD$2美元/双。实缴均摊约为6.5元/双。\n",
    "# 人民币（元）。\n",
    "RMB_IMPORTED_TAX = 6.5"
   ]
  },
  {
   "cell_type": "code",
   "execution_count": 22,
   "metadata": {
    "ExecuteTime": {
     "end_time": "2019-07-05T20:12:50.394085Z",
     "start_time": "2019-07-05T20:12:50.337595Z"
    }
   },
   "outputs": [],
   "source": [
    "# 第一阶段成本合计如下：\n",
    "# 人民币（元）。\n"
   ]
  },
  {
   "cell_type": "markdown",
   "metadata": {},
   "source": [
    "## 第二阶段，目的国FBA的固定销售成本 2nd Stage, The Outlay of Sales Costs by FBA @Destination"
   ]
  },
  {
   "cell_type": "markdown",
   "metadata": {},
   "source": [
    "### FBA入库安置费 Inbound Settlement Charges"
   ]
  },
  {
   "cell_type": "markdown",
   "metadata": {},
   "source": [
    "### FBA仓储费 Storage Fees"
   ]
  },
  {
   "cell_type": "markdown",
   "metadata": {},
   "source": [
    "### FBA尾程配送费 Tail Feright Rates by FBA"
   ]
  },
  {
   "cell_type": "markdown",
   "metadata": {},
   "source": [
    "### 附加成本２：欧洲及英国的销售VAT商品增值税 Affix Rates 2. Sales VAT @EU & Britain"
   ]
  },
  {
   "cell_type": "markdown",
   "metadata": {},
   "source": [
    "# 间接成本构成：Amazon平台的各项消费支出　The Composition Of Indirect Costs: Consumption And Expenditure @Amazon"
   ]
  },
  {
   "cell_type": "markdown",
   "metadata": {},
   "source": [
    "## 平台订阅费用 Monthly Subscrption Fees"
   ]
  },
  {
   "cell_type": "markdown",
   "metadata": {},
   "source": [
    "## 广告费用 Ads Investment"
   ]
  },
  {
   "cell_type": "markdown",
   "metadata": {},
   "source": [
    "## 退货费用 Charges Of Returns"
   ]
  },
  {
   "cell_type": "markdown",
   "metadata": {},
   "source": [
    "## 其他费用 Other Costs"
   ]
  },
  {
   "cell_type": "markdown",
   "metadata": {},
   "source": [
    "### 公司管理费用 Administration Fees"
   ]
  },
  {
   "cell_type": "markdown",
   "metadata": {},
   "source": [
    "### 财务支出 Financial Charges"
   ]
  },
  {
   "cell_type": "markdown",
   "metadata": {},
   "source": [
    "### 汇损 Exchange loss"
   ]
  }
 ],
 "metadata": {
  "kernelspec": {
   "display_name": "Python 3",
   "language": "python",
   "name": "python3"
  },
  "language_info": {
   "codemirror_mode": {
    "name": "ipython",
    "version": 3
   },
   "file_extension": ".py",
   "mimetype": "text/x-python",
   "name": "python",
   "nbconvert_exporter": "python",
   "pygments_lexer": "ipython3",
   "version": "3.7.3"
  },
  "latex_envs": {
   "LaTeX_envs_menu_present": true,
   "autoclose": false,
   "autocomplete": true,
   "bibliofile": "biblio.bib",
   "cite_by": "apalike",
   "current_citInitial": 1,
   "eqLabelWithNumbers": true,
   "eqNumInitial": 1,
   "hotkeys": {
    "equation": "Ctrl-E",
    "itemize": "Ctrl-I"
   },
   "labels_anchors": false,
   "latex_user_defs": false,
   "report_style_numbering": false,
   "user_envs_cfg": false
  },
  "toc": {
   "base_numbering": 1,
   "nav_menu": {},
   "number_sections": true,
   "sideBar": true,
   "skip_h1_title": false,
   "title_cell": "Table of Contents",
   "title_sidebar": "Contents",
   "toc_cell": false,
   "toc_position": {},
   "toc_section_display": true,
   "toc_window_display": false
  }
 },
 "nbformat": 4,
 "nbformat_minor": 2
}
