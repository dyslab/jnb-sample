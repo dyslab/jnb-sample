{
 "cells": [
  {
   "cell_type": "markdown",
   "metadata": {},
   "source": [
    "Doc title: Amazon FBA商品成本分析 The Costs Analysis @FBA\n",
    "\n",
    "Last modified date: 2019-07-08 22:37:23 "
   ]
  },
  {
   "cell_type": "markdown",
   "metadata": {},
   "source": [
    "# 直接成本构成 The Composition Of Items Costs"
   ]
  },
  {
   "cell_type": "markdown",
   "metadata": {},
   "source": [
    "**注：以下成本及毛利分析均以FBA发货商品为测算对象**"
   ]
  },
  {
   "cell_type": "markdown",
   "metadata": {},
   "source": [
    "## 第一阶段，由出厂到目的国的固定成本 1st Stage, Fixed Costs Of Items From Factory To Destination FBA Warehouse"
   ]
  },
  {
   "cell_type": "markdown",
   "metadata": {},
   "source": [
    "### 生产成本 Costs Of Production"
   ]
  },
  {
   "cell_type": "markdown",
   "metadata": {
    "ExecuteTime": {
     "end_time": "2019-07-05T20:11:08.386870Z",
     "start_time": "2019-07-05T20:11:08.382301Z"
    }
   },
   "source": [
    "每双鞋的生产出货成本。"
   ]
  },
  {
   "cell_type": "code",
   "execution_count": 260,
   "metadata": {
    "ExecuteTime": {
     "end_time": "2019-07-08T14:36:54.359216Z",
     "start_time": "2019-07-08T14:36:54.356391Z"
    },
    "scrolled": true
   },
   "outputs": [],
   "source": [
    "# 人民币（元）。\n",
    "RMB_COP = 20"
   ]
  },
  {
   "cell_type": "markdown",
   "metadata": {},
   "source": [
    "### 头程运费 Head Freight Rates of Cross-border Cargo Shipping"
   ]
  },
  {
   "cell_type": "markdown",
   "metadata": {},
   "source": [
    "#### 国内运费 Part 1: Domestic Shipping Charges"
   ]
  },
  {
   "cell_type": "markdown",
   "metadata": {},
   "source": [
    "由产地运输到跨境货代集货仓的运费。"
   ]
  },
  {
   "cell_type": "code",
   "execution_count": 261,
   "metadata": {
    "ExecuteTime": {
     "end_time": "2019-07-08T14:36:54.564670Z",
     "start_time": "2019-07-08T14:36:54.561689Z"
    }
   },
   "outputs": [],
   "source": [
    "# 目前发往美国FBA的货物主要发往广州（国内物流方式：零担），均摊约为0.2元/双，\n",
    "# 发往英国FBA的货物主要发往深圳（国内物流方式：快递），均摊约为0.5元/双。\n",
    "# 人民币（元）。\n",
    "RMB_DSC_US = 0.2\n",
    "RMB_DSC_UK = 0.5"
   ]
  },
  {
   "cell_type": "markdown",
   "metadata": {},
   "source": [
    "#### 跨境货运费 Part 2: Cross-border Shipping Charges"
   ]
  },
  {
   "cell_type": "markdown",
   "metadata": {},
   "source": [
    "由跨境货代集货仓运输至目的地FBA仓库的运费。"
   ]
  },
  {
   "cell_type": "code",
   "execution_count": 262,
   "metadata": {
    "ExecuteTime": {
     "end_time": "2019-07-08T14:36:54.707022Z",
     "start_time": "2019-07-08T14:36:54.702195Z"
    }
   },
   "outputs": [],
   "source": [
    "# 目前发往美国FBA的货物主要发往美东地区（物流方式：海运双清），均摊约为5.8元/双。\n",
    "# 英国FBA（物流方式：海运不含税），均摊约为4.5元/双。\n",
    "# 人民币（元）。\n",
    "RMB_CSC_US = 5.8\n",
    "RMB_CSC_UK = 4.5"
   ]
  },
  {
   "cell_type": "markdown",
   "metadata": {},
   "source": [
    "### 附加成本1：欧洲及英国的进口关税和VAT商品增值税 Affix Rates 1. Tariff and Imported VAT @EU & Britain"
   ]
  },
  {
   "cell_type": "markdown",
   "metadata": {},
   "source": [
    "目前英国及欧盟地区对VAT税收管理较严，同时因欧盟各国对亚马逊实施偷税及反垄断调查，亚马逊在税务方面要求也愈加严格。通过税号填写，向HMRC UK开放后台报表及IEN号码查询，目前大部分英国货代已不建议采用以往双清到门的包税渠道发货。\n",
    "\n",
    "因货代已申明因包税渠道造成的可能税务罚款和亚马逊责任均由发货人和买家自行负责，因此目前发往英国FBA货物已全部改为以自身VAT号报税的不含税渠道。\n",
    "\n",
    "美国采用双清渠道，目前无此费用。"
   ]
  },
  {
   "cell_type": "code",
   "execution_count": 263,
   "metadata": {
    "ExecuteTime": {
     "end_time": "2019-07-08T14:36:54.846539Z",
     "start_time": "2019-07-08T14:36:54.843717Z"
    }
   },
   "outputs": [],
   "source": [
    "# 英国及欧盟经济体进口税包括：\n",
    "#     1. 欧盟经济区外第三国关税税率17%，\n",
    "#     2. 各国VAT（英国：20%，德国：19%，法国：20%，意大利：22%，西班牙：21%）\n",
    "#     3. 进口货物税率计算按申报价值+运杂费为基准数。\n",
    "# 目前发往国外FBA的货物申报价值均为USD$2美元/双。实缴均摊约为6.5元/双。\n",
    "# 人民币（元）。\n",
    "RMB_IMPORTED_TAX_UK = 6.5"
   ]
  },
  {
   "cell_type": "code",
   "execution_count": 264,
   "metadata": {
    "ExecuteTime": {
     "end_time": "2019-07-08T14:36:54.903485Z",
     "start_time": "2019-07-08T14:36:54.852410Z"
    }
   },
   "outputs": [
    {
     "name": "stdout",
     "output_type": "stream",
     "text": [
      "美国第一阶段合计成本：26.0元。\n",
      "英国第一阶段合计成本：31.5元。\n"
     ]
    }
   ],
   "source": [
    "# 第一阶段成本合计如下：\n",
    "# 人民币（元）。\n",
    "S1_SUM_US = RMB_COP + RMB_DSC_US + RMB_CSC_US                         # 美国\n",
    "S1_SUM_UK = RMB_COP + RMB_DSC_UK + RMB_CSC_UK + RMB_IMPORTED_TAX_UK   # 英国\n",
    "\n",
    "print('美国第一阶段合计成本：{0}元。'.format(S1_SUM_US))\n",
    "print('英国第一阶段合计成本：{0}元。'.format(S1_SUM_UK))"
   ]
  },
  {
   "cell_type": "markdown",
   "metadata": {},
   "source": [
    "## 第二阶段，目的国FBA的固定销售成本 2nd Stage, The Outlay of Sales Costs by FBA @Destination"
   ]
  },
  {
   "cell_type": "markdown",
   "metadata": {},
   "source": [
    "以下部分支出发生在国外，因此均已当地货币计价后换算人民币。"
   ]
  },
  {
   "cell_type": "code",
   "execution_count": 265,
   "metadata": {
    "ExecuteTime": {
     "end_time": "2019-07-08T14:36:54.996028Z",
     "start_time": "2019-07-08T14:36:54.991479Z"
    }
   },
   "outputs": [],
   "source": [
    "# 美元采用汇率为6.5。2019年7月份美元实际汇率为6.8左右。\n",
    "EXCHANGE_RATE_USD = 6.5\n",
    "\n",
    "# 英镑采用汇率为8。2019年7月份英镑实际汇率为8.6左右。\n",
    "EXCHANGE_RATE_GBP = 8\n",
    "\n",
    "# 欧元采用汇率为7.7。2019年7月份欧元实际汇率为7.7左右。\n",
    "EXCHANGE_RATE_EUR = 7.7"
   ]
  },
  {
   "cell_type": "markdown",
   "metadata": {},
   "source": [
    "### FBA入库配置费 Inbound Settlement Charges"
   ]
  },
  {
   "cell_type": "markdown",
   "metadata": {},
   "source": [
    "根据亚马逊所述，入库配置费是针对货物最终发往不同FBA运营中心，为方便卖家统一发货，将同批次货物发到同一收货中心，再由亚马逊自行配送到不同运营中心所收取的服务费用。入库配置费的实际费用是结合体积与重量进行计算。\n",
    "\n",
    "按照亚马逊标准尺寸产品，1-2磅重的货物在美国FBA收费标准为USD$0.3-0.4美元/件。\n",
    "\n",
    "而英国和欧洲国家面积不大，目前尚未发现有此类收费。"
   ]
  },
  {
   "cell_type": "code",
   "execution_count": 266,
   "metadata": {
    "ExecuteTime": {
     "end_time": "2019-07-08T14:36:55.142654Z",
     "start_time": "2019-07-08T14:36:55.139934Z"
    }
   },
   "outputs": [],
   "source": [
    "# 美国计算取均值为USD$0.35美元/件。\n",
    "ISC_USD = 0.35"
   ]
  },
  {
   "cell_type": "markdown",
   "metadata": {},
   "source": [
    "### FBA仓储费 Storage Fees"
   ]
  },
  {
   "cell_type": "markdown",
   "metadata": {},
   "source": [
    "FBA仓储费属于一项变动开支，其计算因素包括：库存数量，体积大小，存放时间，存放时期，按月度计算，每月的 7 日到 15 日之间收取上个月的月度库存仓储费。\n",
    "\n",
    "\n",
    "\n",
    "美国收费2019年实施标准如下：（标准尺寸分类）\n",
    "\n",
    "- 1 月 - 9 月： 每立方英尺 $0.69\n",
    "\n",
    "- 10 月 - 12 月： 每立方英尺 $2.40\n",
    "\n",
    "*（注意:美国2019年标准中，10-12月的仓储费率是1-9月的仓储费率约3.5倍）*\n",
    "\n",
    "\n",
    "\n",
    "英国及欧洲地区收费自2019年4月1日实施标准如下：（服装、鞋靴和箱包分类）\n",
    "\n",
    "英国（按每月的平均每日储存量计算，以立方英尺为单位）\n",
    "\n",
    "- 1 月 - 9 月： £0.39\n",
    "\n",
    "- 10 月 - 12 月： £0.55\n",
    "\n",
    "德国、法国、意大利、西班牙（按每月的平均每日储存量计算，以立方米为单位）\n",
    "\n",
    "- 1 月 - 9 月： €15.60\n",
    "\n",
    "- 10 月 - 12 月： €21.60"
   ]
  },
  {
   "cell_type": "code",
   "execution_count": 267,
   "metadata": {
    "ExecuteTime": {
     "end_time": "2019-07-08T14:36:55.303474Z",
     "start_time": "2019-07-08T14:36:55.295281Z"
    }
   },
   "outputs": [
    {
     "name": "stdout",
     "output_type": "stream",
     "text": [
      "美国3个月每对鞋平均仓储费：0.21美元。\n",
      "英国3个月每对鞋平均仓储费：0.12英镑。\n"
     ]
    }
   ],
   "source": [
    "# 按照亚马逊建议的3个月存储期作为平均仓储成本计算。\n",
    "# 鞋子以每对0.1立方英尺（实际约为0.07-0.11之间）计算。\n",
    "SF_USD = (0.69 * 0.1) * 3   # 美国\n",
    "SF_GBP = (0.39 * 0.1) * 3   # 英国\n",
    "\n",
    "print('美国3个月每对鞋平均仓储费：{0:.2f}美元。'.format(SF_USD))\n",
    "print('英国3个月每对鞋平均仓储费：{0:.2f}英镑。'.format(SF_GBP))"
   ]
  },
  {
   "cell_type": "markdown",
   "metadata": {},
   "source": [
    "### 长期仓储费LTSF Long Term Storage Fees"
   ]
  },
  {
   "cell_type": "markdown",
   "metadata": {},
   "source": [
    "长期仓储费2019年起按如下要求实施：\n",
    "\n",
    "- 按月评估，按月收费\n",
    "\n",
    "- 每月 15 日进行库存清点计算。\n",
    "\n",
    "\n",
    "美国2019年2月15日起实施的LTSF费用标准：\n",
    "\n",
    "每月 15 日，亚马逊物流 (FBA) 会进行库存清点。我们将按每立方英尺`$6.90`的标准对已在美国运营中心存放超过 365 天的库存收取长期仓储费 (LTSF)，或每件收取`$0.15`的长期仓储费（以较大值为准）。\n",
    "\n",
    "\n",
    "英国2019年LTSF费用标准：对于在亚马逊运营中心存放超过 365 天的库存，亚马逊将按每立方英尺`£4.3`或每件商品最低`£0.10`的标准收取长期仓储费。亚马逊将收取适用的长期仓储费（基于一件商品的包装体积）或每件商品最低 £0.10 的长期仓储费（取二者中的较高者）。\n",
    "\n",
    "\n",
    "欧洲地区2019年LTSF费用标准：对于在亚马逊运营中心存放超过 365 天的库存，亚马逊将按每立方米`€170`或每件商品最低`€0.10`的标准收取长期仓储费。亚马逊将收取适用的长期仓储费（基于一件商品的包装体积）或每件商品最低 €0.10 的长期仓储费（取二者中的较高者）。"
   ]
  },
  {
   "cell_type": "code",
   "execution_count": 268,
   "metadata": {
    "ExecuteTime": {
     "end_time": "2019-07-08T14:36:55.441686Z",
     "start_time": "2019-07-08T14:36:55.439251Z"
    }
   },
   "outputs": [],
   "source": [
    "# 因此项收费难以估算，应列入支出而不作为成本考虑"
   ]
  },
  {
   "cell_type": "markdown",
   "metadata": {},
   "source": [
    "### FBA尾程配送费 Tail Feright Rates by FBA"
   ]
  },
  {
   "cell_type": "markdown",
   "metadata": {},
   "source": [
    "以我司产品的普遍尺寸重量作为分类依据，各国地区费用如下：\n",
    "\n",
    "美国2019年FBA物流配送费为：大号标准尺寸（1 至 2 磅）`$4.76/件`。\n",
    "\n",
    "英国的情况比较复杂，目前采用EFN（欧洲配送网络）跨境物流服务，从英国FBA仓库发货到欧洲各国，其2019年收费标准（5月29日新版）如下，以目的国货币计价：\n",
    "\n",
    "产品尺寸归为 `标准包裹`，重量涵盖2个类别：\n",
    "\n",
    "- 标准包裹，小于等于0.5kg， 英国 国内派送：£2.14/件，发法国：€4.88/件，发西班牙：€3.19/件，发意大利：€3.78/件，发德国：€2.65-3.15/件\n",
    "\n",
    "- 标准包裹，小于等于1kg， 英国 国内派送：£2.30/件，发法国：€5.11/件，发西班牙：€3.41/件，发意大利：€4.41/件，发德国：€3.08-3.58/件"
   ]
  },
  {
   "cell_type": "code",
   "execution_count": 269,
   "metadata": {
    "ExecuteTime": {
     "end_time": "2019-07-08T14:36:55.590593Z",
     "start_time": "2019-07-08T14:36:55.585039Z"
    }
   },
   "outputs": [],
   "source": [
    "FBA_US = 4.76     # 美国\n",
    "FBA_UK_GBP = 2.14  # 英国\n",
    "FBA_FR_EUR = 4.88  # 法国\n",
    "FBA_DE_EUR = 3.15  # 德国\n",
    "FBA_IT_EUR = 3.78  # 意大利\n",
    "FBA_ES_EUR = 3.19  # 西班牙"
   ]
  },
  {
   "cell_type": "markdown",
   "metadata": {},
   "source": [
    "### 亚马逊佣金 Amazon Commission Rates"
   ]
  },
  {
   "cell_type": "markdown",
   "metadata": {},
   "source": [
    "亚马逊各国站点对于鞋靴类产品的销售佣金规定如下：\n",
    "\n",
    "- 对于总销售价格不超过 $75.00 的商品，收取 `15%` 的销售佣金；\n",
    "\n",
    "- 对于总销售价格超过 $75.00 的商品，收取 18% 的销售佣金；\n",
    "\n",
    "- 若每笔销售佣金小于 $0.30，则按 0.30美元/笔 收取。"
   ]
  },
  {
   "cell_type": "code",
   "execution_count": 270,
   "metadata": {
    "ExecuteTime": {
     "end_time": "2019-07-08T14:36:55.747492Z",
     "start_time": "2019-07-08T14:36:55.744693Z"
    }
   },
   "outputs": [],
   "source": [
    "# 目前我司佣金标准为15%。\n",
    "SHOES_ACR = 0.15"
   ]
  },
  {
   "cell_type": "markdown",
   "metadata": {},
   "source": [
    "### 附加成本２：欧洲及英国的销售VAT商品增值税 Affix Rates 2. Sales VAT @EU & Britain"
   ]
  },
  {
   "cell_type": "markdown",
   "metadata": {},
   "source": [
    "在VAT销售申报上，英国及欧盟地区均有退税政策。不过须注意，退税只适应于最终销售出去的产品。另外，对于VAT销售申报，由于以亚马逊后台数据为准，以此计税时实行的是销售价申报。目前，对于英国以外地区欧洲各国的进口VAT计算尚未经验，仍需观察。\n",
    "\n",
    "在税率方面，销售VAT与进口VAT采用一致税率。税率标准如下：\n",
    "\n",
    "英国：20%，德国：19%，法国：20%，意大利：22%，西班牙：21%\n",
    "\n",
    "目前，只有英国注册了VAT税号，按照英国政府规定，目前采用小规模销售纳税。VAT缩减税率（Reduced VAT）标准为 7.5%。但不能与进口VAT关税抵扣。\n",
    "\n",
    "关于是否在英国采用标准税率的问题。主要考虑因素如下：\n",
    "\n",
    "- 从长期来说，如果企业销售情况理想，存积货不多的话，采用标准税率可以抵扣是能够降低成本的。\n",
    "\n",
    "- 然而，采用缩减税率尽管不能抵扣VAT，但相对而言每期税务资金压力较小。采用20%计税的话，那每季的税务支出都将称为一个颇为沉重的资金负担。\n",
    "\n",
    "- VAT抵扣每年只进行一次，由于实际销售价和进口申报价值相差较大，仍不清楚当抵扣计算时会出现何种问题，也有可能招致低申报的税务罚款。"
   ]
  },
  {
   "cell_type": "code",
   "execution_count": 271,
   "metadata": {
    "ExecuteTime": {
     "end_time": "2019-07-08T14:36:55.902555Z",
     "start_time": "2019-07-08T14:36:55.900388Z"
    }
   },
   "outputs": [],
   "source": [
    "# 因目前只有英国FBA仓库，因此英国及欧洲各国计算VAT成本均以英镑计价。\n",
    "# 计算公式为：销售价 × VAT税率（20%）\n",
    "\n",
    "VAT_RATE_UK = 0.2    # 英国"
   ]
  },
  {
   "cell_type": "code",
   "execution_count": 272,
   "metadata": {
    "ExecuteTime": {
     "end_time": "2019-07-08T14:36:55.963805Z",
     "start_time": "2019-07-08T14:36:55.907281Z"
    },
    "scrolled": false
   },
   "outputs": [
    {
     "name": "stdout",
     "output_type": "stream",
     "text": [
      "美国第二阶段合计成本：7.57美元。\n",
      "英国第二阶段合计成本：6.81英镑。\n",
      "法国第二阶段合计成本：10.24欧元。\n",
      "德国第二阶段合计成本：8.51欧元。\n",
      "意大利第二阶段合计成本：9.14欧元。\n",
      "西班牙第二阶段合计成本：8.55欧元。\n"
     ]
    }
   ],
   "source": [
    "# 第二阶段成本测算如下：\n",
    "# 1. 因税率和佣金率存在，采用各国目前的平均销售价作为测算依据。\n",
    "US_SALES_PRICE = 15 # 美国，以15美元为标准。\n",
    "UK_SALES_PRICE = 13 # 英国，以13英镑为标准。\n",
    "EU_SALES_PRICE = 15 # 欧洲各国，均以15欧元为标准。\n",
    "\n",
    "# 2. 测算计价采用各国实际使用货币。\n",
    "S2_SUM_US = ISC_USD + SF_USD + FBA_US + (US_SALES_PRICE * SHOES_ACR)                             # 美国，美元计价\n",
    "S2_SUM_UK = SF_GBP + FBA_UK_GBP + (UK_SALES_PRICE * SHOES_ACR) + (UK_SALES_PRICE * VAT_RATE_UK)  # 英国，英磅计价\n",
    "S2_SUM_FR = (SF_GBP * EXCHANGE_RATE_EUR / EXCHANGE_RATE_GBP) + FBA_FR_EUR + (EU_SALES_PRICE * SHOES_ACR) + (EU_SALES_PRICE * VAT_RATE_UK)  # 法国，欧元计价\n",
    "S2_SUM_DE = (SF_GBP * EXCHANGE_RATE_EUR / EXCHANGE_RATE_GBP) + FBA_DE_EUR + (EU_SALES_PRICE * SHOES_ACR) + (EU_SALES_PRICE * VAT_RATE_UK)  # 德国，欧元计价\n",
    "S2_SUM_IT = (SF_GBP * EXCHANGE_RATE_EUR / EXCHANGE_RATE_GBP) + FBA_IT_EUR + (EU_SALES_PRICE * SHOES_ACR) + (EU_SALES_PRICE * VAT_RATE_UK)  # 意大利，欧元计价\n",
    "S2_SUM_ES = (SF_GBP * EXCHANGE_RATE_EUR / EXCHANGE_RATE_GBP) + FBA_ES_EUR + (EU_SALES_PRICE * SHOES_ACR) + (EU_SALES_PRICE * VAT_RATE_UK)  # 西班牙，欧元计价\n",
    "\n",
    "print('美国第二阶段合计成本：{0:.2f}美元。'.format(S2_SUM_US))\n",
    "print('英国第二阶段合计成本：{0:.2f}英镑。'.format(S2_SUM_UK))\n",
    "print('法国第二阶段合计成本：{0:.2f}欧元。'.format(S2_SUM_FR))\n",
    "print('德国第二阶段合计成本：{0:.2f}欧元。'.format(S2_SUM_DE))\n",
    "print('意大利第二阶段合计成本：{0:.2f}欧元。'.format(S2_SUM_IT))\n",
    "print('西班牙第二阶段合计成本：{0:.2f}欧元。'.format(S2_SUM_ES))"
   ]
  },
  {
   "cell_type": "markdown",
   "metadata": {},
   "source": [
    "## 第一及第二阶段的直接成本合计 Summary Of Direct Costs"
   ]
  },
  {
   "cell_type": "code",
   "execution_count": 273,
   "metadata": {
    "ExecuteTime": {
     "end_time": "2019-07-08T14:36:56.057679Z",
     "start_time": "2019-07-08T14:36:55.995943Z"
    },
    "scrolled": false
   },
   "outputs": [
    {
     "name": "stdout",
     "output_type": "stream",
     "text": [
      "美国直接成本合计：11.57美元。\n",
      "英国直接成本合计：10.74英镑。\n",
      "法国直接成本合计：14.33欧元。\n",
      "德国直接成本合计：12.60欧元。\n",
      "意大利直接成本合计：13.23欧元。\n",
      "西班牙直接成本合计：12.64欧元。\n"
     ]
    }
   ],
   "source": [
    "# 直接成本合计采用各国实际使用货币。\n",
    "SDC_US = (S1_SUM_US / EXCHANGE_RATE_USD) + S2_SUM_US  # 美国，美元计价\n",
    "SDC_UK = (S1_SUM_UK / EXCHANGE_RATE_GBP) + S2_SUM_UK  # 英国，英磅计价\n",
    "SDC_FR = (S1_SUM_UK / EXCHANGE_RATE_EUR) + S2_SUM_FR  # 法国，欧元计价（因欧洲各国FBA订单皆为英国EFN发货，因此前期费用与英国相同，下同）\n",
    "SDC_DE = (S1_SUM_UK / EXCHANGE_RATE_EUR) + S2_SUM_DE  # 德国，欧元计价\n",
    "SDC_IT = (S1_SUM_UK / EXCHANGE_RATE_EUR) + S2_SUM_IT  # 意大利，欧元计价\n",
    "SDC_ES = (S1_SUM_UK / EXCHANGE_RATE_EUR) + S2_SUM_ES  # 西班牙，欧元计价\n",
    "\n",
    "print('美国直接成本合计：{0:.2f}美元。'.format(SDC_US))\n",
    "print('英国直接成本合计：{0:.2f}英镑。'.format(SDC_UK))\n",
    "print('法国直接成本合计：{0:.2f}欧元。'.format(SDC_FR))\n",
    "print('德国直接成本合计：{0:.2f}欧元。'.format(SDC_DE))\n",
    "print('意大利直接成本合计：{0:.2f}欧元。'.format(SDC_IT))\n",
    "print('西班牙直接成本合计：{0:.2f}欧元。'.format(SDC_ES))"
   ]
  },
  {
   "cell_type": "markdown",
   "metadata": {},
   "source": [
    "## 测算售价毛利 Gross Profit"
   ]
  },
  {
   "cell_type": "code",
   "execution_count": 274,
   "metadata": {
    "ExecuteTime": {
     "end_time": "2019-07-08T14:36:56.142494Z",
     "start_time": "2019-07-08T14:36:56.084596Z"
    },
    "scrolled": false
   },
   "outputs": [
    {
     "name": "stdout",
     "output_type": "stream",
     "text": [
      "美国测算售价毛利为：3.43美元。\n",
      "英国测算售价毛利为：2.26英镑。\n",
      "法国测算售价毛利为：0.67欧元。\n",
      "德国测算售价毛利为：2.40欧元。\n",
      "意大利测算售价毛利为：1.77欧元。\n",
      "西班牙测算售价毛利为：2.36欧元。\n"
     ]
    }
   ],
   "source": [
    "# 直接成本合计采用各国实际使用货币。\n",
    "GP_US = US_SALES_PRICE - SDC_US  # 美国，美元计价\n",
    "GP_UK = UK_SALES_PRICE - SDC_UK  # 英国，英磅计价\n",
    "GP_FR = EU_SALES_PRICE - SDC_FR  # 法国，欧元计价\n",
    "GP_DE = EU_SALES_PRICE - SDC_DE  # 德国，欧元计价\n",
    "GP_IT = EU_SALES_PRICE - SDC_IT  # 意大利，欧元计价\n",
    "GP_ES = EU_SALES_PRICE - SDC_ES  # 西班牙，欧元计价\n",
    "\n",
    "print('美国测算售价毛利为：{0:.2f}美元。'.format(GP_US))\n",
    "print('英国测算售价毛利为：{0:.2f}英镑。'.format(GP_UK))\n",
    "print('法国测算售价毛利为：{0:.2f}欧元。'.format(GP_FR))\n",
    "print('德国测算售价毛利为：{0:.2f}欧元。'.format(GP_DE))\n",
    "print('意大利测算售价毛利为：{0:.2f}欧元。'.format(GP_IT))\n",
    "print('西班牙测算售价毛利为：{0:.2f}欧元。'.format(GP_ES))"
   ]
  },
  {
   "cell_type": "markdown",
   "metadata": {},
   "source": [
    "## 成本与毛利分析图表"
   ]
  },
  {
   "cell_type": "code",
   "execution_count": 275,
   "metadata": {
    "ExecuteTime": {
     "end_time": "2019-07-08T14:36:56.196171Z",
     "start_time": "2019-07-08T14:36:56.169952Z"
    }
   },
   "outputs": [],
   "source": [
    "# 引入图表控件，采用pyecharts。\n",
    "from pyecharts import options as opts\n",
    "from pyecharts.globals import ThemeType\n",
    "from pyecharts.charts import Pie, Line"
   ]
  },
  {
   "cell_type": "markdown",
   "metadata": {},
   "source": [
    "### 产品成本与毛利占比分析（美国站）"
   ]
  },
  {
   "cell_type": "code",
   "execution_count": 276,
   "metadata": {
    "ExecuteTime": {
     "end_time": "2019-07-08T14:36:56.299730Z",
     "start_time": "2019-07-08T14:36:56.255538Z"
    }
   },
   "outputs": [
    {
     "data": {
      "text/html": [
       "<script>\n",
       "    require.config({\n",
       "        paths: {\n",
       "            'echarts':'https://assets.pyecharts.org/assets/echarts.min'\n",
       "        }\n",
       "    });\n",
       "</script>\n",
       "\n",
       "    <div id=\"939eb89572534def964e7e1894649777\" style=\"width:900px; height:500px;\"></div>\n",
       "\n",
       "\n",
       "<script>\n",
       "    require(['echarts'], function(echarts) {\n",
       "        var chart_939eb89572534def964e7e1894649777 = echarts.init(\n",
       "            document.getElementById('939eb89572534def964e7e1894649777'), 'white', {renderer: 'canvas'});\n",
       "        var option_939eb89572534def964e7e1894649777 = {\n",
       "    \"color\": [\n",
       "        \"#c23531\",\n",
       "        \"#2f4554\",\n",
       "        \"#61a0a8\",\n",
       "        \"#d48265\",\n",
       "        \"#749f83\",\n",
       "        \"#ca8622\",\n",
       "        \"#bda29a\",\n",
       "        \"#6e7074\",\n",
       "        \"#546570\",\n",
       "        \"#c4ccd3\",\n",
       "        \"#f05b72\",\n",
       "        \"#ef5b9c\",\n",
       "        \"#f47920\",\n",
       "        \"#905a3d\",\n",
       "        \"#fab27b\",\n",
       "        \"#2a5caa\",\n",
       "        \"#444693\",\n",
       "        \"#726930\",\n",
       "        \"#b2d235\",\n",
       "        \"#6d8346\",\n",
       "        \"#ac6767\",\n",
       "        \"#1d953f\",\n",
       "        \"#6950a1\",\n",
       "        \"#918597\"\n",
       "    ],\n",
       "    \"series\": [\n",
       "        {\n",
       "            \"type\": \"pie\",\n",
       "            \"clockwise\": true,\n",
       "            \"data\": [\n",
       "                {\n",
       "                    \"name\": \"\\u751f\\u4ea7\\u6210\\u672c\",\n",
       "                    \"value\": 3.08\n",
       "                },\n",
       "                {\n",
       "                    \"name\": \"\\u5934\\u7a0b\\uff08\\u542b\\u56fd\\u5185\\uff09\\u8fd0\\u8d39\",\n",
       "                    \"value\": 0.92\n",
       "                },\n",
       "                {\n",
       "                    \"name\": \"FBA\\u5165\\u5e93\\u914d\\u7f6e\\u8d39\",\n",
       "                    \"value\": 0.35\n",
       "                },\n",
       "                {\n",
       "                    \"name\": \"FBA\\uff083\\u4e2a\\u6708\\uff09\\u4ed3\\u50a8\\u8d39\",\n",
       "                    \"value\": 0.21\n",
       "                },\n",
       "                {\n",
       "                    \"name\": \"FBA\\u5c3e\\u7a0b\\u914d\\u9001\\u8d39\",\n",
       "                    \"value\": 4.76\n",
       "                },\n",
       "                {\n",
       "                    \"name\": \"\\u4e9a\\u9a6c\\u900a\\u4f63\\u91d1\",\n",
       "                    \"value\": 2.25\n",
       "                },\n",
       "                {\n",
       "                    \"name\": \"\\u6bdb\\u5229\",\n",
       "                    \"value\": 3.43\n",
       "                }\n",
       "            ],\n",
       "            \"radius\": [\n",
       "                \"30%\",\n",
       "                \"60%\"\n",
       "            ],\n",
       "            \"center\": [\n",
       "                \"50%\",\n",
       "                \"50%\"\n",
       "            ],\n",
       "            \"label\": {\n",
       "                \"show\": true,\n",
       "                \"position\": \"top\",\n",
       "                \"margin\": 8,\n",
       "                \"formatter\": \"{b}: US${c}\\uff0c\\u5360\\u6bd4\\uff1a{d}%\"\n",
       "            },\n",
       "            \"rippleEffect\": {\n",
       "                \"show\": true,\n",
       "                \"brushType\": \"stroke\",\n",
       "                \"scale\": 2.5,\n",
       "                \"period\": 4\n",
       "            }\n",
       "        }\n",
       "    ],\n",
       "    \"legend\": [\n",
       "        {\n",
       "            \"data\": [\n",
       "                \"\\u751f\\u4ea7\\u6210\\u672c\",\n",
       "                \"\\u5934\\u7a0b\\uff08\\u542b\\u56fd\\u5185\\uff09\\u8fd0\\u8d39\",\n",
       "                \"FBA\\u5165\\u5e93\\u914d\\u7f6e\\u8d39\",\n",
       "                \"FBA\\uff083\\u4e2a\\u6708\\uff09\\u4ed3\\u50a8\\u8d39\",\n",
       "                \"FBA\\u5c3e\\u7a0b\\u914d\\u9001\\u8d39\",\n",
       "                \"\\u4e9a\\u9a6c\\u900a\\u4f63\\u91d1\",\n",
       "                \"\\u6bdb\\u5229\"\n",
       "            ],\n",
       "            \"selected\": {},\n",
       "            \"show\": true,\n",
       "            \"top\": \"bottom\"\n",
       "        }\n",
       "    ],\n",
       "    \"tooltip\": {\n",
       "        \"show\": true,\n",
       "        \"trigger\": \"item\",\n",
       "        \"triggerOn\": \"mousemove|click\",\n",
       "        \"axisPointer\": {\n",
       "            \"type\": \"line\"\n",
       "        },\n",
       "        \"textStyle\": {\n",
       "            \"fontSize\": 14\n",
       "        },\n",
       "        \"borderWidth\": 0\n",
       "    },\n",
       "    \"title\": [\n",
       "        {\n",
       "            \"text\": \"\\u4ea7\\u54c1\\u6210\\u672c\\u4e0e\\u6bdb\\u5229\\u5360\\u6bd4\\u5206\\u6790\\uff08\\u7f8e\\u56fd\\u7ad9\\uff09 \\u6d4b\\u7b97\\u57fa\\u51c6\\u9500\\u552e\\u4ef7\\uff1aUS$15.00\",\n",
       "            \"left\": \"center\",\n",
       "            \"top\": \"top\"\n",
       "        }\n",
       "    ]\n",
       "};\n",
       "        chart_939eb89572534def964e7e1894649777.setOption(option_939eb89572534def964e7e1894649777);\n",
       "    });\n",
       "</script>\n"
      ],
      "text/plain": [
       "<pyecharts.render.display.HTML at 0x7f72937d8b00>"
      ]
     },
     "execution_count": 276,
     "metadata": {},
     "output_type": "execute_result"
    }
   ],
   "source": [
    "# 美国站数据处理\n",
    "CP_piedata = [\n",
    "    ['生产成本', round(RMB_COP / EXCHANGE_RATE_USD, 2)],\n",
    "    ['头程（含国内）运费', round((RMB_DSC_US + RMB_CSC_US) / EXCHANGE_RATE_USD, 2)],\n",
    "    ['FBA入库配置费', round(ISC_USD, 2)],\n",
    "    ['FBA（3个月）仓储费', round(SF_USD, 2)],\n",
    "    ['FBA尾程配送费', round(FBA_US, 2)],\n",
    "    ['亚马逊佣金', round(US_SALES_PRICE * SHOES_ACR, 2)],\n",
    "    ['毛利', round(GP_US, 2)]    \n",
    "]\n",
    "\n",
    "# 图表输出\n",
    "pie1 = (\n",
    "    Pie(init_opts = opts.InitOpts(theme=ThemeType.WHITE))\n",
    "    .add(\"\", CP_piedata, radius=['30%', '60%'])\n",
    "    .set_global_opts(\n",
    "        title_opts = opts.TitleOpts(\n",
    "            title='产品成本与毛利占比分析（美国站） 测算基准销售价：US${0:.2f}'.format(US_SALES_PRICE),\n",
    "            pos_left='center', pos_top=\"top\"\n",
    "        ),\n",
    "        legend_opts=opts.LegendOpts(pos_top=\"bottom\"),\n",
    "    )\n",
    "    .set_series_opts(label_opts=opts.LabelOpts(formatter=\"{b}: US${c}，占比：{d}%\"))\n",
    ")\n",
    "pie1.render_notebook()"
   ]
  },
  {
   "cell_type": "markdown",
   "metadata": {},
   "source": [
    "### 产品成本与毛利占比分析（英国站）"
   ]
  },
  {
   "cell_type": "code",
   "execution_count": 277,
   "metadata": {
    "ExecuteTime": {
     "end_time": "2019-07-08T14:36:56.367724Z",
     "start_time": "2019-07-08T14:36:56.350437Z"
    },
    "scrolled": false
   },
   "outputs": [
    {
     "data": {
      "text/html": [
       "<script>\n",
       "    require.config({\n",
       "        paths: {\n",
       "            'echarts':'https://assets.pyecharts.org/assets/echarts.min', 'macarons':'https://assets.pyecharts.org/assets/themes/macarons'\n",
       "        }\n",
       "    });\n",
       "</script>\n",
       "\n",
       "    <div id=\"fa32744eba2c4fd9ba2f98f1ad332f6b\" style=\"width:900px; height:500px;\"></div>\n",
       "\n",
       "\n",
       "<script>\n",
       "    require(['echarts', 'macarons'], function(echarts) {\n",
       "        var chart_fa32744eba2c4fd9ba2f98f1ad332f6b = echarts.init(\n",
       "            document.getElementById('fa32744eba2c4fd9ba2f98f1ad332f6b'), 'macarons', {renderer: 'canvas'});\n",
       "        var option_fa32744eba2c4fd9ba2f98f1ad332f6b = {\n",
       "    \"series\": [\n",
       "        {\n",
       "            \"type\": \"pie\",\n",
       "            \"clockwise\": true,\n",
       "            \"data\": [\n",
       "                {\n",
       "                    \"name\": \"\\u751f\\u4ea7\\u6210\\u672c\",\n",
       "                    \"value\": 2.5\n",
       "                },\n",
       "                {\n",
       "                    \"name\": \"\\u5934\\u7a0b\\uff08\\u542b\\u56fd\\u5185\\uff09\\u8fd0\\u8d39\",\n",
       "                    \"value\": 0.62\n",
       "                },\n",
       "                {\n",
       "                    \"name\": \"\\u8fdb\\u53e3\\u5173\\u7a0e\\u548cVAT\",\n",
       "                    \"value\": 0.81\n",
       "                },\n",
       "                {\n",
       "                    \"name\": \"FBA\\uff083\\u4e2a\\u6708\\uff09\\u4ed3\\u50a8\\u8d39\",\n",
       "                    \"value\": 0.12\n",
       "                },\n",
       "                {\n",
       "                    \"name\": \"FBA\\u5c3e\\u7a0b\\u914d\\u9001\\u8d39\",\n",
       "                    \"value\": 2.14\n",
       "                },\n",
       "                {\n",
       "                    \"name\": \"\\u4e9a\\u9a6c\\u900a\\u4f63\\u91d1\",\n",
       "                    \"value\": 1.95\n",
       "                },\n",
       "                {\n",
       "                    \"name\": \"\\u9500\\u552eVAT\",\n",
       "                    \"value\": 2.6\n",
       "                },\n",
       "                {\n",
       "                    \"name\": \"\\u6bdb\\u5229\",\n",
       "                    \"value\": 2.26\n",
       "                }\n",
       "            ],\n",
       "            \"radius\": [\n",
       "                \"30%\",\n",
       "                \"60%\"\n",
       "            ],\n",
       "            \"center\": [\n",
       "                \"50%\",\n",
       "                \"50%\"\n",
       "            ],\n",
       "            \"label\": {\n",
       "                \"show\": true,\n",
       "                \"position\": \"top\",\n",
       "                \"margin\": 8,\n",
       "                \"formatter\": \"{b}: \\u00a3{c}\\uff0c\\u5360\\u6bd4\\uff1a{d}%\"\n",
       "            },\n",
       "            \"rippleEffect\": {\n",
       "                \"show\": true,\n",
       "                \"brushType\": \"stroke\",\n",
       "                \"scale\": 2.5,\n",
       "                \"period\": 4\n",
       "            }\n",
       "        }\n",
       "    ],\n",
       "    \"legend\": [\n",
       "        {\n",
       "            \"data\": [\n",
       "                \"\\u751f\\u4ea7\\u6210\\u672c\",\n",
       "                \"\\u5934\\u7a0b\\uff08\\u542b\\u56fd\\u5185\\uff09\\u8fd0\\u8d39\",\n",
       "                \"\\u8fdb\\u53e3\\u5173\\u7a0e\\u548cVAT\",\n",
       "                \"FBA\\uff083\\u4e2a\\u6708\\uff09\\u4ed3\\u50a8\\u8d39\",\n",
       "                \"FBA\\u5c3e\\u7a0b\\u914d\\u9001\\u8d39\",\n",
       "                \"\\u4e9a\\u9a6c\\u900a\\u4f63\\u91d1\",\n",
       "                \"\\u9500\\u552eVAT\",\n",
       "                \"\\u6bdb\\u5229\"\n",
       "            ],\n",
       "            \"selected\": {},\n",
       "            \"show\": true,\n",
       "            \"top\": \"bottom\"\n",
       "        }\n",
       "    ],\n",
       "    \"tooltip\": {\n",
       "        \"show\": true,\n",
       "        \"trigger\": \"item\",\n",
       "        \"triggerOn\": \"mousemove|click\",\n",
       "        \"axisPointer\": {\n",
       "            \"type\": \"line\"\n",
       "        },\n",
       "        \"textStyle\": {\n",
       "            \"fontSize\": 14\n",
       "        },\n",
       "        \"borderWidth\": 0\n",
       "    },\n",
       "    \"title\": [\n",
       "        {\n",
       "            \"text\": \"\\u4ea7\\u54c1\\u6210\\u672c\\u4e0e\\u6bdb\\u5229\\u5360\\u6bd4\\u5206\\u6790\\uff08\\u82f1\\u56fd\\u7ad9\\uff09 \\u6d4b\\u7b97\\u57fa\\u51c6\\u9500\\u552e\\u4ef7\\uff1a\\u00a313.00\",\n",
       "            \"left\": \"center\",\n",
       "            \"top\": \"top\"\n",
       "        }\n",
       "    ]\n",
       "};\n",
       "        chart_fa32744eba2c4fd9ba2f98f1ad332f6b.setOption(option_fa32744eba2c4fd9ba2f98f1ad332f6b);\n",
       "    });\n",
       "</script>\n"
      ],
      "text/plain": [
       "<pyecharts.render.display.HTML at 0x7f72937cc0b8>"
      ]
     },
     "execution_count": 277,
     "metadata": {},
     "output_type": "execute_result"
    }
   ],
   "source": [
    "# 英国站数据处理\n",
    "CP_piedata = [\n",
    "    ['生产成本', round(RMB_COP / EXCHANGE_RATE_GBP, 2)],\n",
    "    ['头程（含国内）运费', round((RMB_DSC_UK + RMB_CSC_UK) / EXCHANGE_RATE_GBP, 2)],\n",
    "    ['进口关税和VAT', round(RMB_IMPORTED_TAX_UK / EXCHANGE_RATE_GBP, 2)],\n",
    "    ['FBA（3个月）仓储费', round(SF_GBP, 2)],\n",
    "    ['FBA尾程配送费', round(FBA_UK_GBP, 2)],\n",
    "    ['亚马逊佣金', round(UK_SALES_PRICE * SHOES_ACR, 2)],\n",
    "    ['销售VAT', round(UK_SALES_PRICE * VAT_RATE_UK, 2)],\n",
    "    ['毛利', round(GP_UK, 2)]    \n",
    "]\n",
    "\n",
    "# 图表输出\n",
    "pie2 = (\n",
    "    Pie(init_opts = opts.InitOpts(theme=ThemeType.MACARONS))\n",
    "    .add(\"\", CP_piedata, radius=['30%', '60%'])\n",
    "    .set_global_opts(\n",
    "        title_opts = opts.TitleOpts(\n",
    "            title='产品成本与毛利占比分析（英国站） 测算基准销售价：£{0:.2f}'.format(UK_SALES_PRICE),\n",
    "            pos_left='center', pos_top=\"top\"\n",
    "        ),\n",
    "        legend_opts=opts.LegendOpts(pos_top=\"bottom\"),\n",
    "    )\n",
    "    .set_series_opts(label_opts=opts.LabelOpts(formatter=\"{b}: £{c}，占比：{d}%\"))\n",
    ")\n",
    "pie2.render_notebook()"
   ]
  },
  {
   "cell_type": "markdown",
   "metadata": {},
   "source": [
    "### 产品成本与毛利占比分析（欧元区，以法国站为例）"
   ]
  },
  {
   "cell_type": "code",
   "execution_count": 278,
   "metadata": {
    "ExecuteTime": {
     "end_time": "2019-07-08T14:36:56.459482Z",
     "start_time": "2019-07-08T14:36:56.451222Z"
    },
    "scrolled": false
   },
   "outputs": [
    {
     "data": {
      "text/html": [
       "<script>\n",
       "    require.config({\n",
       "        paths: {\n",
       "            'echarts':'https://assets.pyecharts.org/assets/echarts.min'\n",
       "        }\n",
       "    });\n",
       "</script>\n",
       "\n",
       "    <div id=\"15641bea6aef49139f7bc0057a039ea8\" style=\"width:900px; height:500px;\"></div>\n",
       "\n",
       "\n",
       "<script>\n",
       "    require(['echarts'], function(echarts) {\n",
       "        var chart_15641bea6aef49139f7bc0057a039ea8 = echarts.init(\n",
       "            document.getElementById('15641bea6aef49139f7bc0057a039ea8'), 'light', {renderer: 'canvas'});\n",
       "        var option_15641bea6aef49139f7bc0057a039ea8 = {\n",
       "    \"series\": [\n",
       "        {\n",
       "            \"type\": \"pie\",\n",
       "            \"clockwise\": true,\n",
       "            \"data\": [\n",
       "                {\n",
       "                    \"name\": \"\\u751f\\u4ea7\\u6210\\u672c\",\n",
       "                    \"value\": 2.6\n",
       "                },\n",
       "                {\n",
       "                    \"name\": \"\\u5934\\u7a0b\\uff08\\u542b\\u56fd\\u5185\\uff09\\u8fd0\\u8d39\",\n",
       "                    \"value\": 0.65\n",
       "                },\n",
       "                {\n",
       "                    \"name\": \"\\u8fdb\\u53e3\\u5173\\u7a0e\\u548cVAT\",\n",
       "                    \"value\": 0.84\n",
       "                },\n",
       "                {\n",
       "                    \"name\": \"FBA\\uff083\\u4e2a\\u6708\\uff09\\u4ed3\\u50a8\\u8d39\",\n",
       "                    \"value\": 0.11\n",
       "                },\n",
       "                {\n",
       "                    \"name\": \"FBA\\u5c3e\\u7a0b\\u914d\\u9001\\u8d39\",\n",
       "                    \"value\": 4.88\n",
       "                },\n",
       "                {\n",
       "                    \"name\": \"\\u4e9a\\u9a6c\\u900a\\u4f63\\u91d1\",\n",
       "                    \"value\": 2.25\n",
       "                },\n",
       "                {\n",
       "                    \"name\": \"\\u9500\\u552eVAT\",\n",
       "                    \"value\": 3.0\n",
       "                },\n",
       "                {\n",
       "                    \"name\": \"\\u6bdb\\u5229\",\n",
       "                    \"value\": 0.67\n",
       "                }\n",
       "            ],\n",
       "            \"radius\": [\n",
       "                \"30%\",\n",
       "                \"60%\"\n",
       "            ],\n",
       "            \"center\": [\n",
       "                \"50%\",\n",
       "                \"50%\"\n",
       "            ],\n",
       "            \"label\": {\n",
       "                \"show\": true,\n",
       "                \"position\": \"top\",\n",
       "                \"margin\": 8,\n",
       "                \"formatter\": \"{b}: \\u20ac{c}\\uff0c\\u5360\\u6bd4\\uff1a{d}%\"\n",
       "            },\n",
       "            \"rippleEffect\": {\n",
       "                \"show\": true,\n",
       "                \"brushType\": \"stroke\",\n",
       "                \"scale\": 2.5,\n",
       "                \"period\": 4\n",
       "            }\n",
       "        }\n",
       "    ],\n",
       "    \"legend\": [\n",
       "        {\n",
       "            \"data\": [\n",
       "                \"\\u751f\\u4ea7\\u6210\\u672c\",\n",
       "                \"\\u5934\\u7a0b\\uff08\\u542b\\u56fd\\u5185\\uff09\\u8fd0\\u8d39\",\n",
       "                \"\\u8fdb\\u53e3\\u5173\\u7a0e\\u548cVAT\",\n",
       "                \"FBA\\uff083\\u4e2a\\u6708\\uff09\\u4ed3\\u50a8\\u8d39\",\n",
       "                \"FBA\\u5c3e\\u7a0b\\u914d\\u9001\\u8d39\",\n",
       "                \"\\u4e9a\\u9a6c\\u900a\\u4f63\\u91d1\",\n",
       "                \"\\u9500\\u552eVAT\",\n",
       "                \"\\u6bdb\\u5229\"\n",
       "            ],\n",
       "            \"selected\": {},\n",
       "            \"show\": true,\n",
       "            \"top\": \"bottom\"\n",
       "        }\n",
       "    ],\n",
       "    \"tooltip\": {\n",
       "        \"show\": true,\n",
       "        \"trigger\": \"item\",\n",
       "        \"triggerOn\": \"mousemove|click\",\n",
       "        \"axisPointer\": {\n",
       "            \"type\": \"line\"\n",
       "        },\n",
       "        \"textStyle\": {\n",
       "            \"fontSize\": 14\n",
       "        },\n",
       "        \"borderWidth\": 0\n",
       "    },\n",
       "    \"title\": [\n",
       "        {\n",
       "            \"text\": \"\\u4ea7\\u54c1\\u6210\\u672c\\u4e0e\\u6bdb\\u5229\\u5360\\u6bd4\\u5206\\u6790\\uff08\\u6cd5\\u56fd\\u7ad9\\uff09 \\u6d4b\\u7b97\\u57fa\\u51c6\\u9500\\u552e\\u4ef7\\uff1a\\u20ac15\",\n",
       "            \"left\": \"center\",\n",
       "            \"top\": \"top\"\n",
       "        }\n",
       "    ]\n",
       "};\n",
       "        chart_15641bea6aef49139f7bc0057a039ea8.setOption(option_15641bea6aef49139f7bc0057a039ea8);\n",
       "    });\n",
       "</script>\n"
      ],
      "text/plain": [
       "<pyecharts.render.display.HTML at 0x7f72937d8400>"
      ]
     },
     "execution_count": 278,
     "metadata": {},
     "output_type": "execute_result"
    }
   ],
   "source": [
    "# 法国站数据处理\n",
    "CP_piedata = [\n",
    "    ['生产成本', round(RMB_COP / EXCHANGE_RATE_EUR, 2)],\n",
    "    ['头程（含国内）运费', round((RMB_DSC_UK + RMB_CSC_UK) / EXCHANGE_RATE_EUR, 2)],\n",
    "    ['进口关税和VAT', round(RMB_IMPORTED_TAX_UK / EXCHANGE_RATE_EUR, 2)],\n",
    "    ['FBA（3个月）仓储费', round((SF_GBP * EXCHANGE_RATE_EUR / EXCHANGE_RATE_GBP), 2)],\n",
    "    ['FBA尾程配送费', round(FBA_FR_EUR, 2)],\n",
    "    ['亚马逊佣金', round(EU_SALES_PRICE * SHOES_ACR, 2)],\n",
    "    ['销售VAT', round(EU_SALES_PRICE * VAT_RATE_UK, 2)],\n",
    "    ['毛利', round(GP_FR, 2)]    \n",
    "]\n",
    "\n",
    "# 图表输出\n",
    "pie3 = (\n",
    "    Pie(init_opts = opts.InitOpts(theme=ThemeType.LIGHT))\n",
    "    .add(\"\", CP_piedata, radius=['30%', '60%'])\n",
    "    .set_global_opts(\n",
    "        title_opts = opts.TitleOpts(\n",
    "            title='产品成本与毛利占比分析（法国站） 测算基准销售价：€{0}'.format(EU_SALES_PRICE),\n",
    "            pos_left='center', pos_top=\"top\"\n",
    "        ),\n",
    "        legend_opts=opts.LegendOpts(pos_top=\"bottom\"),\n",
    "    )\n",
    "    .set_series_opts(label_opts=opts.LabelOpts(formatter=\"{b}: €{c}，占比：{d}%\"))\n",
    ")\n",
    "pie3.render_notebook()"
   ]
  },
  {
   "cell_type": "markdown",
   "metadata": {},
   "source": [
    "# 间接成本构成：Amazon平台的各项消费支出　The Composition Of Indirect Costs: Consumption And Expenditure @Amazon"
   ]
  },
  {
   "cell_type": "markdown",
   "metadata": {},
   "source": [
    "目前，在亚马逊平台销售中，主要构成间接成本的部分包括：\n",
    "\n",
    "- 广告费用\n",
    "\n",
    "- 退货费用\n",
    "\n",
    "- 平台订阅费和其他管理费、杂费\n",
    "\n",
    "为了明晰间接成本构成和对成本、利润的影响程度，以下部分主要以美国站FBA订单商品作为分析对象。"
   ]
  },
  {
   "cell_type": "code",
   "execution_count": 279,
   "metadata": {
    "ExecuteTime": {
     "end_time": "2019-07-08T14:36:56.626122Z",
     "start_time": "2019-07-08T14:36:56.623272Z"
    }
   },
   "outputs": [
    {
     "name": "stdout",
     "output_type": "stream",
     "text": [
      "美国站测算销售价：$15.00\n"
     ]
    }
   ],
   "source": [
    "# 引入数据分析模块\n",
    "import pandas as pd\n",
    "\n",
    "# 测算销售价（美国站）\n",
    "print('美国站测算销售价：${0:.2f}'.format(US_SALES_PRICE))"
   ]
  },
  {
   "cell_type": "markdown",
   "metadata": {},
   "source": [
    "## 广告费用支出 Ads Investment"
   ]
  },
  {
   "cell_type": "markdown",
   "metadata": {},
   "source": [
    "## 退货费用支出 Charges Of Returns"
   ]
  },
  {
   "cell_type": "markdown",
   "metadata": {},
   "source": [
    "当FBA订单发生买家退货时，一般而言，每笔订单遭受的损失包括如下部分：\n",
    "\n",
    "- 向买家全额退款\n",
    "\n",
    "- 买家 至 亚马逊运营中心 的回程FBA物流费用（与去程相同，等于“FBA尾程配送费”）\n",
    "\n",
    "- 亚马逊退回佣金（扣除退款管理费）"
   ]
  },
  {
   "cell_type": "markdown",
   "metadata": {},
   "source": [
    "### 向买家退款"
   ]
  },
  {
   "cell_type": "code",
   "execution_count": 280,
   "metadata": {
    "ExecuteTime": {
     "end_time": "2019-07-08T14:36:56.982080Z",
     "start_time": "2019-07-08T14:36:56.976376Z"
    }
   },
   "outputs": [
    {
     "name": "stdout",
     "output_type": "stream",
     "text": [
      "每件物品退款金额为：$-15.00\n"
     ]
    }
   ],
   "source": [
    "# 等于买家支付的商品销售价\n",
    "RETURN_REFUND_US = -US_SALES_PRICE\n",
    "\n",
    "print('每件物品退款金额为：${0:.2f}'.format(RETURN_REFUND_US))"
   ]
  },
  {
   "cell_type": "markdown",
   "metadata": {},
   "source": [
    "### 来回程FBA物流费用"
   ]
  },
  {
   "cell_type": "code",
   "execution_count": 281,
   "metadata": {
    "ExecuteTime": {
     "end_time": "2019-07-08T14:36:57.073551Z",
     "start_time": "2019-07-08T14:36:57.070829Z"
    },
    "scrolled": true
   },
   "outputs": [
    {
     "name": "stdout",
     "output_type": "stream",
     "text": [
      "退货FBA物流费支出为：$-4.76\n"
     ]
    }
   ],
   "source": [
    "# 等于FBA尾程配送费\n",
    "RETURN_FBA_US = -FBA_US\n",
    "\n",
    "print('退货FBA物流费支出为：${0:.2f}'.format(RETURN_FBA_US))"
   ]
  },
  {
   "cell_type": "markdown",
   "metadata": {
    "ExecuteTime": {
     "end_time": "2019-07-08T10:40:35.909142Z",
     "start_time": "2019-07-08T10:40:35.906807Z"
    }
   },
   "source": [
    "### 佣金返还（扣除退款管理费 Refund Administration Rates）"
   ]
  },
  {
   "cell_type": "markdown",
   "metadata": {
    "ExecuteTime": {
     "end_time": "2019-07-08T10:13:54.776642Z",
     "start_time": "2019-07-08T10:13:54.772913Z"
    }
   },
   "source": [
    "退货退款时，亚马逊会返还扣除退款管理费后的佣金部分，退款管理费的计算规则为：佣金 x 20%（封顶$5美元）。"
   ]
  },
  {
   "cell_type": "code",
   "execution_count": 282,
   "metadata": {
    "ExecuteTime": {
     "end_time": "2019-07-08T14:36:57.260821Z",
     "start_time": "2019-07-08T14:36:57.257538Z"
    }
   },
   "outputs": [
    {
     "name": "stdout",
     "output_type": "stream",
     "text": [
      "退货佣金返还为：$1.80\n"
     ]
    }
   ],
   "source": [
    "# 计算佣金返还款项\n",
    "RAR_AMAZON = 0.2\n",
    "RETURN_ACR_US =  US_SALES_PRICE * SHOES_ACR * (1 - RAR_AMAZON)\n",
    "\n",
    "print('退货佣金返还为：${0:.2f}'.format(RETURN_ACR_US))"
   ]
  },
  {
   "cell_type": "markdown",
   "metadata": {
    "ExecuteTime": {
     "end_time": "2019-07-08T10:40:35.909142Z",
     "start_time": "2019-07-08T10:40:35.906807Z"
    }
   },
   "source": [
    "### 每件商品的退货损失合计"
   ]
  },
  {
   "cell_type": "code",
   "execution_count": 283,
   "metadata": {
    "ExecuteTime": {
     "end_time": "2019-07-08T14:36:57.357958Z",
     "start_time": "2019-07-08T14:36:57.354021Z"
    },
    "scrolled": true
   },
   "outputs": [
    {
     "name": "stdout",
     "output_type": "stream",
     "text": [
      "每件商品的退货损失合计为：$17.96\n",
      "\n",
      "每件商品的毛利为：$3.43\n",
      "\n",
      "结论：退货 1 件商品遭受的损失相当于买出 5.23 件商品获取的毛利总和。\n"
     ]
    }
   ],
   "source": [
    "# 以上三项相加\n",
    "RETURN_LOSS_US = RETURN_REFUND_US + RETURN_FBA_US + RETURN_ACR_US\n",
    "\n",
    "print('每件商品的退货损失合计为：${0:.2f}'.format(-RETURN_LOSS_US))\n",
    "\n",
    "print('\\n每件商品的毛利为：${0:.2f}'.format(GP_US))\n",
    "\n",
    "# 与单件商品的毛利比例 Loss vs Gross Profit\n",
    "RETURN_LGP_US = abs(RETURN_LOSS_US / GP_US)\n",
    "\n",
    "print('\\n结论：退货 1 件商品遭受的损失相当于买出 {0:.2f} 件商品获取的毛利总和。'.format(RETURN_LGP_US))"
   ]
  },
  {
   "cell_type": "markdown",
   "metadata": {
    "ExecuteTime": {
     "end_time": "2019-07-08T10:40:35.909142Z",
     "start_time": "2019-07-08T10:40:35.906807Z"
    }
   },
   "source": [
    "### FBA退货情况及退货率（2019年1月-6月，美国）"
   ]
  },
  {
   "cell_type": "markdown",
   "metadata": {},
   "source": [
    "注：退货数据来自Amazon后台以下报表。\n",
    "\n",
    "- 数据报告/业务报告/销售图表\n",
    "\n",
    "- 数据报告/退货报告\n",
    "\n",
    "- 数据报告/库存和销售报告/亚马逊物流买家退货"
   ]
  },
  {
   "cell_type": "code",
   "execution_count": 284,
   "metadata": {
    "ExecuteTime": {
     "end_time": "2019-07-08T14:36:57.548838Z",
     "start_time": "2019-07-08T14:36:57.530018Z"
    }
   },
   "outputs": [
    {
     "data": {
      "text/html": [
       "<div>\n",
       "<style scoped>\n",
       "    .dataframe tbody tr th:only-of-type {\n",
       "        vertical-align: middle;\n",
       "    }\n",
       "\n",
       "    .dataframe tbody tr th {\n",
       "        vertical-align: top;\n",
       "    }\n",
       "\n",
       "    .dataframe thead th {\n",
       "        text-align: right;\n",
       "    }\n",
       "</style>\n",
       "<table border=\"1\" class=\"dataframe\">\n",
       "  <thead>\n",
       "    <tr style=\"text-align: right;\">\n",
       "      <th></th>\n",
       "      <th>2019年</th>\n",
       "      <th>1月</th>\n",
       "      <th>2月</th>\n",
       "      <th>3月</th>\n",
       "      <th>4月</th>\n",
       "      <th>5月</th>\n",
       "      <th>6月</th>\n",
       "    </tr>\n",
       "  </thead>\n",
       "  <tbody>\n",
       "    <tr>\n",
       "      <th>0</th>\n",
       "      <td>FBA销售商品数</td>\n",
       "      <td>976</td>\n",
       "      <td>975</td>\n",
       "      <td>1225</td>\n",
       "      <td>1392</td>\n",
       "      <td>2092</td>\n",
       "      <td>2345</td>\n",
       "    </tr>\n",
       "    <tr>\n",
       "      <th>1</th>\n",
       "      <td>FBM销售商品数</td>\n",
       "      <td>130</td>\n",
       "      <td>60</td>\n",
       "      <td>252</td>\n",
       "      <td>499</td>\n",
       "      <td>405</td>\n",
       "      <td>582</td>\n",
       "    </tr>\n",
       "    <tr>\n",
       "      <th>2</th>\n",
       "      <td>FBA退货商品数</td>\n",
       "      <td>103</td>\n",
       "      <td>125</td>\n",
       "      <td>78</td>\n",
       "      <td>101</td>\n",
       "      <td>183</td>\n",
       "      <td>209</td>\n",
       "    </tr>\n",
       "    <tr>\n",
       "      <th>3</th>\n",
       "      <td>FBM退货商品数</td>\n",
       "      <td>10</td>\n",
       "      <td>5</td>\n",
       "      <td>8</td>\n",
       "      <td>19</td>\n",
       "      <td>20</td>\n",
       "      <td>38</td>\n",
       "    </tr>\n",
       "  </tbody>\n",
       "</table>\n",
       "</div>"
      ],
      "text/plain": [
       "      2019年   1月   2月    3月    4月    5月    6月\n",
       "0  FBA销售商品数  976  975  1225  1392  2092  2345\n",
       "1  FBM销售商品数  130   60   252   499   405   582\n",
       "2  FBA退货商品数  103  125    78   101   183   209\n",
       "3  FBM退货商品数   10    5     8    19    20    38"
      ]
     },
     "execution_count": 284,
     "metadata": {},
     "output_type": "execute_result"
    }
   ],
   "source": [
    "# CSV文件为上述报表的数据汇总。（只取1-6月的数据）\n",
    "workdf = pd.read_csv('amz_returns_2019.csv').drop([str(a)+'月' for a in range(7, 12+1)], axis='columns')\n",
    "workdf"
   ]
  },
  {
   "cell_type": "code",
   "execution_count": 285,
   "metadata": {
    "ExecuteTime": {
     "end_time": "2019-07-08T14:36:57.614382Z",
     "start_time": "2019-07-08T14:36:57.551362Z"
    }
   },
   "outputs": [
    {
     "data": {
      "text/plain": [
       "[7.69, 8.33, 3.17, 3.81, 4.94, 6.53]"
      ]
     },
     "execution_count": 285,
     "metadata": {},
     "output_type": "execute_result"
    }
   ],
   "source": [
    "[round(x*100,2) for x in (workdf.loc[3][1:] / workdf.loc[1][1:])]"
   ]
  },
  {
   "cell_type": "code",
   "execution_count": 286,
   "metadata": {
    "ExecuteTime": {
     "end_time": "2019-07-08T14:36:57.676437Z",
     "start_time": "2019-07-08T14:36:57.616305Z"
    }
   },
   "outputs": [
    {
     "data": {
      "text/html": [
       "<script>\n",
       "    require.config({\n",
       "        paths: {\n",
       "            'echarts':'https://assets.pyecharts.org/assets/echarts.min'\n",
       "        }\n",
       "    });\n",
       "</script>\n",
       "\n",
       "    <div id=\"3798b8a5893e4786ba146c096e81c8a0\" style=\"width:900px; height:500px;\"></div>\n",
       "\n",
       "\n",
       "<script>\n",
       "    require(['echarts'], function(echarts) {\n",
       "        var chart_3798b8a5893e4786ba146c096e81c8a0 = echarts.init(\n",
       "            document.getElementById('3798b8a5893e4786ba146c096e81c8a0'), 'white', {renderer: 'canvas'});\n",
       "        var option_3798b8a5893e4786ba146c096e81c8a0 = {\n",
       "    \"color\": [\n",
       "        \"#c23531\",\n",
       "        \"#2f4554\",\n",
       "        \"#61a0a8\",\n",
       "        \"#d48265\",\n",
       "        \"#749f83\",\n",
       "        \"#ca8622\",\n",
       "        \"#bda29a\",\n",
       "        \"#6e7074\",\n",
       "        \"#546570\",\n",
       "        \"#c4ccd3\",\n",
       "        \"#f05b72\",\n",
       "        \"#ef5b9c\",\n",
       "        \"#f47920\",\n",
       "        \"#905a3d\",\n",
       "        \"#fab27b\",\n",
       "        \"#2a5caa\",\n",
       "        \"#444693\",\n",
       "        \"#726930\",\n",
       "        \"#b2d235\",\n",
       "        \"#6d8346\",\n",
       "        \"#ac6767\",\n",
       "        \"#1d953f\",\n",
       "        \"#6950a1\",\n",
       "        \"#918597\"\n",
       "    ],\n",
       "    \"series\": [\n",
       "        {\n",
       "            \"type\": \"line\",\n",
       "            \"name\": \"FBA\\u9000\\u8d27\\u7387\\uff08%\\uff09\",\n",
       "            \"connectNulls\": false,\n",
       "            \"symbolSize\": 4,\n",
       "            \"showSymbol\": true,\n",
       "            \"smooth\": false,\n",
       "            \"step\": false,\n",
       "            \"data\": [\n",
       "                [\n",
       "                    \"1\\u6708\",\n",
       "                    10.55\n",
       "                ],\n",
       "                [\n",
       "                    \"2\\u6708\",\n",
       "                    12.82\n",
       "                ],\n",
       "                [\n",
       "                    \"3\\u6708\",\n",
       "                    6.37\n",
       "                ],\n",
       "                [\n",
       "                    \"4\\u6708\",\n",
       "                    7.26\n",
       "                ],\n",
       "                [\n",
       "                    \"5\\u6708\",\n",
       "                    8.75\n",
       "                ],\n",
       "                [\n",
       "                    \"6\\u6708\",\n",
       "                    8.91\n",
       "                ]\n",
       "            ],\n",
       "            \"label\": {\n",
       "                \"show\": true,\n",
       "                \"position\": \"top\",\n",
       "                \"margin\": 8\n",
       "            },\n",
       "            \"lineStyle\": {\n",
       "                \"width\": 1,\n",
       "                \"opacity\": 1,\n",
       "                \"curveness\": 0,\n",
       "                \"type\": \"solid\"\n",
       "            },\n",
       "            \"areaStyle\": {\n",
       "                \"opacity\": 0\n",
       "            },\n",
       "            \"markLine\": {\n",
       "                \"silent\": false,\n",
       "                \"precision\": 2,\n",
       "                \"label\": {\n",
       "                    \"show\": true,\n",
       "                    \"position\": \"top\",\n",
       "                    \"margin\": 8\n",
       "                },\n",
       "                \"data\": [\n",
       "                    {\n",
       "                        \"type\": \"average\"\n",
       "                    }\n",
       "                ]\n",
       "            }\n",
       "        },\n",
       "        {\n",
       "            \"type\": \"line\",\n",
       "            \"name\": \"FBM\\u9000\\u8d27\\u7387\\uff08%\\uff09\",\n",
       "            \"connectNulls\": false,\n",
       "            \"symbolSize\": 4,\n",
       "            \"showSymbol\": true,\n",
       "            \"smooth\": false,\n",
       "            \"step\": false,\n",
       "            \"data\": [\n",
       "                [\n",
       "                    \"1\\u6708\",\n",
       "                    7.69\n",
       "                ],\n",
       "                [\n",
       "                    \"2\\u6708\",\n",
       "                    8.33\n",
       "                ],\n",
       "                [\n",
       "                    \"3\\u6708\",\n",
       "                    3.17\n",
       "                ],\n",
       "                [\n",
       "                    \"4\\u6708\",\n",
       "                    3.81\n",
       "                ],\n",
       "                [\n",
       "                    \"5\\u6708\",\n",
       "                    4.94\n",
       "                ],\n",
       "                [\n",
       "                    \"6\\u6708\",\n",
       "                    6.53\n",
       "                ]\n",
       "            ],\n",
       "            \"label\": {\n",
       "                \"show\": true,\n",
       "                \"position\": \"top\",\n",
       "                \"margin\": 8\n",
       "            },\n",
       "            \"lineStyle\": {\n",
       "                \"width\": 1,\n",
       "                \"opacity\": 1,\n",
       "                \"curveness\": 0,\n",
       "                \"type\": \"solid\"\n",
       "            },\n",
       "            \"areaStyle\": {\n",
       "                \"opacity\": 0\n",
       "            },\n",
       "            \"markLine\": {\n",
       "                \"silent\": false,\n",
       "                \"precision\": 2,\n",
       "                \"label\": {\n",
       "                    \"show\": true,\n",
       "                    \"position\": \"top\",\n",
       "                    \"margin\": 8\n",
       "                },\n",
       "                \"data\": [\n",
       "                    {\n",
       "                        \"type\": \"average\"\n",
       "                    }\n",
       "                ]\n",
       "            }\n",
       "        }\n",
       "    ],\n",
       "    \"legend\": [\n",
       "        {\n",
       "            \"data\": [\n",
       "                \"FBA\\u9000\\u8d27\\u7387\\uff08%\\uff09\",\n",
       "                \"FBM\\u9000\\u8d27\\u7387\\uff08%\\uff09\"\n",
       "            ],\n",
       "            \"selected\": {\n",
       "                \"FBA\\u9000\\u8d27\\u7387\\uff08%\\uff09\": true,\n",
       "                \"FBM\\u9000\\u8d27\\u7387\\uff08%\\uff09\": true\n",
       "            },\n",
       "            \"show\": true,\n",
       "            \"left\": \"right\"\n",
       "        }\n",
       "    ],\n",
       "    \"tooltip\": {\n",
       "        \"show\": true,\n",
       "        \"trigger\": \"item\",\n",
       "        \"triggerOn\": \"mousemove|click\",\n",
       "        \"axisPointer\": {\n",
       "            \"type\": \"line\"\n",
       "        },\n",
       "        \"textStyle\": {\n",
       "            \"fontSize\": 14\n",
       "        },\n",
       "        \"borderWidth\": 0\n",
       "    },\n",
       "    \"xAxis\": [\n",
       "        {\n",
       "            \"show\": true,\n",
       "            \"scale\": false,\n",
       "            \"nameLocation\": \"end\",\n",
       "            \"nameGap\": 15,\n",
       "            \"gridIndex\": 0,\n",
       "            \"inverse\": false,\n",
       "            \"offset\": 0,\n",
       "            \"splitNumber\": 5,\n",
       "            \"minInterval\": 0,\n",
       "            \"splitLine\": {\n",
       "                \"show\": false,\n",
       "                \"lineStyle\": {\n",
       "                    \"width\": 1,\n",
       "                    \"opacity\": 1,\n",
       "                    \"curveness\": 0,\n",
       "                    \"type\": \"solid\"\n",
       "                }\n",
       "            },\n",
       "            \"data\": [\n",
       "                \"1\\u6708\",\n",
       "                \"2\\u6708\",\n",
       "                \"3\\u6708\",\n",
       "                \"4\\u6708\",\n",
       "                \"5\\u6708\",\n",
       "                \"6\\u6708\"\n",
       "            ]\n",
       "        }\n",
       "    ],\n",
       "    \"yAxis\": [\n",
       "        {\n",
       "            \"show\": true,\n",
       "            \"scale\": false,\n",
       "            \"nameLocation\": \"end\",\n",
       "            \"nameGap\": 15,\n",
       "            \"gridIndex\": 0,\n",
       "            \"inverse\": false,\n",
       "            \"offset\": 0,\n",
       "            \"splitNumber\": 5,\n",
       "            \"minInterval\": 0,\n",
       "            \"splitLine\": {\n",
       "                \"show\": false,\n",
       "                \"lineStyle\": {\n",
       "                    \"width\": 1,\n",
       "                    \"opacity\": 1,\n",
       "                    \"curveness\": 0,\n",
       "                    \"type\": \"solid\"\n",
       "                }\n",
       "            }\n",
       "        }\n",
       "    ],\n",
       "    \"title\": [\n",
       "        {\n",
       "            \"text\": \"\\u6bcf\\u6708\\u9000\\u8d27\\u5546\\u54c1\\u6570\\u91cf\\u5360\\u6bd4\"\n",
       "        }\n",
       "    ]\n",
       "};\n",
       "        chart_3798b8a5893e4786ba146c096e81c8a0.setOption(option_3798b8a5893e4786ba146c096e81c8a0);\n",
       "    });\n",
       "</script>\n"
      ],
      "text/plain": [
       "<pyecharts.render.display.HTML at 0x7f72934012b0>"
      ]
     },
     "execution_count": 286,
     "metadata": {},
     "output_type": "execute_result"
    }
   ],
   "source": [
    "# 数据处理\n",
    "RETURN_ITEMS_MONTH_LIST = list(workdf.columns)[1:] # 月份List\n",
    "RETURN_ITEMS_RATE_FBA_LIST = [round(x*100,2) for x in (workdf.loc[2][1:] / workdf.loc[0][1:])] # FBA退货率List\n",
    "RETURN_ITEMS_RATE_FBM_LIST = [round(x*100,2) for x in (workdf.loc[3][1:] / workdf.loc[1][1:])] # FBM退货率List\n",
    "\n",
    "# 图表输出\n",
    "line1 = (\n",
    "    Line(init_opts = opts.InitOpts(theme=ThemeType.WHITE))\n",
    "    .add_xaxis(RETURN_ITEMS_MONTH_LIST)\n",
    "    .add_yaxis(\n",
    "        \"FBA退货率（%）\", \n",
    "        RETURN_ITEMS_RATE_FBA_LIST,\n",
    "        markline_opts=opts.MarkLineOpts(data=[opts.MarkLineItem(type_=\"average\")])\n",
    "    )\n",
    "    .add_yaxis(\n",
    "        \"FBM退货率（%）\", \n",
    "        RETURN_ITEMS_RATE_FBM_LIST,\n",
    "        markline_opts=opts.MarkLineOpts(data=[opts.MarkLineItem(type_=\"average\")])\n",
    "    )\n",
    "    .set_global_opts(\n",
    "        title_opts=opts.TitleOpts(title=\"每月退货商品数量占比\"),\n",
    "        legend_opts=opts.LegendOpts(pos_left=\"right\")\n",
    "     )\n",
    ")\n",
    "line1.render_notebook()"
   ]
  },
  {
   "cell_type": "markdown",
   "metadata": {},
   "source": [
    "结论：\n",
    "\n",
    "- 由于退货和操作相对容易，每月FBA退货率比FBM退货率平均要高3个百分点左右。\n",
    "\n",
    "- 相比起国内天猫店平台平均不到 5% 的退货率而言，Amazon的FBA退货率平均约为 8-9% 。\n",
    "\n",
    "- 上图中，平均值参考线因采用了百分比取均值计算，因此结果和实际数值会有一定偏差，仅供参考。"
   ]
  },
  {
   "cell_type": "markdown",
   "metadata": {
    "ExecuteTime": {
     "end_time": "2019-07-08T10:40:35.909142Z",
     "start_time": "2019-07-08T10:40:35.906807Z"
    }
   },
   "source": [
    "### FBA商品退货损失均摊"
   ]
  },
  {
   "cell_type": "code",
   "execution_count": 287,
   "metadata": {
    "ExecuteTime": {
     "end_time": "2019-07-08T14:36:57.766822Z",
     "start_time": "2019-07-08T14:36:57.757870Z"
    }
   },
   "outputs": [
    {
     "name": "stdout",
     "output_type": "stream",
     "text": [
      "FBA商品统计期（2019年1-6月，美国）内销售与退货数据：\n",
      "\n",
      "销售总数为：9005对。\n",
      "退货总数为：799对。\n",
      "平均退货率为：0.0887\n",
      "\n",
      "退货总损失为：$14350.04\n",
      "退货损失均摊至每件商品为：$1.59\n"
     ]
    }
   ],
   "source": [
    "# FBA商品数据计算。\n",
    "SALES_ITEMS_COUNT_US = workdf.loc[0][1:].sum() # 销售总数\n",
    "RETURN_ITEMS_COUNT_US = workdf.loc[2][1:].sum() # 退货总数\n",
    "RETURN_ITEMS_RATE_AVR_US = RETURN_ITEMS_COUNT_US / SALES_ITEMS_COUNT_US # 平均退货率\n",
    "\n",
    "print('FBA商品统计期（2019年1-6月，美国）内销售与退货数据：\\n')\n",
    "print('销售总数为：{0}对。'.format(SALES_ITEMS_COUNT_US))\n",
    "print('退货总数为：{0}对。'.format(RETURN_ITEMS_COUNT_US))\n",
    "print('平均退货率为：{0:.4f}'.format(RETURN_ITEMS_RATE_AVR_US))\n",
    "\n",
    "print('\\n退货总损失为：${0:.2f}'.format(-RETURN_ITEMS_COUNT_US * RETURN_LOSS_US))\n",
    "print('退货损失均摊至每件商品为：${0:.2f}'.format(-RETURN_ITEMS_COUNT_US * RETURN_LOSS_US / SALES_ITEMS_COUNT_US))"
   ]
  },
  {
   "cell_type": "markdown",
   "metadata": {},
   "source": [
    "## 平台订阅费用支出 Monthly Subscrption Fees"
   ]
  },
  {
   "cell_type": "markdown",
   "metadata": {},
   "source": [
    "## 其他费用 Other Costs"
   ]
  },
  {
   "cell_type": "markdown",
   "metadata": {},
   "source": [
    "### 公司管理费用 Administration Fees"
   ]
  },
  {
   "cell_type": "markdown",
   "metadata": {},
   "source": [
    "### 财务支出 Financial Charges"
   ]
  },
  {
   "cell_type": "markdown",
   "metadata": {},
   "source": [
    "### 汇损 Exchange loss"
   ]
  }
 ],
 "metadata": {
  "kernelspec": {
   "display_name": "Python 3",
   "language": "python",
   "name": "python3"
  },
  "language_info": {
   "codemirror_mode": {
    "name": "ipython",
    "version": 3
   },
   "file_extension": ".py",
   "mimetype": "text/x-python",
   "name": "python",
   "nbconvert_exporter": "python",
   "pygments_lexer": "ipython3",
   "version": "3.7.3"
  },
  "latex_envs": {
   "LaTeX_envs_menu_present": true,
   "autoclose": false,
   "autocomplete": true,
   "bibliofile": "biblio.bib",
   "cite_by": "apalike",
   "current_citInitial": 1,
   "eqLabelWithNumbers": true,
   "eqNumInitial": 1,
   "hotkeys": {
    "equation": "Ctrl-E",
    "itemize": "Ctrl-I"
   },
   "labels_anchors": false,
   "latex_user_defs": false,
   "report_style_numbering": false,
   "user_envs_cfg": false
  },
  "toc": {
   "base_numbering": 1,
   "nav_menu": {},
   "number_sections": true,
   "sideBar": true,
   "skip_h1_title": false,
   "title_cell": "Table of Contents",
   "title_sidebar": "Contents",
   "toc_cell": false,
   "toc_position": {},
   "toc_section_display": true,
   "toc_window_display": false
  }
 },
 "nbformat": 4,
 "nbformat_minor": 2
}
