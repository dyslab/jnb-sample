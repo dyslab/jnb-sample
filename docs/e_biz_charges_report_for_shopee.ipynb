{
 "cells": [
  {
   "cell_type": "markdown",
   "metadata": {},
   "source": [
    "Doc title: **Cross-Border E-Business Platform Charges Report Series (Shopee)**\n",
    "\n",
    "Article notes: This is a series of document files for introducing the charges of various cross-border e-business platform. It is targeting on going to be a proper preparation for running business on these e-platforms and fits for newbies.\n",
    "\n",
    "文章备注：介绍目前主要跨境电商平台的运营收费。本篇介绍Shopee平台。\n",
    "\n",
    "Last modified date: 2019-08-06 19:32:15 "
   ]
  },
  {
   "cell_type": "markdown",
   "metadata": {},
   "source": [
    "# 平台简介 Brief Intro\n",
    "\n",
    "Shopee平台是纽交所上市的SEA公司下属电商平台，自2017年开始在东南亚大力推广，是这两年东南亚地区增长最快的电商平台。目前东南亚地区电商交易额排行第2，仅次于Lazada。\n",
    "\n",
    "Shopee覆盖的国家和地区于包括新加坡、马来西亚、菲律宾、台湾、印度尼西亚、泰国和越南（与Lazada高度重合）。\n",
    "\n",
    "Shopee后台管理模式类似于速卖通和Lazada的混合体，类似Lazada的不同国家地区分为不同子站点，类似速卖通的统一管理商品，可设置店铺折扣活动和参与平台活动，以及与速卖通直通车相似的关键字广告等。"
   ]
  },
  {
   "cell_type": "markdown",
   "metadata": {},
   "source": [
    "# 费用介绍 Charges"
   ]
  },
  {
   "cell_type": "markdown",
   "metadata": {},
   "source": [
    "Shopee平台2019年针对中国跨境卖家，无平台使用费、年费，无保证金。采用分级佣金制，按订单收取佣金和支付手续费。并且目前实施入驻头三个月交易免佣金制度"
   ]
  },
  {
   "cell_type": "markdown",
   "metadata": {},
   "source": [
    "## 佣金 Commission Fees\n",
    "\n",
    "自2019年7月16日起，Shopee平台佣金费率规定如下：\n",
    "\n",
    "![shopee_commission_fees.png](shopee_commission_fees.png)"
   ]
  },
  {
   "cell_type": "markdown",
   "metadata": {},
   "source": [
    "## 交易手续费 Charges Of  Transaction Service\n",
    "Shopee平台手续费率规定如下：\n",
    "\n",
    "![shopee_service_fees.png](shopee_service_fees.png)"
   ]
  },
  {
   "cell_type": "markdown",
   "metadata": {},
   "source": [
    "## SLS物流费用\n",
    "\n",
    "与Lazada相似，Shopee对物流渠道同样有所要求，具体如下图所示：\n",
    "\n",
    "![shopee_logistics_channel.png](shopee_logistics_channel.png)\n",
    "\n",
    "Shopee推荐采用的物流为SLS（Shopee Logistics Service），目前国内有深圳、上海、义乌、泉州四个SLS集货仓。\n",
    "\n",
    "\n",
    "SLS跨境费率标准如下（均以重量0.5kg为准，由于大多数东南亚国家均采用分区邮费计算，因此部分站点显示的是其可能的运费范围）：\n",
    "\n",
    "\n",
    "- 台湾，NTD$75-85 （分为店配和宅配）\n",
    "\n",
    "- 马来西亚，MYR$11.3-12.3\n",
    "\n",
    "- 印度尼西亚，IDR$70000-100000\n",
    "\n",
    "- 菲律宾，PHP$374-424\n",
    "\n",
    "- 新加坡，SGD$6.55\n",
    "\n",
    "- 泰国，THB$130-330\n",
    "\n",
    "- 越南，VND$60000-85000"
   ]
  },
  {
   "cell_type": "markdown",
   "metadata": {},
   "source": [
    "## 产品推广费用\n",
    "\n",
    "\n",
    "Shopee产品运营推广项目包括：\n",
    "\n",
    "- 关键字广告（Paid Ads，收费广告）\n",
    "\n",
    "- 店铺折扣、优惠券\n",
    "\n",
    "- 参与平台活动\n",
    "\n",
    "- 站外引流、粉丝圈\n",
    "\n",
    "- 小语种客服支持（泰语、印尼语、越南语，新卖家有免费期，过后部分站点收费，费率为2%）\n",
    "\n",
    "\n",
    "因此类费用非必须，本文测算基础定价时不作考虑。"
   ]
  },
  {
   "cell_type": "markdown",
   "metadata": {},
   "source": [
    "# 定价测算 Pricing Estimation\n",
    "\n",
    "Shopee的成本与费用可分为以下几个部分：\n",
    "\n",
    "（1）固定成本\n",
    "\n",
    "包括：出厂成本，运费，佣金，手续费\n",
    "\n",
    "（2）非固定成本\n",
    "\n",
    "包括：广告费、小语种客服费用"
   ]
  },
  {
   "cell_type": "code",
   "execution_count": 1,
   "metadata": {
    "ExecuteTime": {
     "end_time": "2019-08-06T11:33:21.719835Z",
     "start_time": "2019-08-06T11:33:21.713617Z"
    }
   },
   "outputs": [],
   "source": [
    "# 费用设置说明\n",
    "\n",
    "# 生产成本（人民币）\n",
    "RMB_COP = 20\n",
    "\n",
    "# 国内运费（人民币）\n",
    "RMB_DLC = 3\n",
    "\n",
    "# 马来西亚SLS跨境运费及汇率（以一对鞋平均约0.5kg计算，以运费最高值计算，下同，马币）\n",
    "MYR_SLS = 12.3\n",
    "MYR_EXCHANGE_RATE = 1.65\n",
    "\n",
    "# 印度尼西亚SLS跨境运费及汇率（印尼盾）\n",
    "IDR_SLS = 100000\n",
    "IDR_EXCHANGE_RATE = 0.0005\n",
    "\n",
    "# 菲律宾SLS跨境运费及汇率（菲律宾比索）\n",
    "PHP_SLS = 424\n",
    "PHP_EXCHANGE_RATE = 0.15\n",
    "\n",
    "# 新加坡SLS跨境运费及汇率（新加坡币）\n",
    "SGD_SLS = 6.55\n",
    "SGD_EXCHANGE_RATE = 5\n",
    "\n",
    "# 泰国SLS跨境运费及汇率（泰铢）\n",
    "THB_SLS = 330\n",
    "THB_EXCHANGE_RATE = 0.2\n",
    "\n",
    "# 越南SLS跨境运费及汇率（越南盾）\n",
    "VND_SLS = 85000\n",
    "VND_EXCHANGE_RATE = 0.0003\n",
    "\n",
    "# 台湾SLS跨境运费及汇率（新台币）\n",
    "NTD_SLS = 85\n",
    "NTD_EXCHANGE_RATE = 0.25\n",
    "\n",
    "# 佣金费率\n",
    "CR_RATE = 0.06\n",
    "\n",
    "# 交易手续费率\n",
    "PR_RATE = 0.02"
   ]
  },
  {
   "cell_type": "code",
   "execution_count": 2,
   "metadata": {
    "ExecuteTime": {
     "end_time": "2019-08-06T11:33:21.851290Z",
     "start_time": "2019-08-06T11:33:21.728293Z"
    }
   },
   "outputs": [
    {
     "name": "stdout",
     "output_type": "stream",
     "text": [
      "Shopee计算结果如下：\n",
      "\n",
      "马来西亚测算成本价：MYR$28.52，约合人民币￥47.06。\n",
      "\n",
      "印度尼西亚测算成本价：IDR$158695.65，约合人民币￥79.35。\n",
      "\n",
      "菲律宾测算成本价：PHP$627.54，约合人民币￥94.13。\n",
      "\n",
      "新加坡测算成本价：SGD$12.12，约合人民币￥60.60。\n",
      "\n",
      "泰国测算成本价：THB$483.70，约合人民币￥96.74。\n",
      "\n",
      "越南测算成本价：VND$175724.64，约合人民币￥52.72。\n",
      "\n",
      "台湾测算成本价：VND$192.39，约合人民币￥48.10。\n",
      "\n"
     ]
    }
   ],
   "source": [
    "# 成本价（零利润）计算\n",
    "# 公式： 成本价 = 生产成本 + 国内运费 + 跨境运费 + 佣金 + 手续费\n",
    "\n",
    "print('Shopee计算结果如下：\\n')\n",
    "\n",
    "# 马来西亚（马币）\n",
    "COST_MYR = round(((RMB_COP + RMB_DLC) / MYR_EXCHANGE_RATE + MYR_SLS) / (1 - CR_RATE - PR_RATE), 2)\n",
    "print('马来西亚测算成本价：MYR${:.2f}，约合人民币￥{:.2f}。\\n'.format(COST_MYR, COST_MYR * MYR_EXCHANGE_RATE))\n",
    "\n",
    "# 印度尼西亚（印尼盾）\n",
    "COST_IDR = round(((RMB_COP + RMB_DLC) / IDR_EXCHANGE_RATE + IDR_SLS) / (1 - CR_RATE - PR_RATE), 2)\n",
    "print('印度尼西亚测算成本价：IDR${:.2f}，约合人民币￥{:.2f}。\\n'.format(COST_IDR, COST_IDR * IDR_EXCHANGE_RATE))\n",
    "\n",
    "# 菲律宾（菲律宾比索）\n",
    "COST_PHP = round(((RMB_COP + RMB_DLC) / PHP_EXCHANGE_RATE + PHP_SLS) / (1 - CR_RATE - PR_RATE), 2)\n",
    "print('菲律宾测算成本价：PHP${:.2f}，约合人民币￥{:.2f}。\\n'.format(COST_PHP, COST_PHP * PHP_EXCHANGE_RATE))\n",
    "\n",
    "# 新加坡（新加坡币）\n",
    "COST_SGD = round(((RMB_COP + RMB_DLC) / SGD_EXCHANGE_RATE + SGD_SLS) / (1 - CR_RATE - PR_RATE), 2)\n",
    "print('新加坡测算成本价：SGD${:.2f}，约合人民币￥{:.2f}。\\n'.format(COST_SGD, COST_SGD * SGD_EXCHANGE_RATE))\n",
    "\n",
    "# 泰国（泰铢）\n",
    "COST_THB = round(((RMB_COP + RMB_DLC) / THB_EXCHANGE_RATE + THB_SLS) / (1 - CR_RATE - PR_RATE), 2)\n",
    "print('泰国测算成本价：THB${:.2f}，约合人民币￥{:.2f}。\\n'.format(COST_THB, COST_THB * THB_EXCHANGE_RATE))\n",
    "\n",
    "# 越南（越南盾）\n",
    "COST_VND = round(((RMB_COP + RMB_DLC) / VND_EXCHANGE_RATE + VND_SLS) / (1 - CR_RATE - PR_RATE), 2)\n",
    "print('越南测算成本价：VND${:.2f}，约合人民币￥{:.2f}。\\n'.format(COST_VND, COST_VND * VND_EXCHANGE_RATE))\n",
    "\n",
    "# 台湾（新台币）\n",
    "COST_NTD = round(((RMB_COP + RMB_DLC) / NTD_EXCHANGE_RATE + NTD_SLS) / (1 - CR_RATE - PR_RATE), 2)\n",
    "print('台湾测算成本价：VND${:.2f}，约合人民币￥{:.2f}。\\n'.format(COST_NTD, COST_NTD * NTD_EXCHANGE_RATE))"
   ]
  },
  {
   "cell_type": "markdown",
   "metadata": {
    "ExecuteTime": {
     "end_time": "2019-08-05T21:48:01.857234Z",
     "start_time": "2019-08-05T21:48:01.845819Z"
    }
   },
   "source": [
    "**以下是Lazada相同条件下的测算结果：**\n",
    "\n",
    "<img src='lazada_cost_analysis_result.png' align='left'>"
   ]
  },
  {
   "cell_type": "markdown",
   "metadata": {},
   "source": [
    "<hr>"
   ]
  },
  {
   "cell_type": "markdown",
   "metadata": {},
   "source": [
    "# 几点想法 Thoughts Of Start"
   ]
  },
  {
   "cell_type": "markdown",
   "metadata": {},
   "source": [
    "（1）Shopee这两年一直在加大对东南亚市场的投入，3个月的免佣金期，以及较为合理的后台管理模式，对卖家具有一定的额吸引力。\n",
    "\n",
    "\n",
    "（2）通过上述的测算，需要注意的是，由于物流方面Shopee不占优势，因此包邮商品的成本在Shopee平台上总体要比Lazada高出不少，这也造成同样是包邮产品的价格设置上，Shopee平台上无法做到比Lazada平台更低的价格。因此，设置不包邮销售（可设置免邮费额度）可能在Shopee上更为现实一些。\n",
    "\n",
    "\n",
    "（3）对于产品上架要求，Shopee并未强调商品页面上的设计要求。不过Shopee后台也有“店铺装修”等类似功能，结合这两年东南亚电商市场的发展，对店铺和商品页面进行一些美工设计优化也将会成为一个必然趋势。\n",
    "\n",
    "\n",
    "（4）跨境物流方面，Shopee的SLS总体上和Lazada的LGS操作模式差不多，都是在收到订单后，把货物打包好发到相应的国内集货仓即可，两者也同样在深圳和义乌这两个国内跨境贸易活跃的地方设置有集货仓。\n",
    "\n",
    "\n",
    "（5）客服方面，Shopee针对泰国、越南、印尼市场有小语种客服服务，新卖家可以免费申请使用一段时间，免费期后需要付一定的服务费用（目前与交易手续费相同，为订单价格的2%）。对于新加坡、菲律宾、马来西亚，Shopee建议买家和卖家采用英语交流，因此由卖家负责客服。台湾订单采用中文客服。"
   ]
  },
  {
   "cell_type": "markdown",
   "metadata": {},
   "source": [
    "# 附录：参考链接 References Links\n",
    "\n",
    "\n",
    "\n",
    "- [Shopee卖家官方网站](https://shopee.cn/)\n",
    "\n",
    "\n",
    "- [Shopee卖家入驻通道](https://shopee.cn/seller)"
   ]
  },
  {
   "cell_type": "markdown",
   "metadata": {},
   "source": [
    "[返回目录](e_biz_charges_report_catalog.ipynb)"
   ]
  }
 ],
 "metadata": {
  "kernelspec": {
   "display_name": "Python 3",
   "language": "python",
   "name": "python3"
  },
  "language_info": {
   "codemirror_mode": {
    "name": "ipython",
    "version": 3
   },
   "file_extension": ".py",
   "mimetype": "text/x-python",
   "name": "python",
   "nbconvert_exporter": "python",
   "pygments_lexer": "ipython3",
   "version": "3.7.3"
  },
  "latex_envs": {
   "LaTeX_envs_menu_present": true,
   "autoclose": false,
   "autocomplete": true,
   "bibliofile": "biblio.bib",
   "cite_by": "apalike",
   "current_citInitial": 1,
   "eqLabelWithNumbers": true,
   "eqNumInitial": 1,
   "hotkeys": {
    "equation": "Ctrl-E",
    "itemize": "Ctrl-I"
   },
   "labels_anchors": false,
   "latex_user_defs": false,
   "report_style_numbering": false,
   "user_envs_cfg": false
  },
  "toc": {
   "base_numbering": 1,
   "nav_menu": {},
   "number_sections": true,
   "sideBar": true,
   "skip_h1_title": false,
   "title_cell": "Table of Contents",
   "title_sidebar": "Contents",
   "toc_cell": false,
   "toc_position": {},
   "toc_section_display": true,
   "toc_window_display": false
  }
 },
 "nbformat": 4,
 "nbformat_minor": 2
}
