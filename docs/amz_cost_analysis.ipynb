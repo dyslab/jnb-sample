{
 "cells": [
  {
   "cell_type": "markdown",
   "metadata": {},
   "source": [
    "Doc title: **Amazon FBA商品成本分析 The Costs Analysis @Amazon FBA**\n",
    "\n",
    "Article notes: In terms of the complexity and diversity of real statistic data, this thesis is purpose to clarify and estimate the composition of approximate costs and profits on Amazon other than dedicate to the actual costs and profits for running business on Amazon.\n",
    "\n",
    "文章备注：取决于真实数据的多样性和复杂性，本文不代表实际发生结果，只作为对成本利润的评测和估算。\n",
    "\n",
    "Last modified date: 2019-07-12 02:13:47 "
   ]
  },
  {
   "cell_type": "markdown",
   "metadata": {},
   "source": [
    "\n",
    "\n",
    "# 直接成本构成 The Composition Of Items Costs\n",
    "\n"
   ]
  },
  {
   "cell_type": "markdown",
   "metadata": {},
   "source": [
    "注：以下成本及毛利分析均以目前主流的 **FBA发货商品** 作为测算对象，以下为计算涉及的正常环节流程图表："
   ]
  },
  {
   "cell_type": "markdown",
   "metadata": {
    "ExecuteTime": {
     "end_time": "2019-07-10T15:26:26.381115Z",
     "start_time": "2019-07-10T15:26:26.375074Z"
    }
   },
   "source": [
    "<img src=\"amz_ca_diagram_01.png\" style=\"width: 100%;\" />"
   ]
  },
  {
   "cell_type": "markdown",
   "metadata": {},
   "source": [
    "## 第一阶段，由出厂到目的国的固定成本 1st Stage, Fixed Costs Of Items From Factory To Destination FBA Warehouse"
   ]
  },
  {
   "cell_type": "markdown",
   "metadata": {},
   "source": [
    "### 生产成本 Costs Of Production"
   ]
  },
  {
   "cell_type": "markdown",
   "metadata": {
    "ExecuteTime": {
     "end_time": "2019-07-05T20:11:08.386870Z",
     "start_time": "2019-07-05T20:11:08.382301Z"
    }
   },
   "source": [
    "每双鞋的生产出货成本。"
   ]
  },
  {
   "cell_type": "code",
   "execution_count": 1,
   "metadata": {
    "ExecuteTime": {
     "end_time": "2019-07-11T18:13:57.983301Z",
     "start_time": "2019-07-11T18:13:57.980619Z"
    },
    "scrolled": true
   },
   "outputs": [],
   "source": [
    "# 人民币（元）。\n",
    "RMB_COP = 20"
   ]
  },
  {
   "cell_type": "markdown",
   "metadata": {},
   "source": [
    "### 头程运费 Head Freight Rates of Cross-border Cargo Shipping"
   ]
  },
  {
   "cell_type": "markdown",
   "metadata": {},
   "source": [
    "#### 国内运费 Part 1: Domestic Shipping Charges"
   ]
  },
  {
   "cell_type": "markdown",
   "metadata": {},
   "source": [
    "由产地运输到跨境货代集货仓的运费。"
   ]
  },
  {
   "cell_type": "code",
   "execution_count": 2,
   "metadata": {
    "ExecuteTime": {
     "end_time": "2019-07-11T18:13:58.149879Z",
     "start_time": "2019-07-11T18:13:58.147560Z"
    }
   },
   "outputs": [],
   "source": [
    "# 目前发往美国FBA的货物主要发往广州（国内物流方式：零担），均摊约为0.2元/双，\n",
    "# 发往英国FBA的货物主要发往深圳（国内物流方式：快递），均摊约为0.5元/双。\n",
    "# 人民币（元）。\n",
    "RMB_DSC_US = 0.2\n",
    "RMB_DSC_UK = 0.5"
   ]
  },
  {
   "cell_type": "markdown",
   "metadata": {},
   "source": [
    "#### 跨境货运费 Part 2: Cross-border Shipping Charges"
   ]
  },
  {
   "cell_type": "markdown",
   "metadata": {},
   "source": [
    "由跨境货代集货仓运输至目的地FBA仓库的运费。"
   ]
  },
  {
   "cell_type": "code",
   "execution_count": 3,
   "metadata": {
    "ExecuteTime": {
     "end_time": "2019-07-11T18:13:58.267080Z",
     "start_time": "2019-07-11T18:13:58.264767Z"
    }
   },
   "outputs": [],
   "source": [
    "# 目前发往美国FBA的货物主要发往美东地区（物流方式：海运双清），均摊约为5.8元/双。\n",
    "# 英国FBA（物流方式：海运不含税），均摊约为4.5元/双。\n",
    "# 人民币（元）。\n",
    "RMB_CSC_US = 5.8\n",
    "RMB_CSC_UK = 4.5"
   ]
  },
  {
   "cell_type": "markdown",
   "metadata": {},
   "source": [
    "### 附加成本1：欧洲及英国的进口关税和VAT商品增值税 Affix Rates 1. Tariff and Imported VAT @EU & Britain"
   ]
  },
  {
   "cell_type": "markdown",
   "metadata": {},
   "source": [
    "目前英国及欧盟地区对VAT税收管理较严，同时因欧盟各国对亚马逊实施偷税及反垄断调查，亚马逊在税务方面要求也愈加严格。通过税号填写，向HMRC UK开放后台报表及IEN号码查询，目前大部分英国货代已不建议采用以往双清到门的包税渠道发货。\n",
    "\n",
    "因货代已申明因包税渠道造成的可能税务罚款和亚马逊责任均由发货人和买家自行负责，因此目前发往英国FBA货物已全部改为以自身VAT号报税的不含税渠道。\n",
    "\n",
    "美国采用双清渠道，目前无此费用。"
   ]
  },
  {
   "cell_type": "code",
   "execution_count": 4,
   "metadata": {
    "ExecuteTime": {
     "end_time": "2019-07-11T18:13:58.401954Z",
     "start_time": "2019-07-11T18:13:58.396182Z"
    }
   },
   "outputs": [],
   "source": [
    "# 英国及欧盟经济体进口税包括：\n",
    "#     1. 欧盟经济区外第三国关税税率17%，\n",
    "#     2. 各国VAT（英国：20%，德国：19%，法国：20%，意大利：22%，西班牙：21%）\n",
    "#     3. 进口货物税率计算按申报价值+运杂费为基准数。\n",
    "# 目前发往国外FBA的货物申报价值均为USD$2美元/双。实缴均摊约为6.5元/双。\n",
    "# 人民币（元）。\n",
    "RMB_IMPORTED_TAX_UK = 6.5"
   ]
  },
  {
   "cell_type": "code",
   "execution_count": 5,
   "metadata": {
    "ExecuteTime": {
     "end_time": "2019-07-11T18:13:58.487112Z",
     "start_time": "2019-07-11T18:13:58.404298Z"
    }
   },
   "outputs": [
    {
     "name": "stdout",
     "output_type": "stream",
     "text": [
      "美国第一阶段合计成本：26.0元。\n",
      "英国第一阶段合计成本：31.5元。\n"
     ]
    }
   ],
   "source": [
    "# 第一阶段成本合计如下：\n",
    "# 人民币（元）。\n",
    "S1_SUM_US = RMB_COP + RMB_DSC_US + RMB_CSC_US                         # 美国\n",
    "S1_SUM_UK = RMB_COP + RMB_DSC_UK + RMB_CSC_UK + RMB_IMPORTED_TAX_UK   # 英国\n",
    "\n",
    "print('美国第一阶段合计成本：{0}元。'.format(S1_SUM_US))\n",
    "print('英国第一阶段合计成本：{0}元。'.format(S1_SUM_UK))"
   ]
  },
  {
   "cell_type": "markdown",
   "metadata": {},
   "source": [
    "## 第二阶段，目的国FBA的固定销售成本 2nd Stage, The Outlay of Sales Costs by FBA @Destination"
   ]
  },
  {
   "cell_type": "markdown",
   "metadata": {},
   "source": [
    "以下部分支出发生在国外，因此均已当地货币计价后换算人民币。"
   ]
  },
  {
   "cell_type": "code",
   "execution_count": 6,
   "metadata": {
    "ExecuteTime": {
     "end_time": "2019-07-11T18:13:58.562856Z",
     "start_time": "2019-07-11T18:13:58.528513Z"
    }
   },
   "outputs": [],
   "source": [
    "# 美元采用汇率为6.5。2019年7月份美元实际汇率为6.8左右。\n",
    "EXCHANGE_RATE_USD = 6.5\n",
    "\n",
    "# 英镑采用汇率为8。2019年7月份英镑实际汇率为8.6左右。\n",
    "EXCHANGE_RATE_GBP = 8\n",
    "\n",
    "# 欧元采用汇率为7.7。2019年7月份欧元实际汇率为7.7左右。\n",
    "EXCHANGE_RATE_EUR = 7.7"
   ]
  },
  {
   "cell_type": "markdown",
   "metadata": {},
   "source": [
    "### FBA入库配置费 Inbound Settlement Charges"
   ]
  },
  {
   "cell_type": "markdown",
   "metadata": {},
   "source": [
    "根据亚马逊所述，入库配置费是针对货物最终发往不同FBA运营中心，为方便卖家统一发货，将同批次货物发到同一收货中心，再由亚马逊自行配送到不同运营中心所收取的服务费用。入库配置费的实际费用是结合体积与重量进行计算。\n",
    "\n",
    "按照亚马逊标准尺寸产品，1-2磅重的货物在美国FBA收费标准为 `0.3-0.4美元/件` 。\n",
    "\n",
    "而英国和欧洲国家面积不大，目前尚未发现有此类收费。"
   ]
  },
  {
   "cell_type": "code",
   "execution_count": 7,
   "metadata": {
    "ExecuteTime": {
     "end_time": "2019-07-11T18:13:58.655710Z",
     "start_time": "2019-07-11T18:13:58.652339Z"
    }
   },
   "outputs": [],
   "source": [
    "# 美国计算取均值为USD$0.35美元/件。\n",
    "ISC_USD = 0.35"
   ]
  },
  {
   "cell_type": "markdown",
   "metadata": {},
   "source": [
    "### FBA仓储费 Storage Fees"
   ]
  },
  {
   "cell_type": "markdown",
   "metadata": {},
   "source": [
    "FBA仓储费属于一项变动开支，其计算因素包括：库存数量，体积大小，存放时间，存放时期，按月度计算，每月的 7 日到 15 日之间收取上个月的月度库存仓储费。\n",
    "\n",
    "\n",
    "\n",
    "美国收费2019年实施标准如下：（标准尺寸分类）\n",
    "\n",
    "- 1 月 - 9 月： 每立方英尺 `$0.69`\n",
    "\n",
    "- 10 月 - 12 月： 每立方英尺 `$2.40`\n",
    "\n",
    "*（注意:美国2019年标准中，10-12月的仓储费率是1-9月的仓储费率约3.5倍）*\n",
    "\n",
    "\n",
    "\n",
    "英国及欧洲地区收费自2019年4月1日实施标准如下：（服装、鞋靴和箱包分类）\n",
    "\n",
    "英国（按每月的平均每日储存量计算，以立方英尺为单位）\n",
    "\n",
    "- 1 月 - 9 月： `£0.39`\n",
    "\n",
    "- 10 月 - 12 月： `£0.55`\n",
    "\n",
    "德国、法国、意大利、西班牙（按每月的平均每日储存量计算，以立方米为单位）\n",
    "\n",
    "- 1 月 - 9 月： `€15.60`\n",
    "\n",
    "- 10 月 - 12 月： `€21.60`"
   ]
  },
  {
   "cell_type": "code",
   "execution_count": 8,
   "metadata": {
    "ExecuteTime": {
     "end_time": "2019-07-11T18:13:58.781255Z",
     "start_time": "2019-07-11T18:13:58.773799Z"
    }
   },
   "outputs": [
    {
     "name": "stdout",
     "output_type": "stream",
     "text": [
      "美国3个月每对鞋平均仓储费：0.21美元。\n",
      "英国3个月每对鞋平均仓储费：0.12英镑。\n"
     ]
    }
   ],
   "source": [
    "# 按照亚马逊建议的3个月存储期作为平均仓储成本计算。\n",
    "# 鞋子以每对0.1立方英尺（实际约为0.07-0.11之间）计算。\n",
    "SF_USD = (0.69 * 0.1) * 3   # 美国\n",
    "SF_GBP = (0.39 * 0.1) * 3   # 英国\n",
    "\n",
    "print('美国3个月每对鞋平均仓储费：{0:.2f}美元。'.format(SF_USD))\n",
    "print('英国3个月每对鞋平均仓储费：{0:.2f}英镑。'.format(SF_GBP))"
   ]
  },
  {
   "cell_type": "markdown",
   "metadata": {},
   "source": [
    "### 长期仓储费LTSF Long Term Storage Fees"
   ]
  },
  {
   "cell_type": "markdown",
   "metadata": {},
   "source": [
    "长期仓储费2019年起按如下要求实施：\n",
    "\n",
    "- 按月评估，按月收费\n",
    "\n",
    "- 每月 15 日进行库存清点计算。\n",
    "\n",
    "\n",
    "美国2019年2月15日起实施的LTSF费用标准：\n",
    "\n",
    "每月 15 日，亚马逊物流 (FBA) 会进行库存清点。我们将按每立方英尺`$6.90`的标准对已在美国运营中心存放超过 365 天的库存收取长期仓储费 (LTSF)，或每件收取`$0.15`的长期仓储费（以较大值为准）。\n",
    "\n",
    "\n",
    "英国2019年LTSF费用标准：对于在亚马逊运营中心存放超过 365 天的库存，亚马逊将按每立方英尺`£4.3`或每件商品最低`£0.10`的标准收取长期仓储费（取二者中的较高者）。\n",
    "\n",
    "\n",
    "欧洲地区2019年LTSF费用标准：对于在亚马逊运营中心存放超过 365 天的库存，亚马逊将按每立方米`€170`或每件商品最低`€0.10`的标准收取长期仓储费（取二者中的较高者）。"
   ]
  },
  {
   "cell_type": "code",
   "execution_count": 9,
   "metadata": {
    "ExecuteTime": {
     "end_time": "2019-07-11T18:13:58.906143Z",
     "start_time": "2019-07-11T18:13:58.902013Z"
    }
   },
   "outputs": [],
   "source": [
    "# 因此项收费难以估算，应列入支出而不作为成本考虑"
   ]
  },
  {
   "cell_type": "markdown",
   "metadata": {},
   "source": [
    "### FBA尾程配送费 Tail Feright Rates by FBA"
   ]
  },
  {
   "cell_type": "markdown",
   "metadata": {},
   "source": [
    "以我司产品的普遍尺寸重量作为分类依据，各国地区费用如下：\n",
    "\n",
    "美国2019年FBA物流配送费为：大号标准尺寸（1 至 2 磅）`$4.76/件`。\n",
    "\n",
    "英国的情况比较复杂，目前采用EFN（欧洲配送网络）跨境物流服务，从英国FBA仓库发货到欧洲各国，其2019年收费标准（5月29日新版）如下，以目的国货币计价：\n",
    "\n",
    "产品尺寸归为 `标准包裹`，重量涵盖2个类别：\n",
    "\n",
    "- 标准包裹，小于等于0.5kg， 英国 国内派送：£2.14/件，发法国：€4.88/件，发西班牙：€3.19/件，发意大利：€3.78/件，发德国：€2.65-3.15/件\n",
    "\n",
    "- 标准包裹，小于等于1kg， 英国 国内派送：£2.30/件，发法国：€5.11/件，发西班牙：€3.41/件，发意大利：€4.41/件，发德国：€3.08-3.58/件"
   ]
  },
  {
   "cell_type": "code",
   "execution_count": 10,
   "metadata": {
    "ExecuteTime": {
     "end_time": "2019-07-11T18:13:59.034544Z",
     "start_time": "2019-07-11T18:13:59.029064Z"
    }
   },
   "outputs": [],
   "source": [
    "FBA_US = 4.76     # 美国\n",
    "FBA_UK_GBP = 2.14  # 英国\n",
    "FBA_FR_EUR = 4.88  # 法国\n",
    "FBA_DE_EUR = 3.15  # 德国\n",
    "FBA_IT_EUR = 3.78  # 意大利\n",
    "FBA_ES_EUR = 3.19  # 西班牙"
   ]
  },
  {
   "cell_type": "markdown",
   "metadata": {},
   "source": [
    "### 亚马逊佣金 Amazon Commission Rates"
   ]
  },
  {
   "cell_type": "markdown",
   "metadata": {},
   "source": [
    "亚马逊美国站对于鞋靴类产品的销售佣金规定如下：\n",
    "\n",
    "- 对于总销售价格不超过 $75.00 的商品，收取 `15%` 的销售佣金；\n",
    "\n",
    "- 对于总销售价格超过 $75.00 的商品，收取 18% 的销售佣金；\n",
    "\n",
    "- 若每笔销售佣金小于 $0.30，则按 0.30美元/笔 收取。\n",
    "\n",
    "亚马逊欧洲及日本站对于鞋靴类产品的销售佣金统一规定为：`15%` （同样有最低佣金要求，欧洲为€0.30/笔，日本为）"
   ]
  },
  {
   "cell_type": "code",
   "execution_count": 11,
   "metadata": {
    "ExecuteTime": {
     "end_time": "2019-07-11T18:13:59.156620Z",
     "start_time": "2019-07-11T18:13:59.154592Z"
    }
   },
   "outputs": [],
   "source": [
    "# 佣金标准为15%。\n",
    "SHOES_ACR = 0.15"
   ]
  },
  {
   "cell_type": "markdown",
   "metadata": {},
   "source": [
    "### 附加成本２：欧洲及英国的销售VAT商品增值税 Affix Rates 2. Sales VAT @EU & Britain"
   ]
  },
  {
   "cell_type": "markdown",
   "metadata": {},
   "source": [
    "在VAT销售申报上，英国及欧盟地区均有退税政策。不过须注意，退税只适应于最终销售出去的产品。另外，对于VAT销售申报，由于以亚马逊后台数据为准，以此计税时实行的是销售价申报。目前，对于英国以外地区欧洲各国的进口VAT计算尚未经验，仍需观察。\n",
    "\n",
    "在税率方面，销售VAT与进口VAT采用一致税率。税率标准如下：\n",
    "\n",
    "英国：`20%`，德国：`19%`，法国：2`0%`，意大利：`22%`，西班牙：`21%`\n",
    "\n",
    "目前，只有英国注册了VAT税号，按照英国政府规定，目前采用小规模销售纳税。VAT缩减税率（Reduced VAT）标准为 `7.5%`。但不能与进口VAT关税抵扣。\n",
    "\n",
    "关于是否在英国采用标准税率的问题。主要考虑因素如下：\n",
    "\n",
    "- 从长期来说，如果企业销售情况理想，存积货不多的话，采用标准税率可以抵扣是能够降低成本的。\n",
    "\n",
    "- 然而，采用缩减税率尽管不能抵扣VAT，但相对而言每期税务资金压力较小。采用20%计税的话，那每季的税务支出都将成为一个颇为沉重的资金负担。\n",
    "\n",
    "- VAT抵扣每年只进行一次，由于实际销售价和进口申报价值相差较大，仍不清楚当抵扣计算时会出现何种问题，也有可能招致低申报的税务罚款。"
   ]
  },
  {
   "cell_type": "code",
   "execution_count": 12,
   "metadata": {
    "ExecuteTime": {
     "end_time": "2019-07-11T18:13:59.299900Z",
     "start_time": "2019-07-11T18:13:59.295376Z"
    }
   },
   "outputs": [],
   "source": [
    "# 因目前只有英国FBA仓库，因此英国及欧洲各国计算VAT成本均以英镑计价。\n",
    "# 计算公式为：销售价 × VAT税率（20%）\n",
    "\n",
    "VAT_RATE_UK = 0.2    # 英国"
   ]
  },
  {
   "cell_type": "code",
   "execution_count": 13,
   "metadata": {
    "ExecuteTime": {
     "end_time": "2019-07-11T18:13:59.393071Z",
     "start_time": "2019-07-11T18:13:59.301387Z"
    },
    "scrolled": false
   },
   "outputs": [
    {
     "name": "stdout",
     "output_type": "stream",
     "text": [
      "美国第二阶段合计成本：7.57美元。\n",
      "英国第二阶段合计成本：6.81英镑。\n",
      "法国第二阶段合计成本：10.24欧元。\n",
      "德国第二阶段合计成本：8.51欧元。\n",
      "意大利第二阶段合计成本：9.14欧元。\n",
      "西班牙第二阶段合计成本：8.55欧元。\n"
     ]
    }
   ],
   "source": [
    "# 第二阶段成本测算如下：\n",
    "# 1. 因税率和佣金率存在，采用各国目前的平均销售价作为测算依据。\n",
    "US_SALES_PRICE = 15 # 美国，以15美元为标准。\n",
    "UK_SALES_PRICE = 13 # 英国，以13英镑为标准。\n",
    "EU_SALES_PRICE = 15 # 欧洲各国，均以15欧元为标准。\n",
    "\n",
    "# 2. 测算计价采用各国实际使用货币。\n",
    "S2_SUM_US = ISC_USD + SF_USD + FBA_US + (US_SALES_PRICE * SHOES_ACR)                             # 美国，美元计价\n",
    "S2_SUM_UK = SF_GBP + FBA_UK_GBP + (UK_SALES_PRICE * SHOES_ACR) + (UK_SALES_PRICE * VAT_RATE_UK)  # 英国，英磅计价\n",
    "S2_SUM_FR = (SF_GBP * EXCHANGE_RATE_EUR / EXCHANGE_RATE_GBP) + FBA_FR_EUR + (EU_SALES_PRICE * SHOES_ACR) + (EU_SALES_PRICE * VAT_RATE_UK)  # 法国，欧元计价\n",
    "S2_SUM_DE = (SF_GBP * EXCHANGE_RATE_EUR / EXCHANGE_RATE_GBP) + FBA_DE_EUR + (EU_SALES_PRICE * SHOES_ACR) + (EU_SALES_PRICE * VAT_RATE_UK)  # 德国，欧元计价\n",
    "S2_SUM_IT = (SF_GBP * EXCHANGE_RATE_EUR / EXCHANGE_RATE_GBP) + FBA_IT_EUR + (EU_SALES_PRICE * SHOES_ACR) + (EU_SALES_PRICE * VAT_RATE_UK)  # 意大利，欧元计价\n",
    "S2_SUM_ES = (SF_GBP * EXCHANGE_RATE_EUR / EXCHANGE_RATE_GBP) + FBA_ES_EUR + (EU_SALES_PRICE * SHOES_ACR) + (EU_SALES_PRICE * VAT_RATE_UK)  # 西班牙，欧元计价\n",
    "\n",
    "print('美国第二阶段合计成本：{0:.2f}美元。'.format(S2_SUM_US))\n",
    "print('英国第二阶段合计成本：{0:.2f}英镑。'.format(S2_SUM_UK))\n",
    "print('法国第二阶段合计成本：{0:.2f}欧元。'.format(S2_SUM_FR))\n",
    "print('德国第二阶段合计成本：{0:.2f}欧元。'.format(S2_SUM_DE))\n",
    "print('意大利第二阶段合计成本：{0:.2f}欧元。'.format(S2_SUM_IT))\n",
    "print('西班牙第二阶段合计成本：{0:.2f}欧元。'.format(S2_SUM_ES))"
   ]
  },
  {
   "cell_type": "markdown",
   "metadata": {},
   "source": [
    "## 第一及第二阶段的直接成本合计 Summary Of Direct Costs"
   ]
  },
  {
   "cell_type": "code",
   "execution_count": 14,
   "metadata": {
    "ExecuteTime": {
     "end_time": "2019-07-11T18:13:59.463966Z",
     "start_time": "2019-07-11T18:13:59.398620Z"
    },
    "scrolled": false
   },
   "outputs": [
    {
     "name": "stdout",
     "output_type": "stream",
     "text": [
      "美国直接成本合计：11.57美元。\n",
      "英国直接成本合计：10.74英镑。\n",
      "法国直接成本合计：14.33欧元。\n",
      "德国直接成本合计：12.60欧元。\n",
      "意大利直接成本合计：13.23欧元。\n",
      "西班牙直接成本合计：12.64欧元。\n"
     ]
    }
   ],
   "source": [
    "# 直接成本合计采用各国实际使用货币。\n",
    "SDC_US = (S1_SUM_US / EXCHANGE_RATE_USD) + S2_SUM_US  # 美国，美元计价\n",
    "SDC_UK = (S1_SUM_UK / EXCHANGE_RATE_GBP) + S2_SUM_UK  # 英国，英磅计价\n",
    "SDC_FR = (S1_SUM_UK / EXCHANGE_RATE_EUR) + S2_SUM_FR  # 法国，欧元计价（因欧洲各国FBA订单皆为英国EFN发货，因此前期费用与英国相同，下同）\n",
    "SDC_DE = (S1_SUM_UK / EXCHANGE_RATE_EUR) + S2_SUM_DE  # 德国，欧元计价\n",
    "SDC_IT = (S1_SUM_UK / EXCHANGE_RATE_EUR) + S2_SUM_IT  # 意大利，欧元计价\n",
    "SDC_ES = (S1_SUM_UK / EXCHANGE_RATE_EUR) + S2_SUM_ES  # 西班牙，欧元计价\n",
    "\n",
    "print('美国直接成本合计：{0:.2f}美元。'.format(SDC_US))\n",
    "print('英国直接成本合计：{0:.2f}英镑。'.format(SDC_UK))\n",
    "print('法国直接成本合计：{0:.2f}欧元。'.format(SDC_FR))\n",
    "print('德国直接成本合计：{0:.2f}欧元。'.format(SDC_DE))\n",
    "print('意大利直接成本合计：{0:.2f}欧元。'.format(SDC_IT))\n",
    "print('西班牙直接成本合计：{0:.2f}欧元。'.format(SDC_ES))"
   ]
  },
  {
   "cell_type": "markdown",
   "metadata": {},
   "source": [
    "## 测算售价毛利 Gross Profit"
   ]
  },
  {
   "cell_type": "code",
   "execution_count": 15,
   "metadata": {
    "ExecuteTime": {
     "end_time": "2019-07-11T18:13:59.559987Z",
     "start_time": "2019-07-11T18:13:59.466878Z"
    },
    "scrolled": false
   },
   "outputs": [
    {
     "name": "stdout",
     "output_type": "stream",
     "text": [
      "美国测算售价毛利为：3.43美元。\n",
      "英国测算售价毛利为：2.26英镑。\n",
      "法国测算售价毛利为：0.67欧元。\n",
      "德国测算售价毛利为：2.40欧元。\n",
      "意大利测算售价毛利为：1.77欧元。\n",
      "西班牙测算售价毛利为：2.36欧元。\n"
     ]
    }
   ],
   "source": [
    "# 直接成本合计采用各国实际使用货币。\n",
    "GP_US = US_SALES_PRICE - SDC_US  # 美国，美元计价\n",
    "GP_UK = UK_SALES_PRICE - SDC_UK  # 英国，英磅计价\n",
    "GP_FR = EU_SALES_PRICE - SDC_FR  # 法国，欧元计价\n",
    "GP_DE = EU_SALES_PRICE - SDC_DE  # 德国，欧元计价\n",
    "GP_IT = EU_SALES_PRICE - SDC_IT  # 意大利，欧元计价\n",
    "GP_ES = EU_SALES_PRICE - SDC_ES  # 西班牙，欧元计价\n",
    "\n",
    "print('美国测算售价毛利为：{0:.2f}美元。'.format(GP_US))\n",
    "print('英国测算售价毛利为：{0:.2f}英镑。'.format(GP_UK))\n",
    "print('法国测算售价毛利为：{0:.2f}欧元。'.format(GP_FR))\n",
    "print('德国测算售价毛利为：{0:.2f}欧元。'.format(GP_DE))\n",
    "print('意大利测算售价毛利为：{0:.2f}欧元。'.format(GP_IT))\n",
    "print('西班牙测算售价毛利为：{0:.2f}欧元。'.format(GP_ES))"
   ]
  },
  {
   "cell_type": "markdown",
   "metadata": {},
   "source": [
    "## 成本与毛利分析图表"
   ]
  },
  {
   "cell_type": "code",
   "execution_count": 16,
   "metadata": {
    "ExecuteTime": {
     "end_time": "2019-07-11T18:13:59.663056Z",
     "start_time": "2019-07-11T18:13:59.562122Z"
    }
   },
   "outputs": [],
   "source": [
    "# 引入图表控件，采用pyecharts。\n",
    "from pyecharts import options as opts\n",
    "from pyecharts.globals import ThemeType\n",
    "from pyecharts.charts import Pie, Line, Grid\n",
    "\n",
    "# dir(ThemeType)"
   ]
  },
  {
   "cell_type": "markdown",
   "metadata": {},
   "source": [
    "### 产品成本与毛利占比分析（美国站）"
   ]
  },
  {
   "cell_type": "code",
   "execution_count": 17,
   "metadata": {
    "ExecuteTime": {
     "end_time": "2019-07-11T18:13:59.746825Z",
     "start_time": "2019-07-11T18:13:59.664918Z"
    }
   },
   "outputs": [
    {
     "data": {
      "text/html": [
       "<script>\n",
       "    require.config({\n",
       "        paths: {\n",
       "            'echarts':'https://assets.pyecharts.org/assets/echarts.min'\n",
       "        }\n",
       "    });\n",
       "</script>\n",
       "\n",
       "    <div id=\"8c1301d4edfd4db1ac8e95e058d1ed36\" style=\"width:900px; height:500px;\"></div>\n",
       "\n",
       "\n",
       "<script>\n",
       "    require(['echarts'], function(echarts) {\n",
       "        var chart_8c1301d4edfd4db1ac8e95e058d1ed36 = echarts.init(\n",
       "            document.getElementById('8c1301d4edfd4db1ac8e95e058d1ed36'), 'white', {renderer: 'canvas'});\n",
       "        var option_8c1301d4edfd4db1ac8e95e058d1ed36 = {\n",
       "    \"color\": [\n",
       "        \"#c23531\",\n",
       "        \"#2f4554\",\n",
       "        \"#61a0a8\",\n",
       "        \"#d48265\",\n",
       "        \"#749f83\",\n",
       "        \"#ca8622\",\n",
       "        \"#bda29a\",\n",
       "        \"#6e7074\",\n",
       "        \"#546570\",\n",
       "        \"#c4ccd3\",\n",
       "        \"#f05b72\",\n",
       "        \"#ef5b9c\",\n",
       "        \"#f47920\",\n",
       "        \"#905a3d\",\n",
       "        \"#fab27b\",\n",
       "        \"#2a5caa\",\n",
       "        \"#444693\",\n",
       "        \"#726930\",\n",
       "        \"#b2d235\",\n",
       "        \"#6d8346\",\n",
       "        \"#ac6767\",\n",
       "        \"#1d953f\",\n",
       "        \"#6950a1\",\n",
       "        \"#918597\"\n",
       "    ],\n",
       "    \"series\": [\n",
       "        {\n",
       "            \"type\": \"pie\",\n",
       "            \"clockwise\": true,\n",
       "            \"data\": [\n",
       "                {\n",
       "                    \"name\": \"\\u751f\\u4ea7\\u6210\\u672c\",\n",
       "                    \"value\": 3.08\n",
       "                },\n",
       "                {\n",
       "                    \"name\": \"\\u5934\\u7a0b\\uff08\\u542b\\u56fd\\u5185\\uff09\\u8fd0\\u8d39\",\n",
       "                    \"value\": 0.92\n",
       "                },\n",
       "                {\n",
       "                    \"name\": \"FBA\\u5165\\u5e93\\u914d\\u7f6e\\u8d39\",\n",
       "                    \"value\": 0.35\n",
       "                },\n",
       "                {\n",
       "                    \"name\": \"FBA\\uff083\\u4e2a\\u6708\\uff09\\u4ed3\\u50a8\\u8d39\",\n",
       "                    \"value\": 0.21\n",
       "                },\n",
       "                {\n",
       "                    \"name\": \"FBA\\u5c3e\\u7a0b\\u914d\\u9001\\u8d39\",\n",
       "                    \"value\": 4.76\n",
       "                },\n",
       "                {\n",
       "                    \"name\": \"\\u4e9a\\u9a6c\\u900a\\u4f63\\u91d1\",\n",
       "                    \"value\": 2.25\n",
       "                },\n",
       "                {\n",
       "                    \"name\": \"\\u6bdb\\u5229\",\n",
       "                    \"value\": 3.43\n",
       "                }\n",
       "            ],\n",
       "            \"radius\": [\n",
       "                \"30%\",\n",
       "                \"60%\"\n",
       "            ],\n",
       "            \"center\": [\n",
       "                \"50%\",\n",
       "                \"50%\"\n",
       "            ],\n",
       "            \"label\": {\n",
       "                \"show\": true,\n",
       "                \"position\": \"top\",\n",
       "                \"margin\": 8,\n",
       "                \"formatter\": \"{b}: US${c}\\uff0c\\u5360\\u6bd4\\uff1a{d}%\"\n",
       "            },\n",
       "            \"rippleEffect\": {\n",
       "                \"show\": true,\n",
       "                \"brushType\": \"stroke\",\n",
       "                \"scale\": 2.5,\n",
       "                \"period\": 4\n",
       "            }\n",
       "        }\n",
       "    ],\n",
       "    \"legend\": [\n",
       "        {\n",
       "            \"data\": [\n",
       "                \"\\u751f\\u4ea7\\u6210\\u672c\",\n",
       "                \"\\u5934\\u7a0b\\uff08\\u542b\\u56fd\\u5185\\uff09\\u8fd0\\u8d39\",\n",
       "                \"FBA\\u5165\\u5e93\\u914d\\u7f6e\\u8d39\",\n",
       "                \"FBA\\uff083\\u4e2a\\u6708\\uff09\\u4ed3\\u50a8\\u8d39\",\n",
       "                \"FBA\\u5c3e\\u7a0b\\u914d\\u9001\\u8d39\",\n",
       "                \"\\u4e9a\\u9a6c\\u900a\\u4f63\\u91d1\",\n",
       "                \"\\u6bdb\\u5229\"\n",
       "            ],\n",
       "            \"selected\": {},\n",
       "            \"show\": true,\n",
       "            \"top\": \"bottom\"\n",
       "        }\n",
       "    ],\n",
       "    \"tooltip\": {\n",
       "        \"show\": true,\n",
       "        \"trigger\": \"item\",\n",
       "        \"triggerOn\": \"mousemove|click\",\n",
       "        \"axisPointer\": {\n",
       "            \"type\": \"line\"\n",
       "        },\n",
       "        \"textStyle\": {\n",
       "            \"fontSize\": 14\n",
       "        },\n",
       "        \"borderWidth\": 0\n",
       "    },\n",
       "    \"title\": [\n",
       "        {\n",
       "            \"text\": \"\\u4ea7\\u54c1\\u6210\\u672c\\u4e0e\\u6bdb\\u5229\\u5360\\u6bd4\\u5206\\u6790\\uff08\\u7f8e\\u56fd\\u7ad9\\uff09 \\u6d4b\\u7b97\\u57fa\\u51c6\\u9500\\u552e\\u4ef7\\uff1aUS$15.00\",\n",
       "            \"left\": \"center\",\n",
       "            \"top\": \"top\"\n",
       "        }\n",
       "    ]\n",
       "};\n",
       "        chart_8c1301d4edfd4db1ac8e95e058d1ed36.setOption(option_8c1301d4edfd4db1ac8e95e058d1ed36);\n",
       "    });\n",
       "</script>\n"
      ],
      "text/plain": [
       "<pyecharts.render.display.HTML at 0x7f73016eefd0>"
      ]
     },
     "execution_count": 17,
     "metadata": {},
     "output_type": "execute_result"
    }
   ],
   "source": [
    "# 美国站数据处理\n",
    "CP_piedata = [\n",
    "    ['生产成本', round(RMB_COP / EXCHANGE_RATE_USD, 2)],\n",
    "    ['头程（含国内）运费', round((RMB_DSC_US + RMB_CSC_US) / EXCHANGE_RATE_USD, 2)],\n",
    "    ['FBA入库配置费', round(ISC_USD, 2)],\n",
    "    ['FBA（3个月）仓储费', round(SF_USD, 2)],\n",
    "    ['FBA尾程配送费', round(FBA_US, 2)],\n",
    "    ['亚马逊佣金', round(US_SALES_PRICE * SHOES_ACR, 2)],\n",
    "    ['毛利', round(GP_US, 2)]    \n",
    "]\n",
    "\n",
    "# 图表输出\n",
    "pie1 = (\n",
    "    Pie(init_opts = opts.InitOpts(theme=ThemeType.WHITE))\n",
    "    .add(\"\", CP_piedata, radius=['30%', '60%'])\n",
    "    .set_global_opts(\n",
    "        title_opts = opts.TitleOpts(\n",
    "            title='产品成本与毛利占比分析（美国站） 测算基准销售价：US${0:.2f}'.format(US_SALES_PRICE),\n",
    "            pos_left='center', pos_top=\"top\"\n",
    "        ),\n",
    "        legend_opts=opts.LegendOpts(pos_top=\"bottom\"),\n",
    "    )\n",
    "    .set_series_opts(label_opts=opts.LabelOpts(formatter=\"{b}: US${c}，占比：{d}%\"))\n",
    ")\n",
    "pie1.render_notebook()"
   ]
  },
  {
   "cell_type": "markdown",
   "metadata": {},
   "source": [
    "### 产品成本与毛利占比分析（英国站）"
   ]
  },
  {
   "cell_type": "code",
   "execution_count": 18,
   "metadata": {
    "ExecuteTime": {
     "end_time": "2019-07-11T18:13:59.815511Z",
     "start_time": "2019-07-11T18:13:59.748750Z"
    },
    "scrolled": false
   },
   "outputs": [
    {
     "data": {
      "text/html": [
       "<script>\n",
       "    require.config({\n",
       "        paths: {\n",
       "            'echarts':'https://assets.pyecharts.org/assets/echarts.min', 'shine':'https://assets.pyecharts.org/assets/themes/shine'\n",
       "        }\n",
       "    });\n",
       "</script>\n",
       "\n",
       "    <div id=\"5f0326d66e274387a2c235f6ef15ac72\" style=\"width:900px; height:500px;\"></div>\n",
       "\n",
       "\n",
       "<script>\n",
       "    require(['echarts', 'shine'], function(echarts) {\n",
       "        var chart_5f0326d66e274387a2c235f6ef15ac72 = echarts.init(\n",
       "            document.getElementById('5f0326d66e274387a2c235f6ef15ac72'), 'shine', {renderer: 'canvas'});\n",
       "        var option_5f0326d66e274387a2c235f6ef15ac72 = {\n",
       "    \"series\": [\n",
       "        {\n",
       "            \"type\": \"pie\",\n",
       "            \"clockwise\": true,\n",
       "            \"data\": [\n",
       "                {\n",
       "                    \"name\": \"\\u751f\\u4ea7\\u6210\\u672c\",\n",
       "                    \"value\": 2.5\n",
       "                },\n",
       "                {\n",
       "                    \"name\": \"\\u5934\\u7a0b\\uff08\\u542b\\u56fd\\u5185\\uff09\\u8fd0\\u8d39\",\n",
       "                    \"value\": 0.62\n",
       "                },\n",
       "                {\n",
       "                    \"name\": \"\\u8fdb\\u53e3\\u5173\\u7a0e\\u548cVAT\",\n",
       "                    \"value\": 0.81\n",
       "                },\n",
       "                {\n",
       "                    \"name\": \"FBA\\uff083\\u4e2a\\u6708\\uff09\\u4ed3\\u50a8\\u8d39\",\n",
       "                    \"value\": 0.12\n",
       "                },\n",
       "                {\n",
       "                    \"name\": \"FBA\\u5c3e\\u7a0b\\u914d\\u9001\\u8d39\",\n",
       "                    \"value\": 2.14\n",
       "                },\n",
       "                {\n",
       "                    \"name\": \"\\u4e9a\\u9a6c\\u900a\\u4f63\\u91d1\",\n",
       "                    \"value\": 1.95\n",
       "                },\n",
       "                {\n",
       "                    \"name\": \"\\u9500\\u552eVAT\",\n",
       "                    \"value\": 2.6\n",
       "                },\n",
       "                {\n",
       "                    \"name\": \"\\u6bdb\\u5229\",\n",
       "                    \"value\": 2.26\n",
       "                }\n",
       "            ],\n",
       "            \"radius\": [\n",
       "                \"30%\",\n",
       "                \"60%\"\n",
       "            ],\n",
       "            \"center\": [\n",
       "                \"50%\",\n",
       "                \"50%\"\n",
       "            ],\n",
       "            \"label\": {\n",
       "                \"show\": true,\n",
       "                \"position\": \"top\",\n",
       "                \"margin\": 8,\n",
       "                \"formatter\": \"{b}: \\u00a3{c}\\uff0c\\u5360\\u6bd4\\uff1a{d}%\"\n",
       "            },\n",
       "            \"rippleEffect\": {\n",
       "                \"show\": true,\n",
       "                \"brushType\": \"stroke\",\n",
       "                \"scale\": 2.5,\n",
       "                \"period\": 4\n",
       "            }\n",
       "        }\n",
       "    ],\n",
       "    \"legend\": [\n",
       "        {\n",
       "            \"data\": [\n",
       "                \"\\u751f\\u4ea7\\u6210\\u672c\",\n",
       "                \"\\u5934\\u7a0b\\uff08\\u542b\\u56fd\\u5185\\uff09\\u8fd0\\u8d39\",\n",
       "                \"\\u8fdb\\u53e3\\u5173\\u7a0e\\u548cVAT\",\n",
       "                \"FBA\\uff083\\u4e2a\\u6708\\uff09\\u4ed3\\u50a8\\u8d39\",\n",
       "                \"FBA\\u5c3e\\u7a0b\\u914d\\u9001\\u8d39\",\n",
       "                \"\\u4e9a\\u9a6c\\u900a\\u4f63\\u91d1\",\n",
       "                \"\\u9500\\u552eVAT\",\n",
       "                \"\\u6bdb\\u5229\"\n",
       "            ],\n",
       "            \"selected\": {},\n",
       "            \"show\": true,\n",
       "            \"top\": \"bottom\"\n",
       "        }\n",
       "    ],\n",
       "    \"tooltip\": {\n",
       "        \"show\": true,\n",
       "        \"trigger\": \"item\",\n",
       "        \"triggerOn\": \"mousemove|click\",\n",
       "        \"axisPointer\": {\n",
       "            \"type\": \"line\"\n",
       "        },\n",
       "        \"textStyle\": {\n",
       "            \"fontSize\": 14\n",
       "        },\n",
       "        \"borderWidth\": 0\n",
       "    },\n",
       "    \"title\": [\n",
       "        {\n",
       "            \"text\": \"\\u4ea7\\u54c1\\u6210\\u672c\\u4e0e\\u6bdb\\u5229\\u5360\\u6bd4\\u5206\\u6790\\uff08\\u82f1\\u56fd\\u7ad9\\uff09 \\u6d4b\\u7b97\\u57fa\\u51c6\\u9500\\u552e\\u4ef7\\uff1a\\u00a313.00\",\n",
       "            \"left\": \"center\",\n",
       "            \"top\": \"top\"\n",
       "        }\n",
       "    ]\n",
       "};\n",
       "        chart_5f0326d66e274387a2c235f6ef15ac72.setOption(option_5f0326d66e274387a2c235f6ef15ac72);\n",
       "    });\n",
       "</script>\n"
      ],
      "text/plain": [
       "<pyecharts.render.display.HTML at 0x7f73016f1080>"
      ]
     },
     "execution_count": 18,
     "metadata": {},
     "output_type": "execute_result"
    }
   ],
   "source": [
    "# 英国站数据处理\n",
    "CP_piedata = [\n",
    "    ['生产成本', round(RMB_COP / EXCHANGE_RATE_GBP, 2)],\n",
    "    ['头程（含国内）运费', round((RMB_DSC_UK + RMB_CSC_UK) / EXCHANGE_RATE_GBP, 2)],\n",
    "    ['进口关税和VAT', round(RMB_IMPORTED_TAX_UK / EXCHANGE_RATE_GBP, 2)],\n",
    "    ['FBA（3个月）仓储费', round(SF_GBP, 2)],\n",
    "    ['FBA尾程配送费', round(FBA_UK_GBP, 2)],\n",
    "    ['亚马逊佣金', round(UK_SALES_PRICE * SHOES_ACR, 2)],\n",
    "    ['销售VAT', round(UK_SALES_PRICE * VAT_RATE_UK, 2)],\n",
    "    ['毛利', round(GP_UK, 2)]    \n",
    "]\n",
    "\n",
    "# 图表输出\n",
    "pie2 = (\n",
    "    Pie(init_opts = opts.InitOpts(theme=ThemeType.SHINE))\n",
    "    .add(\"\", CP_piedata, radius=['30%', '60%'])\n",
    "    .set_global_opts(\n",
    "        title_opts = opts.TitleOpts(\n",
    "            title='产品成本与毛利占比分析（英国站） 测算基准销售价：£{0:.2f}'.format(UK_SALES_PRICE),\n",
    "            pos_left='center', pos_top=\"top\"\n",
    "        ),\n",
    "        legend_opts=opts.LegendOpts(pos_top=\"bottom\"),\n",
    "    )\n",
    "    .set_series_opts(label_opts=opts.LabelOpts(formatter=\"{b}: £{c}，占比：{d}%\"))\n",
    ")\n",
    "pie2.render_notebook()"
   ]
  },
  {
   "cell_type": "markdown",
   "metadata": {},
   "source": [
    "### 产品成本与毛利占比分析（欧元区，以法国站为例）"
   ]
  },
  {
   "cell_type": "code",
   "execution_count": 19,
   "metadata": {
    "ExecuteTime": {
     "end_time": "2019-07-11T18:13:59.920048Z",
     "start_time": "2019-07-11T18:13:59.817776Z"
    },
    "scrolled": false
   },
   "outputs": [
    {
     "data": {
      "text/html": [
       "<script>\n",
       "    require.config({\n",
       "        paths: {\n",
       "            'echarts':'https://assets.pyecharts.org/assets/echarts.min', 'vintage':'https://assets.pyecharts.org/assets/themes/vintage'\n",
       "        }\n",
       "    });\n",
       "</script>\n",
       "\n",
       "    <div id=\"183654caf13441508c7c7110e0f3a8af\" style=\"width:900px; height:500px;\"></div>\n",
       "\n",
       "\n",
       "<script>\n",
       "    require(['echarts', 'vintage'], function(echarts) {\n",
       "        var chart_183654caf13441508c7c7110e0f3a8af = echarts.init(\n",
       "            document.getElementById('183654caf13441508c7c7110e0f3a8af'), 'vintage', {renderer: 'canvas'});\n",
       "        var option_183654caf13441508c7c7110e0f3a8af = {\n",
       "    \"series\": [\n",
       "        {\n",
       "            \"type\": \"pie\",\n",
       "            \"clockwise\": true,\n",
       "            \"data\": [\n",
       "                {\n",
       "                    \"name\": \"\\u751f\\u4ea7\\u6210\\u672c\",\n",
       "                    \"value\": 2.6\n",
       "                },\n",
       "                {\n",
       "                    \"name\": \"\\u5934\\u7a0b\\uff08\\u542b\\u56fd\\u5185\\uff09\\u8fd0\\u8d39\",\n",
       "                    \"value\": 0.65\n",
       "                },\n",
       "                {\n",
       "                    \"name\": \"\\u8fdb\\u53e3\\u5173\\u7a0e\\u548cVAT\",\n",
       "                    \"value\": 0.84\n",
       "                },\n",
       "                {\n",
       "                    \"name\": \"FBA\\uff083\\u4e2a\\u6708\\uff09\\u4ed3\\u50a8\\u8d39\",\n",
       "                    \"value\": 0.11\n",
       "                },\n",
       "                {\n",
       "                    \"name\": \"FBA\\u5c3e\\u7a0b\\u914d\\u9001\\u8d39\",\n",
       "                    \"value\": 4.88\n",
       "                },\n",
       "                {\n",
       "                    \"name\": \"\\u4e9a\\u9a6c\\u900a\\u4f63\\u91d1\",\n",
       "                    \"value\": 2.25\n",
       "                },\n",
       "                {\n",
       "                    \"name\": \"\\u9500\\u552eVAT\",\n",
       "                    \"value\": 3.0\n",
       "                },\n",
       "                {\n",
       "                    \"name\": \"\\u6bdb\\u5229\",\n",
       "                    \"value\": 0.67\n",
       "                }\n",
       "            ],\n",
       "            \"radius\": [\n",
       "                \"30%\",\n",
       "                \"60%\"\n",
       "            ],\n",
       "            \"center\": [\n",
       "                \"50%\",\n",
       "                \"50%\"\n",
       "            ],\n",
       "            \"label\": {\n",
       "                \"show\": true,\n",
       "                \"position\": \"top\",\n",
       "                \"margin\": 8,\n",
       "                \"formatter\": \"{b}: \\u20ac{c}\\uff0c\\u5360\\u6bd4\\uff1a{d}%\"\n",
       "            },\n",
       "            \"rippleEffect\": {\n",
       "                \"show\": true,\n",
       "                \"brushType\": \"stroke\",\n",
       "                \"scale\": 2.5,\n",
       "                \"period\": 4\n",
       "            }\n",
       "        }\n",
       "    ],\n",
       "    \"legend\": [\n",
       "        {\n",
       "            \"data\": [\n",
       "                \"\\u751f\\u4ea7\\u6210\\u672c\",\n",
       "                \"\\u5934\\u7a0b\\uff08\\u542b\\u56fd\\u5185\\uff09\\u8fd0\\u8d39\",\n",
       "                \"\\u8fdb\\u53e3\\u5173\\u7a0e\\u548cVAT\",\n",
       "                \"FBA\\uff083\\u4e2a\\u6708\\uff09\\u4ed3\\u50a8\\u8d39\",\n",
       "                \"FBA\\u5c3e\\u7a0b\\u914d\\u9001\\u8d39\",\n",
       "                \"\\u4e9a\\u9a6c\\u900a\\u4f63\\u91d1\",\n",
       "                \"\\u9500\\u552eVAT\",\n",
       "                \"\\u6bdb\\u5229\"\n",
       "            ],\n",
       "            \"selected\": {},\n",
       "            \"show\": true,\n",
       "            \"top\": \"bottom\"\n",
       "        }\n",
       "    ],\n",
       "    \"tooltip\": {\n",
       "        \"show\": true,\n",
       "        \"trigger\": \"item\",\n",
       "        \"triggerOn\": \"mousemove|click\",\n",
       "        \"axisPointer\": {\n",
       "            \"type\": \"line\"\n",
       "        },\n",
       "        \"textStyle\": {\n",
       "            \"fontSize\": 14\n",
       "        },\n",
       "        \"borderWidth\": 0\n",
       "    },\n",
       "    \"title\": [\n",
       "        {\n",
       "            \"text\": \"\\u4ea7\\u54c1\\u6210\\u672c\\u4e0e\\u6bdb\\u5229\\u5360\\u6bd4\\u5206\\u6790\\uff08\\u6cd5\\u56fd\\u7ad9\\uff09 \\u6d4b\\u7b97\\u57fa\\u51c6\\u9500\\u552e\\u4ef7\\uff1a\\u20ac15\",\n",
       "            \"left\": \"center\",\n",
       "            \"top\": \"top\"\n",
       "        }\n",
       "    ]\n",
       "};\n",
       "        chart_183654caf13441508c7c7110e0f3a8af.setOption(option_183654caf13441508c7c7110e0f3a8af);\n",
       "    });\n",
       "</script>\n"
      ],
      "text/plain": [
       "<pyecharts.render.display.HTML at 0x7f7301693e80>"
      ]
     },
     "execution_count": 19,
     "metadata": {},
     "output_type": "execute_result"
    }
   ],
   "source": [
    "# 法国站数据处理\n",
    "CP_piedata = [\n",
    "    ['生产成本', round(RMB_COP / EXCHANGE_RATE_EUR, 2)],\n",
    "    ['头程（含国内）运费', round((RMB_DSC_UK + RMB_CSC_UK) / EXCHANGE_RATE_EUR, 2)],\n",
    "    ['进口关税和VAT', round(RMB_IMPORTED_TAX_UK / EXCHANGE_RATE_EUR, 2)],\n",
    "    ['FBA（3个月）仓储费', round((SF_GBP * EXCHANGE_RATE_EUR / EXCHANGE_RATE_GBP), 2)],\n",
    "    ['FBA尾程配送费', round(FBA_FR_EUR, 2)],\n",
    "    ['亚马逊佣金', round(EU_SALES_PRICE * SHOES_ACR, 2)],\n",
    "    ['销售VAT', round(EU_SALES_PRICE * VAT_RATE_UK, 2)],\n",
    "    ['毛利', round(GP_FR, 2)]    \n",
    "]\n",
    "\n",
    "# 图表输出\n",
    "pie3 = (\n",
    "    Pie(init_opts = opts.InitOpts(theme=ThemeType.VINTAGE))\n",
    "    .add(\"\", CP_piedata, radius=['30%', '60%'])\n",
    "    .set_global_opts(\n",
    "        title_opts = opts.TitleOpts(\n",
    "            title='产品成本与毛利占比分析（法国站） 测算基准销售价：€{0}'.format(EU_SALES_PRICE),\n",
    "            pos_left='center', pos_top=\"top\"\n",
    "        ),\n",
    "        legend_opts=opts.LegendOpts(pos_top=\"bottom\"),\n",
    "    )\n",
    "    .set_series_opts(label_opts=opts.LabelOpts(formatter=\"{b}: €{c}，占比：{d}%\"))\n",
    ")\n",
    "pie3.render_notebook()"
   ]
  },
  {
   "cell_type": "markdown",
   "metadata": {},
   "source": [
    "\n",
    "\n",
    "# 间接成本构成：Amazon平台的各项消费支出　The Composition Of Indirect Costs: Consumption And Expenditure @Amazon\n",
    "\n"
   ]
  },
  {
   "cell_type": "markdown",
   "metadata": {},
   "source": [
    "目前，在亚马逊平台销售中，主要构成间接成本的部分包括：\n",
    "\n",
    "- 广告费用\n",
    "\n",
    "- 退货费用\n",
    "\n",
    "- 平台订阅费和其他管理费、杂费\n",
    "\n",
    "为了明晰间接成本构成和对成本、利润的影响程度，以下部分主要以美国站FBA订单商品作为分析对象。"
   ]
  },
  {
   "cell_type": "markdown",
   "metadata": {},
   "source": [
    "**备注：**\n",
    "\n",
    "\n",
    "1. 广告数据来源与退货数据均来源于Amazon后台报表。\n",
    "\n",
    "\n",
    "2. 采用的广告数据报表包括：\n",
    "\n",
    "    - 数据报告/广告/Sponsored Products\n",
    "\n",
    "    - 数据报告/广告/Sponsored Brands\n",
    "    \n",
    "\n",
    "3. 采用的退货数据报表包括：\n",
    "\n",
    "    - 数据报告/业务报告/销售图表\n",
    "\n",
    "    - 数据报告/退货报告\n",
    "\n",
    "    - 数据报告/库存和销售报告/亚马逊物流买家退货"
   ]
  },
  {
   "cell_type": "code",
   "execution_count": 20,
   "metadata": {
    "ExecuteTime": {
     "end_time": "2019-07-11T18:14:00.031793Z",
     "start_time": "2019-07-11T18:14:00.024590Z"
    }
   },
   "outputs": [
    {
     "name": "stdout",
     "output_type": "stream",
     "text": [
      "美国站测算销售价：$15.00\n"
     ]
    }
   ],
   "source": [
    "# 测算销售价（美国站）\n",
    "print('美国站测算销售价：${0:.2f}'.format(US_SALES_PRICE))"
   ]
  },
  {
   "cell_type": "code",
   "execution_count": 21,
   "metadata": {
    "ExecuteTime": {
     "end_time": "2019-07-11T18:14:00.118837Z",
     "start_time": "2019-07-11T18:14:00.036616Z"
    }
   },
   "outputs": [
    {
     "data": {
      "text/html": [
       "<div>\n",
       "<style scoped>\n",
       "    .dataframe tbody tr th:only-of-type {\n",
       "        vertical-align: middle;\n",
       "    }\n",
       "\n",
       "    .dataframe tbody tr th {\n",
       "        vertical-align: top;\n",
       "    }\n",
       "\n",
       "    .dataframe thead th {\n",
       "        text-align: right;\n",
       "    }\n",
       "</style>\n",
       "<table border=\"1\" class=\"dataframe\">\n",
       "  <thead>\n",
       "    <tr style=\"text-align: right;\">\n",
       "      <th></th>\n",
       "      <th>2019年</th>\n",
       "      <th>1月</th>\n",
       "      <th>2月</th>\n",
       "      <th>3月</th>\n",
       "      <th>4月</th>\n",
       "      <th>5月</th>\n",
       "      <th>6月</th>\n",
       "    </tr>\n",
       "  </thead>\n",
       "  <tbody>\n",
       "    <tr>\n",
       "      <th>0</th>\n",
       "      <td>FBA销售商品数</td>\n",
       "      <td>976.00</td>\n",
       "      <td>975.0</td>\n",
       "      <td>1225.00</td>\n",
       "      <td>1392.00</td>\n",
       "      <td>2092.00</td>\n",
       "      <td>2345.00</td>\n",
       "    </tr>\n",
       "    <tr>\n",
       "      <th>1</th>\n",
       "      <td>FBM销售商品数</td>\n",
       "      <td>130.00</td>\n",
       "      <td>60.0</td>\n",
       "      <td>252.00</td>\n",
       "      <td>499.00</td>\n",
       "      <td>405.00</td>\n",
       "      <td>582.00</td>\n",
       "    </tr>\n",
       "    <tr>\n",
       "      <th>2</th>\n",
       "      <td>FBA退货商品数</td>\n",
       "      <td>103.00</td>\n",
       "      <td>125.0</td>\n",
       "      <td>78.00</td>\n",
       "      <td>101.00</td>\n",
       "      <td>183.00</td>\n",
       "      <td>209.00</td>\n",
       "    </tr>\n",
       "    <tr>\n",
       "      <th>3</th>\n",
       "      <td>FBM退货商品数</td>\n",
       "      <td>10.00</td>\n",
       "      <td>5.0</td>\n",
       "      <td>8.00</td>\n",
       "      <td>19.00</td>\n",
       "      <td>20.00</td>\n",
       "      <td>38.00</td>\n",
       "    </tr>\n",
       "    <tr>\n",
       "      <th>4</th>\n",
       "      <td>（商品）广告费用支出</td>\n",
       "      <td>1752.60</td>\n",
       "      <td>1528.7</td>\n",
       "      <td>2232.98</td>\n",
       "      <td>3737.38</td>\n",
       "      <td>5153.14</td>\n",
       "      <td>6396.33</td>\n",
       "    </tr>\n",
       "    <tr>\n",
       "      <th>5</th>\n",
       "      <td>（商品）广告销售商品数</td>\n",
       "      <td>492.00</td>\n",
       "      <td>458.0</td>\n",
       "      <td>648.00</td>\n",
       "      <td>926.00</td>\n",
       "      <td>1266.00</td>\n",
       "      <td>1462.00</td>\n",
       "    </tr>\n",
       "    <tr>\n",
       "      <th>6</th>\n",
       "      <td>（品牌）广告费用支出</td>\n",
       "      <td>195.68</td>\n",
       "      <td>116.8</td>\n",
       "      <td>164.57</td>\n",
       "      <td>149.41</td>\n",
       "      <td>268.33</td>\n",
       "      <td>598.34</td>\n",
       "    </tr>\n",
       "    <tr>\n",
       "      <th>7</th>\n",
       "      <td>（品牌）广告销售商品数</td>\n",
       "      <td>29.00</td>\n",
       "      <td>23.0</td>\n",
       "      <td>27.00</td>\n",
       "      <td>20.00</td>\n",
       "      <td>63.00</td>\n",
       "      <td>193.00</td>\n",
       "    </tr>\n",
       "  </tbody>\n",
       "</table>\n",
       "</div>"
      ],
      "text/plain": [
       "         2019年       1月      2月       3月       4月       5月       6月\n",
       "0     FBA销售商品数   976.00   975.0  1225.00  1392.00  2092.00  2345.00\n",
       "1     FBM销售商品数   130.00    60.0   252.00   499.00   405.00   582.00\n",
       "2     FBA退货商品数   103.00   125.0    78.00   101.00   183.00   209.00\n",
       "3     FBM退货商品数    10.00     5.0     8.00    19.00    20.00    38.00\n",
       "4   （商品）广告费用支出  1752.60  1528.7  2232.98  3737.38  5153.14  6396.33\n",
       "5  （商品）广告销售商品数   492.00   458.0   648.00   926.00  1266.00  1462.00\n",
       "6   （品牌）广告费用支出   195.68   116.8   164.57   149.41   268.33   598.34\n",
       "7  （品牌）广告销售商品数    29.00    23.0    27.00    20.00    63.00   193.00"
      ]
     },
     "execution_count": 21,
     "metadata": {},
     "output_type": "execute_result"
    }
   ],
   "source": [
    "# 引入数据分析模块\n",
    "import pandas as pd\n",
    "\n",
    "# CSV文件为上述报表的数据汇总。（只取1-6月的数据）\n",
    "workdf = pd.read_csv('amz_returns_ads_2019.csv').drop([str(a)+'月' for a in range(7, 12+1)], axis='columns')\n",
    "workdf"
   ]
  },
  {
   "cell_type": "markdown",
   "metadata": {},
   "source": [
    "## 广告费用支出 Ads Investment"
   ]
  },
  {
   "cell_type": "markdown",
   "metadata": {},
   "source": [
    "### 广告费用及商品销售对比 Ads Expenditure And Sales"
   ]
  },
  {
   "cell_type": "code",
   "execution_count": 22,
   "metadata": {
    "ExecuteTime": {
     "end_time": "2019-07-11T18:14:00.222977Z",
     "start_time": "2019-07-11T18:14:00.200767Z"
    }
   },
   "outputs": [
    {
     "data": {
      "text/html": [
       "<script>\n",
       "    require.config({\n",
       "        paths: {\n",
       "            'echarts':'https://assets.pyecharts.org/assets/echarts.min', 'chalk':'https://assets.pyecharts.org/assets/themes/chalk'\n",
       "        }\n",
       "    });\n",
       "</script>\n",
       "\n",
       "    <div id=\"b6ae785524e54d978f6142899fa22ea7\" style=\"width:900px; height:500px;\"></div>\n",
       "\n",
       "\n",
       "<script>\n",
       "    require(['echarts', 'chalk'], function(echarts) {\n",
       "        var chart_b6ae785524e54d978f6142899fa22ea7 = echarts.init(\n",
       "            document.getElementById('b6ae785524e54d978f6142899fa22ea7'), 'chalk', {renderer: 'canvas'});\n",
       "        var option_b6ae785524e54d978f6142899fa22ea7 = {\n",
       "    \"color\": [],\n",
       "    \"series\": [\n",
       "        {\n",
       "            \"type\": \"line\",\n",
       "            \"name\": \"\\u5e7f\\u544a\\uff08\\u542b\\u5546\\u54c1\\u53ca\\u54c1\\u724c\\uff09\\u9500\\u552e\\u5546\\u54c1\\u6570\",\n",
       "            \"connectNulls\": false,\n",
       "            \"xAxisIndex\": 0,\n",
       "            \"yAxisIndex\": 0,\n",
       "            \"symbolSize\": 4,\n",
       "            \"showSymbol\": true,\n",
       "            \"smooth\": false,\n",
       "            \"step\": false,\n",
       "            \"data\": [\n",
       "                [\n",
       "                    \"1\\u6708\",\n",
       "                    521.0\n",
       "                ],\n",
       "                [\n",
       "                    \"2\\u6708\",\n",
       "                    481.0\n",
       "                ],\n",
       "                [\n",
       "                    \"3\\u6708\",\n",
       "                    675.0\n",
       "                ],\n",
       "                [\n",
       "                    \"4\\u6708\",\n",
       "                    946.0\n",
       "                ],\n",
       "                [\n",
       "                    \"5\\u6708\",\n",
       "                    1329.0\n",
       "                ],\n",
       "                [\n",
       "                    \"6\\u6708\",\n",
       "                    1655.0\n",
       "                ]\n",
       "            ],\n",
       "            \"label\": {\n",
       "                \"show\": true,\n",
       "                \"position\": \"top\",\n",
       "                \"margin\": 8\n",
       "            },\n",
       "            \"lineStyle\": {\n",
       "                \"width\": 1,\n",
       "                \"opacity\": 1,\n",
       "                \"curveness\": 0,\n",
       "                \"type\": \"solid\"\n",
       "            },\n",
       "            \"areaStyle\": {\n",
       "                \"opacity\": 0\n",
       "            }\n",
       "        },\n",
       "        {\n",
       "            \"type\": \"line\",\n",
       "            \"name\": \"\\u603b\\u9500\\u552e\\uff08\\u542bFBA\\u53caFBM\\uff09\\u5546\\u54c1\\u6570\",\n",
       "            \"connectNulls\": false,\n",
       "            \"xAxisIndex\": 0,\n",
       "            \"yAxisIndex\": 0,\n",
       "            \"symbolSize\": 4,\n",
       "            \"showSymbol\": true,\n",
       "            \"smooth\": false,\n",
       "            \"step\": false,\n",
       "            \"data\": [\n",
       "                [\n",
       "                    \"1\\u6708\",\n",
       "                    1106.0\n",
       "                ],\n",
       "                [\n",
       "                    \"2\\u6708\",\n",
       "                    1035.0\n",
       "                ],\n",
       "                [\n",
       "                    \"3\\u6708\",\n",
       "                    1477.0\n",
       "                ],\n",
       "                [\n",
       "                    \"4\\u6708\",\n",
       "                    1891.0\n",
       "                ],\n",
       "                [\n",
       "                    \"5\\u6708\",\n",
       "                    2497.0\n",
       "                ],\n",
       "                [\n",
       "                    \"6\\u6708\",\n",
       "                    2927.0\n",
       "                ]\n",
       "            ],\n",
       "            \"label\": {\n",
       "                \"show\": true,\n",
       "                \"position\": \"top\",\n",
       "                \"margin\": 8\n",
       "            },\n",
       "            \"lineStyle\": {\n",
       "                \"width\": 1,\n",
       "                \"opacity\": 1,\n",
       "                \"curveness\": 0,\n",
       "                \"type\": \"solid\"\n",
       "            },\n",
       "            \"areaStyle\": {\n",
       "                \"opacity\": 0\n",
       "            }\n",
       "        },\n",
       "        {\n",
       "            \"type\": \"line\",\n",
       "            \"name\": \"\\u5e7f\\u544a\\uff08\\u542b\\u5546\\u54c1\\u53ca\\u54c1\\u724c\\uff09\\u8d39\\u7528\\u652f\\u51fa\\uff08\\u5355\\u4f4d\\uff1a\\u7f8e\\u5143\\uff09\",\n",
       "            \"connectNulls\": false,\n",
       "            \"xAxisIndex\": 1,\n",
       "            \"yAxisIndex\": 1,\n",
       "            \"symbolSize\": 4,\n",
       "            \"showSymbol\": true,\n",
       "            \"smooth\": false,\n",
       "            \"step\": false,\n",
       "            \"data\": [\n",
       "                [\n",
       "                    \"1\\u6708\",\n",
       "                    1948.28\n",
       "                ],\n",
       "                [\n",
       "                    \"2\\u6708\",\n",
       "                    1645.5\n",
       "                ],\n",
       "                [\n",
       "                    \"3\\u6708\",\n",
       "                    2397.55\n",
       "                ],\n",
       "                [\n",
       "                    \"4\\u6708\",\n",
       "                    3886.79\n",
       "                ],\n",
       "                [\n",
       "                    \"5\\u6708\",\n",
       "                    5421.47\n",
       "                ],\n",
       "                [\n",
       "                    \"6\\u6708\",\n",
       "                    6994.67\n",
       "                ]\n",
       "            ],\n",
       "            \"label\": {\n",
       "                \"show\": true,\n",
       "                \"position\": \"top\",\n",
       "                \"margin\": 8\n",
       "            },\n",
       "            \"lineStyle\": {\n",
       "                \"width\": 1,\n",
       "                \"opacity\": 1,\n",
       "                \"curveness\": 0,\n",
       "                \"type\": \"solid\"\n",
       "            },\n",
       "            \"areaStyle\": {\n",
       "                \"opacity\": 0\n",
       "            }\n",
       "        }\n",
       "    ],\n",
       "    \"legend\": [\n",
       "        {\n",
       "            \"data\": [\n",
       "                \"\\u5e7f\\u544a\\uff08\\u542b\\u5546\\u54c1\\u53ca\\u54c1\\u724c\\uff09\\u9500\\u552e\\u5546\\u54c1\\u6570\",\n",
       "                \"\\u603b\\u9500\\u552e\\uff08\\u542bFBA\\u53caFBM\\uff09\\u5546\\u54c1\\u6570\"\n",
       "            ],\n",
       "            \"selected\": {\n",
       "                \"\\u5e7f\\u544a\\uff08\\u542b\\u5546\\u54c1\\u53ca\\u54c1\\u724c\\uff09\\u9500\\u552e\\u5546\\u54c1\\u6570\": true,\n",
       "                \"\\u603b\\u9500\\u552e\\uff08\\u542bFBA\\u53caFBM\\uff09\\u5546\\u54c1\\u6570\": true\n",
       "            },\n",
       "            \"show\": true,\n",
       "            \"left\": \"right\",\n",
       "            \"top\": \"top\"\n",
       "        },\n",
       "        {\n",
       "            \"data\": [\n",
       "                \"\\u5e7f\\u544a\\uff08\\u542b\\u5546\\u54c1\\u53ca\\u54c1\\u724c\\uff09\\u8d39\\u7528\\u652f\\u51fa\\uff08\\u5355\\u4f4d\\uff1a\\u7f8e\\u5143\\uff09\"\n",
       "            ],\n",
       "            \"selected\": {\n",
       "                \"\\u5e7f\\u544a\\uff08\\u542b\\u5546\\u54c1\\u53ca\\u54c1\\u724c\\uff09\\u8d39\\u7528\\u652f\\u51fa\\uff08\\u5355\\u4f4d\\uff1a\\u7f8e\\u5143\\uff09\": true\n",
       "            },\n",
       "            \"show\": true,\n",
       "            \"left\": \"right\",\n",
       "            \"top\": \"bottom\"\n",
       "        }\n",
       "    ],\n",
       "    \"tooltip\": {\n",
       "        \"show\": true,\n",
       "        \"trigger\": \"item\",\n",
       "        \"triggerOn\": \"mousemove|click\",\n",
       "        \"axisPointer\": {\n",
       "            \"type\": \"line\"\n",
       "        },\n",
       "        \"textStyle\": {\n",
       "            \"fontSize\": 14\n",
       "        },\n",
       "        \"borderWidth\": 0\n",
       "    },\n",
       "    \"xAxis\": [\n",
       "        {\n",
       "            \"show\": true,\n",
       "            \"scale\": false,\n",
       "            \"nameLocation\": \"end\",\n",
       "            \"nameGap\": 15,\n",
       "            \"gridIndex\": 0,\n",
       "            \"inverse\": false,\n",
       "            \"offset\": 0,\n",
       "            \"splitNumber\": 5,\n",
       "            \"minInterval\": 0,\n",
       "            \"splitLine\": {\n",
       "                \"show\": false,\n",
       "                \"lineStyle\": {\n",
       "                    \"width\": 1,\n",
       "                    \"opacity\": 1,\n",
       "                    \"curveness\": 0,\n",
       "                    \"type\": \"solid\"\n",
       "                }\n",
       "            },\n",
       "            \"data\": [\n",
       "                \"1\\u6708\",\n",
       "                \"2\\u6708\",\n",
       "                \"3\\u6708\",\n",
       "                \"4\\u6708\",\n",
       "                \"5\\u6708\",\n",
       "                \"6\\u6708\"\n",
       "            ]\n",
       "        },\n",
       "        {\n",
       "            \"show\": true,\n",
       "            \"scale\": false,\n",
       "            \"nameLocation\": \"end\",\n",
       "            \"nameGap\": 15,\n",
       "            \"gridIndex\": 1,\n",
       "            \"inverse\": false,\n",
       "            \"offset\": 0,\n",
       "            \"splitNumber\": 5,\n",
       "            \"minInterval\": 0,\n",
       "            \"splitLine\": {\n",
       "                \"show\": false,\n",
       "                \"lineStyle\": {\n",
       "                    \"width\": 1,\n",
       "                    \"opacity\": 1,\n",
       "                    \"curveness\": 0,\n",
       "                    \"type\": \"solid\"\n",
       "                }\n",
       "            },\n",
       "            \"data\": [\n",
       "                \"1\\u6708\",\n",
       "                \"2\\u6708\",\n",
       "                \"3\\u6708\",\n",
       "                \"4\\u6708\",\n",
       "                \"5\\u6708\",\n",
       "                \"6\\u6708\"\n",
       "            ]\n",
       "        }\n",
       "    ],\n",
       "    \"yAxis\": [\n",
       "        {\n",
       "            \"show\": true,\n",
       "            \"scale\": false,\n",
       "            \"nameLocation\": \"end\",\n",
       "            \"nameGap\": 15,\n",
       "            \"gridIndex\": 0,\n",
       "            \"inverse\": false,\n",
       "            \"offset\": 0,\n",
       "            \"splitNumber\": 5,\n",
       "            \"minInterval\": 0,\n",
       "            \"splitLine\": {\n",
       "                \"show\": false,\n",
       "                \"lineStyle\": {\n",
       "                    \"width\": 1,\n",
       "                    \"opacity\": 1,\n",
       "                    \"curveness\": 0,\n",
       "                    \"type\": \"solid\"\n",
       "                }\n",
       "            }\n",
       "        },\n",
       "        {\n",
       "            \"show\": true,\n",
       "            \"scale\": false,\n",
       "            \"nameLocation\": \"end\",\n",
       "            \"nameGap\": 15,\n",
       "            \"gridIndex\": 1,\n",
       "            \"inverse\": false,\n",
       "            \"offset\": 0,\n",
       "            \"splitNumber\": 5,\n",
       "            \"minInterval\": 0,\n",
       "            \"splitLine\": {\n",
       "                \"show\": false,\n",
       "                \"lineStyle\": {\n",
       "                    \"width\": 1,\n",
       "                    \"opacity\": 1,\n",
       "                    \"curveness\": 0,\n",
       "                    \"type\": \"solid\"\n",
       "                }\n",
       "            }\n",
       "        }\n",
       "    ],\n",
       "    \"title\": [\n",
       "        {},\n",
       "        {\n",
       "            \"text\": \"\\u5e7f\\u544a\\u8d39\\u7528\\u53ca\\u5546\\u54c1\\u9500\\u552e\\u5bf9\\u6bd4\\u66f2\\u7ebf\"\n",
       "        }\n",
       "    ],\n",
       "    \"grid\": [\n",
       "        {\n",
       "            \"bottom\": \"45%\"\n",
       "        },\n",
       "        {\n",
       "            \"top\": \"70%\"\n",
       "        }\n",
       "    ]\n",
       "};\n",
       "        chart_b6ae785524e54d978f6142899fa22ea7.setOption(option_b6ae785524e54d978f6142899fa22ea7);\n",
       "    });\n",
       "</script>\n"
      ],
      "text/plain": [
       "<pyecharts.render.display.HTML at 0x7f73016ee908>"
      ]
     },
     "execution_count": 22,
     "metadata": {},
     "output_type": "execute_result"
    }
   ],
   "source": [
    "# 数据处理\n",
    "MONTH_LIST = list(workdf.columns)[1:] # 月份List\n",
    "ADS_CHARGES_LIST = [x for x in (workdf.loc[4][1:] + workdf.loc[6][1:])] # 广告（含商品及品牌）费用支出List\n",
    "ADS_SALES_ITEMS_LIST = [x for x in (workdf.loc[5][1:] + workdf.loc[7][1:])] # 广告（含商品及品牌）销售商品数List\n",
    "TOTAL_SALES_ITEMS_LIST = [x for x in (workdf.loc[0][1:] + workdf.loc[1][1:])] # 总销售（含FBA及FBM）商品数List\n",
    "\n",
    "# 图表输出\n",
    "line1 = (\n",
    "    Line(init_opts = opts.InitOpts())\n",
    "    .add_xaxis(MONTH_LIST)\n",
    "    .add_yaxis(\n",
    "        \"广告（含商品及品牌）销售商品数\", \n",
    "        ADS_SALES_ITEMS_LIST\n",
    "    )\n",
    "    .add_yaxis(\n",
    "        \"总销售（含FBA及FBM）商品数\", \n",
    "        TOTAL_SALES_ITEMS_LIST\n",
    "    )\n",
    "    .set_global_opts(\n",
    "        legend_opts=opts.LegendOpts(pos_left=\"right\", pos_top=\"top\")\n",
    "     )\n",
    ")\n",
    "\n",
    "line2 = (\n",
    "    Line(init_opts = opts.InitOpts())\n",
    "    .add_xaxis(MONTH_LIST)\n",
    "    .add_yaxis(\n",
    "        \"广告（含商品及品牌）费用支出（单位：美元）\", \n",
    "        ADS_CHARGES_LIST\n",
    "    )\n",
    "    .set_global_opts(\n",
    "        title_opts=opts.TitleOpts(title=\"广告费用及商品销售对比曲线\"),\n",
    "        legend_opts=opts.LegendOpts(pos_left=\"right\", pos_top=\"bottom\")\n",
    "     )\n",
    ")\n",
    "\n",
    "grid1 = (\n",
    "    Grid(init_opts = opts.InitOpts(theme=ThemeType.CHALK))\n",
    "    .add(line1, grid_opts=opts.GridOpts(pos_bottom=\"45%\"))\n",
    "    .add(line2, grid_opts=opts.GridOpts(pos_top=\"70%\"))\n",
    ")\n",
    "grid1.render_notebook()"
   ]
  },
  {
   "cell_type": "markdown",
   "metadata": {},
   "source": [
    "### 广告销量占商品总销量百分比 Ratio Of Ads Sales"
   ]
  },
  {
   "cell_type": "code",
   "execution_count": 23,
   "metadata": {
    "ExecuteTime": {
     "end_time": "2019-07-11T18:14:00.308243Z",
     "start_time": "2019-07-11T18:14:00.285538Z"
    },
    "scrolled": true
   },
   "outputs": [
    {
     "data": {
      "text/html": [
       "<script>\n",
       "    require.config({\n",
       "        paths: {\n",
       "            'echarts':'https://assets.pyecharts.org/assets/echarts.min', 'essos':'https://assets.pyecharts.org/assets/themes/essos'\n",
       "        }\n",
       "    });\n",
       "</script>\n",
       "\n",
       "    <div id=\"79f5b17e2ae447dc80b24a25b4faaeee\" style=\"width:900px; height:320px;\"></div>\n",
       "\n",
       "\n",
       "<script>\n",
       "    require(['echarts', 'essos'], function(echarts) {\n",
       "        var chart_79f5b17e2ae447dc80b24a25b4faaeee = echarts.init(\n",
       "            document.getElementById('79f5b17e2ae447dc80b24a25b4faaeee'), 'essos', {renderer: 'canvas'});\n",
       "        var option_79f5b17e2ae447dc80b24a25b4faaeee = {\n",
       "    \"series\": [\n",
       "        {\n",
       "            \"type\": \"line\",\n",
       "            \"name\": \"\\u6bd4\\u7387\\uff08%\\uff09\",\n",
       "            \"connectNulls\": false,\n",
       "            \"symbolSize\": 4,\n",
       "            \"showSymbol\": true,\n",
       "            \"smooth\": false,\n",
       "            \"step\": false,\n",
       "            \"data\": [\n",
       "                [\n",
       "                    \"1\\u6708\",\n",
       "                    47.11\n",
       "                ],\n",
       "                [\n",
       "                    \"2\\u6708\",\n",
       "                    46.47\n",
       "                ],\n",
       "                [\n",
       "                    \"3\\u6708\",\n",
       "                    45.7\n",
       "                ],\n",
       "                [\n",
       "                    \"4\\u6708\",\n",
       "                    50.03\n",
       "                ],\n",
       "                [\n",
       "                    \"5\\u6708\",\n",
       "                    53.22\n",
       "                ],\n",
       "                [\n",
       "                    \"6\\u6708\",\n",
       "                    56.54\n",
       "                ]\n",
       "            ],\n",
       "            \"label\": {\n",
       "                \"show\": true,\n",
       "                \"position\": \"top\",\n",
       "                \"margin\": 8\n",
       "            },\n",
       "            \"lineStyle\": {\n",
       "                \"width\": 1,\n",
       "                \"opacity\": 1,\n",
       "                \"curveness\": 0,\n",
       "                \"type\": \"solid\"\n",
       "            },\n",
       "            \"areaStyle\": {\n",
       "                \"opacity\": 0\n",
       "            },\n",
       "            \"markLine\": {\n",
       "                \"silent\": false,\n",
       "                \"precision\": 2,\n",
       "                \"label\": {\n",
       "                    \"show\": true,\n",
       "                    \"position\": \"top\",\n",
       "                    \"margin\": 8\n",
       "                },\n",
       "                \"data\": [\n",
       "                    {\n",
       "                        \"type\": \"average\"\n",
       "                    }\n",
       "                ]\n",
       "            }\n",
       "        }\n",
       "    ],\n",
       "    \"legend\": [\n",
       "        {\n",
       "            \"data\": [\n",
       "                \"\\u6bd4\\u7387\\uff08%\\uff09\"\n",
       "            ],\n",
       "            \"selected\": {\n",
       "                \"\\u6bd4\\u7387\\uff08%\\uff09\": true\n",
       "            },\n",
       "            \"show\": true,\n",
       "            \"left\": \"right\"\n",
       "        }\n",
       "    ],\n",
       "    \"tooltip\": {\n",
       "        \"show\": true,\n",
       "        \"trigger\": \"item\",\n",
       "        \"triggerOn\": \"mousemove|click\",\n",
       "        \"axisPointer\": {\n",
       "            \"type\": \"line\"\n",
       "        },\n",
       "        \"textStyle\": {\n",
       "            \"fontSize\": 14\n",
       "        },\n",
       "        \"borderWidth\": 0\n",
       "    },\n",
       "    \"xAxis\": [\n",
       "        {\n",
       "            \"show\": true,\n",
       "            \"scale\": false,\n",
       "            \"nameLocation\": \"end\",\n",
       "            \"nameGap\": 15,\n",
       "            \"gridIndex\": 0,\n",
       "            \"inverse\": false,\n",
       "            \"offset\": 0,\n",
       "            \"splitNumber\": 5,\n",
       "            \"minInterval\": 0,\n",
       "            \"splitLine\": {\n",
       "                \"show\": false,\n",
       "                \"lineStyle\": {\n",
       "                    \"width\": 1,\n",
       "                    \"opacity\": 1,\n",
       "                    \"curveness\": 0,\n",
       "                    \"type\": \"solid\"\n",
       "                }\n",
       "            },\n",
       "            \"data\": [\n",
       "                \"1\\u6708\",\n",
       "                \"2\\u6708\",\n",
       "                \"3\\u6708\",\n",
       "                \"4\\u6708\",\n",
       "                \"5\\u6708\",\n",
       "                \"6\\u6708\"\n",
       "            ]\n",
       "        }\n",
       "    ],\n",
       "    \"yAxis\": [\n",
       "        {\n",
       "            \"show\": true,\n",
       "            \"scale\": false,\n",
       "            \"nameLocation\": \"end\",\n",
       "            \"nameGap\": 15,\n",
       "            \"gridIndex\": 0,\n",
       "            \"inverse\": false,\n",
       "            \"offset\": 0,\n",
       "            \"splitNumber\": 5,\n",
       "            \"minInterval\": 0,\n",
       "            \"splitLine\": {\n",
       "                \"show\": false,\n",
       "                \"lineStyle\": {\n",
       "                    \"width\": 1,\n",
       "                    \"opacity\": 1,\n",
       "                    \"curveness\": 0,\n",
       "                    \"type\": \"solid\"\n",
       "                }\n",
       "            }\n",
       "        }\n",
       "    ],\n",
       "    \"title\": [\n",
       "        {\n",
       "            \"text\": \"\\u5e7f\\u544a\\u9500\\u91cf\\u5360\\u5546\\u54c1\\u603b\\u9500\\u91cf\\u767e\\u5206\\u6bd4\"\n",
       "        }\n",
       "    ]\n",
       "};\n",
       "        chart_79f5b17e2ae447dc80b24a25b4faaeee.setOption(option_79f5b17e2ae447dc80b24a25b4faaeee);\n",
       "    });\n",
       "</script>\n"
      ],
      "text/plain": [
       "<pyecharts.render.display.HTML at 0x7f7301751828>"
      ]
     },
     "execution_count": 23,
     "metadata": {},
     "output_type": "execute_result"
    }
   ],
   "source": [
    "# 数据处理\n",
    "ADS_SALES_ITEMS_RATIO_LIST = [round(x*100,2) for x in ((workdf.loc[5][1:] + workdf.loc[7][1:]) / (workdf.loc[0][1:] + workdf.loc[1][1:]))] # 广告销量占比List\n",
    "\n",
    "# 图表输出\n",
    "line3 = (\n",
    "    Line(init_opts = opts.InitOpts(theme=ThemeType.ESSOS, height=\"320px\"))\n",
    "    .add_xaxis(MONTH_LIST)\n",
    "    .add_yaxis(\n",
    "        \"比率（%）\", \n",
    "        ADS_SALES_ITEMS_RATIO_LIST,\n",
    "        markline_opts=opts.MarkLineOpts(data=[opts.MarkLineItem(type_=\"average\")])\n",
    "    )\n",
    "    .set_global_opts(\n",
    "        title_opts=opts.TitleOpts(title=\"广告销量占商品总销量百分比\"),\n",
    "        legend_opts=opts.LegendOpts(pos_left=\"right\")\n",
    "     )\n",
    ")\n",
    "line3.render_notebook()"
   ]
  },
  {
   "cell_type": "markdown",
   "metadata": {},
   "source": [
    "### 商品广告与品牌广告对比 Sponsored Products Ads vs. Sponsored Brands Ads"
   ]
  },
  {
   "cell_type": "code",
   "execution_count": 24,
   "metadata": {
    "ExecuteTime": {
     "end_time": "2019-07-11T18:14:00.435743Z",
     "start_time": "2019-07-11T18:14:00.379497Z"
    },
    "scrolled": false
   },
   "outputs": [
    {
     "data": {
      "text/html": [
       "<script>\n",
       "    require.config({\n",
       "        paths: {\n",
       "            'echarts':'https://assets.pyecharts.org/assets/echarts.min'\n",
       "        }\n",
       "    });\n",
       "</script>\n",
       "\n",
       "    <div id=\"0a9c6912fd8c47c89f1220eee0d2e4c7\" style=\"width:900px; height:500px;\"></div>\n",
       "\n",
       "\n",
       "<script>\n",
       "    require(['echarts'], function(echarts) {\n",
       "        var chart_0a9c6912fd8c47c89f1220eee0d2e4c7 = echarts.init(\n",
       "            document.getElementById('0a9c6912fd8c47c89f1220eee0d2e4c7'), 'dark', {renderer: 'canvas'});\n",
       "        var option_0a9c6912fd8c47c89f1220eee0d2e4c7 = {\n",
       "    \"series\": [\n",
       "        {\n",
       "            \"type\": \"line\",\n",
       "            \"name\": \"\\u5546\\u54c1\\u5e7f\\u544a\",\n",
       "            \"connectNulls\": false,\n",
       "            \"symbolSize\": 4,\n",
       "            \"showSymbol\": true,\n",
       "            \"smooth\": true,\n",
       "            \"step\": false,\n",
       "            \"data\": [\n",
       "                [\n",
       "                    \"1\\u6708\",\n",
       "                    8.96\n",
       "                ],\n",
       "                [\n",
       "                    \"2\\u6708\",\n",
       "                    13.09\n",
       "                ],\n",
       "                [\n",
       "                    \"3\\u6708\",\n",
       "                    13.57\n",
       "                ],\n",
       "                [\n",
       "                    \"4\\u6708\",\n",
       "                    25.01\n",
       "                ],\n",
       "                [\n",
       "                    \"5\\u6708\",\n",
       "                    19.2\n",
       "                ],\n",
       "                [\n",
       "                    \"6\\u6708\",\n",
       "                    10.69\n",
       "                ]\n",
       "            ],\n",
       "            \"label\": {\n",
       "                \"show\": true,\n",
       "                \"position\": \"top\",\n",
       "                \"margin\": 8\n",
       "            },\n",
       "            \"lineStyle\": {\n",
       "                \"width\": 1,\n",
       "                \"opacity\": 1,\n",
       "                \"curveness\": 0,\n",
       "                \"type\": \"solid\"\n",
       "            },\n",
       "            \"areaStyle\": {\n",
       "                \"opacity\": 0\n",
       "            }\n",
       "        },\n",
       "        {\n",
       "            \"type\": \"line\",\n",
       "            \"name\": \"\\u54c1\\u724c\\u5e7f\\u544a\",\n",
       "            \"connectNulls\": false,\n",
       "            \"symbolSize\": 4,\n",
       "            \"showSymbol\": true,\n",
       "            \"smooth\": true,\n",
       "            \"step\": false,\n",
       "            \"data\": [\n",
       "                [\n",
       "                    \"1\\u6708\",\n",
       "                    16.97\n",
       "                ],\n",
       "                [\n",
       "                    \"2\\u6708\",\n",
       "                    19.91\n",
       "                ],\n",
       "                [\n",
       "                    \"3\\u6708\",\n",
       "                    24.0\n",
       "                ],\n",
       "                [\n",
       "                    \"4\\u6708\",\n",
       "                    46.3\n",
       "                ],\n",
       "                [\n",
       "                    \"5\\u6708\",\n",
       "                    20.1\n",
       "                ],\n",
       "                [\n",
       "                    \"6\\u6708\",\n",
       "                    7.58\n",
       "                ]\n",
       "            ],\n",
       "            \"label\": {\n",
       "                \"show\": true,\n",
       "                \"position\": \"top\",\n",
       "                \"margin\": 8\n",
       "            },\n",
       "            \"lineStyle\": {\n",
       "                \"width\": 1,\n",
       "                \"opacity\": 1,\n",
       "                \"curveness\": 0,\n",
       "                \"type\": \"solid\"\n",
       "            },\n",
       "            \"areaStyle\": {\n",
       "                \"opacity\": 0\n",
       "            }\n",
       "        }\n",
       "    ],\n",
       "    \"legend\": [\n",
       "        {\n",
       "            \"data\": [\n",
       "                \"\\u5546\\u54c1\\u5e7f\\u544a\",\n",
       "                \"\\u54c1\\u724c\\u5e7f\\u544a\"\n",
       "            ],\n",
       "            \"selected\": {\n",
       "                \"\\u5546\\u54c1\\u5e7f\\u544a\": true,\n",
       "                \"\\u54c1\\u724c\\u5e7f\\u544a\": true\n",
       "            },\n",
       "            \"show\": true,\n",
       "            \"left\": \"right\"\n",
       "        }\n",
       "    ],\n",
       "    \"tooltip\": {\n",
       "        \"show\": true,\n",
       "        \"trigger\": \"item\",\n",
       "        \"triggerOn\": \"mousemove|click\",\n",
       "        \"axisPointer\": {\n",
       "            \"type\": \"line\"\n",
       "        },\n",
       "        \"textStyle\": {\n",
       "            \"fontSize\": 14\n",
       "        },\n",
       "        \"borderWidth\": 0\n",
       "    },\n",
       "    \"xAxis\": [\n",
       "        {\n",
       "            \"show\": true,\n",
       "            \"scale\": false,\n",
       "            \"nameLocation\": \"end\",\n",
       "            \"nameGap\": 15,\n",
       "            \"gridIndex\": 0,\n",
       "            \"inverse\": false,\n",
       "            \"offset\": 0,\n",
       "            \"splitNumber\": 5,\n",
       "            \"minInterval\": 0,\n",
       "            \"splitLine\": {\n",
       "                \"show\": false,\n",
       "                \"lineStyle\": {\n",
       "                    \"width\": 1,\n",
       "                    \"opacity\": 1,\n",
       "                    \"curveness\": 0,\n",
       "                    \"type\": \"solid\"\n",
       "                }\n",
       "            },\n",
       "            \"data\": [\n",
       "                \"1\\u6708\",\n",
       "                \"2\\u6708\",\n",
       "                \"3\\u6708\",\n",
       "                \"4\\u6708\",\n",
       "                \"5\\u6708\",\n",
       "                \"6\\u6708\"\n",
       "            ]\n",
       "        }\n",
       "    ],\n",
       "    \"yAxis\": [\n",
       "        {\n",
       "            \"show\": true,\n",
       "            \"scale\": false,\n",
       "            \"nameLocation\": \"end\",\n",
       "            \"nameGap\": 15,\n",
       "            \"gridIndex\": 0,\n",
       "            \"inverse\": false,\n",
       "            \"offset\": 0,\n",
       "            \"splitNumber\": 5,\n",
       "            \"minInterval\": 0,\n",
       "            \"splitLine\": {\n",
       "                \"show\": false,\n",
       "                \"lineStyle\": {\n",
       "                    \"width\": 1,\n",
       "                    \"opacity\": 1,\n",
       "                    \"curveness\": 0,\n",
       "                    \"type\": \"solid\"\n",
       "                }\n",
       "            }\n",
       "        }\n",
       "    ],\n",
       "    \"title\": [\n",
       "        {\n",
       "            \"text\": \"\\u6bcf\\u9500\\u552e\\u4e00\\u4ef6\\u5e7f\\u544a\\u5546\\u54c1\\u9700\\u8981\\u82b1\\u8d39\\u7684\\u5e7f\\u544a\\u652f\\u51fa\\uff08\\u5355\\u4f4d\\uff1a\\u7f8e\\u5143\\uff09\"\n",
       "        }\n",
       "    ]\n",
       "};\n",
       "        chart_0a9c6912fd8c47c89f1220eee0d2e4c7.setOption(option_0a9c6912fd8c47c89f1220eee0d2e4c7);\n",
       "    });\n",
       "</script>\n"
      ],
      "text/plain": [
       "<pyecharts.render.display.HTML at 0x7f7301665a20>"
      ]
     },
     "execution_count": 24,
     "metadata": {},
     "output_type": "execute_result"
    }
   ],
   "source": [
    "# 数据处理\n",
    "ADS_SPA_MEAN_LIST = [round(x,2) for x in (workdf.loc[4][1:] / workdf.loc[6][1:])] # 商品广告效费比List\n",
    "ADS_SBA_MEAN_LIST = [round(x,2) for x in (workdf.loc[5][1:] / workdf.loc[7][1:])] # 品牌广告效费比List\n",
    "\n",
    "# 图表输出\n",
    "line4 = (\n",
    "    Line(init_opts = opts.InitOpts(theme=ThemeType.DARK))\n",
    "    .add_xaxis(MONTH_LIST)\n",
    "    .add_yaxis(\n",
    "        \"商品广告\", \n",
    "        ADS_SPA_MEAN_LIST,\n",
    "        is_smooth=True\n",
    "    )\n",
    "    .add_yaxis(\n",
    "        \"品牌广告\", \n",
    "        ADS_SBA_MEAN_LIST,\n",
    "        is_smooth=True\n",
    "    )\n",
    "    .set_global_opts(\n",
    "        title_opts=opts.TitleOpts(title=\"每销售一件广告商品需要花费的广告支出（单位：美元）\"),\n",
    "        legend_opts=opts.LegendOpts(pos_left=\"right\")\n",
    "     )\n",
    ")\n",
    "line4.render_notebook()"
   ]
  },
  {
   "cell_type": "markdown",
   "metadata": {},
   "source": [
    "### 广告费用均摊 Average Cost Of Ads Investment"
   ]
  },
  {
   "cell_type": "code",
   "execution_count": 25,
   "metadata": {
    "ExecuteTime": {
     "end_time": "2019-07-11T18:14:00.514706Z",
     "start_time": "2019-07-11T18:14:00.464606Z"
    }
   },
   "outputs": [
    {
     "name": "stdout",
     "output_type": "stream",
     "text": [
      "统计期（2019年1-6月，美国）内广告费用均摊数据：\n",
      "\n",
      "商品销售总数为：10933\n",
      "\n",
      "广告总花费为：$22294.26\n",
      "\n",
      "广告费用均摊至每件商品为：$2.04\n"
     ]
    }
   ],
   "source": [
    "# 数据计算。\n",
    "SALES_ITEMS_COUNT_US = workdf.loc[0][1:].sum() + workdf.loc[1][1:].sum() # FBA+FBM总销售数\n",
    "ADS_SPEND_COUNT_US = workdf.loc[4][1:].sum() + workdf.loc[6][1:].sum() # 广告总支出\n",
    "ADS_AVR_COST_US = ADS_SPEND_COUNT_US / SALES_ITEMS_COUNT_US # 广告费用均摊\n",
    "\n",
    "print('统计期（2019年1-6月，美国）内广告费用均摊数据：')\n",
    "print('\\n商品销售总数为：{0:.0f}'.format(SALES_ITEMS_COUNT_US))\n",
    "print('\\n广告总花费为：${0:.2f}'.format(ADS_SPEND_COUNT_US))\n",
    "print('\\n广告费用均摊至每件商品为：${0:.2f}'.format(ADS_AVR_COST_US))"
   ]
  },
  {
   "cell_type": "markdown",
   "metadata": {},
   "source": [
    "## 退货费用支出 Charges Of Returns"
   ]
  },
  {
   "cell_type": "markdown",
   "metadata": {},
   "source": [
    "当FBA订单发生买家退货时，一般而言，每笔订单遭受的损失包括如下部分：\n",
    "\n",
    "- 向买家全额退款\n",
    "\n",
    "- 买家 至 亚马逊运营中心 的回程FBA物流费用（与去程相同，等于“FBA尾程配送费”）\n",
    "\n",
    "- 亚马逊退回佣金（扣除退款管理费）"
   ]
  },
  {
   "cell_type": "markdown",
   "metadata": {},
   "source": [
    "### 向买家退款 Refund"
   ]
  },
  {
   "cell_type": "code",
   "execution_count": 26,
   "metadata": {
    "ExecuteTime": {
     "end_time": "2019-07-11T18:14:00.735850Z",
     "start_time": "2019-07-11T18:14:00.729688Z"
    }
   },
   "outputs": [
    {
     "name": "stdout",
     "output_type": "stream",
     "text": [
      "每件物品退款金额为：$15.00\n"
     ]
    }
   ],
   "source": [
    "# 等于买家支付的商品销售价\n",
    "RETURN_REFUND_US = US_SALES_PRICE\n",
    "\n",
    "print('每件物品退款金额为：${0:.2f}'.format(RETURN_REFUND_US))"
   ]
  },
  {
   "cell_type": "markdown",
   "metadata": {},
   "source": [
    "### 来回程FBA物流费用 FBA Fees Of Return"
   ]
  },
  {
   "cell_type": "code",
   "execution_count": 27,
   "metadata": {
    "ExecuteTime": {
     "end_time": "2019-07-11T18:14:00.823677Z",
     "start_time": "2019-07-11T18:14:00.820031Z"
    },
    "scrolled": true
   },
   "outputs": [
    {
     "name": "stdout",
     "output_type": "stream",
     "text": [
      "退货FBA物流费支出为：$4.76\n"
     ]
    }
   ],
   "source": [
    "# 等于FBA尾程配送费\n",
    "RETURN_FBA_US = FBA_US\n",
    "\n",
    "print('退货FBA物流费支出为：${0:.2f}'.format(RETURN_FBA_US))"
   ]
  },
  {
   "cell_type": "markdown",
   "metadata": {
    "ExecuteTime": {
     "end_time": "2019-07-08T10:40:35.909142Z",
     "start_time": "2019-07-08T10:40:35.906807Z"
    }
   },
   "source": [
    "### 佣金返还（扣除退款管理费 Refund Administration Rates） Commission Charges Reimbursement"
   ]
  },
  {
   "cell_type": "markdown",
   "metadata": {
    "ExecuteTime": {
     "end_time": "2019-07-08T10:13:54.776642Z",
     "start_time": "2019-07-08T10:13:54.772913Z"
    }
   },
   "source": [
    "退货退款时，亚马逊会返还扣除退款管理费后的佣金部分，退款管理费的计算规则为：佣金 x 20%（封顶$5美元）。"
   ]
  },
  {
   "cell_type": "code",
   "execution_count": 28,
   "metadata": {
    "ExecuteTime": {
     "end_time": "2019-07-11T18:14:00.993062Z",
     "start_time": "2019-07-11T18:14:00.990045Z"
    }
   },
   "outputs": [
    {
     "name": "stdout",
     "output_type": "stream",
     "text": [
      "退货佣金返还为：$1.80\n"
     ]
    }
   ],
   "source": [
    "# 计算佣金返还款项\n",
    "RAR_AMAZON = 0.2\n",
    "RETURN_ACR_US =  US_SALES_PRICE * SHOES_ACR * (1 - RAR_AMAZON)\n",
    "\n",
    "print('退货佣金返还为：${0:.2f}'.format(RETURN_ACR_US))"
   ]
  },
  {
   "cell_type": "markdown",
   "metadata": {
    "ExecuteTime": {
     "end_time": "2019-07-08T10:40:35.909142Z",
     "start_time": "2019-07-08T10:40:35.906807Z"
    }
   },
   "source": [
    "### 每件商品的退货损失合计 Total Loss Of Return"
   ]
  },
  {
   "cell_type": "code",
   "execution_count": 29,
   "metadata": {
    "ExecuteTime": {
     "end_time": "2019-07-11T18:14:01.081443Z",
     "start_time": "2019-07-11T18:14:01.076975Z"
    },
    "scrolled": true
   },
   "outputs": [
    {
     "name": "stdout",
     "output_type": "stream",
     "text": [
      "每件商品的退货损失合计为：$9.97\n",
      "\n",
      "每件商品的毛利为：$3.43\n",
      "\n",
      "结论：退货 1 件商品遭受的损失相当于卖出 2.90 件商品获取的毛利总和。\n"
     ]
    }
   ],
   "source": [
    "# 合计\n",
    "RETURN_LOSS_US = -((US_SALES_PRICE - (US_SALES_PRICE * SHOES_ACR) - FBA_US) - RETURN_REFUND_US - RETURN_FBA_US + RETURN_ACR_US)\n",
    "\n",
    "print('每件商品的退货损失合计为：${0:.2f}'.format(RETURN_LOSS_US))\n",
    "\n",
    "print('\\n每件商品的毛利为：${0:.2f}'.format(GP_US))\n",
    "\n",
    "# 与单件商品的毛利比例 Loss vs Gross Profit\n",
    "RETURN_LGP_US = abs(RETURN_LOSS_US / GP_US)\n",
    "\n",
    "print('\\n结论：退货 1 件商品遭受的损失相当于卖出 {0:.2f} 件商品获取的毛利总和。'.format(RETURN_LGP_US))"
   ]
  },
  {
   "cell_type": "markdown",
   "metadata": {
    "ExecuteTime": {
     "end_time": "2019-07-08T10:40:35.909142Z",
     "start_time": "2019-07-08T10:40:35.906807Z"
    }
   },
   "source": [
    "### FBA退货情况及退货率（2019年1月-6月，美国） Returns And Ratios"
   ]
  },
  {
   "cell_type": "code",
   "execution_count": 30,
   "metadata": {
    "ExecuteTime": {
     "end_time": "2019-07-11T18:14:01.181167Z",
     "start_time": "2019-07-11T18:14:01.163490Z"
    }
   },
   "outputs": [
    {
     "data": {
      "text/html": [
       "<script>\n",
       "    require.config({\n",
       "        paths: {\n",
       "            'echarts':'https://assets.pyecharts.org/assets/echarts.min'\n",
       "        }\n",
       "    });\n",
       "</script>\n",
       "\n",
       "    <div id=\"4545e94907404d59a67eee8e7d13769e\" style=\"width:900px; height:500px;\"></div>\n",
       "\n",
       "\n",
       "<script>\n",
       "    require(['echarts'], function(echarts) {\n",
       "        var chart_4545e94907404d59a67eee8e7d13769e = echarts.init(\n",
       "            document.getElementById('4545e94907404d59a67eee8e7d13769e'), 'white', {renderer: 'canvas'});\n",
       "        var option_4545e94907404d59a67eee8e7d13769e = {\n",
       "    \"color\": [\n",
       "        \"#c23531\",\n",
       "        \"#2f4554\",\n",
       "        \"#61a0a8\",\n",
       "        \"#d48265\",\n",
       "        \"#749f83\",\n",
       "        \"#ca8622\",\n",
       "        \"#bda29a\",\n",
       "        \"#6e7074\",\n",
       "        \"#546570\",\n",
       "        \"#c4ccd3\",\n",
       "        \"#f05b72\",\n",
       "        \"#ef5b9c\",\n",
       "        \"#f47920\",\n",
       "        \"#905a3d\",\n",
       "        \"#fab27b\",\n",
       "        \"#2a5caa\",\n",
       "        \"#444693\",\n",
       "        \"#726930\",\n",
       "        \"#b2d235\",\n",
       "        \"#6d8346\",\n",
       "        \"#ac6767\",\n",
       "        \"#1d953f\",\n",
       "        \"#6950a1\",\n",
       "        \"#918597\"\n",
       "    ],\n",
       "    \"series\": [\n",
       "        {\n",
       "            \"type\": \"line\",\n",
       "            \"name\": \"FBA\\u9000\\u8d27\\u7387\\uff08%\\uff09\",\n",
       "            \"connectNulls\": false,\n",
       "            \"symbolSize\": 4,\n",
       "            \"showSymbol\": true,\n",
       "            \"smooth\": true,\n",
       "            \"step\": false,\n",
       "            \"data\": [\n",
       "                [\n",
       "                    \"1\\u6708\",\n",
       "                    10.55\n",
       "                ],\n",
       "                [\n",
       "                    \"2\\u6708\",\n",
       "                    12.82\n",
       "                ],\n",
       "                [\n",
       "                    \"3\\u6708\",\n",
       "                    6.37\n",
       "                ],\n",
       "                [\n",
       "                    \"4\\u6708\",\n",
       "                    7.26\n",
       "                ],\n",
       "                [\n",
       "                    \"5\\u6708\",\n",
       "                    8.75\n",
       "                ],\n",
       "                [\n",
       "                    \"6\\u6708\",\n",
       "                    8.91\n",
       "                ]\n",
       "            ],\n",
       "            \"label\": {\n",
       "                \"show\": true,\n",
       "                \"position\": \"top\",\n",
       "                \"margin\": 8\n",
       "            },\n",
       "            \"lineStyle\": {\n",
       "                \"width\": 1,\n",
       "                \"opacity\": 1,\n",
       "                \"curveness\": 0,\n",
       "                \"type\": \"solid\"\n",
       "            },\n",
       "            \"areaStyle\": {\n",
       "                \"opacity\": 0\n",
       "            },\n",
       "            \"markLine\": {\n",
       "                \"silent\": false,\n",
       "                \"precision\": 2,\n",
       "                \"label\": {\n",
       "                    \"show\": true,\n",
       "                    \"position\": \"top\",\n",
       "                    \"margin\": 8\n",
       "                },\n",
       "                \"data\": [\n",
       "                    {\n",
       "                        \"type\": \"average\"\n",
       "                    }\n",
       "                ]\n",
       "            }\n",
       "        },\n",
       "        {\n",
       "            \"type\": \"line\",\n",
       "            \"name\": \"FBM\\u9000\\u8d27\\u7387\\uff08%\\uff09\",\n",
       "            \"connectNulls\": false,\n",
       "            \"symbolSize\": 4,\n",
       "            \"showSymbol\": true,\n",
       "            \"smooth\": true,\n",
       "            \"step\": false,\n",
       "            \"data\": [\n",
       "                [\n",
       "                    \"1\\u6708\",\n",
       "                    7.69\n",
       "                ],\n",
       "                [\n",
       "                    \"2\\u6708\",\n",
       "                    8.33\n",
       "                ],\n",
       "                [\n",
       "                    \"3\\u6708\",\n",
       "                    3.17\n",
       "                ],\n",
       "                [\n",
       "                    \"4\\u6708\",\n",
       "                    3.81\n",
       "                ],\n",
       "                [\n",
       "                    \"5\\u6708\",\n",
       "                    4.94\n",
       "                ],\n",
       "                [\n",
       "                    \"6\\u6708\",\n",
       "                    6.53\n",
       "                ]\n",
       "            ],\n",
       "            \"label\": {\n",
       "                \"show\": true,\n",
       "                \"position\": \"top\",\n",
       "                \"margin\": 8\n",
       "            },\n",
       "            \"lineStyle\": {\n",
       "                \"width\": 1,\n",
       "                \"opacity\": 1,\n",
       "                \"curveness\": 0,\n",
       "                \"type\": \"solid\"\n",
       "            },\n",
       "            \"areaStyle\": {\n",
       "                \"opacity\": 0\n",
       "            },\n",
       "            \"markLine\": {\n",
       "                \"silent\": false,\n",
       "                \"precision\": 2,\n",
       "                \"label\": {\n",
       "                    \"show\": true,\n",
       "                    \"position\": \"top\",\n",
       "                    \"margin\": 8\n",
       "                },\n",
       "                \"data\": [\n",
       "                    {\n",
       "                        \"type\": \"average\"\n",
       "                    }\n",
       "                ]\n",
       "            }\n",
       "        }\n",
       "    ],\n",
       "    \"legend\": [\n",
       "        {\n",
       "            \"data\": [\n",
       "                \"FBA\\u9000\\u8d27\\u7387\\uff08%\\uff09\",\n",
       "                \"FBM\\u9000\\u8d27\\u7387\\uff08%\\uff09\"\n",
       "            ],\n",
       "            \"selected\": {\n",
       "                \"FBA\\u9000\\u8d27\\u7387\\uff08%\\uff09\": true,\n",
       "                \"FBM\\u9000\\u8d27\\u7387\\uff08%\\uff09\": true\n",
       "            },\n",
       "            \"show\": true,\n",
       "            \"left\": \"right\"\n",
       "        }\n",
       "    ],\n",
       "    \"tooltip\": {\n",
       "        \"show\": true,\n",
       "        \"trigger\": \"item\",\n",
       "        \"triggerOn\": \"mousemove|click\",\n",
       "        \"axisPointer\": {\n",
       "            \"type\": \"line\"\n",
       "        },\n",
       "        \"textStyle\": {\n",
       "            \"fontSize\": 14\n",
       "        },\n",
       "        \"borderWidth\": 0\n",
       "    },\n",
       "    \"xAxis\": [\n",
       "        {\n",
       "            \"show\": true,\n",
       "            \"scale\": false,\n",
       "            \"nameLocation\": \"end\",\n",
       "            \"nameGap\": 15,\n",
       "            \"gridIndex\": 0,\n",
       "            \"inverse\": false,\n",
       "            \"offset\": 0,\n",
       "            \"splitNumber\": 5,\n",
       "            \"minInterval\": 0,\n",
       "            \"splitLine\": {\n",
       "                \"show\": false,\n",
       "                \"lineStyle\": {\n",
       "                    \"width\": 1,\n",
       "                    \"opacity\": 1,\n",
       "                    \"curveness\": 0,\n",
       "                    \"type\": \"solid\"\n",
       "                }\n",
       "            },\n",
       "            \"data\": [\n",
       "                \"1\\u6708\",\n",
       "                \"2\\u6708\",\n",
       "                \"3\\u6708\",\n",
       "                \"4\\u6708\",\n",
       "                \"5\\u6708\",\n",
       "                \"6\\u6708\"\n",
       "            ]\n",
       "        }\n",
       "    ],\n",
       "    \"yAxis\": [\n",
       "        {\n",
       "            \"show\": true,\n",
       "            \"scale\": false,\n",
       "            \"nameLocation\": \"end\",\n",
       "            \"nameGap\": 15,\n",
       "            \"gridIndex\": 0,\n",
       "            \"inverse\": false,\n",
       "            \"offset\": 0,\n",
       "            \"splitNumber\": 5,\n",
       "            \"minInterval\": 0,\n",
       "            \"splitLine\": {\n",
       "                \"show\": false,\n",
       "                \"lineStyle\": {\n",
       "                    \"width\": 1,\n",
       "                    \"opacity\": 1,\n",
       "                    \"curveness\": 0,\n",
       "                    \"type\": \"solid\"\n",
       "                }\n",
       "            }\n",
       "        }\n",
       "    ],\n",
       "    \"title\": [\n",
       "        {\n",
       "            \"text\": \"\\u6bcf\\u6708\\u9000\\u8d27\\u5546\\u54c1\\u6570\\u91cf\\u5360\\u6bd4\"\n",
       "        }\n",
       "    ]\n",
       "};\n",
       "        chart_4545e94907404d59a67eee8e7d13769e.setOption(option_4545e94907404d59a67eee8e7d13769e);\n",
       "    });\n",
       "</script>\n"
      ],
      "text/plain": [
       "<pyecharts.render.display.HTML at 0x7f7301680c50>"
      ]
     },
     "execution_count": 30,
     "metadata": {},
     "output_type": "execute_result"
    }
   ],
   "source": [
    "# 数据处理\n",
    "RETURN_ITEMS_RATE_FBA_LIST = [round(x*100,2) for x in (workdf.loc[2][1:] / workdf.loc[0][1:])] # FBA退货率List\n",
    "RETURN_ITEMS_RATE_FBM_LIST = [round(x*100,2) for x in (workdf.loc[3][1:] / workdf.loc[1][1:])] # FBM退货率List\n",
    "\n",
    "# 图表输出\n",
    "line_return = (\n",
    "    Line(init_opts = opts.InitOpts(theme=ThemeType.WHITE))\n",
    "    .add_xaxis(MONTH_LIST)\n",
    "    .add_yaxis(\n",
    "        \"FBA退货率（%）\", \n",
    "        RETURN_ITEMS_RATE_FBA_LIST,\n",
    "        is_smooth = True,\n",
    "        markline_opts = opts.MarkLineOpts(data=[opts.MarkLineItem(type_=\"average\")])\n",
    "    )\n",
    "    .add_yaxis(\n",
    "        \"FBM退货率（%）\", \n",
    "        RETURN_ITEMS_RATE_FBM_LIST,\n",
    "        is_smooth = True,\n",
    "        markline_opts = opts.MarkLineOpts(data=[opts.MarkLineItem(type_=\"average\")])\n",
    "    )\n",
    "    .set_global_opts(\n",
    "        title_opts = opts.TitleOpts(title=\"每月退货商品数量占比\"),\n",
    "        legend_opts = opts.LegendOpts(pos_left=\"right\")\n",
    "     )\n",
    ")\n",
    "line_return.render_notebook()"
   ]
  },
  {
   "cell_type": "markdown",
   "metadata": {},
   "source": [
    "结论：\n",
    "\n",
    "- 由于退货和操作相对容易，每月FBA退货率比FBM退货率平均要高 `3` 个百分点左右。\n",
    "\n",
    "- 对比国内天猫店平台平均 `4-5%` 的退货率而言，Amazon的FBA退货率平均约为 `8-9%` 。\n",
    "\n",
    "- 上图中，平均值参考线因采用了百分比取均值计算，因此结果和实际数值会有一定偏差，仅供参考。"
   ]
  },
  {
   "cell_type": "markdown",
   "metadata": {
    "ExecuteTime": {
     "end_time": "2019-07-08T10:40:35.909142Z",
     "start_time": "2019-07-08T10:40:35.906807Z"
    }
   },
   "source": [
    "### FBA商品退货损失均摊 Average Cost Of Returns Loss"
   ]
  },
  {
   "cell_type": "code",
   "execution_count": 31,
   "metadata": {
    "ExecuteTime": {
     "end_time": "2019-07-11T18:14:01.437530Z",
     "start_time": "2019-07-11T18:14:01.425988Z"
    },
    "scrolled": true
   },
   "outputs": [
    {
     "name": "stdout",
     "output_type": "stream",
     "text": [
      "统计期（2019年1-6月，美国）内 FBA商品 销售与退货数据：\n",
      "\n",
      "销售总数为：9005\n",
      "退货总数为：799\n",
      "平均退货率为：8.87%\n",
      "\n",
      "退货总损失为：$-7966.03\n",
      "\n",
      "退货损失均摊至每件FBA商品为：$0.88\n"
     ]
    }
   ],
   "source": [
    "# 数据计算。自发货商品退货损失暂未统计\n",
    "FBA_SALES_ITEMS_COUNT_US = workdf.loc[0][1:].sum() # FBA销售总数\n",
    "RETURN_ITEMS_COUNT_US = workdf.loc[2][1:].sum() # FBA退货总数\n",
    "RETURN_ITEMS_RATE_AVR_US = RETURN_ITEMS_COUNT_US / FBA_SALES_ITEMS_COUNT_US # FBA平均退货率\n",
    "RETURN_AVR_COST_US = abs(RETURN_ITEMS_COUNT_US * RETURN_LOSS_US / FBA_SALES_ITEMS_COUNT_US) # FBA商品退货费用均摊\n",
    "\n",
    "print('统计期（2019年1-6月，美国）内 FBA商品 销售与退货数据：')\n",
    "print('\\n销售总数为：{0:.0f}'.format(FBA_SALES_ITEMS_COUNT_US))\n",
    "print('退货总数为：{0:.0f}'.format(RETURN_ITEMS_COUNT_US))\n",
    "print('平均退货率为：{0:.2f}%'.format(round(RETURN_ITEMS_RATE_AVR_US*100,2)))\n",
    "\n",
    "print('\\n退货总损失为：${0:.2f}'.format(-RETURN_ITEMS_COUNT_US * RETURN_LOSS_US))\n",
    "print('\\n退货损失均摊至每件FBA商品为：${0:.2f}'.format(RETURN_AVR_COST_US))"
   ]
  },
  {
   "cell_type": "markdown",
   "metadata": {},
   "source": [
    "## 单件商品毛利、广告均摊、退货均摊的对比 Comparison Of GP, Ads AC and Returns AC"
   ]
  },
  {
   "cell_type": "markdown",
   "metadata": {},
   "source": [
    "综合以上数据，对（美国站，FBA）单件商品的 毛利水平，广告均摊费用，退货均摊费用 数据对比如下："
   ]
  },
  {
   "cell_type": "code",
   "execution_count": 32,
   "metadata": {
    "ExecuteTime": {
     "end_time": "2019-07-11T18:14:01.608279Z",
     "start_time": "2019-07-11T18:14:01.599053Z"
    }
   },
   "outputs": [
    {
     "name": "stdout",
     "output_type": "stream",
     "text": [
      "单件商品测算销售价：$15.00\n",
      "\n",
      "单件商品售价毛利为：$3.43\n",
      "\n",
      "广告费用均摊至每件商品为：$2.04\n",
      "\n",
      "退货损失均摊至每件FBA商品为：$0.88\n",
      "\n",
      "单件商品净利为：$0.51\n",
      "\n",
      "测算对象：美国站，FBA商品，未减除以下部分的【其他支出费用】\n"
     ]
    }
   ],
   "source": [
    "# 三者数据\n",
    "print('单件商品测算销售价：${0:.2f}'.format(US_SALES_PRICE))\n",
    "print('\\n单件商品售价毛利为：${0:.2f}'.format(GP_US))\n",
    "print('\\n广告费用均摊至每件商品为：${0:.2f}'.format(ADS_AVR_COST_US))\n",
    "print('\\n退货损失均摊至每件FBA商品为：${0:.2f}'.format(RETURN_AVR_COST_US))\n",
    "print('\\n单件商品净利为：${0:.2f}'.format(GP_US - (ADS_AVR_COST_US + RETURN_AVR_COST_US)))\n",
    "print('\\n测算对象：美国站，FBA商品，未减除以下部分的【其他支出费用】')"
   ]
  },
  {
   "cell_type": "markdown",
   "metadata": {},
   "source": [
    "结论：考虑到以上计算未包括下面的【其他支出费用】部分，因此，目前亚马逊经营情况实际仍处于盈亏平衡线上。"
   ]
  },
  {
   "cell_type": "markdown",
   "metadata": {},
   "source": [
    "## 其他支出费用 Rest Expenditure"
   ]
  },
  {
   "cell_type": "markdown",
   "metadata": {},
   "source": [
    "### 平台订阅费用支出 Monthly Subscrption Fees"
   ]
  },
  {
   "cell_type": "markdown",
   "metadata": {},
   "source": [
    "专业销售月度订阅（服务）费列表如下：\n",
    "\n",
    "- 美国站：`$39.99/月`\n",
    "\n",
    "\n",
    "- 英国站：`£25/月`\n",
    "\n",
    "\n",
    "- 欧洲站：`€39/月` （Optional，同时开通英国及欧洲站专业销售计划，则只收取英国站月度服务费）\n",
    "\n",
    "\n",
    "- 日本站：`JPY￥4900/月`\n",
    "\n",
    "\n",
    "另外，2019年6月亚马逊发布新闻，修改月订阅费的收费标准。其内容如下：\n",
    "\n",
    "新销售计划：每月只需 `$39.99` 即可向 10 个国家/地区的买家销售商品\n",
    "\n",
    "为了帮助您拓展国际业务，我们目前提供了非常优惠的价格。通过支付这笔费用，您将可以在 10 个国家/地区销售商品。通过此次变更，您可以在北美、欧洲、日本和印度注册开店，而我们会将您所有账户的月服务费总额减至 `$39.99`，即每月优惠多达 `$89.00`。\n",
    "\n",
    "<hr>\n",
    "\n",
    "经观察，各站最近（服务费）扣费情况如下（至2019年7月8日）：\n",
    "\n",
    "- 美国站：2019-7-2，扣费`$13.69`，2019-6-2，扣费`$13.69`，2019-5-2， 扣费`$39.99`。\n",
    "\n",
    "- 英国站：2019-6-10，扣费`£8.56`，2019-5-10，扣费`£25`。\n",
    "\n",
    "- 日本站：6月份未扣费，2019-5-21，扣费`￥4,900`。"
   ]
  },
  {
   "cell_type": "markdown",
   "metadata": {},
   "source": [
    "### 亚马逊运营杂项支出 Miscellaneous Expenditure"
   ]
  },
  {
   "cell_type": "markdown",
   "metadata": {},
   "source": [
    "杂项开支包含如下部分：\n",
    "\n",
    "\n",
    "- 站内促销计划、秒杀等特定支出 Amazon Specific Charges\n",
    "\n",
    "    - 不确定，按实计算\n",
    "\n",
    "\n",
    "- 站外引流促销、数据购买、刷单点赞等费用 Non-Amazon Specific Charges\n",
    "\n",
    "    - 不确定，按实计算\n",
    "\n"
   ]
  },
  {
   "cell_type": "markdown",
   "metadata": {},
   "source": [
    "### 公司管理及软件费用 Administration Charges"
   ]
  },
  {
   "cell_type": "markdown",
   "metadata": {},
   "source": [
    "包含如下部分：\n",
    "\n",
    "\n",
    "- ERP软件使用服务费 ERP Software Serive Fees\n",
    "\n",
    "    - 芒果店长ERP：1680元/年\n",
    "    \n",
    "    - 聚水潭ERP：不确定，按实计算\n",
    "\n",
    "\n",
    "- 公司其他管理费用 Misc. Admin. Charges\n",
    "\n",
    "    - 人员工资，按实计算\n",
    "\n",
    "    - 其他，按实计算\n",
    "    \n",
    "\n",
    "- 财务开支 Financial Expenditure\n",
    "\n",
    "    - VAT年申报费：英国 RMB￥1500元/年\n",
    "\n",
    "    - 其他，按实计算\n",
    "\n",
    "\n",
    "- 汇损 Exchange Loss\n",
    "\n",
    "    - 不确定，按实计算"
   ]
  },
  {
   "cell_type": "markdown",
   "metadata": {},
   "source": [
    "# 附录 Appendix"
   ]
  },
  {
   "cell_type": "markdown",
   "metadata": {},
   "source": [
    "## FBM商品与FBA商品成本/毛利对比 Contrast Of FBM And FBA Costs/Gross Profit"
   ]
  },
  {
   "cell_type": "markdown",
   "metadata": {},
   "source": [
    "以美国站为例，平均每个0.5kg包裹自发货（国际小包）运费为：RMB￥46.00。\n",
    "\n",
    "FBM商品与FBA商品相比，FBM模式相当于远程直销模式，物流成本变化如下：\n",
    "\n",
    "- 不需要头程运输。\n",
    "\n",
    "- 不需要FBA入库、仓储、尾程配送。\n",
    "\n",
    "- 增加国际小包运费。\n",
    "\n",
    "- 其他成本费用（包括生产出货成本、佣金费率）不变。"
   ]
  },
  {
   "cell_type": "code",
   "execution_count": 33,
   "metadata": {
    "ExecuteTime": {
     "end_time": "2019-07-11T18:14:02.525556Z",
     "start_time": "2019-07-11T18:14:02.520545Z"
    }
   },
   "outputs": [
    {
     "name": "stdout",
     "output_type": "stream",
     "text": [
      "商品销售价 $15.00 (美国站，测算)\n",
      "\n",
      "- FBM模式发货运费部分为：RMB￥46.00，换算美元为 $7.08\n",
      "- FBA模式发货运费部分为：$6.24\n",
      "\n",
      "每件商品FBM模式比FBA模式发货要多花 $0.84\n",
      "\n",
      "每件商品的毛利:\n",
      "\n",
      "- FBA模式 $3.43\n",
      "- FBM模式 $2.60\n"
     ]
    }
   ],
   "source": [
    "# 自发货（国际小包）运费\n",
    "RMB_FBM_TOTAL_US = 46\n",
    "FBM_TOTAL_US = RMB_FBM_TOTAL_US / EXCHANGE_RATE_USD\n",
    "\n",
    "# 计算FBA商品从头程运输到尾程配送的成本\n",
    "FBA_TOTAL_US = (S1_SUM_US - RMB_COP) / EXCHANGE_RATE_USD + (ISC_USD + SF_USD + FBA_US)\n",
    "USD_DIFF_FBM_FBA = FBM_TOTAL_US - FBA_TOTAL_US\n",
    "USD_DIFF_FBM_FBA_PERCENT = USD_DIFF_FBM_FBA / FBA_TOTAL_US\n",
    "\n",
    "# 显示计算结果\n",
    "print('商品销售价 ${0:.2f} (美国站，测算)'.format(US_SALES_PRICE))\n",
    "print('\\n- FBM模式发货运费部分为：RMB￥{0:.2f}，换算美元为 ${1:.2f}'.format(RMB_FBM_TOTAL_US, FBM_TOTAL_US))\n",
    "print('- FBA模式发货运费部分为：${0:.2f}'.format(FBA_TOTAL_US))\n",
    "print('\\n每件商品FBM模式比FBA模式发货要多花 ${0:.2f}'.format(USD_DIFF_FBM_FBA))\n",
    "print('\\n每件商品的毛利:')\n",
    "print('\\n- FBA模式 ${0:.2f}'.format(GP_US))\n",
    "print('- FBM模式 ${0:.2f}'.format(GP_US - USD_DIFF_FBM_FBA))"
   ]
  },
  {
   "cell_type": "markdown",
   "metadata": {},
   "source": [
    "结论：目前FBA模式比FBM模式毛利率要高约 `5.5%` （毛利率计算以商品销售价为准）。"
   ]
  },
  {
   "cell_type": "markdown",
   "metadata": {},
   "source": [
    "## FBM商品与FBA商品退货损失对比 Contrast Of FBM And FBA Returns Loss"
   ]
  },
  {
   "cell_type": "markdown",
   "metadata": {},
   "source": [
    "目前，亚马逊FBM商品的退货处理方式主要包括以下三种：\n",
    "\n",
    "\n",
    "- 全额退款（不退货）。\n",
    "\n",
    "- 50%退款（不退货）。\n",
    "\n",
    "- 重发（不退货）。\n",
    "\n",
    "对于FBM商品的退货，亚马逊佣金返还方式与FBA商品相同。"
   ]
  },
  {
   "cell_type": "code",
   "execution_count": 34,
   "metadata": {
    "ExecuteTime": {
     "end_time": "2019-07-11T18:14:02.765809Z",
     "start_time": "2019-07-11T18:14:02.757960Z"
    }
   },
   "outputs": [
    {
     "name": "stdout",
     "output_type": "stream",
     "text": [
      "FBM商品（美国站）退货损失\n",
      "\n",
      "- 全额退款：$10.60\n",
      "- 50%退款：$3.10\n",
      "- 退货重发：$5.31\n",
      "\n",
      "FBA商品（美国站）退货损失：$9.97\n"
     ]
    }
   ],
   "source": [
    "# 计算全额退款的损失\n",
    "FBM_LOSS_FULL_REFUND_US = (RMB_COP + RMB_FBM_TOTAL_US) / EXCHANGE_RATE_USD + (US_SALES_PRICE * SHOES_ACR * RAR_AMAZON)\n",
    "\n",
    "# 计算50%退款的损失\n",
    "FBM_LOSS_HALF_REFUND_US = (RMB_COP + RMB_FBM_TOTAL_US) / EXCHANGE_RATE_USD + (US_SALES_PRICE * SHOES_ACR * RAR_AMAZON) - US_SALES_PRICE * 0.5\n",
    "\n",
    "# 计算退货重发的损失\n",
    "FBM_LOSS_RESEND_US = (RMB_COP + RMB_FBM_TOTAL_US) / EXCHANGE_RATE_USD * 2- US_SALES_PRICE\n",
    "\n",
    "# 显示计算结果\n",
    "print('FBM商品（美国站）退货损失')\n",
    "print('\\n- 全额退款：${0:.2f}'.format(FBM_LOSS_FULL_REFUND_US))\n",
    "print('- 50%退款：${0:.2f}'.format(FBM_LOSS_HALF_REFUND_US))\n",
    "print('- 退货重发：${0:.2f}'.format(FBM_LOSS_RESEND_US))\n",
    "print('\\nFBA商品（美国站）退货损失：${0:.2f}'.format(RETURN_LOSS_US))"
   ]
  },
  {
   "cell_type": "markdown",
   "metadata": {},
   "source": [
    "结论：目前FBM模式下发生退货时，*全额退款* 情况下与FBA商品退货损失相近，而同样情况下处理退货时，*退货重发* 比 *全额退款* 损失要减少约 `50%`。"
   ]
  },
  {
   "cell_type": "markdown",
   "metadata": {},
   "source": [
    "--- The End Of Article. ---"
   ]
  }
 ],
 "metadata": {
  "kernelspec": {
   "display_name": "Python 3",
   "language": "python",
   "name": "python3"
  },
  "language_info": {
   "codemirror_mode": {
    "name": "ipython",
    "version": 3
   },
   "file_extension": ".py",
   "mimetype": "text/x-python",
   "name": "python",
   "nbconvert_exporter": "python",
   "pygments_lexer": "ipython3",
   "version": "3.7.3"
  },
  "latex_envs": {
   "LaTeX_envs_menu_present": true,
   "autoclose": false,
   "autocomplete": true,
   "bibliofile": "biblio.bib",
   "cite_by": "apalike",
   "current_citInitial": 1,
   "eqLabelWithNumbers": true,
   "eqNumInitial": 1,
   "hotkeys": {
    "equation": "Ctrl-E",
    "itemize": "Ctrl-I"
   },
   "labels_anchors": false,
   "latex_user_defs": false,
   "report_style_numbering": false,
   "user_envs_cfg": false
  },
  "toc": {
   "base_numbering": 1,
   "nav_menu": {},
   "number_sections": true,
   "sideBar": true,
   "skip_h1_title": false,
   "title_cell": "Table of Contents",
   "title_sidebar": "Contents",
   "toc_cell": false,
   "toc_position": {},
   "toc_section_display": true,
   "toc_window_display": false
  }
 },
 "nbformat": 4,
 "nbformat_minor": 2
}
