{
 "cells": [
  {
   "cell_type": "markdown",
   "metadata": {},
   "source": [
    "Doc title: **Cross-Border E-Business Platform Charges Report Series Catalog**\n",
    "\n",
    "Article notes: The links related to the series of document files for introducing the charges of various cross-border e-business platform.\n",
    "\n",
    "文章备注：主要跨境电商平台的运营收费报告目录\n",
    "\n",
    "Last modified date: 2019-08-02 02:45:13 "
   ]
  },
  {
   "cell_type": "markdown",
   "metadata": {
    "ExecuteTime": {
     "end_time": "2019-07-22T11:57:11.100738Z",
     "start_time": "2019-07-22T11:57:11.097125Z"
    }
   },
   "source": [
    "# 目录："
   ]
  },
  {
   "cell_type": "markdown",
   "metadata": {},
   "source": [
    "## Amazon成本分析测算，点击：[amz_cost_analysis.ipynb](amz_cost_analysis.ipynb)\n",
    "\n",
    "\n",
    "## Lazada成本分析测算，点击：[lazada_cost_analysis.ipynb](lazada_cost_analysis.ipynb)\n",
    "\n",
    "\n",
    "## ebay费用分析，点击：[e_biz_charges_report_for_ebay.ipynb](e_biz_charges_report_for_ebay.ipynb)\n",
    "\n",
    "\n",
    "## wish费用分析，点击：[e_biz_charges_report_for_wish.ipynb](e_biz_charges_report_for_wish.ipynb)\n",
    "\n",
    "\n",
    "\n",
    "<p style=\"margin-top: 3em;\">\n",
    "    <span style=\"font-size: 2em;font-weight: bold; color: #a53;\">And Shopee, Jumia, etc. more are coming soon...<span>\n",
    "</p>"
   ]
  }
 ],
 "metadata": {
  "kernelspec": {
   "display_name": "Python 3",
   "language": "python",
   "name": "python3"
  },
  "language_info": {
   "codemirror_mode": {
    "name": "ipython",
    "version": 3
   },
   "file_extension": ".py",
   "mimetype": "text/x-python",
   "name": "python",
   "nbconvert_exporter": "python",
   "pygments_lexer": "ipython3",
   "version": "3.7.3"
  },
  "latex_envs": {
   "LaTeX_envs_menu_present": true,
   "autoclose": false,
   "autocomplete": true,
   "bibliofile": "biblio.bib",
   "cite_by": "apalike",
   "current_citInitial": 1,
   "eqLabelWithNumbers": true,
   "eqNumInitial": 1,
   "hotkeys": {
    "equation": "Ctrl-E",
    "itemize": "Ctrl-I"
   },
   "labels_anchors": false,
   "latex_user_defs": false,
   "report_style_numbering": false,
   "user_envs_cfg": false
  },
  "toc": {
   "base_numbering": 1,
   "nav_menu": {},
   "number_sections": true,
   "sideBar": true,
   "skip_h1_title": false,
   "title_cell": "Table of Contents",
   "title_sidebar": "Contents",
   "toc_cell": false,
   "toc_position": {},
   "toc_section_display": true,
   "toc_window_display": false
  }
 },
 "nbformat": 4,
 "nbformat_minor": 2
}
