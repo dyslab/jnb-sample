{
 "cells": [
  {
   "cell_type": "markdown",
   "metadata": {},
   "source": [
    "Doc title: **Cross-Border E-Business Platform Charges Report Series (ebay)**\n",
    "\n",
    "Article notes: This is a series of document files for introducing the charges of various cross-border e-business platform. It is targeting on going to be a proper preparation for running business on these e-platforms and fits for newbies.\n",
    "\n",
    "文章备注：介绍目前主要跨境电商平台的运营收费。本篇介绍Yahoo ebay平台。\n",
    "\n",
    "Last modified date: 2019-08-02 03:01:36 "
   ]
  },
  {
   "cell_type": "markdown",
   "metadata": {},
   "source": [
    "# 平台简介 Brief Intro\n",
    "\n",
    "ebay平台以线上拍卖模式（Aution-Style）闻名，其中，1.68亿美元的Gigayacht游艇拍卖和每年的巴菲特午餐拍卖是ebay上的著名事件。\n",
    "\n",
    "ebay目前有24个国家站点。主要市场在美国和欧洲，目前美国约占电商份额的6%左右，拍行第二，市场规模约为亚马逊的10%左右（亚马逊约占整个电商市场的一半份额，目前美国除亚马逊、ebay外，其他主要的电商是Walmart、Apple、Macys、Wish、HomeDepot、BestBuy、Etsy等，2019年Target.com表现不错，增长幅度较大，不过这些品牌电商不少是线下+线上模式，尽管也欢迎第三方加入，但审核严格及一般采用邀请加盟方式，各方面情况尚不明确）。"
   ]
  },
  {
   "cell_type": "markdown",
   "metadata": {},
   "source": [
    "# 费用介绍 Charges\n",
    "\n",
    "*注：以下报告内容均以ebay美国站为例。*"
   ]
  },
  {
   "cell_type": "markdown",
   "metadata": {},
   "source": [
    "## 订阅费（及店铺卖家平台入驻费）  Subscription Fees\n",
    "\n",
    "此项费用为每月收取。\n",
    "\n",
    "与亚马逊的月度订阅服务费相似，通过申请及购买不同的包，享受不同的上架及佣金优惠。\n",
    "\n",
    "目前有5个级别包（需要达到一定要求才能申请下一个级别包）。如下图：\n",
    "\n",
    "![ebay_subscription_fees_rates.png](ebay_subscription_fees_rates.png)"
   ]
  },
  {
   "cell_type": "markdown",
   "metadata": {},
   "source": [
    "## 上架费 Insertion Fees（Listing Fees）\n",
    "\n",
    "与亚马逊不同的是，ebay上架商品（按listing计算）在使用完免费额度后需要收取一定费用，其称为上架费。其每月的免费额度根据订阅包的级别不同而不同，以下是各级别包的每月商品上架免费数量额度（注：每行数据格式为“每月免费上架数量额度/免费额度用完后每条listing的上架费用”）：\n",
    "\n",
    "![ebay_listing_fees_rates.png](ebay_listing_fees_rates.png)\n",
    "\n",
    "以下是ebay商品上架listing的说明和条件：\n",
    "\n",
    "- 此项费用不退款。\n",
    "- 同一商品上架2个目录，须收取两次上架费。\n",
    "- 初次上架及将来每次重新上架时都须收取上架费（这代表不能像Amazon那样随意修改商品的销售状态）。\n",
    "- 拍卖模式下，同一商品上两个拍卖也要收取两次费用。\n",
    "- 拍卖模式下，商品卖出后可获得信用点返还（类似下回使用的代金券）。\n",
    "\n",
    "![ebay_listing_fees_conditions.png](ebay_listing_fees_conditions.png)\n",
    "\n",
    "\n",
    "上架费中，有一点需要注意的是，采用固定价格长期展示的普通商品在ebay里被称为“Good‘Til Cancelled Listing”（这个还真不好翻译，意思是除了手动取消外不会下架的商品，以下简称为 **GTCL商品**），其上架费说明如下：\n",
    "\n",
    "![ebay_listing_fees_good_til_cancelled.png](ebay_listing_fees_good_til_cancelled.png)\n",
    "\n",
    "按照说明，其大致意思是，这类GTCL商品除了初次上架收取一次上架费外，还会每个月进行一次更新（renew），届时也同样会基于订阅包的情况收取1次上架费（另外还有所谓的“listing升级费”，下面说明）。\n",
    "\n",
    "举例说，如果订阅Starter的卖家有200条listing是属于GTCL商品的，那每个月即使不上架新品，也须付出 200 - 100（免费额度）= 100 * 0.3 = 30美元/月的上架费。\n",
    "\n",
    "**另外，还有一点值得注意的是，ebay的listing和Amazon的listing（单属性）有所不同的是，ebay的listing更类似于速卖通的listing（包含多属性）。对于一款鞋子来说，假如有1种颜色和35-42共8个码，在Amazon上架需要新建1个父体listing和8个子体listing，一共9个listing。而在ebay（或速卖通）上，只需建立一个多属性listing，在listing属性中添加变体（Variations）即可。**"
   ]
  },
  {
   "cell_type": "markdown",
   "metadata": {},
   "source": [
    "## 销售费 Final Value Fees（Selling Fees）\n",
    "\n",
    "ebay的销售费相当于亚马逊的佣金（Referral Fees），在每个订单销售时收取。按照订阅包的不同，收取的销售费率也有所不同，以鞋类商品来说，订阅Starter店铺包的卖家销售费率为 `10%` 。订阅Basic或以上店铺包的卖家销售费率则为 `9.15%` 。\n",
    "\n",
    "![ebay_sales_fees_rates_starter.png](ebay_sales_fees_rates_starter.png)\n",
    "\n",
    "![ebay_sales_fees_rates_basic_up.png](ebay_sales_fees_rates_basic_up.png)"
   ]
  },
  {
   "cell_type": "markdown",
   "metadata": {},
   "source": [
    "## Listing升级费 Fees for optional listing upgrades\n",
    "\n",
    "listing升级费也是ebay中的一项独特收费，按照卖家要求，可以根据需要对listing进行有偿升级，其包括的（GTCL商品）升级类别如下：\n",
    "\n",
    "- 标题字体加粗\n",
    "- 图库升级（放入更多图片）\n",
    "- 国际站展示（进行海外销售）\n",
    "- 增加产品的所属类别目录\n",
    "- 设计者展示\n",
    "- 预约展示\n",
    "- 增加副标题\n",
    "\n",
    "**值得注意的是，对于GTCL商品来说，此项费用也会每月定期收取（详见上面说明）。**\n",
    "\n",
    "![ebay_listing_upgrade_fees.png](ebay_listing_upgrade_fees.png)\n",
    "\n",
    "![ebay_listing_upgrade_fees_good_til_cancelled.png](ebay_listing_upgrade_fees_good_til_cancelled.png)"
   ]
  },
  {
   "cell_type": "markdown",
   "metadata": {},
   "source": [
    "## 额外销售费 Additional final value fees\n",
    "\n",
    "在以下几种情况下，ebay会收取额外的销售费。同时，额外销售费不收正常销售费的封顶限额影响。\n",
    "\n",
    "- 怀疑卖家在站外与买家达成交易，并私下支付。\n",
    "\n",
    "- 卖家没有达到预期销售指标，（每个级别的订阅包都有销售指标要求），会加收5%的销售费。\n",
    "\n",
    "- 'Item not as described'（产品和描述不同）这个指标率过高时，会加收5%的销售费。"
   ]
  },
  {
   "cell_type": "markdown",
   "metadata": {},
   "source": [
    "## 支付手续费（仅用于参与ebay支付管理计划的卖家） Payments processing fees（For Managed Payments Seller）\n",
    "\n",
    "目前，Managed Payments Seller只限于美国本土卖家，不适用于跨境卖家，暂不作考虑。"
   ]
  },
  {
   "cell_type": "markdown",
   "metadata": {},
   "source": [
    "## 运费 Shipping Fees\n",
    "\n",
    "由于ebay平台不提供类似亚马逊的FBA库存及配送服务。因此目前ebay跨境卖家主要采用的发货模式包括以下三种：\n",
    "\n",
    "- 国际小包发货\n",
    "\n",
    "- 海外仓发货\n",
    "\n",
    "- 亚马逊FBA多渠道配送方式发货"
   ]
  },
  {
   "cell_type": "markdown",
   "metadata": {},
   "source": [
    "### 国际小包发货\n",
    "\n",
    "ebay的国际小包发货模式与Amazon的国际小包发货模式雷同。均可在跨境电商ERP平台上设置好接口后进行管理。"
   ]
  },
  {
   "cell_type": "markdown",
   "metadata": {},
   "source": [
    "### 海外仓发货\n",
    "\n",
    "目前，以美国为例。海外仓服务一般包括：\n",
    "\n",
    "- 仓储及中转\n",
    "\n",
    "- 一件代发\n",
    "\n",
    "- FBA退货换标（亦有少部分美国海外仓支持买家单件退货）\n",
    "\n",
    "其优势在于：\n",
    "\n",
    "- 为非亚马逊卖家提供本土仓储代发服务，贴近本土买家，较短的物流时间有利于在目的国内提升销量。\n",
    "\n",
    "- 储存费用相对FBA便宜，一般美国海外仓在一定条件下会有月度仓储费优惠的措施。\n",
    "\n",
    "- 不少海外仓均做了与跨境电商ERP的接口，因此可以在跨境电商ERP平台上统一管理发货事宜。\n",
    "\n",
    "- 海外仓一般转发服务以托和立方计算，对于发货量很大及亚马逊FBA淡季仓储费以及LTSF费用过高时可以考虑。\n",
    "\n",
    "其缺点在于：\n",
    "\n",
    "- 海外仓平台管理良莠不齐，计费纠纷较多。\n",
    "\n",
    "- 其所号称的运费便宜其实并不靠谱，美国海外仓单件物品发货时一般均采用的是USPS、FEDEX或UPS服务，经过比较价格，其实际收取费用比亚马逊FBA标准配送费往往还要高出10-20%。\n",
    "\n",
    "- 各种收费项目繁多，计算复杂，每笔收费均需要认真核对。"
   ]
  },
  {
   "cell_type": "markdown",
   "metadata": {
    "ExecuteTime": {
     "end_time": "2019-07-31T15:08:46.267988Z",
     "start_time": "2019-07-31T15:08:46.262678Z"
    }
   },
   "source": [
    "### 亚马逊FBA多渠道配送（MCF）方式发货\n",
    "\n",
    "当有FBA货物同款时，也可以采用亚马逊的FBA的多渠道配送（MCF）模式发送ebay的货。该项服务亚马逊的收费会比其标准FBA配送费用高约20-25%.具体费用情况如下：\n",
    "\n",
    "![amz_mcf_rates.png](amz_mcf_rates.png)"
   ]
  },
  {
   "cell_type": "markdown",
   "metadata": {},
   "source": [
    "## 广告费 Promoted Listings Fees\n",
    "\n",
    "ebay广告称为Promoted Listings Campaign.其竞拍方式为：\n",
    "\n",
    "- 采用销售价费率模式竞拍（费率以1%起竞拍，有每周更新的同类商品平均广告费率作为参考，费率设置越高，展示机会越多）。\n",
    "\n",
    "- 广告费的收费与亚马逊的点击收费方式不同，ebay广告费只会在买家点击广告后30天内发生购买行为时才会收取。"
   ]
  },
  {
   "cell_type": "markdown",
   "metadata": {},
   "source": [
    "# 定价测算 Pricing Estimation\n",
    "\n",
    "ebay的成本与费用可分为以下几个部分：\n",
    "\n",
    "（1）固定成本\n",
    "\n",
    "包括：出厂成本\n",
    "\n",
    "（2）每月循环收取的费用\n",
    "\n",
    "包括：订阅费，超出免费额度的上架费，listing升级费。\n",
    "\n",
    "（3）每笔订单产生的费用\n",
    "\n",
    "包括：销售费，运费，广告费（如有设置的话）\n",
    "\n",
    "由于运费与选择的运输方式相关，为便于计算和比较，以中小跨境卖家常用的 **国际小包自发货模式** 进行定价测算。\n",
    "\n",
    "测算站点：**ebay美国站**"
   ]
  },
  {
   "cell_type": "code",
   "execution_count": 1,
   "metadata": {
    "ExecuteTime": {
     "end_time": "2019-07-31T18:56:12.841394Z",
     "start_time": "2019-07-31T18:56:12.838321Z"
    }
   },
   "outputs": [],
   "source": [
    "# 费用设置说明\n",
    "\n",
    "# 生产成本（人民币）\n",
    "RMB_COP = 20\n",
    "\n",
    "# 国内运费（人民币）\n",
    "RMB_DLC = 3\n",
    "\n",
    "# 跨境运费（以一对鞋平均约0.5kg计算）\n",
    "RMB_CSB_SHIPPING = 90 * 0.5\n",
    "\n",
    "# 货币汇率（美元）\n",
    "USD_EXCHANGE_RATE = 6.5\n",
    "\n",
    "# 订阅费不计算\n",
    "\n",
    "# listing费用均摊（上架费算入免费额度内，listing升级费不应用，均以0计算）\n",
    "COST_LISTING_AVG = 0\n",
    "\n",
    "# 销售费率（以Starter包级别为例）\n",
    "FSF_RATE = 0.1\n",
    "\n",
    "# 广告费率（不应用，以0计算）\n",
    "PLF_RATE = 0"
   ]
  },
  {
   "cell_type": "code",
   "execution_count": 2,
   "metadata": {
    "ExecuteTime": {
     "end_time": "2019-07-31T18:56:12.915594Z",
     "start_time": "2019-07-31T18:56:12.846701Z"
    },
    "scrolled": false
   },
   "outputs": [
    {
     "name": "stdout",
     "output_type": "stream",
     "text": [
      "计算结果如下：\n",
      "\n",
      "测算成本基础价：USD$11.62，约合人民币￥75.53。\n",
      "\n"
     ]
    }
   ],
   "source": [
    "# 成本价（零利润）计算\n",
    "# 公式： 成本基础价 = 生产成本 + 国内运费 + 跨境运费 + listing费用均摊 + 销售费 + 广告费\n",
    "\n",
    "print('计算结果如下：\\n')\n",
    "COST_USD = round(((RMB_COP + RMB_DLC + RMB_CSB_SHIPPING) / USD_EXCHANGE_RATE + COST_LISTING_AVG) / (1 - FSF_RATE - PLF_RATE), 2)\n",
    "print('测算成本基础价：USD${:.2f}，约合人民币￥{:.2f}。\\n'.format(COST_USD, COST_USD * USD_EXCHANGE_RATE))"
   ]
  },
  {
   "cell_type": "markdown",
   "metadata": {},
   "source": [
    "<hr>"
   ]
  },
  {
   "cell_type": "markdown",
   "metadata": {},
   "source": [
    "# 几点想法 Thoughts Of Start"
   ]
  },
  {
   "cell_type": "markdown",
   "metadata": {},
   "source": [
    "（1）ebay的成本与亚马逊的成本相差不多，如采用亚马逊的相同定价模式，ebay平台上是否能够盈利同样取决于销量、退货率和广告成本这几方面主要因素。（有关亚马逊成本测算，可参见附录链接:\"Amazon成本测算文件\"）\n",
    "\n",
    "\n",
    "（2）作为老牌电商网站，ebay在欧美各国有其独有优势，那就是它的拍卖模式，至今在线拍卖方面，ebay仍未有明显的竞争对手。\n",
    "\n",
    "\n",
    "（3）而对于传统电商销售模式，与亚马逊相比，ebay优势并不明显，没有建立类似FBA模式的本地仓储配送服务体系，更制约了其在各国的进一步发展。\n",
    "\n",
    "\n",
    "（4）由于在ebay上培养市场和排名并不容易，对于新入驻的ebay卖家而言，从Starter开始做起，选择一个合适且价格有竞争力的海外仓以实现本土发货，这都是在ebay上能取得成功的基础。\n",
    "\n",
    "\n",
    "（5）而对于已经是Amazon卖家的ebay新卖家而言。好处是，能够实现Amazon和ebay的海外仓和FBA仓的相互配货，必要时也可以通过Amazon MCF或海外仓一件代发服务实现彼此关联产品的订单配送。但坏处是两边平台的维护量增大许多，另外两边的定价也会发生竞争。（有报告指出，大约35%的亚马逊用户在购买产品时也会访问ebay网站）\n",
    "\n",
    "\n",
    "（6）客服方面，ebay的客服、退货等工作均由卖家自行负责，另外需保证售后电话的接通率不低于95%。"
   ]
  },
  {
   "cell_type": "markdown",
   "metadata": {},
   "source": [
    "# 附录：参考链接 References Links\n",
    "\n",
    "\n",
    "\n",
    "- [ebay美国站店铺卖家费用官方页面](https://www.ebay.com/help/selling/fees-credits-invoices/store-selling-fees?id=4122)\n",
    "\n",
    "\n",
    "- [ebay美国站卖家广告费官方介绍页面](https://www.ebay.com/help/selling/listings/listing-tips/promoted-listings?id=4164)\n",
    "\n",
    "\n",
    "- [ebay中国官方网站](https://www.ebay.cn/)\n",
    "\n",
    "\n",
    "- [ebay中国官方卖家企业入驻通道](https://pgc.ebay.com.hk/)\n",
    "\n",
    "\n",
    "- [ebay企业入驻通道使用指南](https://pgc.ebay.com.hk/helpdoc/Home/pgc/PGCHelpDoc)\n",
    "\n",
    "\n",
    "- [Amazon成本测算文件](amz_cost_analysis.ipynb)"
   ]
  },
  {
   "cell_type": "markdown",
   "metadata": {},
   "source": [
    "[返回目录](e_biz_charges_report_catalog.ipynb)"
   ]
  }
 ],
 "metadata": {
  "kernelspec": {
   "display_name": "Python 3",
   "language": "python",
   "name": "python3"
  },
  "language_info": {
   "codemirror_mode": {
    "name": "ipython",
    "version": 3
   },
   "file_extension": ".py",
   "mimetype": "text/x-python",
   "name": "python",
   "nbconvert_exporter": "python",
   "pygments_lexer": "ipython3",
   "version": "3.7.3"
  },
  "latex_envs": {
   "LaTeX_envs_menu_present": true,
   "autoclose": false,
   "autocomplete": true,
   "bibliofile": "biblio.bib",
   "cite_by": "apalike",
   "current_citInitial": 1,
   "eqLabelWithNumbers": true,
   "eqNumInitial": 1,
   "hotkeys": {
    "equation": "Ctrl-E",
    "itemize": "Ctrl-I"
   },
   "labels_anchors": false,
   "latex_user_defs": false,
   "report_style_numbering": false,
   "user_envs_cfg": false
  },
  "toc": {
   "base_numbering": 1,
   "nav_menu": {},
   "number_sections": true,
   "sideBar": true,
   "skip_h1_title": false,
   "title_cell": "Table of Contents",
   "title_sidebar": "Contents",
   "toc_cell": false,
   "toc_position": {},
   "toc_section_display": true,
   "toc_window_display": false
  }
 },
 "nbformat": 4,
 "nbformat_minor": 2
}
