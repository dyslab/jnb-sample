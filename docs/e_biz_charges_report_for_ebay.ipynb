{
 "cells": [
  {
   "cell_type": "markdown",
   "metadata": {},
   "source": [
    "Doc title: **Cross-Border E-Business Platform Charges Report Series (ebay)**\n",
    "\n",
    "Article notes: This is a series of document files for introducing the charges of various cross-border e-business platform. It is targeting on going to be a proper preparation for running business on these e-platforms and fits for newbies.\n",
    "\n",
    "文章备注：介绍目前主要跨境电商平台的运营收费。本篇介绍Yahoo ebay平台。\n",
    "\n",
    "Last modified date: 2019-07-31 02:39:49 "
   ]
  },
  {
   "cell_type": "markdown",
   "metadata": {},
   "source": [
    "# 平台简介 Brief Intro\n",
    "\n",
    "ebay平台以线上拍卖闻名，1.68亿美元的Gigayacht游艇拍卖和巴菲特午餐拍卖是ebay上的著名事件。"
   ]
  },
  {
   "cell_type": "markdown",
   "metadata": {},
   "source": [
    "# 费用介绍 Charges"
   ]
  },
  {
   "cell_type": "markdown",
   "metadata": {},
   "source": [
    "## 入驻费  Subscription Fees\n",
    "\n",
    "![ebay_subscription_fees_rates.png](ebay_subscription_fees_rates.png)"
   ]
  },
  {
   "cell_type": "markdown",
   "metadata": {},
   "source": [
    "## 上架费 Insertion Fees（Listing Fees）\n",
    "\n",
    "![ebay_listing_fees_conditions.png](ebay_listing_fees_conditions.png)\n",
    "\n",
    "![ebay_listing_fees_rates.png](ebay_listing_fees_rates.png)\n",
    "\n",
    "![ebay_listing_fees_good_til_cancelled.png](ebay_listing_fees_good_til_cancelled.png)"
   ]
  },
  {
   "cell_type": "markdown",
   "metadata": {},
   "source": [
    "## 销售费 Final Value Fees（Selling Fees）\n",
    "\n",
    "![ebay_sales_fees_rates_starter.png](ebay_sales_fees_rates_starter.png)\n",
    "\n",
    "![ebay_sales_fees_rates_basic_up.png](ebay_sales_fees_rates_basic_up.png)"
   ]
  },
  {
   "cell_type": "markdown",
   "metadata": {},
   "source": [
    "## 商品页面升级费 Fees for optional listing upgrades\n",
    "\n",
    "![ebay_listing_upgrade_fees.png](ebay_listing_upgrade_fees.png)\n",
    "\n",
    "![ebay_listing_upgrade_fees_good_til_cancelled.png](ebay_listing_upgrade_fees_good_til_cancelled.png)"
   ]
  },
  {
   "cell_type": "markdown",
   "metadata": {},
   "source": [
    "## 额外销售费 Additional final value fees"
   ]
  },
  {
   "cell_type": "markdown",
   "metadata": {},
   "source": [
    "## 支付手续费（仅用于参与ebay支付管理计划的卖家） Payments processing fees（For Managed Payments Seller）"
   ]
  },
  {
   "cell_type": "markdown",
   "metadata": {},
   "source": [
    "## 运费 Shipping Fees"
   ]
  },
  {
   "cell_type": "markdown",
   "metadata": {},
   "source": [
    "## 广告费 Promoted Listings Fees"
   ]
  },
  {
   "cell_type": "markdown",
   "metadata": {},
   "source": [
    "# 定价测算 Pricing Estimation"
   ]
  },
  {
   "cell_type": "code",
   "execution_count": 4,
   "metadata": {
    "ExecuteTime": {
     "end_time": "2019-07-30T21:13:38.256934Z",
     "start_time": "2019-07-30T21:13:38.249168Z"
    }
   },
   "outputs": [],
   "source": [
    "# 费用设置说明\n",
    "\n",
    "# 生产成本（人民币）\n",
    "RMB_COP = 20\n",
    "\n",
    "# 国内运费（人民币）\n",
    "RMB_DLC = 3\n",
    "\n",
    "# 马来西亚LGS跨境运费及汇率（以一对鞋平均约0.5kg计算，下同，马币）\n",
    "MYR_LGS = 7.5\n",
    "MYR_EXCHANGE_RATE = 1.65\n",
    "\n",
    "\n",
    "# 佣金费率\n",
    "CR_RATE = 0.04\n",
    "\n",
    "# 支付费率\n",
    "PR_RATE = 0.02\n",
    "\n",
    "# SST费率\n",
    "SST_RATE = 0.06"
   ]
  },
  {
   "cell_type": "code",
   "execution_count": 5,
   "metadata": {
    "ExecuteTime": {
     "end_time": "2019-07-30T21:13:40.668116Z",
     "start_time": "2019-07-30T21:13:40.660428Z"
    }
   },
   "outputs": [
    {
     "name": "stdout",
     "output_type": "stream",
     "text": [
      "计算结果如下：\n",
      "\n",
      "测算成本价：MYR$22.90，约合人民币￥37.78。\n",
      "\n"
     ]
    }
   ],
   "source": [
    "# 成本价（零利润）计算\n",
    "# 公式： 成本价 = 生产成本 + 国内运费 + 跨境运费 + 佣金（含SST） + 支付费（含SST）\n",
    "\n",
    "print('计算结果如下：\\n')\n",
    "\n",
    "# 马来西亚（马币）\n",
    "COST_MYR = round(((RMB_COP + RMB_DLC) / MYR_EXCHANGE_RATE + MYR_LGS) / (1 - (CR_RATE * (1 + SST_RATE)) - (PR_RATE * (1 + SST_RATE))), 2)\n",
    "print('测算成本价：MYR${:.2f}，约合人民币￥{:.2f}。\\n'.format(COST_MYR, COST_MYR * MYR_EXCHANGE_RATE))"
   ]
  },
  {
   "cell_type": "markdown",
   "metadata": {},
   "source": [
    "<hr>"
   ]
  },
  {
   "cell_type": "markdown",
   "metadata": {},
   "source": [
    "# 平台入驻思考 Thoughts Of Start"
   ]
  },
  {
   "cell_type": "markdown",
   "metadata": {},
   "source": [
    "1. Lazada后台管理界面仍不完善，使用起来较为不便。由于之前Lazada一些站点只有当地语言的管理界面，被阿里收购后增加了英语界面，但是在站点页面切换过程中，仍会不时出现小语种界面和各种语言混杂在一起的情况，让人很是无语。\n",
    "\n",
    "\n",
    "2. Lazada被阿里收购后，受到阿里系电商平台影响，对产品页面的装饰（decoration）也有较高要求，需要有美工人员的配合和维护。\n",
    "\n",
    "\n",
    "3. Lazada 2019年开始增加Global Collection（这也是明显的阿里系推动中国卖家做法），采用了新的商品评分制度，月销量低的产品（Non-perform Products）无法入选Global Collection的同时，也基本没有流量和展示，这也需要有一个较强的团队来及时维护更新平台产品，才有机会做得起来。\n",
    "\n",
    "\n",
    "4. Lazada 的商品自从设置了Global Collection后，引入了Global Product，导致现在同一个站点有两种产品类型（见下图：Global Product、Venture Product），然而，Global Product貌似又不能像Venture Product那样采用批量上传模式（Batch Upload）增加商品，需要类似速卖通那样手动进行添加，维护起来也需要花费更多时间。\n",
    "\n",
    "5. 客服方面，由于发咨询来的客户多采用当地小语种，有些可能是当地俗语的语言谷歌翻译起来也不准确，沟通起来颇有些困难。"
   ]
  },
  {
   "cell_type": "markdown",
   "metadata": {},
   "source": [
    "# 附录：参考链接 References Links\n",
    "\n",
    "\n",
    "- [ebay美国站店铺卖家费用官方页面](https://www.ebay.com/help/selling/fees-credits-invoices/store-selling-fees?id=4122)\n",
    "\n",
    "\n",
    "- [ebay美国站卖家广告费官方介绍页面](https://www.ebay.com/help/selling/listings/listing-tips/promoted-listings?id=4164)"
   ]
  }
 ],
 "metadata": {
  "kernelspec": {
   "display_name": "Python 3",
   "language": "python",
   "name": "python3"
  },
  "language_info": {
   "codemirror_mode": {
    "name": "ipython",
    "version": 3
   },
   "file_extension": ".py",
   "mimetype": "text/x-python",
   "name": "python",
   "nbconvert_exporter": "python",
   "pygments_lexer": "ipython3",
   "version": "3.7.3"
  },
  "latex_envs": {
   "LaTeX_envs_menu_present": true,
   "autoclose": false,
   "autocomplete": true,
   "bibliofile": "biblio.bib",
   "cite_by": "apalike",
   "current_citInitial": 1,
   "eqLabelWithNumbers": true,
   "eqNumInitial": 1,
   "hotkeys": {
    "equation": "Ctrl-E",
    "itemize": "Ctrl-I"
   },
   "labels_anchors": false,
   "latex_user_defs": false,
   "report_style_numbering": false,
   "user_envs_cfg": false
  },
  "toc": {
   "base_numbering": 1,
   "nav_menu": {},
   "number_sections": true,
   "sideBar": true,
   "skip_h1_title": false,
   "title_cell": "Table of Contents",
   "title_sidebar": "Contents",
   "toc_cell": false,
   "toc_position": {},
   "toc_section_display": true,
   "toc_window_display": false
  }
 },
 "nbformat": 4,
 "nbformat_minor": 2
}
