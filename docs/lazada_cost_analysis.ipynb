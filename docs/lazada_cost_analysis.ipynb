{
 "cells": [
  {
   "cell_type": "markdown",
   "metadata": {},
   "source": [
    "Doc title: **Lazada Cost Analysis Report**\n",
    "\n",
    "Article notes: Check out the total charges throughout the whole processes of Lazada order fulfillment, as well as a pricing reference for running business on this e-biz platform. All data listed below are virtualized only for the purpose of this thesis and it should not be supposed to be real statistical data.\n",
    "\n",
    "文章备注：Lazada订单履行全过程费用计算。所有数据均为基于本文目的设置的模拟数据，不能作为运营时的真实成本费用考虑。\n",
    "\n",
    "Last modified date: 2019-07-29 19:31:33 "
   ]
  },
  {
   "cell_type": "markdown",
   "metadata": {},
   "source": [
    "# 生产成本 Costs Of Production\n",
    "\n",
    "生产成本涵盖材料、人工、储存、财务等商品出厂各方面成本费用。"
   ]
  },
  {
   "cell_type": "markdown",
   "metadata": {},
   "source": [
    "# 运费（由三部分组成） Shipping Fee（Compose Of Three Parts）"
   ]
  },
  {
   "cell_type": "markdown",
   "metadata": {},
   "source": [
    "## 国内物流运费 Domestic Logistic Charge\n",
    "\n",
    "Lazada对所有跨境卖家（主要为中国卖家）只有一种运输方式可选，即LGS（Lazada Global Shipping Service，Lazada全球物流方案，详见**[介绍](lazada_lgs.pdf)**）。所有中国发出的包裹均须寄到国内的LGS-FM40深圳仓或LGS-FM41义乌仓发出。因此存在国内快递成本。"
   ]
  },
  {
   "cell_type": "markdown",
   "metadata": {},
   "source": [
    "## 跨境运费 LGS Shipping Fee\n",
    "\n",
    "LGS由国内发往东南亚各国运费标准参见 **[运输费率表（2019年7月1日起费率执行标准）](lazada_lgs_rates_card_20190701.xlsx)**。\n",
    "\n",
    "跨境费率标准如下（均以重量0.5kg为准）：\n",
    "\n",
    "- 马来西亚，MYR$7.5\n",
    "\n",
    "- 印度尼西亚，IDR$50765.00\n",
    "\n",
    "- 菲律宾，PHP$288.00\n",
    "\n",
    "- 新加坡，SGD$5.25\n",
    "\n",
    "- 泰国，THB$91.00\n",
    "\n",
    "- 越南，VND$90970.00\n",
    "\n",
    "*注：因东南亚各国关税起点较高，此文暂不作考虑。*"
   ]
  },
  {
   "cell_type": "markdown",
   "metadata": {},
   "source": [
    "## 末程运费 Forwarder Charge In Destination Country\n",
    "\n",
    "Lazada末程运费由买家根据当地费率卡标准支付，卖家不作考虑。"
   ]
  },
  {
   "cell_type": "markdown",
   "metadata": {},
   "source": [
    "# 佣金 Commission Fee\n",
    "\n",
    "Lazada佣金计算公式：![Lazada Commission Fee Equation](lazada_commission_fee_equation.png)\n",
    "\n",
    "根据所属目录，鞋类产品佣金费率为 **4%** 。（适用于马来西亚、印尼、菲律宾、新加坡、泰国。越南为5%）\n",
    "\n",
    "![Lazada Commission Fee Rates For Shoes](lazada_commission_fee_rates_for_shoes.png)"
   ]
  },
  {
   "cell_type": "markdown",
   "metadata": {},
   "source": [
    "# 支付费 Payment Fee\n",
    "\n",
    "Lazada支付费计算公式与佣金计算方式雷同：![Lazada Payment Fee Equation](lazada_payment_fee_equation.png)\n",
    "\n",
    "*Note : The commission and payment fees are subject to SST @ prevailing rate which is currently 6%.*\n",
    "\n",
    "注意：收取佣金及支付费用时，根据现行SST（Sales and Service Tax，销售及服务税）费率标准另须收取其金额的 **6%** 作为附加费。"
   ]
  },
  {
   "cell_type": "markdown",
   "metadata": {},
   "source": [
    "# 成本价计算过程 Process of Cost Calculation"
   ]
  },
  {
   "cell_type": "code",
   "execution_count": 1,
   "metadata": {
    "ExecuteTime": {
     "end_time": "2019-07-29T11:22:50.926077Z",
     "start_time": "2019-07-29T11:22:50.918802Z"
    }
   },
   "outputs": [],
   "source": [
    "# 费用设置说明\n",
    "\n",
    "# 生产成本（人民币）\n",
    "RMB_COP = 20\n",
    "\n",
    "# 国内运费（人民币）\n",
    "RMB_DLC = 3\n",
    "\n",
    "# 马来西亚LGS跨境运费及汇率（以一对鞋平均约0.5kg计算，下同，马币）\n",
    "MYR_LGS = 7.5\n",
    "MYR_EXCHANGE_RATE = 1.65\n",
    "\n",
    "# 印度尼西亚LGS跨境运费及汇率（印尼盾）\n",
    "IDR_LGS = 50765\n",
    "IDR_EXCHANGE_RATE = 0.0005\n",
    "\n",
    "# 菲律宾LGS跨境运费及汇率（菲律宾比索）\n",
    "PHP_LGS = 288\n",
    "PHP_EXCHANGE_RATE = 0.15\n",
    "\n",
    "# 新加坡LGS跨境运费及汇率（新加坡币）\n",
    "SGD_LGS = 5.25\n",
    "SGD_EXCHANGE_RATE = 5\n",
    "\n",
    "# 泰国LGS跨境运费及汇率（泰铢）\n",
    "THB_LGS = 91\n",
    "THB_EXCHANGE_RATE = 0.2\n",
    "\n",
    "# 越南LGS跨境运费及汇率（越南盾）\n",
    "VND_LGS = 90970\n",
    "VND_EXCHANGE_RATE = 0.0003\n",
    "\n",
    "# 佣金费率\n",
    "CR_RATE = 0.04\n",
    "VND_CR_RATE = 0.05 # 越南为5%。\n",
    "\n",
    "# 支付费率\n",
    "PR_RATE = 0.02\n",
    "\n",
    "# SST费率\n",
    "SST_RATE = 0.06"
   ]
  },
  {
   "cell_type": "code",
   "execution_count": 2,
   "metadata": {
    "ExecuteTime": {
     "end_time": "2019-07-29T11:22:51.021004Z",
     "start_time": "2019-07-29T11:22:50.928343Z"
    }
   },
   "outputs": [
    {
     "name": "stdout",
     "output_type": "stream",
     "text": [
      "计算结果如下：\n",
      "\n",
      "马来西亚测算成本价：MYR$22.90，约合人民币￥37.78。\n",
      "\n",
      "印度尼西亚测算成本价：IDR$103337.25，约合人民币￥51.67。\n",
      "\n",
      "菲律宾测算成本价：PHP$471.31，约合人民币￥70.70。\n",
      "\n",
      "新加坡测算成本价：SGD$10.52，约合人民币￥52.60。\n",
      "\n",
      "泰国测算成本价：THB$219.99，约合人民币￥44.00。\n",
      "\n",
      "越南测算成本价：VND$181072.23，约合人民币￥54.32。\n",
      "\n"
     ]
    }
   ],
   "source": [
    "# 成本价（零利润）计算\n",
    "# 公式： 成本价 = 生产成本 + 国内运费 + 跨境运费 + 佣金（含SST） + 支付费（含SST）\n",
    "\n",
    "print('计算结果如下：\\n')\n",
    "\n",
    "# 马来西亚（马币）\n",
    "COST_MYR = round(((RMB_COP + RMB_DLC) / MYR_EXCHANGE_RATE + MYR_LGS) / (1 - (CR_RATE * (1 + SST_RATE)) - (PR_RATE * (1 + SST_RATE))), 2)\n",
    "print('马来西亚测算成本价：MYR${:.2f}，约合人民币￥{:.2f}。\\n'.format(COST_MYR, COST_MYR * MYR_EXCHANGE_RATE))\n",
    "\n",
    "# 印度尼西亚（印尼盾）\n",
    "COST_IDR = round(((RMB_COP + RMB_DLC) / IDR_EXCHANGE_RATE + IDR_LGS) / (1 - (CR_RATE * (1 + SST_RATE)) - (PR_RATE * (1 + SST_RATE))), 2)\n",
    "print('印度尼西亚测算成本价：IDR${:.2f}，约合人民币￥{:.2f}。\\n'.format(COST_IDR, COST_IDR * IDR_EXCHANGE_RATE))\n",
    "\n",
    "# 菲律宾（菲律宾比索）\n",
    "COST_PHP = round(((RMB_COP + RMB_DLC) / PHP_EXCHANGE_RATE + PHP_LGS) / (1 - (CR_RATE * (1 + SST_RATE)) - (PR_RATE * (1 + SST_RATE))), 2)\n",
    "print('菲律宾测算成本价：PHP${:.2f}，约合人民币￥{:.2f}。\\n'.format(COST_PHP, COST_PHP * PHP_EXCHANGE_RATE))\n",
    "\n",
    "# 新加坡（新加坡币）\n",
    "COST_SGD = round(((RMB_COP + RMB_DLC) / SGD_EXCHANGE_RATE + SGD_LGS) / (1 - (CR_RATE * (1 + SST_RATE)) - (PR_RATE * (1 + SST_RATE))), 2)\n",
    "print('新加坡测算成本价：SGD${:.2f}，约合人民币￥{:.2f}。\\n'.format(COST_SGD, COST_SGD * SGD_EXCHANGE_RATE))\n",
    "\n",
    "# 泰国（泰铢）\n",
    "COST_THB = round(((RMB_COP + RMB_DLC) / THB_EXCHANGE_RATE + THB_LGS) / (1 - (CR_RATE * (1 + SST_RATE)) - (PR_RATE * (1 + SST_RATE))), 2)\n",
    "print('泰国测算成本价：THB${:.2f}，约合人民币￥{:.2f}。\\n'.format(COST_THB, COST_THB * THB_EXCHANGE_RATE))\n",
    "\n",
    "# 越南（越南盾）\n",
    "COST_VND = round(((RMB_COP + RMB_DLC) / VND_EXCHANGE_RATE + VND_LGS) / (1 - (VND_CR_RATE * (1 + SST_RATE)) - (PR_RATE * (1 + SST_RATE))), 2)\n",
    "print('越南测算成本价：VND${:.2f}，约合人民币￥{:.2f}。\\n'.format(COST_VND, COST_VND * VND_EXCHANGE_RATE))"
   ]
  },
  {
   "cell_type": "markdown",
   "metadata": {},
   "source": [
    "<hr>"
   ]
  },
  {
   "cell_type": "markdown",
   "metadata": {},
   "source": [
    "# Lazada运营的几个问题 Issues Of Running Business On Lazada"
   ]
  },
  {
   "cell_type": "markdown",
   "metadata": {},
   "source": [
    "1. Lazada后台管理界面仍不完善，使用起来较为不便。由于之前Lazada一些站点只有当地语言的管理界面，被阿里收购后增加了英语界面，但是在站点页面切换过程中，仍会不时出现小语种界面和各种语言混杂在一起的情况，让人很是无语。\n",
    "\n",
    "\n",
    "2. Lazada被阿里收购后，受到阿里系电商平台影响，对产品页面的装饰（decoration）也有较高要求，需要有美工人员的配合和维护。\n",
    "\n",
    "\n",
    "3. Lazada 2019年开始增加Global Collection（这也是明显的阿里系推动中国卖家做法），采用了新的商品评分制度，月销量低的产品（Non-perform Products）无法入选Global Collection的同时，也基本没有流量和展示，这也需要有一个较强的团队来及时维护更新平台产品，才有机会做得起来。\n",
    "\n",
    "\n",
    "4. Lazada 的商品自从设置了Global Collection后，引入了Global Product，导致现在同一个站点有两种产品类型（见下图：Global Product、Venture Product），然而，Global Product貌似又不能像Venture Product那样采用批量上传模式（Batch Upload）增加商品，需要类似速卖通那样手动进行添加，维护起来也需要花费更多时间。\n",
    "![lazada_products_menu.png](lazada_products_menu.png)\n",
    "\n",
    "\n",
    "5. 客服方面，由于发咨询来的客户多采用当地小语种，有些可能是当地俗语的语言谷歌翻译起来也不准确，沟通起来颇有些困难。"
   ]
  },
  {
   "cell_type": "markdown",
   "metadata": {},
   "source": [
    "**结论：**\n",
    "\n",
    "\n",
    "1. Lazada的优势是，费用构成比较清晰明了，无平台费，综合成本比较低，在东南亚国家电商平台中具有影响力。\n",
    "\n",
    "\n",
    "2. 对于跨境卖家而言，商品必须进入Global Collection中才有比较好的销售机会。\n",
    "\n",
    "\n",
    "3. Lazada后台管理体验较差，对商品页面的装饰有一定要求，客服方面也有一定难度，比较需要团队协作才能玩得好。"
   ]
  },
  {
   "cell_type": "markdown",
   "metadata": {},
   "source": [
    "# 附录1，Lazada卖家费用类型说明 Appendix 1，Sellers Fee Terminology"
   ]
  },
  {
   "cell_type": "markdown",
   "metadata": {},
   "source": [
    "<table border=\"1\"><colgroup><col width=\"38.67%\"><col width=\"13.27%\"><col width=\"48.05%\"></colgroup><tbody><tr><td><p><strong>Fee Types</strong></p></td><td><p><strong>Nature</strong></p></td><td><p><strong>Description</strong></p></td></tr><tr><td><p>Item Price Credit</p></td><td><p>Credit</p></td><td><p>Unit price of the item sold</p></td></tr><tr><td><p>Item Charge Adjustments</p></td><td><p>Debit</p></td><td><p>Adjustments made to unit price of item sold</p></td></tr><tr><td><p>Bundle Promotional Charges</p></td><td><p>Debit</p></td><td><p>Bundle charges</p></td></tr><tr><td><p>Voucher Promotional Charges</p></td><td><p>Debit</p></td><td><p>Voucher charges</p></td></tr><tr><td><p>Commission</p></td><td><p>Debit</p></td><td><p>Commission % charged on paid price of item sold</p></td></tr><tr><td><p>Commission Rebate</p></td><td><p>Credit</p></td><td><p>Discount given on commission </p></td></tr><tr><td><p>Payment Fee</p></td><td><p>Debit</p></td><td><p>% fee charged on paid price of item sold</p></td></tr><tr><td><p>Shipping Fee (Charged by Lazada)</p></td><td><p>Debit</p></td><td><p>Delivery fee charged as per rate card</p></td></tr><tr><td><p>Shipping Fee Claim</p></td><td><p>Credit</p></td><td><p>Delivery charges - claims</p></td></tr><tr><td><p>Other Claims</p></td><td><p>Credit</p></td><td><p>Other Claims</p></td></tr><tr><td><p>Shipping Fee (Paid By Customer)</p></td><td><p>Credit</p></td><td><p>Delivery charges collected from customer</p></td></tr><tr><td><p>Other Credit - Non Taxable</p></td><td><p>Credit</p></td><td><p>Other Credits</p></td></tr><tr><td><p>Other Debit - Non Taxable</p></td><td><p>Debit</p></td><td><p>Other Debits</p></td></tr><tr><td><p>Other Debit -Taxable</p></td><td><p>Debit</p></td><td><p>Other Credits</p></td></tr><tr><td><p>Other Credit -Taxable</p></td><td><p>Credit</p></td><td><p>Other Debits</p></td></tr><tr><td><p>Penalty Adjustments</p></td><td><p>Credit</p></td><td><p>Adjustments made to penalty amount</p></td></tr><tr><td><p>Lost or damaged FBL inventories (WH)</p></td><td><p>Credit</p></td><td><p>Credit given for lost or damaged  items</p></td></tr><tr><td><p>Auto. Shipping fee subsidy (by Lazada)</p></td><td><p>Credit</p></td><td><p>Delivery charges subsidy given by Lazada</p></td></tr><tr><td><p>Shipping Fee Adjustments </p></td><td><p>Debit</p></td><td><p>Adjustments made to delivery charges</p></td></tr><tr><td><p>Reversal Item Price</p></td><td><p>Debit</p></td><td><p>Unit price deducted for returned items</p></td></tr><tr><td><p>Adjustments Item Charge</p></td><td><p>Credit</p></td><td><p>Adjustments made to unit price of item sold</p></td></tr><tr><td><p>Promotional Bundle Charges Reversal </p></td><td><p>Credit</p></td><td><p>Bundle charges reversed for returned items</p></td></tr><tr><td><p>Promotional Voucher Charges Reversal </p></td><td><p>Credit</p></td><td><p>Voucher charges reversed for returned items</p></td></tr><tr><td><p>Commission Adjustments</p></td><td><p>Debit</p></td><td><p>Adjustments made to commission amount</p></td></tr><tr><td><p>Adjustments Payment Fee</p></td><td><p>Debit</p></td><td><p>Adjustments made to payment fee amount</p></td></tr><tr><td><p>Other Debits (Returns)</p></td><td><p>Debit</p></td><td><p>Other Debits for returned items</p></td></tr><tr><td><p>Partial Refunds Reversal </p></td><td><p>Credit</p></td><td><p>Item price reversed for partially refunded items</p></td></tr><tr><td><p>Sponsored Product Fee Claim</p></td><td><p>Credit</p></td><td><p>Sponsored Product Fee Claim</p></td></tr><tr><td><p>Installment Fee Claim</p></td><td><p>Credit</p></td><td><p>Installment Fee Claim</p></td></tr><tr><td><p>Seller Incentive</p></td><td><p>Credit</p></td><td><p>Seller Incentive</p></td></tr><tr><td><p>Photoshoot Content Service</p></td><td><p>Debit</p></td><td><p>Fee charges for photoshoot and content service provided</p></td></tr><tr><td><p>Other Debits (non-taxable)</p></td><td><p>Debit</p></td><td><p>Other Debits</p></td></tr><tr><td><p>Other Adjustments</p></td><td><p>Credit</p></td><td><p>Adjustments</p></td></tr><tr><td><p>Other Debits</p></td><td><p>Debit</p></td><td><p>Other Debits</p></td></tr><tr><td><p>International Shipping Fee (Other)</p></td><td><p>Debit</p></td><td><p>International shipping fee</p></td></tr><tr><td><p>Marketing solution /social media advertising </p></td><td><p>Debit</p></td><td><p>Marketing solution /social media advertising </p></td></tr><tr><td><p>Pick Up Fee</p></td><td><p>Debit</p></td><td><p>Pick Up Fee</p></td></tr><tr><td><p>Shipping Fee Adjustments</p></td><td><p>Credit</p></td><td><p>Adjustments made to delivery charges</p></td></tr><tr><td><p>FBL - Other Fulfillment Service Fee</p></td><td><p>Debit</p></td><td><p>FBL - Other fulfillment service fee</p></td></tr><tr><td><p>Insurance Fee</p></td><td><p>Debit</p></td><td><p>Insurance fee</p></td></tr><tr><td><p>International shipping fee  (3P)</p></td><td><p>Debit</p></td><td><p>International shipping fee  (3P)</p></td></tr><tr><td><p>Lost or damaged FBL inventories (3PL)</p></td><td><p>Credit</p></td><td><p>Credit given for lost or damaged  items</p></td></tr><tr><td><p>FBL Adjustments</p></td><td><p>Credit</p></td><td><p>Adjustment made to FBL fees</p></td></tr><tr><td><p>Shipping Fee (Surcharge)</p></td><td><p>Debit</p></td><td><p>Shipping Fee (Surcharge)</p></td></tr><tr><td><p>Shipping Fee (Extra Handling)</p></td><td><p>Debit</p></td><td><p>Shipping Fee (Extra Handling)</p></td></tr><tr><td><p>Shipping Fee (Insurance)</p></td><td><p>Debit</p></td><td><p>Shipping Fee (Insurance)</p></td></tr><tr><td><p>Promotional Charges (Flexi-Combo)</p></td><td><p>Debit</p></td><td><p>Voucher charges</p></td></tr><tr><td><p>Promotional Charges Reversal (Flexi-Combo)</p></td><td><p>Credit</p></td><td><p>Voucher charges reversed for returned items</p></td></tr><tr><td><p>Lost Claim (Lazada)</p></td><td><p>Credit</p></td><td><p>Amount refunded for lost items claims</p></td></tr><tr><td><p>Damaged Claim (Lazada)</p></td><td><p>Credit</p></td><td><p>Amount refunded for damaged items claims</p></td></tr><tr><td><p>Shipping Fee Reversal (Paid by Customer)</p></td><td><p>Debit</p></td><td><p>Delivery charges received from customer reversed for returned items (Reversal for an earlier adjustment)</p></td></tr><tr><td><p>Claim Adjustments</p></td><td><p>Debit</p></td><td><p>Adjustment charges reversed for adjustments made</p></td></tr><tr><td><p>Partial refunds on Items</p></td><td><p>Debit</p></td><td><p>Item price deduction of partially refunded items</p></td></tr><tr><td><p>Seller Funded Marketing Voucher</p></td><td><p>Debit</p></td><td><p>Seller-sponsored vouchers</p></td></tr><tr><td><p>Commission Reversal </p></td><td><p>Credit</p></td><td><p>Commission % charges reversed for returned items</p></td></tr><tr><td><p>Payment Fee Credit</p></td><td><p>Credit</p></td><td><p>Payment fee charges reversed for returned items</p></td></tr><tr><td><p>Shipping Fee Reversal (Charged By Lazada)</p></td><td><p>Credit</p></td><td><p>Delivery fee charges reversed for returned items</p></td></tr><tr><td><p>Other Adjustments</p></td><td><p>Credit</p></td><td><p>Other Adjustments</p></td></tr><tr><td><p>Seller Funded Marketing Voucher Reversal </p></td><td><p>Credit</p></td><td><p>Seller-sponsored vouchers reversed for returned items/ refund for co-funded voucher</p></td></tr><tr><td><p>Automated Shipping Subsidy Reversal </p></td><td><p>Debit</p></td><td><p>Shipping fee subsidized amount reversed for returned items</p></td></tr><tr><td><p>Sponsored Product Fee</p></td><td><p>Debit</p></td><td><p>Fee charges for sponsored product</p></td></tr><tr><td><p>Packaging Fee</p></td><td><p>Debit</p></td><td><p>Fee charges for the packaging process</p></td></tr><tr><td><p>Shipping Fee (Charged By 3P) - Cross Border</p></td><td><p>Debit</p></td><td><p>Delivery fee charges based on rate card</p></td></tr><tr><td><p>Return Delivery Fee</p></td><td><p>Debit</p></td><td><p>Delivery fee refund for returned items</p></td></tr><tr><td><p>FBL Storage Fee</p></td><td><p>Debit</p></td><td><p>Fee charges for the FBL Storage</p></td></tr><tr><td><p>FBL Handling Fee</p></td><td><p>Debit</p></td><td><p>Fee charges for the FBL Handling</p></td></tr><tr><td><p>Shipping Fee Voucher (by Lazada)</p></td><td><p>Credit</p></td><td><p>Lazada-sponsored shipping voucher</p></td></tr><tr><td><p>Pre-sale Deposit</p></td><td><p>Credit</p></td><td><p>Amount received from pre-sale deposit</p></td></tr><tr><td><p>Presale Deposit Reversal</p></td><td><p>Debit</p></td><td><p>Amount refunded from pre-sale deposit</p></td></tr></tbody></table>"
   ]
  }
 ],
 "metadata": {
  "kernelspec": {
   "display_name": "Python 3",
   "language": "python",
   "name": "python3"
  },
  "language_info": {
   "codemirror_mode": {
    "name": "ipython",
    "version": 3
   },
   "file_extension": ".py",
   "mimetype": "text/x-python",
   "name": "python",
   "nbconvert_exporter": "python",
   "pygments_lexer": "ipython3",
   "version": "3.7.3"
  },
  "latex_envs": {
   "LaTeX_envs_menu_present": true,
   "autoclose": false,
   "autocomplete": true,
   "bibliofile": "biblio.bib",
   "cite_by": "apalike",
   "current_citInitial": 1,
   "eqLabelWithNumbers": true,
   "eqNumInitial": 1,
   "hotkeys": {
    "equation": "Ctrl-E",
    "itemize": "Ctrl-I"
   },
   "labels_anchors": false,
   "latex_user_defs": false,
   "report_style_numbering": false,
   "user_envs_cfg": false
  },
  "toc": {
   "base_numbering": 1,
   "nav_menu": {},
   "number_sections": true,
   "sideBar": true,
   "skip_h1_title": false,
   "title_cell": "Table of Contents",
   "title_sidebar": "Contents",
   "toc_cell": false,
   "toc_position": {},
   "toc_section_display": true,
   "toc_window_display": false
  }
 },
 "nbformat": 4,
 "nbformat_minor": 2
}
