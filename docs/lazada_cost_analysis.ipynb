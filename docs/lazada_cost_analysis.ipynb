{
 "cells": [
  {
   "cell_type": "markdown",
   "metadata": {},
   "source": [
    "Doc title: **Lazada Cost Analysis Report**\n",
    "\n",
    "Article notes: Check out the total charges throughout the whole processes of Lazada order fulfillment, as well as a pricing reference for running business on this e-biz platform. All data listed below are virtualized only for the purpose of this thesis and it should not be supposed to be the real statistical data.\n",
    "\n",
    "文章备注：Lazada订单履行全过程费用计算。所有数据均为基于本文目的设置的模拟数据，不能作为运营时的真实成本费用考虑。\n",
    "\n",
    "Last modified date: 2019-07-29 02:14:43 \n"
   ]
  },
  {
   "cell_type": "code",
   "execution_count": 1,
   "metadata": {
    "ExecuteTime": {
     "end_time": "2019-07-28T19:54:45.203077Z",
     "start_time": "2019-07-28T19:54:45.197924Z"
    }
   },
   "outputs": [],
   "source": [
    "# 引入pandas数据分析模块\n",
    "import pandas as pd"
   ]
  },
  {
   "cell_type": "markdown",
   "metadata": {},
   "source": [
    "# 生产成本 Costs Of Production\n",
    "\n",
    "生产成本涵盖出厂的材料、人工、存储、财务成本费用。"
   ]
  },
  {
   "cell_type": "markdown",
   "metadata": {},
   "source": [
    "# 佣金 Commission Fee\n",
    "\n",
    "Lazada佣金计算公式：![Lazada Commission Fee Equation](lazada_commission_fee_equation.png)\n",
    "\n",
    "根据所述目录，鞋类产品佣金费率为 **4%** 。"
   ]
  },
  {
   "cell_type": "markdown",
   "metadata": {},
   "source": [
    "# 支付费 Payment Fee\n",
    "\n",
    "Lazada支付费计算公式与佣金计算方式雷同：![Lazada Payment Fee Equation](lazada_payment_fee_equation.png)\n",
    "\n",
    "*Note : The commission and payment fees are subject to SST @ prevailing rate which is currently 6%.*\n",
    "\n",
    "注意：收取佣金及支付费用时，根据现行SST（Sales and Service Tax，销售及服务税）费率标准另须收取其金额的 **6%** 作为附加费。"
   ]
  },
  {
   "cell_type": "markdown",
   "metadata": {},
   "source": [
    "# 运费 LGS Shipping Fee\n",
    "\n",
    "因Lazada对所有跨境卖家（主要为中国卖家）只有一种运输方式可选，即LGS（Lazada Global Shipping Service，Lazada全球物流方案，见此**[介绍](lazada_lgs.pdf)**）。其由国内发往东南亚各国运费标准参见 **[运输费率表（2019年7月1日起费率执行标准）](lazada_lgs_rates_card_20190701.xlsx)**。"
   ]
  },
  {
   "cell_type": "markdown",
   "metadata": {},
   "source": [
    "# 计算过程 Process of Calculation"
   ]
  },
  {
   "cell_type": "code",
   "execution_count": 2,
   "metadata": {
    "ExecuteTime": {
     "end_time": "2019-07-28T19:54:45.323925Z",
     "start_time": "2019-07-28T19:54:45.321201Z"
    }
   },
   "outputs": [],
   "source": [
    "# 生产成本，人民币（元）。\n",
    "RMB_COP = 20"
   ]
  },
  {
   "cell_type": "markdown",
   "metadata": {},
   "source": [
    "# 附录1，Lazada卖家费用类型说明 Appendix 1，Sellers Fee Terminology"
   ]
  },
  {
   "cell_type": "markdown",
   "metadata": {},
   "source": [
    "<table border=\"1\"><colgroup><col width=\"38.67%\"><col width=\"13.27%\"><col width=\"48.05%\"></colgroup><tbody><tr><td><p><strong>Fee Types</strong></p></td><td><p><strong>Nature</strong></p></td><td><p><strong>Description</strong></p></td></tr><tr><td><p>Item Price Credit</p></td><td><p>Credit</p></td><td><p>Unit price of the item sold</p></td></tr><tr><td><p>Item Charge Adjustments</p></td><td><p>Debit</p></td><td><p>Adjustments made to unit price of item sold</p></td></tr><tr><td><p>Bundle Promotional Charges</p></td><td><p>Debit</p></td><td><p>Bundle charges</p></td></tr><tr><td><p>Voucher Promotional Charges</p></td><td><p>Debit</p></td><td><p>Voucher charges</p></td></tr><tr><td><p>Commission</p></td><td><p>Debit</p></td><td><p>Commission % charged on paid price of item sold</p></td></tr><tr><td><p>Commission Rebate</p></td><td><p>Credit</p></td><td><p>Discount given on commission </p></td></tr><tr><td><p>Payment Fee</p></td><td><p>Debit</p></td><td><p>% fee charged on paid price of item sold</p></td></tr><tr><td><p>Shipping Fee (Charged by Lazada)</p></td><td><p>Debit</p></td><td><p>Delivery fee charged as per rate card</p></td></tr><tr><td><p>Shipping Fee Claim</p></td><td><p>Credit</p></td><td><p>Delivery charges - claims</p></td></tr><tr><td><p>Other Claims</p></td><td><p>Credit</p></td><td><p>Other Claims</p></td></tr><tr><td><p>Shipping Fee (Paid By Customer)</p></td><td><p>Credit</p></td><td><p>Delivery charges collected from customer</p></td></tr><tr><td><p>Other Credit - Non Taxable</p></td><td><p>Credit</p></td><td><p>Other Credits</p></td></tr><tr><td><p>Other Debit - Non Taxable</p></td><td><p>Debit</p></td><td><p>Other Debits</p></td></tr><tr><td><p>Other Debit -Taxable</p></td><td><p>Debit</p></td><td><p>Other Credits</p></td></tr><tr><td><p>Other Credit -Taxable</p></td><td><p>Credit</p></td><td><p>Other Debits</p></td></tr><tr><td><p>Penalty Adjustments</p></td><td><p>Credit</p></td><td><p>Adjustments made to penalty amount</p></td></tr><tr><td><p>Lost or damaged FBL inventories (WH)</p></td><td><p>Credit</p></td><td><p>Credit given for lost or damaged  items</p></td></tr><tr><td><p>Auto. Shipping fee subsidy (by Lazada)</p></td><td><p>Credit</p></td><td><p>Delivery charges subsidy given by Lazada</p></td></tr><tr><td><p>Shipping Fee Adjustments </p></td><td><p>Debit</p></td><td><p>Adjustments made to delivery charges</p></td></tr><tr><td><p>Reversal Item Price</p></td><td><p>Debit</p></td><td><p>Unit price deducted for returned items</p></td></tr><tr><td><p>Adjustments Item Charge</p></td><td><p>Credit</p></td><td><p>Adjustments made to unit price of item sold</p></td></tr><tr><td><p>Promotional Bundle Charges Reversal </p></td><td><p>Credit</p></td><td><p>Bundle charges reversed for returned items</p></td></tr><tr><td><p>Promotional Voucher Charges Reversal </p></td><td><p>Credit</p></td><td><p>Voucher charges reversed for returned items</p></td></tr><tr><td><p>Commission Adjustments</p></td><td><p>Debit</p></td><td><p>Adjustments made to commission amount</p></td></tr><tr><td><p>Adjustments Payment Fee</p></td><td><p>Debit</p></td><td><p>Adjustments made to payment fee amount</p></td></tr><tr><td><p>Other Debits (Returns)</p></td><td><p>Debit</p></td><td><p>Other Debits for returned items</p></td></tr><tr><td><p>Partial Refunds Reversal </p></td><td><p>Credit</p></td><td><p>Item price reversed for partially refunded items</p></td></tr><tr><td><p>Sponsored Product Fee Claim</p></td><td><p>Credit</p></td><td><p>Sponsored Product Fee Claim</p></td></tr><tr><td><p>Installment Fee Claim</p></td><td><p>Credit</p></td><td><p>Installment Fee Claim</p></td></tr><tr><td><p>Seller Incentive</p></td><td><p>Credit</p></td><td><p>Seller Incentive</p></td></tr><tr><td><p>Photoshoot Content Service</p></td><td><p>Debit</p></td><td><p>Fee charges for photoshoot and content service provided</p></td></tr><tr><td><p>Other Debits (non-taxable)</p></td><td><p>Debit</p></td><td><p>Other Debits</p></td></tr><tr><td><p>Other Adjustments</p></td><td><p>Credit</p></td><td><p>Adjustments</p></td></tr><tr><td><p>Other Debits</p></td><td><p>Debit</p></td><td><p>Other Debits</p></td></tr><tr><td><p>International Shipping Fee (Other)</p></td><td><p>Debit</p></td><td><p>International shipping fee</p></td></tr><tr><td><p>Marketing solution /social media advertising </p></td><td><p>Debit</p></td><td><p>Marketing solution /social media advertising </p></td></tr><tr><td><p>Pick Up Fee</p></td><td><p>Debit</p></td><td><p>Pick Up Fee</p></td></tr><tr><td><p>Shipping Fee Adjustments</p></td><td><p>Credit</p></td><td><p>Adjustments made to delivery charges</p></td></tr><tr><td><p>FBL - Other Fulfillment Service Fee</p></td><td><p>Debit</p></td><td><p>FBL - Other fulfillment service fee</p></td></tr><tr><td><p>Insurance Fee</p></td><td><p>Debit</p></td><td><p>Insurance fee</p></td></tr><tr><td><p>International shipping fee  (3P)</p></td><td><p>Debit</p></td><td><p>International shipping fee  (3P)</p></td></tr><tr><td><p>Lost or damaged FBL inventories (3PL)</p></td><td><p>Credit</p></td><td><p>Credit given for lost or damaged  items</p></td></tr><tr><td><p>FBL Adjustments</p></td><td><p>Credit</p></td><td><p>Adjustment made to FBL fees</p></td></tr><tr><td><p>Shipping Fee (Surcharge)</p></td><td><p>Debit</p></td><td><p>Shipping Fee (Surcharge)</p></td></tr><tr><td><p>Shipping Fee (Extra Handling)</p></td><td><p>Debit</p></td><td><p>Shipping Fee (Extra Handling)</p></td></tr><tr><td><p>Shipping Fee (Insurance)</p></td><td><p>Debit</p></td><td><p>Shipping Fee (Insurance)</p></td></tr><tr><td><p>Promotional Charges (Flexi-Combo)</p></td><td><p>Debit</p></td><td><p>Voucher charges</p></td></tr><tr><td><p>Promotional Charges Reversal (Flexi-Combo)</p></td><td><p>Credit</p></td><td><p>Voucher charges reversed for returned items</p></td></tr><tr><td><p>Lost Claim (Lazada)</p></td><td><p>Credit</p></td><td><p>Amount refunded for lost items claims</p></td></tr><tr><td><p>Damaged Claim (Lazada)</p></td><td><p>Credit</p></td><td><p>Amount refunded for damaged items claims</p></td></tr><tr><td><p>Shipping Fee Reversal (Paid by Customer)</p></td><td><p>Debit</p></td><td><p>Delivery charges received from customer reversed for returned items (Reversal for an earlier adjustment)</p></td></tr><tr><td><p>Claim Adjustments</p></td><td><p>Debit</p></td><td><p>Adjustment charges reversed for adjustments made</p></td></tr><tr><td><p>Partial refunds on Items</p></td><td><p>Debit</p></td><td><p>Item price deduction of partially refunded items</p></td></tr><tr><td><p>Seller Funded Marketing Voucher</p></td><td><p>Debit</p></td><td><p>Seller-sponsored vouchers</p></td></tr><tr><td><p>Commission Reversal </p></td><td><p>Credit</p></td><td><p>Commission % charges reversed for returned items</p></td></tr><tr><td><p>Payment Fee Credit</p></td><td><p>Credit</p></td><td><p>Payment fee charges reversed for returned items</p></td></tr><tr><td><p>Shipping Fee Reversal (Charged By Lazada)</p></td><td><p>Credit</p></td><td><p>Delivery fee charges reversed for returned items</p></td></tr><tr><td><p>Other Adjustments</p></td><td><p>Credit</p></td><td><p>Other Adjustments</p></td></tr><tr><td><p>Seller Funded Marketing Voucher Reversal </p></td><td><p>Credit</p></td><td><p>Seller-sponsored vouchers reversed for returned items/ refund for co-funded voucher</p></td></tr><tr><td><p>Automated Shipping Subsidy Reversal </p></td><td><p>Debit</p></td><td><p>Shipping fee subsidized amount reversed for returned items</p></td></tr><tr><td><p>Sponsored Product Fee</p></td><td><p>Debit</p></td><td><p>Fee charges for sponsored product</p></td></tr><tr><td><p>Packaging Fee</p></td><td><p>Debit</p></td><td><p>Fee charges for the packaging process</p></td></tr><tr><td><p>Shipping Fee (Charged By 3P) - Cross Border</p></td><td><p>Debit</p></td><td><p>Delivery fee charges based on rate card</p></td></tr><tr><td><p>Return Delivery Fee</p></td><td><p>Debit</p></td><td><p>Delivery fee refund for returned items</p></td></tr><tr><td><p>FBL Storage Fee</p></td><td><p>Debit</p></td><td><p>Fee charges for the FBL Storage</p></td></tr><tr><td><p>FBL Handling Fee</p></td><td><p>Debit</p></td><td><p>Fee charges for the FBL Handling</p></td></tr><tr><td><p>Shipping Fee Voucher (by Lazada)</p></td><td><p>Credit</p></td><td><p>Lazada-sponsored shipping voucher</p></td></tr><tr><td><p>Pre-sale Deposit</p></td><td><p>Credit</p></td><td><p>Amount received from pre-sale deposit</p></td></tr><tr><td><p>Presale Deposit Reversal</p></td><td><p>Debit</p></td><td><p>Amount refunded from pre-sale deposit</p></td></tr></tbody></table>"
   ]
  }
 ],
 "metadata": {
  "kernelspec": {
   "display_name": "Python 3",
   "language": "python",
   "name": "python3"
  },
  "language_info": {
   "codemirror_mode": {
    "name": "ipython",
    "version": 3
   },
   "file_extension": ".py",
   "mimetype": "text/x-python",
   "name": "python",
   "nbconvert_exporter": "python",
   "pygments_lexer": "ipython3",
   "version": "3.7.3"
  },
  "latex_envs": {
   "LaTeX_envs_menu_present": true,
   "autoclose": false,
   "autocomplete": true,
   "bibliofile": "biblio.bib",
   "cite_by": "apalike",
   "current_citInitial": 1,
   "eqLabelWithNumbers": true,
   "eqNumInitial": 1,
   "hotkeys": {
    "equation": "Ctrl-E",
    "itemize": "Ctrl-I"
   },
   "labels_anchors": false,
   "latex_user_defs": false,
   "report_style_numbering": false,
   "user_envs_cfg": false
  },
  "toc": {
   "base_numbering": 1,
   "nav_menu": {},
   "number_sections": true,
   "sideBar": true,
   "skip_h1_title": false,
   "title_cell": "Table of Contents",
   "title_sidebar": "Contents",
   "toc_cell": false,
   "toc_position": {},
   "toc_section_display": true,
   "toc_window_display": false
  }
 },
 "nbformat": 4,
 "nbformat_minor": 2
}
