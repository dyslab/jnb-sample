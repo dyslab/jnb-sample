{
 "cells": [
  {
   "cell_type": "markdown",
   "metadata": {},
   "source": [
    "Doc title: **Cross-Border E-Business Platform Charges Report Series (Wish)**\n",
    "\n",
    "Article notes: This is a series of document files for introducing the charges of various cross-border e-business platform. It is targeting on going to be a proper preparation for running business on these e-platforms and fits for newbies.\n",
    "\n",
    "文章备注：介绍目前主要跨境电商平台的运营收费。本篇介绍Wish平台。\n",
    "\n",
    "Last modified date: 2019-08-02 03:02:08 "
   ]
  },
  {
   "cell_type": "markdown",
   "metadata": {},
   "source": [
    "# 平台简介 Brief Intro\n",
    "\n",
    "Wish平台以移动手机端电商业务为主，号称北美和欧洲最大的移动电商平台，按2019年报告显示，Wish在美国手机购物APP的下载量、使用量、销售额方面均排行前5。（排名前列的主要有：Amazon、ebay、Walmart、OfferUp、Wish，速卖通Aliexpress目前美国排名在8-10名之间）\n",
    "\n",
    "在站点方面，Wish采用和速卖通类似的全球覆盖模式，按照Wish首页数据，目前全球（主要是北美和欧洲）有大约3亿左右的Wish用户，报告中也显示目前每月至少打开一次Wish购物APP的Wish用户数量大约为9000万。"
   ]
  },
  {
   "cell_type": "markdown",
   "metadata": {},
   "source": [
    "# 费用介绍 Charges"
   ]
  },
  {
   "cell_type": "markdown",
   "metadata": {},
   "source": [
    "## 新注册店铺预缴注册费\n",
    "\n",
    "这是Wish自2018年10月1日起实施的一项制度。也就是说所有新入驻卖家须缴纳 `2000美元` 作为保证金。注册成功并达到一定条件，或者无违规行为的关闭账户后，会退回至卖家账户。\n",
    "\n",
    "实施此项制度的起因是因为Wish之前出现的质量问题和非活跃卖家数量过于庞大，因此在其说明中，这项新政策旨在确保新注册商户账户能为用户提供最优质的产品和服务。"
   ]
  },
  {
   "cell_type": "markdown",
   "metadata": {},
   "source": [
    "## 佣金 Commission Fees\n",
    "\n",
    "Wish收取佣金的方式被其称为“收入分成”（Revenue Share），即通过对销售订单的实际售价+运费（Wish上一般均为卖家包邮）按比例分配资金，其中Wish收取 `15%` 作为佣金。剩余部分作为卖家的实际收入（发生其他消费时也可能会被扣除费用）。\n",
    "\n",
    "![wish_commission_fees.png](wish_commission_fees.png)"
   ]
  },
  {
   "cell_type": "markdown",
   "metadata": {},
   "source": [
    "## 增值服务收费 Charges Of Value Added Service\n",
    "\n",
    "由于Wish平台前期除了缴纳保证金外，开设店铺和上架产品都无需费用。因此，Wish平台盈利主要通过收取交易佣金，以及提供增值服务来实现。（也有人说Wish的罚款也是其重要收入来源的一部分😅）\n",
    "\n",
    "在增值服务收费方面，Wish平台包括有以下几种方式：\n",
    "\n",
    "- 产品推广（ProductBoost，Wish平台的广告活动）\n",
    "\n",
    "- Wish邮（WishPost，Wish退出的跨境小包邮寄服务）\n",
    "\n",
    "- Wish Express（Wish仓本地快邮，由FBW实现，类似亚马逊的FBA）\n",
    "\n",
    "- FBW配送服务（Fulfullment By Wish）\n",
    "\n",
    "- EPC合并订单服务"
   ]
  },
  {
   "cell_type": "markdown",
   "metadata": {},
   "source": [
    "### 产品推广 ProductBoost (abbr. PB)\n",
    "\n",
    "Wish的产品推广（广告活动）与速卖通的直通车相似，与订单无关，采用独立充值、竞拍流量消费的模式进行。其中，**值得注意的是，Wish并非通过点击，而是通过流量（及浏览量）来进行收费。**在产品推广活动页面，所设置的竞价实为 `每1000流览量支付的价格`。\n",
    "\n",
    "![wish_pb_menu.png](wish_pb_menu.png)"
   ]
  },
  {
   "cell_type": "markdown",
   "metadata": {},
   "source": [
    "### Wish邮 WishPost （Wish平台国际物流小包唯一许可方式）\n",
    "\n",
    "Wish邮是Wish推出的跨境小包服务，其内容与跨境货代的业务相似，也可直接把它视为一个受Wish推荐和保障的跨境货代。\n",
    "\n",
    "在价格方面，其价格与其他普通跨境货代相近略高（因其他跨境货代常常会提供一定的优惠比例）。如美国路由，其价格费率目前是：\n",
    "\n",
    "Wish达\n",
    "\n",
    "![wish_post_rates_01.png](wish_post_rates_01.png)\n",
    "\n",
    "Wish邮-e邮宝\n",
    "\n",
    "![wish_post_rates_02.png](wish_post_rates_02.png)\n",
    "\n",
    "按发往美国，500g包裹计算，采用Wish达和Wish邮的测算费用如下：\n",
    "\n",
    "Wish达：68.6 × 0.5 + 16.6 = 50.9\n",
    "\n",
    "Wish邮-e邮宝：64 × 0.5 + 15 = 48\n",
    "\n",
    "一般跨境货代同路向价格优惠后，比上述价格便宜 5-10% 左右。\n",
    "\n",
    "**自2018年10月22日起，Wish邮已经成为了Wish平台上国际物流小包的唯一许可发货方式。** 详见以下截图：\n",
    "\n",
    "![wish_post_rates_03.png](wish_post_rates_03.png)"
   ]
  },
  {
   "cell_type": "markdown",
   "metadata": {},
   "source": [
    "### Wish Express\n",
    "\n",
    "Wish Express是wish推出的一个改进消费者体验的项目。参与Wish Express的商品将享受以下优惠条件：\n",
    "\n",
    "- 获得至多10倍的流量\n",
    "- 符合要求的产品有独特的Wish Express标志\n",
    "- 产品将展现在Wish Express专页，以及用户的搜索结果中\n",
    "- 更快的收款速度\n",
    "\n",
    "Wish Express项目中最主要的就是商品的妥投时效要求（见下图）。\n",
    "\n",
    "![wish_express_duration.png](wish_express_duration.png)\n",
    "\n",
    "如果Wish Express订单未在妥投时限后的5个工作日内由物流服务商确认妥投，那么此订单将失去回款资格（虽然有部分渠道可以免责，然而此类渠道的价格普遍高昂）。同时，Wish Express还有其他不少指标需要考核，一旦达不到就会受到罚款或终止资格的惩罚。\n",
    "\n",
    "所以，选择参与Wish Express项目的产品，一般而言，卖家均会选择参与FBW（Wish配送服务）海外仓项目。"
   ]
  },
  {
   "cell_type": "markdown",
   "metadata": {},
   "source": [
    "### FBW配送服务 Fulfullment By Wish\n",
    "\n",
    "FBW的操作方式与亚马逊的FBA操作方式基本雷同，即由卖家把货物配送到FBW仓库，然后FBW仓库将会负责订单的履行，包括拣货、打包以及配送。\n",
    "\n",
    "目前，FBW在美国和欧洲均设置了FBW仓库，卖家可以申请参与FBW US或FBW EU项目获批后，选择目的地仓库进行发货。\n",
    "\n",
    "由于FBW仓库的免费保管期只有90天，过了90天后，开始收取费用（FBW US仓库，如下图）。因此对于参与FBW的商品，wish提供了一份 [FBW-Wish物流选品指南](https://merchantfaq.wish.com/hc/zh-cn/articles/360009318353-FBW-Wish%E7%89%A9%E6%B5%81%E9%80%89%E5%93%81%E6%8C%87%E5%8D%97) 作为指导。\n",
    "\n",
    "![wish_fbw_us_01.png](wish_fbw_us_01.png)\n",
    "\n",
    "在订单处理和配送方面，参考价格如下（FBW US仓库，如下图）：\n",
    "\n",
    "![wish_fbw_us_02.png](wish_fbw_us_02.png)\n",
    "![wish_fbw_us_03.png](wish_fbw_us_03.png)\n",
    "\n",
    "测算示例：\n",
    "\n",
    "按照0.5kg（17.6盎司），体积0.003立方米的产品计算：\n",
    "\n",
    "头90天免费，存放超过90天后，91-180天内FBW每件产品每月开始收取费用0.1美元（亚马逊FBA为0.07美元左右），随后按存放时段逐步递增。\n",
    "\n",
    "配送费为：（超过16盎司按1磅计算） 4.87美元。（亚马逊FBA配送费为4.79美元）\n",
    "\n",
    "因此，可以看出，FBW与FBA整体费用相近。"
   ]
  },
  {
   "cell_type": "markdown",
   "metadata": {},
   "source": [
    "### EPC合并订单服务 Export Process Center Service\n",
    "\n",
    "Wish的EPC服务实则是针对中国卖家的一项专有服务，目的在于确保国外顾客获得更好的购物体验和物流保证。其实现方式为：卖家参加EPC计划后，如果买家同时订购了不同店铺的不同物品，所发的物品会被全部送到Wish上海EPC中心，打包后经由Wish邮渠道一次性发给买家。\n",
    "\n",
    "其优点在与价格优惠和加速放款。\n",
    "\n",
    "以下是Wish列出的美国EPC费用示例：\n",
    "![wish_epc_rates_01.png](wish_epc_rates_01.png)\n",
    "\n",
    "![wish_epc_rates_02.png](wish_epc_rates_02.png)"
   ]
  },
  {
   "cell_type": "markdown",
   "metadata": {},
   "source": [
    "# 定价测算 Pricing Estimation\n",
    "\n",
    "Wish的成本与费用包括：出厂成本，销售费，运费，广告费（如有设置的话）\n",
    "\n",
    "由于Wish平台限制，其订单运费主要为 Wish邮 或 FBW海外仓 发货产生。\n",
    "\n",
    "为方便比较，以下测算基于 **美国** 国内消费者订单，Wish邮国际物流小包模式发货："
   ]
  },
  {
   "cell_type": "code",
   "execution_count": 1,
   "metadata": {
    "ExecuteTime": {
     "end_time": "2019-08-01T18:22:53.603968Z",
     "start_time": "2019-08-01T18:22:53.600444Z"
    }
   },
   "outputs": [],
   "source": [
    "# 费用设置说明\n",
    "\n",
    "# 生产成本（人民币）\n",
    "RMB_COP = 20\n",
    "\n",
    "# 国内运费（人民币）\n",
    "RMB_DLC = 3\n",
    "\n",
    "# 跨境运费（以一对鞋平均约0.5kg计算），“Wish达”渠道\n",
    "RMB_CSB_SHIPPING = 68.6 * 0.5 + 16.6\n",
    "\n",
    "# 货币汇率（美元）\n",
    "USD_EXCHANGE_RATE = 6.5\n",
    "\n",
    "# 佣金费率\n",
    "CF_RATE = 0.15\n",
    "\n",
    "# 广告费均摊（不应用，以0计算）\n",
    "PBF_AVG = 0"
   ]
  },
  {
   "cell_type": "code",
   "execution_count": 2,
   "metadata": {
    "ExecuteTime": {
     "end_time": "2019-08-01T18:22:53.682161Z",
     "start_time": "2019-08-01T18:22:53.609480Z"
    },
    "scrolled": false
   },
   "outputs": [
    {
     "name": "stdout",
     "output_type": "stream",
     "text": [
      "计算结果如下：\n",
      "\n",
      "测算成本基础价：USD$13.38，约合人民币￥86.97。\n",
      "\n"
     ]
    }
   ],
   "source": [
    "# 成本价（零利润）计算\n",
    "# 公式： 成本基础价 = 生产成本 + 国内运费 + 跨境运费 + listing费用均摊 + 销售费 + 广告费\n",
    "\n",
    "print('计算结果如下：\\n')\n",
    "COST_USD = round(((RMB_COP + RMB_DLC + RMB_CSB_SHIPPING) / USD_EXCHANGE_RATE + PBF_AVG) / (1 - CF_RATE), 2)\n",
    "print('测算成本基础价：USD${:.2f}，约合人民币￥{:.2f}。\\n'.format(COST_USD, COST_USD * USD_EXCHANGE_RATE))"
   ]
  },
  {
   "cell_type": "markdown",
   "metadata": {},
   "source": [
    "如采用FBW方式发货，测算成本基础价如下："
   ]
  },
  {
   "cell_type": "code",
   "execution_count": 3,
   "metadata": {
    "ExecuteTime": {
     "end_time": "2019-08-01T18:22:53.747943Z",
     "start_time": "2019-08-01T18:22:53.684846Z"
    }
   },
   "outputs": [],
   "source": [
    "# 费用设置说明\n",
    "\n",
    "# 国内至FBW仓库运费均摊（人民币，参照目前发FBA仓库）\n",
    "RMB_DLC = 6\n",
    "\n",
    "# 三个月内售出，仓储费为0\n",
    "USD_SF = 0\n",
    "\n",
    "# 尾程运费（以一对鞋平均约0.5kg计算），FBW配送\n",
    "USD_FBW = 4.87"
   ]
  },
  {
   "cell_type": "code",
   "execution_count": 4,
   "metadata": {
    "ExecuteTime": {
     "end_time": "2019-08-01T18:22:53.843613Z",
     "start_time": "2019-08-01T18:22:53.750403Z"
    },
    "scrolled": false
   },
   "outputs": [
    {
     "name": "stdout",
     "output_type": "stream",
     "text": [
      "计算结果如下：\n",
      "\n",
      "测算成本基础价：USD$10.44，约合人民币￥67.86。比Wish邮自发货模式节省 USD$2.94。\n",
      "\n"
     ]
    }
   ],
   "source": [
    "# 成本价（零利润）计算\n",
    "# 公式： 成本基础价 = 生产成本 + 国内运费 + 跨境运费 + listing费用均摊 + 销售费 + 广告费\n",
    "\n",
    "print('计算结果如下：\\n')\n",
    "COST_FBW_USD = round(((RMB_COP + RMB_DLC) / USD_EXCHANGE_RATE + PBF_AVG + USD_SF + USD_FBW) / (1 - CF_RATE), 2)\n",
    "print('测算成本基础价：USD${:.2f}，约合人民币￥{:.2f}。比Wish邮自发货模式节省 USD${:.2f}。\\n'.format(COST_FBW_USD, COST_FBW_USD * USD_EXCHANGE_RATE, COST_USD - COST_FBW_USD))"
   ]
  },
  {
   "cell_type": "markdown",
   "metadata": {},
   "source": [
    "结论：\n",
    "\n",
    "可以看出，在运作良好的情况下，FBW模式是在Wish平台运营的最佳选择。"
   ]
  },
  {
   "cell_type": "markdown",
   "metadata": {},
   "source": [
    "<hr>"
   ]
  },
  {
   "cell_type": "markdown",
   "metadata": {},
   "source": [
    "# 几点想法 Thoughts Of Start"
   ]
  },
  {
   "cell_type": "markdown",
   "metadata": {},
   "source": [
    "（1）Wish由于引入了和亚马逊FBA相似的FBW，加上3个月的免费储存期，因此对于有信心做好的产品，是具有一定吸引力的。\n",
    "\n",
    "\n",
    "（2）在平台管理方面，由于之前出现过的质量控制问题，Wish在目前各电商平台中是属于管理较为严格的，限制、暂停账户和罚款的比例都比较高。建议入驻Wish前，必须认真阅读Wish平台政策。（参见附录链接“Wish卖家政策”）\n",
    "\n",
    "\n",
    "（3）由于以移动端为主，采用图片方式进行商品展示，Wish对选品和商品页面的图片设计都较为重视，新奇、时尚、独特的物品在Wish平台上销售较为有优势，另外须有比较好的设计团队进行支持。\n",
    "\n",
    "\n",
    "（4）Wish的FBW目前未见有多渠道配送服务，因此FBW仓库目前只为Wish服务，而且Wish平台是禁止同一产品换标重新上架的，否则将面临高额罚款。\n",
    "\n",
    "\n",
    "（5）客服方面，Wish自发货模式下客服、退货等工作均由卖家自行负责，FBW模式下订单履行由Wish负责。"
   ]
  },
  {
   "cell_type": "markdown",
   "metadata": {},
   "source": [
    "# 附录：参考链接 References Links\n",
    "\n",
    "\n",
    "\n",
    "- [Wish卖家官方网站](https://china-merchant.Wish.com/welcome)\n",
    "\n",
    "\n",
    "- [Wish卖家入驻通道](https://china-merchant.Wish.com/welcome-cn-join)\n",
    "\n",
    "\n",
    "- [Wish注册流程指导（中国地区适用）](https://merchantfaq.Wish.com/hc/zh-cn/articles/360002394134-%E6%B3%A8%E5%86%8C%E6%B5%81%E7%A8%8B%E6%8C%87%E5%AF%BC-%E4%B8%AD%E5%9B%BD%E5%9C%B0%E5%8C%BA%E9%80%82%E7%94%A8-)\n",
    "\n",
    "\n",
    "- [Wish卖家政策](https://china-merchant.Wish.com/policy/home)\n",
    "\n",
    "\n",
    "- [Wish邮官方网站](https://www.Wishpost.cn)"
   ]
  },
  {
   "cell_type": "markdown",
   "metadata": {},
   "source": [
    "[返回目录](e_biz_charges_report_catalog.ipynb)"
   ]
  }
 ],
 "metadata": {
  "kernelspec": {
   "display_name": "Python 3",
   "language": "python",
   "name": "python3"
  },
  "language_info": {
   "codemirror_mode": {
    "name": "ipython",
    "version": 3
   },
   "file_extension": ".py",
   "mimetype": "text/x-python",
   "name": "python",
   "nbconvert_exporter": "python",
   "pygments_lexer": "ipython3",
   "version": "3.7.3"
  },
  "latex_envs": {
   "LaTeX_envs_menu_present": true,
   "autoclose": false,
   "autocomplete": true,
   "bibliofile": "biblio.bib",
   "cite_by": "apalike",
   "current_citInitial": 1,
   "eqLabelWithNumbers": true,
   "eqNumInitial": 1,
   "hotkeys": {
    "equation": "Ctrl-E",
    "itemize": "Ctrl-I"
   },
   "labels_anchors": false,
   "latex_user_defs": false,
   "report_style_numbering": false,
   "user_envs_cfg": false
  },
  "toc": {
   "base_numbering": 1,
   "nav_menu": {},
   "number_sections": true,
   "sideBar": true,
   "skip_h1_title": false,
   "title_cell": "Table of Contents",
   "title_sidebar": "Contents",
   "toc_cell": false,
   "toc_position": {},
   "toc_section_display": true,
   "toc_window_display": false
  }
 },
 "nbformat": 4,
 "nbformat_minor": 2
}
