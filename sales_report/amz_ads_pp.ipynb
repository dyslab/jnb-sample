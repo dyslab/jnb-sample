{
 "cells": [
  {
   "cell_type": "markdown",
   "metadata": {},
   "source": [
    "Doc title: **Amazon Advertising Purchased Product Report**\n",
    "\n",
    "Article notes: Data came from 'Reports/Advertising Reports/Sponsored Products/Purchased Product Report' @Amazon Seller Central. Certain columns of the file which contained the product ASIN has been removed or replaced by SKU instead.\n",
    "\n",
    "文章备注：亚马逊后台广告产品报告分析。其中包含ASIN数据的一些列已从文件中删除或被替换为SKU。\n",
    "\n",
    "Last modified date: 2019-07-24 04:44:49 "
   ]
  },
  {
   "cell_type": "code",
   "execution_count": 1,
   "metadata": {
    "ExecuteTime": {
     "end_time": "2019-07-23T22:42:47.657950Z",
     "start_time": "2019-07-23T22:42:47.418644Z"
    }
   },
   "outputs": [],
   "source": [
    "# 引入pandas数据分析模块\n",
    "import pandas as pd\n",
    "\n",
    "# 数据范例：美国站，2019年6月份数据\n",
    "workdf = pd.read_excel('amz_ads_pp_us_201906.xlsx', usecols=['广告活动名称', '广告组名称', '广告SKU', '投放', '匹配类型', '已购买的SKU'])"
   ]
  },
  {
   "cell_type": "code",
   "execution_count": 2,
   "metadata": {
    "ExecuteTime": {
     "end_time": "2019-07-23T22:42:47.669405Z",
     "start_time": "2019-07-23T22:42:47.659927Z"
    }
   },
   "outputs": [],
   "source": [
    "# Manipulating data 'SKU' and 'Hit Rates'\n",
    "workdf['广告款式'] = workdf['广告SKU'].str.slice(0,6)\n",
    "workdf['购买款式'] = workdf['已购买的SKU'].str.slice(0,6)\n",
    "workdf['命中'] = (workdf['广告款式'] == workdf['购买款式'])"
   ]
  },
  {
   "cell_type": "markdown",
   "metadata": {
    "ExecuteTime": {
     "end_time": "2019-07-22T07:53:58.056238Z",
     "start_time": "2019-07-22T07:53:58.053564Z"
    }
   },
   "source": [
    "# 广告购买产品数据分析"
   ]
  },
  {
   "cell_type": "markdown",
   "metadata": {
    "ExecuteTime": {
     "end_time": "2019-07-22T07:53:58.056238Z",
     "start_time": "2019-07-22T07:53:58.053564Z"
    }
   },
   "source": [
    "## 广告产品命中率分析"
   ]
  },
  {
   "cell_type": "code",
   "execution_count": 3,
   "metadata": {
    "ExecuteTime": {
     "end_time": "2019-07-23T22:42:47.729859Z",
     "start_time": "2019-07-23T22:42:47.671277Z"
    }
   },
   "outputs": [
    {
     "name": "stdout",
     "output_type": "stream",
     "text": [
      "广告产品命中率分析\n",
      "\n",
      "- 客户最终购买产品与广告产品为同款的数量（命中）：492件。\n",
      "- 客户最终购买产品与其他款式的数量（不命中）：516件。\n",
      "\n",
      "结论：广告产品销售合计：1008件， 命中率：48.81%。\n"
     ]
    }
   ],
   "source": [
    "hit_df = workdf.groupby(['命中']).count()\n",
    "iyes = hit_df.at[False, '购买款式']\n",
    "ino = hit_df.at[True, '购买款式']\n",
    "icount = iyes + ino\n",
    "\n",
    "print('广告产品命中率分析\\n')\n",
    "print('- 客户最终购买产品与广告产品为同款的数量（命中）：{}件。'.format(iyes))\n",
    "print('- 客户最终购买产品与其他款式的数量（不命中）：{}件。'.format(ino))\n",
    "print('\\n结论：广告产品销售合计：{0}件， 命中率：{1:.2f}%。'.format(icount, iyes / icount * 100))"
   ]
  },
  {
   "cell_type": "markdown",
   "metadata": {
    "ExecuteTime": {
     "end_time": "2019-07-22T07:53:58.056238Z",
     "start_time": "2019-07-22T07:53:58.053564Z"
    }
   },
   "source": [
    "## 广告产品命中率分析（按广告产品款式）"
   ]
  },
  {
   "cell_type": "code",
   "execution_count": 4,
   "metadata": {
    "ExecuteTime": {
     "end_time": "2019-07-23T22:42:47.897406Z",
     "start_time": "2019-07-23T22:42:47.732242Z"
    }
   },
   "outputs": [
    {
     "data": {
      "text/html": [
       "<div>\n",
       "<style scoped>\n",
       "    .dataframe tbody tr th:only-of-type {\n",
       "        vertical-align: middle;\n",
       "    }\n",
       "\n",
       "    .dataframe tbody tr th {\n",
       "        vertical-align: top;\n",
       "    }\n",
       "\n",
       "    .dataframe thead th {\n",
       "        text-align: right;\n",
       "    }\n",
       "</style>\n",
       "<table border=\"1\" class=\"dataframe\">\n",
       "  <thead>\n",
       "    <tr style=\"text-align: right;\">\n",
       "      <th></th>\n",
       "      <th>销售总数</th>\n",
       "      <th>命中数</th>\n",
       "      <th>命中率</th>\n",
       "    </tr>\n",
       "    <tr>\n",
       "      <th>广告款式</th>\n",
       "      <th></th>\n",
       "      <th></th>\n",
       "      <th></th>\n",
       "    </tr>\n",
       "  </thead>\n",
       "  <tbody>\n",
       "    <tr>\n",
       "      <th>HM0747</th>\n",
       "      <td>2</td>\n",
       "      <td>2</td>\n",
       "      <td>100.00</td>\n",
       "    </tr>\n",
       "    <tr>\n",
       "      <th>HM0805</th>\n",
       "      <td>1</td>\n",
       "      <td>1</td>\n",
       "      <td>100.00</td>\n",
       "    </tr>\n",
       "    <tr>\n",
       "      <th>HM0748</th>\n",
       "      <td>2</td>\n",
       "      <td>2</td>\n",
       "      <td>100.00</td>\n",
       "    </tr>\n",
       "    <tr>\n",
       "      <th>HM0903</th>\n",
       "      <td>8</td>\n",
       "      <td>7</td>\n",
       "      <td>87.50</td>\n",
       "    </tr>\n",
       "    <tr>\n",
       "      <th>HM0801</th>\n",
       "      <td>11</td>\n",
       "      <td>9</td>\n",
       "      <td>81.82</td>\n",
       "    </tr>\n",
       "    <tr>\n",
       "      <th>HM0701</th>\n",
       "      <td>214</td>\n",
       "      <td>163</td>\n",
       "      <td>76.17</td>\n",
       "    </tr>\n",
       "    <tr>\n",
       "      <th>HM0709</th>\n",
       "      <td>7</td>\n",
       "      <td>5</td>\n",
       "      <td>71.43</td>\n",
       "    </tr>\n",
       "    <tr>\n",
       "      <th>HM0731</th>\n",
       "      <td>142</td>\n",
       "      <td>94</td>\n",
       "      <td>66.20</td>\n",
       "    </tr>\n",
       "    <tr>\n",
       "      <th>HM0722</th>\n",
       "      <td>138</td>\n",
       "      <td>90</td>\n",
       "      <td>65.22</td>\n",
       "    </tr>\n",
       "    <tr>\n",
       "      <th>HM0803</th>\n",
       "      <td>22</td>\n",
       "      <td>13</td>\n",
       "      <td>59.09</td>\n",
       "    </tr>\n",
       "    <tr>\n",
       "      <th>HM0738</th>\n",
       "      <td>85</td>\n",
       "      <td>40</td>\n",
       "      <td>47.06</td>\n",
       "    </tr>\n",
       "    <tr>\n",
       "      <th>HM0725</th>\n",
       "      <td>13</td>\n",
       "      <td>6</td>\n",
       "      <td>46.15</td>\n",
       "    </tr>\n",
       "    <tr>\n",
       "      <th>HM0719</th>\n",
       "      <td>16</td>\n",
       "      <td>7</td>\n",
       "      <td>43.75</td>\n",
       "    </tr>\n",
       "    <tr>\n",
       "      <th>HM0724</th>\n",
       "      <td>72</td>\n",
       "      <td>27</td>\n",
       "      <td>37.50</td>\n",
       "    </tr>\n",
       "    <tr>\n",
       "      <th>HM0742</th>\n",
       "      <td>35</td>\n",
       "      <td>13</td>\n",
       "      <td>37.14</td>\n",
       "    </tr>\n",
       "    <tr>\n",
       "      <th>HM0744</th>\n",
       "      <td>3</td>\n",
       "      <td>1</td>\n",
       "      <td>33.33</td>\n",
       "    </tr>\n",
       "    <tr>\n",
       "      <th>HM0739</th>\n",
       "      <td>27</td>\n",
       "      <td>7</td>\n",
       "      <td>25.93</td>\n",
       "    </tr>\n",
       "    <tr>\n",
       "      <th>HM0720</th>\n",
       "      <td>4</td>\n",
       "      <td>1</td>\n",
       "      <td>25.00</td>\n",
       "    </tr>\n",
       "    <tr>\n",
       "      <th>HM0733</th>\n",
       "      <td>4</td>\n",
       "      <td>1</td>\n",
       "      <td>25.00</td>\n",
       "    </tr>\n",
       "    <tr>\n",
       "      <th>HM0714</th>\n",
       "      <td>4</td>\n",
       "      <td>1</td>\n",
       "      <td>25.00</td>\n",
       "    </tr>\n",
       "    <tr>\n",
       "      <th>HM0727</th>\n",
       "      <td>4</td>\n",
       "      <td>1</td>\n",
       "      <td>25.00</td>\n",
       "    </tr>\n",
       "    <tr>\n",
       "      <th>HM0734</th>\n",
       "      <td>4</td>\n",
       "      <td>1</td>\n",
       "      <td>25.00</td>\n",
       "    </tr>\n",
       "    <tr>\n",
       "      <th>HM0729</th>\n",
       "      <td>35</td>\n",
       "      <td>7</td>\n",
       "      <td>20.00</td>\n",
       "    </tr>\n",
       "    <tr>\n",
       "      <th>HM0740</th>\n",
       "      <td>26</td>\n",
       "      <td>5</td>\n",
       "      <td>19.23</td>\n",
       "    </tr>\n",
       "    <tr>\n",
       "      <th>HM0737</th>\n",
       "      <td>28</td>\n",
       "      <td>5</td>\n",
       "      <td>17.86</td>\n",
       "    </tr>\n",
       "    <tr>\n",
       "      <th>HM0706</th>\n",
       "      <td>41</td>\n",
       "      <td>7</td>\n",
       "      <td>17.07</td>\n",
       "    </tr>\n",
       "  </tbody>\n",
       "</table>\n",
       "</div>"
      ],
      "text/plain": [
       "        销售总数  命中数     命中率\n",
       "广告款式                     \n",
       "HM0747     2    2  100.00\n",
       "HM0805     1    1  100.00\n",
       "HM0748     2    2  100.00\n",
       "HM0903     8    7   87.50\n",
       "HM0801    11    9   81.82\n",
       "HM0701   214  163   76.17\n",
       "HM0709     7    5   71.43\n",
       "HM0731   142   94   66.20\n",
       "HM0722   138   90   65.22\n",
       "HM0803    22   13   59.09\n",
       "HM0738    85   40   47.06\n",
       "HM0725    13    6   46.15\n",
       "HM0719    16    7   43.75\n",
       "HM0724    72   27   37.50\n",
       "HM0742    35   13   37.14\n",
       "HM0744     3    1   33.33\n",
       "HM0739    27    7   25.93\n",
       "HM0720     4    1   25.00\n",
       "HM0733     4    1   25.00\n",
       "HM0714     4    1   25.00\n",
       "HM0727     4    1   25.00\n",
       "HM0734     4    1   25.00\n",
       "HM0729    35    7   20.00\n",
       "HM0740    26    5   19.23\n",
       "HM0737    28    5   17.86\n",
       "HM0706    41    7   17.07"
      ]
     },
     "execution_count": 4,
     "metadata": {},
     "output_type": "execute_result"
    }
   ],
   "source": [
    "hit_count_df = workdf.groupby(['广告款式']).count()\n",
    "hit_count_df = hit_count_df[['广告SKU']]\n",
    "hit_count_df['销售总数'] = hit_count_df['广告SKU']\n",
    "hit_count_df = hit_count_df[['销售总数']]\n",
    "\n",
    "hit_true_df = workdf.sort_values(by=['广告款式']).groupby(['广告款式', '命中']).count()\n",
    "hit_true_df = hit_true_df[['广告SKU']].xs(True, level='命中')\n",
    "hit_true_df['命中数'] = hit_true_df['广告SKU']\n",
    "hit_true_df = hit_true_df[['命中数']]\n",
    "\n",
    "hit_df = hit_count_df.merge(hit_true_df, left_on='广告款式', right_on='广告款式')\n",
    "hit_df['命中率'] = round(hit_df['命中数'] / hit_df['销售总数'] * 100, 2)\n",
    "\n",
    "hit_df.sort_values(by=['命中率'], ascending = False)"
   ]
  },
  {
   "cell_type": "markdown",
   "metadata": {},
   "source": [
    "此表解决的问题为：\n",
    "\n",
    "- 计算各广告款式的命中率。（命中率由高到低排序）"
   ]
  },
  {
   "cell_type": "markdown",
   "metadata": {},
   "source": [
    "**[返回目录](amz_ads_links.ipynb)**"
   ]
  }
 ],
 "metadata": {
  "kernelspec": {
   "display_name": "Python 3",
   "language": "python",
   "name": "python3"
  },
  "language_info": {
   "codemirror_mode": {
    "name": "ipython",
    "version": 3
   },
   "file_extension": ".py",
   "mimetype": "text/x-python",
   "name": "python",
   "nbconvert_exporter": "python",
   "pygments_lexer": "ipython3",
   "version": "3.7.3"
  },
  "latex_envs": {
   "LaTeX_envs_menu_present": true,
   "autoclose": false,
   "autocomplete": true,
   "bibliofile": "biblio.bib",
   "cite_by": "apalike",
   "current_citInitial": 1,
   "eqLabelWithNumbers": true,
   "eqNumInitial": 1,
   "hotkeys": {
    "equation": "Ctrl-E",
    "itemize": "Ctrl-I"
   },
   "labels_anchors": false,
   "latex_user_defs": false,
   "report_style_numbering": false,
   "user_envs_cfg": false
  },
  "toc": {
   "base_numbering": 1,
   "nav_menu": {},
   "number_sections": true,
   "sideBar": true,
   "skip_h1_title": false,
   "title_cell": "Table of Contents",
   "title_sidebar": "Contents",
   "toc_cell": false,
   "toc_position": {},
   "toc_section_display": true,
   "toc_window_display": false
  }
 },
 "nbformat": 4,
 "nbformat_minor": 2
}
