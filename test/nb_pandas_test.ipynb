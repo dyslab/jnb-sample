{
 "cells": [
  {
   "cell_type": "code",
   "execution_count": 1,
   "metadata": {
    "ExecuteTime": {
     "end_time": "2019-06-13T00:05:39.904052Z",
     "start_time": "2019-06-13T00:05:39.722888Z"
    }
   },
   "outputs": [],
   "source": [
    "import datetime\n",
    "import pandas as pd\n",
    "import numpy as np\n",
    "import matplotlib.pyplot as plt"
   ]
  },
  {
   "cell_type": "markdown",
   "metadata": {},
   "source": [
    "## Basic"
   ]
  },
  {
   "cell_type": "code",
   "execution_count": 2,
   "metadata": {
    "ExecuteTime": {
     "end_time": "2019-06-13T00:05:39.913627Z",
     "start_time": "2019-06-13T00:05:39.906000Z"
    }
   },
   "outputs": [
    {
     "data": {
      "text/plain": [
       "0       Hello\n",
       "1       World\n",
       "2    Greeting\n",
       "3          你好\n",
       "4        2019\n",
       "dtype: object"
      ]
     },
     "execution_count": 2,
     "metadata": {},
     "output_type": "execute_result"
    }
   ],
   "source": [
    "pd.Series(['Hello', 'World', 'Greeting', '你好', 2019])"
   ]
  },
  {
   "cell_type": "markdown",
   "metadata": {},
   "source": [
    "## DataFrame Sample 1"
   ]
  },
  {
   "cell_type": "code",
   "execution_count": 3,
   "metadata": {
    "ExecuteTime": {
     "end_time": "2019-06-13T00:05:40.035831Z",
     "start_time": "2019-06-13T00:05:39.915419Z"
    },
    "scrolled": true
   },
   "outputs": [
    {
     "data": {
      "text/plain": [
       "DatetimeIndex(['2019-06-13', '2019-06-14', '2019-06-15', '2019-06-16',\n",
       "               '2019-06-17', '2019-06-18', '2019-06-19'],\n",
       "              dtype='datetime64[ns]', freq='D')"
      ]
     },
     "execution_count": 3,
     "metadata": {},
     "output_type": "execute_result"
    }
   ],
   "source": [
    "weekdays = pd.date_range(datetime.date.today(), periods = 7)\n",
    "weekdays"
   ]
  },
  {
   "cell_type": "code",
   "execution_count": 4,
   "metadata": {
    "ExecuteTime": {
     "end_time": "2019-06-13T00:05:40.101964Z",
     "start_time": "2019-06-13T00:05:40.037980Z"
    }
   },
   "outputs": [
    {
     "data": {
      "text/html": [
       "<div>\n",
       "<style scoped>\n",
       "    .dataframe tbody tr th:only-of-type {\n",
       "        vertical-align: middle;\n",
       "    }\n",
       "\n",
       "    .dataframe tbody tr th {\n",
       "        vertical-align: top;\n",
       "    }\n",
       "\n",
       "    .dataframe thead th {\n",
       "        text-align: right;\n",
       "    }\n",
       "</style>\n",
       "<table border=\"1\" class=\"dataframe\">\n",
       "  <thead>\n",
       "    <tr style=\"text-align: right;\">\n",
       "      <th></th>\n",
       "      <th>张老板</th>\n",
       "      <th>黄老板</th>\n",
       "      <th>林老板</th>\n",
       "    </tr>\n",
       "  </thead>\n",
       "  <tbody>\n",
       "    <tr>\n",
       "      <th>2019-06-13</th>\n",
       "      <td>81</td>\n",
       "      <td>49</td>\n",
       "      <td>44</td>\n",
       "    </tr>\n",
       "    <tr>\n",
       "      <th>2019-06-14</th>\n",
       "      <td>99</td>\n",
       "      <td>74</td>\n",
       "      <td>99</td>\n",
       "    </tr>\n",
       "    <tr>\n",
       "      <th>2019-06-15</th>\n",
       "      <td>57</td>\n",
       "      <td>30</td>\n",
       "      <td>7</td>\n",
       "    </tr>\n",
       "    <tr>\n",
       "      <th>2019-06-16</th>\n",
       "      <td>18</td>\n",
       "      <td>7</td>\n",
       "      <td>41</td>\n",
       "    </tr>\n",
       "    <tr>\n",
       "      <th>2019-06-17</th>\n",
       "      <td>80</td>\n",
       "      <td>95</td>\n",
       "      <td>80</td>\n",
       "    </tr>\n",
       "    <tr>\n",
       "      <th>2019-06-18</th>\n",
       "      <td>52</td>\n",
       "      <td>7</td>\n",
       "      <td>1</td>\n",
       "    </tr>\n",
       "    <tr>\n",
       "      <th>2019-06-19</th>\n",
       "      <td>9</td>\n",
       "      <td>95</td>\n",
       "      <td>9</td>\n",
       "    </tr>\n",
       "  </tbody>\n",
       "</table>\n",
       "</div>"
      ],
      "text/plain": [
       "            张老板  黄老板  林老板\n",
       "2019-06-13   81   49   44\n",
       "2019-06-14   99   74   99\n",
       "2019-06-15   57   30    7\n",
       "2019-06-16   18    7   41\n",
       "2019-06-17   80   95   80\n",
       "2019-06-18   52    7    1\n",
       "2019-06-19    9   95    9"
      ]
     },
     "execution_count": 4,
     "metadata": {},
     "output_type": "execute_result"
    }
   ],
   "source": [
    "# dir(np.random)\n",
    "\n",
    "w1 = pd.DataFrame(np.random.randint(1, 100, size=(7,3)), index=weekdays, columns=['张老板', '黄老板', '林老板'])\n",
    "w1"
   ]
  },
  {
   "cell_type": "code",
   "execution_count": 5,
   "metadata": {
    "ExecuteTime": {
     "end_time": "2019-06-13T00:05:40.165506Z",
     "start_time": "2019-06-13T00:05:40.103870Z"
    }
   },
   "outputs": [
    {
     "data": {
      "text/html": [
       "<div>\n",
       "<style scoped>\n",
       "    .dataframe tbody tr th:only-of-type {\n",
       "        vertical-align: middle;\n",
       "    }\n",
       "\n",
       "    .dataframe tbody tr th {\n",
       "        vertical-align: top;\n",
       "    }\n",
       "\n",
       "    .dataframe thead th {\n",
       "        text-align: right;\n",
       "    }\n",
       "</style>\n",
       "<table border=\"1\" class=\"dataframe\">\n",
       "  <thead>\n",
       "    <tr style=\"text-align: right;\">\n",
       "      <th></th>\n",
       "      <th>张老板</th>\n",
       "      <th>黄老板</th>\n",
       "      <th>林老板</th>\n",
       "    </tr>\n",
       "  </thead>\n",
       "  <tbody>\n",
       "    <tr>\n",
       "      <th>2019-06-13</th>\n",
       "      <td>81</td>\n",
       "      <td>49</td>\n",
       "      <td>44</td>\n",
       "    </tr>\n",
       "    <tr>\n",
       "      <th>2019-06-14</th>\n",
       "      <td>99</td>\n",
       "      <td>74</td>\n",
       "      <td>99</td>\n",
       "    </tr>\n",
       "    <tr>\n",
       "      <th>2019-06-15</th>\n",
       "      <td>57</td>\n",
       "      <td>30</td>\n",
       "      <td>7</td>\n",
       "    </tr>\n",
       "  </tbody>\n",
       "</table>\n",
       "</div>"
      ],
      "text/plain": [
       "            张老板  黄老板  林老板\n",
       "2019-06-13   81   49   44\n",
       "2019-06-14   99   74   99\n",
       "2019-06-15   57   30    7"
      ]
     },
     "execution_count": 5,
     "metadata": {},
     "output_type": "execute_result"
    }
   ],
   "source": [
    "w1['2019-6-13':'2019-06-15']"
   ]
  },
  {
   "cell_type": "code",
   "execution_count": 6,
   "metadata": {
    "ExecuteTime": {
     "end_time": "2019-06-13T00:05:40.223274Z",
     "start_time": "2019-06-13T00:05:40.166916Z"
    }
   },
   "outputs": [
    {
     "data": {
      "text/plain": [
       "张老板    56.571429\n",
       "黄老板    51.000000\n",
       "林老板    40.142857\n",
       "dtype: float64"
      ]
     },
     "execution_count": 6,
     "metadata": {},
     "output_type": "execute_result"
    }
   ],
   "source": [
    "w1.mean()"
   ]
  },
  {
   "cell_type": "code",
   "execution_count": 7,
   "metadata": {
    "ExecuteTime": {
     "end_time": "2019-06-13T00:05:40.284480Z",
     "start_time": "2019-06-13T00:05:40.225058Z"
    }
   },
   "outputs": [
    {
     "data": {
      "text/plain": [
       "2019-06-13    58.000000\n",
       "2019-06-14    90.666667\n",
       "2019-06-15    31.333333\n",
       "2019-06-16    22.000000\n",
       "2019-06-17    85.000000\n",
       "2019-06-18    20.000000\n",
       "2019-06-19    37.666667\n",
       "Freq: D, dtype: float64"
      ]
     },
     "execution_count": 7,
     "metadata": {},
     "output_type": "execute_result"
    }
   ],
   "source": [
    "w1.mean(1)"
   ]
  },
  {
   "cell_type": "code",
   "execution_count": 8,
   "metadata": {
    "ExecuteTime": {
     "end_time": "2019-06-13T00:05:40.342589Z",
     "start_time": "2019-06-13T00:05:40.287651Z"
    }
   },
   "outputs": [
    {
     "data": {
      "text/plain": [
       "张老板    54.0\n",
       "黄老板    51.0\n",
       "林老板    50.0\n",
       "dtype: float64"
      ]
     },
     "execution_count": 8,
     "metadata": {},
     "output_type": "execute_result"
    }
   ],
   "source": [
    "w1.apply(lambda x: (x.max() + x.min())/2 )"
   ]
  },
  {
   "cell_type": "code",
   "execution_count": 9,
   "metadata": {
    "ExecuteTime": {
     "end_time": "2019-06-13T00:05:40.405025Z",
     "start_time": "2019-06-13T00:05:40.344038Z"
    }
   },
   "outputs": [
    {
     "data": {
      "text/html": [
       "<div>\n",
       "<style scoped>\n",
       "    .dataframe tbody tr th:only-of-type {\n",
       "        vertical-align: middle;\n",
       "    }\n",
       "\n",
       "    .dataframe tbody tr th {\n",
       "        vertical-align: top;\n",
       "    }\n",
       "\n",
       "    .dataframe thead th {\n",
       "        text-align: right;\n",
       "    }\n",
       "</style>\n",
       "<table border=\"1\" class=\"dataframe\">\n",
       "  <thead>\n",
       "    <tr style=\"text-align: right;\">\n",
       "      <th></th>\n",
       "      <th>张老板</th>\n",
       "      <th>黄老板</th>\n",
       "      <th>林老板</th>\n",
       "    </tr>\n",
       "  </thead>\n",
       "  <tbody>\n",
       "    <tr>\n",
       "      <th>2019-06-13</th>\n",
       "      <td>81</td>\n",
       "      <td>49</td>\n",
       "      <td>44</td>\n",
       "    </tr>\n",
       "    <tr>\n",
       "      <th>2019-06-16</th>\n",
       "      <td>18</td>\n",
       "      <td>7</td>\n",
       "      <td>41</td>\n",
       "    </tr>\n",
       "    <tr>\n",
       "      <th>2019-06-17</th>\n",
       "      <td>80</td>\n",
       "      <td>95</td>\n",
       "      <td>80</td>\n",
       "    </tr>\n",
       "  </tbody>\n",
       "</table>\n",
       "</div>"
      ],
      "text/plain": [
       "            张老板  黄老板  林老板\n",
       "2019-06-13   81   49   44\n",
       "2019-06-16   18    7   41\n",
       "2019-06-17   80   95   80"
      ]
     },
     "execution_count": 9,
     "metadata": {},
     "output_type": "execute_result"
    }
   ],
   "source": [
    "pd.concat([w1[0:1],  w1[3:5]])"
   ]
  },
  {
   "cell_type": "markdown",
   "metadata": {},
   "source": [
    "## DataFrame Sample 2"
   ]
  },
  {
   "cell_type": "code",
   "execution_count": 10,
   "metadata": {
    "ExecuteTime": {
     "end_time": "2019-06-13T00:05:40.470303Z",
     "start_time": "2019-06-13T00:05:40.406733Z"
    }
   },
   "outputs": [
    {
     "data": {
      "text/html": [
       "<div>\n",
       "<style scoped>\n",
       "    .dataframe tbody tr th:only-of-type {\n",
       "        vertical-align: middle;\n",
       "    }\n",
       "\n",
       "    .dataframe tbody tr th {\n",
       "        vertical-align: top;\n",
       "    }\n",
       "\n",
       "    .dataframe thead th {\n",
       "        text-align: right;\n",
       "    }\n",
       "</style>\n",
       "<table border=\"1\" class=\"dataframe\">\n",
       "  <thead>\n",
       "    <tr style=\"text-align: right;\">\n",
       "      <th></th>\n",
       "      <th>UID</th>\n",
       "      <th>名称</th>\n",
       "      <th>销量</th>\n",
       "      <th>统计日期</th>\n",
       "    </tr>\n",
       "  </thead>\n",
       "  <tbody>\n",
       "    <tr>\n",
       "      <th>0</th>\n",
       "      <td>44024583443</td>\n",
       "      <td>波音飞机</td>\n",
       "      <td>181</td>\n",
       "      <td>2019-06-13 08:05:40.462350</td>\n",
       "    </tr>\n",
       "    <tr>\n",
       "      <th>1</th>\n",
       "      <td>44024543422</td>\n",
       "      <td>红双喜</td>\n",
       "      <td>2214</td>\n",
       "      <td>2019-06-13 08:05:40.462356</td>\n",
       "    </tr>\n",
       "    <tr>\n",
       "      <th>2</th>\n",
       "      <td>44024598721</td>\n",
       "      <td>HM汽车</td>\n",
       "      <td>1235</td>\n",
       "      <td>2019-06-13 08:05:40.462356</td>\n",
       "    </tr>\n",
       "  </tbody>\n",
       "</table>\n",
       "</div>"
      ],
      "text/plain": [
       "           UID    名称    销量                       统计日期\n",
       "0  44024583443  波音飞机   181 2019-06-13 08:05:40.462350\n",
       "1  44024543422   红双喜  2214 2019-06-13 08:05:40.462356\n",
       "2  44024598721  HM汽车  1235 2019-06-13 08:05:40.462356"
      ]
     },
     "execution_count": 10,
     "metadata": {},
     "output_type": "execute_result"
    }
   ],
   "source": [
    "mydf = pd.DataFrame(\n",
    "    {\n",
    "        'UID': ['44024583443', '44024543422', '44024598721'],\n",
    "        '名称': ['波音飞机', '红双喜', 'HM汽车'],\n",
    "        '销量': [181, 2214, 1235],\n",
    "        '统计日期': [datetime.datetime.now(), datetime.datetime.now(), datetime.datetime.now()]\n",
    "    }\n",
    ")\n",
    "mydf"
   ]
  },
  {
   "cell_type": "code",
   "execution_count": 11,
   "metadata": {
    "ExecuteTime": {
     "end_time": "2019-06-13T00:05:40.557646Z",
     "start_time": "2019-06-13T00:05:40.472084Z"
    }
   },
   "outputs": [
    {
     "data": {
      "text/plain": [
       "0    波音飞机\n",
       "1     红双喜\n",
       "2    HM汽车\n",
       "Name: 名称, dtype: object"
      ]
     },
     "execution_count": 11,
     "metadata": {},
     "output_type": "execute_result"
    }
   ],
   "source": [
    "mydf['名称']"
   ]
  },
  {
   "cell_type": "code",
   "execution_count": 12,
   "metadata": {
    "ExecuteTime": {
     "end_time": "2019-06-13T00:05:40.616128Z",
     "start_time": "2019-06-13T00:05:40.559117Z"
    }
   },
   "outputs": [
    {
     "data": {
      "text/plain": [
       "UID                    44024543422\n",
       "名称                             红双喜\n",
       "销量                            2214\n",
       "统计日期    2019-06-13 08:05:40.462356\n",
       "Name: 1, dtype: object"
      ]
     },
     "execution_count": 12,
     "metadata": {},
     "output_type": "execute_result"
    }
   ],
   "source": [
    "mydf.iloc[1]"
   ]
  },
  {
   "cell_type": "code",
   "execution_count": 13,
   "metadata": {
    "ExecuteTime": {
     "end_time": "2019-06-13T00:05:40.685012Z",
     "start_time": "2019-06-13T00:05:40.617571Z"
    }
   },
   "outputs": [
    {
     "data": {
      "text/html": [
       "<div>\n",
       "<style scoped>\n",
       "    .dataframe tbody tr th:only-of-type {\n",
       "        vertical-align: middle;\n",
       "    }\n",
       "\n",
       "    .dataframe tbody tr th {\n",
       "        vertical-align: top;\n",
       "    }\n",
       "\n",
       "    .dataframe thead th {\n",
       "        text-align: right;\n",
       "    }\n",
       "</style>\n",
       "<table border=\"1\" class=\"dataframe\">\n",
       "  <thead>\n",
       "    <tr style=\"text-align: right;\">\n",
       "      <th></th>\n",
       "      <th>统计日期</th>\n",
       "      <th>名称</th>\n",
       "      <th>销量</th>\n",
       "    </tr>\n",
       "  </thead>\n",
       "  <tbody>\n",
       "    <tr>\n",
       "      <th>1</th>\n",
       "      <td>2019-06-13 08:05:40.462356</td>\n",
       "      <td>红双喜</td>\n",
       "      <td>2214</td>\n",
       "    </tr>\n",
       "    <tr>\n",
       "      <th>2</th>\n",
       "      <td>2019-06-13 08:05:40.462356</td>\n",
       "      <td>HM汽车</td>\n",
       "      <td>1235</td>\n",
       "    </tr>\n",
       "  </tbody>\n",
       "</table>\n",
       "</div>"
      ],
      "text/plain": [
       "                        统计日期    名称    销量\n",
       "1 2019-06-13 08:05:40.462356   红双喜  2214\n",
       "2 2019-06-13 08:05:40.462356  HM汽车  1235"
      ]
     },
     "execution_count": 13,
     "metadata": {},
     "output_type": "execute_result"
    }
   ],
   "source": [
    "mydf.iloc[1:3, [3,1,2]]"
   ]
  },
  {
   "cell_type": "code",
   "execution_count": 14,
   "metadata": {
    "ExecuteTime": {
     "end_time": "2019-06-13T00:05:40.751119Z",
     "start_time": "2019-06-13T00:05:40.688391Z"
    }
   },
   "outputs": [
    {
     "data": {
      "text/html": [
       "<div>\n",
       "<style scoped>\n",
       "    .dataframe tbody tr th:only-of-type {\n",
       "        vertical-align: middle;\n",
       "    }\n",
       "\n",
       "    .dataframe tbody tr th {\n",
       "        vertical-align: top;\n",
       "    }\n",
       "\n",
       "    .dataframe thead th {\n",
       "        text-align: right;\n",
       "    }\n",
       "</style>\n",
       "<table border=\"1\" class=\"dataframe\">\n",
       "  <thead>\n",
       "    <tr style=\"text-align: right;\">\n",
       "      <th></th>\n",
       "      <th>UID</th>\n",
       "      <th>名称</th>\n",
       "      <th>销量</th>\n",
       "      <th>统计日期</th>\n",
       "    </tr>\n",
       "  </thead>\n",
       "  <tbody>\n",
       "    <tr>\n",
       "      <th>0</th>\n",
       "      <td>44024583443</td>\n",
       "      <td>波音飞机</td>\n",
       "      <td>181</td>\n",
       "      <td>2019-06-13 08:05:40.462350</td>\n",
       "    </tr>\n",
       "  </tbody>\n",
       "</table>\n",
       "</div>"
      ],
      "text/plain": [
       "           UID    名称   销量                       统计日期\n",
       "0  44024583443  波音飞机  181 2019-06-13 08:05:40.462350"
      ]
     },
     "execution_count": 14,
     "metadata": {},
     "output_type": "execute_result"
    }
   ],
   "source": [
    "mydf[mydf.销量<1000]"
   ]
  },
  {
   "cell_type": "code",
   "execution_count": 15,
   "metadata": {
    "ExecuteTime": {
     "end_time": "2019-06-13T00:05:40.826120Z",
     "start_time": "2019-06-13T00:05:40.752823Z"
    }
   },
   "outputs": [
    {
     "data": {
      "text/html": [
       "<div>\n",
       "<style scoped>\n",
       "    .dataframe tbody tr th:only-of-type {\n",
       "        vertical-align: middle;\n",
       "    }\n",
       "\n",
       "    .dataframe tbody tr th {\n",
       "        vertical-align: top;\n",
       "    }\n",
       "\n",
       "    .dataframe thead th {\n",
       "        text-align: right;\n",
       "    }\n",
       "</style>\n",
       "<table border=\"1\" class=\"dataframe\">\n",
       "  <thead>\n",
       "    <tr style=\"text-align: right;\">\n",
       "      <th></th>\n",
       "      <th>0</th>\n",
       "      <th>1</th>\n",
       "      <th>2</th>\n",
       "    </tr>\n",
       "  </thead>\n",
       "  <tbody>\n",
       "    <tr>\n",
       "      <th>UID</th>\n",
       "      <td>44024583443</td>\n",
       "      <td>44024543422</td>\n",
       "      <td>44024598721</td>\n",
       "    </tr>\n",
       "    <tr>\n",
       "      <th>名称</th>\n",
       "      <td>波音飞机</td>\n",
       "      <td>红双喜</td>\n",
       "      <td>HM汽车</td>\n",
       "    </tr>\n",
       "    <tr>\n",
       "      <th>销量</th>\n",
       "      <td>181</td>\n",
       "      <td>2214</td>\n",
       "      <td>1235</td>\n",
       "    </tr>\n",
       "    <tr>\n",
       "      <th>统计日期</th>\n",
       "      <td>2019-06-13 08:05:40.462350</td>\n",
       "      <td>2019-06-13 08:05:40.462356</td>\n",
       "      <td>2019-06-13 08:05:40.462356</td>\n",
       "    </tr>\n",
       "  </tbody>\n",
       "</table>\n",
       "</div>"
      ],
      "text/plain": [
       "                               0                           1  \\\n",
       "UID                  44024583443                 44024543422   \n",
       "名称                          波音飞机                         红双喜   \n",
       "销量                           181                        2214   \n",
       "统计日期  2019-06-13 08:05:40.462350  2019-06-13 08:05:40.462356   \n",
       "\n",
       "                               2  \n",
       "UID                  44024598721  \n",
       "名称                          HM汽车  \n",
       "销量                          1235  \n",
       "统计日期  2019-06-13 08:05:40.462356  "
      ]
     },
     "execution_count": 15,
     "metadata": {},
     "output_type": "execute_result"
    }
   ],
   "source": [
    "mydf.T"
   ]
  },
  {
   "cell_type": "code",
   "execution_count": 16,
   "metadata": {
    "ExecuteTime": {
     "end_time": "2019-06-13T00:05:40.890356Z",
     "start_time": "2019-06-13T00:05:40.829546Z"
    }
   },
   "outputs": [
    {
     "data": {
      "text/html": [
       "<div>\n",
       "<style scoped>\n",
       "    .dataframe tbody tr th:only-of-type {\n",
       "        vertical-align: middle;\n",
       "    }\n",
       "\n",
       "    .dataframe tbody tr th {\n",
       "        vertical-align: top;\n",
       "    }\n",
       "\n",
       "    .dataframe thead th {\n",
       "        text-align: right;\n",
       "    }\n",
       "</style>\n",
       "<table border=\"1\" class=\"dataframe\">\n",
       "  <thead>\n",
       "    <tr style=\"text-align: right;\">\n",
       "      <th></th>\n",
       "      <th>UID</th>\n",
       "      <th>名称</th>\n",
       "      <th>销量</th>\n",
       "      <th>统计日期</th>\n",
       "      <th>价格</th>\n",
       "      <th>库存情况</th>\n",
       "    </tr>\n",
       "  </thead>\n",
       "  <tbody>\n",
       "    <tr>\n",
       "      <th>0</th>\n",
       "      <td>44024583443</td>\n",
       "      <td>波音飞机</td>\n",
       "      <td>181</td>\n",
       "      <td>2019-06-13 08:05:40.462350</td>\n",
       "      <td>1299.0</td>\n",
       "      <td>充足</td>\n",
       "    </tr>\n",
       "    <tr>\n",
       "      <th>1</th>\n",
       "      <td>44024543422</td>\n",
       "      <td>红双喜</td>\n",
       "      <td>2214</td>\n",
       "      <td>2019-06-13 08:05:40.462356</td>\n",
       "      <td>98.5</td>\n",
       "      <td>紧张</td>\n",
       "    </tr>\n",
       "    <tr>\n",
       "      <th>2</th>\n",
       "      <td>44024598721</td>\n",
       "      <td>HM汽车</td>\n",
       "      <td>1235</td>\n",
       "      <td>2019-06-13 08:05:40.462356</td>\n",
       "      <td>308.0</td>\n",
       "      <td>缺货</td>\n",
       "    </tr>\n",
       "  </tbody>\n",
       "</table>\n",
       "</div>"
      ],
      "text/plain": [
       "           UID    名称    销量                       统计日期      价格 库存情况\n",
       "0  44024583443  波音飞机   181 2019-06-13 08:05:40.462350  1299.0   充足\n",
       "1  44024543422   红双喜  2214 2019-06-13 08:05:40.462356    98.5   紧张\n",
       "2  44024598721  HM汽车  1235 2019-06-13 08:05:40.462356   308.0   缺货"
      ]
     },
     "execution_count": 16,
     "metadata": {},
     "output_type": "execute_result"
    }
   ],
   "source": [
    "mydf2 = mydf.copy()\n",
    "mydf2['价格'] = [ 1299, 98.5, 308 ]\n",
    "mydf2['库存情况'] = [ '充足', '紧张', '缺货' ]\n",
    "mydf2"
   ]
  },
  {
   "cell_type": "code",
   "execution_count": 17,
   "metadata": {
    "ExecuteTime": {
     "end_time": "2019-06-13T00:05:40.974823Z",
     "start_time": "2019-06-13T00:05:40.892147Z"
    }
   },
   "outputs": [
    {
     "data": {
      "text/html": [
       "<div>\n",
       "<style scoped>\n",
       "    .dataframe tbody tr th:only-of-type {\n",
       "        vertical-align: middle;\n",
       "    }\n",
       "\n",
       "    .dataframe tbody tr th {\n",
       "        vertical-align: top;\n",
       "    }\n",
       "\n",
       "    .dataframe thead th {\n",
       "        text-align: right;\n",
       "    }\n",
       "</style>\n",
       "<table border=\"1\" class=\"dataframe\">\n",
       "  <thead>\n",
       "    <tr style=\"text-align: right;\">\n",
       "      <th></th>\n",
       "      <th>UID</th>\n",
       "      <th>名称</th>\n",
       "      <th>销量</th>\n",
       "      <th>统计日期</th>\n",
       "      <th>价格</th>\n",
       "      <th>库存情况</th>\n",
       "    </tr>\n",
       "  </thead>\n",
       "  <tbody>\n",
       "    <tr>\n",
       "      <th>1</th>\n",
       "      <td>44024543422</td>\n",
       "      <td>红双喜</td>\n",
       "      <td>2214</td>\n",
       "      <td>2019-06-13 08:05:40.462356</td>\n",
       "      <td>98.5</td>\n",
       "      <td>紧张</td>\n",
       "    </tr>\n",
       "    <tr>\n",
       "      <th>2</th>\n",
       "      <td>44024598721</td>\n",
       "      <td>HM汽车</td>\n",
       "      <td>1235</td>\n",
       "      <td>2019-06-13 08:05:40.462356</td>\n",
       "      <td>308.0</td>\n",
       "      <td>缺货</td>\n",
       "    </tr>\n",
       "  </tbody>\n",
       "</table>\n",
       "</div>"
      ],
      "text/plain": [
       "           UID    名称    销量                       统计日期     价格 库存情况\n",
       "1  44024543422   红双喜  2214 2019-06-13 08:05:40.462356   98.5   紧张\n",
       "2  44024598721  HM汽车  1235 2019-06-13 08:05:40.462356  308.0   缺货"
      ]
     },
     "execution_count": 17,
     "metadata": {},
     "output_type": "execute_result"
    }
   ],
   "source": [
    "mydf2[mydf2['库存情况'].isin(['紧张', '缺货'])]"
   ]
  },
  {
   "cell_type": "code",
   "execution_count": 18,
   "metadata": {
    "ExecuteTime": {
     "end_time": "2019-06-13T00:05:41.043129Z",
     "start_time": "2019-06-13T00:05:40.976679Z"
    }
   },
   "outputs": [
    {
     "data": {
      "text/html": [
       "<div>\n",
       "<style scoped>\n",
       "    .dataframe tbody tr th:only-of-type {\n",
       "        vertical-align: middle;\n",
       "    }\n",
       "\n",
       "    .dataframe tbody tr th {\n",
       "        vertical-align: top;\n",
       "    }\n",
       "\n",
       "    .dataframe thead th {\n",
       "        text-align: right;\n",
       "    }\n",
       "</style>\n",
       "<table border=\"1\" class=\"dataframe\">\n",
       "  <thead>\n",
       "    <tr style=\"text-align: right;\">\n",
       "      <th></th>\n",
       "      <th>UID</th>\n",
       "      <th>制造商</th>\n",
       "    </tr>\n",
       "  </thead>\n",
       "  <tbody>\n",
       "    <tr>\n",
       "      <th>0</th>\n",
       "      <td>44024543422</td>\n",
       "      <td>中华烟草</td>\n",
       "    </tr>\n",
       "    <tr>\n",
       "      <th>1</th>\n",
       "      <td>44024583443</td>\n",
       "      <td>波音公司</td>\n",
       "    </tr>\n",
       "    <tr>\n",
       "      <th>2</th>\n",
       "      <td>44024598721</td>\n",
       "      <td>广汽集团</td>\n",
       "    </tr>\n",
       "  </tbody>\n",
       "</table>\n",
       "</div>"
      ],
      "text/plain": [
       "           UID   制造商\n",
       "0  44024543422  中华烟草\n",
       "1  44024583443  波音公司\n",
       "2  44024598721  广汽集团"
      ]
     },
     "execution_count": 18,
     "metadata": {},
     "output_type": "execute_result"
    }
   ],
   "source": [
    "mydf3 = pd.DataFrame(\n",
    "    {\n",
    "        'UID': ['44024543422', '44024583443', '44024598721'],\n",
    "        '制造商': ['中华烟草', '波音公司', '广汽集团'],\n",
    "    }\n",
    ")\n",
    "mydf3"
   ]
  },
  {
   "cell_type": "code",
   "execution_count": 19,
   "metadata": {
    "ExecuteTime": {
     "end_time": "2019-06-13T00:05:41.111046Z",
     "start_time": "2019-06-13T00:05:41.045580Z"
    },
    "scrolled": true
   },
   "outputs": [
    {
     "data": {
      "text/html": [
       "<div>\n",
       "<style scoped>\n",
       "    .dataframe tbody tr th:only-of-type {\n",
       "        vertical-align: middle;\n",
       "    }\n",
       "\n",
       "    .dataframe tbody tr th {\n",
       "        vertical-align: top;\n",
       "    }\n",
       "\n",
       "    .dataframe thead th {\n",
       "        text-align: right;\n",
       "    }\n",
       "</style>\n",
       "<table border=\"1\" class=\"dataframe\">\n",
       "  <thead>\n",
       "    <tr style=\"text-align: right;\">\n",
       "      <th></th>\n",
       "      <th>UID</th>\n",
       "      <th>名称</th>\n",
       "      <th>销量</th>\n",
       "      <th>统计日期</th>\n",
       "      <th>价格</th>\n",
       "      <th>库存情况</th>\n",
       "      <th>制造商</th>\n",
       "    </tr>\n",
       "  </thead>\n",
       "  <tbody>\n",
       "    <tr>\n",
       "      <th>0</th>\n",
       "      <td>44024583443</td>\n",
       "      <td>波音飞机</td>\n",
       "      <td>181</td>\n",
       "      <td>2019-06-13 08:05:40.462350</td>\n",
       "      <td>1299.0</td>\n",
       "      <td>充足</td>\n",
       "      <td>波音公司</td>\n",
       "    </tr>\n",
       "    <tr>\n",
       "      <th>1</th>\n",
       "      <td>44024543422</td>\n",
       "      <td>红双喜</td>\n",
       "      <td>2214</td>\n",
       "      <td>2019-06-13 08:05:40.462356</td>\n",
       "      <td>98.5</td>\n",
       "      <td>紧张</td>\n",
       "      <td>中华烟草</td>\n",
       "    </tr>\n",
       "    <tr>\n",
       "      <th>2</th>\n",
       "      <td>44024598721</td>\n",
       "      <td>HM汽车</td>\n",
       "      <td>1235</td>\n",
       "      <td>2019-06-13 08:05:40.462356</td>\n",
       "      <td>308.0</td>\n",
       "      <td>缺货</td>\n",
       "      <td>广汽集团</td>\n",
       "    </tr>\n",
       "  </tbody>\n",
       "</table>\n",
       "</div>"
      ],
      "text/plain": [
       "           UID    名称    销量                       统计日期      价格 库存情况   制造商\n",
       "0  44024583443  波音飞机   181 2019-06-13 08:05:40.462350  1299.0   充足  波音公司\n",
       "1  44024543422   红双喜  2214 2019-06-13 08:05:40.462356    98.5   紧张  中华烟草\n",
       "2  44024598721  HM汽车  1235 2019-06-13 08:05:40.462356   308.0   缺货  广汽集团"
      ]
     },
     "execution_count": 19,
     "metadata": {},
     "output_type": "execute_result"
    }
   ],
   "source": [
    "# DataFrame Merge\n",
    "pd.merge(mydf2, mydf3, on='UID')"
   ]
  },
  {
   "cell_type": "code",
   "execution_count": 20,
   "metadata": {
    "ExecuteTime": {
     "end_time": "2019-06-13T00:05:41.185647Z",
     "start_time": "2019-06-13T00:05:41.112704Z"
    }
   },
   "outputs": [
    {
     "data": {
      "text/html": [
       "<div>\n",
       "<style scoped>\n",
       "    .dataframe tbody tr th:only-of-type {\n",
       "        vertical-align: middle;\n",
       "    }\n",
       "\n",
       "    .dataframe tbody tr th {\n",
       "        vertical-align: top;\n",
       "    }\n",
       "\n",
       "    .dataframe thead th {\n",
       "        text-align: right;\n",
       "    }\n",
       "</style>\n",
       "<table border=\"1\" class=\"dataframe\">\n",
       "  <thead>\n",
       "    <tr style=\"text-align: right;\">\n",
       "      <th></th>\n",
       "      <th>UID</th>\n",
       "      <th>名称</th>\n",
       "      <th>销量</th>\n",
       "      <th>统计日期</th>\n",
       "    </tr>\n",
       "  </thead>\n",
       "  <tbody>\n",
       "    <tr>\n",
       "      <th>0</th>\n",
       "      <td>44025583111</td>\n",
       "      <td>AKM突击步枪</td>\n",
       "      <td>3200</td>\n",
       "      <td>2019-06-13 08:05:41.177698</td>\n",
       "    </tr>\n",
       "  </tbody>\n",
       "</table>\n",
       "</div>"
      ],
      "text/plain": [
       "           UID       名称    销量                       统计日期\n",
       "0  44025583111  AKM突击步枪  3200 2019-06-13 08:05:41.177698"
      ]
     },
     "execution_count": 20,
     "metadata": {},
     "output_type": "execute_result"
    }
   ],
   "source": [
    "mydf4 = pd.DataFrame(\n",
    "    {\n",
    "        'UID': ['44025583111'],\n",
    "        '名称': ['AKM突击步枪'],\n",
    "        '销量': [3200],\n",
    "        '统计日期': [datetime.datetime.now()]\n",
    "    }\n",
    ")\n",
    "mydf4"
   ]
  },
  {
   "cell_type": "code",
   "execution_count": 21,
   "metadata": {
    "ExecuteTime": {
     "end_time": "2019-06-13T00:05:41.265910Z",
     "start_time": "2019-06-13T00:05:41.187382Z"
    }
   },
   "outputs": [
    {
     "data": {
      "text/html": [
       "<div>\n",
       "<style scoped>\n",
       "    .dataframe tbody tr th:only-of-type {\n",
       "        vertical-align: middle;\n",
       "    }\n",
       "\n",
       "    .dataframe tbody tr th {\n",
       "        vertical-align: top;\n",
       "    }\n",
       "\n",
       "    .dataframe thead th {\n",
       "        text-align: right;\n",
       "    }\n",
       "</style>\n",
       "<table border=\"1\" class=\"dataframe\">\n",
       "  <thead>\n",
       "    <tr style=\"text-align: right;\">\n",
       "      <th></th>\n",
       "      <th>UID</th>\n",
       "      <th>价格</th>\n",
       "      <th>名称</th>\n",
       "      <th>库存情况</th>\n",
       "      <th>统计日期</th>\n",
       "      <th>销量</th>\n",
       "    </tr>\n",
       "  </thead>\n",
       "  <tbody>\n",
       "    <tr>\n",
       "      <th>0</th>\n",
       "      <td>44024583443</td>\n",
       "      <td>1299.00</td>\n",
       "      <td>波音飞机</td>\n",
       "      <td>充足</td>\n",
       "      <td>2019-06-13 08:05:40.462350</td>\n",
       "      <td>181</td>\n",
       "    </tr>\n",
       "    <tr>\n",
       "      <th>1</th>\n",
       "      <td>44024543422</td>\n",
       "      <td>98.50</td>\n",
       "      <td>红双喜</td>\n",
       "      <td>紧张</td>\n",
       "      <td>2019-06-13 08:05:40.462356</td>\n",
       "      <td>2214</td>\n",
       "    </tr>\n",
       "    <tr>\n",
       "      <th>2</th>\n",
       "      <td>44024598721</td>\n",
       "      <td>308.00</td>\n",
       "      <td>HM汽车</td>\n",
       "      <td>缺货</td>\n",
       "      <td>2019-06-13 08:05:40.462356</td>\n",
       "      <td>1235</td>\n",
       "    </tr>\n",
       "    <tr>\n",
       "      <th>3</th>\n",
       "      <td>44025583111</td>\n",
       "      <td>279.18</td>\n",
       "      <td>AKM突击步枪</td>\n",
       "      <td>充足</td>\n",
       "      <td>2019-06-13 08:05:41.177698</td>\n",
       "      <td>3200</td>\n",
       "    </tr>\n",
       "  </tbody>\n",
       "</table>\n",
       "</div>"
      ],
      "text/plain": [
       "           UID       价格       名称 库存情况                       统计日期    销量\n",
       "0  44024583443  1299.00     波音飞机   充足 2019-06-13 08:05:40.462350   181\n",
       "1  44024543422    98.50      红双喜   紧张 2019-06-13 08:05:40.462356  2214\n",
       "2  44024598721   308.00     HM汽车   缺货 2019-06-13 08:05:40.462356  1235\n",
       "3  44025583111   279.18  AKM突击步枪   充足 2019-06-13 08:05:41.177698  3200"
      ]
     },
     "execution_count": 21,
     "metadata": {},
     "output_type": "execute_result"
    }
   ],
   "source": [
    "# DataFrame Append\n",
    "mydf24 = mydf2.append(mydf4, ignore_index=True, sort=True)\n",
    "\n",
    "uid = mydf24[mydf24.UID == '44025583111'].index.values[0]\n",
    "\n",
    "mydf24.at[uid, '价格'] = 279.18\n",
    "mydf24.at[uid, '库存情况'] = '充足'\n",
    "mydf24"
   ]
  },
  {
   "cell_type": "code",
   "execution_count": 22,
   "metadata": {
    "ExecuteTime": {
     "end_time": "2019-06-13T00:05:41.333012Z",
     "start_time": "2019-06-13T00:05:41.267899Z"
    }
   },
   "outputs": [
    {
     "data": {
      "text/html": [
       "<div>\n",
       "<style scoped>\n",
       "    .dataframe tbody tr th:only-of-type {\n",
       "        vertical-align: middle;\n",
       "    }\n",
       "\n",
       "    .dataframe tbody tr th {\n",
       "        vertical-align: top;\n",
       "    }\n",
       "\n",
       "    .dataframe thead th {\n",
       "        text-align: right;\n",
       "    }\n",
       "</style>\n",
       "<table border=\"1\" class=\"dataframe\">\n",
       "  <thead>\n",
       "    <tr style=\"text-align: right;\">\n",
       "      <th></th>\n",
       "      <th>UID</th>\n",
       "      <th>价格</th>\n",
       "      <th>名称</th>\n",
       "      <th>库存情况</th>\n",
       "      <th>统计日期</th>\n",
       "      <th>销量</th>\n",
       "    </tr>\n",
       "  </thead>\n",
       "  <tbody>\n",
       "    <tr>\n",
       "      <th>0</th>\n",
       "      <td>44024583443</td>\n",
       "      <td>1299.00</td>\n",
       "      <td>红双喜</td>\n",
       "      <td>充足</td>\n",
       "      <td>2019-06-13 08:05:40.462350</td>\n",
       "      <td>181</td>\n",
       "    </tr>\n",
       "    <tr>\n",
       "      <th>1</th>\n",
       "      <td>44024543422</td>\n",
       "      <td>98.50</td>\n",
       "      <td>红双喜</td>\n",
       "      <td>充足</td>\n",
       "      <td>2019-06-13 08:05:40.462356</td>\n",
       "      <td>2214</td>\n",
       "    </tr>\n",
       "    <tr>\n",
       "      <th>2</th>\n",
       "      <td>44024598721</td>\n",
       "      <td>308.00</td>\n",
       "      <td>AKM突击步枪</td>\n",
       "      <td>缺货</td>\n",
       "      <td>2019-06-13 08:05:40.462356</td>\n",
       "      <td>1235</td>\n",
       "    </tr>\n",
       "    <tr>\n",
       "      <th>3</th>\n",
       "      <td>44025583111</td>\n",
       "      <td>279.18</td>\n",
       "      <td>AKM突击步枪</td>\n",
       "      <td>充足</td>\n",
       "      <td>2019-06-13 08:05:41.177698</td>\n",
       "      <td>3200</td>\n",
       "    </tr>\n",
       "  </tbody>\n",
       "</table>\n",
       "</div>"
      ],
      "text/plain": [
       "           UID       价格       名称 库存情况                       统计日期    销量\n",
       "0  44024583443  1299.00      红双喜   充足 2019-06-13 08:05:40.462350   181\n",
       "1  44024543422    98.50      红双喜   充足 2019-06-13 08:05:40.462356  2214\n",
       "2  44024598721   308.00  AKM突击步枪   缺货 2019-06-13 08:05:40.462356  1235\n",
       "3  44025583111   279.18  AKM突击步枪   充足 2019-06-13 08:05:41.177698  3200"
      ]
     },
     "execution_count": 22,
     "metadata": {},
     "output_type": "execute_result"
    }
   ],
   "source": [
    "mydf25 = mydf24.copy()\n",
    "mydf25.at[0, '名称'] = '红双喜'\n",
    "mydf25.at[1,'库存情况'] = '充足'\n",
    "mydf25.at[2, '名称'] = 'AKM突击步枪'\n",
    "mydf25"
   ]
  },
  {
   "cell_type": "code",
   "execution_count": 23,
   "metadata": {
    "ExecuteTime": {
     "end_time": "2019-06-13T00:05:41.406948Z",
     "start_time": "2019-06-13T00:05:41.336034Z"
    }
   },
   "outputs": [
    {
     "data": {
      "text/html": [
       "<div>\n",
       "<style scoped>\n",
       "    .dataframe tbody tr th:only-of-type {\n",
       "        vertical-align: middle;\n",
       "    }\n",
       "\n",
       "    .dataframe tbody tr th {\n",
       "        vertical-align: top;\n",
       "    }\n",
       "\n",
       "    .dataframe thead th {\n",
       "        text-align: right;\n",
       "    }\n",
       "</style>\n",
       "<table border=\"1\" class=\"dataframe\">\n",
       "  <thead>\n",
       "    <tr style=\"text-align: right;\">\n",
       "      <th></th>\n",
       "      <th></th>\n",
       "      <th>价格</th>\n",
       "      <th>销量</th>\n",
       "    </tr>\n",
       "    <tr>\n",
       "      <th>名称</th>\n",
       "      <th>库存情况</th>\n",
       "      <th></th>\n",
       "      <th></th>\n",
       "    </tr>\n",
       "  </thead>\n",
       "  <tbody>\n",
       "    <tr>\n",
       "      <th rowspan=\"2\" valign=\"top\">AKM突击步枪</th>\n",
       "      <th>充足</th>\n",
       "      <td>279.18</td>\n",
       "      <td>3200</td>\n",
       "    </tr>\n",
       "    <tr>\n",
       "      <th>缺货</th>\n",
       "      <td>308.00</td>\n",
       "      <td>1235</td>\n",
       "    </tr>\n",
       "    <tr>\n",
       "      <th>红双喜</th>\n",
       "      <th>充足</th>\n",
       "      <td>1397.50</td>\n",
       "      <td>2395</td>\n",
       "    </tr>\n",
       "  </tbody>\n",
       "</table>\n",
       "</div>"
      ],
      "text/plain": [
       "                   价格    销量\n",
       "名称      库存情况               \n",
       "AKM突击步枪 充足     279.18  3200\n",
       "        缺货     308.00  1235\n",
       "红双喜     充足    1397.50  2395"
      ]
     },
     "execution_count": 23,
     "metadata": {},
     "output_type": "execute_result"
    }
   ],
   "source": [
    "mydf25.groupby(['名称', '库存情况']).sum()"
   ]
  },
  {
   "cell_type": "code",
   "execution_count": 24,
   "metadata": {
    "ExecuteTime": {
     "end_time": "2019-06-13T00:05:41.464921Z",
     "start_time": "2019-06-13T00:05:41.409380Z"
    }
   },
   "outputs": [
    {
     "data": {
      "text/html": [
       "<div>\n",
       "<style scoped>\n",
       "    .dataframe tbody tr th:only-of-type {\n",
       "        vertical-align: middle;\n",
       "    }\n",
       "\n",
       "    .dataframe tbody tr th {\n",
       "        vertical-align: top;\n",
       "    }\n",
       "\n",
       "    .dataframe thead th {\n",
       "        text-align: right;\n",
       "    }\n",
       "</style>\n",
       "<table border=\"1\" class=\"dataframe\">\n",
       "  <thead>\n",
       "    <tr style=\"text-align: right;\">\n",
       "      <th>库存情况</th>\n",
       "      <th>充足</th>\n",
       "      <th>缺货</th>\n",
       "    </tr>\n",
       "    <tr>\n",
       "      <th>名称</th>\n",
       "      <th></th>\n",
       "      <th></th>\n",
       "    </tr>\n",
       "  </thead>\n",
       "  <tbody>\n",
       "    <tr>\n",
       "      <th>AKM突击步枪</th>\n",
       "      <td>3200.0</td>\n",
       "      <td>1235.0</td>\n",
       "    </tr>\n",
       "    <tr>\n",
       "      <th>红双喜</th>\n",
       "      <td>1197.5</td>\n",
       "      <td>NaN</td>\n",
       "    </tr>\n",
       "  </tbody>\n",
       "</table>\n",
       "</div>"
      ],
      "text/plain": [
       "库存情况         充足      缺货\n",
       "名称                     \n",
       "AKM突击步枪  3200.0  1235.0\n",
       "红双喜      1197.5     NaN"
      ]
     },
     "execution_count": 24,
     "metadata": {},
     "output_type": "execute_result"
    }
   ],
   "source": [
    "pd.pivot_table(mydf25, values='销量', index=['名称'], columns=['库存情况'])"
   ]
  },
  {
   "cell_type": "markdown",
   "metadata": {},
   "source": [
    "## DataFrame Sample 3"
   ]
  },
  {
   "cell_type": "code",
   "execution_count": 25,
   "metadata": {
    "ExecuteTime": {
     "end_time": "2019-06-13T00:05:41.518751Z",
     "start_time": "2019-06-13T00:05:41.466257Z"
    }
   },
   "outputs": [
    {
     "data": {
      "text/html": [
       "<div>\n",
       "<style scoped>\n",
       "    .dataframe tbody tr th:only-of-type {\n",
       "        vertical-align: middle;\n",
       "    }\n",
       "\n",
       "    .dataframe tbody tr th {\n",
       "        vertical-align: top;\n",
       "    }\n",
       "\n",
       "    .dataframe thead th {\n",
       "        text-align: right;\n",
       "    }\n",
       "</style>\n",
       "<table border=\"1\" class=\"dataframe\">\n",
       "  <thead>\n",
       "    <tr style=\"text-align: right;\">\n",
       "      <th></th>\n",
       "      <th>学号</th>\n",
       "      <th>姓名</th>\n",
       "      <th>评分</th>\n",
       "    </tr>\n",
       "  </thead>\n",
       "  <tbody>\n",
       "    <tr>\n",
       "      <th>0</th>\n",
       "      <td>1082</td>\n",
       "      <td>小王</td>\n",
       "      <td>a</td>\n",
       "    </tr>\n",
       "    <tr>\n",
       "      <th>1</th>\n",
       "      <td>1083</td>\n",
       "      <td>小李</td>\n",
       "      <td>c</td>\n",
       "    </tr>\n",
       "    <tr>\n",
       "      <th>2</th>\n",
       "      <td>1084</td>\n",
       "      <td>小黄</td>\n",
       "      <td>e</td>\n",
       "    </tr>\n",
       "    <tr>\n",
       "      <th>3</th>\n",
       "      <td>1085</td>\n",
       "      <td>小张</td>\n",
       "      <td>b</td>\n",
       "    </tr>\n",
       "    <tr>\n",
       "      <th>4</th>\n",
       "      <td>1086</td>\n",
       "      <td>小孔</td>\n",
       "      <td>c</td>\n",
       "    </tr>\n",
       "    <tr>\n",
       "      <th>5</th>\n",
       "      <td>1087</td>\n",
       "      <td>小叶</td>\n",
       "      <td>a</td>\n",
       "    </tr>\n",
       "  </tbody>\n",
       "</table>\n",
       "</div>"
      ],
      "text/plain": [
       "     学号  姓名 评分\n",
       "0  1082  小王  a\n",
       "1  1083  小李  c\n",
       "2  1084  小黄  e\n",
       "3  1085  小张  b\n",
       "4  1086  小孔  c\n",
       "5  1087  小叶  a"
      ]
     },
     "execution_count": 25,
     "metadata": {},
     "output_type": "execute_result"
    }
   ],
   "source": [
    "sh1 = pd.DataFrame(\n",
    "    {\n",
    "        '学号': ['1082', '1083', '1084', '1085', '1086', '1087'],\n",
    "        '姓名': ['小王', '小李', '小黄', '小张', '小孔', '小叶'],\n",
    "        '评分': ['a', 'c', 'e', 'b', 'c', 'a']\n",
    "    }\n",
    ")\n",
    "sh1"
   ]
  },
  {
   "cell_type": "code",
   "execution_count": 26,
   "metadata": {
    "ExecuteTime": {
     "end_time": "2019-06-13T00:05:41.581168Z",
     "start_time": "2019-06-13T00:05:41.524692Z"
    }
   },
   "outputs": [
    {
     "data": {
      "text/plain": [
       "0    a\n",
       "1    c\n",
       "2    e\n",
       "3    b\n",
       "4    c\n",
       "5    a\n",
       "Name: 评级, dtype: category\n",
       "Categories (4, object): [a, b, c, e]"
      ]
     },
     "execution_count": 26,
     "metadata": {},
     "output_type": "execute_result"
    }
   ],
   "source": [
    "sh1['评级'] = sh1['评分'].astype('category')\n",
    "sh1['评级']"
   ]
  },
  {
   "cell_type": "code",
   "execution_count": 27,
   "metadata": {
    "ExecuteTime": {
     "end_time": "2019-06-13T00:05:41.641708Z",
     "start_time": "2019-06-13T00:05:41.582504Z"
    }
   },
   "outputs": [
    {
     "data": {
      "text/plain": [
       "0    非常好\n",
       "1     一般\n",
       "2    非常差\n",
       "3      好\n",
       "4     一般\n",
       "5    非常好\n",
       "Name: 评级, dtype: category\n",
       "Categories (4, object): [非常好, 好, 一般, 非常差]"
      ]
     },
     "execution_count": 27,
     "metadata": {},
     "output_type": "execute_result"
    }
   ],
   "source": [
    "sh1['评级'].cat.categories = ['非常好','好','一般','非常差']\n",
    "sh1['评级']"
   ]
  },
  {
   "cell_type": "code",
   "execution_count": 28,
   "metadata": {
    "ExecuteTime": {
     "end_time": "2019-06-13T00:05:41.707963Z",
     "start_time": "2019-06-13T00:05:41.643611Z"
    }
   },
   "outputs": [
    {
     "data": {
      "text/html": [
       "<div>\n",
       "<style scoped>\n",
       "    .dataframe tbody tr th:only-of-type {\n",
       "        vertical-align: middle;\n",
       "    }\n",
       "\n",
       "    .dataframe tbody tr th {\n",
       "        vertical-align: top;\n",
       "    }\n",
       "\n",
       "    .dataframe thead th {\n",
       "        text-align: right;\n",
       "    }\n",
       "</style>\n",
       "<table border=\"1\" class=\"dataframe\">\n",
       "  <thead>\n",
       "    <tr style=\"text-align: right;\">\n",
       "      <th></th>\n",
       "      <th>学号</th>\n",
       "      <th>姓名</th>\n",
       "      <th>评分</th>\n",
       "      <th>评级</th>\n",
       "    </tr>\n",
       "  </thead>\n",
       "  <tbody>\n",
       "    <tr>\n",
       "      <th>5</th>\n",
       "      <td>1087</td>\n",
       "      <td>小叶</td>\n",
       "      <td>a</td>\n",
       "      <td>非常好</td>\n",
       "    </tr>\n",
       "    <tr>\n",
       "      <th>0</th>\n",
       "      <td>1082</td>\n",
       "      <td>小王</td>\n",
       "      <td>a</td>\n",
       "      <td>非常好</td>\n",
       "    </tr>\n",
       "    <tr>\n",
       "      <th>3</th>\n",
       "      <td>1085</td>\n",
       "      <td>小张</td>\n",
       "      <td>b</td>\n",
       "      <td>好</td>\n",
       "    </tr>\n",
       "    <tr>\n",
       "      <th>4</th>\n",
       "      <td>1086</td>\n",
       "      <td>小孔</td>\n",
       "      <td>c</td>\n",
       "      <td>一般</td>\n",
       "    </tr>\n",
       "    <tr>\n",
       "      <th>1</th>\n",
       "      <td>1083</td>\n",
       "      <td>小李</td>\n",
       "      <td>c</td>\n",
       "      <td>一般</td>\n",
       "    </tr>\n",
       "    <tr>\n",
       "      <th>2</th>\n",
       "      <td>1084</td>\n",
       "      <td>小黄</td>\n",
       "      <td>e</td>\n",
       "      <td>非常差</td>\n",
       "    </tr>\n",
       "  </tbody>\n",
       "</table>\n",
       "</div>"
      ],
      "text/plain": [
       "     学号  姓名 评分   评级\n",
       "5  1087  小叶  a  非常好\n",
       "0  1082  小王  a  非常好\n",
       "3  1085  小张  b    好\n",
       "4  1086  小孔  c   一般\n",
       "1  1083  小李  c   一般\n",
       "2  1084  小黄  e  非常差"
      ]
     },
     "execution_count": 28,
     "metadata": {},
     "output_type": "execute_result"
    }
   ],
   "source": [
    "sh1['评级'] = sh1['评级'].cat.set_categories(['非常好','好','一般','差','非常差'])\n",
    "sh1.sort_values(by = ['评级', '姓名'])"
   ]
  },
  {
   "cell_type": "code",
   "execution_count": 29,
   "metadata": {
    "ExecuteTime": {
     "end_time": "2019-06-13T00:05:41.763933Z",
     "start_time": "2019-06-13T00:05:41.710722Z"
    }
   },
   "outputs": [
    {
     "data": {
      "text/plain": [
       "评级\n",
       "非常好    2\n",
       "好      1\n",
       "一般     2\n",
       "差      0\n",
       "非常差    1\n",
       "dtype: int64"
      ]
     },
     "execution_count": 29,
     "metadata": {},
     "output_type": "execute_result"
    }
   ],
   "source": [
    "sh1.groupby('评级').size()"
   ]
  },
  {
   "cell_type": "markdown",
   "metadata": {},
   "source": [
    "## Diagram / Chart / Plot / Table"
   ]
  },
  {
   "cell_type": "code",
   "execution_count": 30,
   "metadata": {
    "ExecuteTime": {
     "end_time": "2019-06-13T00:05:42.204086Z",
     "start_time": "2019-06-13T00:05:41.765831Z"
    },
    "scrolled": false
   },
   "outputs": [
    {
     "data": {
      "text/plain": [
       "<matplotlib.axes._subplots.AxesSubplot at 0x7fb2d08b7e48>"
      ]
     },
     "execution_count": 30,
     "metadata": {},
     "output_type": "execute_result"
    },
    {
     "data": {
      "image/png": "[encoded data removed]",
      "text/plain": [
       "<Figure size 432x288 with 1 Axes>"
      ]
     },
     "metadata": {
      "needs_background": "light"
     },
     "output_type": "display_data"
    }
   ],
   "source": [
    "# the year of random datas.\n",
    "year = 2020\n",
    "\n",
    "d1 = datetime.date(year,1,1)\n",
    "d2 = datetime.date(year+1,1,1)\n",
    "dd = d2 - d1\n",
    "\n",
    "ts = pd.Series(np.random.randn(\n",
    "    dd.days), index=pd.date_range(d1, periods=dd.days))\n",
    "ts = ts.cumsum()\n",
    "ts.plot()"
   ]
  },
  {
   "cell_type": "markdown",
   "metadata": {},
   "source": [
    "### Fix Chinese Display Issue"
   ]
  },
  {
   "cell_type": "code",
   "execution_count": 31,
   "metadata": {
    "ExecuteTime": {
     "end_time": "2019-06-13T00:05:42.207906Z",
     "start_time": "2019-06-13T00:05:42.205679Z"
    }
   },
   "outputs": [],
   "source": [
    "plt.rcParams['font.sans-serif']=['Microsoft Yahei']  # Fix Chinese unrecognized issue \n",
    "plt.rcParams['axes.unicode_minus']=False # Fix Minus Sign unrecognized issue"
   ]
  },
  {
   "cell_type": "code",
   "execution_count": 32,
   "metadata": {
    "ExecuteTime": {
     "end_time": "2019-06-13T00:05:42.477921Z",
     "start_time": "2019-06-13T00:05:42.209320Z"
    }
   },
   "outputs": [
    {
     "data": {
      "text/plain": [
       "<matplotlib.axes._subplots.AxesSubplot at 0x7fb2d08f7828>"
      ]
     },
     "execution_count": 32,
     "metadata": {},
     "output_type": "execute_result"
    },
    {
     "data": {
      "image/png": "[encoded data removed]",
      "text/plain": [
       "<Figure size 432x288 with 1 Axes>"
      ]
     },
     "metadata": {
      "needs_background": "light"
     },
     "output_type": "display_data"
    }
   ],
   "source": [
    "df2 = pd.DataFrame(np.random.rand(8, 3), columns=['帽子', '鞋子', 'T恤'])\n",
    "df2.plot.bar()"
   ]
  },
  {
   "cell_type": "code",
   "execution_count": 33,
   "metadata": {
    "ExecuteTime": {
     "end_time": "2019-06-13T00:05:42.664977Z",
     "start_time": "2019-06-13T00:05:42.479713Z"
    }
   },
   "outputs": [
    {
     "data": {
      "image/png": "[encoded data removed]",
      "text/plain": [
       "<Figure size 432x288 with 1 Axes>"
      ]
     },
     "metadata": {
      "needs_background": "light"
     },
     "output_type": "display_data"
    }
   ],
   "source": [
    "df2.plot.bar(stacked=True);"
   ]
  },
  {
   "cell_type": "code",
   "execution_count": 34,
   "metadata": {
    "ExecuteTime": {
     "end_time": "2019-06-13T00:05:42.850627Z",
     "start_time": "2019-06-13T00:05:42.666865Z"
    }
   },
   "outputs": [
    {
     "data": {
      "image/png": "[encoded data removed]",
      "text/plain": [
       "<Figure size 432x288 with 1 Axes>"
      ]
     },
     "metadata": {
      "needs_background": "light"
     },
     "output_type": "display_data"
    }
   ],
   "source": [
    "df2.plot.barh(stacked=True);"
   ]
  },
  {
   "cell_type": "code",
   "execution_count": 35,
   "metadata": {
    "ExecuteTime": {
     "end_time": "2019-06-13T00:05:43.031265Z",
     "start_time": "2019-06-13T00:05:42.852403Z"
    }
   },
   "outputs": [
    {
     "data": {
      "image/png": "[encoded data removed]",
      "text/plain": [
       "<Figure size 432x288 with 1 Axes>"
      ]
     },
     "metadata": {
      "needs_background": "light"
     },
     "output_type": "display_data"
    }
   ],
   "source": [
    "df2.plot.area();"
   ]
  },
  {
   "cell_type": "code",
   "execution_count": 36,
   "metadata": {
    "ExecuteTime": {
     "end_time": "2019-06-13T00:05:43.207077Z",
     "start_time": "2019-06-13T00:05:43.033034Z"
    }
   },
   "outputs": [
    {
     "data": {
      "image/png": "[encoded data removed]",
      "text/plain": [
       "<Figure size 432x288 with 1 Axes>"
      ]
     },
     "metadata": {
      "needs_background": "light"
     },
     "output_type": "display_data"
    }
   ],
   "source": [
    "df = pd.DataFrame(np.random.rand(150, 4), columns=['a', 'b', 'c', 'd'])\n",
    "df.plot.scatter(x='a', y='b');"
   ]
  },
  {
   "cell_type": "code",
   "execution_count": 37,
   "metadata": {
    "ExecuteTime": {
     "end_time": "2019-06-13T00:05:43.544000Z",
     "start_time": "2019-06-13T00:05:43.208519Z"
    }
   },
   "outputs": [
    {
     "data": {
      "image/png": "[encoded data removed]",
      "text/plain": [
       "<Figure size 432x288 with 2 Axes>"
      ]
     },
     "metadata": {
      "needs_background": "light"
     },
     "output_type": "display_data"
    }
   ],
   "source": [
    "df.plot.scatter(x='a', y='b', c='c', s=100);"
   ]
  },
  {
   "cell_type": "code",
   "execution_count": 38,
   "metadata": {
    "ExecuteTime": {
     "end_time": "2019-06-13T00:05:43.631504Z",
     "start_time": "2019-06-13T00:05:43.545894Z"
    }
   },
   "outputs": [
    {
     "data": {
      "text/plain": [
       "<matplotlib.axes._subplots.AxesSubplot at 0x7fb2c9cc54e0>"
      ]
     },
     "execution_count": 38,
     "metadata": {},
     "output_type": "execute_result"
    },
    {
     "data": {
      "image/png": "[encoded data removed]",
      "text/plain": [
       "<Figure size 432x432 with 1 Axes>"
      ]
     },
     "metadata": {},
     "output_type": "display_data"
    }
   ],
   "source": [
    "series = pd.Series(3 * np.random.rand(4),index=['中国', '美国', '俄罗斯', '日本'], name='series')\n",
    "series.plot.pie(figsize=(6, 6), autopct='%.2f%%')"
   ]
  },
  {
   "cell_type": "code",
   "execution_count": 39,
   "metadata": {
    "ExecuteTime": {
     "end_time": "2019-06-13T00:05:43.828804Z",
     "start_time": "2019-06-13T00:05:43.632689Z"
    }
   },
   "outputs": [
    {
     "data": {
      "text/plain": [
       "<matplotlib.axes._subplots.AxesSubplot at 0x7fb2c9cb86d8>"
      ]
     },
     "execution_count": 39,
     "metadata": {},
     "output_type": "execute_result"
    },
    {
     "data": {
      "image/png": "[encoded data removed]",
      "text/plain": [
       "<Figure size 432x288 with 1 Axes>"
      ]
     },
     "metadata": {
      "needs_background": "light"
     },
     "output_type": "display_data"
    }
   ],
   "source": [
    "from pandas.plotting import lag_plot\n",
    "plt.figure()\n",
    "spacing = np.linspace(-50 * np.pi, 50 * np.pi, num=500)\n",
    "data = pd.Series(0.1 * np.random.rand(500) + 0.9 * np.sin(spacing))\n",
    "lag_plot(data)"
   ]
  },
  {
   "cell_type": "markdown",
   "metadata": {},
   "source": [
    "## Read CSV FIle"
   ]
  },
  {
   "cell_type": "code",
   "execution_count": 40,
   "metadata": {
    "ExecuteTime": {
     "end_time": "2019-06-13T00:05:43.843185Z",
     "start_time": "2019-06-13T00:05:43.830449Z"
    },
    "scrolled": false
   },
   "outputs": [
    {
     "data": {
      "text/html": [
       "<div>\n",
       "<style scoped>\n",
       "    .dataframe tbody tr th:only-of-type {\n",
       "        vertical-align: middle;\n",
       "    }\n",
       "\n",
       "    .dataframe tbody tr th {\n",
       "        vertical-align: top;\n",
       "    }\n",
       "\n",
       "    .dataframe thead th {\n",
       "        text-align: right;\n",
       "    }\n",
       "</style>\n",
       "<table border=\"1\" class=\"dataframe\">\n",
       "  <thead>\n",
       "    <tr style=\"text-align: right;\">\n",
       "      <th></th>\n",
       "      <th>型号</th>\n",
       "      <th>数量</th>\n",
       "      <th>单价</th>\n",
       "    </tr>\n",
       "  </thead>\n",
       "  <tbody>\n",
       "    <tr>\n",
       "      <th>8</th>\n",
       "      <td>HM0729-2736</td>\n",
       "      <td>5</td>\n",
       "      <td>22.99</td>\n",
       "    </tr>\n",
       "    <tr>\n",
       "      <th>13</th>\n",
       "      <td>HM0722-136</td>\n",
       "      <td>1</td>\n",
       "      <td>21.99</td>\n",
       "    </tr>\n",
       "    <tr>\n",
       "      <th>12</th>\n",
       "      <td>HM0706-2741</td>\n",
       "      <td>2</td>\n",
       "      <td>20.99</td>\n",
       "    </tr>\n",
       "    <tr>\n",
       "      <th>11</th>\n",
       "      <td>HM0701-841</td>\n",
       "      <td>7</td>\n",
       "      <td>19.99</td>\n",
       "    </tr>\n",
       "    <tr>\n",
       "      <th>10</th>\n",
       "      <td>HM0701-839</td>\n",
       "      <td>1</td>\n",
       "      <td>18.99</td>\n",
       "    </tr>\n",
       "    <tr>\n",
       "      <th>0</th>\n",
       "      <td>HM0722-240</td>\n",
       "      <td>4</td>\n",
       "      <td>17.99</td>\n",
       "    </tr>\n",
       "    <tr>\n",
       "      <th>14</th>\n",
       "      <td>HM0722-137</td>\n",
       "      <td>1</td>\n",
       "      <td>17.99</td>\n",
       "    </tr>\n",
       "    <tr>\n",
       "      <th>9</th>\n",
       "      <td>HM0701-2542</td>\n",
       "      <td>1</td>\n",
       "      <td>17.99</td>\n",
       "    </tr>\n",
       "    <tr>\n",
       "      <th>3</th>\n",
       "      <td>HM0723-3236</td>\n",
       "      <td>2</td>\n",
       "      <td>17.99</td>\n",
       "    </tr>\n",
       "    <tr>\n",
       "      <th>5</th>\n",
       "      <td>HM0725-2739</td>\n",
       "      <td>3</td>\n",
       "      <td>16.99</td>\n",
       "    </tr>\n",
       "    <tr>\n",
       "      <th>16</th>\n",
       "      <td>HM0722-139</td>\n",
       "      <td>6</td>\n",
       "      <td>16.99</td>\n",
       "    </tr>\n",
       "    <tr>\n",
       "      <th>4</th>\n",
       "      <td>HM0724-1040</td>\n",
       "      <td>1</td>\n",
       "      <td>15.49</td>\n",
       "    </tr>\n",
       "    <tr>\n",
       "      <th>15</th>\n",
       "      <td>HM0722-138</td>\n",
       "      <td>2</td>\n",
       "      <td>15.49</td>\n",
       "    </tr>\n",
       "    <tr>\n",
       "      <th>1</th>\n",
       "      <td>HM0722-3436</td>\n",
       "      <td>1</td>\n",
       "      <td>13.99</td>\n",
       "    </tr>\n",
       "    <tr>\n",
       "      <th>6</th>\n",
       "      <td>HM0727-140</td>\n",
       "      <td>5</td>\n",
       "      <td>13.99</td>\n",
       "    </tr>\n",
       "    <tr>\n",
       "      <th>17</th>\n",
       "      <td>HM0722-237</td>\n",
       "      <td>3</td>\n",
       "      <td>13.99</td>\n",
       "    </tr>\n",
       "    <tr>\n",
       "      <th>7</th>\n",
       "      <td>HM0727-241</td>\n",
       "      <td>1</td>\n",
       "      <td>12.99</td>\n",
       "    </tr>\n",
       "    <tr>\n",
       "      <th>2</th>\n",
       "      <td>HM0722-3437</td>\n",
       "      <td>1</td>\n",
       "      <td>12.99</td>\n",
       "    </tr>\n",
       "  </tbody>\n",
       "</table>\n",
       "</div>"
      ],
      "text/plain": [
       "             型号  数量     单价\n",
       "8   HM0729-2736   5  22.99\n",
       "13   HM0722-136   1  21.99\n",
       "12  HM0706-2741   2  20.99\n",
       "11   HM0701-841   7  19.99\n",
       "10   HM0701-839   1  18.99\n",
       "0    HM0722-240   4  17.99\n",
       "14   HM0722-137   1  17.99\n",
       "9   HM0701-2542   1  17.99\n",
       "3   HM0723-3236   2  17.99\n",
       "5   HM0725-2739   3  16.99\n",
       "16   HM0722-139   6  16.99\n",
       "4   HM0724-1040   1  15.49\n",
       "15   HM0722-138   2  15.49\n",
       "1   HM0722-3436   1  13.99\n",
       "6    HM0727-140   5  13.99\n",
       "17   HM0722-237   3  13.99\n",
       "7    HM0727-241   1  12.99\n",
       "2   HM0722-3437   1  12.99"
      ]
     },
     "execution_count": 40,
     "metadata": {},
     "output_type": "execute_result"
    }
   ],
   "source": [
    "csv = pd.read_csv(\"sample.csv\")\n",
    "\n",
    "#csv.sort_index(axis=0, ascending=False)\n",
    "csv.sort_values('单价', ascending=False)"
   ]
  },
  {
   "cell_type": "code",
   "execution_count": 41,
   "metadata": {
    "ExecuteTime": {
     "end_time": "2019-06-13T00:05:43.904872Z",
     "start_time": "2019-06-13T00:05:43.844800Z"
    }
   },
   "outputs": [
    {
     "data": {
      "text/plain": [
       "Index(['型号', '数量', '单价'], dtype='object')"
      ]
     },
     "execution_count": 41,
     "metadata": {},
     "output_type": "execute_result"
    }
   ],
   "source": [
    "csv.columns"
   ]
  },
  {
   "cell_type": "code",
   "execution_count": 42,
   "metadata": {
    "ExecuteTime": {
     "end_time": "2019-06-13T00:05:43.971182Z",
     "start_time": "2019-06-13T00:05:43.907903Z"
    }
   },
   "outputs": [
    {
     "name": "stdout",
     "output_type": "stream",
     "text": [
      "HM0722-240, HM0722-3436, HM0722-3437, HM0723-3236, HM0724-1040, HM0725-2739, HM0727-140, HM0727-241, HM0729-2736, HM0701-2542, HM0701-839, HM0701-841, HM0706-2741, HM0722-136, HM0722-137, HM0722-138, HM0722-139, HM0722-237\n"
     ]
    }
   ],
   "source": [
    "for v in csv['型号'].values[:-1]:\n",
    "    print(v, end=', ')\n",
    "print(csv['型号'].values[-1])"
   ]
  },
  {
   "cell_type": "code",
   "execution_count": 43,
   "metadata": {
    "ExecuteTime": {
     "end_time": "2019-06-13T00:05:44.027091Z",
     "start_time": "2019-06-13T00:05:43.974170Z"
    }
   },
   "outputs": [
    {
     "data": {
      "text/plain": [
       "array([['HM0722-240', 4, 17.99],\n",
       "       ['HM0722-3436', 1, 13.99],\n",
       "       ['HM0722-3437', 1, 12.99],\n",
       "       ['HM0723-3236', 2, 17.99],\n",
       "       ['HM0724-1040', 1, 15.49],\n",
       "       ['HM0725-2739', 3, 16.99],\n",
       "       ['HM0727-140', 5, 13.99],\n",
       "       ['HM0727-241', 1, 12.99],\n",
       "       ['HM0729-2736', 5, 22.99],\n",
       "       ['HM0701-2542', 1, 17.99],\n",
       "       ['HM0701-839', 1, 18.99],\n",
       "       ['HM0701-841', 7, 19.99],\n",
       "       ['HM0706-2741', 2, 20.99],\n",
       "       ['HM0722-136', 1, 21.99],\n",
       "       ['HM0722-137', 1, 17.99],\n",
       "       ['HM0722-138', 2, 15.49],\n",
       "       ['HM0722-139', 6, 16.99],\n",
       "       ['HM0722-237', 3, 13.99]], dtype=object)"
      ]
     },
     "execution_count": 43,
     "metadata": {},
     "output_type": "execute_result"
    }
   ],
   "source": [
    "csv.to_numpy()"
   ]
  },
  {
   "cell_type": "code",
   "execution_count": 44,
   "metadata": {
    "ExecuteTime": {
     "end_time": "2019-06-13T00:05:44.113391Z",
     "start_time": "2019-06-13T00:05:44.028394Z"
    }
   },
   "outputs": [
    {
     "data": {
      "text/html": [
       "<div>\n",
       "<style scoped>\n",
       "    .dataframe tbody tr th:only-of-type {\n",
       "        vertical-align: middle;\n",
       "    }\n",
       "\n",
       "    .dataframe tbody tr th {\n",
       "        vertical-align: top;\n",
       "    }\n",
       "\n",
       "    .dataframe thead th {\n",
       "        text-align: right;\n",
       "    }\n",
       "</style>\n",
       "<table border=\"1\" class=\"dataframe\">\n",
       "  <thead>\n",
       "    <tr style=\"text-align: right;\">\n",
       "      <th></th>\n",
       "      <th>数量</th>\n",
       "      <th>单价</th>\n",
       "    </tr>\n",
       "  </thead>\n",
       "  <tbody>\n",
       "    <tr>\n",
       "      <th>count</th>\n",
       "      <td>18.000000</td>\n",
       "      <td>18.000000</td>\n",
       "    </tr>\n",
       "    <tr>\n",
       "      <th>mean</th>\n",
       "      <td>2.611111</td>\n",
       "      <td>17.212222</td>\n",
       "    </tr>\n",
       "    <tr>\n",
       "      <th>std</th>\n",
       "      <td>1.974511</td>\n",
       "      <td>3.035197</td>\n",
       "    </tr>\n",
       "    <tr>\n",
       "      <th>min</th>\n",
       "      <td>1.000000</td>\n",
       "      <td>12.990000</td>\n",
       "    </tr>\n",
       "    <tr>\n",
       "      <th>25%</th>\n",
       "      <td>1.000000</td>\n",
       "      <td>14.365000</td>\n",
       "    </tr>\n",
       "    <tr>\n",
       "      <th>50%</th>\n",
       "      <td>2.000000</td>\n",
       "      <td>17.490000</td>\n",
       "    </tr>\n",
       "    <tr>\n",
       "      <th>75%</th>\n",
       "      <td>3.750000</td>\n",
       "      <td>18.740000</td>\n",
       "    </tr>\n",
       "    <tr>\n",
       "      <th>max</th>\n",
       "      <td>7.000000</td>\n",
       "      <td>22.990000</td>\n",
       "    </tr>\n",
       "  </tbody>\n",
       "</table>\n",
       "</div>"
      ],
      "text/plain": [
       "              数量         单价\n",
       "count  18.000000  18.000000\n",
       "mean    2.611111  17.212222\n",
       "std     1.974511   3.035197\n",
       "min     1.000000  12.990000\n",
       "25%     1.000000  14.365000\n",
       "50%     2.000000  17.490000\n",
       "75%     3.750000  18.740000\n",
       "max     7.000000  22.990000"
      ]
     },
     "execution_count": 44,
     "metadata": {},
     "output_type": "execute_result"
    }
   ],
   "source": [
    "csv.describe()\n",
    "#csv.describe().mean()"
   ]
  },
  {
   "cell_type": "code",
   "execution_count": 45,
   "metadata": {
    "ExecuteTime": {
     "end_time": "2019-06-13T00:05:44.173702Z",
     "start_time": "2019-06-13T00:05:44.115354Z"
    }
   },
   "outputs": [
    {
     "data": {
      "text/html": [
       "<div>\n",
       "<style scoped>\n",
       "    .dataframe tbody tr th:only-of-type {\n",
       "        vertical-align: middle;\n",
       "    }\n",
       "\n",
       "    .dataframe tbody tr th {\n",
       "        vertical-align: top;\n",
       "    }\n",
       "\n",
       "    .dataframe thead th {\n",
       "        text-align: right;\n",
       "    }\n",
       "</style>\n",
       "<table border=\"1\" class=\"dataframe\">\n",
       "  <thead>\n",
       "    <tr style=\"text-align: right;\">\n",
       "      <th></th>\n",
       "      <th>型号</th>\n",
       "      <th>数量</th>\n",
       "      <th>单价</th>\n",
       "    </tr>\n",
       "  </thead>\n",
       "  <tbody>\n",
       "    <tr>\n",
       "      <th>0</th>\n",
       "      <td>HM0722-240</td>\n",
       "      <td>4</td>\n",
       "      <td>17.99</td>\n",
       "    </tr>\n",
       "    <tr>\n",
       "      <th>1</th>\n",
       "      <td>HM0722-3436</td>\n",
       "      <td>1</td>\n",
       "      <td>13.99</td>\n",
       "    </tr>\n",
       "    <tr>\n",
       "      <th>2</th>\n",
       "      <td>HM0722-3437</td>\n",
       "      <td>1</td>\n",
       "      <td>12.99</td>\n",
       "    </tr>\n",
       "    <tr>\n",
       "      <th>3</th>\n",
       "      <td>HM0723-3236</td>\n",
       "      <td>2</td>\n",
       "      <td>17.99</td>\n",
       "    </tr>\n",
       "    <tr>\n",
       "      <th>4</th>\n",
       "      <td>HM0724-1040</td>\n",
       "      <td>1</td>\n",
       "      <td>15.49</td>\n",
       "    </tr>\n",
       "  </tbody>\n",
       "</table>\n",
       "</div>"
      ],
      "text/plain": [
       "            型号  数量     单价\n",
       "0   HM0722-240   4  17.99\n",
       "1  HM0722-3436   1  13.99\n",
       "2  HM0722-3437   1  12.99\n",
       "3  HM0723-3236   2  17.99\n",
       "4  HM0724-1040   1  15.49"
      ]
     },
     "execution_count": 45,
     "metadata": {},
     "output_type": "execute_result"
    }
   ],
   "source": [
    "csv.head(5)"
   ]
  },
  {
   "cell_type": "code",
   "execution_count": 46,
   "metadata": {
    "ExecuteTime": {
     "end_time": "2019-06-13T00:05:44.238231Z",
     "start_time": "2019-06-13T00:05:44.174908Z"
    }
   },
   "outputs": [
    {
     "data": {
      "text/html": [
       "<div>\n",
       "<style scoped>\n",
       "    .dataframe tbody tr th:only-of-type {\n",
       "        vertical-align: middle;\n",
       "    }\n",
       "\n",
       "    .dataframe tbody tr th {\n",
       "        vertical-align: top;\n",
       "    }\n",
       "\n",
       "    .dataframe thead th {\n",
       "        text-align: right;\n",
       "    }\n",
       "</style>\n",
       "<table border=\"1\" class=\"dataframe\">\n",
       "  <thead>\n",
       "    <tr style=\"text-align: right;\">\n",
       "      <th></th>\n",
       "      <th>型号</th>\n",
       "      <th>数量</th>\n",
       "      <th>单价</th>\n",
       "    </tr>\n",
       "  </thead>\n",
       "  <tbody>\n",
       "    <tr>\n",
       "      <th>3</th>\n",
       "      <td>HM0723-3236</td>\n",
       "      <td>2</td>\n",
       "      <td>17.99</td>\n",
       "    </tr>\n",
       "    <tr>\n",
       "      <th>4</th>\n",
       "      <td>HM0724-1040</td>\n",
       "      <td>1</td>\n",
       "      <td>15.49</td>\n",
       "    </tr>\n",
       "    <tr>\n",
       "      <th>5</th>\n",
       "      <td>HM0725-2739</td>\n",
       "      <td>3</td>\n",
       "      <td>16.99</td>\n",
       "    </tr>\n",
       "  </tbody>\n",
       "</table>\n",
       "</div>"
      ],
      "text/plain": [
       "            型号  数量     单价\n",
       "3  HM0723-3236   2  17.99\n",
       "4  HM0724-1040   1  15.49\n",
       "5  HM0725-2739   3  16.99"
      ]
     },
     "execution_count": 46,
     "metadata": {},
     "output_type": "execute_result"
    }
   ],
   "source": [
    "csv[3:6]"
   ]
  },
  {
   "cell_type": "code",
   "execution_count": 47,
   "metadata": {
    "ExecuteTime": {
     "end_time": "2019-06-13T00:05:44.295606Z",
     "start_time": "2019-06-13T00:05:44.239619Z"
    }
   },
   "outputs": [
    {
     "data": {
      "text/html": [
       "<div>\n",
       "<style scoped>\n",
       "    .dataframe tbody tr th:only-of-type {\n",
       "        vertical-align: middle;\n",
       "    }\n",
       "\n",
       "    .dataframe tbody tr th {\n",
       "        vertical-align: top;\n",
       "    }\n",
       "\n",
       "    .dataframe thead th {\n",
       "        text-align: right;\n",
       "    }\n",
       "</style>\n",
       "<table border=\"1\" class=\"dataframe\">\n",
       "  <thead>\n",
       "    <tr style=\"text-align: right;\">\n",
       "      <th></th>\n",
       "      <th>型号</th>\n",
       "      <th>数量</th>\n",
       "      <th>单价</th>\n",
       "    </tr>\n",
       "  </thead>\n",
       "  <tbody>\n",
       "    <tr>\n",
       "      <th>15</th>\n",
       "      <td>HM0722-138</td>\n",
       "      <td>2</td>\n",
       "      <td>15.49</td>\n",
       "    </tr>\n",
       "    <tr>\n",
       "      <th>16</th>\n",
       "      <td>HM0722-139</td>\n",
       "      <td>6</td>\n",
       "      <td>16.99</td>\n",
       "    </tr>\n",
       "    <tr>\n",
       "      <th>17</th>\n",
       "      <td>HM0722-237</td>\n",
       "      <td>3</td>\n",
       "      <td>13.99</td>\n",
       "    </tr>\n",
       "  </tbody>\n",
       "</table>\n",
       "</div>"
      ],
      "text/plain": [
       "            型号  数量     单价\n",
       "15  HM0722-138   2  15.49\n",
       "16  HM0722-139   6  16.99\n",
       "17  HM0722-237   3  13.99"
      ]
     },
     "execution_count": 47,
     "metadata": {},
     "output_type": "execute_result"
    }
   ],
   "source": [
    "csv.tail(3)"
   ]
  },
  {
   "cell_type": "code",
   "execution_count": 48,
   "metadata": {
    "ExecuteTime": {
     "end_time": "2019-06-13T00:05:44.344128Z",
     "start_time": "2019-06-13T00:05:44.297317Z"
    }
   },
   "outputs": [
    {
     "data": {
      "text/plain": [
       "17.99    4\n",
       "13.99    3\n",
       "16.99    2\n",
       "15.49    2\n",
       "12.99    2\n",
       "21.99    1\n",
       "22.99    1\n",
       "18.99    1\n",
       "19.99    1\n",
       "20.99    1\n",
       "Name: 单价, dtype: int64"
      ]
     },
     "execution_count": 48,
     "metadata": {},
     "output_type": "execute_result"
    }
   ],
   "source": [
    "csv['单价'].value_counts()"
   ]
  },
  {
   "cell_type": "markdown",
   "metadata": {},
   "source": [
    "## Display Diagram With 'matplotlib'"
   ]
  },
  {
   "cell_type": "code",
   "execution_count": 49,
   "metadata": {
    "ExecuteTime": {
     "end_time": "2019-06-13T00:05:44.521548Z",
     "start_time": "2019-06-13T00:05:44.345316Z"
    }
   },
   "outputs": [
    {
     "data": {
      "image/png": "[encoded data removed]",
      "text/plain": [
       "<Figure size 432x288 with 1 Axes>"
      ]
     },
     "metadata": {
      "needs_background": "light"
     },
     "output_type": "display_data"
    }
   ],
   "source": [
    "#print(csv.型号.values)\n",
    "#print(csv.单价.values)\n",
    "\n",
    "display_num = 4\n",
    "\n",
    "x = csv.型号.values[0:display_num]\n",
    "y1 = csv.单价.values[0:display_num]\n",
    "y2 = csv.数量.values[0:display_num]\n",
    "\n",
    "ind = np.arange(len(x))\n",
    "width = 0.4\n",
    "fig, ax = plt.subplots()\n",
    "\n",
    "ax.bar(ind-width/2, y1, width, label=\"单价\")\n",
    "ax.bar(ind+width/2, y2, width, label=\"数量\")\n",
    "ax.set_xticks(ind)\n",
    "ax.set_xticklabels(x)\n",
    "\n",
    "#ax.plot(x, y1, label=\"单价\")\n",
    "#ax.plot(x, y2, label=\"数量\")\n",
    "\n",
    "ax.legend()\n",
    "\n",
    "plt.show()"
   ]
  },
  {
   "cell_type": "markdown",
   "metadata": {},
   "source": [
    "## Read XLSX FIle"
   ]
  },
  {
   "cell_type": "code",
   "execution_count": 50,
   "metadata": {
    "ExecuteTime": {
     "end_time": "2019-06-13T00:05:44.525528Z",
     "start_time": "2019-06-13T00:05:44.523343Z"
    }
   },
   "outputs": [],
   "source": [
    "# Install module 'xlrd' before read excel file.\n",
    "#\n",
    "#   %pip install xlrd\n",
    "#"
   ]
  },
  {
   "cell_type": "code",
   "execution_count": 51,
   "metadata": {
    "ExecuteTime": {
     "end_time": "2019-06-13T00:05:44.624179Z",
     "start_time": "2019-06-13T00:05:44.527098Z"
    },
    "scrolled": false
   },
   "outputs": [
    {
     "data": {
      "text/html": [
       "<div>\n",
       "<style scoped>\n",
       "    .dataframe tbody tr th:only-of-type {\n",
       "        vertical-align: middle;\n",
       "    }\n",
       "\n",
       "    .dataframe tbody tr th {\n",
       "        vertical-align: top;\n",
       "    }\n",
       "\n",
       "    .dataframe thead th {\n",
       "        text-align: right;\n",
       "    }\n",
       "</style>\n",
       "<table border=\"1\" class=\"dataframe\">\n",
       "  <thead>\n",
       "    <tr style=\"text-align: right;\">\n",
       "      <th></th>\n",
       "      <th>QUANTITY</th>\n",
       "    </tr>\n",
       "    <tr>\n",
       "      <th>REASON</th>\n",
       "      <th></th>\n",
       "    </tr>\n",
       "  </thead>\n",
       "  <tbody>\n",
       "    <tr>\n",
       "      <th>ORDERED_WRONG_ITEM</th>\n",
       "      <td>5</td>\n",
       "    </tr>\n",
       "    <tr>\n",
       "      <th>APPAREL_TOO_SMALL</th>\n",
       "      <td>74</td>\n",
       "    </tr>\n",
       "    <tr>\n",
       "      <th>APPAREL_STYLE</th>\n",
       "      <td>33</td>\n",
       "    </tr>\n",
       "    <tr>\n",
       "      <th>UNWANTED_ITEM</th>\n",
       "      <td>12</td>\n",
       "    </tr>\n",
       "    <tr>\n",
       "      <th>MISORDERED</th>\n",
       "      <td>8</td>\n",
       "    </tr>\n",
       "    <tr>\n",
       "      <th>APPAREL_TOO_LARGE</th>\n",
       "      <td>33</td>\n",
       "    </tr>\n",
       "    <tr>\n",
       "      <th>UNDELIVERABLE_UNKNOWN</th>\n",
       "      <td>2</td>\n",
       "    </tr>\n",
       "    <tr>\n",
       "      <th>NOT_AS_DESCRIBED</th>\n",
       "      <td>5</td>\n",
       "    </tr>\n",
       "    <tr>\n",
       "      <th>NO_REASON_GIVEN</th>\n",
       "      <td>6</td>\n",
       "    </tr>\n",
       "    <tr>\n",
       "      <th>QUALITY_UNACCEPTABLE</th>\n",
       "      <td>4</td>\n",
       "    </tr>\n",
       "    <tr>\n",
       "      <th>DEFECTIVE</th>\n",
       "      <td>9</td>\n",
       "    </tr>\n",
       "    <tr>\n",
       "      <th>UNDELIVERABLE_REFUSED</th>\n",
       "      <td>2</td>\n",
       "    </tr>\n",
       "    <tr>\n",
       "      <th>MISSED_ESTIMATED_DELIVERY</th>\n",
       "      <td>1</td>\n",
       "    </tr>\n",
       "    <tr>\n",
       "      <th>NEVER_ARRIVED</th>\n",
       "      <td>1</td>\n",
       "    </tr>\n",
       "    <tr>\n",
       "      <th>UNDELIVERABLE_MISSING_LABEL</th>\n",
       "      <td>3</td>\n",
       "    </tr>\n",
       "  </tbody>\n",
       "</table>\n",
       "</div>"
      ],
      "text/plain": [
       "                             QUANTITY\n",
       "REASON                               \n",
       "ORDERED_WRONG_ITEM                  5\n",
       "APPAREL_TOO_SMALL                  74\n",
       "APPAREL_STYLE                      33\n",
       "UNWANTED_ITEM                      12\n",
       "MISORDERED                          8\n",
       "APPAREL_TOO_LARGE                  33\n",
       "UNDELIVERABLE_UNKNOWN               2\n",
       "NOT_AS_DESCRIBED                    5\n",
       "NO_REASON_GIVEN                     6\n",
       "QUALITY_UNACCEPTABLE                4\n",
       "DEFECTIVE                           9\n",
       "UNDELIVERABLE_REFUSED               2\n",
       "MISSED_ESTIMATED_DELIVERY           1\n",
       "NEVER_ARRIVED                       1\n",
       "UNDELIVERABLE_MISSING_LABEL         3"
      ]
     },
     "execution_count": 51,
     "metadata": {},
     "output_type": "execute_result"
    }
   ],
   "source": [
    "xlsx = pd.read_excel('sample.xlsx', 'Sheet2', index_col=[0], na_values=['NA'])\n",
    "xlsx"
   ]
  },
  {
   "cell_type": "code",
   "execution_count": 52,
   "metadata": {
    "ExecuteTime": {
     "end_time": "2019-06-13T00:05:44.859571Z",
     "start_time": "2019-06-13T00:05:44.626383Z"
    }
   },
   "outputs": [
    {
     "data": {
      "text/plain": [
       "<matplotlib.axes._subplots.AxesSubplot at 0x7fb2c9fff4a8>"
      ]
     },
     "execution_count": 52,
     "metadata": {},
     "output_type": "execute_result"
    },
    {
     "data": {
      "image/png": "[encoded data removed]",
      "text/plain": [
       "<Figure size 432x288 with 1 Axes>"
      ]
     },
     "metadata": {
      "needs_background": "light"
     },
     "output_type": "display_data"
    }
   ],
   "source": [
    "xlsx.sort_values(by='QUANTITY', ascending=True).plot.barh()"
   ]
  }
 ],
 "metadata": {
  "kernelspec": {
   "display_name": "Python 3",
   "language": "python",
   "name": "python3"
  },
  "language_info": {
   "codemirror_mode": {
    "name": "ipython",
    "version": 3
   },
   "file_extension": ".py",
   "mimetype": "text/x-python",
   "name": "python",
   "nbconvert_exporter": "python",
   "pygments_lexer": "ipython3",
   "version": "3.7.3"
  },
  "latex_envs": {
   "LaTeX_envs_menu_present": true,
   "autoclose": false,
   "autocomplete": true,
   "bibliofile": "biblio.bib",
   "cite_by": "apalike",
   "current_citInitial": 1,
   "eqLabelWithNumbers": true,
   "eqNumInitial": 1,
   "hotkeys": {
    "equation": "Ctrl-E",
    "itemize": "Ctrl-I"
   },
   "labels_anchors": false,
   "latex_user_defs": false,
   "report_style_numbering": false,
   "user_envs_cfg": false
  },
  "toc": {
   "base_numbering": 1,
   "nav_menu": {},
   "number_sections": true,
   "sideBar": true,
   "skip_h1_title": false,
   "title_cell": "Table of Contents",
   "title_sidebar": "Contents",
   "toc_cell": false,
   "toc_position": {},
   "toc_section_display": true,
   "toc_window_display": false
  }
 },
 "nbformat": 4,
 "nbformat_minor": 2
}
