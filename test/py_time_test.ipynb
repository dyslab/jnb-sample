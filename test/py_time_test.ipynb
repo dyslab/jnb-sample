{
 "cells": [
  {
   "cell_type": "markdown",
   "metadata": {},
   "source": [
    "# Time"
   ]
  },
  {
   "cell_type": "markdown",
   "metadata": {
    "ExecuteTime": {
     "end_time": "2019-06-05T13:22:17.347849Z",
     "start_time": "2019-06-05T13:22:17.343602Z"
    }
   },
   "source": [
    "## Time structure and local time string"
   ]
  },
  {
   "cell_type": "code",
   "execution_count": 1,
   "metadata": {
    "ExecuteTime": {
     "end_time": "2019-06-05T17:49:56.196665Z",
     "start_time": "2019-06-05T17:49:56.192975Z"
    }
   },
   "outputs": [
    {
     "name": "stdout",
     "output_type": "stream",
     "text": [
      "time.struct_time(tm_year=2019, tm_mon=6, tm_mday=6, tm_hour=1, tm_min=49, tm_sec=56, tm_wday=3, tm_yday=157, tm_isdst=0)\n",
      "Thu Jun  6 01:49:56 2019\n",
      "('CST', 'CST')\n"
     ]
    }
   ],
   "source": [
    "import time\n",
    "now_time = time.localtime()\n",
    "print(now_time)\n",
    "print(time.asctime(now_time))\n",
    "print(time.tzname)"
   ]
  },
  {
   "cell_type": "markdown",
   "metadata": {
    "ExecuteTime": {
     "end_time": "2019-06-05T13:22:17.347849Z",
     "start_time": "2019-06-05T13:22:17.343602Z"
    }
   },
   "source": [
    "## Create time"
   ]
  },
  {
   "cell_type": "code",
   "execution_count": 2,
   "metadata": {
    "ExecuteTime": {
     "end_time": "2019-06-05T17:49:56.261321Z",
     "start_time": "2019-06-05T17:49:56.198767Z"
    }
   },
   "outputs": [
    {
     "name": "stdout",
     "output_type": "stream",
     "text": [
      "time.time(): 1559756996.2541392, time.clock():0.868391\n",
      "time.struct_time(tm_year=2020, tm_mon=8, tm_mday=8, tm_hour=0, tm_min=0, tm_sec=0, tm_wday=5, tm_yday=221, tm_isdst=0)\n",
      "Sat Aug  8 00:00:00 2020\n",
      "time.struct_time(tm_year=2019, tm_mon=11, tm_mday=29, tm_hour=0, tm_min=0, tm_sec=0, tm_wday=4, tm_yday=333, tm_isdst=-1)\n"
     ]
    }
   ],
   "source": [
    "print('time.time(): {}, time.clock():{}'.format(time.time(), time.clock()))\n",
    "\n",
    "# mktime\n",
    "ti = time.localtime(time.mktime((2020,8,8,0,0,0,0,0,0)))\n",
    "print(ti)\n",
    "print(time.asctime(ti))\n",
    "\n",
    "# strptime\n",
    "ti2 = time.strptime('2019年11月29日', '%Y年%m月%d日')\n",
    "print(ti2)"
   ]
  },
  {
   "cell_type": "markdown",
   "metadata": {
    "ExecuteTime": {
     "end_time": "2019-06-05T13:22:17.347849Z",
     "start_time": "2019-06-05T13:22:17.343602Z"
    }
   },
   "source": [
    "## Format time"
   ]
  },
  {
   "cell_type": "code",
   "execution_count": 3,
   "metadata": {
    "ExecuteTime": {
     "end_time": "2019-06-05T17:49:56.355346Z",
     "start_time": "2019-06-05T17:49:56.263644Z"
    }
   },
   "outputs": [
    {
     "name": "stdout",
     "output_type": "stream",
     "text": [
      "2020年08月08日\n"
     ]
    }
   ],
   "source": [
    "print(time.strftime('%Y年%m月%d日', (2020,8,8,0,0,0,0,0,0)))"
   ]
  },
  {
   "cell_type": "markdown",
   "metadata": {},
   "source": [
    "# Calendar"
   ]
  },
  {
   "cell_type": "code",
   "execution_count": 4,
   "metadata": {
    "ExecuteTime": {
     "end_time": "2019-06-05T17:49:56.415005Z",
     "start_time": "2019-06-05T17:49:56.364524Z"
    }
   },
   "outputs": [
    {
     "name": "stdout",
     "output_type": "stream",
     "text": [
      "                June 2019\n",
      "\n",
      " Sun   Mon   Tue   Wed   Thu   Fri   Sat\n",
      "\n",
      "                                       1\n",
      "\n",
      "   2     3     4     5     6     7     8\n",
      "\n",
      "   9    10    11    12    13    14    15\n",
      "\n",
      "  16    17    18    19    20    21    22\n",
      "\n",
      "  23    24    25    26    27    28    29\n",
      "\n",
      "  30\n",
      "\n",
      "\n"
     ]
    }
   ],
   "source": [
    "import calendar\n",
    "calendar.setfirstweekday(6)\n",
    "this_month = calendar.month(now_time.tm_year, now_time.tm_mon, 5, 2)\n",
    "print(this_month)"
   ]
  },
  {
   "cell_type": "code",
   "execution_count": 5,
   "metadata": {
    "ExecuteTime": {
     "end_time": "2019-06-05T17:49:56.491879Z",
     "start_time": "2019-06-05T17:49:56.417970Z"
    }
   },
   "outputs": [
    {
     "name": "stdout",
     "output_type": "stream",
     "text": [
      "星期四\n"
     ]
    }
   ],
   "source": [
    "weekdaynames = ['星期一','星期二','星期三','星期四','星期五','星期六','星期天']\n",
    "print(weekdaynames[calendar.weekday(2019,12,5)])"
   ]
  },
  {
   "cell_type": "markdown",
   "metadata": {},
   "source": [
    "# Datetime"
   ]
  },
  {
   "cell_type": "code",
   "execution_count": 6,
   "metadata": {
    "ExecuteTime": {
     "end_time": "2019-06-05T17:49:56.549933Z",
     "start_time": "2019-06-05T17:49:56.494174Z"
    }
   },
   "outputs": [
    {
     "name": "stdout",
     "output_type": "stream",
     "text": [
      "今天是： 2019-06-06\n",
      "此刻本地时间是： 2019-06-06 01:49:56.545763\n",
      "2019-02-15 ---> 2019-04-06\n",
      "2019/02/15\n",
      "2019年4月6日\n",
      "--------------------------------------------------------------------------------\n",
      "2019-05-15\n",
      "time.struct_time(tm_year=2019, tm_mon=5, tm_mday=15, tm_hour=0, tm_min=0, tm_sec=0, tm_wday=2, tm_yday=135, tm_isdst=-1)\n",
      ">>> The duration from 2019-02-15 to 2019-05-15 is 89 day(s).\n"
     ]
    }
   ],
   "source": [
    "import datetime\n",
    "\n",
    "d1 = datetime.date(2019, 2, 15)\n",
    "d2 = d1 + datetime.timedelta(50)\n",
    "print('今天是：', datetime.date.today())\n",
    "print('此刻本地时间是：', datetime.datetime.now())\n",
    "print('{} ---> {}'.format(d1, d2))\n",
    "print(d1.strftime('%Y/%m/%d'))\n",
    "print('{}年{}月{}日'.format(d2.year, d2.month, d2.day))\n",
    "\n",
    "print('--------------------------------------------------------------------------------')\n",
    "d3 = d1.replace(month=d1.month+3)\n",
    "print(d3)\n",
    "print(d3.timetuple())\n",
    "dd = d3 - d1\n",
    "print('>>> The duration from {0} to {1} is {2} day(s).'.format(\n",
    "    d1, d3, dd.days))"
   ]
  }
 ],
 "metadata": {
  "kernelspec": {
   "display_name": "Python 3",
   "language": "python",
   "name": "python3"
  },
  "language_info": {
   "codemirror_mode": {
    "name": "ipython",
    "version": 3
   },
   "file_extension": ".py",
   "mimetype": "text/x-python",
   "name": "python",
   "nbconvert_exporter": "python",
   "pygments_lexer": "ipython3",
   "version": "3.6.8"
  },
  "toc": {
   "base_numbering": 1,
   "nav_menu": {},
   "number_sections": true,
   "sideBar": true,
   "skip_h1_title": false,
   "title_cell": "Table of Contents",
   "title_sidebar": "Contents",
   "toc_cell": false,
   "toc_position": {},
   "toc_section_display": true,
   "toc_window_display": false
  }
 },
 "nbformat": 4,
 "nbformat_minor": 2
}
