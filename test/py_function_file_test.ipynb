{
 "cells": [
  {
   "cell_type": "markdown",
   "metadata": {},
   "source": [
    "# Variable Length Arguments"
   ]
  },
  {
   "cell_type": "code",
   "execution_count": 1,
   "metadata": {
    "ExecuteTime": {
     "end_time": "2019-06-13T00:12:23.533060Z",
     "start_time": "2019-06-13T00:12:23.525869Z"
    }
   },
   "outputs": [
    {
     "name": "stdout",
     "output_type": "stream",
     "text": [
      "arg1:  666\n",
      "arg1:  33\n",
      ">>> args: (44, 55, 66, 77, 88) , type: tuple, args[0]: 44  args[1]: 55  args[2]: 66  args[3]: 77  args[4]: 88  "
     ]
    }
   ],
   "source": [
    "def vfunc(arg1, *args):\n",
    "    print('arg1: ', arg1)\n",
    "    if args is not ():\n",
    "        print('>>> args:', args, ', type: tuple, ', end='')\n",
    "        for index, item in enumerate(args):\n",
    "            print('args[{}]:'.format(index), item, end='  ')\n",
    "    return\n",
    "\n",
    "\n",
    "vfunc(666)\n",
    "vfunc(33, 44, 55, 66, 77, 88)"
   ]
  },
  {
   "cell_type": "markdown",
   "metadata": {},
   "source": [
    "# Anonymous / Lambda"
   ]
  },
  {
   "cell_type": "code",
   "execution_count": 2,
   "metadata": {
    "ExecuteTime": {
     "end_time": "2019-06-13T00:12:23.597502Z",
     "start_time": "2019-06-13T00:12:23.544443Z"
    }
   },
   "outputs": [
    {
     "data": {
      "text/plain": [
       "62.83185307179586"
      ]
     },
     "execution_count": 2,
     "metadata": {},
     "output_type": "execute_result"
    }
   ],
   "source": [
    "from math import pi\n",
    "\n",
    "perimeter = lambda r: r * pi * 2\n",
    "\n",
    "perimeter(10)"
   ]
  },
  {
   "cell_type": "markdown",
   "metadata": {},
   "source": [
    "# Module dir()"
   ]
  },
  {
   "cell_type": "code",
   "execution_count": 3,
   "metadata": {
    "ExecuteTime": {
     "end_time": "2019-06-13T00:12:23.649064Z",
     "start_time": "2019-06-13T00:12:23.599628Z"
    }
   },
   "outputs": [
    {
     "name": "stdout",
     "output_type": "stream",
     "text": [
      "['__doc__', '__loader__', '__name__', '__package__', '__spec__', 'acos', 'acosh', 'asin', 'asinh', 'atan', 'atan2', 'atanh', 'ceil', 'copysign', 'cos', 'cosh', 'degrees', 'e', 'erf', 'erfc', 'exp', 'expm1', 'fabs', 'factorial', 'floor', 'fmod', 'frexp', 'fsum', 'gamma', 'gcd', 'hypot', 'inf', 'isclose', 'isfinite', 'isinf', 'isnan', 'ldexp', 'lgamma', 'log', 'log10', 'log1p', 'log2', 'modf', 'nan', 'pi', 'pow', 'radians', 'remainder', 'sin', 'sinh', 'sqrt', 'tan', 'tanh', 'tau', 'trunc']\n"
     ]
    }
   ],
   "source": [
    "import math\n",
    "\n",
    "print(dir(math))"
   ]
  },
  {
   "cell_type": "markdown",
   "metadata": {},
   "source": [
    "# Assertion and Exception"
   ]
  },
  {
   "cell_type": "code",
   "execution_count": 4,
   "metadata": {
    "ExecuteTime": {
     "end_time": "2019-06-13T00:12:35.792550Z",
     "start_time": "2019-06-13T00:12:23.651399Z"
    }
   },
   "outputs": [
    {
     "name": "stdout",
     "output_type": "stream",
     "text": [
      "input a number:87\n",
      "The number you input:  87\n"
     ]
    }
   ],
   "source": [
    "try :\n",
    "    p = int(input('input a number:'))\n",
    "    assert (p>=0), 'A negative number {} assertion.'.format(p)\n",
    "    print('The number you input: ', p)\n",
    "except ValueError as e:\n",
    "    print(e)\n",
    "except AssertionError as e:\n",
    "    print(e)"
   ]
  },
  {
   "cell_type": "markdown",
   "metadata": {},
   "source": [
    "# File access"
   ]
  },
  {
   "cell_type": "code",
   "execution_count": 5,
   "metadata": {
    "ExecuteTime": {
     "end_time": "2019-06-13T00:12:35.811642Z",
     "start_time": "2019-06-13T00:12:35.797371Z"
    }
   },
   "outputs": [
    {
     "name": "stdout",
     "output_type": "stream",
     "text": [
      "file size: 143 bytes\n",
      "Greets from \"sample.txt\".\n",
      "来自 \"sample.txt\" 的问候。\n",
      "\n",
      "123     456     789\n",
      "壹贰叁　abc 科技树\n",
      "\n",
      "\n",
      "\n",
      "Now is 2024-01-19 16:37:43.987189.\n",
      ">>> Congrats, file access succeed.\n"
     ]
    }
   ],
   "source": [
    "# Add timestamp in file.\n",
    "import datetime\n",
    "\n",
    "try:\n",
    "    ft = open('sample.txt', 'r+')\n",
    "    ft.seek(0,2)\n",
    "    ft.write('\\nNow is {}.'.format(datetime.datetime.now()))\n",
    "    ft.seek(0,0)\n",
    "    chunk = ft.read()\n",
    "    print('file size: {} bytes'.format(ft.tell()))\n",
    "    ft.close()\n",
    "except  IOError:\n",
    "    print('>>> Sorry, file access failed.')\n",
    "else:\n",
    "    print(chunk)\n",
    "    print('>>> Congrats, file access succeed.')"
   ]
  },
  {
   "cell_type": "code",
   "execution_count": 6,
   "metadata": {
    "ExecuteTime": {
     "end_time": "2019-06-13T00:12:35.894576Z",
     "start_time": "2019-06-13T00:12:35.813548Z"
    }
   },
   "outputs": [
    {
     "name": "stdout",
     "output_type": "stream",
     "text": [
      "file size: 25 bytes\n",
      ">>> Congrats, file Initialize succeed.\n"
     ]
    }
   ],
   "source": [
    "# Initialize file data.\n",
    "import datetime\n",
    "\n",
    "try:\n",
    "    ft = open('sample.txt', 'w')\n",
    "    ft.write('Greets from \"sample.txt\".')\n",
    "    print('file size: {} bytes'.format(ft.tell()))\n",
    "    ft.close()\n",
    "except  IOError:\n",
    "    print('>>> Sorry, file Initialize failed.')\n",
    "else:\n",
    "    print('>>> Congrats, file Initialize succeed.')"
   ]
  },
  {
   "cell_type": "markdown",
   "metadata": {},
   "source": [
    "# OS Module getcwd()"
   ]
  },
  {
   "cell_type": "code",
   "execution_count": 7,
   "metadata": {
    "ExecuteTime": {
     "end_time": "2019-06-13T00:12:36.029214Z",
     "start_time": "2019-06-13T00:12:35.895852Z"
    }
   },
   "outputs": [
    {
     "name": "stdout",
     "output_type": "stream",
     "text": [
      "Current work directory is  /home/vincent/pws/jnb-sample/test\n"
     ]
    }
   ],
   "source": [
    "import os\n",
    "\n",
    "print('Current work directory is ', os.getcwd())"
   ]
  }
 ],
 "metadata": {
  "kernelspec": {
   "display_name": "Python 3",
   "language": "python",
   "name": "python3"
  },
  "language_info": {
   "codemirror_mode": {
    "name": "ipython",
    "version": 3
   },
   "file_extension": ".py",
   "mimetype": "text/x-python",
   "name": "python",
   "nbconvert_exporter": "python",
   "pygments_lexer": "ipython3",
   "version": "3.7.3"
  },
  "latex_envs": {
   "LaTeX_envs_menu_present": true,
   "autoclose": false,
   "autocomplete": true,
   "bibliofile": "biblio.bib",
   "cite_by": "apalike",
   "current_citInitial": 1,
   "eqLabelWithNumbers": true,
   "eqNumInitial": 1,
   "hotkeys": {
    "equation": "Ctrl-E",
    "itemize": "Ctrl-I"
   },
   "labels_anchors": false,
   "latex_user_defs": false,
   "report_style_numbering": false,
   "user_envs_cfg": false
  },
  "toc": {
   "base_numbering": 1,
   "nav_menu": {},
   "number_sections": true,
   "sideBar": true,
   "skip_h1_title": false,
   "title_cell": "Table of Contents",
   "title_sidebar": "Contents",
   "toc_cell": false,
   "toc_position": {},
   "toc_section_display": true,
   "toc_window_display": false
  }
 },
 "nbformat": 4,
 "nbformat_minor": 2
}
