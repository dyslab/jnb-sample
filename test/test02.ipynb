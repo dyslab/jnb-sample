{
 "cells": [
  {
   "cell_type": "code",
   "execution_count": 1,
   "metadata": {
    "ExecuteTime": {
     "end_time": "2019-05-31T18:34:14.227460Z",
     "start_time": "2019-05-31T18:34:14.218799Z"
    }
   },
   "outputs": [
    {
     "data": {
      "text/plain": [
       "False"
      ]
     },
     "execution_count": 1,
     "metadata": {},
     "output_type": "execute_result"
    }
   ],
   "source": [
    "(-2.3).is_integer()"
   ]
  },
  {
   "cell_type": "code",
   "execution_count": 2,
   "metadata": {
    "ExecuteTime": {
     "end_time": "2019-05-31T18:34:14.284325Z",
     "start_time": "2019-05-31T18:34:14.229922Z"
    }
   },
   "outputs": [
    {
     "data": {
      "text/plain": [
       "'0x1.4051eb851eb85p+3'"
      ]
     },
     "execution_count": 2,
     "metadata": {},
     "output_type": "execute_result"
    }
   ],
   "source": [
    "(10.01).hex()"
   ]
  },
  {
   "cell_type": "code",
   "execution_count": 3,
   "metadata": {
    "ExecuteTime": {
     "end_time": "2019-05-31T18:34:14.332426Z",
     "start_time": "2019-05-31T18:34:14.286524Z"
    }
   },
   "outputs": [
    {
     "data": {
      "text/plain": [
       "True"
      ]
     },
     "execution_count": 3,
     "metadata": {},
     "output_type": "execute_result"
    }
   ],
   "source": [
    "\"dys\" in \"dyslab\""
   ]
  },
  {
   "cell_type": "code",
   "execution_count": 4,
   "metadata": {
    "ExecuteTime": {
     "end_time": "2019-05-31T18:34:14.397850Z",
     "start_time": "2019-05-31T18:34:14.334810Z"
    }
   },
   "outputs": [
    {
     "data": {
      "text/plain": [
       "False"
      ]
     },
     "execution_count": 4,
     "metadata": {},
     "output_type": "execute_result"
    }
   ],
   "source": [
    "3 in (1, 13, 6)"
   ]
  },
  {
   "cell_type": "code",
   "execution_count": 5,
   "metadata": {
    "ExecuteTime": {
     "end_time": "2019-05-31T18:34:14.449567Z",
     "start_time": "2019-05-31T18:34:14.402385Z"
    }
   },
   "outputs": [
    {
     "data": {
      "text/plain": [
       "[2, 3, 4, 5, 6, 7, 8]"
      ]
     },
     "execution_count": 5,
     "metadata": {},
     "output_type": "execute_result"
    }
   ],
   "source": [
    "list(range(2, 9))"
   ]
  },
  {
   "cell_type": "code",
   "execution_count": 6,
   "metadata": {
    "ExecuteTime": {
     "end_time": "2019-05-31T18:34:14.502803Z",
     "start_time": "2019-05-31T18:34:14.451524Z"
    }
   },
   "outputs": [
    {
     "data": {
      "text/plain": [
       "True"
      ]
     },
     "execution_count": 6,
     "metadata": {},
     "output_type": "execute_result"
    }
   ],
   "source": [
    "\"b\" in (\"a\", \"b\", \"c\")"
   ]
  },
  {
   "cell_type": "code",
   "execution_count": 7,
   "metadata": {
    "ExecuteTime": {
     "end_time": "2019-05-31T18:34:14.550956Z",
     "start_time": "2019-05-31T18:34:14.508829Z"
    }
   },
   "outputs": [
    {
     "data": {
      "text/plain": [
       "'bpr'"
      ]
     },
     "execution_count": 7,
     "metadata": {},
     "output_type": "execute_result"
    }
   ],
   "source": [
    "import random\n",
    "start = ord('a')\n",
    "end = ord('z')\n",
    "result = ''\n",
    "for i in range(3):\n",
    "    result += chr(random.randrange(start, end))\n",
    "result"
   ]
  },
  {
   "cell_type": "code",
   "execution_count": 8,
   "metadata": {
    "ExecuteTime": {
     "end_time": "2019-05-31T18:34:14.636053Z",
     "start_time": "2019-05-31T18:34:14.554382Z"
    }
   },
   "outputs": [
    {
     "data": {
      "text/plain": [
       "'GbdfYZ'"
      ]
     },
     "execution_count": 8,
     "metadata": {},
     "output_type": "execute_result"
    }
   ],
   "source": [
    "import random\n",
    "seed = 'abcdefghijklmnopqrstuvwxyzABCDEFGHIJKLMNOPQRSTUVWXYZ0123456789'\n",
    "result = ''\n",
    "for i in range(6):\n",
    "    result += seed[random.randrange(0, len(seed))]\n",
    "result"
   ]
  },
  {
   "cell_type": "markdown",
   "metadata": {},
   "source": [
    "# 双色球幸运号码"
   ]
  },
  {
   "cell_type": "code",
   "execution_count": 9,
   "metadata": {
    "ExecuteTime": {
     "end_time": "2019-05-31T18:34:14.780381Z",
     "start_time": "2019-05-31T18:34:14.638488Z"
    }
   },
   "outputs": [
    {
     "name": "stdout",
     "output_type": "stream",
     "text": [
      "China Union Lotto(双色球)幸运号码（5组）🀄🀄🀄 \n",
      "\n",
      "红球：[8, 20, 21, 24, 26, 28]，蓝球：[16]\n",
      "红球：[6, 17, 24, 26, 29, 30]，蓝球：[14]\n",
      "红球：[5, 22, 24, 25, 28, 30]，蓝球：[12]\n",
      "红球：[1, 7, 12, 13, 18, 23]，蓝球：[10]\n",
      "红球：[7, 8, 15, 17, 18, 23]，蓝球：[14]\n",
      "\n"
     ]
    }
   ],
   "source": [
    "import numpy as np\n",
    "\n",
    "\n",
    "def LuckyNumber():\n",
    "    reds = []\n",
    "    while len(reds) < 6:\n",
    "        red = np.random.randint(1, 34)\n",
    "        if not red in reds:\n",
    "            reds.append(red)\n",
    "    reds.sort()\n",
    "    blue = np.random.randint(1, 17, 1)\n",
    "    return '红球：{}，蓝球：{}'.format(reds, blue)\n",
    "\n",
    "\n",
    "results = ''\n",
    "for i in range(5):\n",
    "    results += LuckyNumber() + '\\n'\n",
    "print('China Union Lotto(双色球)幸运号码（5组）🀄🀄🀄 \\n\\n{}'.format(results))"
   ]
  }
 ],
 "metadata": {
  "kernelspec": {
   "display_name": "Python 3",
   "language": "python",
   "name": "python3"
  },
  "language_info": {
   "codemirror_mode": {
    "name": "ipython",
    "version": 3
   },
   "file_extension": ".py",
   "mimetype": "text/x-python",
   "name": "python",
   "nbconvert_exporter": "python",
   "pygments_lexer": "ipython3",
   "version": "3.6.8"
  },
  "toc": {
   "base_numbering": 1,
   "nav_menu": {},
   "number_sections": true,
   "sideBar": true,
   "skip_h1_title": false,
   "title_cell": "Table of Contents",
   "title_sidebar": "Contents",
   "toc_cell": false,
   "toc_position": {},
   "toc_section_display": true,
   "toc_window_display": false
  }
 },
 "nbformat": 4,
 "nbformat_minor": 2
}
