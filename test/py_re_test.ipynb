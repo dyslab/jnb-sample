{
 "cells": [
  {
   "cell_type": "markdown",
   "metadata": {},
   "source": [
    "# Regular Expression 正则表达式"
   ]
  },
  {
   "cell_type": "markdown",
   "metadata": {},
   "source": [
    "## Match / Search"
   ]
  },
  {
   "cell_type": "code",
   "execution_count": 1,
   "metadata": {
    "ExecuteTime": {
     "end_time": "2019-06-13T00:14:38.324424Z",
     "start_time": "2019-06-13T00:14:38.318006Z"
    },
    "scrolled": true
   },
   "outputs": [
    {
     "name": "stdout",
     "output_type": "stream",
     "text": [
      "None\n",
      "bcd Ef\n",
      "Ibcd 45\n",
      "A O\n",
      "A O\n"
     ]
    }
   ],
   "source": [
    "import re\n",
    "\n",
    "str = \"Abcd Efgh 123 Ibcd 456 Ofgh 789 Uxyz\"\n",
    "\n",
    "# match failed. return None\n",
    "m = re.match( r'bcd...', str, re.I)\n",
    "print(m)\n",
    "\n",
    "# search ok. return a match object\n",
    "m = re.search( r'bcd...', str, re.I)\n",
    "print(m.group())\n",
    "\n",
    "# return a match object\n",
    "m = re.search( r'I\\w*\\s\\d{2}', str, re.I)\n",
    "print(m.group())\n",
    "\n",
    "# return a match object\n",
    "s0 = re.search( r'([A-Z]).*([A-Z]).*U', str, re.M)\n",
    "print(s0.group(1), s0.group(2))\n",
    "\n",
    "# same as above\n",
    "prog = re.compile( r'([A-Z]).*([A-Z]).*U', re.M)\n",
    "s1=prog.search(str)\n",
    "print(s1.group(1), s1.group(2))"
   ]
  },
  {
   "cell_type": "markdown",
   "metadata": {},
   "source": [
    "## Replace(Sub) / Split"
   ]
  },
  {
   "cell_type": "code",
   "execution_count": 2,
   "metadata": {
    "ExecuteTime": {
     "end_time": "2019-06-13T00:14:38.518904Z",
     "start_time": "2019-06-13T00:14:38.338135Z"
    }
   },
   "outputs": [
    {
     "name": "stdout",
     "output_type": "stream",
     "text": [
      "A99 D99 G99 J99\n",
      "['Ab', ' D', 'f G', 'i J', 'l']\n"
     ]
    }
   ],
   "source": [
    "str = \"Abc Def Ghi Jkl\"\n",
    "\n",
    "# replace all letters in lowercase with digit 9.\n",
    "s10 = re.sub( r'[a-z]', '9', str )\n",
    "print(s10)\n",
    "\n",
    "# split str into a list\n",
    "list10 = re.split( r'[cehk]', str, re.I | re.M)\n",
    "print(list10)"
   ]
  },
  {
   "cell_type": "markdown",
   "metadata": {},
   "source": [
    "## More information on [Tutorials Point](https://www.tutorialspoint.com/python/python_reg_expressions.htm) and [Python Docs](https://docs.python.org/3/library/re.html)"
   ]
  }
 ],
 "metadata": {
  "kernelspec": {
   "display_name": "Python 3",
   "language": "python",
   "name": "python3"
  },
  "language_info": {
   "codemirror_mode": {
    "name": "ipython",
    "version": 3
   },
   "file_extension": ".py",
   "mimetype": "text/x-python",
   "name": "python",
   "nbconvert_exporter": "python",
   "pygments_lexer": "ipython3",
   "version": "3.7.3"
  },
  "latex_envs": {
   "LaTeX_envs_menu_present": true,
   "autoclose": false,
   "autocomplete": true,
   "bibliofile": "biblio.bib",
   "cite_by": "apalike",
   "current_citInitial": 1,
   "eqLabelWithNumbers": true,
   "eqNumInitial": 1,
   "hotkeys": {
    "equation": "Ctrl-E",
    "itemize": "Ctrl-I"
   },
   "labels_anchors": false,
   "latex_user_defs": false,
   "report_style_numbering": false,
   "user_envs_cfg": false
  },
  "toc": {
   "base_numbering": 1,
   "nav_menu": {},
   "number_sections": true,
   "sideBar": true,
   "skip_h1_title": false,
   "title_cell": "Table of Contents",
   "title_sidebar": "Contents",
   "toc_cell": false,
   "toc_position": {},
   "toc_section_display": true,
   "toc_window_display": false
  }
 },
 "nbformat": 4,
 "nbformat_minor": 2
}
