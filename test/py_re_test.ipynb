{
 "cells": [
  {
   "cell_type": "markdown",
   "metadata": {},
   "source": [
    "# Regular Expression 正则表达式"
   ]
  },
  {
   "cell_type": "markdown",
   "metadata": {},
   "source": [
    "## Match / Search"
   ]
  },
  {
   "cell_type": "code",
   "execution_count": 1,
   "metadata": {
    "ExecuteTime": {
     "end_time": "2019-10-31T11:22:30.673703Z",
     "start_time": "2019-10-31T11:22:30.662605Z"
    },
    "scrolled": true
   },
   "outputs": [
    {
     "name": "stdout",
     "output_type": "stream",
     "text": [
      "None\n",
      "bcd Ef\n",
      "Ibcd 45\n",
      "A O\n",
      "A O\n"
     ]
    }
   ],
   "source": [
    "import re\n",
    "\n",
    "str = \"Abcd Efgh 123 Ibcd 456 Ofgh 789 Uxyz\"\n",
    "\n",
    "# match failed. return None\n",
    "m = re.match( r'bcd...', str, re.I)\n",
    "print(m)\n",
    "\n",
    "# search ok. return a match object\n",
    "m = re.search( r'bcd...', str, re.I)\n",
    "print(m.group())\n",
    "\n",
    "# return a match object\n",
    "m = re.search( r'I\\w*\\s\\d{2}', str, re.I)\n",
    "print(m.group())\n",
    "\n",
    "# return a match object\n",
    "s0 = re.search( r'([A-Z]).*([A-Z]).*U', str, re.M)\n",
    "print(s0.group(1), s0.group(2))\n",
    "\n",
    "# same as above\n",
    "prog = re.compile( r'([A-Z]).*([A-Z]).*U', re.M)\n",
    "s1=prog.search(str)\n",
    "print(s1.group(1), s1.group(2))"
   ]
  },
  {
   "cell_type": "markdown",
   "metadata": {},
   "source": [
    "## Replace(Sub) / Split"
   ]
  },
  {
   "cell_type": "code",
   "execution_count": 2,
   "metadata": {
    "ExecuteTime": {
     "end_time": "2019-10-31T11:22:30.760554Z",
     "start_time": "2019-10-31T11:22:30.693526Z"
    }
   },
   "outputs": [
    {
     "name": "stdout",
     "output_type": "stream",
     "text": [
      "A99 D99 G99 J99\n",
      "['Ab', ' D', 'f G', 'i J', 'l']\n"
     ]
    }
   ],
   "source": [
    "str = \"Abc Def Ghi Jkl\"\n",
    "\n",
    "# replace all letters in lowercase with digit 9.\n",
    "s10 = re.sub( r'[a-z]', '9', str )\n",
    "print(s10)\n",
    "\n",
    "# split str into a list\n",
    "list10 = re.split( r'[cehk]', str, re.I | re.M)\n",
    "print(list10)"
   ]
  },
  {
   "cell_type": "markdown",
   "metadata": {},
   "source": [
    "## Email address validation"
   ]
  },
  {
   "cell_type": "code",
   "execution_count": 3,
   "metadata": {
    "ExecuteTime": {
     "end_time": "2019-10-31T11:22:30.830032Z",
     "start_time": "2019-10-31T11:22:30.765806Z"
    }
   },
   "outputs": [
    {
     "name": "stdout",
     "output_type": "stream",
     "text": [
      "Congrats, \"abc@112233.com\" is GOOD.\n",
      "Warning: \"abc112233com\" is an invalid email address.\n",
      "Warning: \"abc@112233com\" is an invalid email address.\n",
      "Warning: \"abc112233.com\" is an invalid email address.\n"
     ]
    }
   ],
   "source": [
    "valid_email = 'abc@112233.com'\n",
    "invalid_email1 = 'abc112233com'\n",
    "invalid_email2 = 'abc@112233com'\n",
    "invalid_email3 = 'abc112233.com'\n",
    "\n",
    "# email address validation function\n",
    "def emailValidator(e):\n",
    "    email_validator = re.compile(r'.+@.+\\..+')\n",
    "    if email_validator.match(e):\n",
    "        print('Congrats, \"%s\" is GOOD.' % e)\n",
    "    else:\n",
    "        print('Warning: \"%s\" is an invalid email address.' % e)\n",
    "\n",
    "emailValidator(valid_email)\n",
    "emailValidator(invalid_email1)\n",
    "emailValidator(invalid_email2)\n",
    "emailValidator(invalid_email3)"
   ]
  },
  {
   "cell_type": "markdown",
   "metadata": {},
   "source": [
    "*Note: More detailed information on [Tutorials Point](https://www.tutorialspoint.com/python/python_reg_expressions.htm), [Python Docs](https://docs.python.org/3/library/re.html) and [正则表达式 – 语法 | 菜鸟教程](https://www.runoob.com/regexp/regexp-syntax.html)*"
   ]
  }
 ],
 "metadata": {
  "kernelspec": {
   "display_name": "Python 3",
   "language": "python",
   "name": "python3"
  },
  "language_info": {
   "codemirror_mode": {
    "name": "ipython",
    "version": 3
   },
   "file_extension": ".py",
   "mimetype": "text/x-python",
   "name": "python",
   "nbconvert_exporter": "python",
   "pygments_lexer": "ipython3",
   "version": "3.7.5rc1"
  },
  "latex_envs": {
   "LaTeX_envs_menu_present": true,
   "autoclose": false,
   "autocomplete": true,
   "bibliofile": "biblio.bib",
   "cite_by": "apalike",
   "current_citInitial": 1,
   "eqLabelWithNumbers": true,
   "eqNumInitial": 1,
   "hotkeys": {
    "equation": "Ctrl-E",
    "itemize": "Ctrl-I"
   },
   "labels_anchors": false,
   "latex_user_defs": false,
   "report_style_numbering": false,
   "user_envs_cfg": false
  },
  "toc": {
   "base_numbering": 1,
   "nav_menu": {},
   "number_sections": true,
   "sideBar": true,
   "skip_h1_title": false,
   "title_cell": "Table of Contents",
   "title_sidebar": "Contents",
   "toc_cell": false,
   "toc_position": {},
   "toc_section_display": true,
   "toc_window_display": false
  }
 },
 "nbformat": 4,
 "nbformat_minor": 2
}
