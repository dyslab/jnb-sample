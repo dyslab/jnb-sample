{
 "cells": [
  {
   "cell_type": "markdown",
   "metadata": {},
   "source": [
    "# Create a range list"
   ]
  },
  {
   "cell_type": "code",
   "execution_count": 1,
   "metadata": {
    "ExecuteTime": {
     "end_time": "2019-06-05T10:46:05.932673Z",
     "start_time": "2019-06-05T10:46:05.924988Z"
    }
   },
   "outputs": [
    {
     "data": {
      "text/plain": [
       "[11, 12, 13, 14, 15, 16, 17, 18, 19]"
      ]
     },
     "execution_count": 1,
     "metadata": {},
     "output_type": "execute_result"
    }
   ],
   "source": [
    "source = list(range(11, 20))\n",
    "source"
   ]
  },
  {
   "cell_type": "markdown",
   "metadata": {},
   "source": [
    "# Slice/Update list"
   ]
  },
  {
   "cell_type": "code",
   "execution_count": 2,
   "metadata": {
    "ExecuteTime": {
     "end_time": "2019-06-05T10:46:05.989524Z",
     "start_time": "2019-06-05T10:46:05.934387Z"
    }
   },
   "outputs": [
    {
     "name": "stdout",
     "output_type": "stream",
     "text": [
      "[56, 78]\n",
      "[12, 'ABC', 34, 56, 78, 90, 'abc', 77, 88, 99]\n",
      "[12, 'ABC', 78, 90, 'abc', 77, 88, 99]\n",
      "[12, 'ABC', 78, 90, 'abc', 77, 88]\n"
     ]
    }
   ],
   "source": [
    "source = [12, 34, 56, 78, 90]\n",
    "print(source[2:4])\n",
    "\n",
    "source.append('abc')\n",
    "source.insert(1, 'ABC')\n",
    "source.extend((77, 88, 99))\n",
    "print(source)\n",
    "\n",
    "del source[2:4]\n",
    "print(source)\n",
    "\n",
    "source.pop()\n",
    "print(source)"
   ]
  },
  {
   "cell_type": "markdown",
   "metadata": {},
   "source": [
    "# Sort list"
   ]
  },
  {
   "cell_type": "code",
   "execution_count": 3,
   "metadata": {
    "ExecuteTime": {
     "end_time": "2019-06-05T10:46:06.049598Z",
     "start_time": "2019-06-05T10:46:05.990895Z"
    }
   },
   "outputs": [
    {
     "name": "stdout",
     "output_type": "stream",
     "text": [
      "[5, 12, 14, 33, 33, 45, 83, 95, 123]\n"
     ]
    }
   ],
   "source": [
    "source = [12, 33, 45, 123, 14, 5, 33, 95, 83]\n",
    "print(sorted(source))"
   ]
  },
  {
   "cell_type": "markdown",
   "metadata": {},
   "source": [
    "# Enumerate list"
   ]
  },
  {
   "cell_type": "code",
   "execution_count": 4,
   "metadata": {
    "ExecuteTime": {
     "end_time": "2019-06-05T10:46:06.119294Z",
     "start_time": "2019-06-05T10:46:06.052028Z"
    }
   },
   "outputs": [
    {
     "name": "stdout",
     "output_type": "stream",
     "text": [
      "0. lab   |||   1. 老杜   |||   2. Willson   |||   "
     ]
    }
   ],
   "source": [
    "source = ['lab', '老杜', 'Willson']\n",
    "\n",
    "for index, item in enumerate(source):\n",
    "    print('{}. {}'.format(index, item), end='   |||   ')"
   ]
  },
  {
   "cell_type": "markdown",
   "metadata": {},
   "source": [
    "# Zip lists"
   ]
  },
  {
   "cell_type": "code",
   "execution_count": 5,
   "metadata": {
    "ExecuteTime": {
     "end_time": "2019-06-05T10:46:06.196778Z",
     "start_time": "2019-06-05T10:46:06.123371Z"
    }
   },
   "outputs": [
    {
     "name": "stdout",
     "output_type": "stream",
     "text": [
      "        老张： 70分\n",
      "        老杜： 80分\n",
      "        老李： 66分\n",
      "       老王头： 99分\n"
     ]
    }
   ],
   "source": [
    "names = ['老张', '老杜', '老李', '老王头']\n",
    "marks = [70, 80, 66, 99]\n",
    "\n",
    "for name, mark in zip(names, marks):\n",
    "    print('{}：{:>3}分'.format(name.rjust(10), mark))"
   ]
  }
 ],
 "metadata": {
  "kernelspec": {
   "display_name": "Python 3",
   "language": "python",
   "name": "python3"
  },
  "language_info": {
   "codemirror_mode": {
    "name": "ipython",
    "version": 3
   },
   "file_extension": ".py",
   "mimetype": "text/x-python",
   "name": "python",
   "nbconvert_exporter": "python",
   "pygments_lexer": "ipython3",
   "version": "3.6.8"
  },
  "toc": {
   "base_numbering": 1,
   "nav_menu": {},
   "number_sections": true,
   "sideBar": true,
   "skip_h1_title": false,
   "title_cell": "Table of Contents",
   "title_sidebar": "Contents",
   "toc_cell": false,
   "toc_position": {},
   "toc_section_display": true,
   "toc_window_display": false
  }
 },
 "nbformat": 4,
 "nbformat_minor": 2
}
