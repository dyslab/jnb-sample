{
 "cells": [
  {
   "cell_type": "markdown",
   "metadata": {},
   "source": [
    "# This is a test sample for Jupyter Notebook."
   ]
  },
  {
   "cell_type": "code",
   "execution_count": 1,
   "metadata": {
    "ExecuteTime": {
     "end_time": "2019-06-01T19:39:14.225595Z",
     "start_time": "2019-06-01T19:39:14.221066Z"
    },
    "scrolled": true
   },
   "outputs": [
    {
     "name": "stdout",
     "output_type": "stream",
     "text": [
      "37\n"
     ]
    }
   ],
   "source": [
    "i = 10\n",
    "j = 27\n",
    "print(i+j)"
   ]
  },
  {
   "cell_type": "code",
   "execution_count": 2,
   "metadata": {
    "ExecuteTime": {
     "end_time": "2019-06-01T19:39:14.292634Z",
     "start_time": "2019-06-01T19:39:14.227849Z"
    }
   },
   "outputs": [
    {
     "name": "stdout",
     "output_type": "stream",
     "text": [
      "Hello Jupyter Notebook\n"
     ]
    }
   ],
   "source": [
    "print(\"Hello Jupyter Notebook\")"
   ]
  },
  {
   "cell_type": "markdown",
   "metadata": {},
   "source": [
    "## Hello JNB ver 1.0\n",
    "\n",
    "```python\n",
    "print \"Hello World\"\n",
    "```"
   ]
  },
  {
   "cell_type": "markdown",
   "metadata": {},
   "source": [
    "# LaTeX Demo\n",
    "\n",
    "$$e^x=\\sum_{i=0}^\\infty \\frac{1}{i!}x^i$$"
   ]
  },
  {
   "cell_type": "code",
   "execution_count": 3,
   "metadata": {
    "ExecuteTime": {
     "end_time": "2019-06-01T19:39:16.728300Z",
     "start_time": "2019-06-01T19:39:14.293935Z"
    },
    "scrolled": false
   },
   "outputs": [
    {
     "data": {
      "application/vnd.jupyter.widget-view+json": {
       "model_id": "193f52a5dac846b886682d8cf751fedd",
       "version_major": 2,
       "version_minor": 0
      },
      "text/plain": [
       "Map(basemap={'url': 'https://{s}.tile.openstreetmap.org/{z}/{x}/{y}.png', 'max_zoom': 19, 'attribution': 'Map …"
      ]
     },
     "metadata": {},
     "output_type": "display_data"
    }
   ],
   "source": [
    "from ipyleaflet import Map\n",
    "\n",
    "Map(center=[34, -80], zoom=10)"
   ]
  },
  {
   "cell_type": "raw",
   "metadata": {
    "ExecuteTime": {
     "end_time": "2019-05-28T17:59:17.406688Z",
     "start_time": "2019-05-28T17:59:17.396588Z"
    }
   },
   "source": [
    "2019-05-29 01:57:02 "
   ]
  }
 ],
 "metadata": {
  "kernelspec": {
   "display_name": "Python 3",
   "language": "python",
   "name": "python3"
  },
  "language_info": {
   "codemirror_mode": {
    "name": "ipython",
    "version": 3
   },
   "file_extension": ".py",
   "mimetype": "text/x-python",
   "name": "python",
   "nbconvert_exporter": "python",
   "pygments_lexer": "ipython3",
   "version": "3.6.8"
  },
  "toc": {
   "base_numbering": 1,
   "nav_menu": {},
   "number_sections": true,
   "sideBar": true,
   "skip_h1_title": false,
   "title_cell": "Table of Contents",
   "title_sidebar": "Contents",
   "toc_cell": false,
   "toc_position": {},
   "toc_section_display": true,
   "toc_window_display": false
  },
  "widgets": {
   "application/vnd.jupyter.widget-state+json": {
    "state": {
     "0d71431f5e30479ebbd90487e29586e6": {
      "model_module": "jupyter-leaflet",
      "model_module_version": "~0.10.2",
      "model_name": "LeafletMapStyleModel",
      "state": {
       "_model_module_version": "~0.10.2",
       "_view_count": null,
       "_view_module": "@jupyter-widgets/base",
       "_view_module_version": "1.1.0",
       "_view_name": "StyleView",
       "cursor": "grab"
      }
     },
     "171967f21df1472998be5af8a6bd5b97": {
      "model_module": "jupyter-leaflet",
      "model_module_version": "~0.10.2",
      "model_name": "LeafletMapStyleModel",
      "state": {
       "_model_module_version": "~0.10.2",
       "_view_count": null,
       "_view_module": "@jupyter-widgets/base",
       "_view_module_version": "1.1.0",
       "_view_name": "StyleView",
       "cursor": "grab"
      }
     },
     "1f2ea3779b04408ab5995fc78fff0e7f": {
      "model_module": "jupyter-leaflet",
      "model_module_version": "~0.10.2",
      "model_name": "LeafletMapStyleModel",
      "state": {
       "_model_module_version": "~0.10.2",
       "_view_count": null,
       "_view_module": "@jupyter-widgets/base",
       "_view_module_version": "1.1.0",
       "_view_name": "StyleView",
       "cursor": "move"
      }
     },
     "242b65e949504cb2b59e521e3c3451f0": {
      "model_module": "jupyter-leaflet",
      "model_module_version": "~0.10.2",
      "model_name": "LeafletMapModel",
      "state": {
       "_dom_classes": [],
       "_model_module_version": "~0.10.2",
       "_view_count": null,
       "_view_module_version": "~0.10.2",
       "basemap": {
        "attribution": "Map data (c) <a href=\"https://openstreetmap.org\">OpenStreetMap</a> contributors",
        "max_zoom": 19,
        "url": "https://{s}.tile.openstreetmap.org/{z}/{x}/{y}.png"
       },
       "center": [
        34,
        -80
       ],
       "default_style": "IPY_MODEL_0d71431f5e30479ebbd90487e29586e6",
       "dragging_style": "IPY_MODEL_1f2ea3779b04408ab5995fc78fff0e7f",
       "east": -79.33914184570314,
       "fullscreen": false,
       "interpolation": "bilinear",
       "layers": [
        "IPY_MODEL_47beb51f4c884e06a0b45cb0981d49a7"
       ],
       "layout": "IPY_MODEL_e020bb7bd4e54785a480ef5b675ddb8d",
       "modisdate": "yesterday",
       "north": 34.227699943873155,
       "options": [
        "attribution_control",
        "basemap",
        "bounce_at_zoom_limits",
        "box_zoom",
        "center",
        "close_popup_on_click",
        "double_click_zoom",
        "dragging",
        "fullscreen",
        "inertia",
        "inertia_deceleration",
        "inertia_max_speed",
        "interpolation",
        "keyboard",
        "keyboard_pan_offset",
        "keyboard_zoom_offset",
        "max_zoom",
        "min_zoom",
        "scroll_wheel_zoom",
        "tap",
        "tap_tolerance",
        "touch_zoom",
        "world_copy_jump",
        "zoom",
        "zoom_animation_threshold",
        "zoom_control",
        "zoom_start"
       ],
       "south": 33.77229828866843,
       "style": "IPY_MODEL_61be1d8d3f214682818f92881d3f7e7a",
       "west": -80.66162109375001,
       "zoom": 10
      }
     },
     "4492241169a5497ca7e97114d5882df9": {
      "model_module": "@jupyter-widgets/base",
      "model_module_version": "1.1.0",
      "model_name": "LayoutModel",
      "state": {}
     },
     "47beb51f4c884e06a0b45cb0981d49a7": {
      "model_module": "jupyter-leaflet",
      "model_module_version": "~0.10.2",
      "model_name": "LeafletTileLayerModel",
      "state": {
       "_model_module_version": "~0.10.2",
       "_view_count": null,
       "_view_module_version": "~0.10.2",
       "base": true,
       "max_zoom": 19,
       "min_zoom": 1,
       "options": [
        "attribution",
        "detect_retina",
        "max_zoom",
        "min_zoom",
        "tile_size"
       ]
      }
     },
     "61be1d8d3f214682818f92881d3f7e7a": {
      "model_module": "jupyter-leaflet",
      "model_module_version": "~0.10.2",
      "model_name": "LeafletMapStyleModel",
      "state": {
       "_model_module_version": "~0.10.2",
       "_view_count": null,
       "_view_module": "@jupyter-widgets/base",
       "_view_module_version": "1.1.0",
       "_view_name": "StyleView",
       "cursor": "grab"
      }
     },
     "73ebf37ae237440fb0fd44051523fc63": {
      "model_module": "jupyter-leaflet",
      "model_module_version": "~0.10.2",
      "model_name": "LeafletTileLayerModel",
      "state": {
       "_model_module_version": "~0.10.2",
       "_view_count": null,
       "_view_module_version": "~0.10.2",
       "base": true,
       "max_zoom": 19,
       "min_zoom": 1,
       "options": [
        "attribution",
        "detect_retina",
        "max_zoom",
        "min_zoom",
        "tile_size"
       ]
      }
     },
     "b89ab4aabd074d47a4a56455d52380ec": {
      "model_module": "jupyter-leaflet",
      "model_module_version": "~0.10.2",
      "model_name": "LeafletMapStyleModel",
      "state": {
       "_model_module_version": "~0.10.2",
       "_view_count": null,
       "_view_module": "@jupyter-widgets/base",
       "_view_module_version": "1.1.0",
       "_view_name": "StyleView",
       "cursor": "grab"
      }
     },
     "c959155c004b431c9bc1044c38a6b274": {
      "model_module": "jupyter-leaflet",
      "model_module_version": "~0.10.2",
      "model_name": "LeafletMapStyleModel",
      "state": {
       "_model_module_version": "~0.10.2",
       "_view_count": null,
       "_view_module": "@jupyter-widgets/base",
       "_view_module_version": "1.1.0",
       "_view_name": "StyleView",
       "cursor": "move"
      }
     },
     "e020bb7bd4e54785a480ef5b675ddb8d": {
      "model_module": "@jupyter-widgets/base",
      "model_module_version": "1.1.0",
      "model_name": "LayoutModel",
      "state": {}
     },
     "faeb229a425e47208b0c3036d581c6a4": {
      "model_module": "jupyter-leaflet",
      "model_module_version": "~0.10.2",
      "model_name": "LeafletMapModel",
      "state": {
       "_dom_classes": [],
       "_model_module_version": "~0.10.2",
       "_view_count": null,
       "_view_module_version": "~0.10.2",
       "basemap": {
        "attribution": "Map data (c) <a href=\"https://openstreetmap.org\">OpenStreetMap</a> contributors",
        "max_zoom": 19,
        "url": "https://{s}.tile.openstreetmap.org/{z}/{x}/{y}.png"
       },
       "center": [
        34,
        -80
       ],
       "default_style": "IPY_MODEL_b89ab4aabd074d47a4a56455d52380ec",
       "dragging_style": "IPY_MODEL_c959155c004b431c9bc1044c38a6b274",
       "east": -79.33914184570314,
       "fullscreen": false,
       "interpolation": "bilinear",
       "layers": [
        "IPY_MODEL_73ebf37ae237440fb0fd44051523fc63"
       ],
       "layout": "IPY_MODEL_4492241169a5497ca7e97114d5882df9",
       "modisdate": "yesterday",
       "north": 34.227699943873155,
       "options": [
        "attribution_control",
        "basemap",
        "bounce_at_zoom_limits",
        "box_zoom",
        "center",
        "close_popup_on_click",
        "double_click_zoom",
        "dragging",
        "fullscreen",
        "inertia",
        "inertia_deceleration",
        "inertia_max_speed",
        "interpolation",
        "keyboard",
        "keyboard_pan_offset",
        "keyboard_zoom_offset",
        "max_zoom",
        "min_zoom",
        "scroll_wheel_zoom",
        "tap",
        "tap_tolerance",
        "touch_zoom",
        "world_copy_jump",
        "zoom",
        "zoom_animation_threshold",
        "zoom_control",
        "zoom_start"
       ],
       "south": 33.77229828866843,
       "style": "IPY_MODEL_171967f21df1472998be5af8a6bd5b97",
       "west": -80.66162109375001,
       "zoom": 10
      }
     }
    },
    "version_major": 2,
    "version_minor": 0
   }
  }
 },
 "nbformat": 4,
 "nbformat_minor": 2
}
