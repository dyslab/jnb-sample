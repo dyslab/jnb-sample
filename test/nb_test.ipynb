{
 "cells": [
  {
   "cell_type": "markdown",
   "metadata": {},
   "source": [
    "# This is a test sample for Jupyter Notebook."
   ]
  },
  {
   "cell_type": "code",
   "execution_count": 1,
   "metadata": {
    "ExecuteTime": {
     "end_time": "2019-06-08T14:12:00.495139Z",
     "start_time": "2019-06-08T14:12:00.487641Z"
    }
   },
   "outputs": [
    {
     "name": "stdout",
     "output_type": "stream",
     "text": [
      "Hello Jupyter Notebook\n"
     ]
    }
   ],
   "source": [
    "print(\"Hello Jupyter Notebook\")"
   ]
  },
  {
   "cell_type": "markdown",
   "metadata": {},
   "source": [
    "## Hello JNB ver 1.0\n",
    "\n",
    "```python\n",
    "print \"Hello World\"\n",
    "```"
   ]
  },
  {
   "cell_type": "markdown",
   "metadata": {},
   "source": [
    "# LaTeX Demo\n",
    "\n",
    "$$e^x=\\sum_{i=0}^\\infty \\frac{1}{i!}x^i$$"
   ]
  },
  {
   "cell_type": "code",
   "execution_count": 2,
   "metadata": {
    "ExecuteTime": {
     "end_time": "2019-06-08T14:12:00.565934Z",
     "start_time": "2019-06-08T14:12:00.524746Z"
    }
   },
   "outputs": [
    {
     "data": {
      "text/latex": [
       "\n",
       "\\begin{align}\n",
       "\\dot{x} & = \\sigma(y^2-x^2) \\\\\n",
       "\\dot{y} & = \\rho x - y_1 - xz \\\\\n",
       "\\dot{z} & = -\\beta z + xy\n",
       "\\end{align}\n",
       "\n",
       "\\begin{align}\n",
       "\\\\\n",
       "\\end{align}\n",
       "\n",
       "\\begin{equation*}\n",
       "\\mathbf{V}_1 \\times \\mathbf{V}_2 =  \\begin{vmatrix}\n",
       "\\mathbf{i} & \\mathbf{j} & \\mathbf{k} \\\\\n",
       "\\frac{\\partial X}{\\partial u} &  \\frac{\\partial Y}{\\partial u} & 0 \\\\\n",
       "\\frac{\\partial X}{\\partial v} &  \\frac{\\partial Y}{\\partial v} & 0\n",
       "\\end{vmatrix}\n",
       "\\end{equation*}\n",
       "\n",
       "$$\n",
       "$$\n",
       "\n",
       "\\begin{eqnarray}\n",
       "x' &=& &x \\sin\\phi &+& z \\cos\\phi \\\\\n",
       "z' &=& - &x \\cos\\phi &+& z \\sin\\phi \\\\\n",
       "\\end{eqnarray}\n"
      ],
      "text/plain": [
       "<IPython.core.display.Latex object>"
      ]
     },
     "metadata": {},
     "output_type": "display_data"
    }
   ],
   "source": [
    "%%latex\n",
    "\n",
    "\\begin{align}\n",
    "\\dot{x} & = \\sigma(y^2-x^2) \\\\\n",
    "\\dot{y} & = \\rho x - y_1 - xz \\\\\n",
    "\\dot{z} & = -\\beta z + xy\n",
    "\\end{align}\n",
    "\n",
    "\\begin{align}\n",
    "\\\\\n",
    "\\end{align}\n",
    "\n",
    "\\begin{equation*}\n",
    "\\mathbf{V}_1 \\times \\mathbf{V}_2 =  \\begin{vmatrix}\n",
    "\\mathbf{i} & \\mathbf{j} & \\mathbf{k} \\\\\n",
    "\\frac{\\partial X}{\\partial u} &  \\frac{\\partial Y}{\\partial u} & 0 \\\\\n",
    "\\frac{\\partial X}{\\partial v} &  \\frac{\\partial Y}{\\partial v} & 0\n",
    "\\end{vmatrix}\n",
    "\\end{equation*}\n",
    "\n",
    "$$\n",
    "$$\n",
    "\n",
    "\\begin{eqnarray}\n",
    "x' &=& &x \\sin\\phi &+& z \\cos\\phi \\\\\n",
    "z' &=& - &x \\cos\\phi &+& z \\sin\\phi \\\\\n",
    "\\end{eqnarray}"
   ]
  },
  {
   "cell_type": "markdown",
   "metadata": {},
   "source": [
    "# Magic"
   ]
  },
  {
   "cell_type": "code",
   "execution_count": 3,
   "metadata": {
    "ExecuteTime": {
     "end_time": "2019-06-08T14:12:00.619046Z",
     "start_time": "2019-06-08T14:12:00.568187Z"
    }
   },
   "outputs": [
    {
     "data": {
      "application/json": {
       "cell": {
        "!": "OSMagics",
        "HTML": "Other",
        "SVG": "Other",
        "bash": "Other",
        "capture": "ExecutionMagics",
        "debug": "ExecutionMagics",
        "file": "Other",
        "html": "DisplayMagics",
        "javascript": "DisplayMagics",
        "js": "DisplayMagics",
        "latex": "DisplayMagics",
        "markdown": "DisplayMagics",
        "perl": "Other",
        "prun": "ExecutionMagics",
        "pypy": "Other",
        "python": "Other",
        "python2": "Other",
        "python3": "Other",
        "ruby": "Other",
        "script": "ScriptMagics",
        "sh": "Other",
        "svg": "DisplayMagics",
        "sx": "OSMagics",
        "system": "OSMagics",
        "time": "ExecutionMagics",
        "timeit": "ExecutionMagics",
        "writefile": "OSMagics"
       },
       "line": {
        "alias": "OSMagics",
        "alias_magic": "BasicMagics",
        "autoawait": "AsyncMagics",
        "autocall": "AutoMagics",
        "automagic": "AutoMagics",
        "autosave": "KernelMagics",
        "bookmark": "OSMagics",
        "cat": "Other",
        "cd": "OSMagics",
        "clear": "KernelMagics",
        "colors": "BasicMagics",
        "conda": "PackagingMagics",
        "config": "ConfigMagics",
        "connect_info": "KernelMagics",
        "cp": "Other",
        "debug": "ExecutionMagics",
        "dhist": "OSMagics",
        "dirs": "OSMagics",
        "doctest_mode": "BasicMagics",
        "ed": "Other",
        "edit": "KernelMagics",
        "env": "OSMagics",
        "gui": "BasicMagics",
        "hist": "Other",
        "history": "HistoryMagics",
        "killbgscripts": "ScriptMagics",
        "ldir": "Other",
        "less": "KernelMagics",
        "lf": "Other",
        "lk": "Other",
        "ll": "Other",
        "load": "CodeMagics",
        "load_ext": "ExtensionMagics",
        "loadpy": "CodeMagics",
        "logoff": "LoggingMagics",
        "logon": "LoggingMagics",
        "logstart": "LoggingMagics",
        "logstate": "LoggingMagics",
        "logstop": "LoggingMagics",
        "ls": "Other",
        "lsmagic": "BasicMagics",
        "lx": "Other",
        "macro": "ExecutionMagics",
        "magic": "BasicMagics",
        "man": "KernelMagics",
        "matplotlib": "PylabMagics",
        "mkdir": "Other",
        "more": "KernelMagics",
        "mv": "Other",
        "notebook": "BasicMagics",
        "page": "BasicMagics",
        "pastebin": "CodeMagics",
        "pdb": "ExecutionMagics",
        "pdef": "NamespaceMagics",
        "pdoc": "NamespaceMagics",
        "pfile": "NamespaceMagics",
        "pinfo": "NamespaceMagics",
        "pinfo2": "NamespaceMagics",
        "pip": "PackagingMagics",
        "popd": "OSMagics",
        "pprint": "BasicMagics",
        "precision": "BasicMagics",
        "prun": "ExecutionMagics",
        "psearch": "NamespaceMagics",
        "psource": "NamespaceMagics",
        "pushd": "OSMagics",
        "pwd": "OSMagics",
        "pycat": "OSMagics",
        "pylab": "PylabMagics",
        "qtconsole": "KernelMagics",
        "quickref": "BasicMagics",
        "recall": "HistoryMagics",
        "rehashx": "OSMagics",
        "reload_ext": "ExtensionMagics",
        "rep": "Other",
        "rerun": "HistoryMagics",
        "reset": "NamespaceMagics",
        "reset_selective": "NamespaceMagics",
        "rm": "Other",
        "rmdir": "Other",
        "run": "ExecutionMagics",
        "save": "CodeMagics",
        "sc": "OSMagics",
        "set_env": "OSMagics",
        "store": "StoreMagics",
        "sx": "OSMagics",
        "system": "OSMagics",
        "tb": "ExecutionMagics",
        "time": "ExecutionMagics",
        "timeit": "ExecutionMagics",
        "unalias": "OSMagics",
        "unload_ext": "ExtensionMagics",
        "who": "NamespaceMagics",
        "who_ls": "NamespaceMagics",
        "whos": "NamespaceMagics",
        "xdel": "NamespaceMagics",
        "xmode": "BasicMagics"
       }
      },
      "text/plain": [
       "Available line magics:\n",
       "%alias  %alias_magic  %autoawait  %autocall  %automagic  %autosave  %bookmark  %cat  %cd  %clear  %colors  %conda  %config  %connect_info  %cp  %debug  %dhist  %dirs  %doctest_mode  %ed  %edit  %env  %gui  %hist  %history  %killbgscripts  %ldir  %less  %lf  %lk  %ll  %load  %load_ext  %loadpy  %logoff  %logon  %logstart  %logstate  %logstop  %ls  %lsmagic  %lx  %macro  %magic  %man  %matplotlib  %mkdir  %more  %mv  %notebook  %page  %pastebin  %pdb  %pdef  %pdoc  %pfile  %pinfo  %pinfo2  %pip  %popd  %pprint  %precision  %prun  %psearch  %psource  %pushd  %pwd  %pycat  %pylab  %qtconsole  %quickref  %recall  %rehashx  %reload_ext  %rep  %rerun  %reset  %reset_selective  %rm  %rmdir  %run  %save  %sc  %set_env  %store  %sx  %system  %tb  %time  %timeit  %unalias  %unload_ext  %who  %who_ls  %whos  %xdel  %xmode\n",
       "\n",
       "Available cell magics:\n",
       "%%!  %%HTML  %%SVG  %%bash  %%capture  %%debug  %%file  %%html  %%javascript  %%js  %%latex  %%markdown  %%perl  %%prun  %%pypy  %%python  %%python2  %%python3  %%ruby  %%script  %%sh  %%svg  %%sx  %%system  %%time  %%timeit  %%writefile\n",
       "\n",
       "Automagic is ON, % prefix IS NOT needed for line magics."
      ]
     },
     "execution_count": 3,
     "metadata": {},
     "output_type": "execute_result"
    }
   ],
   "source": [
    "%lsmagic"
   ]
  },
  {
   "cell_type": "markdown",
   "metadata": {},
   "source": [
    "## %alias"
   ]
  },
  {
   "cell_type": "code",
   "execution_count": 4,
   "metadata": {
    "ExecuteTime": {
     "end_time": "2019-06-08T14:12:01.221620Z",
     "start_time": "2019-06-08T14:12:00.621871Z"
    }
   },
   "outputs": [
    {
     "name": "stdout",
     "output_type": "stream",
     "text": [
      "Vincent is speaking to Leo.\n",
      "================= This is a magnificent separate line =================\n",
      "\"Stop Laughing! Idiot.\", I said.\n",
      "\"别笑了，白痴。\", I said.\n",
      "================= This is a magnificent separate line =================\n"
     ]
    }
   ],
   "source": [
    "%alias A2B echo %s is speaking to %s.\n",
    "%A2B Vincent Leo\n",
    "\n",
    "!echo \"================= This is a magnificent separate line =================\"\n",
    "\n",
    "%alias ISAY echo \\\"%l\\\", I said.\n",
    "%ISAY Stop Laughing! Idiot.\n",
    "%ISAY 别笑了，白痴。\n",
    "\n",
    "!echo \"================= This is a magnificent separate line =================\"\n",
    "\n",
    "ISAY?"
   ]
  },
  {
   "cell_type": "code",
   "execution_count": 5,
   "metadata": {
    "ExecuteTime": {
     "end_time": "2019-06-08T14:12:01.237676Z",
     "start_time": "2019-06-08T14:12:01.226264Z"
    }
   },
   "outputs": [
    {
     "data": {
      "text/plain": [
       "'/home/vincent/pythonws/jnb-sample/test'"
      ]
     },
     "execution_count": 5,
     "metadata": {},
     "output_type": "execute_result"
    }
   ],
   "source": [
    "%pwd"
   ]
  },
  {
   "cell_type": "code",
   "execution_count": 6,
   "metadata": {
    "ExecuteTime": {
     "end_time": "2019-06-08T14:12:01.312757Z",
     "start_time": "2019-06-08T14:12:01.242895Z"
    }
   },
   "outputs": [
    {
     "data": {
      "text/plain": [
       "['total 92',\n",
       " '-rw-r--r-- 1 vincent vincent  6694 6月   2 03:36 lottery_test.ipynb',\n",
       " '-rw-r--r-- 1 vincent vincent 22660 6月   8 22:10 nb_test.ipynb',\n",
       " '-rw-r--r-- 1 vincent vincent  1592 6月   8 22:11 nb_widget_test.ipynb',\n",
       " '-rw-r--r-- 1 vincent vincent  6443 6月   8 17:16 py_basic_test.ipynb',\n",
       " '-rw-r--r-- 1 vincent vincent  3543 6月   7 22:53 py_class_test.ipynb',\n",
       " '-rw-r--r-- 1 vincent vincent  6726 6月   7 01:10 py_function_file_test.ipynb',\n",
       " '-rw-r--r-- 1 vincent vincent  4271 6月   5 18:47 py_list_test.ipynb',\n",
       " '-rw-r--r-- 1 vincent vincent  8405 6月   5 02:59 py_random_test.ipynb',\n",
       " '-rw-r--r-- 1 vincent vincent  3204 6月   8 02:17 py_re_test.ipynb',\n",
       " '-rw-r--r-- 1 vincent vincent  6921 6月   6 01:50 py_time_test.ipynb',\n",
       " '-rw-rw-r-- 1 vincent vincent    25 6月   7 01:09 sample.txt']"
      ]
     },
     "execution_count": 6,
     "metadata": {},
     "output_type": "execute_result"
    }
   ],
   "source": [
    "%timeit\n",
    "%sx ls -l"
   ]
  },
  {
   "cell_type": "code",
   "execution_count": 7,
   "metadata": {
    "ExecuteTime": {
     "end_time": "2019-06-08T14:12:01.332684Z",
     "start_time": "2019-06-08T14:12:01.314724Z"
    }
   },
   "outputs": [
    {
     "name": "stdout",
     "output_type": "stream",
     "text": [
      "Available matplotlib backends: ['tk', 'gtk', 'gtk3', 'wx', 'qt4', 'qt5', 'qt', 'osx', 'nbagg', 'notebook', 'agg', 'svg', 'pdf', 'ps', 'inline', 'ipympl', 'widget']\n"
     ]
    }
   ],
   "source": [
    "%matplotlib --list"
   ]
  },
  {
   "cell_type": "markdown",
   "metadata": {},
   "source": [
    "## Running javascript in notebook cell."
   ]
  },
  {
   "cell_type": "code",
   "execution_count": 8,
   "metadata": {
    "ExecuteTime": {
     "end_time": "2019-06-08T14:12:01.394562Z",
     "start_time": "2019-06-08T14:12:01.334674Z"
    }
   },
   "outputs": [
    {
     "data": {
      "application/javascript": [
       "\n",
       "if (confirm('This is a javascript sample.\\n\\nPlease click either one button below.')) {\n",
       "    console.log('You chose OK!');           // check this out in browser web console by convention in the sub menu 'Web Developer' in Firefox.\n",
       "    alert('HELLO, Greets from javascript.');\n",
       "} else {\n",
       "    console.log('You chose CANCEL!');  // check this out in browser web console by convention in the sub menu 'Web Developer' in Firefox.\n",
       "    alert('SORRY! You chose CANCEL!');\n",
       "}\n"
      ],
      "text/plain": [
       "<IPython.core.display.Javascript object>"
      ]
     },
     "metadata": {},
     "output_type": "display_data"
    }
   ],
   "source": [
    "%%js\n",
    "\n",
    "if (confirm('This is a javascript sample.\\n\\nPlease click either one button below.')) {\n",
    "    console.log('You chose OK!');           // check this out in browser web console by convention in the sub menu 'Web Developer' in Firefox.\n",
    "    alert('HELLO, Greets from javascript.');\n",
    "} else {\n",
    "    console.log('You chose CANCEL!');  // check this out in browser web console by convention in the sub menu 'Web Developer' in Firefox.\n",
    "    alert('SORRY! You chose CANCEL!');\n",
    "}"
   ]
  }
 ],
 "metadata": {
  "kernelspec": {
   "display_name": "Python 3",
   "language": "python",
   "name": "python3"
  },
  "language_info": {
   "codemirror_mode": {
    "name": "ipython",
    "version": 3
   },
   "file_extension": ".py",
   "mimetype": "text/x-python",
   "name": "python",
   "nbconvert_exporter": "python",
   "pygments_lexer": "ipython3",
   "version": "3.7.3"
  },
  "latex_envs": {
   "LaTeX_envs_menu_present": true,
   "autoclose": false,
   "autocomplete": true,
   "bibliofile": "biblio.bib",
   "cite_by": "apalike",
   "current_citInitial": 1,
   "eqLabelWithNumbers": true,
   "eqNumInitial": 1,
   "hotkeys": {
    "equation": "Ctrl-E",
    "itemize": "Ctrl-I"
   },
   "labels_anchors": false,
   "latex_user_defs": false,
   "report_style_numbering": false,
   "user_envs_cfg": false
  },
  "toc": {
   "base_numbering": 1,
   "nav_menu": {},
   "number_sections": true,
   "sideBar": true,
   "skip_h1_title": false,
   "title_cell": "Table of Contents",
   "title_sidebar": "Contents",
   "toc_cell": false,
   "toc_position": {},
   "toc_section_display": true,
   "toc_window_display": false
  },
  "widgets": {
   "application/vnd.jupyter.widget-state+json": {
    "state": {
     "0d71431f5e30479ebbd90487e29586e6": {
      "model_module": "jupyter-leaflet",
      "model_module_version": "~0.10.2",
      "model_name": "LeafletMapStyleModel",
      "state": {
       "_model_module_version": "~0.10.2",
       "_view_count": null,
       "_view_module": "@jupyter-widgets/base",
       "_view_module_version": "1.1.0",
       "_view_name": "StyleView",
       "cursor": "grab"
      }
     },
     "171967f21df1472998be5af8a6bd5b97": {
      "model_module": "jupyter-leaflet",
      "model_module_version": "~0.10.2",
      "model_name": "LeafletMapStyleModel",
      "state": {
       "_model_module_version": "~0.10.2",
       "_view_count": null,
       "_view_module": "@jupyter-widgets/base",
       "_view_module_version": "1.1.0",
       "_view_name": "StyleView",
       "cursor": "grab"
      }
     },
     "1f2ea3779b04408ab5995fc78fff0e7f": {
      "model_module": "jupyter-leaflet",
      "model_module_version": "~0.10.2",
      "model_name": "LeafletMapStyleModel",
      "state": {
       "_model_module_version": "~0.10.2",
       "_view_count": null,
       "_view_module": "@jupyter-widgets/base",
       "_view_module_version": "1.1.0",
       "_view_name": "StyleView",
       "cursor": "move"
      }
     },
     "242b65e949504cb2b59e521e3c3451f0": {
      "model_module": "jupyter-leaflet",
      "model_module_version": "~0.10.2",
      "model_name": "LeafletMapModel",
      "state": {
       "_dom_classes": [],
       "_model_module_version": "~0.10.2",
       "_view_count": null,
       "_view_module_version": "~0.10.2",
       "basemap": {
        "attribution": "Map data (c) <a href=\"https://openstreetmap.org\">OpenStreetMap</a> contributors",
        "max_zoom": 19,
        "url": "https://{s}.tile.openstreetmap.org/{z}/{x}/{y}.png"
       },
       "center": [
        34,
        -80
       ],
       "default_style": "IPY_MODEL_0d71431f5e30479ebbd90487e29586e6",
       "dragging_style": "IPY_MODEL_1f2ea3779b04408ab5995fc78fff0e7f",
       "east": -79.33914184570314,
       "fullscreen": false,
       "interpolation": "bilinear",
       "layers": [
        "IPY_MODEL_47beb51f4c884e06a0b45cb0981d49a7"
       ],
       "layout": "IPY_MODEL_e020bb7bd4e54785a480ef5b675ddb8d",
       "modisdate": "yesterday",
       "north": 34.227699943873155,
       "options": [
        "attribution_control",
        "basemap",
        "bounce_at_zoom_limits",
        "box_zoom",
        "center",
        "close_popup_on_click",
        "double_click_zoom",
        "dragging",
        "fullscreen",
        "inertia",
        "inertia_deceleration",
        "inertia_max_speed",
        "interpolation",
        "keyboard",
        "keyboard_pan_offset",
        "keyboard_zoom_offset",
        "max_zoom",
        "min_zoom",
        "scroll_wheel_zoom",
        "tap",
        "tap_tolerance",
        "touch_zoom",
        "world_copy_jump",
        "zoom",
        "zoom_animation_threshold",
        "zoom_control",
        "zoom_start"
       ],
       "south": 33.77229828866843,
       "style": "IPY_MODEL_61be1d8d3f214682818f92881d3f7e7a",
       "west": -80.66162109375001,
       "zoom": 10
      }
     },
     "4492241169a5497ca7e97114d5882df9": {
      "model_module": "@jupyter-widgets/base",
      "model_module_version": "1.1.0",
      "model_name": "LayoutModel",
      "state": {}
     },
     "47beb51f4c884e06a0b45cb0981d49a7": {
      "model_module": "jupyter-leaflet",
      "model_module_version": "~0.10.2",
      "model_name": "LeafletTileLayerModel",
      "state": {
       "_model_module_version": "~0.10.2",
       "_view_count": null,
       "_view_module_version": "~0.10.2",
       "base": true,
       "max_zoom": 19,
       "min_zoom": 1,
       "options": [
        "attribution",
        "detect_retina",
        "max_zoom",
        "min_zoom",
        "tile_size"
       ]
      }
     },
     "61be1d8d3f214682818f92881d3f7e7a": {
      "model_module": "jupyter-leaflet",
      "model_module_version": "~0.10.2",
      "model_name": "LeafletMapStyleModel",
      "state": {
       "_model_module_version": "~0.10.2",
       "_view_count": null,
       "_view_module": "@jupyter-widgets/base",
       "_view_module_version": "1.1.0",
       "_view_name": "StyleView",
       "cursor": "grab"
      }
     },
     "73ebf37ae237440fb0fd44051523fc63": {
      "model_module": "jupyter-leaflet",
      "model_module_version": "~0.10.2",
      "model_name": "LeafletTileLayerModel",
      "state": {
       "_model_module_version": "~0.10.2",
       "_view_count": null,
       "_view_module_version": "~0.10.2",
       "base": true,
       "max_zoom": 19,
       "min_zoom": 1,
       "options": [
        "attribution",
        "detect_retina",
        "max_zoom",
        "min_zoom",
        "tile_size"
       ]
      }
     },
     "b89ab4aabd074d47a4a56455d52380ec": {
      "model_module": "jupyter-leaflet",
      "model_module_version": "~0.10.2",
      "model_name": "LeafletMapStyleModel",
      "state": {
       "_model_module_version": "~0.10.2",
       "_view_count": null,
       "_view_module": "@jupyter-widgets/base",
       "_view_module_version": "1.1.0",
       "_view_name": "StyleView",
       "cursor": "grab"
      }
     },
     "c959155c004b431c9bc1044c38a6b274": {
      "model_module": "jupyter-leaflet",
      "model_module_version": "~0.10.2",
      "model_name": "LeafletMapStyleModel",
      "state": {
       "_model_module_version": "~0.10.2",
       "_view_count": null,
       "_view_module": "@jupyter-widgets/base",
       "_view_module_version": "1.1.0",
       "_view_name": "StyleView",
       "cursor": "move"
      }
     },
     "e020bb7bd4e54785a480ef5b675ddb8d": {
      "model_module": "@jupyter-widgets/base",
      "model_module_version": "1.1.0",
      "model_name": "LayoutModel",
      "state": {}
     },
     "faeb229a425e47208b0c3036d581c6a4": {
      "model_module": "jupyter-leaflet",
      "model_module_version": "~0.10.2",
      "model_name": "LeafletMapModel",
      "state": {
       "_dom_classes": [],
       "_model_module_version": "~0.10.2",
       "_view_count": null,
       "_view_module_version": "~0.10.2",
       "basemap": {
        "attribution": "Map data (c) <a href=\"https://openstreetmap.org\">OpenStreetMap</a> contributors",
        "max_zoom": 19,
        "url": "https://{s}.tile.openstreetmap.org/{z}/{x}/{y}.png"
       },
       "center": [
        34,
        -80
       ],
       "default_style": "IPY_MODEL_b89ab4aabd074d47a4a56455d52380ec",
       "dragging_style": "IPY_MODEL_c959155c004b431c9bc1044c38a6b274",
       "east": -79.33914184570314,
       "fullscreen": false,
       "interpolation": "bilinear",
       "layers": [
        "IPY_MODEL_73ebf37ae237440fb0fd44051523fc63"
       ],
       "layout": "IPY_MODEL_4492241169a5497ca7e97114d5882df9",
       "modisdate": "yesterday",
       "north": 34.227699943873155,
       "options": [
        "attribution_control",
        "basemap",
        "bounce_at_zoom_limits",
        "box_zoom",
        "center",
        "close_popup_on_click",
        "double_click_zoom",
        "dragging",
        "fullscreen",
        "inertia",
        "inertia_deceleration",
        "inertia_max_speed",
        "interpolation",
        "keyboard",
        "keyboard_pan_offset",
        "keyboard_zoom_offset",
        "max_zoom",
        "min_zoom",
        "scroll_wheel_zoom",
        "tap",
        "tap_tolerance",
        "touch_zoom",
        "world_copy_jump",
        "zoom",
        "zoom_animation_threshold",
        "zoom_control",
        "zoom_start"
       ],
       "south": 33.77229828866843,
       "style": "IPY_MODEL_171967f21df1472998be5af8a6bd5b97",
       "west": -80.66162109375001,
       "zoom": 10
      }
     }
    },
    "version_major": 2,
    "version_minor": 0
   }
  }
 },
 "nbformat": 4,
 "nbformat_minor": 2
}
