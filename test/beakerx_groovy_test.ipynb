{
 "cells": [
  {
   "cell_type": "code",
   "execution_count": 1,
   "metadata": {
    "ExecuteTime": {
     "end_time": "2019-06-09T15:31:59.048000Z",
     "start_time": "2019-06-09T15:31:59.048+0000"
    }
   },
   "outputs": [
    {
     "data": {
      "application/vnd.jupyter.widget-view+json": {
       "model_id": "3015c259-4131-4814-ae04-f19fcc4acd9f",
       "version_major": 2,
       "version_minor": 0
      },
      "method": "display_data"
     },
     "metadata": {},
     "output_type": "display_data"
    }
   ],
   "source": [
    "def map = [\n",
    "   [a:1, b:2, c:3],\n",
    "   [a:4, b:5, c:6],\n",
    "   [a:7, b:8, c:5]\n",
    "]\n",
    "def display5 = new TableDisplay(map)\n",
    "display5.addCellHighlighter { row, column, tableDisplay ->\n",
    "  if (column == 2) {\n",
    "    display5.values[row][column] < 5 ? Color.RED : Color.GREEN\n",
    "  }\n",
    "}\n",
    "display5"
   ]
  },
  {
   "cell_type": "code",
   "execution_count": 2,
   "metadata": {
    "ExecuteTime": {
     "end_time": "2019-06-09T15:31:59.137000Z",
     "start_time": "2019-06-09T15:31:59.137+0000"
    }
   },
   "outputs": [
    {
     "data": {
      "application/vnd.jupyter.widget-view+json": {
       "model_id": "56016e3c-85f9-46fa-839c-d7aa209d5ad0",
       "version_major": 2,
       "version_minor": 0
      },
      "method": "display_data"
     },
     "metadata": {},
     "output_type": "display_data"
    }
   ],
   "source": [
    "import com.twosigma.beakerx.table.highlight.*\n",
    "\n",
    "def table = new TableDisplay([[1,2,3], \n",
    "                              [3,4,5], \n",
    "                              [6,2,8], \n",
    "                              [6,2,8], \n",
    "                              [6,2,8], \n",
    "                              [6,4,8], \n",
    "                              [6,2,8], \n",
    "                              [6,2,8], \n",
    "                              [6,5,8]], \n",
    "                             ['a', 'b', 'c'], \n",
    "                             ['double', 'double', 'double'])\n",
    "table.addCellHighlighter(TableDisplayCellHighlighter.getUniqueEntriesHighlighter(\"b\", TableDisplayCellHighlighter.FULL_ROW))\n",
    "table"
   ]
  },
  {
   "cell_type": "code",
   "execution_count": 3,
   "metadata": {
    "ExecuteTime": {
     "end_time": "2019-06-09T15:31:59.191000Z",
     "start_time": "2019-06-09T15:31:59.191+0000"
    }
   },
   "outputs": [
    {
     "data": {
      "application/vnd.jupyter.widget-view+json": {
       "model_id": "eb0668f2-e658-4f0b-8ae3-affbfda4fe57",
       "version_major": 2,
       "version_minor": 0
      },
      "method": "display_data"
     },
     "metadata": {},
     "output_type": "display_data"
    }
   ],
   "source": [
    "def myMap = [:]\n",
    "def myList = []\n",
    "myList << [1, 2, 3]\n",
    "myList << [2, 3, 4]\n",
    "myMap.put(1, myList)\n",
    "myMap"
   ]
  },
  {
   "cell_type": "code",
   "execution_count": 4,
   "metadata": {
    "ExecuteTime": {
     "end_time": "2019-06-09T15:31:59.374000Z",
     "start_time": "2019-06-09T15:31:59.374+0000"
    }
   },
   "outputs": [
    {
     "data": {
      "application/vnd.jupyter.widget-view+json": {
       "model_id": "66495c96-da57-42ae-b90d-8b204a45dba7",
       "version_major": 2,
       "version_minor": 0
      },
      "method": "display_data"
     },
     "metadata": {},
     "output_type": "display_data"
    }
   ],
   "source": [
    "p = new Plot()\n",
    "p << new Line(x:[1000, 10000], y:[10000, 10000], width: 10, color: Color.orange)\n",
    "p << new Line(x:[5500, 5500], y:[10000, 9999], width: 10, color: Color.orange)\n",
    "p << new Line(x:[14000, 14000, 15002], y:[900, 901, 901], width: 1, color: Color.blue)\n",
    "p << new Line(x:[14000, 15002, 15002], y:[900, 900, 899], width: 1, color: Color.blue)\n",
    "p << new Line(x:[14000, 15002], y:[899, 899], width: 1, color: Color.blue)"
   ]
  }
 ],
 "metadata": {
  "kernelspec": {
   "display_name": "Groovy",
   "language": "groovy",
   "name": "groovy"
  },
  "language_info": {
   "codemirror_mode": "groovy",
   "file_extension": ".groovy",
   "mimetype": "",
   "name": "Groovy",
   "nbconverter_exporter": "",
   "version": "2.5.6"
  },
  "latex_envs": {
   "LaTeX_envs_menu_present": true,
   "autoclose": false,
   "autocomplete": true,
   "bibliofile": "biblio.bib",
   "cite_by": "apalike",
   "current_citInitial": 1,
   "eqLabelWithNumbers": true,
   "eqNumInitial": 1,
   "hotkeys": {
    "equation": "Ctrl-E",
    "itemize": "Ctrl-I"
   },
   "labels_anchors": false,
   "latex_user_defs": false,
   "report_style_numbering": false,
   "user_envs_cfg": false
  },
  "toc": {
   "base_numbering": 1,
   "nav_menu": {},
   "number_sections": true,
   "sideBar": true,
   "skip_h1_title": false,
   "title_cell": "Table of Contents",
   "title_sidebar": "Contents",
   "toc_cell": false,
   "toc_position": {},
   "toc_section_display": true,
   "toc_window_display": false
  }
 },
 "nbformat": 4,
 "nbformat_minor": 2
}
