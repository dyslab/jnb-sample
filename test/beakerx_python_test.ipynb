{
 "cells": [
  {
   "cell_type": "code",
   "execution_count": 1,
   "metadata": {
    "ExecuteTime": {
     "end_time": "2019-10-31T22:07:37.609365Z",
     "start_time": "2019-10-31T22:07:37.592043Z"
    }
   },
   "outputs": [
    {
     "name": "stderr",
     "output_type": "stream",
     "text": [
      "/home/vincent/anaconda3/lib/python3.7/site-packages/beakerx/tabledisplay/tabledisplay.py:109: FutureWarning: The 'get_values' method is deprecated and will be removed in a future version. Use '.to_numpy()' or '.array' instead.\n",
      "  value = args[0][columnName].get_values()[index]\n"
     ]
    },
    {
     "data": {
      "application/vnd.jupyter.widget-view+json": {
       "model_id": "0ca9c4fd15f9409ea8759d7528506ddf",
       "version_major": 2,
       "version_minor": 0
      }
     },
     "metadata": {},
     "output_type": "display_data"
    }
   ],
   "source": [
    "import pandas as pd\n",
    "from beakerx import *\n",
    "from beakerx.object import beakerx\n",
    "\n",
    "pd.read_csv(\"sample.csv\").head(10)"
   ]
  },
  {
   "cell_type": "code",
   "execution_count": 2,
   "metadata": {
    "ExecuteTime": {
     "end_time": "2019-10-31T22:07:37.656020Z",
     "start_time": "2019-10-31T22:07:37.610736Z"
    }
   },
   "outputs": [
    {
     "data": {
      "application/vnd.jupyter.widget-view+json": {
       "model_id": "2a97e1ca39844c2eb896eeafd4a2864c",
       "version_major": 2,
       "version_minor": 0
      }
     },
     "metadata": {},
     "output_type": "display_data"
    }
   ],
   "source": [
    "TableDisplay([{'y1':4, 'm3':2, 'z2':1}, {'m3':4, 'z2':2}])"
   ]
  },
  {
   "cell_type": "code",
   "execution_count": 3,
   "metadata": {
    "ExecuteTime": {
     "end_time": "2019-10-31T22:07:37.819902Z",
     "start_time": "2019-10-31T22:07:37.658428Z"
    },
    "scrolled": true
   },
   "outputs": [
    {
     "data": {
      "application/vnd.jupyter.widget-view+json": {
       "model_id": "de245facf2484b8487865a13f589a8f4",
       "version_major": 2,
       "version_minor": 0
      }
     },
     "metadata": {},
     "output_type": "display_data"
    }
   ],
   "source": [
    "table = TableDisplay({\n",
    "    'w': '$2 \\\\sigma$',\n",
    "    'x': '<em style=\"color:red\">italic red</em>',\n",
    "    'y': '<b style=\"color:blue\">bold blue</b>',\n",
    "    'z': 'strings without markup work fine too',\n",
    "    'Two Sigma': 'http://twosigma.com',\n",
    "    'BeakerX': 'http://BeakerX.com'\n",
    "})\n",
    "table.setStringFormatForColumn(\"Value\", TableDisplayStringFormat.getHTMLFormat())\n",
    "table"
   ]
  },
  {
   "cell_type": "code",
   "execution_count": 4,
   "metadata": {
    "ExecuteTime": {
     "end_time": "2019-10-31T22:07:37.881009Z",
     "start_time": "2019-10-31T22:07:37.822005Z"
    }
   },
   "outputs": [
    {
     "data": {
      "application/vnd.jupyter.widget-view+json": {
       "model_id": "921ae2dfd25f4f65bb9da0f90abd8f1d",
       "version_major": 2,
       "version_minor": 0
      }
     },
     "metadata": {},
     "output_type": "display_data"
    }
   ],
   "source": [
    "pp = Plot(title=\"Title\",\n",
    "     xLabel=\"Horizontal\",\n",
    "     yLabel=\"Vertical\",\n",
    "     initWidth=500,\n",
    "     initHeight=200)\n",
    "\n",
    "pp.add(YAxis(label=\"Right yAxis\"))\n",
    "pp.add(Bars(displayName=\"Bar\", \n",
    "       x=[1,3,5,7,10], \n",
    "       y=[100, 120,90,100,80], \n",
    "       width=1))\n",
    "\n",
    "pp"
   ]
  },
  {
   "cell_type": "code",
   "execution_count": 5,
   "metadata": {
    "ExecuteTime": {
     "end_time": "2019-10-31T22:07:37.947799Z",
     "start_time": "2019-10-31T22:07:37.882681Z"
    },
    "scrolled": false
   },
   "outputs": [
    {
     "data": {
      "application/vnd.jupyter.widget-view+json": {
       "model_id": "3cce2b607c9e48b495c98d552339aa65",
       "version_major": 2,
       "version_minor": 0
      }
     },
     "metadata": {},
     "output_type": "display_data"
    }
   ],
   "source": [
    "import time\n",
    "\n",
    "millis = current_milli_time()\n",
    "\n",
    "hour = round(1000 * 60 * 60)\n",
    "xs = []\n",
    "ys = []\n",
    "for i in range(11):\n",
    "    xs.append(millis + hour * i)\n",
    "    ys.append(i)\n",
    "\n",
    "plot = TimePlot(timeZone=\"America/New_York\")\n",
    "# list of milliseconds\n",
    "plot.add(Points(x=xs, y=ys, size=10, displayName=\"milliseconds\"))\n",
    "\n",
    "plot"
   ]
  },
  {
   "cell_type": "code",
   "execution_count": 6,
   "metadata": {
    "ExecuteTime": {
     "end_time": "2019-10-31T22:07:38.081971Z",
     "start_time": "2019-10-31T22:07:37.949031Z"
    }
   },
   "outputs": [
    {
     "data": {
      "application/vnd.jupyter.widget-view+json": {
       "model_id": "4b5b8a29cd354ff0b332490e74eeb495",
       "version_major": 2,
       "version_minor": 0
      }
     },
     "metadata": {},
     "output_type": "display_data"
    }
   ],
   "source": [
    "import math\n",
    "\n",
    "points = 100\n",
    "logBase = 10\n",
    "expys = []\n",
    "xs = []\n",
    "\n",
    "for i in range(0, points):\n",
    "  xs.append(i / 15.0)\n",
    "  expys.append(math.exp(xs[i]))\n",
    "\n",
    "\n",
    "cplot = CombinedPlot(xLabel= \"Linear\")\n",
    "logYPlot = Plot(title= \"Linear x, Log y\", yLabel= \"Log\", logY= True, yLogBase= logBase)\n",
    "logYPlot.add(Line(x= xs, y= expys, displayName= \"f(x) = exp(x)\"))\n",
    "logYPlot.add(Line(x= xs, y= xs, displayName= \"g(x) = x\"))\n",
    "cplot.add(logYPlot, 4)\n",
    "\n",
    "linearYPlot = Plot(title= \"Linear x, Linear y\", yLabel= \"Linear\")\n",
    "linearYPlot.add(Line(x= xs, y= expys, displayName= \"f(x) = exp(x)\"))\n",
    "linearYPlot.add(Line(x= xs, y= xs, displayName= \"g(x) = x\"))\n",
    "cplot.add(linearYPlot,4)\n",
    "\n",
    "cplot"
   ]
  },
  {
   "cell_type": "code",
   "execution_count": 7,
   "metadata": {
    "ExecuteTime": {
     "end_time": "2019-10-31T22:07:38.144562Z",
     "start_time": "2019-10-31T22:07:38.084709Z"
    },
    "scrolled": false
   },
   "outputs": [
    {
     "data": {
      "application/vnd.jupyter.widget-view+json": {
       "model_id": "b7e1f376beff479d80821e7ef93aa987",
       "version_major": 2,
       "version_minor": 0
      }
     },
     "metadata": {},
     "output_type": "display_data"
    }
   ],
   "source": [
    "plot = Plot(title= \"Log x, Log y\", xLabel= \"Log\", yLabel= \"Log\",\n",
    "                    logX= True, xLogBase= logBase, logY= True, yLogBase= logBase)\n",
    "\n",
    "plot.add(Line(x= xs, y= expys, displayName= \"f(x) = exp(x)\"))\n",
    "plot.add(Line(x= xs, y= xs, displayName= \"f(x) = x\"))\n",
    "\n",
    "plot"
   ]
  }
 ],
 "metadata": {
  "kernelspec": {
   "display_name": "Python 3",
   "language": "python",
   "name": "python3"
  },
  "language_info": {
   "codemirror_mode": {
    "name": "ipython",
    "version": 3
   },
   "file_extension": ".py",
   "mimetype": "text/x-python",
   "name": "python",
   "nbconvert_exporter": "python",
   "pygments_lexer": "ipython3",
   "version": "3.7.4"
  },
  "latex_envs": {
   "LaTeX_envs_menu_present": true,
   "autoclose": false,
   "autocomplete": true,
   "bibliofile": "biblio.bib",
   "cite_by": "apalike",
   "current_citInitial": 1,
   "eqLabelWithNumbers": true,
   "eqNumInitial": 1,
   "hotkeys": {
    "equation": "Ctrl-E",
    "itemize": "Ctrl-I"
   },
   "labels_anchors": false,
   "latex_user_defs": false,
   "report_style_numbering": false,
   "user_envs_cfg": false
  },
  "toc": {
   "base_numbering": 1,
   "nav_menu": {},
   "number_sections": true,
   "sideBar": true,
   "skip_h1_title": false,
   "title_cell": "Table of Contents",
   "title_sidebar": "Contents",
   "toc_cell": false,
   "toc_position": {},
   "toc_section_display": true,
   "toc_window_display": false
  }
 },
 "nbformat": 4,
 "nbformat_minor": 2
}
