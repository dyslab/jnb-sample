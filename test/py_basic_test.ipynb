{
 "cells": [
  {
   "cell_type": "markdown",
   "metadata": {},
   "source": [
    "# Boolean judgement"
   ]
  },
  {
   "cell_type": "code",
   "execution_count": 1,
   "metadata": {
    "ExecuteTime": {
     "end_time": "2019-06-13T00:10:27.698604Z",
     "start_time": "2019-06-13T00:10:27.694616Z"
    }
   },
   "outputs": [
    {
     "name": "stdout",
     "output_type": "stream",
     "text": [
      "False\n",
      "True\n",
      "False\n",
      "True\n"
     ]
    }
   ],
   "source": [
    "print((-2.3).is_integer())\n",
    "print(\"dys\" in \"dyslab\")\n",
    "print(3 in (1, 13, 6))\n",
    "print(\"b\" in (\"a\", \"b\", \"c\"))"
   ]
  },
  {
   "cell_type": "markdown",
   "metadata": {},
   "source": [
    "# Swap two values"
   ]
  },
  {
   "cell_type": "code",
   "execution_count": 2,
   "metadata": {
    "ExecuteTime": {
     "end_time": "2019-06-13T00:10:27.765184Z",
     "start_time": "2019-06-13T00:10:27.719280Z"
    }
   },
   "outputs": [
    {
     "name": "stdout",
     "output_type": "stream",
     "text": [
      "99 11\n"
     ]
    }
   ],
   "source": [
    "x, y = 11, 99\n",
    "x, y = y, x\n",
    "print(x, y)"
   ]
  },
  {
   "cell_type": "markdown",
   "metadata": {},
   "source": [
    "# Reverse a string (also does well in a list)"
   ]
  },
  {
   "cell_type": "code",
   "execution_count": 3,
   "metadata": {
    "ExecuteTime": {
     "end_time": "2019-06-13T00:10:27.833566Z",
     "start_time": "2019-06-13T00:10:27.766896Z"
    }
   },
   "outputs": [
    {
     "name": "stdout",
     "output_type": "stream",
     "text": [
      "654 syd 杜 fedCBA\n",
      "654 syd 杜 fedCBA"
     ]
    }
   ],
   "source": [
    "source = 'ABCdef 杜 dys 456'\n",
    "\n",
    "for ch in reversed(source):\n",
    "    print(ch, end='')\n",
    "\n",
    "print('')\n",
    "\n",
    "for ch in source[::-1]:\n",
    "    print(ch, end='')"
   ]
  },
  {
   "cell_type": "markdown",
   "metadata": {},
   "source": [
    "# Diamond shape"
   ]
  },
  {
   "cell_type": "code",
   "execution_count": 4,
   "metadata": {
    "ExecuteTime": {
     "end_time": "2019-06-13T00:10:27.884750Z",
     "start_time": "2019-06-13T00:10:27.835712Z"
    }
   },
   "outputs": [
    {
     "name": "stdout",
     "output_type": "stream",
     "text": [
      "     *\n",
      "    ***\n",
      "   *****\n",
      "  *******\n",
      " *********\n",
      "***********\n",
      " *********\n",
      "  *******\n",
      "   *****\n",
      "    ***\n",
      "     *\n"
     ]
    }
   ],
   "source": [
    "lines = 6\n",
    "\n",
    "for x in list(range(lines)) + list(reversed(range(lines-1))):\n",
    "    print(f\"{'': <{lines - x - 1}}{'':*<{x * 2 + 1}}\")"
   ]
  },
  {
   "cell_type": "markdown",
   "metadata": {},
   "source": [
    "# String Built-in Functions"
   ]
  },
  {
   "cell_type": "code",
   "execution_count": 5,
   "metadata": {
    "ExecuteTime": {
     "end_time": "2019-06-13T00:10:27.948846Z",
     "start_time": "2019-06-13T00:10:27.886992Z"
    }
   },
   "outputs": [
    {
     "name": "stdout",
     "output_type": "stream",
     "text": [
      "$$$$$$$$$$$$$$$$$$$$$$$$$$$$$$$$$$$$$$$$\n",
      "We are friends.\n",
      "string**************\n",
      "*******string*******\n",
      "**************string\n",
      "00778899\n",
      "$$$$$$$$$$$$$$$$$$$$$$$$$$$$$$$$$$$$$$$$\n",
      "4\n",
      "False\n",
      "True\n",
      "                A string        A test\n",
      "$$$$$$$$$$$$$$$$$$$$$$$$$$$$$$$$$$$$$$$$\n",
      "19\n",
      "*** index failed. ***\n",
      "$$$$$$$$$$$$$$$$$$$$$$$$$$$$$$$$$$$$$$$$\n",
      "False\n",
      "True\n",
      "True\n",
      "$$$$$$$$$$$$$$$$$$$$$$$$$$$$$$$$$$$$$$$$\n",
      "1 ABC 2 ABC 3 ABC 4 ABC 5\n",
      "         EFG ABC     \n",
      "         abc efg     \n",
      "ABC EFG\n",
      "         xyz 123 UVW     \n",
      "Are You My Friend?\n",
      "$$$$$$$$$$$$$$$$$$$$$$$$$$$$$$$$$$$$$$$$\n",
      "max: [G], min: [A]\n",
      "['abc', 'abcd', 'abcde']\n",
      "['ABC', 'ABCD', 'ABCDE']\n"
     ]
    }
   ],
   "source": [
    "print('$$$$$$$$$$$$$$$$$$$$$$$$$$$$$$$$$$$$$$$$')\n",
    "print('we are friends.'.capitalize())\n",
    "print('string'.ljust(20, '*'))\n",
    "print('string'.center(20, '*'))\n",
    "print('string'.rjust(20, '*'))\n",
    "print('778899'.zfill(8))\n",
    "\n",
    "print('$$$$$$$$$$$$$$$$$$$$$$$$$$$$$$$$$$$$$$$$')\n",
    "print('str is a string as well.'.count('s'))\n",
    "print('str is a string as well.'.startswith('i'))\n",
    "print('str is a string as well.'.endswith('.'))\n",
    "print('\\tA string \\tA test'.expandtabs(16))\n",
    "\n",
    "print('$$$$$$$$$$$$$$$$$$$$$$$$$$$$$$$$$$$$$$$$')\n",
    "print('str is a string as well.'.find('w'))\n",
    "try:\n",
    "    print('str is a string as well.'.index('none'))\n",
    "except:\n",
    "    print('*** index failed. ***')\n",
    "    \n",
    "print('$$$$$$$$$$$$$$$$$$$$$$$$$$$$$$$$$$$$$$$$')\n",
    "print('abc123'.isalpha())\n",
    "print('0123'.isdigit())\n",
    "print('A1234 V123 Sas'.istitle())\n",
    "\n",
    "print('$$$$$$$$$$$$$$$$$$$$$$$$$$$$$$$$$$$$$$$$')\n",
    "print(' ABC '.join('12345'))\n",
    "print('         efg abc     '.upper())\n",
    "print('         ABC EFG     '.lower())\n",
    "print('         ABC EFG     '.strip())\n",
    "print('         XYZ 123 uvw     '.swapcase())\n",
    "print('are you my friend?'.title())\n",
    "\n",
    "print('$$$$$$$$$$$$$$$$$$$$$$$$$$$$$$$$$$$$$$$$')\n",
    "print('max: [{}], min: [{}]'.format(max('ABCDEFG'),min('ABCDEFG')))\n",
    "print('abc*abcd*abcde'.split('*'))\n",
    "print('abc\\nabcd\\nabcde'.upper().splitlines())"
   ]
  }
 ],
 "metadata": {
  "kernelspec": {
   "display_name": "Python 3",
   "language": "python",
   "name": "python3"
  },
  "language_info": {
   "codemirror_mode": {
    "name": "ipython",
    "version": 3
   },
   "file_extension": ".py",
   "mimetype": "text/x-python",
   "name": "python",
   "nbconvert_exporter": "python",
   "pygments_lexer": "ipython3",
   "version": "3.7.3"
  },
  "latex_envs": {
   "LaTeX_envs_menu_present": true,
   "autoclose": false,
   "autocomplete": true,
   "bibliofile": "biblio.bib",
   "cite_by": "apalike",
   "current_citInitial": 1,
   "eqLabelWithNumbers": true,
   "eqNumInitial": 1,
   "hotkeys": {
    "equation": "Ctrl-E",
    "itemize": "Ctrl-I"
   },
   "labels_anchors": false,
   "latex_user_defs": false,
   "report_style_numbering": false,
   "user_envs_cfg": false
  },
  "toc": {
   "base_numbering": 1,
   "nav_menu": {},
   "number_sections": true,
   "sideBar": true,
   "skip_h1_title": false,
   "title_cell": "Table of Contents",
   "title_sidebar": "Contents",
   "toc_cell": false,
   "toc_position": {},
   "toc_section_display": true,
   "toc_window_display": false
  }
 },
 "nbformat": 4,
 "nbformat_minor": 2
}
