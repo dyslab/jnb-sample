{
 "cells": [
  {
   "cell_type": "markdown",
   "metadata": {},
   "source": [
    "# Boolean judgement"
   ]
  },
  {
   "cell_type": "code",
   "execution_count": 1,
   "metadata": {
    "ExecuteTime": {
     "end_time": "2019-06-02T19:22:43.965756Z",
     "start_time": "2019-06-02T19:22:43.960283Z"
    }
   },
   "outputs": [
    {
     "name": "stdout",
     "output_type": "stream",
     "text": [
      "False\n",
      "True\n",
      "False\n",
      "True\n"
     ]
    }
   ],
   "source": [
    "print((-2.3).is_integer())\n",
    "print(\"dys\" in \"dyslab\")\n",
    "print(3 in (1, 13, 6))\n",
    "print(\"b\" in (\"a\", \"b\", \"c\"))"
   ]
  },
  {
   "cell_type": "markdown",
   "metadata": {},
   "source": [
    "# Range list"
   ]
  },
  {
   "cell_type": "code",
   "execution_count": 2,
   "metadata": {
    "ExecuteTime": {
     "end_time": "2019-06-02T19:22:44.017131Z",
     "start_time": "2019-06-02T19:22:43.967899Z"
    }
   },
   "outputs": [
    {
     "name": "stdout",
     "output_type": "stream",
     "text": [
      "[2, 3, 4, 5, 6, 7, 8]\n"
     ]
    }
   ],
   "source": [
    "print(list(range(2, 9)))"
   ]
  },
  {
   "cell_type": "markdown",
   "metadata": {},
   "source": [
    "# Random"
   ]
  },
  {
   "cell_type": "code",
   "execution_count": 3,
   "metadata": {
    "ExecuteTime": {
     "end_time": "2019-06-02T19:22:44.079279Z",
     "start_time": "2019-06-02T19:22:44.019499Z"
    }
   },
   "outputs": [
    {
     "data": {
      "text/plain": [
       "'sog'"
      ]
     },
     "execution_count": 3,
     "metadata": {},
     "output_type": "execute_result"
    }
   ],
   "source": [
    "import random\n",
    "start = ord('a')\n",
    "end = ord('z')\n",
    "result = ''\n",
    "for i in range(3):\n",
    "    result += chr(random.randrange(start, end))\n",
    "result"
   ]
  },
  {
   "cell_type": "code",
   "execution_count": 4,
   "metadata": {
    "ExecuteTime": {
     "end_time": "2019-06-02T19:22:44.223248Z",
     "start_time": "2019-06-02T19:22:44.081766Z"
    }
   },
   "outputs": [
    {
     "data": {
      "text/plain": [
       "'orlesp'"
      ]
     },
     "execution_count": 4,
     "metadata": {},
     "output_type": "execute_result"
    }
   ],
   "source": [
    "import random\n",
    "seed = 'abcdefghijklmnopqrstuvwxyzABCDEFGHIJKLMNOPQRSTUVWXYZ0123456789'\n",
    "result = ''\n",
    "for i in range(6):\n",
    "    result += seed[random.randrange(0, len(seed))]\n",
    "result"
   ]
  },
  {
   "cell_type": "code",
   "execution_count": 5,
   "metadata": {
    "ExecuteTime": {
     "end_time": "2019-06-02T19:22:44.334361Z",
     "start_time": "2019-06-02T19:22:44.226133Z"
    }
   },
   "outputs": [
    {
     "name": "stdout",
     "output_type": "stream",
     "text": [
      "32 bytes random token string: 423b43b8f837585b6ded180d08c014ac1de9806f81971c24e1d9140c8c2a7202\n",
      "32 bytes random URL encrypted string:  qWgA1xWBbghBKz4lnKqgucOI5JmrM6HcTHXLMVzQ_xY\n"
     ]
    }
   ],
   "source": [
    "import secrets\n",
    "print('32 bytes random token string: {}'.format(secrets.token_hex(32)))\n",
    "print('32 bytes random URL encrypted string:  {}'.format(secrets.token_urlsafe(32)))"
   ]
  },
  {
   "cell_type": "markdown",
   "metadata": {},
   "source": [
    "# Reverse a string (also does well in a list)"
   ]
  },
  {
   "cell_type": "code",
   "execution_count": 6,
   "metadata": {
    "ExecuteTime": {
     "end_time": "2019-06-02T19:22:44.375150Z",
     "start_time": "2019-06-02T19:22:44.337731Z"
    }
   },
   "outputs": [
    {
     "name": "stdout",
     "output_type": "stream",
     "text": [
      "654 syd 杜 fedCBA\n",
      "654 syd 杜 fedCBA"
     ]
    }
   ],
   "source": [
    "source = 'ABCdef 杜 dys 456'\n",
    "\n",
    "for ch in reversed(source):\n",
    "    print(ch, end='')\n",
    "\n",
    "print('')\n",
    "\n",
    "for ch in source[::-1]:\n",
    "    print(ch, end='')"
   ]
  },
  {
   "cell_type": "markdown",
   "metadata": {},
   "source": [
    "# Sort a list"
   ]
  },
  {
   "cell_type": "code",
   "execution_count": 7,
   "metadata": {
    "ExecuteTime": {
     "end_time": "2019-06-02T19:22:44.414101Z",
     "start_time": "2019-06-02T19:22:44.376546Z"
    }
   },
   "outputs": [
    {
     "name": "stdout",
     "output_type": "stream",
     "text": [
      "5 12 14 33 33 45 83 95 123 "
     ]
    }
   ],
   "source": [
    "source = [12, 33, 45, 123, 14, 5, 33, 95, 83]\n",
    "\n",
    "for i in sorted(source):\n",
    "    print(i, end=' ')"
   ]
  },
  {
   "cell_type": "markdown",
   "metadata": {},
   "source": [
    "# Enumerate a list"
   ]
  },
  {
   "cell_type": "code",
   "execution_count": 8,
   "metadata": {
    "ExecuteTime": {
     "end_time": "2019-06-02T19:22:44.472563Z",
     "start_time": "2019-06-02T19:22:44.417184Z"
    }
   },
   "outputs": [
    {
     "name": "stdout",
     "output_type": "stream",
     "text": [
      "0. lab\n",
      "1. 老杜\n",
      "2. Willson\n"
     ]
    }
   ],
   "source": [
    "source = ['lab', '老杜', 'Willson']\n",
    "\n",
    "for index, item in enumerate(source):\n",
    "    print('{}. {}'.format(index, item))"
   ]
  },
  {
   "cell_type": "markdown",
   "metadata": {},
   "source": [
    "# Zip lists"
   ]
  },
  {
   "cell_type": "code",
   "execution_count": 9,
   "metadata": {
    "ExecuteTime": {
     "end_time": "2019-06-02T19:22:44.513352Z",
     "start_time": "2019-06-02T19:22:44.474912Z"
    }
   },
   "outputs": [
    {
     "name": "stdout",
     "output_type": "stream",
     "text": [
      "老张： 70分\n",
      "老杜： 80分\n",
      "老李： 66分\n",
      "老王头： 99分\n"
     ]
    }
   ],
   "source": [
    "names = ['老张', '老杜', '老李', '老王头']\n",
    "marks = [70, 80, 66, 99]\n",
    "\n",
    "for name, mark in zip(names, marks):\n",
    "    print('{}：{:>3}分'.format(name, mark))"
   ]
  },
  {
   "cell_type": "markdown",
   "metadata": {},
   "source": [
    "# Diamond shape"
   ]
  },
  {
   "cell_type": "code",
   "execution_count": 10,
   "metadata": {
    "ExecuteTime": {
     "end_time": "2019-06-02T19:22:44.593480Z",
     "start_time": "2019-06-02T19:22:44.515357Z"
    }
   },
   "outputs": [
    {
     "name": "stdout",
     "output_type": "stream",
     "text": [
      "     *\n",
      "    ***\n",
      "   *****\n",
      "  *******\n",
      " *********\n",
      "  *******\n",
      "   *****\n",
      "    ***\n",
      "     *\n"
     ]
    }
   ],
   "source": [
    "lines = 5\n",
    "\n",
    "for x in list(range(lines)) + list(reversed(range(lines-1))):\n",
    "    print(f\"{'': <{lines - x - 1}} {'':*<{x * 2 + 1}}\")"
   ]
  },
  {
   "cell_type": "markdown",
   "metadata": {},
   "source": [
    "# Guess number"
   ]
  },
  {
   "cell_type": "code",
   "execution_count": 11,
   "metadata": {
    "ExecuteTime": {
     "end_time": "2019-06-02T19:23:16.866179Z",
     "start_time": "2019-06-02T19:22:44.599535Z"
    }
   },
   "outputs": [
    {
     "name": "stdout",
     "output_type": "stream",
     "text": [
      "输入一个数（0-99）：50\n",
      "太大了😓  \n",
      "输入一个数（0-99）：10\n",
      "太小了😓  \n",
      "输入一个数（0-99）：30\n",
      "太大了😑  \n",
      "输入一个数（0-99）：20\n",
      "太小了😓  \n",
      "输入一个数（0-99）：25\n",
      "太大了😴  \n",
      "输入一个数（0-99）：23\n",
      "太大了😑  \n",
      "输入一个数（0-99）：22\n",
      "你赢了！👋 👋 👋 \n"
     ]
    }
   ],
   "source": [
    "import random\n",
    "\n",
    "emojis = ['😪','😑','🤔','😴','😓']\n",
    "random_num = random.randint(0,100)\n",
    "your_num = -1\n",
    "while your_num != random_num:\n",
    "    if your_num != -1:\n",
    "        if your_num > random_num:\n",
    "            print('太大了{:<3}'.format(emojis[random.randint(0,len(emojis)-1)]))\n",
    "        else:\n",
    "            print('太小了{:<3}'.format(emojis[random.randint(0,len(emojis)-1)]))\n",
    "    your_num = int(input('输入一个数（0-99）：'))\n",
    "print('你赢了！👋 👋 👋 ')"
   ]
  }
 ],
 "metadata": {
  "kernelspec": {
   "display_name": "Python 3",
   "language": "python",
   "name": "python3"
  },
  "language_info": {
   "codemirror_mode": {
    "name": "ipython",
    "version": 3
   },
   "file_extension": ".py",
   "mimetype": "text/x-python",
   "name": "python",
   "nbconvert_exporter": "python",
   "pygments_lexer": "ipython3",
   "version": "3.6.8"
  },
  "toc": {
   "base_numbering": 1,
   "nav_menu": {},
   "number_sections": true,
   "sideBar": true,
   "skip_h1_title": false,
   "title_cell": "Table of Contents",
   "title_sidebar": "Contents",
   "toc_cell": false,
   "toc_position": {},
   "toc_section_display": true,
   "toc_window_display": false
  }
 },
 "nbformat": 4,
 "nbformat_minor": 2
}
