{
 "cells": [
  {
   "cell_type": "markdown",
   "metadata": {},
   "source": [
    "# Random Number Functions Test"
   ]
  },
  {
   "cell_type": "markdown",
   "metadata": {},
   "source": [
    "## choice/shuffle/sample"
   ]
  },
  {
   "cell_type": "code",
   "execution_count": 1,
   "metadata": {
    "ExecuteTime": {
     "end_time": "2019-06-04T17:44:43.907218Z",
     "start_time": "2019-06-04T17:44:43.896799Z"
    }
   },
   "outputs": [
    {
     "name": "stdout",
     "output_type": "stream",
     "text": [
      "################# choice #################\n",
      "66\n",
      "77\n",
      "44\n",
      "################# shuffle #################\n",
      "[11, 22, 33, 44, 55, 66, 77, 88, 99]\n",
      "[88, 55, 44, 11, 99, 22, 66, 33, 77]\n",
      "################# sample #################\n",
      "[88, 44, 11, 22, 99]\n"
     ]
    }
   ],
   "source": [
    "import random\n",
    "\n",
    "t = [11, 22, 33, 44, 55, 66, 77, 88, 99]\n",
    "print('################# choice #################')\n",
    "print(random.choice(t))\n",
    "print(random.choice(t))\n",
    "print(random.choice(t))\n",
    "\n",
    "print('################# shuffle #################')\n",
    "print(t)\n",
    "random.shuffle(t)\n",
    "print(t)\n",
    "\n",
    "print('################# sample #################')\n",
    "print(random.sample(t, 5))"
   ]
  },
  {
   "cell_type": "markdown",
   "metadata": {},
   "source": [
    "## random/seed"
   ]
  },
  {
   "cell_type": "code",
   "execution_count": 2,
   "metadata": {
    "ExecuteTime": {
     "end_time": "2019-06-04T17:44:43.984356Z",
     "start_time": "2019-06-04T17:44:43.909949Z"
    }
   },
   "outputs": [
    {
     "name": "stdout",
     "output_type": "stream",
     "text": [
      "################# random #################\n",
      "0.7953382957926116\n",
      "0.9521487597244246\n",
      "0.8107212859781863\n",
      "################# seed #################\n",
      "0.3974888769814575\n",
      "0.3974888769814575\n",
      "0.3974888769814575\n"
     ]
    }
   ],
   "source": [
    "print('################# random #################')\n",
    "print(random.random())\n",
    "print(random.random())\n",
    "print(random.random())\n",
    "\n",
    "print('################# seed #################')\n",
    "random.seed(88)\n",
    "print(random.random())\n",
    "random.seed(88)\n",
    "print(random.random())\n",
    "random.seed(88)\n",
    "print(random.random())"
   ]
  },
  {
   "cell_type": "markdown",
   "metadata": {},
   "source": [
    "## randrange/randint/uniform"
   ]
  },
  {
   "cell_type": "code",
   "execution_count": 3,
   "metadata": {
    "ExecuteTime": {
     "end_time": "2019-06-04T17:44:44.038214Z",
     "start_time": "2019-06-04T17:44:43.989286Z"
    }
   },
   "outputs": [
    {
     "name": "stdout",
     "output_type": "stream",
     "text": [
      "################# randrange #################\n",
      "9\n",
      "10\n",
      "28\n",
      "################# randint #################\n",
      "12\n",
      "20\n",
      "10\n",
      "################# uniform #################\n",
      "15.2667187726826\n",
      "16.967267022119024\n",
      "18.52481218735721\n"
     ]
    }
   ],
   "source": [
    "print('################# randrange #################')\n",
    "print(random.randrange(0, 30, 3))\n",
    "print(random.randrange(0, 30, 2))\n",
    "print(random.randrange(0, 30, 1))\n",
    "\n",
    "print('################# randint #################')\n",
    "print(random.randint(10, 20))\n",
    "print(random.randint(10, 20))\n",
    "print(random.randint(10, 20))\n",
    "\n",
    "print('################# uniform #################')\n",
    "print(random.uniform(10,20))\n",
    "print(random.uniform(10,20))\n",
    "print(random.uniform(10,20))"
   ]
  }
 ],
 "metadata": {
  "kernelspec": {
   "display_name": "Python 3",
   "language": "python",
   "name": "python3"
  },
  "language_info": {
   "codemirror_mode": {
    "name": "ipython",
    "version": 3
   },
   "file_extension": ".py",
   "mimetype": "text/x-python",
   "name": "python",
   "nbconvert_exporter": "python",
   "pygments_lexer": "ipython3",
   "version": "3.6.8"
  },
  "toc": {
   "base_numbering": 1,
   "nav_menu": {},
   "number_sections": true,
   "sideBar": true,
   "skip_h1_title": false,
   "title_cell": "Table of Contents",
   "title_sidebar": "Contents",
   "toc_cell": false,
   "toc_position": {},
   "toc_section_display": true,
   "toc_window_display": false
  }
 },
 "nbformat": 4,
 "nbformat_minor": 2
}
