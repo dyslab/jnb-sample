{
 "cells": [
  {
   "cell_type": "markdown",
   "metadata": {},
   "source": [
    "# Random Number Functions Test"
   ]
  },
  {
   "cell_type": "markdown",
   "metadata": {},
   "source": [
    "## choice/shuffle/sample"
   ]
  },
  {
   "cell_type": "code",
   "execution_count": 1,
   "metadata": {
    "ExecuteTime": {
     "end_time": "2019-06-13T00:13:27.531370Z",
     "start_time": "2019-06-13T00:13:27.526019Z"
    }
   },
   "outputs": [
    {
     "name": "stdout",
     "output_type": "stream",
     "text": [
      "################# choice #################\n",
      "33\n",
      "33\n",
      "99\n",
      "################# shuffle #################\n",
      "[11, 22, 33, 44, 55, 66, 77, 88, 99]\n",
      "[88, 22, 66, 44, 33, 11, 99, 55, 77]\n",
      "################# sample #################\n",
      "[33, 44, 11, 55, 66]\n"
     ]
    }
   ],
   "source": [
    "import random\n",
    "\n",
    "t = [11, 22, 33, 44, 55, 66, 77, 88, 99]\n",
    "print('################# choice #################')\n",
    "print(random.choice(t))\n",
    "print(random.choice(t))\n",
    "print(random.choice(t))\n",
    "\n",
    "print('################# shuffle #################')\n",
    "print(t)\n",
    "random.shuffle(t)\n",
    "print(t)\n",
    "\n",
    "print('################# sample #################')\n",
    "print(random.sample(t, 5))"
   ]
  },
  {
   "cell_type": "markdown",
   "metadata": {},
   "source": [
    "## random/seed"
   ]
  },
  {
   "cell_type": "code",
   "execution_count": 2,
   "metadata": {
    "ExecuteTime": {
     "end_time": "2019-06-13T00:13:27.592603Z",
     "start_time": "2019-06-13T00:13:27.554482Z"
    }
   },
   "outputs": [
    {
     "name": "stdout",
     "output_type": "stream",
     "text": [
      "################# random #################\n",
      "0.8704571383941399\n",
      "0.5378727032354476\n",
      "0.896617231042824\n",
      "################# seed #################\n",
      "0.3974888769814575\n",
      "0.3974888769814575\n",
      "0.3974888769814575\n"
     ]
    }
   ],
   "source": [
    "print('################# random #################')\n",
    "print(random.random())\n",
    "print(random.random())\n",
    "print(random.random())\n",
    "\n",
    "print('################# seed #################')\n",
    "random.seed(88)\n",
    "print(random.random())\n",
    "random.seed(88)\n",
    "print(random.random())\n",
    "random.seed(88)\n",
    "print(random.random())"
   ]
  },
  {
   "cell_type": "markdown",
   "metadata": {},
   "source": [
    "## randrange/randint/uniform"
   ]
  },
  {
   "cell_type": "code",
   "execution_count": 3,
   "metadata": {
    "ExecuteTime": {
     "end_time": "2019-06-13T00:13:27.642550Z",
     "start_time": "2019-06-13T00:13:27.594643Z"
    }
   },
   "outputs": [
    {
     "name": "stdout",
     "output_type": "stream",
     "text": [
      "################# randrange #################\n",
      "9\n",
      "10\n",
      "28\n",
      "################# randint #################\n",
      "12\n",
      "20\n",
      "10\n",
      "################# uniform #################\n",
      "15.2667187726826\n",
      "16.967267022119024\n",
      "18.52481218735721\n"
     ]
    }
   ],
   "source": [
    "print('################# randrange #################')\n",
    "print(random.randrange(0, 30, 3))\n",
    "print(random.randrange(0, 30, 2))\n",
    "print(random.randrange(0, 30, 1))\n",
    "\n",
    "print('################# randint #################')\n",
    "print(random.randint(10, 20))\n",
    "print(random.randint(10, 20))\n",
    "print(random.randint(10, 20))\n",
    "\n",
    "print('################# uniform #################')\n",
    "print(random.uniform(10,20))\n",
    "print(random.uniform(10,20))\n",
    "print(random.uniform(10,20))"
   ]
  },
  {
   "cell_type": "markdown",
   "metadata": {},
   "source": [
    "# Random Gadgets"
   ]
  },
  {
   "cell_type": "markdown",
   "metadata": {},
   "source": [
    "## Random Lowercase String"
   ]
  },
  {
   "cell_type": "code",
   "execution_count": 4,
   "metadata": {
    "ExecuteTime": {
     "end_time": "2019-06-13T00:13:27.705732Z",
     "start_time": "2019-06-13T00:13:27.644665Z"
    }
   },
   "outputs": [
    {
     "data": {
      "text/plain": [
       "'voehdw'"
      ]
     },
     "execution_count": 4,
     "metadata": {},
     "output_type": "execute_result"
    }
   ],
   "source": [
    "import random\n",
    "start = ord('a')\n",
    "end = ord('z')\n",
    "result = ''\n",
    "for i in range(6):\n",
    "    result += chr(random.randrange(start, end))\n",
    "result"
   ]
  },
  {
   "cell_type": "markdown",
   "metadata": {},
   "source": [
    "## Random String From Given Characters"
   ]
  },
  {
   "cell_type": "code",
   "execution_count": 5,
   "metadata": {
    "ExecuteTime": {
     "end_time": "2019-06-13T00:13:27.794071Z",
     "start_time": "2019-06-13T00:13:27.707715Z"
    }
   },
   "outputs": [
    {
     "data": {
      "text/plain": [
       "'iMlCAu'"
      ]
     },
     "execution_count": 5,
     "metadata": {},
     "output_type": "execute_result"
    }
   ],
   "source": [
    "import random\n",
    "seed = 'abcdefghijklmnopqrstuvwxyzABCDEFGHIJKLMNOPQRSTUVWXYZ0123456789'\n",
    "result = ''\n",
    "for i in range(6):\n",
    "    result += seed[random.randrange(0, len(seed))]\n",
    "result"
   ]
  },
  {
   "cell_type": "markdown",
   "metadata": {},
   "source": [
    "## Random Token String And Encrypted URL String"
   ]
  },
  {
   "cell_type": "code",
   "execution_count": 6,
   "metadata": {
    "ExecuteTime": {
     "end_time": "2019-06-13T00:13:27.858952Z",
     "start_time": "2019-06-13T00:13:27.796250Z"
    }
   },
   "outputs": [
    {
     "name": "stdout",
     "output_type": "stream",
     "text": [
      "32 bytes random token string: e67b60fbf5a6d159c816b97a93539db9e9d7ef5d35d15fc6170aef34fa93c62a\n",
      "32 bytes random encrypted URL string:  tgGEGT3_ratjc8taDOEb0tNYbQAdzWdAE85-xHgDSkI\n"
     ]
    }
   ],
   "source": [
    "import secrets\n",
    "print('32 bytes random token string: {}'.format(secrets.token_hex(32)))\n",
    "print('32 bytes random encrypted URL string:  {}'.format(secrets.token_urlsafe(32)))"
   ]
  },
  {
   "cell_type": "markdown",
   "metadata": {},
   "source": [
    "## 0-100 Random Number Guessing"
   ]
  },
  {
   "cell_type": "code",
   "execution_count": 7,
   "metadata": {
    "ExecuteTime": {
     "end_time": "2019-06-13T00:13:45.964502Z",
     "start_time": "2019-06-13T00:13:27.861341Z"
    }
   },
   "outputs": [
    {
     "name": "stdout",
     "output_type": "stream",
     "text": [
      "输入一个数（0-99）：30\n",
      "太小了😴  \n",
      "输入一个数（0-99）：60\n",
      "太小了😑  \n",
      "输入一个数（0-99）：70\n",
      "太小了🤔  \n",
      "输入一个数（0-99）：90\n",
      "太大了😑  \n",
      "输入一个数（0-99）：86\n",
      "太大了😪  \n",
      "输入一个数（0-99）：81\n",
      "太小了😴  \n",
      "输入一个数（0-99）：83\n",
      "太小了🤔  \n",
      "输入一个数（0-99）：84\n",
      "太小了😪  \n",
      "输入一个数（0-99）：85\n",
      "你赢了！👋 👋 👋 \n"
     ]
    }
   ],
   "source": [
    "import random\n",
    "\n",
    "emojis = ['😪','😑','🤔','😴','😓']\n",
    "random_num = random.randint(0,100)\n",
    "your_num = -1\n",
    "while your_num != random_num:\n",
    "    if your_num != -1:\n",
    "        if your_num > random_num:\n",
    "            print('太大了{:<3}'.format(emojis[random.randint(0,len(emojis)-1)]))\n",
    "        else:\n",
    "            print('太小了{:<3}'.format(emojis[random.randint(0,len(emojis)-1)]))\n",
    "    your_num = int(input('输入一个数（0-99）：'))\n",
    "print('你赢了！👋 👋 👋 ')"
   ]
  }
 ],
 "metadata": {
  "kernelspec": {
   "display_name": "Python 3",
   "language": "python",
   "name": "python3"
  },
  "language_info": {
   "codemirror_mode": {
    "name": "ipython",
    "version": 3
   },
   "file_extension": ".py",
   "mimetype": "text/x-python",
   "name": "python",
   "nbconvert_exporter": "python",
   "pygments_lexer": "ipython3",
   "version": "3.7.3"
  },
  "latex_envs": {
   "LaTeX_envs_menu_present": true,
   "autoclose": false,
   "autocomplete": true,
   "bibliofile": "biblio.bib",
   "cite_by": "apalike",
   "current_citInitial": 1,
   "eqLabelWithNumbers": true,
   "eqNumInitial": 1,
   "hotkeys": {
    "equation": "Ctrl-E",
    "itemize": "Ctrl-I"
   },
   "labels_anchors": false,
   "latex_user_defs": false,
   "report_style_numbering": false,
   "user_envs_cfg": false
  },
  "toc": {
   "base_numbering": 1,
   "nav_menu": {},
   "number_sections": true,
   "sideBar": true,
   "skip_h1_title": false,
   "title_cell": "Table of Contents",
   "title_sidebar": "Contents",
   "toc_cell": false,
   "toc_position": {},
   "toc_section_display": true,
   "toc_window_display": false
  }
 },
 "nbformat": 4,
 "nbformat_minor": 2
}
