{
 "cells": [
  {
   "cell_type": "markdown",
   "metadata": {},
   "source": [
    "# Random Number Functions Test"
   ]
  },
  {
   "cell_type": "markdown",
   "metadata": {},
   "source": [
    "## choice/shuffle/sample"
   ]
  },
  {
   "cell_type": "code",
   "execution_count": 1,
   "metadata": {
    "ExecuteTime": {
     "end_time": "2019-06-04T18:58:37.874187Z",
     "start_time": "2019-06-04T18:58:37.868791Z"
    }
   },
   "outputs": [
    {
     "name": "stdout",
     "output_type": "stream",
     "text": [
      "################# choice #################\n",
      "44\n",
      "22\n",
      "99\n",
      "################# shuffle #################\n",
      "[11, 22, 33, 44, 55, 66, 77, 88, 99]\n",
      "[99, 33, 77, 66, 11, 22, 88, 44, 55]\n",
      "################# sample #################\n",
      "[99, 44, 33, 77, 11]\n"
     ]
    }
   ],
   "source": [
    "import random\n",
    "\n",
    "t = [11, 22, 33, 44, 55, 66, 77, 88, 99]\n",
    "print('################# choice #################')\n",
    "print(random.choice(t))\n",
    "print(random.choice(t))\n",
    "print(random.choice(t))\n",
    "\n",
    "print('################# shuffle #################')\n",
    "print(t)\n",
    "random.shuffle(t)\n",
    "print(t)\n",
    "\n",
    "print('################# sample #################')\n",
    "print(random.sample(t, 5))"
   ]
  },
  {
   "cell_type": "markdown",
   "metadata": {},
   "source": [
    "## random/seed"
   ]
  },
  {
   "cell_type": "code",
   "execution_count": 2,
   "metadata": {
    "ExecuteTime": {
     "end_time": "2019-06-04T18:58:37.925911Z",
     "start_time": "2019-06-04T18:58:37.876421Z"
    }
   },
   "outputs": [
    {
     "name": "stdout",
     "output_type": "stream",
     "text": [
      "################# random #################\n",
      "0.8221501082702917\n",
      "0.6131858429591226\n",
      "0.7087511395999705\n",
      "################# seed #################\n",
      "0.3974888769814575\n",
      "0.3974888769814575\n",
      "0.3974888769814575\n"
     ]
    }
   ],
   "source": [
    "print('################# random #################')\n",
    "print(random.random())\n",
    "print(random.random())\n",
    "print(random.random())\n",
    "\n",
    "print('################# seed #################')\n",
    "random.seed(88)\n",
    "print(random.random())\n",
    "random.seed(88)\n",
    "print(random.random())\n",
    "random.seed(88)\n",
    "print(random.random())"
   ]
  },
  {
   "cell_type": "markdown",
   "metadata": {},
   "source": [
    "## randrange/randint/uniform"
   ]
  },
  {
   "cell_type": "code",
   "execution_count": 3,
   "metadata": {
    "ExecuteTime": {
     "end_time": "2019-06-04T18:58:38.027475Z",
     "start_time": "2019-06-04T18:58:37.928768Z"
    }
   },
   "outputs": [
    {
     "name": "stdout",
     "output_type": "stream",
     "text": [
      "################# randrange #################\n",
      "9\n",
      "10\n",
      "28\n",
      "################# randint #################\n",
      "12\n",
      "20\n",
      "10\n",
      "################# uniform #################\n",
      "15.2667187726826\n",
      "16.967267022119024\n",
      "18.52481218735721\n"
     ]
    }
   ],
   "source": [
    "print('################# randrange #################')\n",
    "print(random.randrange(0, 30, 3))\n",
    "print(random.randrange(0, 30, 2))\n",
    "print(random.randrange(0, 30, 1))\n",
    "\n",
    "print('################# randint #################')\n",
    "print(random.randint(10, 20))\n",
    "print(random.randint(10, 20))\n",
    "print(random.randint(10, 20))\n",
    "\n",
    "print('################# uniform #################')\n",
    "print(random.uniform(10,20))\n",
    "print(random.uniform(10,20))\n",
    "print(random.uniform(10,20))"
   ]
  },
  {
   "cell_type": "markdown",
   "metadata": {},
   "source": [
    "# Random Gadgets"
   ]
  },
  {
   "cell_type": "markdown",
   "metadata": {},
   "source": [
    "## Random Lowercase String"
   ]
  },
  {
   "cell_type": "code",
   "execution_count": 4,
   "metadata": {
    "ExecuteTime": {
     "end_time": "2019-06-04T18:58:38.085414Z",
     "start_time": "2019-06-04T18:58:38.031169Z"
    }
   },
   "outputs": [
    {
     "data": {
      "text/plain": [
       "'voehdw'"
      ]
     },
     "execution_count": 4,
     "metadata": {},
     "output_type": "execute_result"
    }
   ],
   "source": [
    "import random\n",
    "start = ord('a')\n",
    "end = ord('z')\n",
    "result = ''\n",
    "for i in range(6):\n",
    "    result += chr(random.randrange(start, end))\n",
    "result"
   ]
  },
  {
   "cell_type": "markdown",
   "metadata": {},
   "source": [
    "## Random String From Given Characters"
   ]
  },
  {
   "cell_type": "code",
   "execution_count": 5,
   "metadata": {
    "ExecuteTime": {
     "end_time": "2019-06-04T18:58:38.180248Z",
     "start_time": "2019-06-04T18:58:38.087328Z"
    }
   },
   "outputs": [
    {
     "data": {
      "text/plain": [
       "'iMlCAu'"
      ]
     },
     "execution_count": 5,
     "metadata": {},
     "output_type": "execute_result"
    }
   ],
   "source": [
    "import random\n",
    "seed = 'abcdefghijklmnopqrstuvwxyzABCDEFGHIJKLMNOPQRSTUVWXYZ0123456789'\n",
    "result = ''\n",
    "for i in range(6):\n",
    "    result += seed[random.randrange(0, len(seed))]\n",
    "result"
   ]
  },
  {
   "cell_type": "markdown",
   "metadata": {},
   "source": [
    "## Random Token String And Encrypted URL String"
   ]
  },
  {
   "cell_type": "code",
   "execution_count": 6,
   "metadata": {
    "ExecuteTime": {
     "end_time": "2019-06-04T18:58:38.233102Z",
     "start_time": "2019-06-04T18:58:38.184322Z"
    }
   },
   "outputs": [
    {
     "name": "stdout",
     "output_type": "stream",
     "text": [
      "32 bytes random token string: a87688f14384fe175f9dfaa1bea542e21c8ab9d675f632747fc4d11f2fc643dd\n",
      "32 bytes random encrypted URL string:  5Uj_wMtPe5_KHrO2nhfl36tGtv73x1-uddAKQ4-GqoI\n"
     ]
    }
   ],
   "source": [
    "import secrets\n",
    "print('32 bytes random token string: {}'.format(secrets.token_hex(32)))\n",
    "print('32 bytes random encrypted URL string:  {}'.format(secrets.token_urlsafe(32)))"
   ]
  },
  {
   "cell_type": "markdown",
   "metadata": {},
   "source": [
    "## 0-100 Random Number Guessing"
   ]
  },
  {
   "cell_type": "code",
   "execution_count": 7,
   "metadata": {
    "ExecuteTime": {
     "end_time": "2019-06-04T18:58:54.644412Z",
     "start_time": "2019-06-04T18:58:38.235501Z"
    }
   },
   "outputs": [
    {
     "name": "stdout",
     "output_type": "stream",
     "text": [
      "输入一个数（0-99）：50\n",
      "太小了😴  \n",
      "输入一个数（0-99）：60\n",
      "太小了😑  \n",
      "输入一个数（0-99）：80\n",
      "太小了🤔  \n",
      "输入一个数（0-99）：90\n",
      "太大了😑  \n",
      "输入一个数（0-99）：85\n",
      "你赢了！👋 👋 👋 \n"
     ]
    }
   ],
   "source": [
    "import random\n",
    "\n",
    "emojis = ['😪','😑','🤔','😴','😓']\n",
    "random_num = random.randint(0,100)\n",
    "your_num = -1\n",
    "while your_num != random_num:\n",
    "    if your_num != -1:\n",
    "        if your_num > random_num:\n",
    "            print('太大了{:<3}'.format(emojis[random.randint(0,len(emojis)-1)]))\n",
    "        else:\n",
    "            print('太小了{:<3}'.format(emojis[random.randint(0,len(emojis)-1)]))\n",
    "    your_num = int(input('输入一个数（0-99）：'))\n",
    "print('你赢了！👋 👋 👋 ')"
   ]
  }
 ],
 "metadata": {
  "kernelspec": {
   "display_name": "Python 3",
   "language": "python",
   "name": "python3"
  },
  "language_info": {
   "codemirror_mode": {
    "name": "ipython",
    "version": 3
   },
   "file_extension": ".py",
   "mimetype": "text/x-python",
   "name": "python",
   "nbconvert_exporter": "python",
   "pygments_lexer": "ipython3",
   "version": "3.6.8"
  },
  "toc": {
   "base_numbering": 1,
   "nav_menu": {},
   "number_sections": true,
   "sideBar": true,
   "skip_h1_title": false,
   "title_cell": "Table of Contents",
   "title_sidebar": "Contents",
   "toc_cell": false,
   "toc_position": {},
   "toc_section_display": true,
   "toc_window_display": false
  }
 },
 "nbformat": 4,
 "nbformat_minor": 2
}
